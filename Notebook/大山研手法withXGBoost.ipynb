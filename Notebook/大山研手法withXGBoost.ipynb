{
 "cells": [
  {
   "cell_type": "code",
   "execution_count": 37,
   "metadata": {},
   "outputs": [
    {
     "data": {
      "text/html": [
       "<style>.container { width:90% !important; }</style>"
      ],
      "text/plain": [
       "<IPython.core.display.HTML object>"
      ]
     },
     "metadata": {},
     "output_type": "display_data"
    }
   ],
   "source": [
    "import xgboost as xgb\n",
    "import numpy as np\n",
    "\n",
    "from sklearn.model_selection import train_test_split\n",
    "from sklearn.metrics import confusion_matrix\n",
    "from sklearn.model_selection import GridSearchCV\n",
    "\n",
    "import seaborn as sns\n",
    "sns.set(font='Yu Gothic')\n",
    "import matplotlib.pyplot as plt\n",
    "%matplotlib inline\n",
    "\n",
    "from IPython.core.display import display, HTML\n",
    "display(HTML(\"<style>.container { width:90% !important; }</style>\"))"
   ]
  },
  {
   "cell_type": "code",
   "execution_count": 17,
   "metadata": {
    "scrolled": true
   },
   "outputs": [
    {
     "name": "stdout",
     "output_type": "stream",
     "text": [
      "Wall time: 460 ms\n"
     ]
    }
   ],
   "source": [
    "%%time\n",
    "train_Bag = np.vstack([np.load(\"train_Bag_glo_xy_mean.npy\"), np.load(\"train_Bag_glo_xy_var.npy\"),\n",
    "                           np.load(\"train_Bag_glo_z_mean.npy\"), np.load(\"train_Bag_glo_z_var.npy\"),\n",
    "                           np.load(\"train_Bag_pressure_change.npy\")]).T\n",
    "\n",
    "train_Hips = np.vstack([np.load(\"train_Hips_glo_accel_xy_mean.npy\"), np.load(\"train_Hips_glo_accel_xy_var.npy\"),\n",
    "                           np.load(\"train_Hips_glo_accel_z_mean.npy\"), np.load(\"train_Hips_glo_accel_z_var.npy\"),\n",
    "                           np.load(\"train_Hips_pressure_change.npy\")]).T\n",
    "\n",
    "train_Torso = np.vstack([np.load(\"train_Torso_glo_accel_xy_mean.npy\"), np.load(\"train_Torso_glo_accel_xy_var.npy\"),\n",
    "                           np.load(\"train_Torso_glo_accel_z_mean.npy\"), np.load(\"train_Torso_glo_accel_z_var.npy\"),\n",
    "                           np.load(\"train_Torso_pressure_change.npy\")]).T\n",
    "\n",
    "train_Hand = np.vstack([np.load(\"train_Hand_glo_accel_xy_mean.npy\"), np.load(\"train_Hand_glo_accel_xy_var.npy\"),\n",
    "                           np.load(\"train_Hand_glo_accel_z_mean.npy\"), np.load(\"train_Hand_glo_accel_z_var.npy\"),\n",
    "                           np.load(\"train_Hand_pressure_change.npy\")]).T"
   ]
  },
  {
   "cell_type": "code",
   "execution_count": 18,
   "metadata": {},
   "outputs": [
    {
     "data": {
      "text/plain": [
       "(195491, 500, 1)"
      ]
     },
     "execution_count": 18,
     "metadata": {},
     "output_type": "execute_result"
    }
   ],
   "source": [
    "train_Label = np.load(\"train_Bag/train_Bag_Label.npy\")\n",
    "train_Label.shape"
   ]
  },
  {
   "cell_type": "code",
   "execution_count": 30,
   "metadata": {},
   "outputs": [
    {
     "data": {
      "text/plain": [
       "(195491, 1)"
      ]
     },
     "execution_count": 30,
     "metadata": {},
     "output_type": "execute_result"
    }
   ],
   "source": [
    "Y = train_Label[:, 0]\n",
    "Y.shape"
   ]
  },
  {
   "cell_type": "code",
   "execution_count": 31,
   "metadata": {},
   "outputs": [
    {
     "data": {
      "text/plain": [
       "136843"
      ]
     },
     "execution_count": 31,
     "metadata": {},
     "output_type": "execute_result"
    }
   ],
   "source": [
    "train_size = int(train_Bag.shape[0] / 10) * 7\n",
    "train_size"
   ]
  },
  {
   "cell_type": "code",
   "execution_count": 32,
   "metadata": {},
   "outputs": [
    {
     "data": {
      "text/plain": [
       "(547372, 5)"
      ]
     },
     "execution_count": 32,
     "metadata": {},
     "output_type": "execute_result"
    }
   ],
   "source": [
    "X_train = np.vstack([train_Bag[:train_size], train_Hips[:train_size], train_Torso[:train_size], train_Hand[:train_size]])\n",
    "X_train.shape"
   ]
  },
  {
   "cell_type": "code",
   "execution_count": 33,
   "metadata": {},
   "outputs": [
    {
     "data": {
      "text/plain": [
       "(547372, 1)"
      ]
     },
     "execution_count": 33,
     "metadata": {},
     "output_type": "execute_result"
    }
   ],
   "source": [
    "Y_train = np.vstack([Y[:train_size],Y[:train_size],Y[:train_size],Y[:train_size]])\n",
    "Y_train.shape"
   ]
  },
  {
   "cell_type": "code",
   "execution_count": 34,
   "metadata": {},
   "outputs": [
    {
     "data": {
      "text/plain": [
       "(234592, 5)"
      ]
     },
     "execution_count": 34,
     "metadata": {},
     "output_type": "execute_result"
    }
   ],
   "source": [
    "X_test = np.vstack([train_Bag[train_size:], train_Hips[train_size:], train_Torso[train_size:], train_Hand[train_size:]])\n",
    "X_test.shape"
   ]
  },
  {
   "cell_type": "code",
   "execution_count": 35,
   "metadata": {},
   "outputs": [
    {
     "data": {
      "text/plain": [
       "(234592, 1)"
      ]
     },
     "execution_count": 35,
     "metadata": {},
     "output_type": "execute_result"
    }
   ],
   "source": [
    "Y_test = np.vstack([Y[train_size:],Y[train_size:],Y[train_size:],Y[train_size:]])\n",
    "Y_test.shape"
   ]
  },
  {
   "cell_type": "code",
   "execution_count": 46,
   "metadata": {},
   "outputs": [
    {
     "data": {
      "text/plain": [
       "array([1., 2., 3., 4.])"
      ]
     },
     "execution_count": 46,
     "metadata": {},
     "output_type": "execute_result"
    }
   ],
   "source": [
    "Y_train[Y_train>=5] = 1\n",
    "Y_test[Y_test>=5] = 1\n",
    "np.unique(Y_train)"
   ]
  },
  {
   "cell_type": "markdown",
   "metadata": {},
   "source": [
    "## グリッドサーチ"
   ]
  },
  {
   "cell_type": "code",
   "execution_count": 70,
   "metadata": {},
   "outputs": [
    {
     "name": "stderr",
     "output_type": "stream",
     "text": [
      "C:\\Users\\Owner\\Anaconda3\\envs\\GPU\\lib\\site-packages\\sklearn\\preprocessing\\_label.py:235: DataConversionWarning: A column-vector y was passed when a 1d array was expected. Please change the shape of y to (n_samples, ), for example using ravel().\n",
      "  y = column_or_1d(y, warn=True)\n",
      "C:\\Users\\Owner\\Anaconda3\\envs\\GPU\\lib\\site-packages\\sklearn\\preprocessing\\_label.py:268: DataConversionWarning: A column-vector y was passed when a 1d array was expected. Please change the shape of y to (n_samples, ), for example using ravel().\n",
      "  y = column_or_1d(y, warn=True)\n"
     ]
    },
    {
     "name": "stdout",
     "output_type": "stream",
     "text": [
      "Best parameters: {'reg_alpha': 0.025}\n",
      "Best Train Accuracy: 0.8996839312263545\n",
      "Test Accuracy: 0.8845783317419179\n"
     ]
    }
   ],
   "source": [
    "model = xgb.XGBClassifier(max_depth=10, min_child_weight=5, gamma=0.01, colsample_bytree=0.8, subsample=1.0, n_estimators=500, learning_rate=0.075, reg_alpha=0.025)\n",
    "param = {\n",
    "    #\"max_depth\":[9,10,11], \"min_child_weight\":[4,5,6]\n",
    "    #\"gamma\":[0.01, 0.05, 0.1, 0.3]\n",
    "    #\"subsample\":[0.70, 0.75, 0.80, 0.85, 0.90, 0.95, 1.00], \"colsample_bytree\":[0.70, 0.75, 0.80, 0.85, 0.90, 0.95, 1.00]\n",
    "    #\"n_estimators\":[500], \"learning_rate\":[0.01, 0.025, 0.05, 0.075]\n",
    "    \"reg_alpha\":[0.025, 0.05, 0.075]\n",
    "}\n",
    "random_index = np.random.choice(np.arange(X_train.shape[0]), int(X_train.shape[0]/10)*3, replace=False)\n",
    "grid = GridSearchCV(model, param_grid=param, cv=5, n_jobs=-1, scoring='accuracy')\n",
    "grid.fit(X_train[random_index], Y_train[random_index])\n",
    "\n",
    "test_accuracy = grid.score(X_test, Y_test)\n",
    "print(\"Best parameters: %s\" % grid.best_params_)\n",
    "print(\"Best Train Accuracy: %s\" % grid.best_score_)\n",
    "print(\"Test Accuracy: %s\" % test_accuracy)"
   ]
  },
  {
   "cell_type": "code",
   "execution_count": 71,
   "metadata": {},
   "outputs": [],
   "source": [
    "from mutagen.mp3 import MP3 as mp3\n",
    "import pygame\n",
    "import time\n",
    "filename = '../mac_poteto.mp3' #再生したいmp3ファイル\n",
    "pygame.mixer.init()\n",
    "pygame.mixer.music.load(filename) #音源を読み込み\n",
    "mp3_length = mp3(filename).info.length #音源の長さ取得\n",
    "pygame.mixer.music.play(1) #再生開始。1の部分を変えるとn回再生(その場合は次の行の秒数も×nすること)\n",
    "time.sleep(mp3_length + 0.25) #再生開始後、音源の長さだけ待つ(0.25待つのは誤差解消)\n",
    "pygame.mixer.music.stop() #音源の長さ待ったら再生停止"
   ]
  },
  {
   "cell_type": "markdown",
   "metadata": {},
   "source": [
    "## 訓練して、trainデータの後半をテストデータとして、評価"
   ]
  },
  {
   "cell_type": "code",
   "execution_count": 72,
   "metadata": {},
   "outputs": [
    {
     "ename": "NameError",
     "evalue": "name 'cofusion_matrix' is not defined",
     "output_type": "error",
     "traceback": [
      "\u001b[1;31m---------------------------------------------------------------------------\u001b[0m",
      "\u001b[1;31mNameError\u001b[0m                                 Traceback (most recent call last)",
      "\u001b[1;32m<ipython-input-72-cc0c43b30e5f>\u001b[0m in \u001b[0;36m<module>\u001b[1;34m\u001b[0m\n\u001b[0;32m      3\u001b[0m \u001b[1;33m\u001b[0m\u001b[0m\n\u001b[0;32m      4\u001b[0m \u001b[0mpredict\u001b[0m \u001b[1;33m=\u001b[0m \u001b[0mmodel\u001b[0m\u001b[1;33m.\u001b[0m\u001b[0mpredict\u001b[0m\u001b[1;33m(\u001b[0m\u001b[0mX_test\u001b[0m\u001b[1;33m)\u001b[0m\u001b[1;33m\u001b[0m\u001b[1;33m\u001b[0m\u001b[0m\n\u001b[1;32m----> 5\u001b[1;33m \u001b[0mcm\u001b[0m \u001b[1;33m=\u001b[0m \u001b[0mcofusion_matrix\u001b[0m\u001b[1;33m(\u001b[0m\u001b[0mY_test\u001b[0m\u001b[1;33m,\u001b[0m \u001b[0mpredict\u001b[0m\u001b[1;33m,\u001b[0m \u001b[0mlabels\u001b[0m\u001b[1;33m=\u001b[0m\u001b[1;33m[\u001b[0m\u001b[1;34m'Still, Car, Bus, Train, Subway'\u001b[0m\u001b[1;33m,\u001b[0m \u001b[1;34m'Walking'\u001b[0m\u001b[1;33m,\u001b[0m \u001b[1;34m'Run'\u001b[0m\u001b[1;33m,\u001b[0m \u001b[1;34m'Bike'\u001b[0m\u001b[1;33m]\u001b[0m\u001b[1;33m)\u001b[0m\u001b[1;33m\u001b[0m\u001b[1;33m\u001b[0m\u001b[0m\n\u001b[0m",
      "\u001b[1;31mNameError\u001b[0m: name 'cofusion_matrix' is not defined"
     ]
    }
   ],
   "source": [
    "model = xgb.XGBClassifier(max_depth=10, min_child_weight=5, gamma=0.01, colsample_bytree=0.8, subsample=1.0, n_estimators=500, learning_rate=0.075, reg_alpha=0.025)\n",
    "model.fit(X_train, Y_train)\n",
    "\n",
    "predict = model.predict(X_test)"
   ]
  },
  {
   "cell_type": "code",
   "execution_count": 76,
   "metadata": {},
   "outputs": [
    {
     "data": {
      "text/plain": [
       "array([[162026,    615,      3,   1840],\n",
       "       [  2583,  21527,    721,   6421],\n",
       "       [    15,    653,   9815,    437],\n",
       "       [  4219,   7146,   1665,  14906]], dtype=int64)"
      ]
     },
     "execution_count": 76,
     "metadata": {},
     "output_type": "execute_result"
    }
   ],
   "source": [
    "cm = confusion_matrix(Y_test, predict)\n",
    "cm"
   ]
  },
  {
   "cell_type": "code",
   "execution_count": 77,
   "metadata": {},
   "outputs": [
    {
     "data": {
      "text/plain": [
       "0.8878137361887873"
      ]
     },
     "execution_count": 77,
     "metadata": {},
     "output_type": "execute_result"
    }
   ],
   "source": [
    "from sklearn.metrics import accuracy_score\n",
    "accuracy = accuracy_score(Y_test, predict)\n",
    "accuracy"
   ]
  },
  {
   "cell_type": "code",
   "execution_count": 80,
   "metadata": {},
   "outputs": [
    {
     "data": {
      "text/plain": [
       "(0.7757694441553417, 0.8878137361887873)"
      ]
     },
     "execution_count": 80,
     "metadata": {},
     "output_type": "execute_result"
    }
   ],
   "source": [
    "from sklearn.metrics import f1_score\n",
    "f1_macro = f1_score(Y_test, predict, average='macro')\n",
    "f1_micro = f1_score(Y_test, predict, average='micro')\n",
    "f1_macro, f1_micro"
   ]
  },
  {
   "cell_type": "markdown",
   "metadata": {},
   "source": [
    "## feature_importance\n",
    "### f0:加速度xy平均、f1:加速度xy分散、f2:加速度z平均、f3:加速度z分散、f4:気圧変化量"
   ]
  },
  {
   "cell_type": "code",
   "execution_count": 82,
   "metadata": {},
   "outputs": [
    {
     "data": {
      "text/plain": [
       "<matplotlib.axes._subplots.AxesSubplot at 0x2d85b02f1c8>"
      ]
     },
     "execution_count": 82,
     "metadata": {},
     "output_type": "execute_result"
    },
    {
     "data": {
      "image/png": "[encoded data removed]",
      "text/plain": [
       "<Figure size 864x288 with 1 Axes>"
      ]
     },
     "metadata": {
      "needs_background": "light"
     },
     "output_type": "display_data"
    }
   ],
   "source": [
    "_, ax = plt.subplots(figsize=(12, 4))\n",
    "xgb.plot_importance(model,\n",
    "                    ax=ax,\n",
    "                    importance_type='gain',\n",
    "                    show_values=False)"
   ]
  },
  {
   "cell_type": "markdown",
   "metadata": {},
   "source": [
    "## trainデータに対する評価も確認してみる"
   ]
  },
  {
   "cell_type": "code",
   "execution_count": 83,
   "metadata": {},
   "outputs": [
    {
     "data": {
      "text/plain": [
       "array([[389033,    774,      7,   2718],\n",
       "       [  4481,  51750,    392,   9733],\n",
       "       [    44,    719,  21748,    269],\n",
       "       [  9664,  11747,    522,  43771]], dtype=int64)"
      ]
     },
     "execution_count": 83,
     "metadata": {},
     "output_type": "execute_result"
    }
   ],
   "source": [
    "train_predict = model.predict(X_train)\n",
    "cm = confusion_matrix(Y_train, train_predict)\n",
    "cm"
   ]
  },
  {
   "cell_type": "code",
   "execution_count": 84,
   "metadata": {},
   "outputs": [
    {
     "data": {
      "text/plain": [
       "0.9249687598196473"
      ]
     },
     "execution_count": 84,
     "metadata": {},
     "output_type": "execute_result"
    }
   ],
   "source": [
    "accuracy = accuracy_score(Y_train, train_predict)\n",
    "accuracy"
   ]
  },
  {
   "cell_type": "code",
   "execution_count": 85,
   "metadata": {},
   "outputs": [
    {
     "data": {
      "text/plain": [
       "0.8598020352063825"
      ]
     },
     "execution_count": 85,
     "metadata": {},
     "output_type": "execute_result"
    }
   ],
   "source": [
    "f1_macro = f1_score(Y_train, train_predict, average='macro')\n",
    "f1_macro"
   ]
  },
  {
   "cell_type": "markdown",
   "metadata": {},
   "source": [
    "# ここからValidationデータで検証"
   ]
  },
  {
   "cell_type": "code",
   "execution_count": 93,
   "metadata": {},
   "outputs": [
    {
     "name": "stdout",
     "output_type": "stream",
     "text": [
      "Wall time: 2min 51s\n"
     ]
    },
    {
     "data": {
      "text/plain": [
       "(28685, 500, 5)"
      ]
     },
     "execution_count": 93,
     "metadata": {},
     "output_type": "execute_result"
    }
   ],
   "source": [
    "%%time\n",
    "\n",
    "import pickle\n",
    "\n",
    "with open(\"validation_Bag.binaryfile\", 'rb') as f:\n",
    "    val_Bag = pickle.load(f)[:, :, [0, 4, 5, 6, -1]]\n",
    "    \n",
    "with open(\"validation_Hips.binaryfile\", 'rb') as f:\n",
    "    val_Hips = pickle.load(f)[:, :, [0, 4, 5, 6, -1]]\n",
    "\n",
    "with open(\"validation_Torso.binaryfile\", 'rb') as f:\n",
    "    val_Torso = pickle.load(f)[:, :, [0, 4, 5, 6, -1]]\n",
    "\n",
    "with open(\"validation_Hand.binaryfile\", 'rb') as f:\n",
    "    val_Hand = pickle.load(f)[:, :, [0, 4, 5, 6, -1]]\n",
    "\n",
    "val_Bag.shape"
   ]
  },
  {
   "cell_type": "code",
   "execution_count": 94,
   "metadata": {},
   "outputs": [],
   "source": [
    "def val_Preprocess(x):\n",
    "    label = x[:, 0, 0]\n",
    "    label = label[:, 0]\n",
    "    x_xy = np.sqrt(np.square(x[:, :, 1].copy()) + np.square(x[:, :, 2].copy()))\n",
    "    x_xy_mean = np.mean(x_xy.copy(), axis=1)\n",
    "    x_xy_var = np.var(x_xy.copy(), axis=1)\n",
    "    x_z_mean = np.mean(x[:, :, 3].copy(), axis=1)\n",
    "    x_z_var = np.var(x[:, :, 3].copy(), axis=1)\n",
    "    x_pressure_change = x[:, -1, 4] - x[:, 0, -1]\n",
    "    result = np.vstack([label, x_xy_mean, x_xy_var, x_z_mean, x_z_var, x_pressure_change]).T\n",
    "    return result"
   ]
  },
  {
   "cell_type": "code",
   "execution_count": 95,
   "metadata": {},
   "outputs": [
    {
     "data": {
      "text/plain": [
       "(28685, 6)"
      ]
     },
     "execution_count": 95,
     "metadata": {},
     "output_type": "execute_result"
    }
   ],
   "source": [
    "val_Bag = val_Preprocess(val_Bag)\n",
    "val_Hips = val_Preprocess(val_Hips)\n",
    "val_Torso = val_Preprocess(val_Torso)\n",
    "val_Hand = val_Preprocess(val_Hand)\n",
    "val_Hand.shape"
   ]
  },
  {
   "cell_type": "code",
   "execution_count": 97,
   "metadata": {},
   "outputs": [
    {
     "data": {
      "text/plain": [
       "(28685,)"
      ]
     },
     "execution_count": 97,
     "metadata": {},
     "output_type": "execute_result"
    }
   ],
   "source": [
    "val_Bag[:, 0].shape"
   ]
  },
  {
   "cell_type": "code",
   "execution_count": 96,
   "metadata": {},
   "outputs": [
    {
     "data": {
      "text/plain": [
       "((114740, 5), (4, 28685))"
      ]
     },
     "execution_count": 96,
     "metadata": {},
     "output_type": "execute_result"
    }
   ],
   "source": [
    "X_val = np.vstack([val_Bag[:, 1:], val_Hips[:, 1:], val_Torso[:, 1:], val_Hand[:, 1:]])\n",
    "X_val.shape"
   ]
  },
  {
   "cell_type": "code",
   "execution_count": 100,
   "metadata": {},
   "outputs": [
    {
     "data": {
      "text/plain": [
       "(114740,)"
      ]
     },
     "execution_count": 100,
     "metadata": {},
     "output_type": "execute_result"
    }
   ],
   "source": [
    "Y_val = np.hstack([val_Bag[:, 0], val_Bag[:, 0], val_Bag[:, 0], val_Bag[:, 0]])\n",
    "Y_val.shape"
   ]
  },
  {
   "cell_type": "code",
   "execution_count": 101,
   "metadata": {},
   "outputs": [
    {
     "data": {
      "text/plain": [
       "array([1., 2., 3., 4.])"
      ]
     },
     "execution_count": 101,
     "metadata": {},
     "output_type": "execute_result"
    }
   ],
   "source": [
    "Y_val[Y_val >=5] = 1\n",
    "np.unique(Y_val)"
   ]
  },
  {
   "cell_type": "code",
   "execution_count": 102,
   "metadata": {},
   "outputs": [],
   "source": [
    "val_predict = model.predict(X_val)"
   ]
  },
  {
   "cell_type": "code",
   "execution_count": 103,
   "metadata": {},
   "outputs": [
    {
     "data": {
      "text/plain": [
       "array([[81585,   193,    50,   348],\n",
       "       [ 5892,  9115,    14,  5739],\n",
       "       [   40,   949,   596,   619],\n",
       "       [ 7228,  1070,     1,  1301]], dtype=int64)"
      ]
     },
     "execution_count": 103,
     "metadata": {},
     "output_type": "execute_result"
    }
   ],
   "source": [
    "cm = confusion_matrix(Y_val, val_predict)\n",
    "cm"
   ]
  },
  {
   "cell_type": "code",
   "execution_count": 104,
   "metadata": {},
   "outputs": [
    {
     "data": {
      "text/plain": [
       "0.8070158619487537"
      ]
     },
     "execution_count": 104,
     "metadata": {},
     "output_type": "execute_result"
    }
   ],
   "source": [
    "accuracy = accuracy_score(Y_val, val_predict)\n",
    "accuracy"
   ]
  },
  {
   "cell_type": "code",
   "execution_count": 105,
   "metadata": {},
   "outputs": [
    {
     "data": {
      "text/plain": [
       "0.5135642210585022"
      ]
     },
     "execution_count": 105,
     "metadata": {},
     "output_type": "execute_result"
    }
   ],
   "source": [
    "f1_macro = f1_score(Y_val, val_predict, average='macro')\n",
    "f1_macro"
   ]
  },
  {
   "cell_type": "code",
   "execution_count": null,
   "metadata": {},
   "outputs": [],
   "source": []
  }
 ],
 "metadata": {
  "kernelspec": {
   "display_name": "Python 3",
   "language": "python",
   "name": "python3"
  },
  "language_info": {
   "codemirror_mode": {
    "name": "ipython",
    "version": 3
   },
   "file_extension": ".py",
   "mimetype": "text/x-python",
   "name": "python",
   "nbconvert_exporter": "python",
   "pygments_lexer": "ipython3",
   "version": "3.7.6"
  }
 },
 "nbformat": 4,
 "nbformat_minor": 4
}

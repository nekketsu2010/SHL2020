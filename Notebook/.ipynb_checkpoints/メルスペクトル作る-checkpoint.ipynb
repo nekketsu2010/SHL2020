{
 "cells": [
  {
   "cell_type": "code",
   "execution_count": null,
   "metadata": {},
   "outputs": [],
   "source": [
    "import os\n",
    "from PIL import Image\n",
    "\n",
    "import numpy as np\n",
    "from tqdm import tqdm\n",
    "import gc\n",
    "\n",
    "import librosa\n",
    "import librosa.display # この行が必要\n",
    "\n",
    "import seaborn as sns\n",
    "sns.set(font='Yu Gothic')\n",
    "import matplotlib.pyplot as plt"
   ]
  },
  {
   "cell_type": "code",
   "execution_count": null,
   "metadata": {},
   "outputs": [],
   "source": [
    "def train_load_npy(hold_position):\n",
    "    return np.delete(np.load(\"../Data/センサ別npyファイル/train/train_\" + hold_position + \"/train_\" + hold_position + \"_Glo_Gyr_ver2.npy\"), 120845, 0)[195490//4*0:195490//4*1]"
   ]
  },
  {
   "cell_type": "code",
   "execution_count": null,
   "metadata": {},
   "outputs": [],
   "source": [
    "train_Bag = train_load_npy(\"Hips\")\n",
    "train_Bag.shape"
   ]
  },
  {
   "cell_type": "code",
   "execution_count": null,
   "metadata": {},
   "outputs": [],
   "source": [
    "def val_load_npy():\n",
    "    hold_positions = ['Bag', 'Hips', 'Torso', 'Hand']\n",
    "    results = []\n",
    "    for hold_position in hold_positions:\n",
    "        results.append(np.load(\"../Data/センサ別npyファイル/validation/validation_\" + hold_position + \"/validation_\" + hold_position + \"_Glo_Gyr_ver2.npy\"))\n",
    "    return results"
   ]
  },
  {
   "cell_type": "code",
   "execution_count": null,
   "metadata": {},
   "outputs": [],
   "source": [
    "val_data = val_load_npy()\n",
    "val_data[0].shape"
   ]
  },
  {
   "cell_type": "code",
   "execution_count": null,
   "metadata": {},
   "outputs": [],
   "source": [
    "def melspectrogram(xx):\n",
    "    xx = np.abs(librosa.stft(xx))\n",
    "    xx = librosa.amplitude_to_db(xx, ref=np.max)\n",
    "    \n",
    "    xx = librosa.feature.melspectrogram(S=xx, sr=100)\n",
    "    xx = librosa.amplitude_to_db(xx, ref=np.max)\n",
    "    \n",
    "    xx = librosa.feature.mfcc(S=xx, n_mfcc=20, dct_type=3)\n",
    "    \n",
    "    return xx"
   ]
  },
  {
   "cell_type": "code",
   "execution_count": null,
   "metadata": {},
   "outputs": [],
   "source": [
    "def melspectrogram(xx):\n",
    "    xx = np.square(np.abs(librosa.stft(xx, n_fft=64)))\n",
    "    xx = librosa.amplitude_to_db(xx, ref=np.max)\n",
    "    fig, ax = plt.subplots()\n",
    "    librosa.display.specshow(xx, sr=100, hop_length=8, bins_per_octave=12)\n",
    "    fig.canvas.draw()\n",
    "    xx = np.array(fig.canvas.renderer.buffer_rgba())\n",
    "    plt.close(fig)\n",
    "    xx = 0.299 * xx[:, :, 0] + 0.587 * xx[:, :, 1] + 0.114 * xx[:, :, 2]\n",
    "    xx = xx[35:260, 55:390]\n",
    "    xx = Image.fromarray(xx)\n",
    "    xx = xx.resize((32, 16))\n",
    "    del fig, ax\n",
    "    return xx"
   ]
  },
  {
   "cell_type": "code",
   "execution_count": null,
   "metadata": {},
   "outputs": [],
   "source": [
    "def process(x):\n",
    "    result = np.zeros((x.shape[0], 16, 32))\n",
    "    x = np.sqrt(np.square(x[:, :, 0]) + np.square(x[:, :, 1]) + np.square(x[:, :, 2])).reshape([-1, 500])\n",
    "    for i in tqdm(range(result.shape[0])):\n",
    "        result[i] = melspectrogram(x[i])\n",
    "    return result"
   ]
  },
  {
   "cell_type": "code",
   "execution_count": null,
   "metadata": {},
   "outputs": [],
   "source": [
    "hold_positions = [\"Torso\", \"Hand\"]\n",
    "\n",
    "for hold_position in hold_positions:\n",
    "    for i in range(4):\n",
    "        if i != 3:\n",
    "            train = np.delete(np.load(\"../Data/センサ別npyファイル/train/train_\" + hold_position + \"/train_\" + hold_position + \"_Glo_Gyr_ver2.npy\"), 120845, 0)[195490//4*i:195490//4*(i+1)]\n",
    "        else:\n",
    "            train = np.delete(np.load(\"../Data/センサ別npyファイル/train/train_\" + hold_position + \"/train_\" + hold_position + \"_Glo_Gyr_ver2.npy\"), 120845, 0)[195490//4*i:]\n",
    "        train = process(train)\n",
    "        np.save(\"train_\" + hold_position + \"_glo_gyr_ver2_norm_time_melspectram_part\" + str(i+1), train)\n",
    "        del train\n",
    "        gc.collect() "
   ]
  },
  {
   "cell_type": "code",
   "execution_count": null,
   "metadata": {},
   "outputs": [],
   "source": [
    "%%time\n",
    "\n",
    "train_Bag = process(train_Bag)"
   ]
  },
  {
   "cell_type": "code",
   "execution_count": null,
   "metadata": {},
   "outputs": [],
   "source": [
    "img = Image.fromarray(train_Bag[41000])\n",
    "plt.imshow(img)\n",
    "plt.grid(False)"
   ]
  },
  {
   "cell_type": "code",
   "execution_count": null,
   "metadata": {},
   "outputs": [],
   "source": [
    "np.save(\"train_Hips_glo_gyr_ver2_norm_time_melspectram_part1\", train_Bag)"
   ]
  },
  {
   "cell_type": "code",
   "execution_count": null,
   "metadata": {},
   "outputs": [],
   "source": [
    "for i in tqdm(range(len(val_data))):\n",
    "    val_data[i] = process(val_data[i])"
   ]
  },
  {
   "cell_type": "code",
   "execution_count": null,
   "metadata": {},
   "outputs": [],
   "source": [
    "plt.figure(figsize=(16, 4))\n",
    "\n",
    "for i in range(1000):\n",
    "    plt.plot(train_data[0][i * 100, :, 0])"
   ]
  },
  {
   "cell_type": "code",
   "execution_count": null,
   "metadata": {},
   "outputs": [],
   "source": [
    "hold_positions = [\"Bag\", \"Hips\", \"Torso\", \"Hand\"]\n",
    "\n",
    "for i in tqdm(range(len(hold_positions))):\n",
    "    np.save(\"../Output/train/train_\" + hold_positions[i] + \"/train_\" + hold_positions[i] + \"_Glo_Gyr_ver2_norm_time_melspectram\", train_data[i])\n",
    "    np.save(\"../Output/validation/validation_\" + hold_positions[i] + \"/validation_\" + hold_positions[i] + \"_Glo_Gyr_ver2_norm_time_melspectram\", val_data[i])"
   ]
  },
  {
   "cell_type": "code",
   "execution_count": null,
   "metadata": {},
   "outputs": [],
   "source": [
    "train_data[0].shape"
   ]
  },
  {
   "cell_type": "code",
   "execution_count": null,
   "metadata": {},
   "outputs": [],
   "source": [
    "librosa.display.specshow(train_data[0][0], y_axis='linear')"
   ]
  },
  {
   "cell_type": "code",
   "execution_count": null,
   "metadata": {},
   "outputs": [],
   "source": [
    "fig, ax = plt.subplots()\n",
    "librosa.display.specshow(train_data[0][0], sr=100, hop_length=2)\n",
    "fig.canvas.draw()\n",
    "im = np.array(fig.canvas.renderer.buffer_rgba())\n",
    "im_gray = 0.299 * im[:, :, 0] + 0.587 * im[:, :, 1] + 0.114 * im[:, :, 2]\n",
    "img = Image.fromarray(im_gray)\n",
    "img.show()"
   ]
  },
  {
   "cell_type": "code",
   "execution_count": null,
   "metadata": {},
   "outputs": [],
   "source": [
    "img = Image.fromarray(im_gray[35:260, 55:390])\n",
    "plt.figure(figsize=(16, 8))\n",
    "plt.imshow(img)\n",
    "plt.grid(True, color='blue')\n",
    "im_gray.shape"
   ]
  },
  {
   "cell_type": "code",
   "execution_count": null,
   "metadata": {},
   "outputs": [],
   "source": [
    "im_gray"
   ]
  },
  {
   "cell_type": "code",
   "execution_count": null,
   "metadata": {},
   "outputs": [],
   "source": [
    "a = (train_data[0][0] - train_data[0][0].mean(axis=None)) / train_data[0][0].std(axis=None)\n",
    "librosa.display.specshow(a, sr=100, hop_length=8)"
   ]
  },
  {
   "cell_type": "code",
   "execution_count": null,
   "metadata": {},
   "outputs": [],
   "source": [
    "a = librosa.amplitude_to_db(np.abs(librosa.stft(np.sqrt(np.square(train_data[0][100000, :, 0]) + np.square(train_data[0][0, :, 1]) + np.square(train_data[0][0, :, 2])), n_fft=64)), ref=np.max)\n",
    "\n",
    "fig, ax = plt.subplots()\n",
    "fig.figsize = (16, 8)\n",
    "librosa.display.specshow(a, sr=100, hop_length=8, bins_per_octave=12)\n",
    "fig.canvas.draw()\n",
    "im = np.array(fig.canvas.renderer.buffer_rgba())\n"
   ]
  },
  {
   "cell_type": "code",
   "execution_count": null,
   "metadata": {},
   "outputs": [],
   "source": [
    "im_gray = 0.299 * im[:, :, 0] + 0.587 * im[:, :, 1] + 0.114 * im[:, :, 2]\n",
    "plt.figure(figsize=(16, 8))\n",
    "img = Image.fromarray(im_gray[35:260, 55:390])\n",
    "plt.imshow(img)\n",
    "plt.grid(False)"
   ]
  },
  {
   "cell_type": "code",
   "execution_count": null,
   "metadata": {},
   "outputs": [],
   "source": []
  }
 ],
 "metadata": {
  "kernelspec": {
   "display_name": "Python 3",
   "language": "python",
   "name": "python3"
  },
  "language_info": {
   "codemirror_mode": {
    "name": "ipython",
    "version": 3
   },
   "file_extension": ".py",
   "mimetype": "text/x-python",
   "name": "python",
   "nbconvert_exporter": "python",
   "pygments_lexer": "ipython3",
   "version": "3.7.6"
  }
 },
 "nbformat": 4,
 "nbformat_minor": 4
}

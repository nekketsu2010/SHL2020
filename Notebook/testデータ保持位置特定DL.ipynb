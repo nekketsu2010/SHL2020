{
 "cells": [
  {
   "cell_type": "code",
   "execution_count": 1,
   "metadata": {},
   "outputs": [
    {
     "data": {
      "text/html": [
       "<style>.container { width:90% !important; }</style>"
      ],
      "text/plain": [
       "<IPython.core.display.HTML object>"
      ]
     },
     "metadata": {},
     "output_type": "display_data"
    }
   ],
   "source": [
    "import numpy as np\n",
    "import os\n",
    "import random\n",
    "import scipy\n",
    "from scipy import signal\n",
    "from numpy.fft import fft\n",
    "from sklearn.metrics import confusion_matrix\n",
    "from sklearn.metrics import f1_score\n",
    "\n",
    "import tensorflow as tf\n",
    "from tensorflow.keras import layers, models\n",
    "from tensorflow.keras.initializers import he_normal\n",
    "from tensorflow.python.keras.utils.vis_utils import plot_model\n",
    "\n",
    "from sklearn.model_selection import train_test_split\n",
    "\n",
    "import pandas as pd\n",
    "import pickle\n",
    "\n",
    "import seaborn as sns\n",
    "sns.set(font='Yu Gothic')\n",
    "import matplotlib.pyplot as plt\n",
    "%matplotlib inline\n",
    "\n",
    "from IPython.core.display import display, HTML\n",
    "display(HTML(\"<style>.container { width:90% !important; }</style>\"))"
   ]
  },
  {
   "cell_type": "code",
   "execution_count": null,
   "metadata": {},
   "outputs": [],
   "source": [
    "def load_npy(hold_position):\n",
    "    file_path = \"../Output/validation/validation_\" + hold_position + \"/validation_\" + hold_position\n",
    "    xy_mean = np.load(file_path + \"_glo_laccel_xy_mean.npy\")\n",
    "    xy_var = np.load(file_path + \"_glo_laccel_xy_var.npy\")\n",
    "    z_mean = np.load(file_path + \"_glo_laccel_z_mean.npy\")\n",
    "    z_var = np.load(file_path + \"_glo_laccel_z_var.npy\")\n",
    "    z_skew = np.load(file_path + \"_glo_laccel_z_skew.npy\")\n",
    "    z_kurtosis = np.load(file_path + \"_glo_laccel_z_kurtosis.npy\")\n",
    "    z_lacc_FFT = np.load(file_path + \"_glo_laccel_z_amplitude_frequency_range5Hz.npy\")[:, 0:-1:2]\n",
    "    z_gyro_FFT = np.load(file_path + \"_glo_gyro_z_amplitude_frequency_range5Hz.npy\")[:, 0:-1:2]\n",
    "    result = np.concatenate([xy_mean.reshape([-1, 1]), xy_var.reshape([-1, 1]), z_mean.reshape([-1, 1]), z_var.reshape([-1, 1]), z_skew.reshape([-1, 1]), z_kurtosis.reshape([-1, 1]), z_lacc_FFT, z_gyro_FFT], axis=1)\n",
    "    del xy_mean, xy_var, z_mean, z_var, z_skew, z_kurtosis, z_gyro_FFT\n",
    "    return result"
   ]
  },
  {
   "cell_type": "code",
   "execution_count": null,
   "metadata": {},
   "outputs": [],
   "source": [
    "def load_npy(hold_position):\n",
    "    file_path = \"../Output/validation/validation_\" + hold_position + \"/validation_\" + hold_position\n",
    "    xy_mean = np.load(file_path + \"_laccel_xy_mean.npy\")\n",
    "    xy_var = np.load(file_path + \"_laccel_xy_var.npy\")\n",
    "    z_mean = np.load(file_path + \"_laccel_z_mean.npy\")\n",
    "    z_var = np.load(file_path + \"_laccel_z_var.npy\")\n",
    "    z_skew = np.load(file_path + \"_laccel_z_skew.npy\")\n",
    "    z_kurtosis = np.load(file_path + \"_laccel_z_kurtosis.npy\")\n",
    "    z_lacc_FFT_sum = np.load(file_path + \"_laccel_z_sum_frequency_range5Hz.npy\")[:, 0:-1:2]\n",
    "    z_gyro_FFT_sum = np.load(file_path + \"_gyro_z_sum_frequency_range5Hz.npy\")[:, 0:-1:2]\n",
    "    norm_mag_FFT_sum = np.load(file_path + \"_mag_norm_sum_frequency_range5Hz.npy\")[:, 0:-1:2]\n",
    "    z_lacc_FFT = np.load(file_path + \"_laccel_z_amplitude_frequency_range5Hz.npy\")\n",
    "    z_gyro_FFT = np.load(file_path + \"_gyro_z_amplitude_frequency_range5Hz.npy\")\n",
    "    norm_mag_FFT = np.load(file_path + \"_mag_norm_amplitude_frequency_range5Hz.npy\")\n",
    "    result = np.concatenate([xy_mean.reshape([-1, 1]), xy_var.reshape([-1, 1]), z_mean.reshape([-1, 1]), z_var.reshape([-1, 1]), z_skew.reshape([-1, 1]), z_kurtosis.reshape([-1, 1]), \\\n",
    "                             z_lacc_FFT_sum, z_gyro_FFT_sum, norm_mag_FFT_sum, z_lacc_FFT, z_gyro_FFT, norm_mag_FFT], axis=1)\n",
    "    del xy_mean, xy_var, z_mean, z_var, z_skew, z_kurtosis, z_lacc_FFT_sum, z_gyro_FFT_sum, norm_mag_FFT_sum, z_gyro_FFT, norm_mag_FFT\n",
    "    return result"
   ]
  },
  {
   "cell_type": "code",
   "execution_count": null,
   "metadata": {},
   "outputs": [],
   "source": [
    "Bag = load_npy(\"Bag\")\n",
    "Hips = load_npy(\"Hips\")\n",
    "Torso = load_npy(\"Torso\")\n",
    "Hand = load_npy(\"Hand\")\n",
    "\n",
    "Hand.shape"
   ]
  },
  {
   "cell_type": "code",
   "execution_count": null,
   "metadata": {},
   "outputs": [],
   "source": [
    "label = np.load(\"../Data/センサ別npyファイル/validation/validation_Bag/validation_Bag_Label.npy\")[:, 0].reshape([-1, 1])\n",
    "\n",
    "user2_Label = label[:14813]\n",
    "user3_Label = label[14813:]\n",
    "\n",
    "user2_Label.shape, user3_Label.shape"
   ]
  },
  {
   "cell_type": "code",
   "execution_count": null,
   "metadata": {},
   "outputs": [],
   "source": [
    "user2_Bag = Bag[:14813]\n",
    "user2_Hips = Hips[:14813]\n",
    "user2_Torso = Torso[:14813]\n",
    "user2_Hand = Hand[:14813]\n",
    "\n",
    "user3_Bag = Bag[14813:]\n",
    "user3_Hips = Hips[14813:]\n",
    "user3_Torso = Torso[14813:]\n",
    "user3_Hand = Hand[14813:]"
   ]
  },
  {
   "cell_type": "code",
   "execution_count": null,
   "metadata": {},
   "outputs": [],
   "source": [
    "user2_Bag_train, user2_Bag_val = train_test_split(user2_Bag, test_size=0.3, shuffle=False)\n",
    "user2_Hips_train, user2_Hips_val = train_test_split(user2_Hips, test_size=0.3, shuffle=False)\n",
    "user2_Torso_train, user2_Torso_val = train_test_split(user2_Torso, test_size=0.3, shuffle=False)\n",
    "user2_Hand_train, user2_Hand_val = train_test_split(user2_Hand, test_size=0.3, shuffle=False)\n",
    "\n",
    "user3_Bag_train, user3_Bag_val = train_test_split(user3_Bag, test_size=0.3, shuffle=False)\n",
    "user3_Hips_train, user3_Hips_val = train_test_split(user3_Hips, test_size=0.3, shuffle=False)\n",
    "user3_Torso_train, user3_Torso_val = train_test_split(user3_Torso, test_size=0.3, shuffle=False)\n",
    "user3_Hand_train, user3_Hand_val = train_test_split(user3_Hand, test_size=0.3, shuffle=False)\n",
    "\n",
    "user2_Label_train, user2_Label_val = train_test_split(user2_Label, test_size=0.3, shuffle=False)\n",
    "user3_Label_train, user3_Label_val = train_test_split(user3_Label, test_size=0.3, shuffle=False)\n",
    "\n",
    "user2_Hand_train.shape, user2_Hand_val.shape, user3_Hand_train.shape, user3_Hand_val.shape, user2_Label_train.shape, user2_Label_val.shape"
   ]
  },
  {
   "cell_type": "code",
   "execution_count": null,
   "metadata": {},
   "outputs": [],
   "source": [
    "def load_npy():\n",
    "    file_path = \"../Output/test/test\"\n",
    "    xy_mean = np.load(file_path + \"_glo_laccel_xy_mean.npy\")\n",
    "    xy_var = np.load(file_path + \"_glo_laccel_xy_var.npy\")\n",
    "    z_mean = np.load(file_path + \"_glo_laccel_z_mean.npy\")\n",
    "    z_var = np.load(file_path + \"_glo_laccel_z_var.npy\")\n",
    "    z_skew = np.load(file_path + \"_glo_laccel_z_skew.npy\")\n",
    "    z_kurtosis = np.load(file_path + \"_glo_laccel_z_kurtosis.npy\")\n",
    "    z_lacc_FFT = np.load(file_path + \"_glo_laccel_z_amplitude_frequency_range5Hz.npy\")[:, 0:-1:2]\n",
    "    z_gyro_FFT = np.load(file_path + \"_glo_gyro_z_amplitude_frequency_range5Hz.npy\")[:, 0:-1:2]\n",
    "    result = np.concatenate([xy_mean.reshape([-1, 1]), xy_var.reshape([-1, 1]), z_mean.reshape([-1, 1]), z_var.reshape([-1, 1]), z_skew.reshape([-1, 1]), z_kurtosis.reshape([-1, 1]), z_lacc_FFT, z_gyro_FFT], axis=1)\n",
    "    del xy_mean, xy_var, z_mean, z_var, z_skew, z_kurtosis, z_gyro_FFT\n",
    "    return result"
   ]
  },
  {
   "cell_type": "code",
   "execution_count": null,
   "metadata": {},
   "outputs": [],
   "source": [
    "def load_npy():\n",
    "    file_path = \"../Output/test/test\"    \n",
    "    xy_mean = np.load(file_path + \"_laccel_xy_mean.npy\")\n",
    "    xy_var = np.load(file_path + \"_laccel_xy_var.npy\")\n",
    "    z_mean = np.load(file_path + \"_laccel_z_mean.npy\")\n",
    "    z_var = np.load(file_path + \"_laccel_z_var.npy\")\n",
    "    z_skew = np.load(file_path + \"_laccel_z_skew.npy\")\n",
    "    z_kurtosis = np.load(file_path + \"_laccel_z_kurtosis.npy\")\n",
    "    z_lacc_FFT_sum = np.load(file_path + \"_laccel_z_sum_frequency_range5Hz.npy\")[:, 0:-1:2]\n",
    "    z_gyro_FFT_sum = np.load(file_path + \"_gyro_z_sum_frequency_range5Hz.npy\")[:, 0:-1:2]\n",
    "    norm_mag_FFT_sum = np.load(file_path + \"_mag_norm_sum_frequency_range5Hz.npy\")[:, 0:-1:2]\n",
    "    z_lacc_FFT = np.load(file_path + \"_laccel_z_amplitude_frequency_range5Hz.npy\")\n",
    "    z_gyro_FFT = np.load(file_path + \"_gyro_z_amplitude_frequency_range5Hz.npy\")\n",
    "    norm_mag_FFT = np.load(file_path + \"_mag_norm_amplitude_frequency_range5Hz.npy\")\n",
    "    result = np.concatenate([xy_mean.reshape([-1, 1]), xy_var.reshape([-1, 1]), z_mean.reshape([-1, 1]), z_var.reshape([-1, 1]), z_skew.reshape([-1, 1]), z_kurtosis.reshape([-1, 1]), \\\n",
    "                             z_lacc_FFT_sum, z_gyro_FFT_sum, norm_mag_FFT_sum, z_lacc_FFT, z_gyro_FFT, norm_mag_FFT], axis=1)\n",
    "    del xy_mean, xy_var, z_mean, z_var, z_skew, z_kurtosis, z_lacc_FFT_sum, z_gyro_FFT_sum, norm_mag_FFT_sum, z_gyro_FFT, norm_mag_FFT\n",
    "    return result"
   ]
  },
  {
   "cell_type": "code",
   "execution_count": null,
   "metadata": {},
   "outputs": [],
   "source": [
    "test = load_npy()\n",
    "test.shape"
   ]
  },
  {
   "cell_type": "code",
   "execution_count": null,
   "metadata": {},
   "outputs": [],
   "source": [
    "Y_train = [0] * user2_Bag_train.shape[0] + [1] * user2_Bag_train.shape[0] + [2] * user2_Bag_train.shape[0] + [3] * user2_Bag_train.shape[0] + \\\n",
    "        [0] * user3_Bag_train.shape[0] + [1] * user3_Bag_train.shape[0] + [2] * user3_Bag_train.shape[0] + [3] * user3_Bag_train.shape[0]\n",
    "Y_train = np.array(Y_train).reshape([-1, 1])\n",
    "\n",
    "Y_val = [0] * user2_Bag_val.shape[0] + [1] * user2_Bag_val.shape[0] + [2] * user2_Bag_val.shape[0] + [3] * user2_Bag_val.shape[0] + \\\n",
    "        [0] * user3_Bag_val.shape[0] + [1] * user3_Bag_val.shape[0] + [2] * user3_Bag_val.shape[0] + [3] * user3_Bag_val.shape[0]\n",
    "Y_val = np.array(Y_val).reshape([-1, 1])\n",
    "\n",
    "Y_train.shape, Y_val.shape"
   ]
  },
  {
   "cell_type": "code",
   "execution_count": null,
   "metadata": {},
   "outputs": [],
   "source": [
    "user2_Label_train = np.concatenate([user2_Label_train, user2_Label_train, user2_Label_train, user2_Label_train], axis=0)\n",
    "user2_Label_val = np.concatenate([user2_Label_val, user2_Label_val, user2_Label_val, user2_Label_val], axis=0)\n",
    "user3_Label_train = np.concatenate([user3_Label_train, user3_Label_train, user3_Label_train, user3_Label_train], axis=0)\n",
    "user3_Label_val = np.concatenate([user3_Label_val, user3_Label_val, user3_Label_val, user3_Label_val], axis=0)\n",
    "\n",
    "Y_train = np.concatenate([Y_train, np.concatenate([user2_Label_train, user3_Label_train], axis=0)], axis=1)\n",
    "Y_val = np.concatenate([Y_val, np.concatenate([user2_Label_val, user3_Label_val], axis=0)], axis=1)\n",
    "\n",
    "Y_train.shape, Y_val.shape"
   ]
  },
  {
   "cell_type": "code",
   "execution_count": null,
   "metadata": {},
   "outputs": [],
   "source": [
    "X_train = np.concatenate([user2_Bag_train, user2_Hips_train, user2_Torso_train, user2_Hand_train, user3_Bag_train, user3_Hips_train, user3_Torso_train, user3_Hand_train])\n",
    "X_val = np.concatenate([user2_Bag_val, user2_Hips_val, user2_Torso_val, user2_Hand_val, user3_Bag_val, user3_Hips_val, user3_Torso_val, user3_Hand_val])\n",
    "\n",
    "X_train.shape, X_val.shape"
   ]
  },
  {
   "cell_type": "code",
   "execution_count": null,
   "metadata": {},
   "outputs": [],
   "source": [
    "model = xgb.XGBClassifier(max_depth=18, min_child_weight=7, learning_rate=0.1, gamma=0.005, sub_sample=0.9, colsample_bytree=0.8, \n",
    "                          n_jobs=-1, tree_method='gpu_hist', gpu_id=0)\n",
    "model.fit(X_train[(Y_train[:, 1] <= 3) & (Y_train[:, 1] > 1)], Y_train[(Y_train[:, 1] <= 3) & (Y_train[:, 1] > 1)][:, 0])"
   ]
  },
  {
   "cell_type": "code",
   "execution_count": null,
   "metadata": {},
   "outputs": [],
   "source": [
    "def plot_confusion_matrix(test_y,pred_y,class_names,normalize=False):\n",
    "    cm = confusion_matrix(test_y,pred_y)\n",
    "    # classes = class_names[unique_labels(test_y,pred_y)]\n",
    "    if normalize:\n",
    "        cm = cm.astype('float') / cm.sum(axis=1)[:, np.newaxis]\n",
    "    fig, ax = plt.subplots(figsize=(16, 8))\n",
    "    im = ax.imshow(cm, interpolation='nearest', cmap=plt.cm.Blues)\n",
    "    ax.figure.colorbar(im, ax=ax)\n",
    "    ax.set(xticks=np.arange(cm.shape[1]),\n",
    "           yticks=np.arange(cm.shape[0]),\n",
    "           xticklabels=class_names,\n",
    "           yticklabels=class_names,\n",
    "           ylabel='True label\\n',\n",
    "           xlabel='\\nPredicted label')\n",
    "    fmt = '.2f' if normalize else 'd'\n",
    "    for i in range(cm.shape[0]):\n",
    "        for j in range(cm.shape[1]):\n",
    "            ax.text(j,\n",
    "                    i,\n",
    "                    format(cm[i, j], fmt),\n",
    "                    ha=\"center\",\n",
    "                    va=\"center\",\n",
    "                    color=\"red\", fontsize=16)\n",
    "    fig.tight_layout()\n",
    "    return ax"
   ]
  },
  {
   "cell_type": "code",
   "execution_count": null,
   "metadata": {},
   "outputs": [],
   "source": [
    "class_names = ['Bag', 'Hips', 'Torso', 'Hand']\n",
    "\n",
    "predict = model.predict(X_val)\n",
    "plot_confusion_matrix(Y_val[(Y_val[:, 1] <= 3) & (Y_val[:, 1] > 1)][:, 0], predict[(Y_val[:, 1] <= 3) & (Y_val[:, 1] > 1)], class_names, True)\n",
    "plt.grid(False)"
   ]
  },
  {
   "cell_type": "code",
   "execution_count": null,
   "metadata": {},
   "outputs": [],
   "source": [
    "predict = model.predict(test)\n",
    "\n",
    "for i in range(len(class_names)):\n",
    "    print(\"{}：{}\".format(class_names[i], np.sum(predict==i)))"
   ]
  },
  {
   "cell_type": "markdown",
   "metadata": {},
   "source": [
    "# Validationデータをすべて学習させる"
   ]
  },
  {
   "cell_type": "code",
   "execution_count": null,
   "metadata": {},
   "outputs": [],
   "source": [
    "X = np.concatenate([X_train, X_val], axis=0)\n",
    "Y = np.concatenate([Y_train, Y_val], axis=0)\n",
    "X.shape, Y.shape"
   ]
  },
  {
   "cell_type": "code",
   "execution_count": null,
   "metadata": {},
   "outputs": [],
   "source": [
    "model = xgb.XGBClassifier(max_depth=18, min_child_weight=7, learning_rate=0.1, gamma=0.005, sub_sample=0.9, colsample_bytree=0.8, \n",
    "                          n_jobs=-1, tree_method='gpu_hist', gpu_id=0)\n",
    "model.fit(X[(Y[:, 1] <= 3) & (Y[:, 1] > 1)], Y[(Y[:, 1] <= 3) & (Y[:, 1] > 1)][:, 0])"
   ]
  },
  {
   "cell_type": "code",
   "execution_count": null,
   "metadata": {},
   "outputs": [],
   "source": [
    "class_names = ['Bag', 'Hips', 'Torso', 'Hand']\n",
    "\n",
    "predict = model.predict(X[(Y[:, 1] <= 3) & (Y[:, 1] > 1)])\n",
    "plot_confusion_matrix(Y[(Y[:, 1] <= 3) & (Y[:, 1] > 1)][:, 0], predict, class_names, True)\n",
    "plt.grid(False)"
   ]
  },
  {
   "cell_type": "code",
   "execution_count": null,
   "metadata": {},
   "outputs": [],
   "source": [
    "predict = model.predict(test)\n",
    "\n",
    "for i in range(len(class_names)):\n",
    "    print(\"{}：{}\".format(class_names[i], np.sum(predict==i)))"
   ]
  },
  {
   "cell_type": "markdown",
   "metadata": {},
   "source": [
    "## ここで満を持してtestデータの出力確率が75%以上のWalkingかRunだと思われるサンプルだけで保持位置を推定！"
   ]
  },
  {
   "cell_type": "code",
   "execution_count": null,
   "metadata": {},
   "outputs": [],
   "source": [
    "a = np.load(\"test_walking_run_index.npy\")\n",
    "a.shape"
   ]
  },
  {
   "cell_type": "code",
   "execution_count": null,
   "metadata": {},
   "outputs": [],
   "source": [
    "predict = model.predict_proba(test[a])\n",
    "\n",
    "for i in range(len(class_names)):\n",
    "    print(\"{}：{}\".format(class_names[i], np.sum(predict[:, i]>=0.75)))"
   ]
  },
  {
   "cell_type": "code",
   "execution_count": null,
   "metadata": {},
   "outputs": [],
   "source": [
    "_, ax = plt.subplots(figsize=(12, 24))\n",
    "xgb.plot_importance(model,\n",
    "                    ax=ax,\n",
    "                    importance_type='gain',\n",
    "                    show_values=False)\n",
    "plt.grid(False)"
   ]
  },
  {
   "cell_type": "code",
   "execution_count": null,
   "metadata": {},
   "outputs": [],
   "source": [
    "%reset"
   ]
  },
  {
   "cell_type": "markdown",
   "metadata": {},
   "source": [
    "# Trainデータで保持位置決定精度を調査"
   ]
  },
  {
   "cell_type": "code",
   "execution_count": null,
   "metadata": {},
   "outputs": [],
   "source": [
    "import xgboost as xgb\n",
    "import numpy as np\n",
    "\n",
    "from sklearn.model_selection import train_test_split\n",
    "from sklearn.metrics import confusion_matrix\n",
    "from sklearn.model_selection import GridSearchCV\n",
    "\n",
    "import seaborn as sns\n",
    "sns.set(font='Yu Gothic')\n",
    "import matplotlib.pyplot as plt\n",
    "%matplotlib inline\n",
    "\n",
    "from IPython.core.display import display, HTML\n",
    "display(HTML(\"<style>.container { width:90% !important; }</style>\"))"
   ]
  },
  {
   "cell_type": "code",
   "execution_count": null,
   "metadata": {},
   "outputs": [],
   "source": [
    "def load_npy(hold_position):\n",
    "    file_path = \"../Output/train/train_\" + hold_position + \"/train_\" + hold_position\n",
    "    xy_mean = np.load(file_path + \"_glo_laccel_xy_mean.npy\")\n",
    "    xy_var = np.load(file_path + \"_glo_laccel_xy_var.npy\")\n",
    "    z_mean = np.load(file_path + \"_glo_laccel_z_mean.npy\")\n",
    "    z_var = np.load(file_path + \"_glo_laccel_z_var.npy\")\n",
    "    z_skew = np.load(file_path + \"_glo_laccel_z_skew.npy\")\n",
    "    z_kurtosis = np.load(file_path + \"_glo_laccel_z_kurtosis.npy\")\n",
    "    z_lacc_FFT_sum = np.load(file_path + \"_glo_laccel_z_sum_frequency_range5Hz.npy\")[:, 0:-1:2]\n",
    "    z_gyro_FFT_sum = np.load(file_path + \"_glo_gyro_z_ver2_sum_frequency_range5Hz.npy\")[:, 0:-1:2]\n",
    "    norm_mag_FFT_sum = np.load(file_path + \"_glo_mag_norm_ver2_sum_frequency_range5Hz.npy\")[:, 0:-1:2]\n",
    "    z_lacc_FFT = np.load(file_path + \"_glo_laccel_z_amplitude_frequency_range5Hz.npy\")\n",
    "    z_gyro_FFT = np.load(file_path + \"_glo_gyro_z_ver2_amplitude_frequency_range5Hz.npy\")\n",
    "    norm_mag_FFT = np.load(file_path + \"_glo_mag_norm_ver2_amplitude_frequency_range5Hz.npy\")\n",
    "    result = np.concatenate([xy_mean.reshape([-1, 1]), xy_var.reshape([-1, 1]), z_mean.reshape([-1, 1]), z_var.reshape([-1, 1]), z_skew.reshape([-1, 1]), z_kurtosis.reshape([-1, 1]), \\\n",
    "                             z_lacc_FFT_sum, z_gyro_FFT_sum, norm_mag_FFT_sum, z_lacc_FFT, z_gyro_FFT, norm_mag_FFT], axis=1)\n",
    "    del xy_mean, xy_var, z_mean, z_var, z_skew, z_kurtosis, z_lacc_FFT_sum, z_gyro_FFT_sum, norm_mag_FFT_sum, z_gyro_FFT, norm_mag_FFT\n",
    "    return result"
   ]
  },
  {
   "cell_type": "code",
   "execution_count": null,
   "metadata": {},
   "outputs": [],
   "source": [
    "Bag = load_npy(\"Bag\")\n",
    "Hips = load_npy(\"Hips\")\n",
    "Torso = load_npy(\"Torso\")\n",
    "Hand = load_npy(\"Hand\")\n",
    "\n",
    "Hand.shape"
   ]
  },
  {
   "cell_type": "code",
   "execution_count": null,
   "metadata": {},
   "outputs": [],
   "source": [
    "Label = np.load(\"../Data/センサ別npyファイル/train/train_Bag/train_Bag_Label.npy\")[:, 0].reshape([-1, 1])\n",
    "Label.shape"
   ]
  },
  {
   "cell_type": "code",
   "execution_count": null,
   "metadata": {},
   "outputs": [],
   "source": [
    "Bag_train, Bag_val = train_test_split(Bag, test_size=0.7, shuffle=False)\n",
    "Hips_train, Hips_val = train_test_split(Hips, test_size=0.7, shuffle=False)\n",
    "Torso_train, Torso_val = train_test_split(Torso, test_size=0.7, shuffle=False)\n",
    "Hand_train, Hand_val = train_test_split(Hand, test_size=0.7, shuffle=False)\n",
    "Label_train, Label_val = train_test_split(Label, test_size=0.7, shuffle=False)\n",
    "\n",
    "Hand_train.shape, Hand_val.shape"
   ]
  },
  {
   "cell_type": "code",
   "execution_count": null,
   "metadata": {},
   "outputs": [],
   "source": [
    "Y_train = [0] * 58647 + [1] * 58647 + [2] * 58647 + [3] * 58647\n",
    "Y_train = np.array(Y_train).reshape([-1, 1])\n",
    "\n",
    "Y_val = [0] * 136844 + [1] * 136844 + [2] * 136844 + [3] * 136844\n",
    "Y_val = np.array(Y_val).reshape([-1, 1])\n",
    "\n",
    "Y_train.shape, Y_val.shape"
   ]
  },
  {
   "cell_type": "code",
   "execution_count": null,
   "metadata": {},
   "outputs": [],
   "source": [
    "X_train = np.concatenate([Bag_train, Hips_train, Torso_train, Hand_train])\n",
    "X_val = np.concatenate([Bag_val, Hips_val, Torso_val, Hand_val])\n",
    "\n",
    "X_train.shape, X_val.shape"
   ]
  },
  {
   "cell_type": "code",
   "execution_count": null,
   "metadata": {},
   "outputs": [],
   "source": [
    "Label_train = np.concatenate([Label_train, Label_train, Label_train, Label_train], axis=0)\n",
    "Label_val = np.concatenate([Label_val, Label_val, Label_val, Label_val], axis=0)\n",
    "\n",
    "Label_train.shape, Label_val.shape"
   ]
  },
  {
   "cell_type": "code",
   "execution_count": null,
   "metadata": {},
   "outputs": [],
   "source": [
    "Y_train = np.concatenate([Y_train, Label_train], axis=1)\n",
    "Y_val = np.concatenate([Y_val, Label_val], axis=1)\n",
    "\n",
    "Y_train.shape, Y_val.shape"
   ]
  },
  {
   "cell_type": "code",
   "execution_count": null,
   "metadata": {},
   "outputs": [],
   "source": [
    "model = xgb.XGBClassifier(max_depth=18, min_child_weight=7, learning_rate=0.1, gamma=0.005, sub_sample=0.9, colsample_bytree=0.8, \n",
    "                          n_jobs=-1, tree_method='gpu_hist', gpu_id=0, n_estimator=50)\n",
    "model.fit(X_train[(Y_train[:, 1] > 1) & (Y_train[:, 1] <= 3)], Y_train[(Y_train[:, 1] > 1) & (Y_train[:, 1] <= 3)][:, 0])"
   ]
  },
  {
   "cell_type": "code",
   "execution_count": null,
   "metadata": {},
   "outputs": [],
   "source": [
    "def plot_confusion_matrix(test_y,pred_y,class_names,normalize=False):\n",
    "    cm = confusion_matrix(test_y,pred_y)\n",
    "    # classes = class_names[unique_labels(test_y,pred_y)]\n",
    "    if normalize:\n",
    "        cm = cm.astype('float') / cm.sum(axis=1)[:, np.newaxis]\n",
    "    fig, ax = plt.subplots(figsize=(16, 8))\n",
    "    im = ax.imshow(cm, interpolation='nearest', cmap=plt.cm.Blues)\n",
    "    ax.figure.colorbar(im, ax=ax)\n",
    "    ax.set(xticks=np.arange(cm.shape[1]),\n",
    "           yticks=np.arange(cm.shape[0]),\n",
    "           xticklabels=class_names,\n",
    "           yticklabels=class_names,\n",
    "           ylabel='True label\\n',\n",
    "           xlabel='\\nPredicted label')\n",
    "    fmt = '.2f' if normalize else 'd'\n",
    "    for i in range(cm.shape[0]):\n",
    "        for j in range(cm.shape[1]):\n",
    "            ax.text(j,\n",
    "                    i,\n",
    "                    format(cm[i, j], fmt),\n",
    "                    ha=\"center\",\n",
    "                    va=\"center\",\n",
    "                    color=\"red\", fontsize=16)\n",
    "    fig.tight_layout()\n",
    "    return ax"
   ]
  },
  {
   "cell_type": "code",
   "execution_count": null,
   "metadata": {},
   "outputs": [],
   "source": [
    "class_names = ['Bag', 'Hips', 'Torso', 'Hand']\n",
    "\n",
    "predict = model.predict(X_val[(Y_val[:, 1] > 1) & (Y_val[:, 1] <= 3)])\n",
    "plot_confusion_matrix(Y_val[(Y_val[:, 1] > 1) & (Y_val[:, 1] <= 3)][:, 0], predict, class_names, True)\n",
    "plt.grid(False)"
   ]
  },
  {
   "cell_type": "code",
   "execution_count": null,
   "metadata": {},
   "outputs": [],
   "source": [
    "%reset"
   ]
  },
  {
   "cell_type": "markdown",
   "metadata": {},
   "source": [
    "# trainデータ全部学習→validationデータの保持位置推定の精度を確認"
   ]
  },
  {
   "cell_type": "code",
   "execution_count": 1,
   "metadata": {},
   "outputs": [
    {
     "data": {
      "text/html": [
       "<style>.container { width:90% !important; }</style>"
      ],
      "text/plain": [
       "<IPython.core.display.HTML object>"
      ]
     },
     "metadata": {},
     "output_type": "display_data"
    }
   ],
   "source": [
    "import numpy as np\n",
    "import os\n",
    "import random\n",
    "import scipy\n",
    "from scipy import signal\n",
    "from numpy.fft import fft\n",
    "from sklearn.metrics import confusion_matrix\n",
    "from sklearn.metrics import f1_score\n",
    "\n",
    "import tensorflow as tf\n",
    "from tensorflow.keras import layers, models\n",
    "from tensorflow.keras.initializers import he_normal\n",
    "from tensorflow.python.keras.utils.vis_utils import plot_model\n",
    "\n",
    "from sklearn.model_selection import train_test_split\n",
    "\n",
    "import pandas as pd\n",
    "import pickle\n",
    "\n",
    "import seaborn as sns\n",
    "sns.set(font='Yu Gothic')\n",
    "import matplotlib.pyplot as plt\n",
    "%matplotlib inline\n",
    "\n",
    "from IPython.core.display import display, HTML\n",
    "display(HTML(\"<style>.container { width:90% !important; }</style>\"))"
   ]
  },
  {
   "cell_type": "code",
   "execution_count": 2,
   "metadata": {},
   "outputs": [
    {
     "data": {
      "text/plain": [
       "(195491,)"
      ]
     },
     "execution_count": 2,
     "metadata": {},
     "output_type": "execute_result"
    }
   ],
   "source": [
    "Label = np.load(\"../Data/センサ別npyファイル/train/train_Bag/train_Bag_Label.npy\")[:, 0].reshape([-1])\n",
    "Label.shape"
   ]
  },
  {
   "cell_type": "code",
   "execution_count": 3,
   "metadata": {},
   "outputs": [
    {
     "data": {
      "text/plain": [
       "(32827, 1, 128, 25)"
      ]
     },
     "execution_count": 3,
     "metadata": {},
     "output_type": "execute_result"
    }
   ],
   "source": [
    "Bag = np.load(\"../Output/train/train_Bag/train_Bag_lacc_norm_spectram.npy\").reshape([-1, 1, 128, 25])[(Label == 2) | (Label == 3)]\n",
    "Hips = np.delete(np.load(\"../Output/train/train_Hips/train_Hips_lacc_norm_spectram.npy\"), 120845, 0).reshape([-1, 1, 128, 25])[(np.delete(Label, 120845, 0) > 1) & (np.delete(Label, 120845, 0) <= 3)]\n",
    "Torso = np.load(\"../Output/train/train_Torso/train_Torso_lacc_norm_spectram.npy\").reshape([-1, 1, 128, 25])[(Label == 2) | (Label == 3)]\n",
    "Hand = np.load(\"../Output/train/train_Hand/train_Hand_lacc_norm_spectram.npy\").reshape([-1, 1, 128, 25])[(Label == 2) | (Label == 3)]\n",
    "\n",
    "Hand.shape"
   ]
  },
  {
   "cell_type": "code",
   "execution_count": 3,
   "metadata": {},
   "outputs": [
    {
     "data": {
      "text/plain": [
       "(64531, 1, 128, 25)"
      ]
     },
     "execution_count": 3,
     "metadata": {},
     "output_type": "execute_result"
    }
   ],
   "source": [
    "Bag = np.load(\"../Output/train/train_Bag/train_Bag_lacc_norm_spectram.npy\").reshape([-1, 1, 128, 25])[(Label == 2) | (Label == 3) | (Label == 5)]\n",
    "Hips = np.delete(np.load(\"../Output/train/train_Hips/train_Hips_lacc_norm_spectram.npy\"), 120845, 0).reshape([-1, 1, 128, 25])[(np.delete(Label, 120845, 0) == 2) | (np.delete(Label, 120845, 0) == 3) | (np.delete(Label, 120845, 0) == 5)]\n",
    "Torso = np.load(\"../Output/train/train_Torso/train_Torso_lacc_norm_spectram.npy\").reshape([-1, 1, 128, 25])[(Label == 2) | (Label == 3) | (Label == 5)]\n",
    "# Hand = np.load(\"../Output/train/train_Hand/train_Hand_lacc_norm_spectram.npy\").reshape([-1, 1, 128, 25])[(Label == 2) | (Label == 3) | (Label == 5)]\n",
    "\n",
    "Bag.shape"
   ]
  },
  {
   "cell_type": "code",
   "execution_count": null,
   "metadata": {},
   "outputs": [],
   "source": [
    "Bag = np.concatenate([Bag, np.load(\"../Output/train/train_Bag/train_Bag_gyr_norm_spectram.npy\").reshape([-1, 1, 128, 25])[(Label == 2) | (Label == 3)]], axis=1)\n",
    "Hips = np.concatenate([Hips, np.delete(np.load(\"../Output/train/train_Hips/train_Hips_gyr_norm_spectram.npy\"), 120845, 0).reshape([-1, 1, 128, 25])[(np.delete(Label, 120845, 0) > 1) & (np.delete(Label, 120845, 0) <= 3)]], axis=1)\n",
    "Torso = np.concatenate([Torso, np.load(\"../Output/train/train_Torso/train_Torso_gyr_norm_spectram.npy\").reshape([-1, 1, 128, 25])[(Label == 2) | (Label == 3)]], axis=1)\n",
    "Hand = np.concatenate([Hand, np.load(\"../Output/train/train_Hand/train_Hand_gyr_norm_spectram.npy\").reshape([-1, 1, 128, 25])[(Label == 2) | (Label == 3)]], axis=1)\n",
    "\n",
    "Hand.shape"
   ]
  },
  {
   "cell_type": "code",
   "execution_count": 4,
   "metadata": {},
   "outputs": [
    {
     "data": {
      "text/plain": [
       "(64531, 2, 128, 25)"
      ]
     },
     "execution_count": 4,
     "metadata": {},
     "output_type": "execute_result"
    }
   ],
   "source": [
    "Bag = np.concatenate([Bag, np.load(\"../Output/train/train_Bag/train_Bag_gyr_norm_spectram.npy\").reshape([-1, 1, 128, 25])[(Label == 2) | (Label == 3) | (Label == 5)]], axis=1)\n",
    "Hips = np.concatenate([Hips, np.delete(np.load(\"../Output/train/train_Hips/train_Hips_gyr_norm_spectram.npy\"), 120845, 0).reshape([-1, 1, 128, 25])[(np.delete(Label, 120845, 0) == 2) | (np.delete(Label, 120845, 0) == 3) | (np.delete(Label, 120845, 0) == 5)]], axis=1)\n",
    "Torso = np.concatenate([Torso, np.load(\"../Output/train/train_Torso/train_Torso_gyr_norm_spectram.npy\").reshape([-1, 1, 128, 25])[(Label == 2) | (Label == 3) | (Label == 5)]], axis=1)\n",
    "# Hand = np.concatenate([Hand, np.load(\"../Output/train/train_Hand/train_Hand_gyr_norm_spectram.npy\").reshape([-1, 1, 128, 25])[(Label == 2) | (Label == 3) | (Label == 5)]], axis=1)\n",
    "\n",
    "Bag.shape"
   ]
  },
  {
   "cell_type": "code",
   "execution_count": 5,
   "metadata": {},
   "outputs": [
    {
     "data": {
      "text/plain": [
       "(64530, 2, 128, 25)"
      ]
     },
     "execution_count": 5,
     "metadata": {},
     "output_type": "execute_result"
    }
   ],
   "source": [
    "Hips.shape"
   ]
  },
  {
   "cell_type": "code",
   "execution_count": 6,
   "metadata": {},
   "outputs": [
    {
     "data": {
      "text/plain": [
       "((193592, 2, 128, 25), (193592, 2))"
      ]
     },
     "execution_count": 6,
     "metadata": {},
     "output_type": "execute_result"
    }
   ],
   "source": [
    "X_train = np.concatenate([Bag, Hips, Torso], axis=0)\n",
    "Y_train = [0] * 64531 + [1] * 64530 + [2] * 64531\n",
    "Y_train = np.array(Y_train).reshape([-1, 1])\n",
    "\n",
    "Label = np.concatenate([Label, np.delete(Label, 120845, 0), Label], axis=0)\n",
    "\n",
    "Y_train = np.concatenate([Y_train, Label[(Label == 2) | (Label == 3) | (Label == 5)].reshape([-1, 1])], axis=1)\n",
    "del Label\n",
    "X_train.shape, Y_train.shape"
   ]
  },
  {
   "cell_type": "code",
   "execution_count": 7,
   "metadata": {},
   "outputs": [
    {
     "data": {
      "text/plain": [
       "(28685,)"
      ]
     },
     "execution_count": 7,
     "metadata": {},
     "output_type": "execute_result"
    }
   ],
   "source": [
    "Label = np.load(\"../Data/センサ別npyファイル/validation/validation_Bag/validation_Bag_Label.npy\")[:, 0].reshape([-1])\n",
    "\n",
    "Label.shape"
   ]
  },
  {
   "cell_type": "code",
   "execution_count": null,
   "metadata": {},
   "outputs": [],
   "source": [
    "Bag = np.load(\"../Output/validation/validation_Bag/validation_Bag_lacc_norm_spectram.npy\").reshape([-1, 1, 128, 25])[(Label > 1) & (Label <= 3)]\n",
    "Hips = np.load(\"../Output/validation/validation_Hips/validation_Hips_lacc_norm_spectram.npy\").reshape([-1, 1, 128, 25])[(Label > 1) & (Label <= 3)]\n",
    "Torso = np.load(\"../Output/validation/validation_Torso/validation_Torso_lacc_norm_spectram.npy\").reshape([-1, 1, 128, 25])[(Label > 1) & (Label <= 3)]\n",
    "Hand = np.load(\"../Output/validation/validation_Hand/validation_Hand_lacc_norm_spectram.npy\").reshape([-1, 1, 128, 25])[(Label > 1) & (Label <= 3)]\n",
    "\n",
    "Hand.shape"
   ]
  },
  {
   "cell_type": "code",
   "execution_count": 8,
   "metadata": {},
   "outputs": [
    {
     "data": {
      "text/plain": [
       "(9830, 1, 128, 25)"
      ]
     },
     "execution_count": 8,
     "metadata": {},
     "output_type": "execute_result"
    }
   ],
   "source": [
    "Bag = np.load(\"../Output/validation/validation_Bag/validation_Bag_lacc_norm_spectram.npy\").reshape([-1, 1, 128, 25])[(Label == 2) | (Label == 3) | (Label == 5)]\n",
    "Hips = np.load(\"../Output/validation/validation_Hips/validation_Hips_lacc_norm_spectram.npy\").reshape([-1, 1, 128, 25])[(Label == 2) | (Label == 3) | (Label == 5)]\n",
    "Torso = np.load(\"../Output/validation/validation_Torso/validation_Torso_lacc_norm_spectram.npy\").reshape([-1, 1, 128, 25])[(Label == 2) | (Label == 3) | (Label == 5)]\n",
    "# Hand = np.load(\"../Output/validation/validation_Hand/validation_Hand_lacc_norm_spectram.npy\").reshape([-1, 1, 128, 25])[(Label == 2) | (Label == 3) | (Label == 5)]\n",
    "\n",
    "Bag.shape"
   ]
  },
  {
   "cell_type": "code",
   "execution_count": null,
   "metadata": {},
   "outputs": [],
   "source": [
    "Bag = np.concatenate([Bag, np.load(\"../Output/validation/validation_Bag/validation_Bag_gyr_norm_spectram.npy\").reshape([-1, 1, 128, 25])[(Label > 1) & (Label <= 3)]], axis=1)\n",
    "Hips = np.concatenate([Hips, np.load(\"../Output/validation/validation_Hips/validation_Hips_gyr_norm_spectram.npy\").reshape([-1, 1, 128, 25])[(Label > 1) & (Label <= 3)]], axis=1)\n",
    "Torso = np.concatenate([Torso, np.load(\"../Output/validation/validation_Torso/validation_Torso_gyr_norm_spectram.npy\").reshape([-1, 1, 128, 25])[(Label > 1) & (Label <= 3)]], axis=1)\n",
    "Hand = np.concatenate([Hand, np.load(\"../Output/validation/validation_Hand/validation_Hand_gyr_norm_spectram.npy\").reshape([-1, 1, 128, 25])[(Label > 1) & (Label <= 3)]], axis=1)\n",
    "\n",
    "Hand.shape"
   ]
  },
  {
   "cell_type": "code",
   "execution_count": 9,
   "metadata": {},
   "outputs": [
    {
     "data": {
      "text/plain": [
       "(9830, 2, 128, 25)"
      ]
     },
     "execution_count": 9,
     "metadata": {},
     "output_type": "execute_result"
    }
   ],
   "source": [
    "Bag = np.concatenate([Bag, np.load(\"../Output/validation/validation_Bag/validation_Bag_gyr_norm_spectram.npy\").reshape([-1, 1, 128, 25])[(Label == 2) | (Label == 3) | (Label == 5)]], axis=1)\n",
    "Hips = np.concatenate([Hips, np.load(\"../Output/validation/validation_Hips/validation_Hips_gyr_norm_spectram.npy\").reshape([-1, 1, 128, 25])[(Label == 2) | (Label == 3) | (Label == 5)]], axis=1)\n",
    "Torso = np.concatenate([Torso, np.load(\"../Output/validation/validation_Torso/validation_Torso_gyr_norm_spectram.npy\").reshape([-1, 1, 128, 25])[(Label == 2) | (Label == 3) | (Label == 5)]], axis=1)\n",
    "# Hand = np.concatenate([Hand, np.load(\"../Output/validation/validation_Hand/validation_Hand_gyr_norm_spectram.npy\").reshape([-1, 1, 128, 25])[(Label == 2) | (Label == 3) | (Label == 5)]], axis=1)\n",
    "\n",
    "Bag.shape"
   ]
  },
  {
   "cell_type": "code",
   "execution_count": 10,
   "metadata": {},
   "outputs": [
    {
     "data": {
      "text/plain": [
       "((29490, 2, 128, 25), (29490, 2))"
      ]
     },
     "execution_count": 10,
     "metadata": {},
     "output_type": "execute_result"
    }
   ],
   "source": [
    "X_val = np.concatenate([Bag, Hips, Torso], axis=0)\n",
    "Y_val = [0] * 9830 + [1] * 9830 + [2] * 9830\n",
    "Y_val = np.array(Y_val).reshape([-1, 1])\n",
    "\n",
    "Label = np.concatenate([Label, Label, Label], axis=0).reshape([-1])\n",
    "\n",
    "Y_val = np.concatenate([Y_val, Label[(Label == 2) | (Label == 3) | (Label == 5)].reshape([-1, 1])], axis=1)\n",
    "del Label\n",
    "X_val.shape, Y_val.shape"
   ]
  },
  {
   "cell_type": "code",
   "execution_count": 6,
   "metadata": {},
   "outputs": [],
   "source": [
    "X_val = X_val.reshape([-1, 2, 128, 25, 1])"
   ]
  },
  {
   "cell_type": "code",
   "execution_count": 11,
   "metadata": {},
   "outputs": [
    {
     "data": {
      "text/plain": [
       "((193592, 2, 128, 25, 1), (29490, 2, 128, 25, 1))"
      ]
     },
     "execution_count": 11,
     "metadata": {},
     "output_type": "execute_result"
    }
   ],
   "source": [
    "X_train = X_train.reshape([-1, 2, 128, 25, 1])\n",
    "X_val = X_val.reshape([-1, 2, 128, 25, 1])\n",
    "\n",
    "X_train.shape, X_val.shape"
   ]
  },
  {
   "cell_type": "code",
   "execution_count": 13,
   "metadata": {},
   "outputs": [
    {
     "data": {
      "text/plain": [
       "([array([    0,     1,     2, ..., 45168, 45169, 45170], dtype=int64),\n",
       "  array([ 64531,  64532,  64533, ..., 109699, 109700, 109701], dtype=int64),\n",
       "  array([129061, 129062, 129063, ..., 174229, 174230, 174231], dtype=int64),\n",
       "  array([193592, 193593, 193594, ..., 238760, 238761, 238762], dtype=int64)],\n",
       " [array([45171, 45172, 45173, ..., 64528, 64529, 64530], dtype=int64),\n",
       "  array([109702, 109703, 109704, ..., 129058, 129059, 129060], dtype=int64),\n",
       "  array([174232, 174233, 174234, ..., 193589, 193590, 193591], dtype=int64),\n",
       "  array([238763, 238764, 238765, ..., 258120, 258121, 258122], dtype=int64)],\n",
       " 45171,\n",
       " 19360)"
      ]
     },
     "execution_count": 13,
     "metadata": {},
     "output_type": "execute_result"
    }
   ],
   "source": [
    "learns = []\n",
    "tests = []\n",
    "\n",
    "for i in range(4):\n",
    "    tmp = np.where(Y_train[:, 0] == i)[0]\n",
    "    learns.append(tmp[:tmp.shape[0]//10*7])\n",
    "    tests.append(tmp[tmp.shape[0]//10*7:])\n",
    "    \n",
    "learns, tests, len(learns[0]), len(tests[0])"
   ]
  },
  {
   "cell_type": "code",
   "execution_count": 7,
   "metadata": {},
   "outputs": [
    {
     "data": {
      "text/plain": [
       "([array([   0,    1,    2, ..., 6878, 6879, 6880], dtype=int64),\n",
       "  array([ 9830,  9831,  9832, ..., 16708, 16709, 16710], dtype=int64),\n",
       "  array([19660, 19661, 19662, ..., 26538, 26539, 26540], dtype=int64),\n",
       "  array([29490, 29491, 29492, ..., 36368, 36369, 36370], dtype=int64)],\n",
       " [array([6881, 6882, 6883, ..., 9827, 9828, 9829], dtype=int64),\n",
       "  array([16711, 16712, 16713, ..., 19657, 19658, 19659], dtype=int64),\n",
       "  array([26541, 26542, 26543, ..., 29487, 29488, 29489], dtype=int64),\n",
       "  array([36371, 36372, 36373, ..., 39317, 39318, 39319], dtype=int64)],\n",
       " 6881,\n",
       " 2949)"
      ]
     },
     "execution_count": 7,
     "metadata": {},
     "output_type": "execute_result"
    }
   ],
   "source": [
    "learns = []\n",
    "tests = []\n",
    "\n",
    "for i in range(4):\n",
    "    tmp = np.where(Y_val[:, 0] == i)[0]\n",
    "    learns.append(tmp[:tmp.shape[0]//10*7])\n",
    "    tests.append(tmp[tmp.shape[0]//10*7:])\n",
    "    \n",
    "learns, tests, len(learns[0]), len(tests[0])"
   ]
  },
  {
   "cell_type": "code",
   "execution_count": 14,
   "metadata": {},
   "outputs": [
    {
     "data": {
      "text/plain": [
       "((180684, 2, 128, 25, 1), (180684, 2), (77439, 2, 128, 25, 1), (77439, 2))"
      ]
     },
     "execution_count": 14,
     "metadata": {},
     "output_type": "execute_result"
    }
   ],
   "source": [
    "x_train = X_train[learns[0]]\n",
    "y_train = Y_train[learns[0]]\n",
    "x_val = X_train[tests[0]]\n",
    "y_val = Y_train[tests[0]]\n",
    "\n",
    "for i in range(1, len(learns)):\n",
    "    x_train = np.concatenate([x_train, X_train[learns[i]]])\n",
    "    y_train = np.concatenate([y_train, Y_train[learns[i]]])\n",
    "    \n",
    "    x_val = np.concatenate([x_val, X_train[tests[i]]])\n",
    "    y_val = np.concatenate([y_val, Y_train[tests[i]]])\n",
    "    \n",
    "x_train.shape, y_train.shape, x_val.shape, y_val.shape"
   ]
  },
  {
   "cell_type": "code",
   "execution_count": 8,
   "metadata": {},
   "outputs": [
    {
     "data": {
      "text/plain": [
       "((27524, 2, 128, 25, 1), (27524, 2), (11796, 2, 128, 25, 1), (11796, 2))"
      ]
     },
     "execution_count": 8,
     "metadata": {},
     "output_type": "execute_result"
    }
   ],
   "source": [
    "x_train = X_val[learns[0]]\n",
    "y_train = Y_val[learns[0]]\n",
    "x_val = X_val[tests[0]]\n",
    "y_val = Y_val[tests[0]]\n",
    "\n",
    "for i in range(1, len(learns)):\n",
    "    x_train = np.concatenate([x_train, X_val[learns[i]]])\n",
    "    y_train = np.concatenate([y_train, Y_val[learns[i]]])\n",
    "    \n",
    "    x_val = np.concatenate([x_val, X_val[tests[i]]])\n",
    "    y_val = np.concatenate([y_val, Y_val[tests[i]]])\n",
    "    \n",
    "x_train.shape, y_train.shape, x_val.shape, y_val.shape"
   ]
  },
  {
   "cell_type": "code",
   "execution_count": 12,
   "metadata": {},
   "outputs": [],
   "source": [
    "def BuildModel(input_shape):\n",
    "    input1 = layers.Input(shape=input_shape)\n",
    "    x = layers.Conv2D(64, (3, 3), padding='valid', activation='relu', kernel_initializer=he_normal())(input1)\n",
    "    x = layers.Conv2D(32, (3, 3), padding='same', activation='relu')(x)\n",
    "    x = layers.MaxPooling2D((2, 2))(x)\n",
    "    x = layers.BatchNormalization()(x)\n",
    "    x = layers.Conv2D(64, (3, 3), padding='same', activation='relu')(x)\n",
    "    x = layers.Conv2D(32, (3, 3), padding='same', activation='relu')(x)\n",
    "    x = layers.MaxPooling2D((2, 2))(x)\n",
    "    x = layers.Dropout(0.2)(x)\n",
    "    x = layers.Conv2D(64, (3, 3), padding='same', activation='relu')(x)\n",
    "    x = layers.Conv2D(32, (3, 3), padding='same', activation='relu')(x)\n",
    "    x = layers.MaxPooling2D((2, 2))(x)\n",
    "    x = layers.BatchNormalization()(x)\n",
    "    x = layers.Flatten()(x)\n",
    "    x = layers.Dense(128, activation='relu')(x)\n",
    "    x = layers.Dense(64, activation='relu')(x)\n",
    "    x = layers.BatchNormalization()(x)\n",
    "    x = layers.Dense(16, activation='relu')(x)\n",
    "    x = models.Model(inputs=input1, outputs=x)\n",
    "    return x"
   ]
  },
  {
   "cell_type": "code",
   "execution_count": 10,
   "metadata": {},
   "outputs": [
    {
     "data": {
      "text/plain": [
       "(128, 25, 1)"
      ]
     },
     "execution_count": 10,
     "metadata": {},
     "output_type": "execute_result"
    }
   ],
   "source": [
    "x_train[0, 1].shape"
   ]
  },
  {
   "cell_type": "code",
   "execution_count": 13,
   "metadata": {
    "scrolled": true
   },
   "outputs": [
    {
     "name": "stdout",
     "output_type": "stream",
     "text": [
      "Model: \"model_2\"\n",
      "__________________________________________________________________________________________________\n",
      "Layer (type)                    Output Shape         Param #     Connected to                     \n",
      "==================================================================================================\n",
      "input_1 (InputLayer)            [(None, 128, 25, 1)] 0                                            \n",
      "__________________________________________________________________________________________________\n",
      "input_2 (InputLayer)            [(None, 128, 25, 1)] 0                                            \n",
      "__________________________________________________________________________________________________\n",
      "conv2d (Conv2D)                 (None, 126, 23, 64)  640         input_1[0][0]                    \n",
      "__________________________________________________________________________________________________\n",
      "conv2d_6 (Conv2D)               (None, 126, 23, 64)  640         input_2[0][0]                    \n",
      "__________________________________________________________________________________________________\n",
      "conv2d_1 (Conv2D)               (None, 126, 23, 32)  18464       conv2d[0][0]                     \n",
      "__________________________________________________________________________________________________\n",
      "conv2d_7 (Conv2D)               (None, 126, 23, 32)  18464       conv2d_6[0][0]                   \n",
      "__________________________________________________________________________________________________\n",
      "max_pooling2d (MaxPooling2D)    (None, 63, 11, 32)   0           conv2d_1[0][0]                   \n",
      "__________________________________________________________________________________________________\n",
      "max_pooling2d_3 (MaxPooling2D)  (None, 63, 11, 32)   0           conv2d_7[0][0]                   \n",
      "__________________________________________________________________________________________________\n",
      "batch_normalization (BatchNorma (None, 63, 11, 32)   128         max_pooling2d[0][0]              \n",
      "__________________________________________________________________________________________________\n",
      "batch_normalization_3 (BatchNor (None, 63, 11, 32)   128         max_pooling2d_3[0][0]            \n",
      "__________________________________________________________________________________________________\n",
      "conv2d_2 (Conv2D)               (None, 63, 11, 64)   18496       batch_normalization[0][0]        \n",
      "__________________________________________________________________________________________________\n",
      "conv2d_8 (Conv2D)               (None, 63, 11, 64)   18496       batch_normalization_3[0][0]      \n",
      "__________________________________________________________________________________________________\n",
      "conv2d_3 (Conv2D)               (None, 63, 11, 32)   18464       conv2d_2[0][0]                   \n",
      "__________________________________________________________________________________________________\n",
      "conv2d_9 (Conv2D)               (None, 63, 11, 32)   18464       conv2d_8[0][0]                   \n",
      "__________________________________________________________________________________________________\n",
      "max_pooling2d_1 (MaxPooling2D)  (None, 31, 5, 32)    0           conv2d_3[0][0]                   \n",
      "__________________________________________________________________________________________________\n",
      "max_pooling2d_4 (MaxPooling2D)  (None, 31, 5, 32)    0           conv2d_9[0][0]                   \n",
      "__________________________________________________________________________________________________\n",
      "dropout (Dropout)               (None, 31, 5, 32)    0           max_pooling2d_1[0][0]            \n",
      "__________________________________________________________________________________________________\n",
      "dropout_1 (Dropout)             (None, 31, 5, 32)    0           max_pooling2d_4[0][0]            \n",
      "__________________________________________________________________________________________________\n",
      "conv2d_4 (Conv2D)               (None, 31, 5, 64)    18496       dropout[0][0]                    \n",
      "__________________________________________________________________________________________________\n",
      "conv2d_10 (Conv2D)              (None, 31, 5, 64)    18496       dropout_1[0][0]                  \n",
      "__________________________________________________________________________________________________\n",
      "conv2d_5 (Conv2D)               (None, 31, 5, 32)    18464       conv2d_4[0][0]                   \n",
      "__________________________________________________________________________________________________\n",
      "conv2d_11 (Conv2D)              (None, 31, 5, 32)    18464       conv2d_10[0][0]                  \n",
      "__________________________________________________________________________________________________\n",
      "max_pooling2d_2 (MaxPooling2D)  (None, 15, 2, 32)    0           conv2d_5[0][0]                   \n",
      "__________________________________________________________________________________________________\n",
      "max_pooling2d_5 (MaxPooling2D)  (None, 15, 2, 32)    0           conv2d_11[0][0]                  \n",
      "__________________________________________________________________________________________________\n",
      "batch_normalization_1 (BatchNor (None, 15, 2, 32)    128         max_pooling2d_2[0][0]            \n",
      "__________________________________________________________________________________________________\n",
      "batch_normalization_4 (BatchNor (None, 15, 2, 32)    128         max_pooling2d_5[0][0]            \n",
      "__________________________________________________________________________________________________\n",
      "flatten (Flatten)               (None, 960)          0           batch_normalization_1[0][0]      \n",
      "__________________________________________________________________________________________________\n",
      "flatten_1 (Flatten)             (None, 960)          0           batch_normalization_4[0][0]      \n",
      "__________________________________________________________________________________________________\n",
      "dense (Dense)                   (None, 128)          123008      flatten[0][0]                    \n",
      "__________________________________________________________________________________________________\n",
      "dense_3 (Dense)                 (None, 128)          123008      flatten_1[0][0]                  \n",
      "__________________________________________________________________________________________________\n",
      "dense_1 (Dense)                 (None, 64)           8256        dense[0][0]                      \n",
      "__________________________________________________________________________________________________\n",
      "dense_4 (Dense)                 (None, 64)           8256        dense_3[0][0]                    \n",
      "__________________________________________________________________________________________________\n",
      "batch_normalization_2 (BatchNor (None, 64)           256         dense_1[0][0]                    \n",
      "__________________________________________________________________________________________________\n",
      "batch_normalization_5 (BatchNor (None, 64)           256         dense_4[0][0]                    \n",
      "__________________________________________________________________________________________________\n",
      "dense_2 (Dense)                 (None, 16)           1040        batch_normalization_2[0][0]      \n",
      "__________________________________________________________________________________________________\n",
      "dense_5 (Dense)                 (None, 16)           1040        batch_normalization_5[0][0]      \n",
      "__________________________________________________________________________________________________\n",
      "concatenate (Concatenate)       (None, 32)           0           dense_2[0][0]                    \n",
      "                                                                 dense_5[0][0]                    \n",
      "__________________________________________________________________________________________________\n",
      "dense_6 (Dense)                 (None, 64)           2112        concatenate[0][0]                \n",
      "__________________________________________________________________________________________________\n",
      "dense_7 (Dense)                 (None, 16)           1040        dense_6[0][0]                    \n",
      "__________________________________________________________________________________________________\n",
      "dense_8 (Dense)                 (None, 3)            51          dense_7[0][0]                    \n",
      "==================================================================================================\n",
      "Total params: 454,883\n",
      "Trainable params: 454,371\n",
      "Non-trainable params: 512\n",
      "__________________________________________________________________________________________________\n"
     ]
    }
   ],
   "source": [
    "x1 = BuildModel(X_train[0, 0].shape)\n",
    "x2 = BuildModel(X_train[0, 1].shape)\n",
    "\n",
    "combined = layers.concatenate([x1.output, x2.output])\n",
    "\n",
    "z = layers.Dense(64, activation='relu')(combined)\n",
    "z = layers.Dense(16, activation='relu')(z)\n",
    "z = layers.Dense(3, activation='softmax')(z)\n",
    "\n",
    "model = models.Model(inputs=[x1.input, x2.input], outputs=z)\n",
    "model.compile(optimizer=tf.keras.optimizers.Adam(0.01),\n",
    "              loss='sparse_categorical_crossentropy',\n",
    "              metrics=['accuracy'])\n",
    "model.summary()"
   ]
  },
  {
   "cell_type": "code",
   "execution_count": 14,
   "metadata": {
    "scrolled": true
   },
   "outputs": [
    {
     "name": "stdout",
     "output_type": "stream",
     "text": [
      "Train on 193592 samples, validate on 29490 samples\n",
      "Epoch 1/256\n",
      "193592/193592 [==============================] - 137s 708us/sample - loss: 0.6066 - accuracy: 0.7395 - val_loss: 1.5324 - val_accuracy: 0.5211\n",
      "Epoch 2/256\n",
      "193592/193592 [==============================] - 89s 460us/sample - loss: 0.4699 - accuracy: 0.8018 - val_loss: 1.1121 - val_accuracy: 0.5803\n",
      "Epoch 3/256\n",
      "193592/193592 [==============================] - 89s 459us/sample - loss: 0.4326 - accuracy: 0.8193 - val_loss: 1.1374 - val_accuracy: 0.6333\n",
      "Epoch 4/256\n",
      "193592/193592 [==============================] - 89s 462us/sample - loss: 0.4081 - accuracy: 0.8296 - val_loss: 0.9702 - val_accuracy: 0.6137\n",
      "Epoch 5/256\n",
      "193592/193592 [==============================] - 89s 459us/sample - loss: 0.3948 - accuracy: 0.8353 - val_loss: 1.2383 - val_accuracy: 0.5552\n",
      "Epoch 6/256\n",
      "193592/193592 [==============================] - 89s 459us/sample - loss: 0.3839 - accuracy: 0.8406 - val_loss: 0.9960 - val_accuracy: 0.6335\n",
      "Epoch 7/256\n",
      "193592/193592 [==============================] - 89s 459us/sample - loss: 0.3724 - accuracy: 0.8453 - val_loss: 0.9675 - val_accuracy: 0.6432\n",
      "Epoch 8/256\n",
      "193592/193592 [==============================] - 89s 460us/sample - loss: 0.3630 - accuracy: 0.8498 - val_loss: 0.9190 - val_accuracy: 0.6534\n",
      "Epoch 9/256\n",
      "193592/193592 [==============================] - 89s 459us/sample - loss: 0.3546 - accuracy: 0.8529 - val_loss: 0.9473 - val_accuracy: 0.6223\n",
      "Epoch 10/256\n",
      "193592/193592 [==============================] - 89s 460us/sample - loss: 0.3455 - accuracy: 0.8562 - val_loss: 0.8918 - val_accuracy: 0.6585\n",
      "Epoch 11/256\n",
      "193592/193592 [==============================] - 89s 459us/sample - loss: 0.3376 - accuracy: 0.8600 - val_loss: 1.2704 - val_accuracy: 0.5895\n",
      "Epoch 12/256\n",
      "193592/193592 [==============================] - 89s 459us/sample - loss: 0.3342 - accuracy: 0.8616 - val_loss: 2.2723 - val_accuracy: 0.4837\n",
      "Epoch 13/256\n",
      "193592/193592 [==============================] - 89s 459us/sample - loss: 0.3284 - accuracy: 0.8647 - val_loss: 1.1571 - val_accuracy: 0.6003\n",
      "Epoch 14/256\n",
      "193592/193592 [==============================] - 89s 459us/sample - loss: 0.3198 - accuracy: 0.8673 - val_loss: 0.8965 - val_accuracy: 0.6705\n",
      "Epoch 15/256\n",
      "193592/193592 [==============================] - 89s 459us/sample - loss: 0.3150 - accuracy: 0.8698 - val_loss: 1.0976 - val_accuracy: 0.6059\n",
      "Epoch 16/256\n",
      "193592/193592 [==============================] - 89s 459us/sample - loss: 0.3090 - accuracy: 0.8731 - val_loss: 0.9078 - val_accuracy: 0.6431\n",
      "Epoch 17/256\n",
      "193592/193592 [==============================] - 89s 459us/sample - loss: 0.3044 - accuracy: 0.8747 - val_loss: 1.1515 - val_accuracy: 0.5914\n",
      "Epoch 18/256\n",
      "193592/193592 [==============================] - 89s 459us/sample - loss: 0.2993 - accuracy: 0.8759 - val_loss: 1.0887 - val_accuracy: 0.6137\n",
      "Epoch 19/256\n",
      "193592/193592 [==============================] - 89s 459us/sample - loss: 0.2930 - accuracy: 0.8796 - val_loss: 0.9578 - val_accuracy: 0.6503\n",
      "Epoch 20/256\n",
      "193592/193592 [==============================] - 89s 459us/sample - loss: 0.2874 - accuracy: 0.8819 - val_loss: 1.2428 - val_accuracy: 0.5817\n",
      "Epoch 21/256\n",
      "193592/193592 [==============================] - 89s 459us/sample - loss: 0.2824 - accuracy: 0.8842 - val_loss: 0.9987 - val_accuracy: 0.6484\n",
      "Epoch 22/256\n",
      "193592/193592 [==============================] - 89s 459us/sample - loss: 0.2778 - accuracy: 0.8855 - val_loss: 0.9645 - val_accuracy: 0.6570\n",
      "Epoch 23/256\n",
      "193592/193592 [==============================] - 89s 459us/sample - loss: 0.2733 - accuracy: 0.8869 - val_loss: 1.0430 - val_accuracy: 0.6486\n",
      "Epoch 24/256\n",
      "193592/193592 [==============================] - 89s 459us/sample - loss: 0.2697 - accuracy: 0.8892 - val_loss: 0.9302 - val_accuracy: 0.6722\n",
      "Epoch 25/256\n",
      "193592/193592 [==============================] - 89s 458us/sample - loss: 0.2647 - accuracy: 0.8913 - val_loss: 1.3752 - val_accuracy: 0.5803\n",
      "Epoch 26/256\n",
      "193592/193592 [==============================] - 89s 459us/sample - loss: 0.2608 - accuracy: 0.8928 - val_loss: 0.9872 - val_accuracy: 0.6650\n",
      "Epoch 27/256\n",
      "193592/193592 [==============================] - 89s 459us/sample - loss: 0.2570 - accuracy: 0.8954 - val_loss: 1.2143 - val_accuracy: 0.5983\n",
      "Epoch 28/256\n",
      "193592/193592 [==============================] - 89s 459us/sample - loss: 0.2518 - accuracy: 0.8973 - val_loss: 1.0721 - val_accuracy: 0.6612\n",
      "Epoch 29/256\n",
      "193592/193592 [==============================] - 89s 459us/sample - loss: 0.2470 - accuracy: 0.8996 - val_loss: 1.1807 - val_accuracy: 0.6555\n",
      "Epoch 30/256\n",
      "193592/193592 [==============================] - 89s 459us/sample - loss: 0.2440 - accuracy: 0.9010 - val_loss: 1.0760 - val_accuracy: 0.6395\n",
      "Epoch 31/256\n",
      "193592/193592 [==============================] - 89s 459us/sample - loss: 0.2392 - accuracy: 0.9028 - val_loss: 1.2287 - val_accuracy: 0.6233\n",
      "Epoch 32/256\n",
      "193592/193592 [==============================] - 89s 459us/sample - loss: 0.2364 - accuracy: 0.9038 - val_loss: 1.1041 - val_accuracy: 0.6562\n",
      "Epoch 33/256\n",
      "193592/193592 [==============================] - 89s 459us/sample - loss: 0.2338 - accuracy: 0.9056 - val_loss: 1.0451 - val_accuracy: 0.6359\n",
      "Epoch 34/256\n",
      "193592/193592 [==============================] - 89s 459us/sample - loss: 0.2289 - accuracy: 0.9078 - val_loss: 1.3192 - val_accuracy: 0.6138\n",
      "Epoch 35/256\n",
      "193592/193592 [==============================] - 89s 459us/sample - loss: 0.2258 - accuracy: 0.9086 - val_loss: 1.1268 - val_accuracy: 0.6368\n",
      "Epoch 36/256\n",
      "193592/193592 [==============================] - 89s 459us/sample - loss: 0.2235 - accuracy: 0.9095 - val_loss: 1.1489 - val_accuracy: 0.6427\n",
      "Epoch 37/256\n",
      "193592/193592 [==============================] - 89s 459us/sample - loss: 0.2200 - accuracy: 0.9101 - val_loss: 1.1382 - val_accuracy: 0.6496\n",
      "Epoch 38/256\n",
      "193592/193592 [==============================] - 89s 460us/sample - loss: 0.2192 - accuracy: 0.9115 - val_loss: 1.3475 - val_accuracy: 0.6171\n",
      "Epoch 39/256\n",
      "193592/193592 [==============================] - 89s 459us/sample - loss: 0.2155 - accuracy: 0.9129 - val_loss: 1.1447 - val_accuracy: 0.6382\n",
      "Epoch 40/256\n",
      "193592/193592 [==============================] - 89s 459us/sample - loss: 0.2095 - accuracy: 0.9154 - val_loss: 1.1372 - val_accuracy: 0.6485\n"
     ]
    }
   ],
   "source": [
    "import os\n",
    "if not os.path.exists(\"../Output/CheckPoint/保持位置/\"):\n",
    "    os.makedirs(\"../Output/CheckPoint/保持位置/\")\n",
    "\n",
    "cp_cb = tf.keras.callbacks.ModelCheckpoint(filepath=\"../Output/CheckPoint/保持位置/model_include_car_notHand_{epoch:02d}-{loss:.2f}-{accuracy:.2f}-{val_loss:.2f}-{val_accuracy:.2f}.hdf5\", \n",
    "                                           monitor='val_loss', verbose=0, save_best_only=True, mode='auto')\n",
    "es_cb = tf.keras.callbacks.EarlyStopping(monitor='val_loss', patience=30, verbose=0, mode='auto')\n",
    "history = model.fit([X_train[:, 0], X_train[:, 1]], Y_train[:, 0], \\\n",
    "                    epochs=256, batch_size=512, validation_data=([X_val[:, 0], X_val[:, 1]], Y_val[:, 0]), callbacks=[cp_cb, es_cb])"
   ]
  },
  {
   "cell_type": "code",
   "execution_count": 15,
   "metadata": {},
   "outputs": [
    {
     "data": {
      "image/png": "[encoded data removed]",
      "text/plain": [
       "<Figure size 432x288 with 1 Axes>"
      ]
     },
     "metadata": {
      "needs_background": "light"
     },
     "output_type": "display_data"
    },
    {
     "data": {
      "image/png": "[encoded data removed]",
      "text/plain": [
       "<Figure size 432x288 with 1 Axes>"
      ]
     },
     "metadata": {
      "needs_background": "light"
     },
     "output_type": "display_data"
    }
   ],
   "source": [
    "# Plot training & validation accuracy values\n",
    "plt.plot(history.history['accuracy'])\n",
    "plt.plot(history.history['val_accuracy'])\n",
    "plt.title('Model accuracy')\n",
    "plt.ylabel('Accuracy')\n",
    "plt.xlabel('Epoch')\n",
    "plt.legend(['Train', 'Test'], loc='upper left')\n",
    "plt.show()\n",
    "\n",
    "# Plot training & validation loss values\n",
    "plt.plot(history.history['loss'])\n",
    "plt.plot(history.history['val_loss'])\n",
    "plt.title('Model loss')\n",
    "plt.ylabel('Loss')\n",
    "plt.xlabel('Epoch')\n",
    "plt.legend(['Train', 'Test'], loc='upper left')\n",
    "# plt.ylim((0, 3.5))\n",
    "plt.show()"
   ]
  },
  {
   "cell_type": "code",
   "execution_count": 16,
   "metadata": {},
   "outputs": [],
   "source": [
    "def plot_confusion_matrix(test_y,pred_y,class_names,normalize=False):\n",
    "    cm = confusion_matrix(test_y,pred_y)\n",
    "    # classes = class_names[unique_labels(test_y,pred_y)]\n",
    "    if normalize:\n",
    "        cm = cm.astype('float') / cm.sum(axis=1)[:, np.newaxis]\n",
    "    fig, ax = plt.subplots(figsize=(16, 8))\n",
    "    im = ax.imshow(cm, interpolation='nearest', cmap=plt.cm.Blues)\n",
    "    ax.figure.colorbar(im, ax=ax)\n",
    "    ax.set(xticks=np.arange(cm.shape[1]),\n",
    "           yticks=np.arange(cm.shape[0]),\n",
    "           xticklabels=class_names,\n",
    "           yticklabels=class_names,\n",
    "           ylabel='True label\\n',\n",
    "           xlabel='\\nPredicted label')\n",
    "    fmt = '.2f' if normalize else 'd'\n",
    "    for i in range(cm.shape[0]):\n",
    "        for j in range(cm.shape[1]):\n",
    "            ax.text(j,\n",
    "                    i,\n",
    "                    format(cm[i, j], fmt),\n",
    "                    ha=\"center\",\n",
    "                    va=\"center\",\n",
    "                    color=\"red\", fontsize=16)\n",
    "    fig.tight_layout()\n",
    "    return ax"
   ]
  },
  {
   "cell_type": "code",
   "execution_count": 17,
   "metadata": {
    "scrolled": true
   },
   "outputs": [
    {
     "name": "stdout",
     "output_type": "stream",
     "text": [
      "Model: \"model_2\"\n",
      "__________________________________________________________________________________________________\n",
      "Layer (type)                    Output Shape         Param #     Connected to                     \n",
      "==================================================================================================\n",
      "input_1 (InputLayer)            [(None, 128, 25, 1)] 0                                            \n",
      "__________________________________________________________________________________________________\n",
      "input_2 (InputLayer)            [(None, 128, 25, 1)] 0                                            \n",
      "__________________________________________________________________________________________________\n",
      "conv2d (Conv2D)                 (None, 126, 23, 64)  640         input_1[0][0]                    \n",
      "__________________________________________________________________________________________________\n",
      "conv2d_6 (Conv2D)               (None, 126, 23, 64)  640         input_2[0][0]                    \n",
      "__________________________________________________________________________________________________\n",
      "conv2d_1 (Conv2D)               (None, 126, 23, 32)  18464       conv2d[0][0]                     \n",
      "__________________________________________________________________________________________________\n",
      "conv2d_7 (Conv2D)               (None, 126, 23, 32)  18464       conv2d_6[0][0]                   \n",
      "__________________________________________________________________________________________________\n",
      "max_pooling2d (MaxPooling2D)    (None, 63, 11, 32)   0           conv2d_1[0][0]                   \n",
      "__________________________________________________________________________________________________\n",
      "max_pooling2d_3 (MaxPooling2D)  (None, 63, 11, 32)   0           conv2d_7[0][0]                   \n",
      "__________________________________________________________________________________________________\n",
      "batch_normalization (BatchNorma (None, 63, 11, 32)   128         max_pooling2d[0][0]              \n",
      "__________________________________________________________________________________________________\n",
      "batch_normalization_3 (BatchNor (None, 63, 11, 32)   128         max_pooling2d_3[0][0]            \n",
      "__________________________________________________________________________________________________\n",
      "conv2d_2 (Conv2D)               (None, 63, 11, 64)   18496       batch_normalization[0][0]        \n",
      "__________________________________________________________________________________________________\n",
      "conv2d_8 (Conv2D)               (None, 63, 11, 64)   18496       batch_normalization_3[0][0]      \n",
      "__________________________________________________________________________________________________\n",
      "conv2d_3 (Conv2D)               (None, 63, 11, 32)   18464       conv2d_2[0][0]                   \n",
      "__________________________________________________________________________________________________\n",
      "conv2d_9 (Conv2D)               (None, 63, 11, 32)   18464       conv2d_8[0][0]                   \n",
      "__________________________________________________________________________________________________\n",
      "max_pooling2d_1 (MaxPooling2D)  (None, 31, 5, 32)    0           conv2d_3[0][0]                   \n",
      "__________________________________________________________________________________________________\n",
      "max_pooling2d_4 (MaxPooling2D)  (None, 31, 5, 32)    0           conv2d_9[0][0]                   \n",
      "__________________________________________________________________________________________________\n",
      "dropout (Dropout)               (None, 31, 5, 32)    0           max_pooling2d_1[0][0]            \n",
      "__________________________________________________________________________________________________\n",
      "dropout_1 (Dropout)             (None, 31, 5, 32)    0           max_pooling2d_4[0][0]            \n",
      "__________________________________________________________________________________________________\n",
      "conv2d_4 (Conv2D)               (None, 31, 5, 64)    18496       dropout[0][0]                    \n",
      "__________________________________________________________________________________________________\n",
      "conv2d_10 (Conv2D)              (None, 31, 5, 64)    18496       dropout_1[0][0]                  \n",
      "__________________________________________________________________________________________________\n",
      "conv2d_5 (Conv2D)               (None, 31, 5, 32)    18464       conv2d_4[0][0]                   \n",
      "__________________________________________________________________________________________________\n",
      "conv2d_11 (Conv2D)              (None, 31, 5, 32)    18464       conv2d_10[0][0]                  \n",
      "__________________________________________________________________________________________________\n",
      "max_pooling2d_2 (MaxPooling2D)  (None, 15, 2, 32)    0           conv2d_5[0][0]                   \n",
      "__________________________________________________________________________________________________\n",
      "max_pooling2d_5 (MaxPooling2D)  (None, 15, 2, 32)    0           conv2d_11[0][0]                  \n",
      "__________________________________________________________________________________________________\n",
      "batch_normalization_1 (BatchNor (None, 15, 2, 32)    128         max_pooling2d_2[0][0]            \n",
      "__________________________________________________________________________________________________\n",
      "batch_normalization_4 (BatchNor (None, 15, 2, 32)    128         max_pooling2d_5[0][0]            \n",
      "__________________________________________________________________________________________________\n",
      "flatten (Flatten)               (None, 960)          0           batch_normalization_1[0][0]      \n",
      "__________________________________________________________________________________________________\n",
      "flatten_1 (Flatten)             (None, 960)          0           batch_normalization_4[0][0]      \n",
      "__________________________________________________________________________________________________\n",
      "dense (Dense)                   (None, 128)          123008      flatten[0][0]                    \n",
      "__________________________________________________________________________________________________\n",
      "dense_3 (Dense)                 (None, 128)          123008      flatten_1[0][0]                  \n",
      "__________________________________________________________________________________________________\n",
      "dense_1 (Dense)                 (None, 64)           8256        dense[0][0]                      \n",
      "__________________________________________________________________________________________________\n",
      "dense_4 (Dense)                 (None, 64)           8256        dense_3[0][0]                    \n",
      "__________________________________________________________________________________________________\n",
      "batch_normalization_2 (BatchNor (None, 64)           256         dense_1[0][0]                    \n",
      "__________________________________________________________________________________________________\n",
      "batch_normalization_5 (BatchNor (None, 64)           256         dense_4[0][0]                    \n",
      "__________________________________________________________________________________________________\n",
      "dense_2 (Dense)                 (None, 16)           1040        batch_normalization_2[0][0]      \n",
      "__________________________________________________________________________________________________\n",
      "dense_5 (Dense)                 (None, 16)           1040        batch_normalization_5[0][0]      \n",
      "__________________________________________________________________________________________________\n",
      "concatenate (Concatenate)       (None, 32)           0           dense_2[0][0]                    \n",
      "                                                                 dense_5[0][0]                    \n",
      "__________________________________________________________________________________________________\n",
      "dense_6 (Dense)                 (None, 64)           2112        concatenate[0][0]                \n",
      "__________________________________________________________________________________________________\n",
      "dense_7 (Dense)                 (None, 16)           1040        dense_6[0][0]                    \n",
      "__________________________________________________________________________________________________\n",
      "dense_8 (Dense)                 (None, 3)            51          dense_7[0][0]                    \n",
      "==================================================================================================\n",
      "Total params: 454,883\n",
      "Trainable params: 454,371\n",
      "Non-trainable params: 512\n",
      "__________________________________________________________________________________________________\n"
     ]
    }
   ],
   "source": [
    "model = tf.keras.models.load_model(\"../Output/CheckPoint/保持位置/model_include_car_notHand_10-0.35-0.86-0.89-0.66.hdf5\")\n",
    "model.summary()"
   ]
  },
  {
   "cell_type": "code",
   "execution_count": 35,
   "metadata": {},
   "outputs": [
    {
     "name": "stdout",
     "output_type": "stream",
     "text": [
      "(array([    0,     1,     2, ..., 29485, 29488, 29489], dtype=int64), array([2, 2, 1, ..., 0, 2, 0], dtype=int64))\n",
      "(19868,) (19868, 2)\n"
     ]
    },
    {
     "data": {
      "text/plain": [
       "0.903"
      ]
     },
     "execution_count": 35,
     "metadata": {},
     "output_type": "execute_result"
    },
    {
     "data": {
      "image/png": "[encoded data removed]",
      "text/plain": [
       "<Figure size 1152x576 with 2 Axes>"
      ]
     },
     "metadata": {
      "needs_background": "light"
     },
     "output_type": "display_data"
    }
   ],
   "source": [
    "class_names = ['Bag', 'Hips', 'Torso']\n",
    "\n",
    "predict = model.predict([X_val[:, 0], X_val[:, 1]])\n",
    "print(np.where(predict >= 0.75))\n",
    "print(predict[predict >= 0.75].shape, Y_val[np.where(predict >= 0.75)[0]].shape)\n",
    "plot_confusion_matrix(Y_val[np.where(predict >= 0.99)[0]][:, 0], np.argmax(predict[np.where(predict >= 0.99)[0]], axis=1), class_names, True)\n",
    "plt.grid(False)\n",
    "f1_macro = f1_score(Y_val[np.where(predict >= 0.99)[0]][:, 0], np.argmax(predict[np.where(predict >= 0.99)[0]], axis=1), average='macro')\n",
    "round(f1_macro, 3)"
   ]
  },
  {
   "cell_type": "code",
   "execution_count": 20,
   "metadata": {},
   "outputs": [
    {
     "data": {
      "text/plain": [
       "(57573, 1, 128, 25)"
      ]
     },
     "execution_count": 20,
     "metadata": {},
     "output_type": "execute_result"
    }
   ],
   "source": [
    "test = np.load(\"../Output/test/test_lacc_norm_spectram.npy\").reshape([-1, 1, 128, 25])\n",
    "test.shape"
   ]
  },
  {
   "cell_type": "code",
   "execution_count": 21,
   "metadata": {},
   "outputs": [
    {
     "data": {
      "text/plain": [
       "(57573, 2, 128, 25)"
      ]
     },
     "execution_count": 21,
     "metadata": {},
     "output_type": "execute_result"
    }
   ],
   "source": [
    "test = np.concatenate([test, np.load(\"../Output/test/test_gyr_norm_spectram.npy\").reshape([-1, 1, 128, 25])], axis=1)\n",
    "test.shape"
   ]
  },
  {
   "cell_type": "code",
   "execution_count": null,
   "metadata": {},
   "outputs": [],
   "source": [
    "a = np.load(\"test_run_index.npy\")\n",
    "a.shape"
   ]
  },
  {
   "cell_type": "code",
   "execution_count": null,
   "metadata": {},
   "outputs": [],
   "source": [
    "a = np.load(\"test_walking_run_index.npy\")\n",
    "a.shape"
   ]
  },
  {
   "cell_type": "code",
   "execution_count": 22,
   "metadata": {},
   "outputs": [
    {
     "data": {
      "text/plain": [
       "(9407,)"
      ]
     },
     "execution_count": 22,
     "metadata": {},
     "output_type": "execute_result"
    }
   ],
   "source": [
    "a = np.load(\"test_walking_run_car_index.npy\")\n",
    "a.shape"
   ]
  },
  {
   "cell_type": "code",
   "execution_count": 23,
   "metadata": {},
   "outputs": [
    {
     "data": {
      "text/plain": [
       "(57573, 2, 128, 25, 1)"
      ]
     },
     "execution_count": 23,
     "metadata": {},
     "output_type": "execute_result"
    }
   ],
   "source": [
    "test = test.reshape([-1, 2, 128, 25, 1])\n",
    "test.shape"
   ]
  },
  {
   "cell_type": "code",
   "execution_count": 33,
   "metadata": {},
   "outputs": [
    {
     "name": "stdout",
     "output_type": "stream",
     "text": [
      "(9407, 3)\n",
      "Bag：199\n",
      "Hips：4294\n",
      "Torso：9\n"
     ]
    }
   ],
   "source": [
    "predict = model.predict([test[a, 0], test[a, 1]])\n",
    "print(predict.shape)\n",
    "\n",
    "for i in range(len(class_names)):\n",
    "    print(\"{}：{}\".format(class_names[i], np.sum(predict[:, i]>=0.99)))"
   ]
  },
  {
   "cell_type": "code",
   "execution_count": 26,
   "metadata": {},
   "outputs": [
    {
     "ename": "AttributeError",
     "evalue": "'Model' object has no attribute 'predict_proba'",
     "output_type": "error",
     "traceback": [
      "\u001b[1;31m---------------------------------------------------------------------------\u001b[0m",
      "\u001b[1;31mAttributeError\u001b[0m                            Traceback (most recent call last)",
      "\u001b[1;32m<ipython-input-26-b4ce6b463a31>\u001b[0m in \u001b[0;36m<module>\u001b[1;34m\u001b[0m\n\u001b[1;32m----> 1\u001b[1;33m \u001b[0mpredict\u001b[0m \u001b[1;33m=\u001b[0m \u001b[0mmodel\u001b[0m\u001b[1;33m.\u001b[0m\u001b[0mpredict_proba\u001b[0m\u001b[1;33m(\u001b[0m\u001b[0mtest\u001b[0m\u001b[1;33m)\u001b[0m\u001b[1;33m\u001b[0m\u001b[1;33m\u001b[0m\u001b[0m\n\u001b[0m\u001b[0;32m      2\u001b[0m \u001b[1;33m\u001b[0m\u001b[0m\n\u001b[0;32m      3\u001b[0m \u001b[1;32mfor\u001b[0m \u001b[0mi\u001b[0m \u001b[1;32min\u001b[0m \u001b[0mrange\u001b[0m\u001b[1;33m(\u001b[0m\u001b[0mlen\u001b[0m\u001b[1;33m(\u001b[0m\u001b[0mclass_names\u001b[0m\u001b[1;33m)\u001b[0m\u001b[1;33m)\u001b[0m\u001b[1;33m:\u001b[0m\u001b[1;33m\u001b[0m\u001b[1;33m\u001b[0m\u001b[0m\n\u001b[0;32m      4\u001b[0m     \u001b[0mprint\u001b[0m\u001b[1;33m(\u001b[0m\u001b[1;34m\"{}：{}\"\u001b[0m\u001b[1;33m.\u001b[0m\u001b[0mformat\u001b[0m\u001b[1;33m(\u001b[0m\u001b[0mclass_names\u001b[0m\u001b[1;33m[\u001b[0m\u001b[0mi\u001b[0m\u001b[1;33m]\u001b[0m\u001b[1;33m,\u001b[0m \u001b[0mnp\u001b[0m\u001b[1;33m.\u001b[0m\u001b[0msum\u001b[0m\u001b[1;33m(\u001b[0m\u001b[0mpredict\u001b[0m\u001b[1;33m[\u001b[0m\u001b[1;33m:\u001b[0m\u001b[1;33m,\u001b[0m \u001b[0mi\u001b[0m\u001b[1;33m]\u001b[0m\u001b[1;33m>=\u001b[0m\u001b[1;36m0.75\u001b[0m\u001b[1;33m)\u001b[0m\u001b[1;33m)\u001b[0m\u001b[1;33m)\u001b[0m\u001b[1;33m\u001b[0m\u001b[1;33m\u001b[0m\u001b[0m\n",
      "\u001b[1;31mAttributeError\u001b[0m: 'Model' object has no attribute 'predict_proba'"
     ]
    }
   ],
   "source": [
    "predict = model.predict_proba(test)\n",
    "\n",
    "for i in range(len(class_names)):\n",
    "    print(\"{}：{}\".format(class_names[i], np.sum(predict[:, i]>=0.75)))"
   ]
  },
  {
   "cell_type": "markdown",
   "metadata": {},
   "source": [
    "## trainデータ全部学習させて、validationデータをvalidationにする"
   ]
  },
  {
   "cell_type": "code",
   "execution_count": null,
   "metadata": {},
   "outputs": [],
   "source": [
    "evals_result = {}\n",
    "\n",
    "model = xgb.XGBClassifier(max_depth=18, min_child_weight=7, learning_rate=0.1, gamma=0.005, sub_sample=0.9, colsample_bytree=0.8, \n",
    "                          n_jobs=-1, tree_method='gpu_hist', gpu_id=0, n_estimator=10000)\n",
    "model.fit(X_train[(Y_train[:, 1] > 1) & (Y_train[:, 1] <= 3)], Y_train[(Y_train[:, 1] > 1) & (Y_train[:, 1] <= 3)][:, 0], \n",
    "          early_stopping_rounds=30, \n",
    "          eval_set=[(X_train[(Y_train[:, 1] > 1) & (Y_train[:, 1] <= 3)], Y_train[(Y_train[:, 1] > 1) & (Y_train[:, 1] <= 3)][:, 0]), \n",
    "                    (X_val[(Y_val[:, 1] > 1) & (Y_val[:, 1] <= 3)], Y_val[(Y_val[:, 1] > 1) & (Y_val[:, 1] <= 3)][:, 0])], eval_metric='merror', verbose=False, \n",
    "          callbacks=[xgb.callback.record_evaluation(evals_result)])"
   ]
  },
  {
   "cell_type": "code",
   "execution_count": null,
   "metadata": {},
   "outputs": [],
   "source": [
    "# 学習過程の名前は 'validation_{n}' になる\n",
    "plt.figure(figsize=(24, 4))\n",
    "train_metric = evals_result['validation_0']['merror']\n",
    "plt.plot(train_metric, label='train merror')\n",
    "eval_metric = evals_result['validation_1']['merror']\n",
    "plt.plot(eval_metric, label='eval merror')\n",
    "plt.grid()\n",
    "plt.legend()\n",
    "plt.xlabel('rounds(epochs)')\n",
    "plt.ylabel('merror')\n",
    "plt.xticks(np.arange(0, 150+1, 25))\n",
    "plt.show()"
   ]
  },
  {
   "cell_type": "code",
   "execution_count": null,
   "metadata": {},
   "outputs": [],
   "source": [
    "class_names = ['Bag', 'Hips', 'Torso', 'Hand']\n",
    "\n",
    "predict = model.predict(X_val[(Y_val[:, 1] > 1) & (Y_val[:, 1] <= 3)])\n",
    "plot_confusion_matrix(Y_val[(Y_val[:, 1] > 1) & (Y_val[:, 1] <= 3)][:, 0], predict, class_names, True)\n",
    "plt.grid(False)"
   ]
  },
  {
   "cell_type": "code",
   "execution_count": null,
   "metadata": {},
   "outputs": [],
   "source": [
    "predict = model.predict_proba(X_val[(Y_val[:, 1] > 1) & (Y_val[:, 1] <= 3)])\n",
    "\n",
    "for i in range(len(class_names)):\n",
    "    print(\"{}：{}\".format(class_names[i], np.sum(predict[:, i]>=0.70)))"
   ]
  },
  {
   "cell_type": "code",
   "execution_count": null,
   "metadata": {},
   "outputs": [],
   "source": [
    "predict = model.predict_proba(test)\n",
    "\n",
    "for i in range(len(class_names)):\n",
    "    print(\"{}：{}\".format(class_names[i], np.sum(predict[:, i]>=0.75)))"
   ]
  },
  {
   "cell_type": "code",
   "execution_count": null,
   "metadata": {},
   "outputs": [],
   "source": []
  }
 ],
 "metadata": {
  "kernelspec": {
   "display_name": "Python 3",
   "language": "python",
   "name": "python3"
  },
  "language_info": {
   "codemirror_mode": {
    "name": "ipython",
    "version": 3
   },
   "file_extension": ".py",
   "mimetype": "text/x-python",
   "name": "python",
   "nbconvert_exporter": "python",
   "pygments_lexer": "ipython3",
   "version": "3.7.6"
  }
 },
 "nbformat": 4,
 "nbformat_minor": 4
}

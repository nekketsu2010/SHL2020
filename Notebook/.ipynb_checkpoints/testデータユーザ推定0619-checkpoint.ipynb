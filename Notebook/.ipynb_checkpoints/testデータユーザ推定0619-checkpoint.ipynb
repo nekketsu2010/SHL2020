{
 "cells": [
  {
   "cell_type": "markdown",
   "metadata": {},
   "source": [
    "# シンプルに線形加速度と重力のFFT結果からユーザを推定する"
   ]
  },
  {
   "cell_type": "code",
   "execution_count": 1,
   "metadata": {},
   "outputs": [
    {
     "data": {
      "text/html": [
       "<style>.container { width:90% !important; }</style>"
      ],
      "text/plain": [
       "<IPython.core.display.HTML object>"
      ]
     },
     "metadata": {},
     "output_type": "display_data"
    }
   ],
   "source": [
    "import numpy as np\n",
    "import os\n",
    "import random\n",
    "import scipy\n",
    "from scipy import signal\n",
    "from numpy.fft import fft\n",
    "from sklearn.metrics import confusion_matrix\n",
    "from sklearn.metrics import f1_score\n",
    "\n",
    "import tensorflow as tf\n",
    "from tensorflow.keras import layers, models\n",
    "from tensorflow.keras.initializers import he_normal\n",
    "from tensorflow.python.keras.utils.vis_utils import plot_model\n",
    "\n",
    "from sklearn.model_selection import train_test_split\n",
    "\n",
    "import pandas as pd\n",
    "import pickle\n",
    "from tqdm import tqdm\n",
    "\n",
    "import seaborn as sns\n",
    "sns.set(font='Yu Gothic')\n",
    "import matplotlib.pyplot as plt\n",
    "%matplotlib inline\n",
    "\n",
    "from IPython.core.display import display, HTML\n",
    "display(HTML(\"<style>.container { width:90% !important; }</style>\"))"
   ]
  },
  {
   "cell_type": "code",
   "execution_count": 2,
   "metadata": {},
   "outputs": [
    {
     "data": {
      "text/plain": [
       "((14813,), (13872,))"
      ]
     },
     "execution_count": 2,
     "metadata": {},
     "output_type": "execute_result"
    }
   ],
   "source": [
    "user2_label = np.load(\"../Data/センサ別npyファイル/validation/validation_Hips/validation_Hips_Label.npy\")[:14813, 0].reshape([-1])\n",
    "user3_label = np.load(\"../Data/センサ別npyファイル/validation/validation_Hips/validation_Hips_Label.npy\")[14813:, 0].reshape([-1])\n",
    "\n",
    "user2_label.shape, user3_label.shape"
   ]
  },
  {
   "cell_type": "code",
   "execution_count": 4,
   "metadata": {},
   "outputs": [],
   "source": [
    "def norm(x):\n",
    "    x = np.sqrt(np.square(x[:, :, 0]) + np.square(x[:, :, 1]) + np.square(x[:, :, 2]))\n",
    "    return x.reshape([-1, 500])"
   ]
  },
  {
   "cell_type": "code",
   "execution_count": 5,
   "metadata": {},
   "outputs": [
    {
     "data": {
      "text/plain": [
       "((14813, 500), (13872, 500))"
      ]
     },
     "execution_count": 5,
     "metadata": {},
     "output_type": "execute_result"
    }
   ],
   "source": [
    "user2_LAcc = np.load(\"../Data/センサ別npyファイル/validation/validation_Hips/validation_Hips_Glo_LAcc_ver2.npy\")[:14813]\n",
    "user3_LAcc = np.load(\"../Data/センサ別npyファイル/validation/validation_Hips/validation_Hips_Glo_LAcc_ver2.npy\")[14813:]\n",
    "\n",
    "user2_LAcc = norm(user2_LAcc)\n",
    "user3_LAcc = norm(user3_LAcc)\n",
    "\n",
    "user2_LAcc.shape, user3_LAcc.shape"
   ]
  },
  {
   "cell_type": "code",
   "execution_count": 6,
   "metadata": {},
   "outputs": [
    {
     "data": {
      "text/plain": [
       "((14813, 250), (13872, 250))"
      ]
     },
     "execution_count": 6,
     "metadata": {},
     "output_type": "execute_result"
    }
   ],
   "source": [
    "user2_LAcc = np.fft.fft(user2_LAcc - np.mean(user2_LAcc, axis=1, keepdims=True), axis=1)[:, :250]\n",
    "user3_LAcc = np.fft.fft(user3_LAcc - np.mean(user3_LAcc, axis=1, keepdims=True), axis=1)[:, :250]\n",
    "\n",
    "user2_LAcc = np.square(np.abs(user2_LAcc))\n",
    "user3_LAcc = np.square(np.abs(user3_LAcc))\n",
    "\n",
    "user2_LAcc.shape, user3_LAcc.shape"
   ]
  },
  {
   "cell_type": "markdown",
   "metadata": {},
   "source": [
    "## 0.6Hz ~ 10Hzの間だけ取り出す"
   ]
  },
  {
   "cell_type": "code",
   "execution_count": 7,
   "metadata": {},
   "outputs": [
    {
     "data": {
      "text/plain": [
       "((14813, 47), (13872, 47))"
      ]
     },
     "execution_count": 7,
     "metadata": {},
     "output_type": "execute_result"
    }
   ],
   "source": [
    "user2_LAcc = user2_LAcc[:, 3:50]\n",
    "user3_LAcc = user3_LAcc[:, 3:50]\n",
    "\n",
    "user2_LAcc.shape, user3_LAcc.shape"
   ]
  },
  {
   "cell_type": "code",
   "execution_count": 8,
   "metadata": {},
   "outputs": [
    {
     "data": {
      "text/plain": [
       "((14813, 500), (13872, 500))"
      ]
     },
     "execution_count": 8,
     "metadata": {},
     "output_type": "execute_result"
    }
   ],
   "source": [
    "user2_Gra = np.load(\"../Data/センサ別npyファイル/validation/validation_Hips/validation_Hips_Glo_Gra_ver2.npy\")[:14813]\n",
    "user3_Gra = np.load(\"../Data/センサ別npyファイル/validation/validation_Hips/validation_Hips_Glo_Gra_ver2.npy\")[14813:]\n",
    "\n",
    "user2_Gra = norm(user2_Gra)\n",
    "user3_Gra = norm(user3_Gra)\n",
    "\n",
    "user2_Gra.shape, user3_Gra.shape"
   ]
  },
  {
   "cell_type": "code",
   "execution_count": 9,
   "metadata": {},
   "outputs": [
    {
     "data": {
      "text/plain": [
       "((14813, 250), (13872, 250))"
      ]
     },
     "execution_count": 9,
     "metadata": {},
     "output_type": "execute_result"
    }
   ],
   "source": [
    "user2_Gra = np.fft.fft(user2_Gra - np.mean(user2_Gra, axis=1, keepdims=True), axis=1)[:, :250]\n",
    "user3_Gra = np.fft.fft(user3_Gra - np.mean(user3_Gra, axis=1, keepdims=True), axis=1)[:, :250]\n",
    "\n",
    "user2_Gra = np.square(np.abs(user2_Gra))\n",
    "user3_Gra = np.square(np.abs(user3_Gra))\n",
    "\n",
    "user2_Gra.shape, user3_Gra.shape"
   ]
  },
  {
   "cell_type": "markdown",
   "metadata": {},
   "source": [
    "## 0.6Hz ~ 10Hzの間だけ取り出す"
   ]
  },
  {
   "cell_type": "code",
   "execution_count": 10,
   "metadata": {},
   "outputs": [
    {
     "data": {
      "text/plain": [
       "((14813, 47), (13872, 47))"
      ]
     },
     "execution_count": 10,
     "metadata": {},
     "output_type": "execute_result"
    }
   ],
   "source": [
    "user2_Gra = user2_Gra[:, 3:50]\n",
    "user3_Gra = user3_Gra[:, 3:50]\n",
    "\n",
    "user2_Gra.shape, user3_Gra.shape"
   ]
  },
  {
   "cell_type": "markdown",
   "metadata": {},
   "source": [
    "## 結合"
   ]
  },
  {
   "cell_type": "code",
   "execution_count": 13,
   "metadata": {},
   "outputs": [
    {
     "data": {
      "text/plain": [
       "((14813, 2, 47, 1), (13872, 2, 47, 1))"
      ]
     },
     "execution_count": 13,
     "metadata": {},
     "output_type": "execute_result"
    }
   ],
   "source": [
    "X_user2 = np.concatenate([user2_LAcc.reshape([-1, 1, user2_LAcc.shape[1], 1]), user2_Gra.reshape([-1, 1, user2_Gra.shape[1], 1])], axis=1)\n",
    "X_user3 = np.concatenate([user3_LAcc.reshape([-1, 1, user3_LAcc.shape[1], 1]), user3_Gra.reshape([-1, 1, user3_Gra.shape[1], 1])], axis=1)\n",
    "\n",
    "X_user2.shape, X_user3.shape"
   ]
  },
  {
   "cell_type": "markdown",
   "metadata": {},
   "source": [
    "## 標準化"
   ]
  },
  {
   "cell_type": "code",
   "execution_count": 34,
   "metadata": {},
   "outputs": [],
   "source": [
    "lacc_mean = np.mean(np.concatenate([user2_LAcc, user3_LAcc], axis=0))\n",
    "lacc_std = np.std(np.concatenate([user2_LAcc, user3_LAcc], axis=0))\n",
    "\n",
    "gra_mean = np.mean(np.concatenate([user2_Gra, user3_Gra], axis=0))\n",
    "gra_std = np.std(np.concatenate([user2_Gra, user3_Gra], axis=0))"
   ]
  },
  {
   "cell_type": "code",
   "execution_count": 35,
   "metadata": {},
   "outputs": [
    {
     "data": {
      "text/plain": [
       "-0.020681605506511515"
      ]
     },
     "execution_count": 35,
     "metadata": {},
     "output_type": "execute_result"
    }
   ],
   "source": [
    "X_user2[:, 0] = (X_user2[:, 0] - lacc_mean) / lacc_std\n",
    "X_user2[:, 1] = (X_user2[:, 1] - gra_mean) / gra_std\n",
    "\n",
    "X_user3[:, 0] = (X_user3[:, 0] - lacc_mean) / lacc_std\n",
    "X_user3[:, 1] = (X_user3[:, 1] - gra_mean) / gra_std\n",
    "\n",
    "np.mean(X_user2[:, 0])"
   ]
  },
  {
   "cell_type": "markdown",
   "metadata": {},
   "source": [
    "## 移動状態ラベルごとに7:3に分割"
   ]
  },
  {
   "cell_type": "code",
   "execution_count": 36,
   "metadata": {},
   "outputs": [
    {
     "name": "stdout",
     "output_type": "stream",
     "text": [
      "user2_train 10353\n",
      "user2_val 4460\n"
     ]
    },
    {
     "data": {
      "text/plain": [
       "((10353, 2, 47, 1), (4460, 2, 47, 1))"
      ]
     },
     "execution_count": 36,
     "metadata": {},
     "output_type": "execute_result"
    }
   ],
   "source": [
    "pattern = np.zeros(14813)\n",
    "for i in range(8):\n",
    "    tmp = np.where(user2_label == (i+1))[0]\n",
    "    pattern[tmp[:tmp.shape[0]//10*7]] = 1\n",
    "print(\"user2_train\", np.sum(pattern == 1))\n",
    "print(\"user2_val\", np.sum(pattern == 0))\n",
    "\n",
    "X_user2_train = X_user2[pattern == 1]\n",
    "X_user2_val = X_user2[pattern == 0]\n",
    "\n",
    "X_user2_train.shape, X_user2_val.shape"
   ]
  },
  {
   "cell_type": "code",
   "execution_count": 37,
   "metadata": {},
   "outputs": [
    {
     "name": "stdout",
     "output_type": "stream",
     "text": [
      "user3_train 9681\n",
      "user3_val 4191\n"
     ]
    },
    {
     "data": {
      "text/plain": [
       "((9681, 2, 47, 1), (4191, 2, 47, 1))"
      ]
     },
     "execution_count": 37,
     "metadata": {},
     "output_type": "execute_result"
    }
   ],
   "source": [
    "pattern = np.zeros(13872)\n",
    "for i in range(8):\n",
    "    tmp = np.where(user3_label == (i+1))[0]\n",
    "    pattern[tmp[:tmp.shape[0]//10*7]] = 1\n",
    "print(\"user3_train\", np.sum(pattern == 1))\n",
    "print(\"user3_val\", np.sum(pattern == 0))\n",
    "\n",
    "X_user3_train = X_user3[pattern == 1]\n",
    "X_user3_val = X_user3[pattern == 0]\n",
    "\n",
    "X_user3_train.shape, X_user3_val.shape"
   ]
  },
  {
   "cell_type": "code",
   "execution_count": 38,
   "metadata": {},
   "outputs": [
    {
     "data": {
      "text/plain": [
       "((20034, 2, 47, 1), (8651, 2, 47, 1), (20034,), (8651,))"
      ]
     },
     "execution_count": 38,
     "metadata": {},
     "output_type": "execute_result"
    }
   ],
   "source": [
    "x_train = np.concatenate([X_user2_train, X_user3_train], axis=0)\n",
    "x_val = np.concatenate([X_user2_val, X_user3_val], axis=0)\n",
    "\n",
    "y_train = [0] * X_user2_train.shape[0] + [1] * X_user3_train.shape[0]\n",
    "y_val = [0] * X_user2_val.shape[0] + [1] * X_user3_val.shape[0]\n",
    "\n",
    "y_train = np.array(y_train).reshape([-1])\n",
    "y_val = np.array(y_val).reshape([-1])\n",
    "\n",
    "x_train.shape, x_val.shape, y_train.shape, y_val.shape"
   ]
  },
  {
   "cell_type": "code",
   "execution_count": 39,
   "metadata": {},
   "outputs": [],
   "source": [
    "def BuildModel(input_shape):\n",
    "    input1 = layers.Input(shape=input_shape)\n",
    "    x = layers.Conv1D(64, 3, padding='valid', activation='relu', kernel_initializer=he_normal())(input1)\n",
    "    x = layers.Conv1D(32, 3, padding='same', activation='relu')(x)\n",
    "    x = layers.MaxPooling1D(2)(x)\n",
    "    x = layers.BatchNormalization()(x)\n",
    "    x = layers.Conv1D(32, 3, padding='same', activation='relu')(x)\n",
    "    x = layers.MaxPooling1D(2)(x)\n",
    "    x = layers.Dropout(0.2)(x)\n",
    "    x = layers.Conv1D(32, 3, padding='same', activation='relu')(x)\n",
    "    x = layers.MaxPooling1D(2)(x)\n",
    "    x = layers.BatchNormalization()(x)\n",
    "    x = layers.Flatten()(x)\n",
    "    x = layers.Dense(32, activation='relu')(x)\n",
    "    x = models.Model(inputs=input1, outputs=x)    \n",
    "    return x"
   ]
  },
  {
   "cell_type": "code",
   "execution_count": 45,
   "metadata": {
    "scrolled": true
   },
   "outputs": [
    {
     "name": "stdout",
     "output_type": "stream",
     "text": [
      "Model: \"model_11\"\n",
      "__________________________________________________________________________________________________\n",
      "Layer (type)                    Output Shape         Param #     Connected to                     \n",
      "==================================================================================================\n",
      "input_7 (InputLayer)            [(None, 47, 1)]      0                                            \n",
      "__________________________________________________________________________________________________\n",
      "input_8 (InputLayer)            [(None, 47, 1)]      0                                            \n",
      "__________________________________________________________________________________________________\n",
      "conv1d_22 (Conv1D)              (None, 45, 64)       256         input_7[0][0]                    \n",
      "__________________________________________________________________________________________________\n",
      "conv1d_26 (Conv1D)              (None, 45, 64)       256         input_8[0][0]                    \n",
      "__________________________________________________________________________________________________\n",
      "conv1d_23 (Conv1D)              (None, 45, 32)       6176        conv1d_22[0][0]                  \n",
      "__________________________________________________________________________________________________\n",
      "conv1d_27 (Conv1D)              (None, 45, 32)       6176        conv1d_26[0][0]                  \n",
      "__________________________________________________________________________________________________\n",
      "max_pooling1d_16 (MaxPooling1D) (None, 22, 32)       0           conv1d_23[0][0]                  \n",
      "__________________________________________________________________________________________________\n",
      "max_pooling1d_19 (MaxPooling1D) (None, 22, 32)       0           conv1d_27[0][0]                  \n",
      "__________________________________________________________________________________________________\n",
      "batch_normalization_12 (BatchNo (None, 22, 32)       128         max_pooling1d_16[0][0]           \n",
      "__________________________________________________________________________________________________\n",
      "batch_normalization_14 (BatchNo (None, 22, 32)       128         max_pooling1d_19[0][0]           \n",
      "__________________________________________________________________________________________________\n",
      "conv1d_24 (Conv1D)              (None, 22, 32)       3104        batch_normalization_12[0][0]     \n",
      "__________________________________________________________________________________________________\n",
      "conv1d_28 (Conv1D)              (None, 22, 32)       3104        batch_normalization_14[0][0]     \n",
      "__________________________________________________________________________________________________\n",
      "max_pooling1d_17 (MaxPooling1D) (None, 11, 32)       0           conv1d_24[0][0]                  \n",
      "__________________________________________________________________________________________________\n",
      "max_pooling1d_20 (MaxPooling1D) (None, 11, 32)       0           conv1d_28[0][0]                  \n",
      "__________________________________________________________________________________________________\n",
      "dropout_6 (Dropout)             (None, 11, 32)       0           max_pooling1d_17[0][0]           \n",
      "__________________________________________________________________________________________________\n",
      "dropout_7 (Dropout)             (None, 11, 32)       0           max_pooling1d_20[0][0]           \n",
      "__________________________________________________________________________________________________\n",
      "conv1d_25 (Conv1D)              (None, 11, 32)       3104        dropout_6[0][0]                  \n",
      "__________________________________________________________________________________________________\n",
      "conv1d_29 (Conv1D)              (None, 11, 32)       3104        dropout_7[0][0]                  \n",
      "__________________________________________________________________________________________________\n",
      "max_pooling1d_18 (MaxPooling1D) (None, 5, 32)        0           conv1d_25[0][0]                  \n",
      "__________________________________________________________________________________________________\n",
      "max_pooling1d_21 (MaxPooling1D) (None, 5, 32)        0           conv1d_29[0][0]                  \n",
      "__________________________________________________________________________________________________\n",
      "batch_normalization_13 (BatchNo (None, 5, 32)        128         max_pooling1d_18[0][0]           \n",
      "__________________________________________________________________________________________________\n",
      "batch_normalization_15 (BatchNo (None, 5, 32)        128         max_pooling1d_21[0][0]           \n",
      "__________________________________________________________________________________________________\n",
      "flatten_6 (Flatten)             (None, 160)          0           batch_normalization_13[0][0]     \n",
      "__________________________________________________________________________________________________\n",
      "flatten_7 (Flatten)             (None, 160)          0           batch_normalization_15[0][0]     \n",
      "__________________________________________________________________________________________________\n",
      "dense_14 (Dense)                (None, 32)           5152        flatten_6[0][0]                  \n",
      "__________________________________________________________________________________________________\n",
      "dense_15 (Dense)                (None, 32)           5152        flatten_7[0][0]                  \n",
      "__________________________________________________________________________________________________\n",
      "concatenate_3 (Concatenate)     (None, 64)           0           dense_14[0][0]                   \n",
      "                                                                 dense_15[0][0]                   \n",
      "__________________________________________________________________________________________________\n",
      "dense_16 (Dense)                (None, 16)           1040        concatenate_3[0][0]              \n",
      "__________________________________________________________________________________________________\n",
      "dense_17 (Dense)                (None, 2)            34          dense_16[0][0]                   \n",
      "==================================================================================================\n",
      "Total params: 37,170\n",
      "Trainable params: 36,914\n",
      "Non-trainable params: 256\n",
      "__________________________________________________________________________________________________\n"
     ]
    }
   ],
   "source": [
    "x1 = BuildModel(x_train[0, 0].shape)\n",
    "x2 = BuildModel(x_train[0, 1].shape)\n",
    "\n",
    "combined = layers.concatenate([x1.output, x2.output])\n",
    "\n",
    "z = layers.Dense(16, activation='relu')(combined)\n",
    "z = layers.Dense(2, activation='softmax')(z)\n",
    "\n",
    "model = models.Model(inputs=[x1.input, x2.input], outputs=z)\n",
    "model.compile(optimizer=tf.keras.optimizers.Adam(0.01),\n",
    "            loss='sparse_categorical_crossentropy',\n",
    "            metrics=['accuracy'])\n",
    "model.summary()"
   ]
  },
  {
   "cell_type": "code",
   "execution_count": 41,
   "metadata": {},
   "outputs": [],
   "source": [
    "save_folder = \"../Output/CheckPoint/ユーザ分類/\""
   ]
  },
  {
   "cell_type": "code",
   "execution_count": 46,
   "metadata": {
    "scrolled": true
   },
   "outputs": [
    {
     "name": "stdout",
     "output_type": "stream",
     "text": [
      "Train on 20034 samples, validate on 8651 samples\n",
      "Epoch 1/512\n",
      "20034/20034 [==============================] - 4s 223us/sample - loss: 0.5721 - accuracy: 0.6225 - val_loss: 0.7552 - val_accuracy: 0.5855\n",
      "Epoch 2/512\n",
      "20034/20034 [==============================] - 2s 120us/sample - loss: 0.5537 - accuracy: 0.6442 - val_loss: 0.6008 - val_accuracy: 0.6491\n",
      "Epoch 3/512\n",
      "20034/20034 [==============================] - 2s 125us/sample - loss: 0.5421 - accuracy: 0.6556 - val_loss: 0.6003 - val_accuracy: 0.6316\n",
      "Epoch 4/512\n",
      "20034/20034 [==============================] - 3s 136us/sample - loss: 0.5561 - accuracy: 0.6377 - val_loss: 0.5989 - val_accuracy: 0.6269\n",
      "Epoch 5/512\n",
      "20034/20034 [==============================] - 2s 114us/sample - loss: 0.5550 - accuracy: 0.6428 - val_loss: 0.6064 - val_accuracy: 0.5940\n",
      "Epoch 6/512\n",
      "20034/20034 [==============================] - 2s 114us/sample - loss: 0.5379 - accuracy: 0.6518 - val_loss: 0.6389 - val_accuracy: 0.5811\n",
      "Epoch 7/512\n",
      "20034/20034 [==============================] - 2s 115us/sample - loss: 0.5519 - accuracy: 0.6182 - val_loss: 0.6727 - val_accuracy: 0.5751\n",
      "Epoch 8/512\n",
      "20034/20034 [==============================] - 2s 113us/sample - loss: 0.5437 - accuracy: 0.6289 - val_loss: 0.6329 - val_accuracy: 0.6435\n",
      "Epoch 9/512\n",
      "20034/20034 [==============================] - 3s 129us/sample - loss: 0.5500 - accuracy: 0.6232 - val_loss: 0.5837 - val_accuracy: 0.5840\n",
      "Epoch 10/512\n",
      "20034/20034 [==============================] - 2s 115us/sample - loss: 0.5390 - accuracy: 0.6450 - val_loss: 0.6788 - val_accuracy: 0.6137\n",
      "Epoch 11/512\n",
      "20034/20034 [==============================] - 2s 114us/sample - loss: 0.5373 - accuracy: 0.6515 - val_loss: 0.5916 - val_accuracy: 0.6554\n",
      "Epoch 12/512\n",
      "20034/20034 [==============================] - 2s 116us/sample - loss: 0.5308 - accuracy: 0.6564 - val_loss: 0.6024 - val_accuracy: 0.6452\n",
      "Epoch 13/512\n",
      "20034/20034 [==============================] - 2s 114us/sample - loss: 0.5280 - accuracy: 0.6612 - val_loss: 0.6095 - val_accuracy: 0.6518oss: 0.5277 - accuracy: 0.\n",
      "Epoch 14/512\n",
      "20034/20034 [==============================] - 2s 116us/sample - loss: 0.5440 - accuracy: 0.6548 - val_loss: 0.6490 - val_accuracy: 0.6365\n",
      "Epoch 15/512\n",
      "20034/20034 [==============================] - 2s 115us/sample - loss: 0.5349 - accuracy: 0.6581 - val_loss: 0.8803 - val_accuracy: 0.5758 los - ETA: 0s - loss: 0.5351 - accuracy\n",
      "Epoch 16/512\n",
      "20034/20034 [==============================] - 2s 115us/sample - loss: 0.5329 - accuracy: 0.6546 - val_loss: 1.5624 - val_accuracy: 0.5770\n",
      "Epoch 17/512\n",
      "20034/20034 [==============================] - 2s 116us/sample - loss: 0.5265 - accuracy: 0.6640 - val_loss: 0.6175 - val_accuracy: 0.6420\n",
      "Epoch 18/512\n",
      "20034/20034 [==============================] - 2s 113us/sample - loss: 0.5242 - accuracy: 0.6657 - val_loss: 0.6649 - val_accuracy: 0.6163\n",
      "Epoch 19/512\n",
      "20034/20034 [==============================] - 2s 114us/sample - loss: 0.5231 - accuracy: 0.6654 - val_loss: 0.7127 - val_accuracy: 0.6234\n",
      "Epoch 20/512\n",
      "20034/20034 [==============================] - 2s 112us/sample - loss: 0.5262 - accuracy: 0.6608 - val_loss: 0.9504 - val_accuracy: 0.6145\n",
      "Epoch 21/512\n",
      "20034/20034 [==============================] - 2s 115us/sample - loss: 0.5198 - accuracy: 0.6656 - val_loss: 1.0424 - val_accuracy: 0.6294\n",
      "Epoch 22/512\n",
      "20034/20034 [==============================] - 2s 122us/sample - loss: 0.5169 - accuracy: 0.6666 - val_loss: 0.5816 - val_accuracy: 0.6529\n",
      "Epoch 23/512\n",
      "20034/20034 [==============================] - 2s 114us/sample - loss: 0.5155 - accuracy: 0.6659 - val_loss: 1.2431 - val_accuracy: 0.5449\n",
      "Epoch 24/512\n",
      "20034/20034 [==============================] - 2s 115us/sample - loss: 0.5271 - accuracy: 0.6605 - val_loss: 0.6501 - val_accuracy: 0.6185\n",
      "Epoch 25/512\n",
      "20034/20034 [==============================] - 2s 115us/sample - loss: 0.5166 - accuracy: 0.6661 - val_loss: 0.6453 - val_accuracy: 0.60555 - ac\n",
      "Epoch 26/512\n",
      "20034/20034 [==============================] - 2s 115us/sample - loss: 0.5216 - accuracy: 0.6627 - val_loss: 1.6803 - val_accuracy: 0.5962\n",
      "Epoch 27/512\n",
      "20034/20034 [==============================] - 2s 114us/sample - loss: 0.5131 - accuracy: 0.6702 - val_loss: 0.5986 - val_accuracy: 0.6411\n",
      "Epoch 28/512\n",
      "20034/20034 [==============================] - 2s 115us/sample - loss: 0.5138 - accuracy: 0.6719 - val_loss: 0.5930 - val_accuracy: 0.6537\n",
      "Epoch 29/512\n",
      "20034/20034 [==============================] - 2s 112us/sample - loss: 0.5140 - accuracy: 0.6698 - val_loss: 0.6126 - val_accuracy: 0.6510accuracy\n",
      "Epoch 30/512\n",
      "20034/20034 [==============================] - 2s 115us/sample - loss: 0.5110 - accuracy: 0.6689 - val_loss: 0.6167 - val_accuracy: 0.6754\n",
      "Epoch 31/512\n",
      "20034/20034 [==============================] - 2s 115us/sample - loss: 0.5098 - accuracy: 0.6715 - val_loss: 1.2766 - val_accuracy: 0.6399\n",
      "Epoch 32/512\n",
      "20034/20034 [==============================] - 2s 115us/sample - loss: 0.5095 - accuracy: 0.6755 - val_loss: 0.6337 - val_accuracy: 0.6243\n",
      "Epoch 33/512\n",
      "20034/20034 [==============================] - 2s 115us/sample - loss: 0.5120 - accuracy: 0.6628 - val_loss: 0.5928 - val_accuracy: 0.6028\n",
      "Epoch 34/512\n",
      "20034/20034 [==============================] - 2s 115us/sample - loss: 0.5276 - accuracy: 0.6397 - val_loss: 0.5885 - val_accuracy: 0.6339\n",
      "Epoch 35/512\n",
      "20034/20034 [==============================] - 2s 115us/sample - loss: 0.5141 - accuracy: 0.6603 - val_loss: 0.6083 - val_accuracy: 0.5950\n",
      "Epoch 36/512\n",
      "20034/20034 [==============================] - 2s 115us/sample - loss: 0.5120 - accuracy: 0.6621 - val_loss: 0.6125 - val_accuracy: 0.6656\n",
      "Epoch 37/512\n",
      "20034/20034 [==============================] - 2s 115us/sample - loss: 0.5127 - accuracy: 0.6658 - val_loss: 0.5851 - val_accuracy: 0.6362\n",
      "Epoch 38/512\n",
      "20034/20034 [==============================] - 2s 116us/sample - loss: 0.5063 - accuracy: 0.6686 - val_loss: 1.0344 - val_accuracy: 0.5746\n",
      "Epoch 39/512\n",
      "20034/20034 [==============================] - 2s 114us/sample - loss: 0.5223 - accuracy: 0.6670 - val_loss: 0.5902 - val_accuracy: 0.5805\n",
      "Epoch 40/512\n",
      "20034/20034 [==============================] - 2s 114us/sample - loss: 0.5129 - accuracy: 0.6664 - val_loss: 0.6559 - val_accuracy: 0.6195\n",
      "Epoch 41/512\n",
      "20034/20034 [==============================] - 2s 114us/sample - loss: 0.5085 - accuracy: 0.6702 - val_loss: 0.6106 - val_accuracy: 0.6396\n",
      "Epoch 42/512\n",
      "20034/20034 [==============================] - 2s 115us/sample - loss: 0.5118 - accuracy: 0.6719 - val_loss: 0.6321 - val_accuracy: 0.6219\n",
      "Epoch 43/512\n",
      "20034/20034 [==============================] - 2s 115us/sample - loss: 0.5172 - accuracy: 0.6648 - val_loss: 0.7078 - val_accuracy: 0.6131\n",
      "Epoch 44/512\n",
      "20034/20034 [==============================] - 2s 115us/sample - loss: 0.5111 - accuracy: 0.6677 - val_loss: 0.7270 - val_accuracy: 0.6184 - loss: 0.5126 - accuracy: 0.66 - ETA: 0s - loss: 0.5132 - accura\n",
      "Epoch 45/512\n",
      "20034/20034 [==============================] - 2s 115us/sample - loss: 0.5080 - accuracy: 0.6744 - val_loss: 0.5829 - val_accuracy: 0.6621\n",
      "Epoch 46/512\n",
      "20034/20034 [==============================] - 2s 115us/sample - loss: 0.5110 - accuracy: 0.6693 - val_loss: 0.6502 - val_accuracy: 0.6274\n",
      "Epoch 47/512\n",
      "20034/20034 [==============================] - 2s 115us/sample - loss: 0.5242 - accuracy: 0.6629 - val_loss: 0.7138 - val_accuracy: 0.6103\n",
      "Epoch 48/512\n",
      "20034/20034 [==============================] - 2s 115us/sample - loss: 0.5183 - accuracy: 0.6666 - val_loss: 0.6010 - val_accuracy: 0.5975\n",
      "Epoch 49/512\n",
      "20034/20034 [==============================] - 3s 136us/sample - loss: 0.5113 - accuracy: 0.6709 - val_loss: 0.5787 - val_accuracy: 0.6217\n",
      "Epoch 50/512\n",
      "20034/20034 [==============================] - 2s 115us/sample - loss: 0.5093 - accuracy: 0.6716 - val_loss: 0.6588 - val_accuracy: 0.6313\n",
      "Epoch 51/512\n",
      "20034/20034 [==============================] - 2s 116us/sample - loss: 0.5078 - accuracy: 0.6745 - val_loss: 0.8884 - val_accuracy: 0.6234\n",
      "Epoch 52/512\n",
      "20034/20034 [==============================] - 2s 112us/sample - loss: 0.5087 - accuracy: 0.6761 - val_loss: 0.6474 - val_accuracy: 0.6514\n",
      "Epoch 53/512\n",
      "20034/20034 [==============================] - 2s 115us/sample - loss: 0.5104 - accuracy: 0.6728 - val_loss: 0.8087 - val_accuracy: 0.6248\n",
      "Epoch 54/512\n",
      "20034/20034 [==============================] - 2s 116us/sample - loss: 0.5078 - accuracy: 0.6702 - val_loss: 0.6049 - val_accuracy: 0.6607\n",
      "Epoch 55/512\n",
      "20034/20034 [==============================] - 2s 115us/sample - loss: 0.5095 - accuracy: 0.6676 - val_loss: 0.7039 - val_accuracy: 0.6425\n",
      "Epoch 56/512\n",
      "20034/20034 [==============================] - 2s 115us/sample - loss: 0.5043 - accuracy: 0.6749 - val_loss: 0.7037 - val_accuracy: 0.5872\n",
      "Epoch 57/512\n",
      "20034/20034 [==============================] - 2s 115us/sample - loss: 0.5073 - accuracy: 0.6686 - val_loss: 0.6558 - val_accuracy: 0.6190\n",
      "Epoch 58/512\n",
      "20034/20034 [==============================] - 2s 115us/sample - loss: 0.5053 - accuracy: 0.6708 - val_loss: 0.6216 - val_accuracy: 0.5948\n",
      "Epoch 59/512\n",
      "20034/20034 [==============================] - 2s 115us/sample - loss: 0.5073 - accuracy: 0.6623 - val_loss: 0.9840 - val_accuracy: 0.6356\n",
      "Epoch 60/512\n",
      "20034/20034 [==============================] - 2s 115us/sample - loss: 0.5057 - accuracy: 0.6724 - val_loss: 0.7318 - val_accuracy: 0.6243\n",
      "Epoch 61/512\n",
      "20034/20034 [==============================] - 2s 114us/sample - loss: 0.5056 - accuracy: 0.6763 - val_loss: 1.0543 - val_accuracy: 0.6236 l\n",
      "Epoch 62/512\n",
      "20034/20034 [==============================] - 2s 115us/sample - loss: 0.5216 - accuracy: 0.6651 - val_loss: 0.8725 - val_accuracy: 0.5997\n",
      "Epoch 63/512\n",
      "20034/20034 [==============================] - 2s 115us/sample - loss: 0.5136 - accuracy: 0.6706 - val_loss: 0.8839 - val_accuracy: 0.6101\n",
      "Epoch 64/512\n",
      "20034/20034 [==============================] - 2s 115us/sample - loss: 0.5076 - accuracy: 0.6754 - val_loss: 1.0695 - val_accuracy: 0.6055\n",
      "Epoch 65/512\n",
      "20034/20034 [==============================] - 3s 130us/sample - loss: 0.5036 - accuracy: 0.6783 - val_loss: 0.5693 - val_accuracy: 0.6802\n",
      "Epoch 66/512\n",
      "20034/20034 [==============================] - 2s 116us/sample - loss: 0.5054 - accuracy: 0.6658 - val_loss: 0.6342 - val_accuracy: 0.6294\n",
      "Epoch 67/512\n",
      "20034/20034 [==============================] - 2s 115us/sample - loss: 0.5117 - accuracy: 0.6730 - val_loss: 0.6438 - val_accuracy: 0.6199\n",
      "Epoch 68/512\n",
      "20034/20034 [==============================] - 2s 115us/sample - loss: 0.5260 - accuracy: 0.6591 - val_loss: 0.8395 - val_accuracy: 0.6188\n",
      "Epoch 69/512\n",
      "20034/20034 [==============================] - 2s 115us/sample - loss: 0.5090 - accuracy: 0.6728 - val_loss: 0.6341 - val_accuracy: 0.6802\n",
      "Epoch 70/512\n",
      "20034/20034 [==============================] - 2s 115us/sample - loss: 0.5075 - accuracy: 0.6785 - val_loss: 4.6964 - val_accuracy: 0.5836\n",
      "Epoch 71/512\n",
      "20034/20034 [==============================] - 2s 115us/sample - loss: 0.5152 - accuracy: 0.6676 - val_loss: 6.1927 - val_accuracy: 0.5735 loss: 0.5162 - accu\n",
      "Epoch 72/512\n",
      "20034/20034 [==============================] - 2s 115us/sample - loss: 0.5109 - accuracy: 0.6759 - val_loss: 0.7355 - val_accuracy: 0.6234\n",
      "Epoch 73/512\n",
      "20034/20034 [==============================] - 2s 114us/sample - loss: 0.5065 - accuracy: 0.6799 - val_loss: 0.6264 - val_accuracy: 0.6250\n",
      "Epoch 74/512\n",
      "20034/20034 [==============================] - 2s 115us/sample - loss: 0.5099 - accuracy: 0.6741 - val_loss: 0.5961 - val_accuracy: 0.6095\n",
      "Epoch 75/512\n",
      "20034/20034 [==============================] - 2s 115us/sample - loss: 0.5463 - accuracy: 0.6651 - val_loss: 0.9494 - val_accuracy: 0.5844s: 0\n",
      "Epoch 76/512\n",
      "20034/20034 [==============================] - 2s 115us/sample - loss: 0.5298 - accuracy: 0.6675 - val_loss: 0.8461 - val_accuracy: 0.6039\n",
      "Epoch 77/512\n",
      "20034/20034 [==============================] - 2s 115us/sample - loss: 0.5181 - accuracy: 0.6769 - val_loss: 1.0260 - val_accuracy: 0.5962\n",
      "Epoch 78/512\n",
      "20034/20034 [==============================] - 2s 115us/sample - loss: 0.5319 - accuracy: 0.6694 - val_loss: 0.7460 - val_accuracy: 0.6311\n",
      "Epoch 79/512\n",
      "20034/20034 [==============================] - 2s 115us/sample - loss: 0.5185 - accuracy: 0.6810 - val_loss: 1.0243 - val_accuracy: 0.6107\n",
      "Epoch 80/512\n",
      "20034/20034 [==============================] - 2s 114us/sample - loss: 0.5141 - accuracy: 0.6794 - val_loss: 0.7764 - val_accuracy: 0.6332\n",
      "Epoch 81/512\n",
      "20034/20034 [==============================] - 2s 115us/sample - loss: 0.5119 - accuracy: 0.6761 - val_loss: 0.5909 - val_accuracy: 0.6265\n",
      "Epoch 82/512\n",
      "20034/20034 [==============================] - 2s 115us/sample - loss: 0.5152 - accuracy: 0.6768 - val_loss: 1.0508 - val_accuracy: 0.6314\n",
      "Epoch 83/512\n",
      "20034/20034 [==============================] - 2s 115us/sample - loss: 0.5142 - accuracy: 0.6761 - val_loss: 1.1847 - val_accuracy: 0.6014\n",
      "Epoch 84/512\n",
      "20034/20034 [==============================] - 3s 126us/sample - loss: 0.5100 - accuracy: 0.6856 - val_loss: 0.5560 - val_accuracy: 0.6857\n",
      "Epoch 85/512\n",
      "20034/20034 [==============================] - 2s 115us/sample - loss: 0.5122 - accuracy: 0.6815 - val_loss: 0.9052 - val_accuracy: 0.6178 0.508\n",
      "Epoch 86/512\n",
      "20034/20034 [==============================] - 2s 116us/sample - loss: 0.5151 - accuracy: 0.6700 - val_loss: 0.7783 - val_accuracy: 0.6199\n",
      "Epoch 87/512\n",
      "20034/20034 [==============================] - 2s 115us/sample - loss: 0.5148 - accuracy: 0.6698 - val_loss: 0.6202 - val_accuracy: 0.6484oss: 0.5165  - ETA: 0s - loss: 0.5146 - accuracy: 0.\n",
      "Epoch 88/512\n",
      "20034/20034 [==============================] - 2s 113us/sample - loss: 0.5143 - accuracy: 0.6713 - val_loss: 0.7618 - val_accuracy: 0.6352\n",
      "Epoch 89/512\n",
      "20034/20034 [==============================] - 2s 112us/sample - loss: 0.5125 - accuracy: 0.6795 - val_loss: 0.7509 - val_accuracy: 0.6355\n",
      "Epoch 90/512\n",
      "20034/20034 [==============================] - 2s 112us/sample - loss: 0.5169 - accuracy: 0.6734 - val_loss: 0.9739 - val_accuracy: 0.6285\n",
      "Epoch 91/512\n",
      "20034/20034 [==============================] - 2s 115us/sample - loss: 0.5130 - accuracy: 0.6743 - val_loss: 1.2444 - val_accuracy: 0.6085\n",
      "Epoch 92/512\n",
      "20034/20034 [==============================] - 2s 115us/sample - loss: 0.5254 - accuracy: 0.6651 - val_loss: 0.6174 - val_accuracy: 0.68208 - ac\n",
      "Epoch 93/512\n",
      "20034/20034 [==============================] - 2s 115us/sample - loss: 0.5206 - accuracy: 0.6670 - val_loss: 0.6336 - val_accuracy: 0.6056\n",
      "Epoch 94/512\n",
      "20034/20034 [==============================] - 2s 115us/sample - loss: 0.5259 - accuracy: 0.6689 - val_loss: 0.7594 - val_accuracy: 0.6174\n",
      "Epoch 95/512\n",
      "20034/20034 [==============================] - 2s 115us/sample - loss: 0.5236 - accuracy: 0.6644 - val_loss: 0.6377 - val_accuracy: 0.6792238 - accuracy: \n",
      "Epoch 96/512\n",
      "20034/20034 [==============================] - 2s 115us/sample - loss: 0.5151 - accuracy: 0.6704 - val_loss: 0.5717 - val_accuracy: 0.6930\n",
      "Epoch 97/512\n",
      "20034/20034 [==============================] - 2s 115us/sample - loss: 0.5231 - accuracy: 0.6639 - val_loss: 0.6578 - val_accuracy: 0.7015\n",
      "Epoch 98/512\n",
      "20034/20034 [==============================] - 2s 116us/sample - loss: 0.5123 - accuracy: 0.6748 - val_loss: 0.6181 - val_accuracy: 0.5997\n",
      "Epoch 99/512\n",
      "20034/20034 [==============================] - 2s 114us/sample - loss: 0.5090 - accuracy: 0.6837 - val_loss: 0.9596 - val_accuracy: 0.6213\n",
      "Epoch 100/512\n",
      "20034/20034 [==============================] - 2s 115us/sample - loss: 0.5073 - accuracy: 0.6804 - val_loss: 0.7983 - val_accuracy: 0.6212\n",
      "Epoch 101/512\n",
      "20034/20034 [==============================] - 2s 116us/sample - loss: 0.5101 - accuracy: 0.6789 - val_loss: 1.3840 - val_accuracy: 0.5933\n",
      "Epoch 102/512\n",
      "20034/20034 [==============================] - 2s 115us/sample - loss: 0.5069 - accuracy: 0.6857 - val_loss: 0.8789 - val_accuracy: 0.6108\n",
      "Epoch 103/512\n",
      "20034/20034 [==============================] - 2s 115us/sample - loss: 0.5177 - accuracy: 0.6688 - val_loss: 0.8944 - val_accuracy: 0.6316\n",
      "Epoch 104/512\n",
      "20034/20034 [==============================] - 2s 115us/sample - loss: 0.5060 - accuracy: 0.6896 - val_loss: 0.9862 - val_accuracy: 0.6288\n",
      "Epoch 105/512\n",
      "20034/20034 [==============================] - 2s 114us/sample - loss: 0.5197 - accuracy: 0.6706 - val_loss: 0.6802 - val_accuracy: 0.6308\n",
      "Epoch 106/512\n",
      "20034/20034 [==============================] - 2s 115us/sample - loss: 0.5197 - accuracy: 0.6665 - val_loss: 0.6429 - val_accuracy: 0.5961\n",
      "Epoch 107/512\n",
      "20034/20034 [==============================] - 2s 114us/sample - loss: 0.5167 - accuracy: 0.6694 - val_loss: 0.5989 - val_accuracy: 0.6622\n",
      "Epoch 108/512\n",
      "20034/20034 [==============================] - 2s 115us/sample - loss: 0.5300 - accuracy: 0.6578 - val_loss: 0.6392 - val_accuracy: 0.6682oss: 0.5311 - accuracy: 0.\n",
      "Epoch 109/512\n",
      "20034/20034 [==============================] - 2s 115us/sample - loss: 0.5205 - accuracy: 0.6677 - val_loss: 15.6515 - val_accuracy: 0.5813\n",
      "Epoch 110/512\n",
      "20034/20034 [==============================] - 2s 115us/sample - loss: 0.5155 - accuracy: 0.6658 - val_loss: 0.6994 - val_accuracy: 0.5970\n",
      "Epoch 111/512\n",
      "20034/20034 [==============================] - 2s 113us/sample - loss: 0.5398 - accuracy: 0.6561 - val_loss: 0.6598 - val_accuracy: 0.5886\n",
      "Epoch 112/512\n",
      "20034/20034 [==============================] - 2s 115us/sample - loss: 0.5420 - accuracy: 0.6503 - val_loss: 0.7054 - val_accuracy: 0.6555\n",
      "Epoch 113/512\n",
      "20034/20034 [==============================] - 2s 115us/sample - loss: 0.5290 - accuracy: 0.6592 - val_loss: 0.7075 - val_accuracy: 0.6652\n",
      "Epoch 114/512\n",
      "20034/20034 [==============================] - 2s 115us/sample - loss: 0.5258 - accuracy: 0.6596 - val_loss: 0.7511 - val_accuracy: 0.6632\n"
     ]
    }
   ],
   "source": [
    "import os\n",
    "if not os.path.exists(save_folder):\n",
    "    os.makedirs(save_folder)\n",
    "\n",
    "cp_cb = tf.keras.callbacks.ModelCheckpoint(filepath=save_folder + \"model0619.hdf5\", \n",
    "                                           monitor='val_loss', verbose=0, save_best_only=True, mode='auto')\n",
    "es_cb = tf.keras.callbacks.EarlyStopping(monitor='val_loss', patience=30, verbose=0, mode='auto')\n",
    "history = model.fit([x_train[:, 0], x_train[:, 1]], y_train, epochs=512, batch_size=64, \\\n",
    "    validation_data=([x_val[:, 0], x_val[:, 1]], y_val), callbacks=[cp_cb, es_cb])"
   ]
  },
  {
   "cell_type": "code",
   "execution_count": 50,
   "metadata": {},
   "outputs": [
    {
     "data": {
      "image/png": "[encoded data removed]",
      "text/plain": [
       "<Figure size 432x288 with 1 Axes>"
      ]
     },
     "metadata": {
      "needs_background": "light"
     },
     "output_type": "display_data"
    },
    {
     "data": {
      "image/png": "[encoded data removed]",
      "text/plain": [
       "<Figure size 432x288 with 1 Axes>"
      ]
     },
     "metadata": {
      "needs_background": "light"
     },
     "output_type": "display_data"
    }
   ],
   "source": [
    "# Plot training & validation accuracy values\n",
    "plt.plot(history.history['accuracy'])\n",
    "plt.plot(history.history['val_accuracy'])\n",
    "plt.title('Model accuracy')\n",
    "plt.ylabel('Accuracy')\n",
    "plt.xlabel('Epoch')\n",
    "plt.legend(['Train', 'Test'], loc='upper left')\n",
    "plt.show()\n",
    "\n",
    "# Plot training & validation loss values\n",
    "plt.plot(history.history['loss'])\n",
    "plt.plot(history.history['val_loss'])\n",
    "plt.title('Model loss')\n",
    "plt.ylabel('Loss')\n",
    "plt.xlabel('Epoch')\n",
    "plt.legend(['Train', 'Test'], loc='upper left')\n",
    "plt.ylim((0.4, 1.0))\n",
    "plt.show()"
   ]
  },
  {
   "cell_type": "code",
   "execution_count": null,
   "metadata": {},
   "outputs": [],
   "source": []
  }
 ],
 "metadata": {
  "kernelspec": {
   "display_name": "Python 3",
   "language": "python",
   "name": "python3"
  },
  "language_info": {
   "codemirror_mode": {
    "name": "ipython",
    "version": 3
   },
   "file_extension": ".py",
   "mimetype": "text/x-python",
   "name": "python",
   "nbconvert_exporter": "python",
   "pygments_lexer": "ipython3",
   "version": "3.7.6"
  }
 },
 "nbformat": 4,
 "nbformat_minor": 4
}

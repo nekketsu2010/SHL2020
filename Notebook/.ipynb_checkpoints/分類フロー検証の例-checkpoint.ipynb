{
 "cells": [
  {
   "cell_type": "markdown",
   "metadata": {},
   "source": [
    "# 分類フロー検証\n",
    "1. 配布するトレーニングデータとテストデータを分けるnpyファイルを使って学習に使うデータと，テストに使うデータを明確に分ける\n",
    "1. Train データ，validationデータそれぞれで推定結果のNPYファイルを作成する\n",
    "1. 関口に送る"
   ]
  },
  {
   "cell_type": "markdown",
   "metadata": {},
   "source": [
    "## まず，全てのラベルを分類する関口分類を例に挙げる"
   ]
  },
  {
   "cell_type": "code",
   "execution_count": 1,
   "metadata": {},
   "outputs": [],
   "source": [
    "import numpy as np\n",
    "\n",
    "import tensorflow as tf\n",
    "from tensorflow.keras import layers"
   ]
  },
  {
   "cell_type": "markdown",
   "metadata": {},
   "source": [
    "### 配布するトレーニングデータとテストデータを分けるnpyファイルを使って学習に使うデータと，テストに使うデータを明確に分ける"
   ]
  },
  {
   "cell_type": "code",
   "execution_count": 6,
   "metadata": {},
   "outputs": [],
   "source": [
    "def train_load(hold_position):\n",
    "    file_path = \"../Data/センサ別npyファイル/train/train_\" + hold_position + \"/train_\" + hold_position + \"_Acc.npy\"\n",
    "    return np.load(file_path)[:, :, 0]"
   ]
  },
  {
   "cell_type": "code",
   "execution_count": 28,
   "metadata": {},
   "outputs": [
    {
     "data": {
      "text/plain": [
       "(195491,)"
      ]
     },
     "execution_count": 28,
     "metadata": {},
     "output_type": "execute_result"
    }
   ],
   "source": [
    "train_pattern2 = np.load(\"train_pattern2.npy\")[:, 0]\n",
    "train_pattern2.shape"
   ]
  },
  {
   "cell_type": "code",
   "execution_count": 11,
   "metadata": {},
   "outputs": [
    {
     "data": {
      "text/plain": [
       "(195491, 1)"
      ]
     },
     "execution_count": 11,
     "metadata": {},
     "output_type": "execute_result"
    }
   ],
   "source": [
    "train_Label = np.load(\"../Data/センサ別npyファイル/train/train_Bag/train_Bag_Label.npy\")[:, 0].reshape([-1, 1])\n",
    "train_Label.shape"
   ]
  },
  {
   "cell_type": "code",
   "execution_count": 7,
   "metadata": {},
   "outputs": [
    {
     "data": {
      "text/plain": [
       "(195491, 500)"
      ]
     },
     "execution_count": 7,
     "metadata": {},
     "output_type": "execute_result"
    }
   ],
   "source": [
    "train_Bag = train_load(\"Bag\")\n",
    "train_Hips = train_load(\"Hips\")\n",
    "train_Torso = train_load(\"Torso\")\n",
    "train_Hand = train_load(\"Hand\")\n",
    "\n",
    "train_Hand.shape"
   ]
  },
  {
   "cell_type": "code",
   "execution_count": 8,
   "metadata": {},
   "outputs": [],
   "source": [
    "def validation_load(hold_position):\n",
    "    file_path = \"../Data/センサ別npyファイル/validation/validation_\" + hold_position + \"/validation_\" + hold_position + \"_Acc.npy\"\n",
    "    return np.load(file_path)[:, :, 0]"
   ]
  },
  {
   "cell_type": "code",
   "execution_count": 29,
   "metadata": {},
   "outputs": [
    {
     "data": {
      "text/plain": [
       "(28685,)"
      ]
     },
     "execution_count": 29,
     "metadata": {},
     "output_type": "execute_result"
    }
   ],
   "source": [
    "validation_pattern2 = np.load(\"validation_pattern2.npy\")[:, 0]\n",
    "validation_pattern2.shape"
   ]
  },
  {
   "cell_type": "code",
   "execution_count": 12,
   "metadata": {},
   "outputs": [
    {
     "data": {
      "text/plain": [
       "(28685, 1)"
      ]
     },
     "execution_count": 12,
     "metadata": {},
     "output_type": "execute_result"
    }
   ],
   "source": [
    "validation_Label = np.load(\"../Data/センサ別npyファイル/validation/validation_Bag/validation_Bag_Label.npy\")[:, 0].reshape([-1, 1])\n",
    "validation_Label.shape"
   ]
  },
  {
   "cell_type": "code",
   "execution_count": 9,
   "metadata": {},
   "outputs": [
    {
     "data": {
      "text/plain": [
       "(28685, 500)"
      ]
     },
     "execution_count": 9,
     "metadata": {},
     "output_type": "execute_result"
    }
   ],
   "source": [
    "validation_Bag = validation_load(\"Bag\")\n",
    "validation_Hips = validation_load(\"Hips\")\n",
    "validation_Torso = validation_load(\"Torso\")\n",
    "validation_Hand = validation_load(\"Hand\")\n",
    "\n",
    "validation_Hand.shape"
   ]
  },
  {
   "cell_type": "code",
   "execution_count": 30,
   "metadata": {},
   "outputs": [
    {
     "data": {
      "text/plain": [
       "((449472, 500), (269028, 500))"
      ]
     },
     "execution_count": 30,
     "metadata": {},
     "output_type": "execute_result"
    }
   ],
   "source": [
    "X_train = np.concatenate([train_Bag[train_pattern2==1], train_Hips[train_pattern2==1], train_Torso[train_pattern2==1], train_Hand[train_pattern2==1],\n",
    "                         validation_Bag[validation_pattern2==1], validation_Hips[validation_pattern2==1], validation_Torso[validation_pattern2==1], validation_Hand[validation_pattern2==1]])\n",
    "\n",
    "X_test =  np.concatenate([train_Bag[train_pattern2==2], train_Hips[train_pattern2==2], train_Torso[train_pattern2==2], train_Hand[train_pattern2==2],\n",
    "                         validation_Bag[validation_pattern2==2], validation_Hips[validation_pattern2==2], validation_Torso[validation_pattern2==2], validation_Hand[validation_pattern2==2]])\n",
    "\n",
    "X_train.shape, X_test.shape"
   ]
  },
  {
   "cell_type": "code",
   "execution_count": 31,
   "metadata": {},
   "outputs": [
    {
     "data": {
      "text/plain": [
       "((449472, 1), (269028, 1))"
      ]
     },
     "execution_count": 31,
     "metadata": {},
     "output_type": "execute_result"
    }
   ],
   "source": [
    "Y_train = np.concatenate([train_Label[train_pattern2==1], train_Label[train_pattern2==1], train_Label[train_pattern2==1], train_Label[train_pattern2==1],\n",
    "                         validation_Label[validation_pattern2==1], validation_Label[validation_pattern2==1], validation_Label[validation_pattern2==1], validation_Label[validation_pattern2==1]])\n",
    "\n",
    "Y_test = np.concatenate([train_Label[train_pattern2==2], train_Label[train_pattern2==2], train_Label[train_pattern2==2], train_Label[train_pattern2==2],\n",
    "                         validation_Label[validation_pattern2==2], validation_Label[validation_pattern2==2], validation_Label[validation_pattern2==2], validation_Label[validation_pattern2==2]])\n",
    "\n",
    "Y_train.shape, Y_test.shape"
   ]
  },
  {
   "cell_type": "markdown",
   "metadata": {},
   "source": [
    "#### ラベル番号を置き換える"
   ]
  },
  {
   "cell_type": "code",
   "execution_count": 34,
   "metadata": {},
   "outputs": [],
   "source": [
    "Y_train[Y_train == 1] = 0\n",
    "Y_train[Y_train >= 5] = 0\n",
    "Y_train[Y_train == 2] = 1\n",
    "Y_train[Y_train == 3] = 2\n",
    "Y_train[Y_train == 4] = 3"
   ]
  },
  {
   "cell_type": "code",
   "execution_count": 46,
   "metadata": {},
   "outputs": [
    {
     "data": {
      "text/plain": [
       "array([[3.],\n",
       "       [3.],\n",
       "       [3.],\n",
       "       ...,\n",
       "       [0.],\n",
       "       [0.],\n",
       "       [0.]])"
      ]
     },
     "execution_count": 46,
     "metadata": {},
     "output_type": "execute_result"
    }
   ],
   "source": [
    "Y_train"
   ]
  },
  {
   "cell_type": "code",
   "execution_count": 49,
   "metadata": {},
   "outputs": [],
   "source": [
    "model = tf.keras.Sequential()\n",
    "model.add(layers.Flatten())\n",
    "model.add(layers.Dense(256, activation='relu', input_shape=(X_train.shape[1], 1)))\n",
    "model.add(layers.Dense(128, activation='relu'))\n",
    "model.add(layers.Dense(128, activation='relu'))\n",
    "model.add(layers.Dense(4, activation='softmax'))\n",
    "model.compile(optimizer=tf.keras.optimizers.Adam(0.01),\n",
    "                  loss='sparse_categorical_crossentropy',\n",
    "                  metrics=['accuracy'])"
   ]
  },
  {
   "cell_type": "code",
   "execution_count": 50,
   "metadata": {
    "scrolled": true
   },
   "outputs": [
    {
     "name": "stdout",
     "output_type": "stream",
     "text": [
      "Train on 449472 samples\n",
      "Epoch 1/5\n",
      "449472/449472 [==============================] - 1s 3us/sample - loss: 2.8371 - accuracy: 0.6873\n",
      "Epoch 2/5\n",
      "449472/449472 [==============================] - 1s 2us/sample - loss: 0.9085 - accuracy: 0.7193\n",
      "Epoch 3/5\n",
      "449472/449472 [==============================] - 1s 3us/sample - loss: 0.8623 - accuracy: 0.7232\n",
      "Epoch 4/5\n",
      "449472/449472 [==============================] - 1s 3us/sample - loss: 0.8620 - accuracy: 0.7233\n",
      "Epoch 5/5\n",
      "449472/449472 [==============================] - 1s 3us/sample - loss: 0.8743 - accuracy: 0.7224\n"
     ]
    }
   ],
   "source": [
    "history = model.fit(X_train, Y_train, epochs=5, batch_size=2048)"
   ]
  },
  {
   "cell_type": "markdown",
   "metadata": {},
   "source": [
    "### Train データ，validationデータそれぞれで推定結果のNPYファイルを作成する"
   ]
  },
  {
   "cell_type": "code",
   "execution_count": 56,
   "metadata": {},
   "outputs": [],
   "source": [
    "def predict(x, file_name):\n",
    "    x_predict = model.predict_classes(x).reshape([-1, 1])\n",
    "    np.save(file_name, x_predict)"
   ]
  },
  {
   "cell_type": "code",
   "execution_count": 57,
   "metadata": {},
   "outputs": [],
   "source": [
    "train_Bag_predict = predict(train_Bag, \"train_Bag_関口分類\")\n",
    "train_Hips_predict = predict(train_Hips, \"train_Hips_関口分類\")\n",
    "train_Torso_predict = predict(train_Torso, \"train_Torso_関口分類\")\n",
    "train_Hand_predict = predict(train_Hand, \"train_Hand_関口分類\")"
   ]
  },
  {
   "cell_type": "code",
   "execution_count": 58,
   "metadata": {},
   "outputs": [],
   "source": [
    "validation_Bag_predict = predict(validation_Bag, \"validation_Bag_関口分類\")\n",
    "validation_Hips_predict = predict(validation_Hips, \"validation_Hips_関口分類\")\n",
    "validation_Torso_predict = predict(validation_Torso, \"validation_Torso_関口分類\")\n",
    "validation_Hand_predict = predict(validation_Hand, \"validation_Hand_関口分類\")"
   ]
  },
  {
   "cell_type": "markdown",
   "metadata": {},
   "source": [
    "### 生成された8個のnpyファイルを関口へSlackのDMで送る"
   ]
  },
  {
   "cell_type": "code",
   "execution_count": 59,
   "metadata": {},
   "outputs": [
    {
     "name": "stdin",
     "output_type": "stream",
     "text": [
      "Once deleted, variables cannot be recovered. Proceed (y/[n])?  y\n"
     ]
    }
   ],
   "source": [
    "%reset"
   ]
  },
  {
   "cell_type": "markdown",
   "metadata": {},
   "source": [
    "## 次に，全ラベルを分類しない安部分類を例に挙げる"
   ]
  },
  {
   "cell_type": "code",
   "execution_count": 60,
   "metadata": {},
   "outputs": [],
   "source": [
    "import numpy as np\n",
    "\n",
    "import tensorflow as tf\n",
    "from tensorflow.keras import layers"
   ]
  },
  {
   "cell_type": "markdown",
   "metadata": {},
   "source": [
    "#### 配布するトレーニングデータとテストデータを分けるnpyファイルを使って学習に使うデータを取り出す\n",
    "#### この例では，テストデータの取り出しは行なっていない"
   ]
  },
  {
   "cell_type": "code",
   "execution_count": 61,
   "metadata": {},
   "outputs": [],
   "source": [
    "def train_load(hold_position):\n",
    "    file_path = \"../Data/センサ別npyファイル/train/train_\" + hold_position + \"/train_\" + hold_position + \"_Acc.npy\"\n",
    "    return np.load(file_path)[:, :, 0]"
   ]
  },
  {
   "cell_type": "code",
   "execution_count": 62,
   "metadata": {},
   "outputs": [
    {
     "data": {
      "text/plain": [
       "(195491,)"
      ]
     },
     "execution_count": 62,
     "metadata": {},
     "output_type": "execute_result"
    }
   ],
   "source": [
    "train_pattern2 = np.load(\"train_pattern2.npy\")[:, 0]\n",
    "train_pattern2.shape"
   ]
  },
  {
   "cell_type": "code",
   "execution_count": 63,
   "metadata": {},
   "outputs": [
    {
     "data": {
      "text/plain": [
       "(195491, 1)"
      ]
     },
     "execution_count": 63,
     "metadata": {},
     "output_type": "execute_result"
    }
   ],
   "source": [
    "train_Label = np.load(\"../Data/センサ別npyファイル/train/train_Bag/train_Bag_Label.npy\")[:, 0].reshape([-1, 1])\n",
    "train_Label.shape"
   ]
  },
  {
   "cell_type": "code",
   "execution_count": 64,
   "metadata": {},
   "outputs": [
    {
     "data": {
      "text/plain": [
       "(195491, 500)"
      ]
     },
     "execution_count": 64,
     "metadata": {},
     "output_type": "execute_result"
    }
   ],
   "source": [
    "train_Bag = train_load(\"Bag\")\n",
    "train_Hips = train_load(\"Hips\")\n",
    "train_Torso = train_load(\"Torso\")\n",
    "train_Hand = train_load(\"Hand\")\n",
    "\n",
    "train_Hand.shape"
   ]
  },
  {
   "cell_type": "code",
   "execution_count": 65,
   "metadata": {},
   "outputs": [],
   "source": [
    "def validation_load(hold_position):\n",
    "    file_path = \"../Data/センサ別npyファイル/validation/validation_\" + hold_position + \"/validation_\" + hold_position + \"_Acc.npy\"\n",
    "    return np.load(file_path)[:, :, 0]"
   ]
  },
  {
   "cell_type": "code",
   "execution_count": 66,
   "metadata": {},
   "outputs": [
    {
     "data": {
      "text/plain": [
       "(28685,)"
      ]
     },
     "execution_count": 66,
     "metadata": {},
     "output_type": "execute_result"
    }
   ],
   "source": [
    "validation_pattern2 = np.load(\"validation_pattern2.npy\")[:, 0]\n",
    "validation_pattern2.shape"
   ]
  },
  {
   "cell_type": "code",
   "execution_count": 67,
   "metadata": {},
   "outputs": [
    {
     "data": {
      "text/plain": [
       "(28685, 1)"
      ]
     },
     "execution_count": 67,
     "metadata": {},
     "output_type": "execute_result"
    }
   ],
   "source": [
    "validation_Label = np.load(\"../Data/センサ別npyファイル/validation/validation_Bag/validation_Bag_Label.npy\")[:, 0].reshape([-1, 1])\n",
    "validation_Label.shape"
   ]
  },
  {
   "cell_type": "code",
   "execution_count": 68,
   "metadata": {},
   "outputs": [
    {
     "data": {
      "text/plain": [
       "(28685, 500)"
      ]
     },
     "execution_count": 68,
     "metadata": {},
     "output_type": "execute_result"
    }
   ],
   "source": [
    "validation_Bag = validation_load(\"Bag\")\n",
    "validation_Hips = validation_load(\"Hips\")\n",
    "validation_Torso = validation_load(\"Torso\")\n",
    "validation_Hand = validation_load(\"Hand\")\n",
    "\n",
    "validation_Hand.shape"
   ]
  },
  {
   "cell_type": "code",
   "execution_count": 72,
   "metadata": {},
   "outputs": [
    {
     "data": {
      "text/plain": [
       "((97927, 1), (14441, 1))"
      ]
     },
     "execution_count": 72,
     "metadata": {},
     "output_type": "execute_result"
    }
   ],
   "source": [
    "train_Label = train_Label[train_pattern2 == 1]\n",
    "validation_Label = validation_Label[validation_pattern2 == 1]\n",
    "\n",
    "train_Label.shape, validation_Label.shape"
   ]
  },
  {
   "cell_type": "code",
   "execution_count": 83,
   "metadata": {},
   "outputs": [
    {
     "data": {
      "text/plain": [
       "((449472, 500), (449472, 1))"
      ]
     },
     "execution_count": 83,
     "metadata": {},
     "output_type": "execute_result"
    }
   ],
   "source": [
    "X_train = np.concatenate([train_Bag[train_pattern2 == 1], train_Hips[train_pattern2 == 1], train_Torso[train_pattern2 == 1], train_Hand[train_pattern2 == 1],\n",
    "                         validation_Bag[validation_pattern2 == 1], validation_Hips[validation_pattern2 == 1], validation_Torso[validation_pattern2 == 1], validation_Hand[validation_pattern2 == 1]])\n",
    "\n",
    "Y_train = np.concatenate([train_Label, train_Label, train_Label, train_Label, validation_Label, validation_Label, validation_Label, validation_Label])\n",
    "\n",
    "X_train.shape, Y_train.shape"
   ]
  },
  {
   "cell_type": "markdown",
   "metadata": {},
   "source": [
    "#### ラベルが1,5,6,7,8であるサンプルだけにする"
   ]
  },
  {
   "cell_type": "code",
   "execution_count": 82,
   "metadata": {},
   "outputs": [],
   "source": [
    "def get_still_car_bus_train_subway(x, y):\n",
    "    index = np.where((y==1) | (y==5) | (y==6) | (y==7) | (y==8))[0]\n",
    "    return x[index], y[index]"
   ]
  },
  {
   "cell_type": "code",
   "execution_count": 84,
   "metadata": {},
   "outputs": [
    {
     "data": {
      "text/plain": [
       "((325068, 500), (325068, 1))"
      ]
     },
     "execution_count": 84,
     "metadata": {},
     "output_type": "execute_result"
    }
   ],
   "source": [
    "X_train, Y_train = get_still_car_bus_train_subway(X_train, Y_train)\n",
    "\n",
    "X_train.shape, Y_train.shape"
   ]
  },
  {
   "cell_type": "markdown",
   "metadata": {},
   "source": [
    "#### ラベル番号を置き換える"
   ]
  },
  {
   "cell_type": "code",
   "execution_count": 85,
   "metadata": {},
   "outputs": [],
   "source": [
    "Y_train[Y_train == 1] = 0\n",
    "Y_train[(Y_train == 5) | (Y_train == 6)] = 1\n",
    "Y_train[(Y_train == 7) | (Y_train == 8)] = 2"
   ]
  },
  {
   "cell_type": "code",
   "execution_count": 86,
   "metadata": {},
   "outputs": [],
   "source": [
    "model = tf.keras.Sequential()\n",
    "model.add(layers.Flatten())\n",
    "model.add(layers.Dense(256, activation='relu', input_shape=(X_train.shape[1], 1)))\n",
    "model.add(layers.Dense(128, activation='relu'))\n",
    "model.add(layers.Dense(128, activation='relu'))\n",
    "model.add(layers.Dense(4, activation='softmax'))\n",
    "model.compile(optimizer=tf.keras.optimizers.Adam(0.01),\n",
    "                  loss='sparse_categorical_crossentropy',\n",
    "                  metrics=['accuracy'])"
   ]
  },
  {
   "cell_type": "code",
   "execution_count": 87,
   "metadata": {
    "scrolled": true
   },
   "outputs": [
    {
     "name": "stdout",
     "output_type": "stream",
     "text": [
      "Train on 325068 samples\n",
      "Epoch 1/5\n",
      "325068/325068 [==============================] - 3s 8us/sample - loss: 2.9546 - accuracy: 0.4192\n",
      "Epoch 2/5\n",
      "325068/325068 [==============================] - 1s 3us/sample - loss: 1.0193 - accuracy: 0.4382\n",
      "Epoch 3/5\n",
      "325068/325068 [==============================] - 1s 3us/sample - loss: 1.0194 - accuracy: 0.4395\n",
      "Epoch 4/5\n",
      "325068/325068 [==============================] - 1s 3us/sample - loss: 1.0198 - accuracy: 0.4339\n",
      "Epoch 5/5\n",
      "325068/325068 [==============================] - 1s 3us/sample - loss: 1.0176 - accuracy: 0.4345\n"
     ]
    }
   ],
   "source": [
    "history = model.fit(X_train, Y_train, epochs=5, batch_size=2048)"
   ]
  },
  {
   "cell_type": "markdown",
   "metadata": {},
   "source": [
    "### Train データ，validationデータそれぞれで推定結果のNPYファイルを作成する"
   ]
  },
  {
   "cell_type": "code",
   "execution_count": 88,
   "metadata": {},
   "outputs": [],
   "source": [
    "def predict(x, file_name):\n",
    "    x_predict = model.predict_classes(x).reshape([-1, 1])\n",
    "    np.save(file_name, x_predict)"
   ]
  },
  {
   "cell_type": "code",
   "execution_count": 89,
   "metadata": {},
   "outputs": [],
   "source": [
    "train_Bag_predict = predict(train_Bag, \"train_Bag_安部分類\")\n",
    "train_Hips_predict = predict(train_Hips, \"train_Hips_安部分類\")\n",
    "train_Torso_predict = predict(train_Torso, \"train_Torso_安部分類\")\n",
    "train_Hand_predict = predict(train_Hand, \"train_Hand_安部分類\")"
   ]
  },
  {
   "cell_type": "code",
   "execution_count": 90,
   "metadata": {},
   "outputs": [],
   "source": [
    "validation_Bag_predict = predict(validation_Bag, \"validation_Bag_安部分類\")\n",
    "validation_Hips_predict = predict(validation_Hips, \"validation_Hips_安部分類\")\n",
    "validation_Torso_predict = predict(validation_Torso, \"validation_Torso_安部分類\")\n",
    "validation_Hand_predict = predict(validation_Hand, \"validation_Hand_安部分類\")"
   ]
  },
  {
   "cell_type": "markdown",
   "metadata": {},
   "source": [
    "### 生成された8個のnpyファイルを関口へSlackのDMで送る"
   ]
  },
  {
   "cell_type": "code",
   "execution_count": 91,
   "metadata": {},
   "outputs": [
    {
     "name": "stdin",
     "output_type": "stream",
     "text": [
      "Once deleted, variables cannot be recovered. Proceed (y/[n])?  y\n"
     ]
    }
   ],
   "source": [
    "%reset"
   ]
  },
  {
   "cell_type": "code",
   "execution_count": 96,
   "metadata": {},
   "outputs": [],
   "source": [
    "import numpy as np\n",
    "import pandas as pd"
   ]
  },
  {
   "cell_type": "code",
   "execution_count": 93,
   "metadata": {},
   "outputs": [
    {
     "data": {
      "text/plain": [
       "(195491, 1)"
      ]
     },
     "execution_count": 93,
     "metadata": {},
     "output_type": "execute_result"
    }
   ],
   "source": [
    "a = np.load(\"train_Bag_関口分類.npy\")\n",
    "a.shape"
   ]
  },
  {
   "cell_type": "code",
   "execution_count": 95,
   "metadata": {},
   "outputs": [
    {
     "data": {
      "text/plain": [
       "(195491, 1)"
      ]
     },
     "execution_count": 95,
     "metadata": {},
     "output_type": "execute_result"
    }
   ],
   "source": [
    "b = np.load(\"train_Bag_安部分類.npy\")\n",
    "b.shape"
   ]
  },
  {
   "cell_type": "code",
   "execution_count": 100,
   "metadata": {},
   "outputs": [
    {
     "data": {
      "text/html": [
       "<div>\n",
       "<style scoped>\n",
       "    .dataframe tbody tr th:only-of-type {\n",
       "        vertical-align: middle;\n",
       "    }\n",
       "\n",
       "    .dataframe tbody tr th {\n",
       "        vertical-align: top;\n",
       "    }\n",
       "\n",
       "    .dataframe thead th {\n",
       "        text-align: right;\n",
       "    }\n",
       "</style>\n",
       "<table border=\"1\" class=\"dataframe\">\n",
       "  <thead>\n",
       "    <tr style=\"text-align: right;\">\n",
       "      <th></th>\n",
       "      <th>関口</th>\n",
       "      <th>安部</th>\n",
       "    </tr>\n",
       "  </thead>\n",
       "  <tbody>\n",
       "    <tr>\n",
       "      <th>0</th>\n",
       "      <td>0</td>\n",
       "      <td>2</td>\n",
       "    </tr>\n",
       "    <tr>\n",
       "      <th>1</th>\n",
       "      <td>0</td>\n",
       "      <td>2</td>\n",
       "    </tr>\n",
       "    <tr>\n",
       "      <th>2</th>\n",
       "      <td>0</td>\n",
       "      <td>2</td>\n",
       "    </tr>\n",
       "    <tr>\n",
       "      <th>3</th>\n",
       "      <td>0</td>\n",
       "      <td>2</td>\n",
       "    </tr>\n",
       "    <tr>\n",
       "      <th>4</th>\n",
       "      <td>0</td>\n",
       "      <td>2</td>\n",
       "    </tr>\n",
       "    <tr>\n",
       "      <th>...</th>\n",
       "      <td>...</td>\n",
       "      <td>...</td>\n",
       "    </tr>\n",
       "    <tr>\n",
       "      <th>195486</th>\n",
       "      <td>0</td>\n",
       "      <td>1</td>\n",
       "    </tr>\n",
       "    <tr>\n",
       "      <th>195487</th>\n",
       "      <td>0</td>\n",
       "      <td>1</td>\n",
       "    </tr>\n",
       "    <tr>\n",
       "      <th>195488</th>\n",
       "      <td>0</td>\n",
       "      <td>1</td>\n",
       "    </tr>\n",
       "    <tr>\n",
       "      <th>195489</th>\n",
       "      <td>0</td>\n",
       "      <td>2</td>\n",
       "    </tr>\n",
       "    <tr>\n",
       "      <th>195490</th>\n",
       "      <td>0</td>\n",
       "      <td>1</td>\n",
       "    </tr>\n",
       "  </tbody>\n",
       "</table>\n",
       "<p>195491 rows × 2 columns</p>\n",
       "</div>"
      ],
      "text/plain": [
       "        関口  安部\n",
       "0        0   2\n",
       "1        0   2\n",
       "2        0   2\n",
       "3        0   2\n",
       "4        0   2\n",
       "...     ..  ..\n",
       "195486   0   1\n",
       "195487   0   1\n",
       "195488   0   1\n",
       "195489   0   2\n",
       "195490   0   1\n",
       "\n",
       "[195491 rows x 2 columns]"
      ]
     },
     "execution_count": 100,
     "metadata": {},
     "output_type": "execute_result"
    }
   ],
   "source": [
    "df = pd.DataFrame(np.concatenate([a, b], axis=1), columns=['関口', '安部'])\n",
    "df"
   ]
  },
  {
   "cell_type": "code",
   "execution_count": null,
   "metadata": {},
   "outputs": [],
   "source": []
  }
 ],
 "metadata": {
  "kernelspec": {
   "display_name": "Python 3",
   "language": "python",
   "name": "python3"
  },
  "language_info": {
   "codemirror_mode": {
    "name": "ipython",
    "version": 3
   },
   "file_extension": ".py",
   "mimetype": "text/x-python",
   "name": "python",
   "nbconvert_exporter": "python",
   "pygments_lexer": "ipython3",
   "version": "3.7.6"
  }
 },
 "nbformat": 4,
 "nbformat_minor": 4
}

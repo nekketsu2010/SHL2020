{
 "cells": [
  {
   "cell_type": "code",
   "execution_count": 46,
   "metadata": {},
   "outputs": [
    {
     "data": {
      "text/html": [
       "<style>.container { width:90% !important; }</style>"
      ],
      "text/plain": [
       "<IPython.core.display.HTML object>"
      ]
     },
     "metadata": {},
     "output_type": "display_data"
    }
   ],
   "source": [
    "import xgboost as xgb\n",
    "import numpy as np\n",
    "\n",
    "from sklearn.model_selection import train_test_split\n",
    "from sklearn.metrics import confusion_matrix\n",
    "from sklearn.model_selection import GridSearchCV\n",
    "from sklearn.preprocessing import StandardScaler\n",
    "\n",
    "import seaborn as sns\n",
    "sns.set(font='Yu Gothic')\n",
    "import matplotlib.pyplot as plt\n",
    "%matplotlib inline\n",
    "\n",
    "# 熊野くん作\n",
    "import sys\n",
    "import os\n",
    "sys.path.append(os.path.join(os.path.dirname(\".\"), '../Script'))\n",
    "import load_npy as ln\n",
    "\n",
    "from IPython.core.display import display, HTML\n",
    "display(HTML(\"<style>.container { width:90% !important; }</style>\"))"
   ]
  },
  {
   "cell_type": "code",
   "execution_count": 47,
   "metadata": {},
   "outputs": [],
   "source": [
    "#nums-----------------------------------------------\n",
    "T = 5\n",
    "Fr = 100\n",
    "N_F = Fr/2\n",
    "FREQ = np.linspace(0, N_F, (T*Fr)//2)"
   ]
  },
  {
   "cell_type": "code",
   "execution_count": 48,
   "metadata": {},
   "outputs": [],
   "source": [
    "parentpath = \"../Data/センサ別npyファイル\"\n",
    "ld = ln.Load(parentpath)"
   ]
  },
  {
   "cell_type": "code",
   "execution_count": 33,
   "metadata": {},
   "outputs": [],
   "source": [
    "pos = \"Hand\"\n",
    "tlabel_tdata = ld.train_load(pos, \"Label\")\n",
    "glacc_tdata = ld.train_load(pos, \"GLAcc\")\n",
    "t_walk_glacc = glacc_tdata[np.where(tlabel_tdata[:,0] == 2)[0]]\n",
    "t_run_glacc = glacc_tdata[np.where(tlabel_tdata[:,0] == 3)[0]]\n",
    "t_bike_glacc = glacc_tdata[np.where(tlabel_tdata[:,0] == 4)[0]]"
   ]
  },
  {
   "cell_type": "code",
   "execution_count": 34,
   "metadata": {},
   "outputs": [],
   "source": [
    "label_vdata = ld.val_load(pos, \"Label\")\n",
    "glacc_vdata = ld.val_load(pos, \"GLAcc\")\n",
    "v_walk_glacc = glacc_tdata[np.where(label_vdata[:,0] == 2)[0]]\n",
    "v_run_glacc = glacc_tdata[np.where(label_vdata[:,0] == 3)[0]]\n",
    "v_bike_glacc = glacc_tdata[np.where(label_vdata[:,0] == 4)[0]]"
   ]
  },
  {
   "cell_type": "code",
   "execution_count": 35,
   "metadata": {},
   "outputs": [],
   "source": [
    "#class and functions for map()---------------------------------------\n",
    "class Calc():\n",
    "    def dv_average(self, x,y):\n",
    "        x_dv = self.calc_dv(x)\n",
    "        y_dv = self.calc_dv(y)\n",
    "        xy = np.sqrt(np.square(x_dv) + np.square(y_dv))\n",
    "        average_data = np.average(xy)\n",
    "        return average_data\n",
    "    def calc_dv(self, num_data):\n",
    "        pre_num = np.delete(num_data,-1)\n",
    "        post_num = np.delete(num_data,0)\n",
    "        dv = (pre_num + post_num) * (1/Fr) * (1/2)\n",
    "        return dv\n",
    "c = Calc()"
   ]
  },
  {
   "cell_type": "code",
   "execution_count": 36,
   "metadata": {},
   "outputs": [],
   "source": [
    "t_walk = np.array(list(map(c.dv_average, t_walk_glacc[:,:,0], t_walk_glacc[:,:,1])))\n",
    "t_run = np.array(list(map(c.dv_average, t_run_glacc[:,:,0], t_run_glacc[:,:,1])))\n",
    "t_bike = np.array(list(map(c.dv_average, t_bike_glacc[:,:,0], t_bike_glacc[:,:,1])))"
   ]
  },
  {
   "cell_type": "code",
   "execution_count": 37,
   "metadata": {},
   "outputs": [],
   "source": [
    "v_walk = np.array(list(map(c.dv_average, v_walk_glacc[:,:,0], v_walk_glacc[:,:,1])))\n",
    "v_run = np.array(list(map(c.dv_average, v_run_glacc[:,:,0], v_run_glacc[:,:,1])))\n",
    "v_bike = np.array(list(map(c.dv_average, v_bike_glacc[:,:,0], v_bike_glacc[:,:,1])))"
   ]
  },
  {
   "cell_type": "code",
   "execution_count": 45,
   "metadata": {},
   "outputs": [
    {
     "data": {
      "text/plain": [
       "<matplotlib.axes._subplots.AxesSubplot at 0x16c03adef48>"
      ]
     },
     "execution_count": 45,
     "metadata": {},
     "output_type": "execute_result"
    },
    {
     "data": {
      "image/png": "[encoded data removed]",
      "text/plain": [
       "<Figure size 1152x576 with 1 Axes>"
      ]
     },
     "metadata": {
      "needs_background": "light"
     },
     "output_type": "display_data"
    }
   ],
   "source": [
    "plt.figure(figsize=(16, 8))\n",
    "sns.distplot(v_run.reshape([-1, 1]), label='train_bike')\n",
    "sns.distplot(v_bike.reshape([-1, 1]), label='val_bike')\n"
   ]
  },
  {
   "cell_type": "code",
   "execution_count": null,
   "metadata": {},
   "outputs": [],
   "source": []
  }
 ],
 "metadata": {
  "kernelspec": {
   "display_name": "Python 3",
   "language": "python",
   "name": "python3"
  },
  "language_info": {
   "codemirror_mode": {
    "name": "ipython",
    "version": 3
   },
   "file_extension": ".py",
   "mimetype": "text/x-python",
   "name": "python",
   "nbconvert_exporter": "python",
   "pygments_lexer": "ipython3",
   "version": "3.7.6"
  }
 },
 "nbformat": 4,
 "nbformat_minor": 4
}

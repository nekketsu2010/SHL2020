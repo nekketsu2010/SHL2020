{
 "cells": [
  {
   "cell_type": "code",
   "execution_count": 1,
   "metadata": {},
   "outputs": [
    {
     "data": {
      "text/html": [
       "<style>.container { width:90% !important; }</style>"
      ],
      "text/plain": [
       "<IPython.core.display.HTML object>"
      ]
     },
     "metadata": {},
     "output_type": "display_data"
    }
   ],
   "source": [
    "import numpy as np\n",
    "import os\n",
    "import random\n",
    "import scipy\n",
    "from scipy import signal\n",
    "from numpy.fft import fft\n",
    "from sklearn.metrics import confusion_matrix\n",
    "from sklearn.metrics import f1_score\n",
    "\n",
    "import tensorflow as tf\n",
    "from tensorflow.keras import layers\n",
    "from tensorflow.keras.initializers import he_normal\n",
    "\n",
    "from sklearn.model_selection import train_test_split\n",
    "\n",
    "import pandas as pd\n",
    "import pickle\n",
    "\n",
    "import seaborn as sns\n",
    "sns.set(font='Yu Gothic')\n",
    "import matplotlib.pyplot as plt\n",
    "%matplotlib inline\n",
    "\n",
    "from IPython.core.display import display, HTML\n",
    "display(HTML(\"<style>.container { width:90% !important; }</style>\"))"
   ]
  },
  {
   "cell_type": "code",
   "execution_count": 2,
   "metadata": {},
   "outputs": [],
   "source": [
    "def plot_confusion_matrix(test_y,pred_y,class_names,normalize=False, figsize=(16, 8)):\n",
    "    cm = confusion_matrix(test_y,pred_y)\n",
    "    # classes = class_names[unique_labels(test_y,pred_y)]\n",
    "    if normalize:\n",
    "        cm = cm.astype('float') / cm.sum(axis=1)[:, np.newaxis]\n",
    "    fig, ax = plt.subplots(figsize=figsize)\n",
    "    im = ax.imshow(cm, interpolation='nearest', cmap=plt.cm.Blues)\n",
    "    ax.figure.colorbar(im, ax=ax)\n",
    "    ax.set(xticks=np.arange(cm.shape[1]),\n",
    "           yticks=np.arange(cm.shape[0]),\n",
    "           xticklabels=class_names,\n",
    "           yticklabels=class_names,\n",
    "           ylabel='True label\\n',\n",
    "           xlabel='\\nPredicted label')\n",
    "    fmt = '.2f' if normalize else 'd'\n",
    "    for i in range(cm.shape[0]):\n",
    "        for j in range(cm.shape[1]):\n",
    "            ax.text(j,\n",
    "                    i,\n",
    "                    format(cm[i, j], fmt),\n",
    "                    ha=\"center\",\n",
    "                    va=\"center\",\n",
    "                    color=\"red\", fontsize=16)\n",
    "    fig.tight_layout()\n",
    "    return ax"
   ]
  },
  {
   "cell_type": "code",
   "execution_count": 3,
   "metadata": {},
   "outputs": [],
   "source": [
    "def load_npy(hold_position):\n",
    "    return np.load(\"train_\" + hold_position + \"_glo_mag_ver2_norm_time_melspectram.npy\")"
   ]
  },
  {
   "cell_type": "code",
   "execution_count": 4,
   "metadata": {},
   "outputs": [
    {
     "data": {
      "text/plain": [
       "(195490, 16, 32)"
      ]
     },
     "execution_count": 4,
     "metadata": {},
     "output_type": "execute_result"
    }
   ],
   "source": [
    "train_Bag = load_npy(\"Bag\")\n",
    "train_Hips = load_npy(\"Hips\")\n",
    "train_Torso = load_npy(\"Torso\")\n",
    "train_Hand = load_npy(\"Hand\")\n",
    "\n",
    "train_Hand.shape"
   ]
  },
  {
   "cell_type": "code",
   "execution_count": 5,
   "metadata": {},
   "outputs": [],
   "source": [
    "def load_npy(hold_position):\n",
    "    return np.load(\"validation_\" + hold_position + \"_glo_mag_ver2_norm_time_melspectram.npy\")"
   ]
  },
  {
   "cell_type": "code",
   "execution_count": 6,
   "metadata": {},
   "outputs": [
    {
     "data": {
      "text/plain": [
       "(28685, 16, 32)"
      ]
     },
     "execution_count": 6,
     "metadata": {},
     "output_type": "execute_result"
    }
   ],
   "source": [
    "val_Bag = load_npy(\"Bag\")\n",
    "val_Hips = load_npy(\"Hips\")\n",
    "val_Torso = load_npy(\"Torso\")\n",
    "val_Hand = load_npy(\"Hand\")\n",
    "\n",
    "val_Hand.shape"
   ]
  },
  {
   "cell_type": "code",
   "execution_count": 17,
   "metadata": {},
   "outputs": [
    {
     "data": {
      "text/plain": [
       "((781960, 16, 32), (114740, 16, 32))"
      ]
     },
     "execution_count": 17,
     "metadata": {},
     "output_type": "execute_result"
    }
   ],
   "source": [
    "X_train = np.concatenate([train_Bag, train_Hips, train_Torso, train_Hand], axis=0)\n",
    "X_val = np.concatenate([val_Bag, val_Hips, val_Torso, val_Hand], axis=0)\n",
    "\n",
    "X_train.shape, X_val.shape"
   ]
  },
  {
   "cell_type": "code",
   "execution_count": 15,
   "metadata": {},
   "outputs": [
    {
     "data": {
      "text/plain": [
       "((195490, 1), (28685,))"
      ]
     },
     "execution_count": 15,
     "metadata": {},
     "output_type": "execute_result"
    }
   ],
   "source": [
    "Y_train = np.delete(np.load(\"../Data/センサ別npyファイル/train/train_Bag/train_Bag_Label.npy\")[:, 0], 120845, 0)\n",
    "Y_val = np.load(\"../Data/センサ別npyファイル/validation/validation_Bag/validation_Bag_Label.npy\")[:, 0]\n",
    "\n",
    "Y_train.shape, Y_val.shape"
   ]
  },
  {
   "cell_type": "code",
   "execution_count": 16,
   "metadata": {},
   "outputs": [
    {
     "data": {
      "text/plain": [
       "((781960,), (114740,))"
      ]
     },
     "execution_count": 16,
     "metadata": {},
     "output_type": "execute_result"
    }
   ],
   "source": [
    "Y_train = np.concatenate([Y_train, Y_train, Y_train, Y_train], axis=0).reshape([-1])\n",
    "Y_val = np.concatenate([Y_val, Y_val, Y_val, Y_val], axis=0)\n",
    "\n",
    "Y_train.shape, Y_val.shape"
   ]
  },
  {
   "cell_type": "code",
   "execution_count": 18,
   "metadata": {},
   "outputs": [],
   "source": [
    "X_train = X_train / 255\n",
    "X_val = X_val / 255"
   ]
  },
  {
   "cell_type": "code",
   "execution_count": 19,
   "metadata": {},
   "outputs": [
    {
     "data": {
      "text/plain": [
       "((781960, 16, 32, 1), (114740, 16, 32, 1))"
      ]
     },
     "execution_count": 19,
     "metadata": {},
     "output_type": "execute_result"
    }
   ],
   "source": [
    "X_train = X_train.reshape([-1, X_train.shape[1], X_train.shape[2], 1])\n",
    "X_val = X_val.reshape([-1, X_val.shape[1], X_val.shape[2], 1])\n",
    "\n",
    "X_train.shape, X_val.shape"
   ]
  },
  {
   "cell_type": "code",
   "execution_count": 20,
   "metadata": {},
   "outputs": [
    {
     "data": {
      "text/plain": [
       "((317164, 16, 32, 1), (58500, 16, 32, 1))"
      ]
     },
     "execution_count": 20,
     "metadata": {},
     "output_type": "execute_result"
    }
   ],
   "source": [
    "X_train = X_train[(Y_train == 1) | (Y_train == 7) | (Y_train == 8)]\n",
    "X_val = X_val[(Y_val == 1) | (Y_val == 7) | (Y_val == 8)]\n",
    "\n",
    "X_train.shape, X_val.shape"
   ]
  },
  {
   "cell_type": "code",
   "execution_count": 21,
   "metadata": {},
   "outputs": [
    {
     "data": {
      "text/plain": [
       "((317164, 1), (58500, 1))"
      ]
     },
     "execution_count": 21,
     "metadata": {},
     "output_type": "execute_result"
    }
   ],
   "source": [
    "Y_train = Y_train[(Y_train == 1) | (Y_train == 7) | (Y_train == 8)].reshape([-1, 1])\n",
    "Y_val = Y_val[(Y_val == 1) | (Y_val == 7) | (Y_val == 8)].reshape([-1, 1])\n",
    "\n",
    "Y_train.shape, Y_val.shape"
   ]
  },
  {
   "cell_type": "code",
   "execution_count": 22,
   "metadata": {},
   "outputs": [
    {
     "data": {
      "text/plain": [
       "array([0., 1., 2.])"
      ]
     },
     "execution_count": 22,
     "metadata": {},
     "output_type": "execute_result"
    }
   ],
   "source": [
    "Y_train = Y_train - 6\n",
    "Y_val = Y_val - 6\n",
    "\n",
    "Y_train[Y_train == -5] = 0\n",
    "Y_val[Y_val == -5] = 0\n",
    "\n",
    "np.unique(Y_train)"
   ]
  },
  {
   "cell_type": "code",
   "execution_count": 23,
   "metadata": {},
   "outputs": [
    {
     "data": {
      "text/plain": [
       "((222014, 16, 32, 1), (222014, 1))"
      ]
     },
     "execution_count": 23,
     "metadata": {},
     "output_type": "execute_result"
    }
   ],
   "source": [
    "x_train, x_test, y_train, y_test = train_test_split(X_train, Y_train, test_size=0.3, shuffle=False)\n",
    "\n",
    "x_train.shape, y_train.shape"
   ]
  },
  {
   "cell_type": "code",
   "execution_count": 24,
   "metadata": {},
   "outputs": [],
   "source": [
    "model = tf.keras.Sequential()\n",
    "# model.add(layers.Flatten())\n",
    "model.add(layers.Conv2D(64, (3, 3), padding='valid', activation='relu', input_shape=(X_train.shape[1], X_train.shape[2], 1), kernel_initializer=he_normal()))\n",
    "model.add(layers.Conv2D(32, (3, 3), padding='same', activation='relu'))\n",
    "model.add(layers.MaxPooling2D((2, 2)))\n",
    "model.add(layers.BatchNormalization())\n",
    "model.add(layers.Conv2D(64, (3, 3), padding='same', activation='relu'))\n",
    "model.add(layers.Conv2D(32, (3, 3), padding='same', activation='relu'))\n",
    "model.add(layers.MaxPooling2D((2, 2)))\n",
    "model.add(layers.Dropout(0.2))\n",
    "model.add(layers.Conv2D(64, (3, 3), padding='same', activation='relu'))\n",
    "model.add(layers.Conv2D(32, (3, 3), padding='same', activation='relu'))\n",
    "model.add(layers.MaxPooling2D((2, 2)))\n",
    "model.add(layers.BatchNormalization())\n",
    "model.add(layers.Flatten())\n",
    "model.add(layers.Dense(128, activation='relu'))\n",
    "model.add(layers.Dense(64, activation='relu'))\n",
    "model.add(layers.BatchNormalization())\n",
    "model.add(layers.Dense(16, activation='relu'))\n",
    "model.add(layers.Dense(8, activation='softmax'))\n",
    "model.compile(optimizer=tf.keras.optimizers.Adam(0.01),\n",
    "              loss='sparse_categorical_crossentropy',\n",
    "              metrics=['accuracy'])"
   ]
  },
  {
   "cell_type": "code",
   "execution_count": 25,
   "metadata": {
    "scrolled": true
   },
   "outputs": [
    {
     "name": "stdout",
     "output_type": "stream",
     "text": [
      "Train on 222014 samples, validate on 95150 samples\n",
      "Epoch 1/128\n",
      "222014/222014 [==============================] - 12s 55us/sample - loss: 1.0027 - accuracy: 0.4689 - val_loss: 59.2529 - val_accuracy: 0.3245\n",
      "Epoch 2/128\n",
      "222014/222014 [==============================] - 8s 36us/sample - loss: 0.9085 - accuracy: 0.5123 - val_loss: 10.2073 - val_accuracy: 0.3246: 1s - loss: 0 - ETA: 0s - loss: 0.9050 - accura\n",
      "Epoch 3/128\n",
      "222014/222014 [==============================] - 8s 36us/sample - loss: 0.8990 - accuracy: 0.5179 - val_loss: 4.0307 - val_accuracy: 0.3544\n",
      "Epoch 4/128\n",
      "222014/222014 [==============================] - 8s 35us/sample - loss: 0.8719 - accuracy: 0.5299 - val_loss: 8.0922 - val_accuracy: 0.33900.875 - ETA: 2s - ETA: 0s - loss: 0.8723 - accu\n",
      "Epoch 5/128\n",
      "222014/222014 [==============================] - 8s 36us/sample - loss: 0.8637 - accuracy: 0.5336 - val_loss: 1.2406 - val_accuracy: 0.3786\n",
      "Epoch 6/128\n",
      "222014/222014 [==============================] - 8s 36us/sample - loss: 0.8607 - accuracy: 0.5341 - val_loss: 1.4704 - val_accuracy: 0.3853\n",
      "Epoch 7/128\n",
      "222014/222014 [==============================] - 8s 36us/sample - loss: 0.8587 - accuracy: 0.5363 - val_loss: 1.7660 - val_accuracy: 0.3882\n",
      "Epoch 8/128\n",
      "222014/222014 [==============================] - 8s 36us/sample - loss: 0.8591 - accuracy: 0.5369 - val_loss: 1.5892 - val_accuracy: 0.3881\n",
      "Epoch 9/128\n",
      "222014/222014 [==============================] - 8s 36us/sample - loss: 0.8564 - accuracy: 0.5387 - val_loss: 1.4695 - val_accuracy: 0.3881\n",
      "Epoch 10/128\n",
      "222014/222014 [==============================] - 8s 36us/sample - loss: 0.8563 - accuracy: 0.5379 - val_loss: 1.5321 - val_accuracy: 0.3882ETA: 0s - loss: 0.8563 - accuracy: \n",
      "Epoch 11/128\n",
      "222014/222014 [==============================] - 8s 36us/sample - loss: 0.8569 - accuracy: 0.5380 - val_loss: 1.0730 - val_accuracy: 0.3878\n",
      "Epoch 12/128\n",
      "222014/222014 [==============================] - 8s 36us/sample - loss: 0.8562 - accuracy: 0.5405 - val_loss: 1.1164 - val_accuracy: 0.3890\n",
      "Epoch 13/128\n",
      "222014/222014 [==============================] - 8s 36us/sample - loss: 0.8547 - accuracy: 0.5412 - val_loss: 1.4435 - val_accuracy: 0.4381loss: 0.8547 - accuracy: 0.54 - ETA: 2s - los - ETA: 1s - loss: 0.8549  - ETA: 0s - loss: 0.8548 \n",
      "Epoch 14/128\n",
      "222014/222014 [==============================] - 8s 36us/sample - loss: 0.8530 - accuracy: 0.5417 - val_loss: 1.3624 - val_accuracy: 0.3886\n",
      "Epoch 15/128\n",
      "222014/222014 [==============================] - 8s 36us/sample - loss: 0.8527 - accuracy: 0.5434 - val_loss: 1.2911 - val_accuracy: 0.3675- ETA: 0s - loss: 0.8529 - accuracy: 0.\n",
      "Epoch 16/128\n",
      "222014/222014 [==============================] - 8s 36us/sample - loss: 0.8517 - accuracy: 0.5455 - val_loss: 1.1919 - val_accuracy: 0.3747\n",
      "Epoch 17/128\n",
      "222014/222014 [==============================] - 8s 36us/sample - loss: 0.8518 - accuracy: 0.5460 - val_loss: 1.2673 - val_accuracy: 0.4229\n",
      "Epoch 18/128\n",
      "222014/222014 [==============================] - 8s 36us/sample - loss: 0.8541 - accuracy: 0.5459 - val_loss: 130.5199 - val_accuracy: 0.3245\n",
      "Epoch 19/128\n",
      "222014/222014 [==============================] - 8s 37us/sample - loss: 0.8803 - accuracy: 0.5299 - val_loss: 472.0897 - val_accuracy: 0.3245: 0.8993 -  - ETA: 3s - loss: 0.8895 - accuracy:  - ETA: 2s - loss: 0.8883 -  -\n",
      "Epoch 20/128\n",
      "222014/222014 [==============================] - 8s 36us/sample - loss: 0.8670 - accuracy: 0.5357 - val_loss: 45.8127 - val_accuracy: 0.3245s: 0.8668 - accuracy: \n",
      "Epoch 21/128\n",
      "222014/222014 [==============================] - 8s 36us/sample - loss: 0.8565 - accuracy: 0.5425 - val_loss: 2.9060 - val_accuracy: 0.3617\n",
      "Epoch 22/128\n",
      "222014/222014 [==============================] - 8s 36us/sample - loss: 0.8537 - accuracy: 0.5431 - val_loss: 1.4818 - val_accuracy: 0.3880\n",
      "Epoch 23/128\n",
      "222014/222014 [==============================] - 8s 37us/sample - loss: 0.8537 - accuracy: 0.5429 - val_loss: 1.4210 - val_accuracy: 0.3882\n",
      "Epoch 24/128\n",
      "222014/222014 [==============================] - 8s 37us/sample - loss: 0.8599 - accuracy: 0.5404 - val_loss: 1.2096 - val_accuracy: 0.3867loss: 0.8620 -  - ETA: 3s - loss:\n",
      "Epoch 25/128\n",
      "222014/222014 [==============================] - 8s 37us/sample - loss: 0.8608 - accuracy: 0.5397 - val_loss: 13.9803 - val_accuracy: 0.3246\n",
      "Epoch 26/128\n",
      "222014/222014 [==============================] - 8s 37us/sample - loss: 0.8531 - accuracy: 0.5454 - val_loss: 14.4652 - val_accuracy: 0.3559\n",
      "Epoch 27/128\n",
      "222014/222014 [==============================] - 8s 37us/sample - loss: 0.8525 - accuracy: 0.5456 - val_loss: 6.1632 - val_accuracy: 0.3680\n",
      "Epoch 28/128\n",
      "222014/222014 [==============================] - 8s 37us/sample - loss: 0.8522 - accuracy: 0.5462 - val_loss: 3.9287 - val_accuracy: 0.3574\n",
      "Epoch 29/128\n",
      "222014/222014 [==============================] - 8s 37us/sample - loss: 0.8535 - accuracy: 0.5459 - val_loss: 97.8857 - val_accuracy: 0.3245\n",
      "Epoch 30/128\n",
      "222014/222014 [==============================] - 8s 37us/sample - loss: 0.8506 - accuracy: 0.5485 - val_loss: 24.3698 - val_accuracy: 0.2941\n",
      "Epoch 31/128\n",
      "222014/222014 [==============================] - 8s 36us/sample - loss: 0.8514 - accuracy: 0.5490 - val_loss: 30.4053 - val_accuracy: 0.4324\n",
      "Epoch 32/128\n",
      "222014/222014 [==============================] - 8s 37us/sample - loss: 0.8485 - accuracy: 0.5501 - val_loss: 1.4655 - val_accuracy: 0.3827- loss: 0.8486 - accuracy: \n",
      "Epoch 33/128\n",
      "222014/222014 [==============================] - 8s 37us/sample - loss: 0.8461 - accuracy: 0.5531 - val_loss: 1.1025 - val_accuracy: 0.3850\n",
      "Epoch 34/128\n",
      "222014/222014 [==============================] - 8s 37us/sample - loss: 0.8447 - accuracy: 0.5548 - val_loss: 1.2823 - val_accuracy: 0.3935\n",
      "Epoch 35/128\n",
      "222014/222014 [==============================] - 8s 37us/sample - loss: 0.8430 - accuracy: 0.5562 - val_loss: 1.4022 - val_accuracy: 0.2881\n",
      "Epoch 36/128\n",
      "222014/222014 [==============================] - 8s 37us/sample - loss: 0.8434 - accuracy: 0.5554 - val_loss: 1.2237 - val_accuracy: 0.3890\n",
      "Epoch 37/128\n",
      "222014/222014 [==============================] - 8s 37us/sample - loss: 0.8406 - accuracy: 0.5577 - val_loss: 1.4380 - val_accuracy: 0.3607\n",
      "Epoch 38/128\n",
      "222014/222014 [==============================] - 8s 37us/sample - loss: 0.8427 - accuracy: 0.5568 - val_loss: 1.2459 - val_accuracy: 0.4191\n",
      "Epoch 39/128\n",
      "222014/222014 [==============================] - 8s 37us/sample - loss: 0.8415 - accuracy: 0.5585 - val_loss: 1.2158 - val_accuracy: 0.3699\n",
      "Epoch 40/128\n",
      "222014/222014 [==============================] - 8s 37us/sample - loss: 0.8401 - accuracy: 0.5591 - val_loss: 1.3609 - val_accuracy: 0.3910\n",
      "Epoch 41/128\n",
      "222014/222014 [==============================] - 8s 37us/sample - loss: 0.8389 - accuracy: 0.5604 - val_loss: 1.6419 - val_accuracy: 0.4261\n"
     ]
    }
   ],
   "source": [
    "cp_cb = tf.keras.callbacks.ModelCheckpoint(filepath=\"../Output/CheckPoint/model5_{epoch:02d}-{loss:.2f}-{accuracy:.2f}-{val_loss:.2f}-{val_accuracy:.2f}.hdf5\", \n",
    "                                           monitor='val_loss', verbose=0, save_best_only=True, mode='auto')\n",
    "es_cb = tf.keras.callbacks.EarlyStopping(monitor='val_loss', patience=30, verbose=0, mode='auto')\n",
    "history = model.fit(x_train, y_train, epochs=128, batch_size=3072, validation_data=(x_test, y_test), callbacks=[cp_cb, es_cb])"
   ]
  },
  {
   "cell_type": "code",
   "execution_count": 26,
   "metadata": {},
   "outputs": [
    {
     "name": "stdout",
     "output_type": "stream",
     "text": [
      "Model: \"sequential\"\n",
      "_________________________________________________________________\n",
      "Layer (type)                 Output Shape              Param #   \n",
      "=================================================================\n",
      "conv2d (Conv2D)              (None, 14, 30, 64)        640       \n",
      "_________________________________________________________________\n",
      "conv2d_1 (Conv2D)            (None, 14, 30, 32)        18464     \n",
      "_________________________________________________________________\n",
      "max_pooling2d (MaxPooling2D) (None, 7, 15, 32)         0         \n",
      "_________________________________________________________________\n",
      "batch_normalization (BatchNo (None, 7, 15, 32)         128       \n",
      "_________________________________________________________________\n",
      "conv2d_2 (Conv2D)            (None, 7, 15, 64)         18496     \n",
      "_________________________________________________________________\n",
      "conv2d_3 (Conv2D)            (None, 7, 15, 32)         18464     \n",
      "_________________________________________________________________\n",
      "max_pooling2d_1 (MaxPooling2 (None, 3, 7, 32)          0         \n",
      "_________________________________________________________________\n",
      "dropout (Dropout)            (None, 3, 7, 32)          0         \n",
      "_________________________________________________________________\n",
      "conv2d_4 (Conv2D)            (None, 3, 7, 64)          18496     \n",
      "_________________________________________________________________\n",
      "conv2d_5 (Conv2D)            (None, 3, 7, 32)          18464     \n",
      "_________________________________________________________________\n",
      "max_pooling2d_2 (MaxPooling2 (None, 1, 3, 32)          0         \n",
      "_________________________________________________________________\n",
      "batch_normalization_1 (Batch (None, 1, 3, 32)          128       \n",
      "_________________________________________________________________\n",
      "flatten (Flatten)            (None, 96)                0         \n",
      "_________________________________________________________________\n",
      "dense (Dense)                (None, 128)               12416     \n",
      "_________________________________________________________________\n",
      "dense_1 (Dense)              (None, 64)                8256      \n",
      "_________________________________________________________________\n",
      "batch_normalization_2 (Batch (None, 64)                256       \n",
      "_________________________________________________________________\n",
      "dense_2 (Dense)              (None, 16)                1040      \n",
      "_________________________________________________________________\n",
      "dense_3 (Dense)              (None, 8)                 136       \n",
      "=================================================================\n",
      "Total params: 115,384\n",
      "Trainable params: 115,128\n",
      "Non-trainable params: 256\n",
      "_________________________________________________________________\n"
     ]
    }
   ],
   "source": [
    "model.summary()"
   ]
  },
  {
   "cell_type": "code",
   "execution_count": 28,
   "metadata": {},
   "outputs": [
    {
     "data": {
      "image/png": "[encoded data removed]",
      "text/plain": [
       "<Figure size 432x288 with 1 Axes>"
      ]
     },
     "metadata": {
      "needs_background": "light"
     },
     "output_type": "display_data"
    },
    {
     "data": {
      "image/png": "[encoded data removed]",
      "text/plain": [
       "<Figure size 432x288 with 1 Axes>"
      ]
     },
     "metadata": {
      "needs_background": "light"
     },
     "output_type": "display_data"
    }
   ],
   "source": [
    "# Plot training & validation accuracy values\n",
    "plt.plot(history.history['accuracy'])\n",
    "plt.plot(history.history['val_accuracy'])\n",
    "plt.title('Model accuracy')\n",
    "plt.ylabel('Accuracy')\n",
    "plt.xlabel('Epoch')\n",
    "plt.legend(['Train', 'Test'], loc='upper left')\n",
    "plt.show()\n",
    "\n",
    "# Plot training & validation loss values\n",
    "plt.plot(history.history['loss'])\n",
    "plt.plot(history.history['val_loss'])\n",
    "plt.title('Model loss')\n",
    "plt.ylabel('Loss')\n",
    "plt.xlabel('Epoch')\n",
    "plt.legend(['Train', 'Test'], loc='upper left')\n",
    "plt.ylim((0, 3.5))\n",
    "plt.show()"
   ]
  },
  {
   "cell_type": "code",
   "execution_count": 29,
   "metadata": {},
   "outputs": [],
   "source": [
    "model = tf.keras.models.load_model(\"../Output/CheckPoint/model5_11-0.86-0.54-1.07-0.39.hdf5\")"
   ]
  },
  {
   "cell_type": "code",
   "execution_count": 30,
   "metadata": {},
   "outputs": [
    {
     "data": {
      "text/plain": [
       "0.26"
      ]
     },
     "execution_count": 30,
     "metadata": {},
     "output_type": "execute_result"
    },
    {
     "data": {
      "image/png": "[encoded data removed]",
      "text/plain": [
       "<Figure size 576x288 with 2 Axes>"
      ]
     },
     "metadata": {
      "needs_background": "light"
     },
     "output_type": "display_data"
    }
   ],
   "source": [
    "# class_names = ['Still', 'Walking', 'Run', 'Bike', 'Car', 'Bus', 'Train', 'Subway']\n",
    "class_names = [\"Still\", \"Train\", \"Subway\"]\n",
    "predict = model.predict_classes(X_val)\n",
    "plot_confusion_matrix(Y_val, predict, class_names, False, (8, 4))\n",
    "plt.grid(False)\n",
    "f1_macro = f1_score(Y_val, predict, average='macro')\n",
    "round(f1_macro, 3)"
   ]
  },
  {
   "cell_type": "code",
   "execution_count": null,
   "metadata": {},
   "outputs": [],
   "source": []
  }
 ],
 "metadata": {
  "kernelspec": {
   "display_name": "Python 3",
   "language": "python",
   "name": "python3"
  },
  "language_info": {
   "codemirror_mode": {
    "name": "ipython",
    "version": 3
   },
   "file_extension": ".py",
   "mimetype": "text/x-python",
   "name": "python",
   "nbconvert_exporter": "python",
   "pygments_lexer": "ipython3",
   "version": "3.7.6"
  }
 },
 "nbformat": 4,
 "nbformat_minor": 4
}

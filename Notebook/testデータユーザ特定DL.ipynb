{
 "cells": [
  {
   "cell_type": "markdown",
   "metadata": {},
   "source": [
    "# user2と3のHips\n",
    "## testデータのユーザを分類することはできるのか！？"
   ]
  },
  {
   "cell_type": "code",
   "execution_count": 1,
   "metadata": {},
   "outputs": [
    {
     "data": {
      "text/html": [
       "<style>.container { width:90% !important; }</style>"
      ],
      "text/plain": [
       "<IPython.core.display.HTML object>"
      ]
     },
     "metadata": {},
     "output_type": "display_data"
    }
   ],
   "source": [
    "import numpy as np\n",
    "import os\n",
    "import random\n",
    "import scipy\n",
    "from scipy import signal\n",
    "from numpy.fft import fft\n",
    "from sklearn.metrics import confusion_matrix\n",
    "from sklearn.metrics import f1_score\n",
    "\n",
    "import tensorflow as tf\n",
    "from tensorflow.keras import layers, models\n",
    "from tensorflow.keras.initializers import he_normal\n",
    "from tensorflow.python.keras.utils.vis_utils import plot_model\n",
    "\n",
    "from sklearn.model_selection import train_test_split\n",
    "\n",
    "import pandas as pd\n",
    "import pickle\n",
    "from tqdm import tqdm\n",
    "\n",
    "import seaborn as sns\n",
    "sns.set(font='Yu Gothic')\n",
    "import matplotlib.pyplot as plt\n",
    "%matplotlib inline\n",
    "\n",
    "from IPython.core.display import display, HTML\n",
    "display(HTML(\"<style>.container { width:90% !important; }</style>\"))"
   ]
  },
  {
   "cell_type": "code",
   "execution_count": 2,
   "metadata": {},
   "outputs": [],
   "source": [
    "def plot_confusion_matrix(test_y,pred_y,class_names,normalize=False, figsize=(16, 8)):\n",
    "    cm = confusion_matrix(test_y,pred_y)\n",
    "    # classes = class_names[unique_labels(test_y,pred_y)]\n",
    "    if normalize:\n",
    "        cm = cm.astype('float') / cm.sum(axis=1)[:, np.newaxis]\n",
    "    fig, ax = plt.subplots(figsize=figsize)\n",
    "    im = ax.imshow(cm, interpolation='nearest', cmap=plt.cm.Blues)\n",
    "    ax.figure.colorbar(im, ax=ax)\n",
    "    ax.set(xticks=np.arange(cm.shape[1]),\n",
    "           yticks=np.arange(cm.shape[0]),\n",
    "           xticklabels=class_names,\n",
    "           yticklabels=class_names,\n",
    "           ylabel='True label\\n',\n",
    "           xlabel='\\nPredicted label')\n",
    "    fmt = '.2f' if normalize else 'd'\n",
    "    for i in range(cm.shape[0]):\n",
    "        for j in range(cm.shape[1]):\n",
    "            ax.text(j,\n",
    "                    i,\n",
    "                    format(cm[i, j], fmt),\n",
    "                    ha=\"center\",\n",
    "                    va=\"center\",\n",
    "                    color=\"red\", fontsize=16)\n",
    "    fig.tight_layout()\n",
    "    return ax"
   ]
  },
  {
   "cell_type": "markdown",
   "metadata": {},
   "source": [
    "### 移動状態のラベルを読み込む"
   ]
  },
  {
   "cell_type": "code",
   "execution_count": 3,
   "metadata": {},
   "outputs": [
    {
     "data": {
      "text/plain": [
       "((14813,), (13872,))"
      ]
     },
     "execution_count": 3,
     "metadata": {},
     "output_type": "execute_result"
    }
   ],
   "source": [
    "user2_label = np.load(\"../Data/センサ別npyファイル/validation/validation_Bag/validation_Bag_Label.npy\")[:14813, 0].reshape([-1])\n",
    "user3_label = np.load(\"../Data/センサ別npyファイル/validation/validation_Bag/validation_Bag_Label.npy\")[14813:, 0].reshape([-1])\n",
    "\n",
    "user2_label.shape, user3_label.shape"
   ]
  },
  {
   "cell_type": "markdown",
   "metadata": {},
   "source": [
    "### 削除するインデックスの処理"
   ]
  },
  {
   "cell_type": "code",
   "execution_count": 4,
   "metadata": {},
   "outputs": [
    {
     "name": "stderr",
     "output_type": "stream",
     "text": [
      "100%|████████████████████████████████████████████████████████████████████████| 14812/14812 [00:00<00:00, 948344.24it/s]\n",
      "100%|████████████████████████████████████████████████████████████████████████████████████| 13871/13871 [00:00<?, ?it/s]"
     ]
    },
    {
     "name": "stdout",
     "output_type": "stream",
     "text": [
      "150\n",
      "66\n"
     ]
    },
    {
     "name": "stderr",
     "output_type": "stream",
     "text": [
      "\n"
     ]
    }
   ],
   "source": [
    "user2_change_index = []\n",
    "for i in tqdm(range(len(user2_label)-1)):\n",
    "    if user2_label[i] != user2_label[i+1]:\n",
    "        user2_change_index.append(i+1)\n",
    "        \n",
    "change_before_index = []\n",
    "for i in range(len(user2_change_index)):\n",
    "    change_before_index.append(user2_change_index[i] - 1)\n",
    "    \n",
    "for i in range(len(change_before_index)):\n",
    "    user2_change_index.append(change_before_index[i])\n",
    "print(len(user2_change_index))\n",
    "\n",
    "user3_change_index = []\n",
    "for i in tqdm(range(len(user3_label)-1)):\n",
    "    if user3_label[i] != user3_label[i+1]:\n",
    "        user3_change_index.append(i+1)\n",
    "        \n",
    "change_before_index = []\n",
    "for i in range(len(user3_change_index)):\n",
    "    change_before_index.append(user3_change_index[i] - 1)\n",
    "    \n",
    "for i in range(len(change_before_index)):\n",
    "    user3_change_index.append(change_before_index[i])\n",
    "print(len(user3_change_index))"
   ]
  },
  {
   "cell_type": "code",
   "execution_count": 5,
   "metadata": {},
   "outputs": [
    {
     "data": {
      "text/plain": [
       "((14663,), (13806,))"
      ]
     },
     "execution_count": 5,
     "metadata": {},
     "output_type": "execute_result"
    }
   ],
   "source": [
    "user2_label = np.delete(user2_label, user2_change_index, axis=0)\n",
    "user3_label = np.delete(user3_label, user3_change_index, axis=0)\n",
    "\n",
    "user2_label.shape, user3_label.shape"
   ]
  },
  {
   "cell_type": "markdown",
   "metadata": {},
   "source": [
    "### データを準備"
   ]
  },
  {
   "cell_type": "code",
   "execution_count": 6,
   "metadata": {},
   "outputs": [
    {
     "name": "stdout",
     "output_type": "stream",
     "text": [
      "(1659,)\n",
      "(2016,)\n",
      "(119,)\n",
      "(1134,)\n",
      "(2149,)\n",
      "(574,)\n",
      "(1120,)\n",
      "(1470,)\n"
     ]
    }
   ],
   "source": [
    "# 移動状態ラベルがバランス良く訓練データ・検証データに入り込むようにパターン行列の作成\n",
    "pattern_user2 = np.zeros(14813)\n",
    "pattern_user2 = np.delete(pattern_user2, user2_change_index, axis=0)\n",
    "\n",
    "for i in range(8):\n",
    "    tmp = np.where(user2_label == (i+1))[0]\n",
    "    pattern_user2[tmp[:tmp.shape[0]//10*7]] = 1\n",
    "    print(tmp[:tmp.shape[0]//10*7].shape)"
   ]
  },
  {
   "cell_type": "code",
   "execution_count": 7,
   "metadata": {},
   "outputs": [
    {
     "name": "stdout",
     "output_type": "stream",
     "text": [
      "(2450,)\n",
      "(1554,)\n",
      "(252,)\n",
      "(532,)\n",
      "(700,)\n",
      "(693,)\n",
      "(1911,)\n",
      "(1547,)\n"
     ]
    }
   ],
   "source": [
    "# 移動状態ラベルがバランス良く訓練データ・検証データに入り込むようにパターン行列の作成\n",
    "pattern_user3 = np.zeros(13872)\n",
    "pattern_user3 = np.delete(pattern_user3, user3_change_index, axis=0)\n",
    "\n",
    "for i in range(8):\n",
    "    tmp = np.where(user3_label == (i+1))[0]\n",
    "    pattern_user3[tmp[:tmp.shape[0]//10*7]] = 1\n",
    "    print(tmp[:tmp.shape[0]//10*7].shape)"
   ]
  },
  {
   "cell_type": "code",
   "execution_count": 8,
   "metadata": {},
   "outputs": [
    {
     "data": {
      "text/plain": [
       "((10241, 128, 25, 1), (4422, 128, 25, 1))"
      ]
     },
     "execution_count": 8,
     "metadata": {},
     "output_type": "execute_result"
    }
   ],
   "source": [
    "X1 = np.load(\"../Output/validation/validation_Hips/validation_Hips_glo_lacc_norm_spectram_axis1.npy\")[:14813].reshape([-1, 128, 25, 1])\n",
    "X1 = np.delete(X1, user2_change_index, axis=0)\n",
    "X1_train = X1[pattern_user2 == 1]\n",
    "X1_val = X1[pattern_user2 == 0]\n",
    "X1_train.shape, X1_val.shape"
   ]
  },
  {
   "cell_type": "code",
   "execution_count": 9,
   "metadata": {},
   "outputs": [
    {
     "data": {
      "text/plain": [
       "((19880, 128, 25, 1), (8589, 128, 25, 1))"
      ]
     },
     "execution_count": 9,
     "metadata": {},
     "output_type": "execute_result"
    }
   ],
   "source": [
    "X1 = np.load(\"../Output/validation/validation_Hips/validation_Hips_glo_lacc_norm_spectram_axis1.npy\")[14813:].reshape([-1, 128, 25, 1])\n",
    "X1 = np.delete(X1, user3_change_index, axis=0)\n",
    "X1_train = np.concatenate([X1_train, X1[pattern_user3 == 1]], axis=0)\n",
    "X1_val = np.concatenate([X1_val, X1[pattern_user3 == 0]], axis=0)\n",
    "X1_train.shape, X1_val.shape"
   ]
  },
  {
   "cell_type": "code",
   "execution_count": 10,
   "metadata": {},
   "outputs": [],
   "source": [
    "del X1"
   ]
  },
  {
   "cell_type": "code",
   "execution_count": 11,
   "metadata": {},
   "outputs": [
    {
     "data": {
      "text/plain": [
       "((10241, 128, 25, 1), (4422, 128, 25, 1))"
      ]
     },
     "execution_count": 11,
     "metadata": {},
     "output_type": "execute_result"
    }
   ],
   "source": [
    "X2 = np.load(\"../Output/validation/validation_Hips/validation_Hips_glo_gyr_norm_spectram_axis1.npy\")[:14813].reshape([-1, 128, 25, 1])\n",
    "X2 = np.delete(X2, user2_change_index, axis=0)\n",
    "X2_train = X2[pattern_user2 == 1]\n",
    "X2_val = X2[pattern_user2 == 0]\n",
    "X2_train.shape, X2_val.shape"
   ]
  },
  {
   "cell_type": "code",
   "execution_count": 12,
   "metadata": {},
   "outputs": [
    {
     "data": {
      "text/plain": [
       "((19880, 128, 25, 1), (8589, 128, 25, 1))"
      ]
     },
     "execution_count": 12,
     "metadata": {},
     "output_type": "execute_result"
    }
   ],
   "source": [
    "X2 = np.load(\"../Output/validation/validation_Hips/validation_Hips_glo_gyr_norm_spectram_axis1.npy\")[14813:].reshape([-1, 128, 25, 1])\n",
    "X2 = np.delete(X2, user3_change_index, axis=0)\n",
    "X2_train = np.concatenate([X2_train, X2[pattern_user3 == 1]], axis=0)\n",
    "X2_val = np.concatenate([X2_val, X2[pattern_user3 == 0]], axis=0)\n",
    "X2_train.shape, X2_val.shape"
   ]
  },
  {
   "cell_type": "code",
   "execution_count": 13,
   "metadata": {},
   "outputs": [],
   "source": [
    "del X2"
   ]
  },
  {
   "cell_type": "code",
   "execution_count": 14,
   "metadata": {},
   "outputs": [
    {
     "data": {
      "text/plain": [
       "((10241, 128, 25, 1), (4422, 128, 25, 1))"
      ]
     },
     "execution_count": 14,
     "metadata": {},
     "output_type": "execute_result"
    }
   ],
   "source": [
    "X3 = np.load(\"../Output/validation/validation_Hips/validation_Hips_glo_mag_norm_spectram_axis1.npy\")[:14813].reshape([-1, 128, 25, 1])\n",
    "X3 = np.delete(X3, user2_change_index, axis=0)\n",
    "X3_train = X3[pattern_user2 == 1]\n",
    "X3_val = X3[pattern_user2 == 0]\n",
    "X3_train.shape, X3_val.shape"
   ]
  },
  {
   "cell_type": "code",
   "execution_count": 15,
   "metadata": {},
   "outputs": [
    {
     "data": {
      "text/plain": [
       "((19880, 128, 25, 1), (8589, 128, 25, 1))"
      ]
     },
     "execution_count": 15,
     "metadata": {},
     "output_type": "execute_result"
    }
   ],
   "source": [
    "X3 = np.load(\"../Output/validation/validation_Hips/validation_Hips_glo_mag_norm_spectram_axis1.npy\")[14813:].reshape([-1, 128, 25, 1])\n",
    "X3 = np.delete(X3, user3_change_index, axis=0)\n",
    "X3_train = np.concatenate([X3_train, X3[pattern_user3 == 1]], axis=0)\n",
    "X3_val = np.concatenate([X3_val, X3[pattern_user3 == 0]], axis=0)\n",
    "X3_train.shape, X3_val.shape"
   ]
  },
  {
   "cell_type": "code",
   "execution_count": 16,
   "metadata": {},
   "outputs": [],
   "source": [
    "del X3"
   ]
  },
  {
   "cell_type": "markdown",
   "metadata": {},
   "source": [
    "### ラベルを準備"
   ]
  },
  {
   "cell_type": "code",
   "execution_count": 17,
   "metadata": {},
   "outputs": [
    {
     "data": {
      "text/plain": [
       "((19880, 1), (8589, 1))"
      ]
     },
     "execution_count": 17,
     "metadata": {},
     "output_type": "execute_result"
    }
   ],
   "source": [
    "Y_train = [0] * 10241 + [1] * 9639\n",
    "Y_val = [0] * 4422 + [1] * 4167\n",
    "Y_train = np.array(Y_train).reshape([-1, 1])\n",
    "Y_val = np.array(Y_val).reshape([-1, 1])\n",
    "Y_train.shape, Y_val.shape"
   ]
  },
  {
   "cell_type": "markdown",
   "metadata": {},
   "source": [
    "## モデルを構築して学習！"
   ]
  },
  {
   "cell_type": "code",
   "execution_count": 18,
   "metadata": {},
   "outputs": [],
   "source": [
    "def BuildModel(input_shape):\n",
    "    input1 = layers.Input(shape=input_shape)\n",
    "    x = layers.Conv2D(64, (3, 3), padding='valid', activation='relu', kernel_initializer=he_normal())(input1)\n",
    "    x = layers.Conv2D(32, (3, 3), padding='same', activation='relu')(x)\n",
    "    x = layers.MaxPooling2D((2, 2))(x)\n",
    "    x = layers.BatchNormalization()(x)\n",
    "    x = layers.Conv2D(64, (3, 3), padding='same', activation='relu')(x)\n",
    "    x = layers.Conv2D(32, (3, 3), padding='same', activation='relu')(x)\n",
    "    x = layers.MaxPooling2D((2, 2))(x)\n",
    "    x = layers.Dropout(0.2)(x)\n",
    "    x = layers.Conv2D(64, (3, 3), padding='same', activation='relu')(x)\n",
    "    x = layers.Conv2D(32, (3, 3), padding='same', activation='relu')(x)\n",
    "    x = layers.MaxPooling2D((2, 2))(x)\n",
    "    x = layers.BatchNormalization()(x)\n",
    "    x = layers.Conv2D(64, (3, 3), padding='same', activation='relu')(x)\n",
    "    x = layers.Conv2D(32, (3, 3), padding='same', activation='relu')(x)\n",
    "    x = layers.MaxPooling2D((2, 1))(x)\n",
    "    x = layers.Dropout(0.2)(x)\n",
    "    x = layers.Flatten()(x)\n",
    "    x = layers.Dense(128, activation='relu')(x)\n",
    "    x = layers.BatchNormalization()(x)\n",
    "    x = layers.Dense(32, activation='relu')(x)\n",
    "    x = models.Model(inputs=input1, outputs=x)\n",
    "    return x"
   ]
  },
  {
   "cell_type": "code",
   "execution_count": 19,
   "metadata": {
    "scrolled": true
   },
   "outputs": [
    {
     "name": "stdout",
     "output_type": "stream",
     "text": [
      "Model: \"model_3\"\n",
      "__________________________________________________________________________________________________\n",
      "Layer (type)                    Output Shape         Param #     Connected to                     \n",
      "==================================================================================================\n",
      "input_1 (InputLayer)            [(None, 128, 25, 1)] 0                                            \n",
      "__________________________________________________________________________________________________\n",
      "input_2 (InputLayer)            [(None, 128, 25, 1)] 0                                            \n",
      "__________________________________________________________________________________________________\n",
      "input_3 (InputLayer)            [(None, 128, 25, 1)] 0                                            \n",
      "__________________________________________________________________________________________________\n",
      "conv2d (Conv2D)                 (None, 126, 23, 64)  640         input_1[0][0]                    \n",
      "__________________________________________________________________________________________________\n",
      "conv2d_8 (Conv2D)               (None, 126, 23, 64)  640         input_2[0][0]                    \n",
      "__________________________________________________________________________________________________\n",
      "conv2d_16 (Conv2D)              (None, 126, 23, 64)  640         input_3[0][0]                    \n",
      "__________________________________________________________________________________________________\n",
      "conv2d_1 (Conv2D)               (None, 126, 23, 32)  18464       conv2d[0][0]                     \n",
      "__________________________________________________________________________________________________\n",
      "conv2d_9 (Conv2D)               (None, 126, 23, 32)  18464       conv2d_8[0][0]                   \n",
      "__________________________________________________________________________________________________\n",
      "conv2d_17 (Conv2D)              (None, 126, 23, 32)  18464       conv2d_16[0][0]                  \n",
      "__________________________________________________________________________________________________\n",
      "max_pooling2d (MaxPooling2D)    (None, 63, 11, 32)   0           conv2d_1[0][0]                   \n",
      "__________________________________________________________________________________________________\n",
      "max_pooling2d_4 (MaxPooling2D)  (None, 63, 11, 32)   0           conv2d_9[0][0]                   \n",
      "__________________________________________________________________________________________________\n",
      "max_pooling2d_8 (MaxPooling2D)  (None, 63, 11, 32)   0           conv2d_17[0][0]                  \n",
      "__________________________________________________________________________________________________\n",
      "batch_normalization (BatchNorma (None, 63, 11, 32)   128         max_pooling2d[0][0]              \n",
      "__________________________________________________________________________________________________\n",
      "batch_normalization_3 (BatchNor (None, 63, 11, 32)   128         max_pooling2d_4[0][0]            \n",
      "__________________________________________________________________________________________________\n",
      "batch_normalization_6 (BatchNor (None, 63, 11, 32)   128         max_pooling2d_8[0][0]            \n",
      "__________________________________________________________________________________________________\n",
      "conv2d_2 (Conv2D)               (None, 63, 11, 64)   18496       batch_normalization[0][0]        \n",
      "__________________________________________________________________________________________________\n",
      "conv2d_10 (Conv2D)              (None, 63, 11, 64)   18496       batch_normalization_3[0][0]      \n",
      "__________________________________________________________________________________________________\n",
      "conv2d_18 (Conv2D)              (None, 63, 11, 64)   18496       batch_normalization_6[0][0]      \n",
      "__________________________________________________________________________________________________\n",
      "conv2d_3 (Conv2D)               (None, 63, 11, 32)   18464       conv2d_2[0][0]                   \n",
      "__________________________________________________________________________________________________\n",
      "conv2d_11 (Conv2D)              (None, 63, 11, 32)   18464       conv2d_10[0][0]                  \n",
      "__________________________________________________________________________________________________\n",
      "conv2d_19 (Conv2D)              (None, 63, 11, 32)   18464       conv2d_18[0][0]                  \n",
      "__________________________________________________________________________________________________\n",
      "max_pooling2d_1 (MaxPooling2D)  (None, 31, 5, 32)    0           conv2d_3[0][0]                   \n",
      "__________________________________________________________________________________________________\n",
      "max_pooling2d_5 (MaxPooling2D)  (None, 31, 5, 32)    0           conv2d_11[0][0]                  \n",
      "__________________________________________________________________________________________________\n",
      "max_pooling2d_9 (MaxPooling2D)  (None, 31, 5, 32)    0           conv2d_19[0][0]                  \n",
      "__________________________________________________________________________________________________\n",
      "dropout (Dropout)               (None, 31, 5, 32)    0           max_pooling2d_1[0][0]            \n",
      "__________________________________________________________________________________________________\n",
      "dropout_2 (Dropout)             (None, 31, 5, 32)    0           max_pooling2d_5[0][0]            \n",
      "__________________________________________________________________________________________________\n",
      "dropout_4 (Dropout)             (None, 31, 5, 32)    0           max_pooling2d_9[0][0]            \n",
      "__________________________________________________________________________________________________\n",
      "conv2d_4 (Conv2D)               (None, 31, 5, 64)    18496       dropout[0][0]                    \n",
      "__________________________________________________________________________________________________\n",
      "conv2d_12 (Conv2D)              (None, 31, 5, 64)    18496       dropout_2[0][0]                  \n",
      "__________________________________________________________________________________________________\n",
      "conv2d_20 (Conv2D)              (None, 31, 5, 64)    18496       dropout_4[0][0]                  \n",
      "__________________________________________________________________________________________________\n",
      "conv2d_5 (Conv2D)               (None, 31, 5, 32)    18464       conv2d_4[0][0]                   \n",
      "__________________________________________________________________________________________________\n",
      "conv2d_13 (Conv2D)              (None, 31, 5, 32)    18464       conv2d_12[0][0]                  \n",
      "__________________________________________________________________________________________________\n",
      "conv2d_21 (Conv2D)              (None, 31, 5, 32)    18464       conv2d_20[0][0]                  \n",
      "__________________________________________________________________________________________________\n",
      "max_pooling2d_2 (MaxPooling2D)  (None, 15, 2, 32)    0           conv2d_5[0][0]                   \n",
      "__________________________________________________________________________________________________\n",
      "max_pooling2d_6 (MaxPooling2D)  (None, 15, 2, 32)    0           conv2d_13[0][0]                  \n",
      "__________________________________________________________________________________________________\n",
      "max_pooling2d_10 (MaxPooling2D) (None, 15, 2, 32)    0           conv2d_21[0][0]                  \n",
      "__________________________________________________________________________________________________\n",
      "batch_normalization_1 (BatchNor (None, 15, 2, 32)    128         max_pooling2d_2[0][0]            \n",
      "__________________________________________________________________________________________________\n",
      "batch_normalization_4 (BatchNor (None, 15, 2, 32)    128         max_pooling2d_6[0][0]            \n",
      "__________________________________________________________________________________________________\n",
      "batch_normalization_7 (BatchNor (None, 15, 2, 32)    128         max_pooling2d_10[0][0]           \n",
      "__________________________________________________________________________________________________\n",
      "conv2d_6 (Conv2D)               (None, 15, 2, 64)    18496       batch_normalization_1[0][0]      \n",
      "__________________________________________________________________________________________________\n",
      "conv2d_14 (Conv2D)              (None, 15, 2, 64)    18496       batch_normalization_4[0][0]      \n",
      "__________________________________________________________________________________________________\n",
      "conv2d_22 (Conv2D)              (None, 15, 2, 64)    18496       batch_normalization_7[0][0]      \n",
      "__________________________________________________________________________________________________\n",
      "conv2d_7 (Conv2D)               (None, 15, 2, 32)    18464       conv2d_6[0][0]                   \n",
      "__________________________________________________________________________________________________\n",
      "conv2d_15 (Conv2D)              (None, 15, 2, 32)    18464       conv2d_14[0][0]                  \n",
      "__________________________________________________________________________________________________\n",
      "conv2d_23 (Conv2D)              (None, 15, 2, 32)    18464       conv2d_22[0][0]                  \n",
      "__________________________________________________________________________________________________\n",
      "max_pooling2d_3 (MaxPooling2D)  (None, 7, 2, 32)     0           conv2d_7[0][0]                   \n",
      "__________________________________________________________________________________________________\n",
      "max_pooling2d_7 (MaxPooling2D)  (None, 7, 2, 32)     0           conv2d_15[0][0]                  \n",
      "__________________________________________________________________________________________________\n",
      "max_pooling2d_11 (MaxPooling2D) (None, 7, 2, 32)     0           conv2d_23[0][0]                  \n",
      "__________________________________________________________________________________________________\n",
      "dropout_1 (Dropout)             (None, 7, 2, 32)     0           max_pooling2d_3[0][0]            \n",
      "__________________________________________________________________________________________________\n",
      "dropout_3 (Dropout)             (None, 7, 2, 32)     0           max_pooling2d_7[0][0]            \n",
      "__________________________________________________________________________________________________\n",
      "dropout_5 (Dropout)             (None, 7, 2, 32)     0           max_pooling2d_11[0][0]           \n",
      "__________________________________________________________________________________________________\n",
      "flatten (Flatten)               (None, 448)          0           dropout_1[0][0]                  \n",
      "__________________________________________________________________________________________________\n",
      "flatten_1 (Flatten)             (None, 448)          0           dropout_3[0][0]                  \n",
      "__________________________________________________________________________________________________\n",
      "flatten_2 (Flatten)             (None, 448)          0           dropout_5[0][0]                  \n",
      "__________________________________________________________________________________________________\n",
      "dense (Dense)                   (None, 128)          57472       flatten[0][0]                    \n",
      "__________________________________________________________________________________________________\n",
      "dense_2 (Dense)                 (None, 128)          57472       flatten_1[0][0]                  \n",
      "__________________________________________________________________________________________________\n",
      "dense_4 (Dense)                 (None, 128)          57472       flatten_2[0][0]                  \n",
      "__________________________________________________________________________________________________\n",
      "batch_normalization_2 (BatchNor (None, 128)          512         dense[0][0]                      \n",
      "__________________________________________________________________________________________________\n",
      "batch_normalization_5 (BatchNor (None, 128)          512         dense_2[0][0]                    \n",
      "__________________________________________________________________________________________________\n",
      "batch_normalization_8 (BatchNor (None, 128)          512         dense_4[0][0]                    \n",
      "__________________________________________________________________________________________________\n",
      "dense_1 (Dense)                 (None, 32)           4128        batch_normalization_2[0][0]      \n",
      "__________________________________________________________________________________________________\n",
      "dense_3 (Dense)                 (None, 32)           4128        batch_normalization_5[0][0]      \n",
      "__________________________________________________________________________________________________\n",
      "dense_5 (Dense)                 (None, 32)           4128        batch_normalization_8[0][0]      \n",
      "__________________________________________________________________________________________________\n",
      "concatenate (Concatenate)       (None, 96)           0           dense_1[0][0]                    \n",
      "                                                                 dense_3[0][0]                    \n",
      "                                                                 dense_5[0][0]                    \n",
      "__________________________________________________________________________________________________\n",
      "dense_6 (Dense)                 (None, 64)           6208        concatenate[0][0]                \n",
      "__________________________________________________________________________________________________\n",
      "dense_7 (Dense)                 (None, 16)           1040        dense_6[0][0]                    \n",
      "__________________________________________________________________________________________________\n",
      "dense_8 (Dense)                 (None, 5)            85          dense_7[0][0]                    \n",
      "==================================================================================================\n",
      "Total params: 584,389\n",
      "Trainable params: 583,237\n",
      "Non-trainable params: 1,152\n",
      "__________________________________________________________________________________________________\n"
     ]
    }
   ],
   "source": [
    "x1 = BuildModel(X1_train[0].shape)\n",
    "x2 = BuildModel(X2_train[0].shape)\n",
    "x3 = BuildModel(X3_train[0].shape)\n",
    "\n",
    "combined = layers.concatenate([x1.output, x2.output, x3.output])\n",
    "\n",
    "z = layers.Dense(64, activation='relu')(combined)\n",
    "z = layers.Dense(16, activation='relu')(z)\n",
    "z = layers.Dense(5, activation='softmax')(z)\n",
    "\n",
    "model = models.Model(inputs=[x1.input, x2.input, x3.input], outputs=z)\n",
    "model.compile(optimizer=tf.keras.optimizers.Adam(0.01),\n",
    "              loss='sparse_categorical_crossentropy',\n",
    "              metrics=['accuracy'])\n",
    "model.summary()"
   ]
  },
  {
   "cell_type": "code",
   "execution_count": 20,
   "metadata": {
    "scrolled": true
   },
   "outputs": [
    {
     "name": "stdout",
     "output_type": "stream",
     "text": [
      "Train on 19880 samples, validate on 8589 samples\n",
      "Epoch 1/256\n",
      "19880/19880 [==============================] - 23s 1ms/sample - loss: 0.6990 - accuracy: 0.5870 - val_loss: 6.2835 - val_accuracy: 0.5073\n",
      "Epoch 2/256\n",
      "19880/19880 [==============================] - 15s 743us/sample - loss: 0.6369 - accuracy: 0.6431 - val_loss: 1.3168 - val_accuracy: 0.5132\n",
      "Epoch 3/256\n",
      "19880/19880 [==============================] - 15s 744us/sample - loss: 0.6142 - accuracy: 0.6604 - val_loss: 0.6917 - val_accuracy: 0.5804\n",
      "Epoch 4/256\n",
      "19880/19880 [==============================] - 15s 737us/sample - loss: 0.5865 - accuracy: 0.6835 - val_loss: 0.7081 - val_accuracy: 0.6217\n",
      "Epoch 5/256\n",
      "19880/19880 [==============================] - 15s 739us/sample - loss: 0.5667 - accuracy: 0.7028 - val_loss: 0.8546 - val_accuracy: 0.5648\n",
      "Epoch 6/256\n",
      "19880/19880 [==============================] - 15s 757us/sample - loss: 0.5351 - accuracy: 0.7268 - val_loss: 0.7680 - val_accuracy: 0.5925\n",
      "Epoch 7/256\n",
      "19880/19880 [==============================] - 15s 766us/sample - loss: 0.4975 - accuracy: 0.7529 - val_loss: 0.8364 - val_accuracy: 0.6235\n",
      "Epoch 8/256\n",
      "19880/19880 [==============================] - 15s 765us/sample - loss: 0.4618 - accuracy: 0.7766 - val_loss: 1.2405 - val_accuracy: 0.5148\n",
      "Epoch 9/256\n",
      "19880/19880 [==============================] - 16s 783us/sample - loss: 0.4050 - accuracy: 0.8110 - val_loss: 0.6697 - val_accuracy: 0.6947\n",
      "Epoch 10/256\n",
      "19880/19880 [==============================] - 15s 766us/sample - loss: 0.3541 - accuracy: 0.8373 - val_loss: 0.7073 - val_accuracy: 0.6721\n",
      "Epoch 11/256\n",
      "19880/19880 [==============================] - 15s 767us/sample - loss: 0.3097 - accuracy: 0.8624 - val_loss: 1.3035 - val_accuracy: 0.7139\n",
      "Epoch 12/256\n",
      "19880/19880 [==============================] - 15s 766us/sample - loss: 0.2694 - accuracy: 0.8829 - val_loss: 0.8829 - val_accuracy: 0.6725\n",
      "Epoch 13/256\n",
      "19880/19880 [==============================] - 15s 766us/sample - loss: 0.2324 - accuracy: 0.9001 - val_loss: 1.0000 - val_accuracy: 0.7536\n",
      "Epoch 14/256\n",
      "19880/19880 [==============================] - 15s 766us/sample - loss: 0.1991 - accuracy: 0.9154 - val_loss: 0.8989 - val_accuracy: 0.7677\n",
      "Epoch 15/256\n",
      "19880/19880 [==============================] - 15s 765us/sample - loss: 0.1763 - accuracy: 0.9270 - val_loss: 1.0752 - val_accuracy: 0.7210\n",
      "Epoch 16/256\n",
      "19880/19880 [==============================] - 15s 767us/sample - loss: 0.1584 - accuracy: 0.9345 - val_loss: 1.5270 - val_accuracy: 0.7451\n",
      "Epoch 17/256\n",
      "19880/19880 [==============================] - 15s 767us/sample - loss: 0.1526 - accuracy: 0.9386 - val_loss: 2.0638 - val_accuracy: 0.6173\n",
      "Epoch 18/256\n",
      "19880/19880 [==============================] - 15s 766us/sample - loss: 0.1360 - accuracy: 0.9452 - val_loss: 6.1092 - val_accuracy: 0.5294\n",
      "Epoch 19/256\n",
      "19880/19880 [==============================] - 16s 783us/sample - loss: 0.1214 - accuracy: 0.9508 - val_loss: 0.5776 - val_accuracy: 0.8251\n",
      "Epoch 20/256\n",
      "19880/19880 [==============================] - 15s 766us/sample - loss: 0.1073 - accuracy: 0.9564 - val_loss: 0.5911 - val_accuracy: 0.8112\n",
      "Epoch 21/256\n",
      "19880/19880 [==============================] - 15s 767us/sample - loss: 0.0974 - accuracy: 0.9611 - val_loss: 0.7507 - val_accuracy: 0.8174\n",
      "Epoch 22/256\n",
      "19880/19880 [==============================] - 15s 766us/sample - loss: 0.0919 - accuracy: 0.9635 - val_loss: 1.4616 - val_accuracy: 0.7581\n",
      "Epoch 23/256\n",
      "19880/19880 [==============================] - 15s 765us/sample - loss: 0.0838 - accuracy: 0.9672 - val_loss: 0.7805 - val_accuracy: 0.8102\n",
      "Epoch 24/256\n",
      "19880/19880 [==============================] - 15s 767us/sample - loss: 0.0790 - accuracy: 0.9711 - val_loss: 0.6827 - val_accuracy: 0.8379\n",
      "Epoch 25/256\n",
      "19880/19880 [==============================] - 15s 773us/sample - loss: 0.0667 - accuracy: 0.9750 - val_loss: 0.4886 - val_accuracy: 0.8570\n",
      "Epoch 26/256\n",
      "19880/19880 [==============================] - 15s 765us/sample - loss: 0.0693 - accuracy: 0.9738 - val_loss: 0.6106 - val_accuracy: 0.8517\n",
      "Epoch 27/256\n",
      "19880/19880 [==============================] - 15s 766us/sample - loss: 0.0612 - accuracy: 0.9773 - val_loss: 0.7331 - val_accuracy: 0.8244\n",
      "Epoch 28/256\n",
      "19880/19880 [==============================] - 15s 767us/sample - loss: 0.0540 - accuracy: 0.9793 - val_loss: 0.5238 - val_accuracy: 0.8632\n",
      "Epoch 29/256\n",
      "19880/19880 [==============================] - 15s 766us/sample - loss: 0.0516 - accuracy: 0.9803 - val_loss: 0.9964 - val_accuracy: 0.7677\n",
      "Epoch 30/256\n",
      "19880/19880 [==============================] - 15s 766us/sample - loss: 0.0419 - accuracy: 0.9847 - val_loss: 1.0025 - val_accuracy: 0.8518\n",
      "Epoch 31/256\n",
      "19880/19880 [==============================] - 15s 766us/sample - loss: 0.0422 - accuracy: 0.9841 - val_loss: 2.5443 - val_accuracy: 0.6359\n",
      "Epoch 32/256\n",
      "19880/19880 [==============================] - 15s 765us/sample - loss: 0.0327 - accuracy: 0.9883 - val_loss: 0.6256 - val_accuracy: 0.8580\n",
      "Epoch 33/256\n",
      "19880/19880 [==============================] - 15s 768us/sample - loss: 0.0402 - accuracy: 0.9844 - val_loss: 1.4112 - val_accuracy: 0.8155\n",
      "Epoch 34/256\n",
      "19880/19880 [==============================] - 15s 766us/sample - loss: 0.0367 - accuracy: 0.9870 - val_loss: 2.8111 - val_accuracy: 0.6581\n",
      "Epoch 35/256\n",
      "19880/19880 [==============================] - 15s 767us/sample - loss: 0.0372 - accuracy: 0.9869 - val_loss: 0.8940 - val_accuracy: 0.8131\n",
      "Epoch 36/256\n",
      "19880/19880 [==============================] - 15s 766us/sample - loss: 0.0363 - accuracy: 0.9865 - val_loss: 1.4967 - val_accuracy: 0.7267\n",
      "Epoch 37/256\n",
      "19880/19880 [==============================] - 15s 767us/sample - loss: 0.0285 - accuracy: 0.9894 - val_loss: 0.6189 - val_accuracy: 0.8711\n",
      "Epoch 38/256\n",
      "19880/19880 [==============================] - 15s 766us/sample - loss: 0.0303 - accuracy: 0.9886 - val_loss: 2.0031 - val_accuracy: 0.7290\n",
      "Epoch 39/256\n",
      "19880/19880 [==============================] - 15s 766us/sample - loss: 0.0308 - accuracy: 0.9885 - val_loss: 0.6737 - val_accuracy: 0.8667\n",
      "Epoch 40/256\n",
      "19880/19880 [==============================] - 15s 766us/sample - loss: 0.0258 - accuracy: 0.9906 - val_loss: 2.1285 - val_accuracy: 0.6744\n",
      "Epoch 41/256\n",
      "19880/19880 [==============================] - 15s 766us/sample - loss: 0.0304 - accuracy: 0.9895 - val_loss: 1.2317 - val_accuracy: 0.8059\n",
      "Epoch 42/256\n",
      "19880/19880 [==============================] - 15s 766us/sample - loss: 0.0285 - accuracy: 0.9898 - val_loss: 2.0369 - val_accuracy: 0.7476\n",
      "Epoch 43/256\n",
      "19880/19880 [==============================] - 15s 766us/sample - loss: 0.0234 - accuracy: 0.9912 - val_loss: 0.5695 - val_accuracy: 0.8737\n",
      "Epoch 44/256\n",
      "19880/19880 [==============================] - 15s 765us/sample - loss: 0.0257 - accuracy: 0.9905 - val_loss: 0.8005 - val_accuracy: 0.8325\n",
      "Epoch 45/256\n",
      "19880/19880 [==============================] - 15s 766us/sample - loss: 0.0208 - accuracy: 0.9924 - val_loss: 0.8171 - val_accuracy: 0.8655\n",
      "Epoch 46/256\n",
      "19880/19880 [==============================] - 15s 766us/sample - loss: 0.0277 - accuracy: 0.9888 - val_loss: 0.7898 - val_accuracy: 0.8396\n",
      "Epoch 47/256\n",
      "19880/19880 [==============================] - 15s 765us/sample - loss: 0.0230 - accuracy: 0.9924 - val_loss: 1.4021 - val_accuracy: 0.8283\n",
      "Epoch 48/256\n",
      "19880/19880 [==============================] - 15s 767us/sample - loss: 0.0161 - accuracy: 0.9945 - val_loss: 1.0437 - val_accuracy: 0.8250\n",
      "Epoch 49/256\n",
      "19880/19880 [==============================] - 15s 766us/sample - loss: 0.0163 - accuracy: 0.9937 - val_loss: 0.7456 - val_accuracy: 0.8618\n",
      "Epoch 50/256\n",
      "19880/19880 [==============================] - 15s 767us/sample - loss: 0.0200 - accuracy: 0.9931 - val_loss: 0.8920 - val_accuracy: 0.8435\n",
      "Epoch 51/256\n",
      "19880/19880 [==============================] - 15s 765us/sample - loss: 0.0217 - accuracy: 0.9915 - val_loss: 1.8065 - val_accuracy: 0.7201\n",
      "Epoch 52/256\n",
      "19880/19880 [==============================] - 15s 766us/sample - loss: 0.0244 - accuracy: 0.9919 - val_loss: 1.7204 - val_accuracy: 0.7787\n",
      "Epoch 53/256\n",
      "19880/19880 [==============================] - 15s 765us/sample - loss: 0.0202 - accuracy: 0.9926 - val_loss: 1.1907 - val_accuracy: 0.8405\n",
      "Epoch 54/256\n",
      "19880/19880 [==============================] - 15s 766us/sample - loss: 0.0196 - accuracy: 0.9933 - val_loss: 1.9529 - val_accuracy: 0.8108\n",
      "Epoch 55/256\n",
      "19880/19880 [==============================] - 15s 766us/sample - loss: 0.0181 - accuracy: 0.9940 - val_loss: 0.6041 - val_accuracy: 0.8730\n"
     ]
    }
   ],
   "source": [
    "import os\n",
    "if not os.path.exists(\"../Output/CheckPoint/ユーザ特定/\"):\n",
    "    os.makedirs(\"../Output/CheckPoint/ユーザ特定/\")\n",
    "\n",
    "cp_cb = tf.keras.callbacks.ModelCheckpoint(filepath=\"../Output/CheckPoint/ユーザ特定/model0606_{epoch:02d}-{loss:.2f}-{accuracy:.2f}-{val_loss:.2f}-{val_accuracy:.2f}.hdf5\", \n",
    "                                           monitor='val_loss', verbose=0, save_best_only=True, mode='auto')\n",
    "es_cb = tf.keras.callbacks.EarlyStopping(monitor='val_loss', patience=30, verbose=0, mode='auto')\n",
    "history = model.fit([X1_train, X2_train, X3_train], Y_train, epochs=256, batch_size=512, validation_data=([X1_val, X2_val, X3_val], Y_val), callbacks=[cp_cb, es_cb])"
   ]
  },
  {
   "cell_type": "code",
   "execution_count": 21,
   "metadata": {},
   "outputs": [
    {
     "data": {
      "image/png": "[encoded data removed]",
      "text/plain": [
       "<Figure size 432x288 with 1 Axes>"
      ]
     },
     "metadata": {
      "needs_background": "light"
     },
     "output_type": "display_data"
    },
    {
     "data": {
      "image/png": "[encoded data removed]",
      "text/plain": [
       "<Figure size 432x288 with 1 Axes>"
      ]
     },
     "metadata": {
      "needs_background": "light"
     },
     "output_type": "display_data"
    }
   ],
   "source": [
    "# Plot training & validation accuracy values\n",
    "plt.plot(history.history['accuracy'])\n",
    "plt.plot(history.history['val_accuracy'])\n",
    "plt.title('Model accuracy')\n",
    "plt.ylabel('Accuracy')\n",
    "plt.xlabel('Epoch')\n",
    "plt.legend(['Train', 'Test'], loc='upper left')\n",
    "plt.show()\n",
    "\n",
    "# Plot training & validation loss values\n",
    "plt.plot(history.history['loss'])\n",
    "plt.plot(history.history['val_loss'])\n",
    "plt.title('Model loss')\n",
    "plt.ylabel('Loss')\n",
    "plt.xlabel('Epoch')\n",
    "plt.legend(['Train', 'Test'], loc='upper left')\n",
    "# plt.ylim((0, 3.5))\n",
    "plt.show()"
   ]
  },
  {
   "cell_type": "code",
   "execution_count": 7,
   "metadata": {},
   "outputs": [],
   "source": [
    "model = tf.keras.models.load_model(\"../Output/CheckPoint/ユーザ特定/model0606_25-0.07-0.98-0.49-0.86.hdf5\")"
   ]
  },
  {
   "cell_type": "code",
   "execution_count": 24,
   "metadata": {},
   "outputs": [
    {
     "name": "stdout",
     "output_type": "stream",
     "text": [
      "(8589,)\n"
     ]
    },
    {
     "data": {
      "text/plain": [
       "0.857"
      ]
     },
     "execution_count": 24,
     "metadata": {},
     "output_type": "execute_result"
    },
    {
     "data": {
      "image/png": "[encoded data removed]",
      "text/plain": [
       "<Figure size 576x288 with 2 Axes>"
      ]
     },
     "metadata": {
      "needs_background": "light"
     },
     "output_type": "display_data"
    }
   ],
   "source": [
    "class_names = [\"user2\", \"user3\"]\n",
    "predict = np.argmax(model.predict([X1_val, X2_val, X3_val]), axis=1)\n",
    "print(predict.shape)\n",
    "plot_confusion_matrix(Y_val, predict, class_names, False, (8, 4))\n",
    "plt.grid(False)\n",
    "f1_macro = f1_score(Y_val, predict, average='macro')\n",
    "round(f1_macro, 3)"
   ]
  },
  {
   "cell_type": "markdown",
   "metadata": {},
   "source": [
    "# テストデータ読み込んで、ユーザ推定してみる"
   ]
  },
  {
   "cell_type": "code",
   "execution_count": 29,
   "metadata": {},
   "outputs": [
    {
     "data": {
      "text/plain": [
       "(57573, 128, 25, 1)"
      ]
     },
     "execution_count": 29,
     "metadata": {},
     "output_type": "execute_result"
    }
   ],
   "source": [
    "X1_test = np.load(\"../Output/test/test_glo_lacc_norm_spectram_axis1.npy\").reshape([-1, 128, 25, 1])\n",
    "X1_test.shape"
   ]
  },
  {
   "cell_type": "code",
   "execution_count": 30,
   "metadata": {},
   "outputs": [
    {
     "data": {
      "text/plain": [
       "(57573, 128, 25, 1)"
      ]
     },
     "execution_count": 30,
     "metadata": {},
     "output_type": "execute_result"
    }
   ],
   "source": [
    "X2_test = np.load(\"../Output/test/test_glo_gyr_norm_spectram_axis1.npy\").reshape([-1, 128, 25, 1])\n",
    "X2_test.shape"
   ]
  },
  {
   "cell_type": "code",
   "execution_count": 31,
   "metadata": {},
   "outputs": [
    {
     "data": {
      "text/plain": [
       "(57573, 128, 25, 1)"
      ]
     },
     "execution_count": 31,
     "metadata": {},
     "output_type": "execute_result"
    }
   ],
   "source": [
    "X3_test = np.load(\"../Output/test/test_glo_mag_norm_spectram_axis1.npy\").reshape([-1, 128, 25, 1])\n",
    "X3_test.shape"
   ]
  },
  {
   "cell_type": "code",
   "execution_count": 32,
   "metadata": {},
   "outputs": [
    {
     "data": {
      "text/plain": [
       "(57573,)"
      ]
     },
     "execution_count": 32,
     "metadata": {},
     "output_type": "execute_result"
    }
   ],
   "source": [
    "predict = np.argmax(model.predict([X1_test, X2_test, X3_test]), axis=1)\n",
    "predict.shape"
   ]
  },
  {
   "cell_type": "code",
   "execution_count": 34,
   "metadata": {},
   "outputs": [
    {
     "name": "stdout",
     "output_type": "stream",
     "text": [
      "ユーザー2 29223\n",
      "ユーザー3 28350\n"
     ]
    }
   ],
   "source": [
    "for i in range(2):\n",
    "    print(\"ユーザー\" + str(i+2), np.sum(predict == i))"
   ]
  },
  {
   "cell_type": "code",
   "execution_count": 36,
   "metadata": {},
   "outputs": [
    {
     "data": {
      "text/plain": [
       "array([2, 2, 3, ..., 2, 2, 2], dtype=int64)"
      ]
     },
     "execution_count": 36,
     "metadata": {},
     "output_type": "execute_result"
    }
   ],
   "source": [
    "predict = predict + 2\n",
    "predict"
   ]
  },
  {
   "cell_type": "code",
   "execution_count": 37,
   "metadata": {},
   "outputs": [
    {
     "data": {
      "text/plain": [
       "(57573, 1)"
      ]
     },
     "execution_count": 37,
     "metadata": {},
     "output_type": "execute_result"
    }
   ],
   "source": [
    "predict = predict.reshape([-1, 1])\n",
    "predict.shape"
   ]
  },
  {
   "cell_type": "code",
   "execution_count": 38,
   "metadata": {},
   "outputs": [
    {
     "data": {
      "text/plain": [
       "array([[2],\n",
       "       [2],\n",
       "       [3],\n",
       "       ...,\n",
       "       [2],\n",
       "       [2],\n",
       "       [2]], dtype=int64)"
      ]
     },
     "execution_count": 38,
     "metadata": {},
     "output_type": "execute_result"
    }
   ],
   "source": [
    "predict"
   ]
  },
  {
   "cell_type": "code",
   "execution_count": 39,
   "metadata": {},
   "outputs": [],
   "source": [
    "np.save(\"test_user\", predict)"
   ]
  },
  {
   "cell_type": "markdown",
   "metadata": {},
   "source": [
    "# Validationデータに対する推定結果を出力する"
   ]
  },
  {
   "cell_type": "code",
   "execution_count": 3,
   "metadata": {},
   "outputs": [],
   "source": [
    "X1 = np.load(\"../Output/validation/validation_Hips/validation_Hips_glo_lacc_norm_spectram_axis1.npy\").reshape([-1, 128, 25, 1])\n",
    "X2 = np.load(\"../Output/validation/validation_Hips/validation_Hips_glo_gyr_norm_spectram_axis1.npy\").reshape([-1, 128, 25, 1])\n",
    "X3 = np.load(\"../Output/validation/validation_Hips/validation_Hips_glo_mag_norm_spectram_axis1.npy\").reshape([-1, 128, 25, 1])"
   ]
  },
  {
   "cell_type": "code",
   "execution_count": 4,
   "metadata": {},
   "outputs": [],
   "source": [
    "val_label = np.load(\"../Data/センサ別npyファイル/validation/validation_Bag/validation_Bag_Label.npy\")[:, 0].reshape([-1])"
   ]
  },
  {
   "cell_type": "code",
   "execution_count": 5,
   "metadata": {},
   "outputs": [
    {
     "data": {
      "text/plain": [
       "(28685,)"
      ]
     },
     "execution_count": 5,
     "metadata": {},
     "output_type": "execute_result"
    }
   ],
   "source": [
    "user_label = [0] * 14813 + [1] * 13872\n",
    "user_label = np.array(user_label)\n",
    "user_label.shape"
   ]
  },
  {
   "cell_type": "code",
   "execution_count": 8,
   "metadata": {},
   "outputs": [
    {
     "data": {
      "text/plain": [
       "(28685,)"
      ]
     },
     "execution_count": 8,
     "metadata": {},
     "output_type": "execute_result"
    }
   ],
   "source": [
    "predict = np.argmax(model.predict([X1.reshape([-1, X1.shape[1], X1.shape[2], 1]), X2.reshape([-1, X2.shape[1], X2.shape[2], 1]), X3.reshape([-1, X3.shape[1], X3.shape[2], 1])]), axis=1)\n",
    "predict.shape"
   ]
  },
  {
   "cell_type": "code",
   "execution_count": 9,
   "metadata": {},
   "outputs": [
    {
     "data": {
      "text/plain": [
       "0.934"
      ]
     },
     "execution_count": 9,
     "metadata": {},
     "output_type": "execute_result"
    },
    {
     "data": {
      "image/png": "[encoded data removed]",
      "text/plain": [
       "<Figure size 576x288 with 2 Axes>"
      ]
     },
     "metadata": {
      "needs_background": "light"
     },
     "output_type": "display_data"
    }
   ],
   "source": [
    "class_names = [\"user2\", \"user3\"]\n",
    "# predict = np.argmax(model.predict([X1_val, X2_val, X3_val]), axis=1)\n",
    "# print(predict.shape)\n",
    "plot_confusion_matrix(user_label, predict, class_names, False, (8, 4))\n",
    "plt.grid(False)\n",
    "f1_macro = f1_score(user_label, predict, average='macro')\n",
    "round(f1_macro, 3)"
   ]
  },
  {
   "cell_type": "code",
   "execution_count": 17,
   "metadata": {},
   "outputs": [
    {
     "data": {
      "text/plain": [
       "0.888"
      ]
     },
     "execution_count": 17,
     "metadata": {},
     "output_type": "execute_result"
    },
    {
     "data": {
      "image/png": "[encoded data removed]",
      "text/plain": [
       "<Figure size 576x288 with 2 Axes>"
      ]
     },
     "metadata": {
      "needs_background": "light"
     },
     "output_type": "display_data"
    }
   ],
   "source": [
    "class_names = [\"user2\", \"user3\"]\n",
    "# predict = np.argmax(model.predict([X1_val, X2_val, X3_val]), axis=1)\n",
    "# print(predict.shape)\n",
    "plot_confusion_matrix(user_label[val_label == 5], predict[val_label == 5], class_names, False, (8, 4))\n",
    "plt.grid(False)\n",
    "f1_macro = f1_score(user_label[val_label == 1], predict[val_label == 1], average='macro')\n",
    "round(f1_macro, 3)"
   ]
  },
  {
   "cell_type": "code",
   "execution_count": 19,
   "metadata": {},
   "outputs": [
    {
     "data": {
      "text/plain": [
       "(28685, 1)"
      ]
     },
     "execution_count": 19,
     "metadata": {},
     "output_type": "execute_result"
    }
   ],
   "source": [
    "predict = predict.reshape([-1, 1])\n",
    "predict.shape"
   ]
  },
  {
   "cell_type": "code",
   "execution_count": 20,
   "metadata": {},
   "outputs": [],
   "source": [
    "np.save(\"validation_user\", predict)"
   ]
  },
  {
   "cell_type": "code",
   "execution_count": null,
   "metadata": {},
   "outputs": [],
   "source": []
  }
 ],
 "metadata": {
  "kernelspec": {
   "display_name": "Python 3",
   "language": "python",
   "name": "python3"
  },
  "language_info": {
   "codemirror_mode": {
    "name": "ipython",
    "version": 3
   },
   "file_extension": ".py",
   "mimetype": "text/x-python",
   "name": "python",
   "nbconvert_exporter": "python",
   "pygments_lexer": "ipython3",
   "version": "3.7.6"
  }
 },
 "nbformat": 4,
 "nbformat_minor": 4
}

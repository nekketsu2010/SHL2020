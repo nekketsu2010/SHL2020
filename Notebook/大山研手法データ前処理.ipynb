{
 "cells": [
  {
   "cell_type": "code",
   "execution_count": null,
   "metadata": {},
   "outputs": [],
   "source": [
    "import numpy as np\n",
    "from scipy import stats\n",
    "\n",
    "import seaborn as sns\n",
    "sns.set(font='Yu Gothic')\n",
    "import matplotlib.pyplot as plt\n",
    "%matplotlib inline\n",
    "\n",
    "from IPython.core.display import display, HTML\n",
    "display(HTML(\"<style>.container { width:90% !important; }</style>\"))"
   ]
  },
  {
   "cell_type": "code",
   "execution_count": null,
   "metadata": {},
   "outputs": [],
   "source": [
    "def load_numpy(hold_position):\n",
    "    x = np.load(\"../Data/センサ別npyファイル/train/train_\" + hold_position + \"/train_\" + hold_position + \"_Glo_Acc.npy\")[:, :, 2]\n",
    "    return x"
   ]
  },
  {
   "cell_type": "code",
   "execution_count": null,
   "metadata": {},
   "outputs": [],
   "source": [
    "Hips = load_numpy(\"Hips\")\n",
    "\n",
    "np.where(np.isnan(Hips))"
   ]
  },
  {
   "cell_type": "code",
   "execution_count": null,
   "metadata": {},
   "outputs": [],
   "source": [
    "Bag = load_numpy(\"Bag\")\n",
    "HIps = load_numpy(\"Hips\")\n",
    "Torso = load_numpy(\"Torso\")\n",
    "Hand = load_numpy(\"Hand\")\n",
    "\n",
    "Bag.shape"
   ]
  },
  {
   "cell_type": "code",
   "execution_count": null,
   "metadata": {},
   "outputs": [],
   "source": [
    "test = np.load(\"../Data/センサ別npyファイル/test/test_Glo_Acc.npy\")[:, :, 2]"
   ]
  },
  {
   "cell_type": "code",
   "execution_count": null,
   "metadata": {},
   "outputs": [],
   "source": [
    "def get_skew(x):\n",
    "    x_kurtosis = stats.kurtosis(x, axis=1)\n",
    "    x_skew = stats.skew(x, axis=1)\n",
    "    result = np.concatenate([x_kurtosis.reshape([-1, 1]), x_skew.reshape([-1, 1])], axis=1)\n",
    "    del x_kurtosis, x_skew\n",
    "    return result"
   ]
  },
  {
   "cell_type": "code",
   "execution_count": null,
   "metadata": {},
   "outputs": [],
   "source": [
    "test_skew = get_skew(test)\n",
    "test.shape"
   ]
  },
  {
   "cell_type": "code",
   "execution_count": null,
   "metadata": {},
   "outputs": [],
   "source": [
    "np.save(\"../Output/test/test_glo_accel_z_skew_kurtosis\", test)"
   ]
  },
  {
   "cell_type": "code",
   "execution_count": null,
   "metadata": {},
   "outputs": [],
   "source": [
    "Bag_skew = get_skew(Bag)\n",
    "Hips_skew = get_skew(HIps)\n",
    "Torso_skew = get_skew(Torso)\n",
    "Hand_skew = get_skew(Hand)\n",
    "\n",
    "Bag_skew.shape"
   ]
  },
  {
   "cell_type": "code",
   "execution_count": null,
   "metadata": {},
   "outputs": [],
   "source": [
    "np.save(\"train_Bag_glo_accel_z_skew_kurtosis\", Bag_skew)\n",
    "np.save(\"train_Hips_glo_accel_z_skew_kurtosis\", Hips_skew)\n",
    "np.save(\"train_Torso_glo_accel_z_skew_kurtosis\", Torso_skew)\n",
    "np.save(\"train_Hand_glo_accel_z_skew_kurtosis\", Hand_skew)"
   ]
  },
  {
   "cell_type": "code",
   "execution_count": null,
   "metadata": {},
   "outputs": [],
   "source": [
    "def fft(x):\n",
    "    for i in range(x.shape[0]):\n",
    "        x[i] = x[i] - np.mean(x[i])\n",
    "    x = np.abs(np.fft.fft(x, axis=1))\n",
    "    max_amplitude = np.amax(x, axis=1)\n",
    "    max_index = np.argmax(x, axis=1)\n",
    "    max_frequency = max_index * 0.2\n",
    "    result = np.concatenate([max_amplitude.reshape([-1, 1]), max_frequency.reshape([-1, 1])], axis=1)\n",
    "    return result"
   ]
  },
  {
   "cell_type": "code",
   "execution_count": null,
   "metadata": {},
   "outputs": [],
   "source": [
    "test_FFT = fft(test)\n",
    "test_FFT.shape"
   ]
  },
  {
   "cell_type": "code",
   "execution_count": null,
   "metadata": {},
   "outputs": [],
   "source": [
    "np.save(\"../Output/test/test_glo_accel_z_amplitude_frequency\", test_FFT)"
   ]
  },
  {
   "cell_type": "code",
   "execution_count": null,
   "metadata": {},
   "outputs": [],
   "source": [
    "Bag_FFT = fft(Bag)\n",
    "\n",
    "Bag_FFT"
   ]
  },
  {
   "cell_type": "code",
   "execution_count": null,
   "metadata": {},
   "outputs": [],
   "source": [
    "Bag_FFT[:, 1] != 0"
   ]
  },
  {
   "cell_type": "code",
   "execution_count": null,
   "metadata": {},
   "outputs": [],
   "source": [
    "Bag_FFT.shape"
   ]
  },
  {
   "cell_type": "code",
   "execution_count": null,
   "metadata": {},
   "outputs": [],
   "source": [
    "plt.plot(Bag_FFT[0:250, 1])\n",
    "plt.xlim(0, 250)\n",
    "# plt.ylim(0, 100)"
   ]
  },
  {
   "cell_type": "code",
   "execution_count": null,
   "metadata": {},
   "outputs": [],
   "source": [
    "Hips_FFT = fft(HIps)\n",
    "Torso_FFT = fft(Torso)\n",
    "Hand_FFT = fft(Hand)\n",
    "\n",
    "Hand_FFT.shape"
   ]
  },
  {
   "cell_type": "code",
   "execution_count": null,
   "metadata": {},
   "outputs": [],
   "source": [
    "np.save(\"train_Bag_glo_accel_z_amplitude_frequency\", Bag_FFT)\n",
    "np.save(\"train_Hips_glo_accel_z_amplitude_frequency\", Hips_FFT)\n",
    "np.save(\"train_Torso_glo_accel_z_amplitude_frequency\", Torso_FFT)\n",
    "np.save(\"train_Hand_glo_accel_z_amplitude_frequency\", Hand_FFT)"
   ]
  },
  {
   "cell_type": "code",
   "execution_count": null,
   "metadata": {},
   "outputs": [],
   "source": [
    "%reset"
   ]
  },
  {
   "cell_type": "markdown",
   "metadata": {},
   "source": [
    "# ここからvalidationデータの前処理"
   ]
  },
  {
   "cell_type": "code",
   "execution_count": 1,
   "metadata": {},
   "outputs": [
    {
     "data": {
      "text/html": [
       "<style>.container { width:90% !important; }</style>"
      ],
      "text/plain": [
       "<IPython.core.display.HTML object>"
      ]
     },
     "metadata": {},
     "output_type": "display_data"
    }
   ],
   "source": [
    "import numpy as np\n",
    "from scipy import stats\n",
    "\n",
    "import seaborn as sns\n",
    "sns.set(font='Yu Gothic')\n",
    "import matplotlib.pyplot as plt\n",
    "%matplotlib inline\n",
    "\n",
    "import pickle\n",
    "\n",
    "from IPython.core.display import display, HTML\n",
    "display(HTML(\"<style>.container { width:90% !important; }</style>\"))"
   ]
  },
  {
   "cell_type": "code",
   "execution_count": null,
   "metadata": {},
   "outputs": [],
   "source": [
    "Bag = pickle.load(open(\"validation_Bag.binaryfile\", 'rb'))\n",
    "Hips = pickle.load(open(\"validation_Hips.binaryfile\", 'rb'))\n",
    "Torso = pickle.load(open(\"validation_Torso.binaryfile\", 'rb'))\n",
    "Hand = pickle.load(open(\"validation_Hand.binaryfile\", 'rb'))\n",
    "\n",
    "Bag.shape"
   ]
  },
  {
   "cell_type": "code",
   "execution_count": null,
   "metadata": {},
   "outputs": [],
   "source": [
    "def get_skew(x):\n",
    "    x_kurtosis = stats.kurtosis(x[:, :, 6], axis=1)\n",
    "    x_skew = stats.skew(x[:, :, 6], axis=1)\n",
    "    result = np.concatenate([x_kurtosis.reshape([-1, 1]), x_skew.reshape([-1, 1])], axis=1)\n",
    "    del x_kurtosis, x_skew\n",
    "    return result"
   ]
  },
  {
   "cell_type": "code",
   "execution_count": null,
   "metadata": {},
   "outputs": [],
   "source": [
    "Bag_skew = get_skew(Bag)\n",
    "Hips_skew = get_skew(Hips)\n",
    "Torso_skew = get_skew(Torso)\n",
    "Hand_skew = get_skew(Hand)\n",
    "\n",
    "Bag_skew.shape"
   ]
  },
  {
   "cell_type": "code",
   "execution_count": null,
   "metadata": {},
   "outputs": [],
   "source": [
    "np.save(\"validation_Bag_glo_accel_z_skew_kurtosis\", Bag_skew)\n",
    "np.save(\"validation_Hips_glo_accel_z_skew_kurtosis\", Hips_skew)\n",
    "np.save(\"validation_Torso_glo_accel_z_skew_kurtosis\", Torso_skew)\n",
    "np.save(\"validation_Hand_glo_accel_z_skew_kurtosis\", Hand_skew)"
   ]
  },
  {
   "cell_type": "code",
   "execution_count": null,
   "metadata": {},
   "outputs": [],
   "source": [
    "def fft(x):\n",
    "    for i in range(x.shape[0]):\n",
    "        x[i, :, 6] = x[i, :, 6] - np.mean(x[i, :, 6], axis=0)\n",
    "    x[:, :, 6] = np.abs(np.fft.fft(x[:, :, 6], axis=1))\n",
    "    max_amplitude = np.amax(x[:, :, 6], axis=1)\n",
    "    max_index = np.argmax(x[:, :, 6], axis=1)\n",
    "    max_frequency = max_index * 0.2\n",
    "    result = np.concatenate([max_amplitude.reshape([-1, 1]), max_frequency.reshape([-1, 1])], axis=1)\n",
    "    return result"
   ]
  },
  {
   "cell_type": "code",
   "execution_count": null,
   "metadata": {},
   "outputs": [],
   "source": [
    "Bag_FFT = fft(Bag)\n",
    "Hips_FFT = fft(Hips)\n",
    "Torso_FFT = fft(Torso)\n",
    "Hand_FFT = fft(Hand)\n",
    "\n",
    "Hand_FFT.shape"
   ]
  },
  {
   "cell_type": "code",
   "execution_count": null,
   "metadata": {},
   "outputs": [],
   "source": [
    "np.save(\"validation_Bag_glo_accel_z_amplitude_frequency\", Bag_FFT)\n",
    "np.save(\"validation_Hips_glo_accel_z_amplitude_frequency\", Hips_FFT)\n",
    "np.save(\"validation_Torso_glo_accel_z_amplitude_frequency\", Torso_FFT)\n",
    "np.save(\"validation_Hand_glo_accel_z_amplitude_frequency\", Hand_FFT)"
   ]
  },
  {
   "cell_type": "code",
   "execution_count": null,
   "metadata": {},
   "outputs": [],
   "source": [
    "def val_Preprocess(x):\n",
    "    x_xy = np.sqrt(np.square(x[:, :, 4].copy()) + np.square(x[:, :, 5].copy()))\n",
    "    x_xy_mean = np.mean(x_xy.copy(), axis=1)\n",
    "    x_xy_var = np.var(x_xy.copy(), axis=1)\n",
    "    x_z_mean = np.mean(x[:, :, 6].copy(), axis=1)\n",
    "    x_z_var = np.var(x[:, :, 6].copy(), axis=1)\n",
    "    x_pressure_change = x[:, -1, -1] - x[:, 0, -1]\n",
    "    result = np.vstack([x_xy_mean, x_xy_var, x_z_mean, x_z_var, x_pressure_change]).T\n",
    "    return result"
   ]
  },
  {
   "cell_type": "code",
   "execution_count": null,
   "metadata": {},
   "outputs": [],
   "source": [
    "test = pickle.load(open(\"../Output/test/test.binaryfile\", 'rb'))\n",
    "test.shape"
   ]
  },
  {
   "cell_type": "code",
   "execution_count": null,
   "metadata": {},
   "outputs": [],
   "source": [
    "test_preprocess = val_Preprocess(test)\n",
    "test_preprocess.shape"
   ]
  },
  {
   "cell_type": "code",
   "execution_count": null,
   "metadata": {},
   "outputs": [],
   "source": [
    "np.save(\"../Output/test/test_glo_accel_xy_mean\", test_preprocess[:, 0])\n",
    "np.save(\"../Output/test/test_glo_accel_xy_var\", test_preprocess[:, 1])\n",
    "np.save(\"../Output/test/test_glo_accel_z_mean\", test_preprocess[:, 2])\n",
    "np.save(\"../Output/test/test_glo_accel_z_var\", test_preprocess[:, 3])\n",
    "np.save(\"../Output/test/test_pressure_change\", test_preprocess[:, 4])"
   ]
  },
  {
   "cell_type": "code",
   "execution_count": null,
   "metadata": {},
   "outputs": [],
   "source": [
    "Bag_preprocess = val_Preprocess(Bag)\n",
    "Hips_preprocess = val_Preprocess(Hips)\n",
    "Torso_preprocess = val_Preprocess(Torso)\n",
    "Hand_preprocess = val_Preprocess(Hand)\n",
    "\n",
    "Bag_preprocess.shape"
   ]
  },
  {
   "cell_type": "code",
   "execution_count": null,
   "metadata": {},
   "outputs": [],
   "source": [
    "def save_npy(x, hold_position):\n",
    "    np.save(\"validation_\" + hold_position + \"_glo_accel_xy_mean\", x[:, 0])\n",
    "    np.save(\"validation_\" + hold_position + \"_glo_accel_xy_var\", x[:, 1])\n",
    "    np.save(\"validation_\" + hold_position + \"_glo_accel_z_mean\", x[:, 2])\n",
    "    np.save(\"validation_\" + hold_position + \"_glo_accel_z_var\", x[:, 3])\n",
    "    np.save(\"validation_\" + hold_position + \"pressure_change\", x[:, 4])"
   ]
  },
  {
   "cell_type": "code",
   "execution_count": null,
   "metadata": {},
   "outputs": [],
   "source": [
    "save_npy(Bag_preprocess, \"Bag\")\n",
    "save_npy(Hips_preprocess, \"Hips\")\n",
    "save_npy(Torso_preprocess, \"Torso\")\n",
    "save_npy(Hand_preprocess, \"Hand\")"
   ]
  },
  {
   "cell_type": "markdown",
   "metadata": {},
   "source": [
    "## trainデータのGlo_LAccの変形"
   ]
  },
  {
   "cell_type": "code",
   "execution_count": 2,
   "metadata": {},
   "outputs": [],
   "source": [
    "def load_numpy(hold_position):\n",
    "    x = np.load(\"../Data/センサ別npyファイル/train/train_\" + hold_position + \"/train_\" + hold_position + \"_LAcc.npy\")\n",
    "    return x"
   ]
  },
  {
   "cell_type": "code",
   "execution_count": 3,
   "metadata": {},
   "outputs": [
    {
     "data": {
      "text/plain": [
       "(195491, 500, 3)"
      ]
     },
     "execution_count": 3,
     "metadata": {},
     "output_type": "execute_result"
    }
   ],
   "source": [
    "Bag = load_numpy(\"Bag\")\n",
    "HIps = load_numpy(\"Hips\")\n",
    "Torso = load_numpy(\"Torso\")\n",
    "Hand = load_numpy(\"Hand\")\n",
    "\n",
    "Bag.shape"
   ]
  },
  {
   "cell_type": "code",
   "execution_count": 4,
   "metadata": {},
   "outputs": [],
   "source": [
    "def lacc_convert(x):\n",
    "    x_xy = np.sqrt(np.square(x[:, :, 0]) + np.square(x[:, :, 1]))\n",
    "    x_xy_mean = np.mean(x_xy, axis=1)\n",
    "    x_xy_var = np.var(x_xy, axis=1)\n",
    "    x_z_mean = np.mean(x[:, :, 2], axis=1)\n",
    "    x_z_abs_mean = np.mean(np.abs(x[:, :, 2]), axis=1)\n",
    "    x_z_var = np.var(x[:, :, 2], axis=1)\n",
    "    x_z_kurtosis = stats.kurtosis(x[:, :, 2], axis=1)\n",
    "    x_z_skew = stats.skew(x[:, :, 2], axis=1)\n",
    "    result = np.concatenate([x_xy_mean.reshape(-1, 1), x_xy_var.reshape([-1, 1]), x_z_mean.reshape([-1, 1]), x_z_abs_mean.reshape([-1, 1]), x_z_var.reshape([-1, 1]), x_z_skew.reshape([-1, 1]), x_z_kurtosis.reshape([-1, 1])], axis=1)\n",
    "    del x_xy, x_xy_mean, x_xy_var, x_z_mean, x_z_abs_mean, x_z_var\n",
    "    return result"
   ]
  },
  {
   "cell_type": "code",
   "execution_count": 5,
   "metadata": {},
   "outputs": [
    {
     "data": {
      "text/plain": [
       "(195491, 7)"
      ]
     },
     "execution_count": 5,
     "metadata": {},
     "output_type": "execute_result"
    }
   ],
   "source": [
    "Bag_lacc = lacc_convert(Bag)\n",
    "Hips_lacc = lacc_convert(HIps)\n",
    "Torso_lacc = lacc_convert(Torso)\n",
    "Hand_lacc = lacc_convert(Hand)\n",
    "\n",
    "Hand_lacc.shape"
   ]
  },
  {
   "cell_type": "code",
   "execution_count": 6,
   "metadata": {},
   "outputs": [],
   "source": [
    "def save_npy(x, hold_position):\n",
    "    np.save(\"train_\" + hold_position + \"_laccel_xy_mean\", x[:, 0])\n",
    "    np.save(\"train_\" + hold_position + \"_laccel_xy_var\", x[:, 1])\n",
    "    np.save(\"train_\" + hold_position + \"_laccel_z_mean\", x[:, 2])\n",
    "    np.save(\"train_\" + hold_position + \"_laccel_z_abs_mean\", x[:, 3])\n",
    "    np.save(\"train_\" + hold_position + \"_laccel_z_var\", x[:, 4])\n",
    "    np.save(\"train_\" + hold_position + \"_laccel_z_skew\", x[:, 5])\n",
    "    np.save(\"train_\" + hold_position + \"_laccel_z_kurtosis\", x[:, 6])"
   ]
  },
  {
   "cell_type": "code",
   "execution_count": 7,
   "metadata": {},
   "outputs": [],
   "source": [
    "save_npy(Bag_lacc, \"Bag\")\n",
    "save_npy(Hips_lacc, \"Hips\")\n",
    "save_npy(Torso_lacc, \"Torso\")\n",
    "save_npy(Hand_lacc, \"Hand\")"
   ]
  },
  {
   "cell_type": "code",
   "execution_count": 8,
   "metadata": {},
   "outputs": [],
   "source": [
    "def fft(x):\n",
    "    for i in range(x.shape[0]):\n",
    "        x[i] = x[i] - np.mean(x[i])\n",
    "    x = np.abs(np.fft.fft(x, axis=1))\n",
    "    max_amplitude = np.amax(x, axis=1)\n",
    "    max_index = np.argmax(x, axis=1)\n",
    "    max_frequency = max_index * 0.2\n",
    "    result = np.concatenate([max_amplitude.reshape([-1, 1]), max_frequency.reshape([-1, 1])], axis=1)\n",
    "    return result"
   ]
  },
  {
   "cell_type": "code",
   "execution_count": 9,
   "metadata": {},
   "outputs": [
    {
     "data": {
      "text/plain": [
       "(195491, 2)"
      ]
     },
     "execution_count": 9,
     "metadata": {},
     "output_type": "execute_result"
    }
   ],
   "source": [
    "Bag_FFT = fft(Bag[:, :, 2])\n",
    "Hips_FFT = fft(HIps[:, :, 2])\n",
    "Torso_FFT = fft(Torso[:, :, 2])\n",
    "Hand_FFT = fft(Hand[:, :, 2])\n",
    "\n",
    "Hand_FFT.shape"
   ]
  },
  {
   "cell_type": "code",
   "execution_count": 10,
   "metadata": {},
   "outputs": [],
   "source": [
    "np.save(\"train_Bag_glo_z_amplitude_frequency\", Bag_FFT)\n",
    "np.save(\"train_Hips_glo_z_amplitude_frequency\", Hips_FFT)\n",
    "np.save(\"train_Torso_glo_z_amplitude_frequency\", Torso_FFT)\n",
    "np.save(\"train_Hand_glo_z_amplitude_frequency\", Hand_FFT)"
   ]
  },
  {
   "cell_type": "markdown",
   "metadata": {},
   "source": [
    "# Validationもセンサ別にnpyにしておくよ"
   ]
  },
  {
   "cell_type": "code",
   "execution_count": 11,
   "metadata": {},
   "outputs": [
    {
     "data": {
      "text/html": [
       "<style>.container { width:90% !important; }</style>"
      ],
      "text/plain": [
       "<IPython.core.display.HTML object>"
      ]
     },
     "metadata": {},
     "output_type": "display_data"
    }
   ],
   "source": [
    "import numpy as np\n",
    "from scipy import stats\n",
    "\n",
    "import seaborn as sns\n",
    "sns.set(font='Yu Gothic')\n",
    "import matplotlib.pyplot as plt\n",
    "%matplotlib inline\n",
    "\n",
    "import pickle\n",
    "\n",
    "from IPython.core.display import display, HTML\n",
    "display(HTML(\"<style>.container { width:90% !important; }</style>\"))"
   ]
  },
  {
   "cell_type": "code",
   "execution_count": 14,
   "metadata": {},
   "outputs": [],
   "source": [
    "def load_npy(hold_position):\n",
    "    x = pickle.load(open(\"../Output/validation/validation_\" + hold_position + \"/validation_\" + hold_position + \".binaryfile\", 'rb'))\n",
    "    return x"
   ]
  },
  {
   "cell_type": "code",
   "execution_count": 15,
   "metadata": {},
   "outputs": [
    {
     "data": {
      "text/plain": [
       "(28685, 500, 24)"
      ]
     },
     "execution_count": 15,
     "metadata": {},
     "output_type": "execute_result"
    }
   ],
   "source": [
    "Bag = load_npy(\"Bag\")\n",
    "Hips = load_npy(\"Hips\")\n",
    "Torso = load_npy(\"Torso\")\n",
    "Hand = load_npy(\"Hand\")\n",
    "\n",
    "\n",
    "Hand.shape"
   ]
  },
  {
   "cell_type": "code",
   "execution_count": null,
   "metadata": {},
   "outputs": [],
   "source": [
    "import os\n",
    "def save_npy(x, hold_position):\n",
    "    path = \"../Data/センサ別npyファイル/validation/validation_\" + hold_position + \"/\"\n",
    "    if not os.path.exists(path):\n",
    "        os.makedirs(path)\n",
    "    np.save(path + \"validation_\" + hold_position + \"_Label\", x[:, :, 0])\n",
    "    np.save(path + \"validation_\" + hold_position + \"_Acc\", x[:, :, 1:4])\n",
    "    np.save(path + \"validation_\" + hold_position + \"_Glo_Acc\", x[:, :, 4:7])\n",
    "    np.save(path + \"validation_\" + hold_position + \"_Gra\", x[:, :, 7:10])\n",
    "    np.save(path + \"validation_\" + hold_position + \"_Gyr\", x[:, :, 10:13])\n",
    "    np.save(path + \"validation_\" + hold_position + \"_LAcc\", x[:, :, 13:16])\n",
    "    np.save(path + \"validation_\" + hold_position + \"_Mag\", x[:, :, 16:19])\n",
    "    np.save(path + \"validation_\" + hold_position + \"_Ori\", x[:, :, 19:23])\n",
    "    np.save(path + \"validation_\" + hold_position + \"_Pressure\", x[:, :, 23])"
   ]
  },
  {
   "cell_type": "code",
   "execution_count": null,
   "metadata": {},
   "outputs": [],
   "source": [
    "save_npy(Bag, \"Bag\")\n",
    "save_npy(Hips, \"Hips\")\n",
    "save_npy(Torso, \"Torso\")\n",
    "save_npy(Hand, \"Hand\")"
   ]
  },
  {
   "cell_type": "markdown",
   "metadata": {},
   "source": [
    "# 続けてtestデータも"
   ]
  },
  {
   "cell_type": "code",
   "execution_count": null,
   "metadata": {},
   "outputs": [],
   "source": [
    "test = pickle.load(open(\"test.binaryfile\", 'rb'))\n",
    "test.shape"
   ]
  },
  {
   "cell_type": "code",
   "execution_count": null,
   "metadata": {},
   "outputs": [],
   "source": [
    "import os\n",
    "def save_npy(x):\n",
    "    path = \"../Data/センサ別npyファイル/test/\"\n",
    "    if not os.path.exists(path):\n",
    "        os.makedirs(path)\n",
    "    np.save(path + \"test_Acc\", x[:, :, 0:3])\n",
    "    np.save(path + \"test_Glo_Acc\", x[:, :, 3:6])\n",
    "    np.save(path + \"test_Gra\", x[:, :, 6:9])\n",
    "    np.save(path + \"test_Gyr\", x[:, :, 9:12])\n",
    "    np.save(path + \"test_LAcc\", x[:, :, 12:15])\n",
    "    np.save(path + \"test_Mag\", x[:, :, 15:18])\n",
    "    np.save(path + \"test_Ori\", x[:, :, 18:22])\n",
    "    np.save(path + \"test_Pressure\", x[:, :, 22])"
   ]
  },
  {
   "cell_type": "code",
   "execution_count": null,
   "metadata": {},
   "outputs": [],
   "source": [
    "save_npy(test)"
   ]
  },
  {
   "cell_type": "markdown",
   "metadata": {},
   "source": [
    "# Validationデータの世界座標系線形加速度の変換"
   ]
  },
  {
   "cell_type": "code",
   "execution_count": 1,
   "metadata": {},
   "outputs": [
    {
     "data": {
      "text/html": [
       "<style>.container { width:90% !important; }</style>"
      ],
      "text/plain": [
       "<IPython.core.display.HTML object>"
      ]
     },
     "metadata": {},
     "output_type": "display_data"
    }
   ],
   "source": [
    "import numpy as np\n",
    "from scipy import stats\n",
    "\n",
    "import seaborn as sns\n",
    "sns.set(font='Yu Gothic')\n",
    "import matplotlib.pyplot as plt\n",
    "%matplotlib inline\n",
    "\n",
    "import pickle\n",
    "\n",
    "from IPython.core.display import display, HTML\n",
    "display(HTML(\"<style>.container { width:90% !important; }</style>\"))"
   ]
  },
  {
   "cell_type": "code",
   "execution_count": 2,
   "metadata": {},
   "outputs": [],
   "source": [
    "def load_numpy(hold_position):\n",
    "    x = np.load(\"../Data/センサ別npyファイル/validation/validation_\" + hold_position + \"/validation_\" + hold_position + \"_Lacc.npy\")\n",
    "    return x"
   ]
  },
  {
   "cell_type": "code",
   "execution_count": 3,
   "metadata": {},
   "outputs": [
    {
     "data": {
      "text/plain": [
       "(28685, 500, 3)"
      ]
     },
     "execution_count": 3,
     "metadata": {},
     "output_type": "execute_result"
    }
   ],
   "source": [
    "Bag = load_numpy(\"Bag\")\n",
    "Hips = load_numpy(\"Hips\")\n",
    "Torso = load_numpy(\"Torso\")\n",
    "Hand = load_numpy(\"Hand\")\n",
    "\n",
    "Hand.shape"
   ]
  },
  {
   "cell_type": "code",
   "execution_count": 2,
   "metadata": {},
   "outputs": [],
   "source": [
    "def load_numpy():\n",
    "    x = np.load(\"../Data/センサ別npyファイル/test/test_Lacc.npy\")\n",
    "    return x"
   ]
  },
  {
   "cell_type": "code",
   "execution_count": 3,
   "metadata": {},
   "outputs": [
    {
     "data": {
      "text/plain": [
       "(57573, 500, 3)"
      ]
     },
     "execution_count": 3,
     "metadata": {},
     "output_type": "execute_result"
    }
   ],
   "source": [
    "test = load_numpy()\n",
    "test.shape"
   ]
  },
  {
   "cell_type": "code",
   "execution_count": 14,
   "metadata": {},
   "outputs": [],
   "source": [
    "def lacc_convert(x):\n",
    "    x_xy = np.sqrt(np.square(x[:, :, 0]) + np.square(x[:, :, 1]))\n",
    "    x_xy_mean = np.mean(x_xy, axis=1)\n",
    "    x_xy_var = np.var(x_xy, axis=1)\n",
    "    x_z_mean = np.mean(x[:, :, 2], axis=1)\n",
    "    x_z_abs_mean = np.mean(np.abs(x[:, :, 2]), axis=1)\n",
    "    x_z_var = np.var(x[:, :, 2], axis=1)\n",
    "    x_z_kurtosis = stats.kurtosis(x[:, :, 2], axis=1)\n",
    "    x_z_skew = stats.skew(x[:, :, 2], axis=1)\n",
    "    result = np.concatenate([x_xy_mean.reshape(-1, 1), x_xy_var.reshape([-1, 1]), x_z_mean.reshape([-1, 1]), x_z_abs_mean.reshape([-1, 1]), x_z_var.reshape([-1, 1]), x_z_skew.reshape([-1, 1]), x_z_kurtosis.reshape([-1, 1])], axis=1)\n",
    "    del x_xy, x_xy_mean, x_xy_var, x_z_mean, x_z_abs_mean, x_z_var\n",
    "    return result"
   ]
  },
  {
   "cell_type": "code",
   "execution_count": 15,
   "metadata": {},
   "outputs": [
    {
     "data": {
      "text/plain": [
       "(57573, 7)"
      ]
     },
     "execution_count": 15,
     "metadata": {},
     "output_type": "execute_result"
    }
   ],
   "source": [
    "test_lacc = lacc_convert(test)\n",
    "test_lacc.shape"
   ]
  },
  {
   "cell_type": "code",
   "execution_count": 16,
   "metadata": {},
   "outputs": [],
   "source": [
    "def save_npy(x):\n",
    "    np.save(\"../Output/test/test_laccel_xy_mean\", x[:, 0])\n",
    "    np.save(\"../Output/test/test_laccel_xy_var\", x[:, 1])\n",
    "    np.save(\"../Output/test/test_laccel_z_mean\", x[:, 2])\n",
    "    np.save(\"../Output/test/test_laccel_z_abs_mean\", x[:, 3])\n",
    "    np.save(\"../Output/test/test_laccel_z_var\", x[:, 4])\n",
    "    np.save(\"../Output/test/test_laccel_z_skew\", x[:, 5])\n",
    "    np.save(\"../Output/test/test_laccel_z_kurtosis\", x[:, 6])\n",
    "save_npy(test_lacc)"
   ]
  },
  {
   "cell_type": "code",
   "execution_count": 5,
   "metadata": {},
   "outputs": [
    {
     "data": {
      "text/plain": [
       "(28685, 7)"
      ]
     },
     "execution_count": 5,
     "metadata": {},
     "output_type": "execute_result"
    }
   ],
   "source": [
    "Bag_lacc = lacc_convert(Bag)\n",
    "Hips_lacc = lacc_convert(Hips)\n",
    "Torso_lacc = lacc_convert(Torso)\n",
    "Hand_lacc = lacc_convert(Hand)\n",
    "\n",
    "Hand_lacc.shape"
   ]
  },
  {
   "cell_type": "code",
   "execution_count": 6,
   "metadata": {},
   "outputs": [],
   "source": [
    "def save_npy(x, hold_position):\n",
    "    np.save(\"validation_\" + hold_position + \"_laccel_xy_mean\", x[:, 0])\n",
    "    np.save(\"validation_\" + hold_position + \"_laccel_xy_var\", x[:, 1])\n",
    "    np.save(\"validation_\" + hold_position + \"_laccel_z_mean\", x[:, 2])\n",
    "    np.save(\"validation_\" + hold_position + \"_laccel_z_abs_mean\", x[:, 3])\n",
    "    np.save(\"validation_\" + hold_position + \"_laccel_z_var\", x[:, 4])\n",
    "    np.save(\"validation_\" + hold_position + \"_laccel_z_skew\", x[:, 5])\n",
    "    np.save(\"validation_\" + hold_position + \"_laccel_z_kurtosis\", x[:, 6])"
   ]
  },
  {
   "cell_type": "code",
   "execution_count": 7,
   "metadata": {},
   "outputs": [],
   "source": [
    "save_npy(Bag_lacc, \"Bag\")\n",
    "save_npy(Hips_lacc, \"Hips\")\n",
    "save_npy(Torso_lacc, \"Torso\")\n",
    "save_npy(Hand_lacc, \"Hand\")"
   ]
  },
  {
   "cell_type": "code",
   "execution_count": 17,
   "metadata": {},
   "outputs": [],
   "source": [
    "def fft(x):\n",
    "    for i in range(x.shape[0]):\n",
    "        x[i] = x[i] - np.mean(x[i])\n",
    "    x = np.abs(np.fft.fft(x, axis=1))\n",
    "    max_amplitude = np.amax(x, axis=1)\n",
    "    max_index = np.argmax(x, axis=1)\n",
    "    max_frequency = max_index * 0.2\n",
    "    result = np.concatenate([max_amplitude.reshape([-1, 1]), max_frequency.reshape([-1, 1])], axis=1)\n",
    "    return result"
   ]
  },
  {
   "cell_type": "code",
   "execution_count": 18,
   "metadata": {},
   "outputs": [
    {
     "data": {
      "text/plain": [
       "(57573, 500, 3)"
      ]
     },
     "execution_count": 18,
     "metadata": {},
     "output_type": "execute_result"
    }
   ],
   "source": [
    "test_FFT = fft(test[:, :, 2])\n",
    "test.shape"
   ]
  },
  {
   "cell_type": "code",
   "execution_count": 19,
   "metadata": {},
   "outputs": [],
   "source": [
    "np.save(\"../Output/test/test_laccel_z_amplitude_frequency\", test_FFT)"
   ]
  },
  {
   "cell_type": "code",
   "execution_count": 9,
   "metadata": {},
   "outputs": [
    {
     "data": {
      "text/plain": [
       "(28685, 2)"
      ]
     },
     "execution_count": 9,
     "metadata": {},
     "output_type": "execute_result"
    }
   ],
   "source": [
    "Bag_FFT = fft(Bag[:, :, 2])\n",
    "Hips_FFT = fft(Hips[:, :, 2])\n",
    "Torso_FFT = fft(Torso[:, :, 2])\n",
    "Hand_FFT = fft(Hand[:, :, 2])\n",
    "\n",
    "Hand_FFT.shape"
   ]
  },
  {
   "cell_type": "code",
   "execution_count": 10,
   "metadata": {},
   "outputs": [],
   "source": [
    "np.save(\"validation_Bag_laccel_z_amplitude_frequency\", Bag_FFT)\n",
    "np.save(\"validation_Hips_laccel_z_amplitude_frequency\", Hips_FFT)\n",
    "np.save(\"validation_Torso_laccel_z_amplitude_frequency\", Torso_FFT)\n",
    "np.save(\"validation_Hand_laccel_z_amplitude_frequency\", Hand_FFT)"
   ]
  },
  {
   "cell_type": "markdown",
   "metadata": {},
   "source": [
    "# trainデータのNaN調査"
   ]
  },
  {
   "cell_type": "code",
   "execution_count": null,
   "metadata": {},
   "outputs": [],
   "source": [
    "def load_numpy(hold_position):\n",
    "    x = np.load(\"../Data/センサ別npyファイル/train/train_\" + hold_position + \"/train_\" + hold_position + \"_Glo_LAcc.npy\")\n",
    "    return x"
   ]
  },
  {
   "cell_type": "code",
   "execution_count": null,
   "metadata": {},
   "outputs": [],
   "source": [
    "Hips = load_numpy(\"Hips\")\n",
    "Hips.shape"
   ]
  },
  {
   "cell_type": "code",
   "execution_count": null,
   "metadata": {},
   "outputs": [],
   "source": [
    "Hips[120843:120850]"
   ]
  },
  {
   "cell_type": "markdown",
   "metadata": {},
   "source": [
    "## FFTのAmplitudeとFrequencyが正答率を上げるのに貢献している\n",
    "## 次点でXYの平均\n",
    "# 周波数域を分けて、FFTのAmplitude、Frequencyを特徴量にする"
   ]
  },
  {
   "cell_type": "code",
   "execution_count": 1,
   "metadata": {},
   "outputs": [],
   "source": [
    "def load_numpy(hold_position):\n",
    "    x = np.load(\"../Data/センサ別npyファイル/train/train_\" + hold_position + \"/train_\" + hold_position + \"_LAcc.npy\")\n",
    "    return x"
   ]
  },
  {
   "cell_type": "code",
   "execution_count": 4,
   "metadata": {},
   "outputs": [],
   "source": [
    "def fft(x):\n",
    "    frequency_range = [0, 50, 100, 150, 200, 250] # 0~50Hzを10Hz刻みでやる\n",
    "    for frequency in frequency_range:\n",
    "        for i in range(x.shape[0]):\n",
    "            x[i] = x[i] - np.mean(x[i])\n",
    "        x_tmp = np.abs(np.fft.fft(x, axis=1))\n",
    "        max_amplitude = np.amax(x_tmp[:, frequency:frequency+50], axis=1)\n",
    "        max_index = np.argmax(x_tmp[:, frequency:frequency+50], axis=1)\n",
    "        max_frequency = (max_index + frequency) * 0.2\n",
    "        result_tmp = np.concatenate([max_amplitude.reshape([-1, 1]), max_frequency.reshape([-1, 1])], axis=1)\n",
    "        try:\n",
    "            result = np.concatenate([result, result_tmp], axis=1)\n",
    "        except:\n",
    "            result = result_tmp.copy()\n",
    "    return result"
   ]
  },
  {
   "cell_type": "code",
   "execution_count": 7,
   "metadata": {},
   "outputs": [
    {
     "data": {
      "text/plain": [
       "(57573, 22)"
      ]
     },
     "execution_count": 7,
     "metadata": {},
     "output_type": "execute_result"
    }
   ],
   "source": [
    "test_FFT = fft(test[:, :, 2])\n",
    "test_FFT.shape"
   ]
  },
  {
   "cell_type": "code",
   "execution_count": 8,
   "metadata": {},
   "outputs": [],
   "source": [
    "np.save(\"../Output/test/test_laccel_z_amplitude_frequency_range5Hz\", test_FFT)"
   ]
  },
  {
   "cell_type": "code",
   "execution_count": 5,
   "metadata": {},
   "outputs": [
    {
     "data": {
      "text/plain": [
       "(195491, 500, 3)"
      ]
     },
     "execution_count": 5,
     "metadata": {},
     "output_type": "execute_result"
    }
   ],
   "source": [
    "Bag = load_numpy('Bag')\n",
    "Hips = load_numpy(\"Hips\")\n",
    "Torso = load_numpy(\"Torso\")\n",
    "Hand = load_numpy(\"Hand\")\n",
    "\n",
    "Hand.shape"
   ]
  },
  {
   "cell_type": "code",
   "execution_count": 6,
   "metadata": {},
   "outputs": [
    {
     "data": {
      "text/plain": [
       "(195491, 12)"
      ]
     },
     "execution_count": 6,
     "metadata": {},
     "output_type": "execute_result"
    }
   ],
   "source": [
    "Bag_FFT = fft(Bag[:, :, 2])\n",
    "Hips_FFT = fft(Hips[:, :, 2])\n",
    "Torso_FFT = fft(Torso[:, :, 2])\n",
    "Hand_FFT = fft(Hand[:, :, 2])\n",
    "\n",
    "Hand_FFT.shape"
   ]
  },
  {
   "cell_type": "code",
   "execution_count": 7,
   "metadata": {},
   "outputs": [],
   "source": [
    "np.save(\"train_Bag_laccel_z_amplitude_frequency_range10Hz\", Bag_FFT)\n",
    "np.save(\"train_Hips_laccel_z_amplitude_frequency_range10Hz\", Hips_FFT)\n",
    "np.save(\"train_Torso_laccel_z_amplitude_frequency_range10Hz\", Torso_FFT)\n",
    "np.save(\"train_Hand_laccel_z_amplitude_frequency_range10Hz\", Hand_FFT)"
   ]
  },
  {
   "cell_type": "code",
   "execution_count": null,
   "metadata": {},
   "outputs": [],
   "source": [
    "tt = np.linspace(0, 100, 500)\n",
    "plt.plot(tt, np.abs(np.fft.fft(Bag[0, :, 2] - Bag[0, :, 2].mean())))\n",
    "plt.xlim(-0.1, 0.5)\n",
    "plt.show()"
   ]
  },
  {
   "cell_type": "code",
   "execution_count": 8,
   "metadata": {},
   "outputs": [],
   "source": [
    "def load_numpy(hold_position):\n",
    "    x = np.load(\"../Data/センサ別npyファイル/validation/validation_\" + hold_position + \"/validation_\" + hold_position + \"_Lacc.npy\")\n",
    "    return x"
   ]
  },
  {
   "cell_type": "code",
   "execution_count": 9,
   "metadata": {},
   "outputs": [
    {
     "data": {
      "text/plain": [
       "(28685, 500, 3)"
      ]
     },
     "execution_count": 9,
     "metadata": {},
     "output_type": "execute_result"
    }
   ],
   "source": [
    "Bag = load_numpy('Bag')\n",
    "Hips = load_numpy(\"Hips\")\n",
    "Torso = load_numpy(\"Torso\")\n",
    "Hand = load_numpy(\"Hand\")\n",
    "\n",
    "Hand.shape"
   ]
  },
  {
   "cell_type": "code",
   "execution_count": 10,
   "metadata": {},
   "outputs": [
    {
     "data": {
      "text/plain": [
       "(28685, 12)"
      ]
     },
     "execution_count": 10,
     "metadata": {},
     "output_type": "execute_result"
    }
   ],
   "source": [
    "Bag_FFT = fft(Bag[:, :, 2])\n",
    "Hips_FFT = fft(Hips[:, :, 2])\n",
    "Torso_FFT = fft(Torso[:, :, 2])\n",
    "Hand_FFT = fft(Hand[:, :, 2])\n",
    "\n",
    "Hand_FFT.shape"
   ]
  },
  {
   "cell_type": "code",
   "execution_count": 11,
   "metadata": {},
   "outputs": [],
   "source": [
    "np.save(\"validation_Bag_laccel_z_amplitude_frequency_range10Hz\", Bag_FFT)\n",
    "np.save(\"validation_Hips_laccel_z_amplitude_frequency_range10Hz\", Hips_FFT)\n",
    "np.save(\"validation_Torso_laccel_z_amplitude_frequency_range10Hz\", Torso_FFT)\n",
    "np.save(\"validation_Hand_laccel_z_amplitude_frequency_range10Hz\", Hand_FFT)"
   ]
  },
  {
   "cell_type": "markdown",
   "metadata": {},
   "source": [
    "## やっぱ5Hzごとでいいすか"
   ]
  },
  {
   "cell_type": "code",
   "execution_count": null,
   "metadata": {},
   "outputs": [],
   "source": [
    "list(range(0, 275, 25))"
   ]
  },
  {
   "cell_type": "code",
   "execution_count": 6,
   "metadata": {},
   "outputs": [],
   "source": [
    "def fft(x):\n",
    "    frequency_range = [i for i in range(0, 275, 25)] # 0~50Hzを5Hz刻みでやる\n",
    "    for frequency in frequency_range:\n",
    "        for i in range(x.shape[0]):\n",
    "            x[i] = x[i] - np.mean(x[i])\n",
    "        x_tmp = np.abs(np.fft.fft(x, axis=1))\n",
    "        max_amplitude = np.amax(x_tmp[:, frequency:frequency+25], axis=1)\n",
    "        max_index = np.argmax(x_tmp[:, frequency:frequency+25], axis=1)\n",
    "        max_frequency = (max_index + frequency) * 0.2\n",
    "        result_tmp = np.concatenate([max_amplitude.reshape([-1, 1]), max_frequency.reshape([-1, 1])], axis=1)\n",
    "        try:\n",
    "            result = np.concatenate([result, result_tmp], axis=1)\n",
    "        except:\n",
    "            result = result_tmp.copy()\n",
    "    return result"
   ]
  },
  {
   "cell_type": "code",
   "execution_count": 24,
   "metadata": {},
   "outputs": [],
   "source": [
    "def load_numpy(hold_position):\n",
    "    x = np.load(\"../Data/センサ別npyファイル/train/train_\" + hold_position + \"/train_\" + hold_position + \"_LAcc.npy\")\n",
    "    return x"
   ]
  },
  {
   "cell_type": "code",
   "execution_count": 25,
   "metadata": {},
   "outputs": [
    {
     "data": {
      "text/plain": [
       "(195491, 500, 3)"
      ]
     },
     "execution_count": 25,
     "metadata": {},
     "output_type": "execute_result"
    }
   ],
   "source": [
    "Bag = load_numpy('Bag')\n",
    "Hips = load_numpy(\"Hips\")\n",
    "Torso = load_numpy(\"Torso\")\n",
    "Hand = load_numpy(\"Hand\")\n",
    "\n",
    "Hand.shape"
   ]
  },
  {
   "cell_type": "code",
   "execution_count": 26,
   "metadata": {},
   "outputs": [
    {
     "data": {
      "text/plain": [
       "(195491, 22)"
      ]
     },
     "execution_count": 26,
     "metadata": {},
     "output_type": "execute_result"
    }
   ],
   "source": [
    "Bag_FFT = fft(Bag[:, :, 2])\n",
    "Hips_FFT = fft(Hips[:, :, 2])\n",
    "Torso_FFT = fft(Torso[:, :, 2])\n",
    "Hand_FFT = fft(Hand[:, :, 2])\n",
    "\n",
    "Hand_FFT.shape"
   ]
  },
  {
   "cell_type": "code",
   "execution_count": 27,
   "metadata": {},
   "outputs": [],
   "source": [
    "np.save(\"train_Bag_laccel_z_amplitude_frequency_range5Hz_ver2\", Bag_FFT)\n",
    "np.save(\"train_Hips_laccel_z_amplitude_frequency_range5Hz_ver2\", Hips_FFT)\n",
    "np.save(\"train_Torso_laccel_z_amplitude_frequency_range5Hz_ver2\", Torso_FFT)\n",
    "np.save(\"train_Hand_laccel_z_amplitude_frequency_range5Hz_ver2\", Hand_FFT)"
   ]
  },
  {
   "cell_type": "code",
   "execution_count": 28,
   "metadata": {},
   "outputs": [],
   "source": [
    "def load_numpy(hold_position):\n",
    "    x = np.load(\"../Data/センサ別npyファイル/validation/validation_\" + hold_position + \"/validation_\" + hold_position + \"_Lacc.npy\")\n",
    "    return x"
   ]
  },
  {
   "cell_type": "code",
   "execution_count": 29,
   "metadata": {},
   "outputs": [
    {
     "data": {
      "text/plain": [
       "(28685, 500, 3)"
      ]
     },
     "execution_count": 29,
     "metadata": {},
     "output_type": "execute_result"
    }
   ],
   "source": [
    "Bag = load_numpy('Bag')\n",
    "Hips = load_numpy(\"Hips\")\n",
    "Torso = load_numpy(\"Torso\")\n",
    "Hand = load_numpy(\"Hand\")\n",
    "\n",
    "Hand.shape"
   ]
  },
  {
   "cell_type": "code",
   "execution_count": 30,
   "metadata": {},
   "outputs": [
    {
     "data": {
      "text/plain": [
       "(28685, 22)"
      ]
     },
     "execution_count": 30,
     "metadata": {},
     "output_type": "execute_result"
    }
   ],
   "source": [
    "Bag_FFT = fft(Bag[:, :, 2])\n",
    "Hips_FFT = fft(Hips[:, :, 2])\n",
    "Torso_FFT = fft(Torso[:, :, 2])\n",
    "Hand_FFT = fft(Hand[:, :, 2])\n",
    "\n",
    "Hand_FFT.shape"
   ]
  },
  {
   "cell_type": "code",
   "execution_count": 31,
   "metadata": {},
   "outputs": [],
   "source": [
    "np.save(\"validation_Bag_laccel_z_amplitude_frequency_range5Hz\", Bag_FFT)\n",
    "np.save(\"validation_Hips_laccel_z_amplitude_frequency_range5Hz\", Hips_FFT)\n",
    "np.save(\"validation_Torso_laccel_z_amplitude_frequency_range5Hz\", Torso_FFT)\n",
    "np.save(\"validation_Hand_laccel_z_amplitude_frequency_range5Hz\", Hand_FFT)"
   ]
  },
  {
   "cell_type": "markdown",
   "metadata": {},
   "source": [
    "# ジャイロセンサの観察"
   ]
  },
  {
   "cell_type": "code",
   "execution_count": 1,
   "metadata": {},
   "outputs": [
    {
     "data": {
      "text/html": [
       "<style>.container { width:90% !important; }</style>"
      ],
      "text/plain": [
       "<IPython.core.display.HTML object>"
      ]
     },
     "metadata": {},
     "output_type": "display_data"
    }
   ],
   "source": [
    "import numpy as np\n",
    "from scipy import stats\n",
    "\n",
    "import seaborn as sns\n",
    "sns.set(font='Yu Gothic')\n",
    "import matplotlib.pyplot as plt\n",
    "%matplotlib inline\n",
    "\n",
    "import pickle\n",
    "\n",
    "from IPython.core.display import display, HTML\n",
    "display(HTML(\"<style>.container { width:90% !important; }</style>\"))"
   ]
  },
  {
   "cell_type": "code",
   "execution_count": 13,
   "metadata": {},
   "outputs": [],
   "source": [
    "def load_numpy(hold_position):\n",
    "    file_path = \"../Data/センサ別npyファイル/train/train_\" + hold_position + \"/train_\" + hold_position + \"_\"\n",
    "    gyro = np.load(file_path + \"Glo_Gyr_ver2.npy\")\n",
    "#     label = np.load(file_path + \"Label.npy\")\n",
    "#     return np.concatenate([label, gyro], axis=2)\n",
    "    return gyro"
   ]
  },
  {
   "cell_type": "code",
   "execution_count": 10,
   "metadata": {},
   "outputs": [
    {
     "data": {
      "text/plain": [
       "(57573, 500, 3)"
      ]
     },
     "execution_count": 10,
     "metadata": {},
     "output_type": "execute_result"
    }
   ],
   "source": [
    "test = np.load(\"../Data/センサ別npyファイル/test/test_Gyr.npy\")\n",
    "test.shape"
   ]
  },
  {
   "cell_type": "code",
   "execution_count": 23,
   "metadata": {},
   "outputs": [
    {
     "data": {
      "text/plain": [
       "(28685, 500, 3)"
      ]
     },
     "execution_count": 23,
     "metadata": {},
     "output_type": "execute_result"
    }
   ],
   "source": [
    "Bag = load_numpy(\"Bag\")\n",
    "Hips = load_numpy(\"Hips\")\n",
    "Torso = load_numpy(\"Torso\")\n",
    "Hand = load_numpy(\"Hand\")\n",
    "\n",
    "Bag.shape"
   ]
  },
  {
   "cell_type": "code",
   "execution_count": null,
   "metadata": {},
   "outputs": [],
   "source": [
    "moving_states = [\"Still\", \"Walking\", \"Run\", \"Bike\", \"Car\", \"Bus\", \"Train\", \"Subway\"]\n",
    "tt = np.linspace(0, 100, 500)\n",
    "plt.figure(figsize=(16, 8))\n",
    "for i in range(8):\n",
    "    tmp = Bag[np.where(Bag[:, 0, 0] == i+1)][1956].copy()\n",
    "    Bag_z_FFT = np.abs(np.fft.fft(tmp[:, :, 2] - tmp[:, :, 2].mean()))\n",
    "    plt.plot(tt, Bag_z_FFT, label=moving_states[i])\n",
    "    plt.legend()\n",
    "    plt.xlim(0, 30)\n",
    "    plt.ylim(0, 150)"
   ]
  },
  {
   "cell_type": "code",
   "execution_count": 15,
   "metadata": {},
   "outputs": [],
   "source": [
    "def fft(x):\n",
    "    frequency_range = [i for i in range(0, 275, 25)] # 0~50Hzを5Hz刻みでやる\n",
    "    for frequency in frequency_range:\n",
    "        for i in range(x.shape[0]):\n",
    "            x[i] = x[i] - np.mean(x[i])\n",
    "        x_tmp = np.abs(np.fft.fft(x, axis=1))\n",
    "        max_amplitude = np.amax(x_tmp[:, frequency:frequency+25], axis=1)\n",
    "        max_index = np.argmax(x_tmp[:, frequency:frequency+25], axis=1)\n",
    "        max_frequency = (max_index + frequency) * 0.2\n",
    "        result_tmp = np.concatenate([max_amplitude.reshape([-1, 1]), max_frequency.reshape([-1, 1])], axis=1)\n",
    "        try:\n",
    "            result = np.concatenate([result, result_tmp], axis=1)\n",
    "        except:\n",
    "            result = result_tmp.copy()\n",
    "    return result"
   ]
  },
  {
   "cell_type": "code",
   "execution_count": 11,
   "metadata": {},
   "outputs": [
    {
     "data": {
      "text/plain": [
       "(57573, 22)"
      ]
     },
     "execution_count": 11,
     "metadata": {},
     "output_type": "execute_result"
    }
   ],
   "source": [
    "test_FFT = fft(test[:, :, 2])\n",
    "test_FFT.shape"
   ]
  },
  {
   "cell_type": "code",
   "execution_count": 12,
   "metadata": {},
   "outputs": [],
   "source": [
    "np.save(\"../Output/test/test_gyro_z_amplitude_frequency_range5Hz\", test_FFT)"
   ]
  },
  {
   "cell_type": "code",
   "execution_count": 16,
   "metadata": {},
   "outputs": [
    {
     "data": {
      "text/plain": [
       "(195491, 22)"
      ]
     },
     "execution_count": 16,
     "metadata": {},
     "output_type": "execute_result"
    }
   ],
   "source": [
    "Bag_FFT = fft(Bag[:, :, 2])\n",
    "Hips_FFT = fft(Hips[:, :, 2])\n",
    "Torso_FFT = fft(Torso[:, :, 2])\n",
    "Hand_FFT = fft(Hand[:, :, 2])\n",
    "\n",
    "Hand_FFT.shape"
   ]
  },
  {
   "cell_type": "code",
   "execution_count": 17,
   "metadata": {},
   "outputs": [],
   "source": [
    "np.save(\"train_Bag_glo_gyro_z_amplitude_frequency_range5Hz\", Bag_FFT)\n",
    "np.save(\"train_Hips_glo_gyro_z_amplitude_frequency_range5Hz\", Hips_FFT)\n",
    "np.save(\"train_Torso_glo_gyro_z_amplitude_frequency_range5Hz\", Torso_FFT)\n",
    "np.save(\"train_Hand_glo_gyro_z_amplitude_frequency_range5Hz\", Hand_FFT)"
   ]
  },
  {
   "cell_type": "code",
   "execution_count": 22,
   "metadata": {},
   "outputs": [],
   "source": [
    "def load_numpy(hold_position):\n",
    "    file_path = \"../Data/センサ別npyファイル/validation/validation_\" + hold_position + \"/validation_\" + hold_position + \"_\"\n",
    "    gyro = np.load(file_path + \"Gyr.npy\")\n",
    "#     label = np.load(file_path + \"Label.npy\")\n",
    "#     return np.concatenate([label, gyro], axis=2)\n",
    "    return gyro"
   ]
  },
  {
   "cell_type": "code",
   "execution_count": 24,
   "metadata": {},
   "outputs": [
    {
     "data": {
      "text/plain": [
       "(28685, 22)"
      ]
     },
     "execution_count": 24,
     "metadata": {},
     "output_type": "execute_result"
    }
   ],
   "source": [
    "Bag_FFT = fft(Bag[:, :, 2])\n",
    "Hips_FFT = fft(Hips[:, :, 2])\n",
    "Torso_FFT = fft(Torso[:, :, 2])\n",
    "Hand_FFT = fft(Hand[:, :, 2])\n",
    "\n",
    "Hand_FFT.shape"
   ]
  },
  {
   "cell_type": "code",
   "execution_count": 25,
   "metadata": {},
   "outputs": [],
   "source": [
    "np.save(\"validation_Bag_gyro_z_amplitude_frequency_range5Hz\", Bag_FFT)\n",
    "np.save(\"validation_Hips_gyro_z_amplitude_frequency_range5Hz\", Hips_FFT)\n",
    "np.save(\"validation_Torso_gyro_z_amplitude_frequency_range5Hz\", Torso_FFT)\n",
    "np.save(\"validation_Hand_gyro_z_amplitude_frequency_range5Hz\", Hand_FFT)"
   ]
  },
  {
   "cell_type": "code",
   "execution_count": null,
   "metadata": {},
   "outputs": [],
   "source": [
    "import numpy as np\n",
    "from scipy import stats\n",
    "\n",
    "import seaborn as sns\n",
    "sns.set(font='Yu Gothic')\n",
    "import matplotlib.pyplot as plt\n",
    "%matplotlib inline\n",
    "\n",
    "import pickle\n",
    "\n",
    "from IPython.core.display import display, HTML\n",
    "display(HTML(\"<style>.container { width:90% !important; }</style>\"))"
   ]
  },
  {
   "cell_type": "code",
   "execution_count": null,
   "metadata": {},
   "outputs": [],
   "source": [
    "file_path = \"../Data/センサ別npyファイル/train/train_Bag/train_Bag_Glo_Lacc.npy\"\n",
    "X_Bag = np.load(file_path)"
   ]
  },
  {
   "cell_type": "code",
   "execution_count": null,
   "metadata": {},
   "outputs": [],
   "source": [
    "%%time\n",
    "tt = np.linspace(0, 100, 500)\n",
    "plt.figure(figsize=(8, 8))\n",
    "plt.specgram(X_Bag[60000, :, 0], Fs=100, NFFT=64, noverlap=16)\n",
    "plt.grid(False)\n",
    "plt.colorbar()\n",
    "plt.show()"
   ]
  },
  {
   "cell_type": "code",
   "execution_count": null,
   "metadata": {},
   "outputs": [],
   "source": [
    "%%time\n",
    "import scipy.signal as signal\n",
    "Sxx = signal.spectrogram(X_Bag[60000, :, 0], fs=100, nfft=64, nperseg=64, noverlap=16)[2]\n",
    "average = np.zeros((33, 1))\n",
    "for i in range(10):\n",
    "    average += Sxx[:, i].reshape([-1, 1])\n",
    "average /= 10\n",
    "# Sxx = (Sxx - Sxx.mean()) / Sxx.std()\n",
    "plt.pcolormesh(average, cmap='gist_heat')\n",
    "plt.ylabel('Frequency [Hz]')\n",
    "plt.xlabel('Time [sec]')\n",
    "plt.colorbar()\n",
    "plt.show()\n",
    "Sxx.shape"
   ]
  },
  {
   "cell_type": "code",
   "execution_count": null,
   "metadata": {},
   "outputs": [],
   "source": [
    "average = (average - average.mean()) / average.std()"
   ]
  },
  {
   "cell_type": "code",
   "execution_count": null,
   "metadata": {},
   "outputs": [],
   "source": [
    "plt.figure(figsize=(8,8))\n",
    "sns.heatmap(average, cmap='gray')"
   ]
  },
  {
   "cell_type": "markdown",
   "metadata": {},
   "source": [
    "# 線形加速度Normのスペクトル画像で分けられるのかはやってみたい"
   ]
  },
  {
   "cell_type": "code",
   "execution_count": null,
   "metadata": {},
   "outputs": [],
   "source": [
    "import numpy as np\n",
    "from scipy import stats\n",
    "\n",
    "import seaborn as sns\n",
    "sns.set(font='Yu Gothic')\n",
    "import matplotlib.pyplot as plt\n",
    "%matplotlib inline\n",
    "\n",
    "import pickle\n",
    "\n",
    "from IPython.core.display import display, HTML\n",
    "display(HTML(\"<style>.container { width:90% !important; }</style>\"))"
   ]
  },
  {
   "cell_type": "code",
   "execution_count": null,
   "metadata": {},
   "outputs": [],
   "source": [
    "def load_numpy(hold_position):\n",
    "    file_path = \"../Data/センサ別npyファイル/train/train_\" + hold_position + \"/train_\" + hold_position + \"_Glo_Lacc.npy\"\n",
    "    lacc = np.load(file_path)\n",
    "    result = np.sqrt(np.square(lacc[:, :, 0]) + np.square(lacc[:, :, 1]) + np.square(lacc[:, :, 2]))\n",
    "    return result"
   ]
  },
  {
   "cell_type": "code",
   "execution_count": null,
   "metadata": {},
   "outputs": [],
   "source": [
    "Bag = load_numpy(\"Bag\")\n",
    "Hips = load_numpy(\"Hips\")\n",
    "Torso = load_numpy(\"Torso\")\n",
    "Hand = load_numpy(\"Hand\")\n",
    "\n",
    "Bag.shape"
   ]
  },
  {
   "cell_type": "code",
   "execution_count": null,
   "metadata": {},
   "outputs": [],
   "source": [
    "%%time\n",
    "import scipy.signal as signal\n",
    "def spectram(x):\n",
    "    Sxx = signal.spectrogram(x, fs=100, nfft=64, nperseg=64, noverlap=16)[2]\n",
    "    average = np.zeros((33, 1))\n",
    "    for i in range(10):\n",
    "        average += Sxx[:, i].reshape([-1, 1])\n",
    "    average /= 10\n",
    "    return average"
   ]
  },
  {
   "cell_type": "code",
   "execution_count": null,
   "metadata": {},
   "outputs": [],
   "source": [
    "%%time\n",
    "Bag = np.apply_along_axis(spectram, 1, Bag)\n",
    "Hips = np.apply_along_axis(spectram, 1, Hips)\n",
    "Torso = np.apply_along_axis(spectram, 1, Torso)\n",
    "Hand = np.apply_along_axis(spectram, 1, Hand)\n",
    "\n",
    "Bag.shape"
   ]
  },
  {
   "cell_type": "code",
   "execution_count": null,
   "metadata": {},
   "outputs": [],
   "source": [
    "plt.plot(Bag[0])"
   ]
  },
  {
   "cell_type": "code",
   "execution_count": null,
   "metadata": {},
   "outputs": [],
   "source": [
    "# fig, (ax1, ax2) = plt.subplots(nrows=2, figsize=(16, 16))\n",
    "# ax1.plot(t, x)\n",
    "f, t, Sxx = signal.spectrogram(Bag[1000], fs=100, nfft=64, nperseg=64, noverlap=63)\n",
    "plt.pcolormesh(t, f, Sxx)\n",
    "# The `specgram` method returns 4 objects. They are:\n",
    "# - Pxx: the periodogram\n",
    "# - freqs: the frequency vector\n",
    "# - bins: the centers of the time bins\n",
    "# - im: the matplotlib.image.AxesImage instance representing the data in the plot\n",
    "Sxx.shape"
   ]
  },
  {
   "cell_type": "code",
   "execution_count": null,
   "metadata": {},
   "outputs": [],
   "source": [
    "average = np.zeros((33, 1))\n",
    "for i in range(10):\n",
    "    average += Sxx[:, i].reshape([-1, 1])\n",
    "average /= 10"
   ]
  },
  {
   "cell_type": "code",
   "execution_count": null,
   "metadata": {},
   "outputs": [],
   "source": [
    "np.save(\"train_Bag_glo_lacc_norm_spectram\", Bag)\n",
    "np.save(\"train_Hips_glo_lacc_norm_spectram\", Hips)\n",
    "np.save(\"train_Torso_glo_lacc_norm_spectram\", Torso)\n",
    "np.save(\"train_Hand_glo_lacc_norm_spectram\", Hand)"
   ]
  },
  {
   "cell_type": "code",
   "execution_count": null,
   "metadata": {},
   "outputs": [],
   "source": [
    "def load_numpy(hold_position):\n",
    "    file_path = \"../Data/センサ別npyファイル/validation/validation_\" + hold_position + \"/validation_\" + hold_position + \"_Glo_Lacc.npy\"\n",
    "    lacc = np.load(file_path)\n",
    "    result = np.sqrt(np.square(lacc[:, :, 0]) + np.square(lacc[:, :, 1]) + np.square(lacc[:, :, 2]))\n",
    "    return result"
   ]
  },
  {
   "cell_type": "code",
   "execution_count": null,
   "metadata": {},
   "outputs": [],
   "source": [
    "Bag = load_numpy(\"Bag\")\n",
    "Hips = load_numpy(\"Hips\")\n",
    "Torso = load_numpy(\"Torso\")\n",
    "Hand = load_numpy(\"Hand\")\n",
    "\n",
    "Bag.shape"
   ]
  },
  {
   "cell_type": "code",
   "execution_count": null,
   "metadata": {},
   "outputs": [],
   "source": [
    "%%time\n",
    "Bag = np.apply_along_axis(spectram, 1, Bag)\n",
    "Hips = np.apply_along_axis(spectram, 1, Hips)\n",
    "Torso = np.apply_along_axis(spectram, 1, Torso)\n",
    "Hand = np.apply_along_axis(spectram, 1, Hand)\n",
    "\n",
    "Bag.shape"
   ]
  },
  {
   "cell_type": "code",
   "execution_count": null,
   "metadata": {},
   "outputs": [],
   "source": [
    "np.save(\"validation_Bag_glo_lacc_norm_spectram\", Bag)\n",
    "np.save(\"validation_Hips_glo_lacc_norm_spectram\", Hips)\n",
    "np.save(\"validation_Torso_glo_lacc_norm_spectram\", Torso)\n",
    "np.save(\"validation_Hand_glo_lacc_norm_spectram\", Hand)"
   ]
  },
  {
   "cell_type": "markdown",
   "metadata": {},
   "source": [
    "# ジャイロセンサを世界座標系になおしたので，それを使ってみようと思う"
   ]
  },
  {
   "cell_type": "code",
   "execution_count": null,
   "metadata": {},
   "outputs": [],
   "source": [
    "import numpy as np\n",
    "from scipy import stats\n",
    "\n",
    "import seaborn as sns\n",
    "sns.set(font='Yu Gothic')\n",
    "import matplotlib.pyplot as plt\n",
    "%matplotlib inline\n",
    "\n",
    "import pickle\n",
    "\n",
    "from IPython.core.display import display, HTML\n",
    "display(HTML(\"<style>.container { width:90% !important; }</style>\"))"
   ]
  },
  {
   "cell_type": "code",
   "execution_count": null,
   "metadata": {},
   "outputs": [],
   "source": [
    "# xy平面のGyroを読み込み\n",
    "def load_numpy(hold_position):\n",
    "    file_path = \"../Data/センサ別npyファイル/train/train_\" + hold_position + \"/train_\" + hold_position + \"_\"\n",
    "    gyro = np.load(file_path + \"Glo_Gyr_ver2.npy\")\n",
    "    gyro = np.sqrt(np.square(gyro[:, :, 0]) + np.square(gyro[:, :, 1]))\n",
    "    return gyro"
   ]
  },
  {
   "cell_type": "code",
   "execution_count": null,
   "metadata": {},
   "outputs": [],
   "source": [
    "def load_numpy(hold_position):\n",
    "    file_path = \"../Data/センサ別npyファイル/train/train_\" + hold_position + \"/train_\" + hold_position + \"_\"\n",
    "    gyro = np.load(file_path + \"Glo_Gyr_ver2.npy\")\n",
    "#     label = np.load(file_path + \"Label.npy\")\n",
    "#     return np.concatenate([label, gyro], axis=2)\n",
    "    return gyro"
   ]
  },
  {
   "cell_type": "code",
   "execution_count": null,
   "metadata": {},
   "outputs": [],
   "source": [
    "Bag = load_numpy(\"Bag\")\n",
    "Hips = load_numpy(\"Hips\")\n",
    "Torso = load_numpy(\"Torso\")\n",
    "Hand = load_numpy(\"Hand\")\n",
    "\n",
    "Bag.shape"
   ]
  },
  {
   "cell_type": "code",
   "execution_count": null,
   "metadata": {},
   "outputs": [],
   "source": [
    "def fft(x):\n",
    "    frequency_range = [i for i in range(0, 275, 25)] # 0~50Hzを5Hz刻みでやる\n",
    "    for frequency in frequency_range:\n",
    "        for i in range(x.shape[0]):\n",
    "            x[i] = x[i] - np.mean(x[i])\n",
    "        x_tmp = np.abs(np.fft.fft(x, axis=1))\n",
    "        max_amplitude = np.amax(x_tmp[:, frequency:frequency+25], axis=1)\n",
    "        max_index = np.argmax(x_tmp[:, frequency:frequency+25], axis=1)\n",
    "        max_frequency = (max_index + frequency) * 0.2\n",
    "        result_tmp = np.concatenate([max_amplitude.reshape([-1, 1]), max_frequency.reshape([-1, 1])], axis=1)\n",
    "        try:\n",
    "            result = np.concatenate([result, result_tmp], axis=1)\n",
    "        except:\n",
    "            result = result_tmp.copy()\n",
    "    return result"
   ]
  },
  {
   "cell_type": "code",
   "execution_count": null,
   "metadata": {},
   "outputs": [],
   "source": [
    "# xy平面GyroのFFT\n",
    "Bag_FFT = fft(Bag)\n",
    "Hips_FFT = fft(Hips)\n",
    "Torso_FFT = fft(Torso)\n",
    "Hand_FFT = fft(Hand)\n",
    "\n",
    "Hand_FFT.shape"
   ]
  },
  {
   "cell_type": "code",
   "execution_count": null,
   "metadata": {},
   "outputs": [],
   "source": [
    "Bag_FFT = fft(Bag[:, :, 2])\n",
    "Hips_FFT = fft(Hips[:, :, 2])\n",
    "Torso_FFT = fft(Torso[:, :, 2])\n",
    "Hand_FFT = fft(Hand[:, :, 2])\n",
    "\n",
    "Hand_FFT.shape"
   ]
  },
  {
   "cell_type": "code",
   "execution_count": null,
   "metadata": {},
   "outputs": [],
   "source": [
    "# xy平面Gyroのnpy保存\n",
    "np.save(\"train_Bag_glo_gyro_xy_ver2_amplitude_frequency_range5Hz\", Bag_FFT)\n",
    "np.save(\"train_Hips_glo_gyro_xy_ver2_amplitude_frequency_range5Hz\", Hips_FFT)\n",
    "np.save(\"train_Torso_glo_gyro_xy_ver2_amplitude_frequency_range5Hz\", Torso_FFT)\n",
    "np.save(\"train_Hand_glo_gyro_xy_ver2_amplitude_frequency_range5Hz\", Hand_FFT)"
   ]
  },
  {
   "cell_type": "code",
   "execution_count": null,
   "metadata": {},
   "outputs": [],
   "source": [
    "np.save(\"train_Bag_glo_gyro_z_ver2_amplitude_frequency_range5Hz\", Bag_FFT)\n",
    "np.save(\"train_Hips_glo_gyro_z_ver2_amplitude_frequency_range5Hz\", Hips_FFT)\n",
    "np.save(\"train_Torso_glo_gyro_z_ver2_amplitude_frequency_range5Hz\", Torso_FFT)\n",
    "np.save(\"train_Hand_glo_gyro_z_ver2_amplitude_frequency_range5Hz\", Hand_FFT)"
   ]
  },
  {
   "cell_type": "code",
   "execution_count": null,
   "metadata": {},
   "outputs": [],
   "source": [
    "# xy平面Gyroの読み込み\n",
    "def load_numpy(hold_position):\n",
    "    file_path = \"../Data/センサ別npyファイル/validation/validation_\" + hold_position + \"/validation_\" + hold_position + \"_\"\n",
    "    gyro = np.load(file_path + \"Glo_Gyr_ver2.npy\")\n",
    "    gyro = np.sqrt(np.square(gyro[:, :, 0]) + np.square(gyro[:, :, 1]))\n",
    "    return gyro"
   ]
  },
  {
   "cell_type": "code",
   "execution_count": null,
   "metadata": {},
   "outputs": [],
   "source": [
    "def load_numpy(hold_position):\n",
    "    file_path = \"../Data/センサ別npyファイル/validation/validation_\" + hold_position + \"/validation_\" + hold_position + \"_\"\n",
    "    gyro = np.load(file_path + \"Glo_Gyr_ver2.npy\")\n",
    "#     label = np.load(file_path + \"Label.npy\")\n",
    "#     return np.concatenate([label, gyro], axis=2)\n",
    "    return gyro"
   ]
  },
  {
   "cell_type": "code",
   "execution_count": null,
   "metadata": {},
   "outputs": [],
   "source": [
    "# xy平面Gyroのnpy保存\n",
    "np.save(\"validation_Bag_glo_gyro_xy_ver2_amplitude_frequency_range5Hz\", Bag_FFT)\n",
    "np.save(\"validation_Hips_glo_gyro_xy_ver2_amplitude_frequency_range5Hz\", Hips_FFT)\n",
    "np.save(\"validation_Torso_glo_gyro_xy_ver2_amplitude_frequency_range5Hz\", Torso_FFT)\n",
    "np.save(\"validation_Hand_glo_gyro_xy_ver2_amplitude_frequency_range5Hz\", Hand_FFT)"
   ]
  },
  {
   "cell_type": "code",
   "execution_count": null,
   "metadata": {},
   "outputs": [],
   "source": [
    "np.save(\"validation_Bag_glo_gyro_z_ver2_amplitude_frequency_range5Hz\", Bag_FFT)\n",
    "np.save(\"validation_Hips_glo_gyro_z_ver2_amplitude_frequency_range5Hz\", Hips_FFT)\n",
    "np.save(\"validation_Torso_glo_gyro_z_ver2_amplitude_frequency_range5Hz\", Torso_FFT)\n",
    "np.save(\"validation_Hand_glo_gyro_z_ver2_amplitude_frequency_range5Hz\", Hand_FFT)"
   ]
  },
  {
   "cell_type": "code",
   "execution_count": null,
   "metadata": {},
   "outputs": [],
   "source": [
    "test = np.load(\"../Data/センサ別npyファイル/test/test_Glo_Gyr_ver2.npy\")\n",
    "test.shape"
   ]
  },
  {
   "cell_type": "code",
   "execution_count": null,
   "metadata": {},
   "outputs": [],
   "source": [
    "test_FFT = fft(test[:, :, 2])\n",
    "test_FFT.shape"
   ]
  },
  {
   "cell_type": "code",
   "execution_count": null,
   "metadata": {},
   "outputs": [],
   "source": [
    "np.save(\"test_glo_gyro_z_ver2_amplitude_frequency_range5Hz\", test_FFT)"
   ]
  },
  {
   "cell_type": "markdown",
   "metadata": {},
   "source": [
    "# ついに地磁気も使う"
   ]
  },
  {
   "cell_type": "code",
   "execution_count": 1,
   "metadata": {},
   "outputs": [
    {
     "data": {
      "text/html": [
       "<style>.container { width:90% !important; }</style>"
      ],
      "text/plain": [
       "<IPython.core.display.HTML object>"
      ]
     },
     "metadata": {},
     "output_type": "display_data"
    }
   ],
   "source": [
    "import numpy as np\n",
    "from scipy import stats\n",
    "\n",
    "import seaborn as sns\n",
    "sns.set(font='Yu Gothic')\n",
    "import matplotlib.pyplot as plt\n",
    "%matplotlib inline\n",
    "\n",
    "import pickle\n",
    "\n",
    "from IPython.core.display import display, HTML\n",
    "display(HTML(\"<style>.container { width:90% !important; }</style>\"))"
   ]
  },
  {
   "cell_type": "code",
   "execution_count": 2,
   "metadata": {},
   "outputs": [],
   "source": [
    "def load_numpy(hold_position):\n",
    "    file_path = \"../Data/センサ別npyファイル/train/train_\" + hold_position + \"/train_\" + hold_position + \"_\"\n",
    "    mag = np.load(file_path + \"Mag.npy\")\n",
    "    mag = np.sqrt(np.square(mag[:, :, 0]) + np.square(mag[:, :, 1]) + np.square(mag[:, :, 2])).reshape([-1, 500, 1])\n",
    "#     label = np.load(file_path + \"Label.npy\")\n",
    "#     return np.concatenate([label, gyro], axis=2)\n",
    "    return mag"
   ]
  },
  {
   "cell_type": "code",
   "execution_count": 8,
   "metadata": {},
   "outputs": [
    {
     "data": {
      "text/plain": [
       "(28685, 500, 1)"
      ]
     },
     "execution_count": 8,
     "metadata": {},
     "output_type": "execute_result"
    }
   ],
   "source": [
    "Bag = load_numpy(\"Bag\")\n",
    "Hips = load_numpy(\"Hips\")\n",
    "Torso = load_numpy(\"Torso\")\n",
    "Hand = load_numpy(\"Hand\")\n",
    "\n",
    "Bag.shape"
   ]
  },
  {
   "cell_type": "code",
   "execution_count": 4,
   "metadata": {},
   "outputs": [],
   "source": [
    "def fft(x):\n",
    "    frequency_range = [i for i in range(0, 275, 25)] # 0~50Hzを5Hz刻みでやる\n",
    "    for frequency in frequency_range:\n",
    "        for i in range(x.shape[0]):\n",
    "            x[i] = x[i] - np.mean(x[i])\n",
    "        x_tmp = np.abs(np.fft.fft(x, axis=1))\n",
    "        max_amplitude = np.amax(x_tmp[:, frequency:frequency+25], axis=1)\n",
    "        max_index = np.argmax(x_tmp[:, frequency:frequency+25], axis=1)\n",
    "        max_frequency = (max_index + frequency) * 0.2\n",
    "        result_tmp = np.concatenate([max_amplitude.reshape([-1, 1]), max_frequency.reshape([-1, 1])], axis=1)\n",
    "        try:\n",
    "            result = np.concatenate([result, result_tmp], axis=1)\n",
    "        except:\n",
    "            result = result_tmp.copy()\n",
    "    return result"
   ]
  },
  {
   "cell_type": "code",
   "execution_count": 9,
   "metadata": {},
   "outputs": [
    {
     "data": {
      "text/plain": [
       "(28685, 22)"
      ]
     },
     "execution_count": 9,
     "metadata": {},
     "output_type": "execute_result"
    }
   ],
   "source": [
    "Bag_FFT = fft(Bag[:, :, 0])\n",
    "Hips_FFT = fft(Hips[:, :, 0])\n",
    "Torso_FFT = fft(Torso[:, :, 0])\n",
    "Hand_FFT = fft(Hand[:, :, 0])\n",
    "\n",
    "Hand_FFT.shape"
   ]
  },
  {
   "cell_type": "code",
   "execution_count": 6,
   "metadata": {},
   "outputs": [],
   "source": [
    "np.save(\"train_Bag_mag_norm_amplitude_frequency_range5Hz\", Bag_FFT)\n",
    "np.save(\"train_Hips_mag_norm_amplitude_frequency_range5Hz\", Hips_FFT)\n",
    "np.save(\"train_Torso_mag_norm_amplitude_frequency_range5Hz\", Torso_FFT)\n",
    "np.save(\"train_Hand_mag_norm_amplitude_frequency_range5Hz\", Hand_FFT)"
   ]
  },
  {
   "cell_type": "code",
   "execution_count": 7,
   "metadata": {},
   "outputs": [],
   "source": [
    "def load_numpy(hold_position):\n",
    "    file_path = \"../Data/センサ別npyファイル/validation/validation_\" + hold_position + \"/validation_\" + hold_position + \"_\"\n",
    "    mag = np.load(file_path + \"Mag.npy\")\n",
    "    mag = np.sqrt(np.square(mag[:, :, 0]) + np.square(mag[:, :, 1]) + np.square(mag[:, :, 2])).reshape([-1, 500, 1])\n",
    "#     label = np.load(file_path + \"Label.npy\")\n",
    "#     return np.concatenate([label, gyro], axis=2)\n",
    "    return mag"
   ]
  },
  {
   "cell_type": "code",
   "execution_count": 10,
   "metadata": {},
   "outputs": [],
   "source": [
    "np.save(\"validation_Bag_mag_norm_amplitude_frequency_range5Hz\", Bag_FFT)\n",
    "np.save(\"validation_Hips_mag_norm_amplitude_frequency_range5Hz\", Hips_FFT)\n",
    "np.save(\"validation_Torso_mag_norm_amplitude_frequency_range5Hz\", Torso_FFT)\n",
    "np.save(\"validation_Hand_mag_norm_amplitude_frequency_range5Hz\", Hand_FFT)"
   ]
  },
  {
   "cell_type": "code",
   "execution_count": 11,
   "metadata": {},
   "outputs": [
    {
     "data": {
      "text/plain": [
       "(57573, 500, 1)"
      ]
     },
     "execution_count": 11,
     "metadata": {},
     "output_type": "execute_result"
    }
   ],
   "source": [
    "test = np.load(\"../Data/センサ別npyファイル/test/test_Mag.npy\")\n",
    "test = np.sqrt(np.square(test[:, :, 0]) + np.square(test[:, :, 1]) + np.square(test[:, :, 2])).reshape([-1, 500, 1])\n",
    "test.shape"
   ]
  },
  {
   "cell_type": "code",
   "execution_count": 12,
   "metadata": {},
   "outputs": [
    {
     "data": {
      "text/plain": [
       "(57573, 22)"
      ]
     },
     "execution_count": 12,
     "metadata": {},
     "output_type": "execute_result"
    }
   ],
   "source": [
    "test_FFT = fft(test[:, :, 0])\n",
    "test_FFT.shape"
   ]
  },
  {
   "cell_type": "code",
   "execution_count": 13,
   "metadata": {},
   "outputs": [],
   "source": [
    "np.save(\"test_mag_norm_amplitude_frequency_range5Hz\", test_FFT)"
   ]
  },
  {
   "cell_type": "markdown",
   "metadata": {},
   "source": [
    "# 時間情報を殺さずに時間周波数スペクトルを出して、特徴を見つける"
   ]
  },
  {
   "cell_type": "code",
   "execution_count": 1,
   "metadata": {},
   "outputs": [
    {
     "data": {
      "text/html": [
       "<style>.container { width:90% !important; }</style>"
      ],
      "text/plain": [
       "<IPython.core.display.HTML object>"
      ]
     },
     "metadata": {},
     "output_type": "display_data"
    }
   ],
   "source": [
    "import numpy as np\n",
    "from scipy import stats\n",
    "import scipy.signal as signal\n",
    "\n",
    "import seaborn as sns\n",
    "sns.set(font='Yu Gothic')\n",
    "import matplotlib.pyplot as plt\n",
    "%matplotlib inline\n",
    "\n",
    "import pickle\n",
    "\n",
    "from IPython.core.display import display, HTML\n",
    "display(HTML(\"<style>.container { width:90% !important; }</style>\"))"
   ]
  },
  {
   "cell_type": "code",
   "execution_count": 2,
   "metadata": {},
   "outputs": [],
   "source": [
    "def load_numpy(hold_position):\n",
    "    file_path = \"../Data/センサ別npyファイル/train/train_\" + hold_position + \"/train_\" + hold_position + \"_\"\n",
    "    sensor = np.load(file_path + \"Glo_Mag_ver2.npy\")[:, :, 2]\n",
    "#     sensor = np.sqrt(np.square(sensor[:, :, 0]) + np.square(sensor[:, :, 1]) + np.square(sensor[:, :, 2])).reshape([-1, 500])\n",
    "    return sensor"
   ]
  },
  {
   "cell_type": "code",
   "execution_count": 3,
   "metadata": {},
   "outputs": [
    {
     "data": {
      "text/plain": [
       "(195491,)"
      ]
     },
     "execution_count": 3,
     "metadata": {},
     "output_type": "execute_result"
    }
   ],
   "source": [
    "train_Label = np.load(\"../Data/センサ別npyファイル/train/train_Bag/train_Bag_Label.npy\")[:, 0].reshape([-1])\n",
    "val_Label = np.load(\"../Data/センサ別npyファイル/validation/validation_Bag/validation_Bag_Label.npy\")[:, 0].reshape([-1])\n",
    "train_Label.shape"
   ]
  },
  {
   "cell_type": "code",
   "execution_count": 5,
   "metadata": {},
   "outputs": [
    {
     "name": "stdout",
     "output_type": "stream",
     "text": [
      "(128, 25)\n",
      "(128, 25)\n"
     ]
    },
    {
     "data": {
      "text/plain": [
       "([<matplotlib.axis.YTick at 0x2922027ba48>,\n",
       "  <matplotlib.axis.YTick at 0x29220276c88>,\n",
       "  <matplotlib.axis.YTick at 0x2922026fec8>,\n",
       "  <matplotlib.axis.YTick at 0x292202dfc48>,\n",
       "  <matplotlib.axis.YTick at 0x292202e36c8>,\n",
       "  <matplotlib.axis.YTick at 0x292202e3c08>,\n",
       "  <matplotlib.axis.YTick at 0x292202e74c8>,\n",
       "  <matplotlib.axis.YTick at 0x292202e7dc8>,\n",
       "  <matplotlib.axis.YTick at 0x292202eb748>,\n",
       "  <matplotlib.axis.YTick at 0x292202ef148>],\n",
       " <a list of 10 Text yticklabel objects>)"
      ]
     },
     "execution_count": 5,
     "metadata": {},
     "output_type": "execute_result"
    },
    {
     "data": {
      "image/png": "[encoded data removed]",
      "text/plain": [
       "<Figure size 2304x1152 with 6 Axes>"
      ]
     },
     "metadata": {
      "needs_background": "light"
     },
     "output_type": "display_data"
    }
   ],
   "source": [
    "train = train_Hips[train_Label == 7][904]\n",
    "subway = val_Hips[val_Label == 7][100]\n",
    "\n",
    "plt.figure(figsize=(32, 16))\n",
    "plt.rcParams['image.cmap'] = 'viridis'\n",
    "\n",
    "plt.subplot(2, 2, 1)\n",
    "f, t, Sxx1 = signal.spectrogram(train, fs=100, nfft=255, nperseg=255, noverlap=245)\n",
    "print(Sxx1.shape)\n",
    "plt.grid(False)\n",
    "Sxx1 = (Sxx1 - Sxx1.mean(axis=1, keepdims=True)) / Sxx1.std(axis=1, keepdims=True)\n",
    "plt.pcolormesh(t, f, Sxx1)\n",
    "plt.colorbar()\n",
    "plt.yticks(np.arange(0, 50, 5))\n",
    "\n",
    "plt.subplot(2, 2, 2)\n",
    "f, t, Sxx = signal.spectrogram(subway - subway.mean(), fs=100, nfft=255, nperseg=255, noverlap=245)\n",
    "print(Sxx.shape)\n",
    "plt.grid(False)\n",
    "Sxx = (Sxx - Sxx.mean(axis=1, keepdims=True)) / Sxx.std(axis=1, keepdims=True)\n",
    "plt.pcolormesh(t, f, Sxx)\n",
    "plt.colorbar()\n",
    "plt.yticks(np.arange(0, 50, 5))\n",
    "\n",
    "plt.subplot(2, 2, 3)\n",
    "plt.grid(False)\n",
    "plt.pcolormesh(t, f, np.abs(Sxx1 - Sxx))\n",
    "plt.colorbar()\n",
    "plt.yticks(np.arange(0, 50, 5))"
   ]
  },
  {
   "cell_type": "code",
   "execution_count": 18,
   "metadata": {},
   "outputs": [],
   "source": [
    "def spectram(x):\n",
    "    x = signal.spectrogram(x - x.mean(), fs=100, nfft=255, nperseg=255, noverlap=245)[2]\n",
    "    x = (x - x.mean(axis=0, keepdims=True)) / x.std(axis=0, keepdims=True)\n",
    "    return x"
   ]
  },
  {
   "cell_type": "code",
   "execution_count": 27,
   "metadata": {},
   "outputs": [
    {
     "name": "stdout",
     "output_type": "stream",
     "text": [
      "Wall time: 33 s\n"
     ]
    },
    {
     "data": {
      "text/plain": [
       "(28685, 128, 25)"
      ]
     },
     "execution_count": 27,
     "metadata": {},
     "output_type": "execute_result"
    }
   ],
   "source": [
    "%%time\n",
    "Bag = np.apply_along_axis(spectram, 1, Bag)\n",
    "Hips = np.apply_along_axis(spectram, 1, Hips)\n",
    "Torso = np.apply_along_axis(spectram, 1, Torso)\n",
    "Hand = np.apply_along_axis(spectram, 1, Hand)\n",
    "\n",
    "Bag.shape"
   ]
  },
  {
   "cell_type": "code",
   "execution_count": 20,
   "metadata": {},
   "outputs": [
    {
     "name": "stdout",
     "output_type": "stream",
     "text": [
      "Wall time: 20min 26s\n"
     ]
    }
   ],
   "source": [
    "%%time\n",
    "\n",
    "np.save(\"train_Bag_gyr_norm_spectram\", Bag)\n",
    "np.save(\"train_Hips_gyr_norm_spectram\", Hips)\n",
    "np.save(\"train_Torso_gyr_norm_spectram\", Torso)\n",
    "np.save(\"train_Hand_gyr_norm_spectram\", Hand)"
   ]
  },
  {
   "cell_type": "code",
   "execution_count": 25,
   "metadata": {},
   "outputs": [],
   "source": [
    "def load_numpy(hold_position):\n",
    "    file_path = \"../Data/センサ別npyファイル/validation/validation_\" + hold_position + \"/validation_\" + hold_position + \"_\"\n",
    "    sensor = np.load(file_path + \"Gyr.npy\")\n",
    "    sensor = np.sqrt(np.square(sensor[:, :, 0]) + np.square(sensor[:, :, 1]) + np.square(sensor[:, :, 2])).reshape([-1, 500])\n",
    "    return sensor"
   ]
  },
  {
   "cell_type": "code",
   "execution_count": 26,
   "metadata": {},
   "outputs": [
    {
     "data": {
      "text/plain": [
       "(28685, 500)"
      ]
     },
     "execution_count": 26,
     "metadata": {},
     "output_type": "execute_result"
    }
   ],
   "source": [
    "Bag = load_numpy(\"Bag\")\n",
    "Hips = load_numpy(\"Hips\")\n",
    "Torso = load_numpy(\"Torso\")\n",
    "Hand = load_numpy(\"Hand\")\n",
    "\n",
    "Bag.shape"
   ]
  },
  {
   "cell_type": "code",
   "execution_count": 28,
   "metadata": {},
   "outputs": [],
   "source": [
    "np.save(\"validation_Bag_gyr_norm_spectram\", Bag)\n",
    "np.save(\"validation_Hips_gyr_norm_spectram\", Hips)\n",
    "np.save(\"validation_Torso_gyr_norm_spectram\", Torso)\n",
    "np.save(\"validation_Hand_gyr_norm_spectram\", Hand)"
   ]
  },
  {
   "cell_type": "code",
   "execution_count": 32,
   "metadata": {},
   "outputs": [],
   "source": [
    "def load_numpy():\n",
    "    file_path = \"../Data/センサ別npyファイル/test/test_\"\n",
    "    sensor = np.load(file_path + \"Gyr.npy\")\n",
    "    sensor = np.sqrt(np.square(sensor[:, :, 0]) + np.square(sensor[:, :, 1]) + np.square(sensor[:, :, 2])).reshape([-1, 500])\n",
    "    return sensor"
   ]
  },
  {
   "cell_type": "code",
   "execution_count": 33,
   "metadata": {},
   "outputs": [
    {
     "data": {
      "text/plain": [
       "(57573, 128, 25)"
      ]
     },
     "execution_count": 33,
     "metadata": {},
     "output_type": "execute_result"
    }
   ],
   "source": [
    "test = load_numpy()\n",
    "test = np.apply_along_axis(spectram, 1, test)\n",
    "test.shape"
   ]
  },
  {
   "cell_type": "code",
   "execution_count": 34,
   "metadata": {},
   "outputs": [],
   "source": [
    "np.save(\"test_gyr_norm_spectram\", test)"
   ]
  },
  {
   "cell_type": "markdown",
   "metadata": {},
   "source": [
    "# FFT5Hzおきに最大値じゃなくて、合計値\n",
    "## プログラム書き換えて、Glo_LAcc-z、Glo_Gyr_ver2-z、Glo_Mag_ver2-normで作成"
   ]
  },
  {
   "cell_type": "code",
   "execution_count": 1,
   "metadata": {},
   "outputs": [
    {
     "data": {
      "text/html": [
       "<style>.container { width:90% !important; }</style>"
      ],
      "text/plain": [
       "<IPython.core.display.HTML object>"
      ]
     },
     "metadata": {},
     "output_type": "display_data"
    }
   ],
   "source": [
    "import numpy as np\n",
    "from scipy import stats\n",
    "import scipy.signal as signal\n",
    "\n",
    "import seaborn as sns\n",
    "sns.set(font='Yu Gothic')\n",
    "import matplotlib.pyplot as plt\n",
    "%matplotlib inline\n",
    "\n",
    "import pickle\n",
    "\n",
    "from IPython.core.display import display, HTML\n",
    "display(HTML(\"<style>.container { width:90% !important; }</style>\"))"
   ]
  },
  {
   "cell_type": "code",
   "execution_count": 3,
   "metadata": {},
   "outputs": [],
   "source": [
    "def fft(x):\n",
    "    frequency_range = [i for i in range(0, 275, 25)] # 0~50Hzを5Hz刻みでやる\n",
    "    for frequency in frequency_range:\n",
    "        for i in range(x.shape[0]):\n",
    "            x[i] = x[i] - np.mean(x[i])\n",
    "        x_tmp = np.abs(np.fft.fft(x, axis=1))\n",
    "        max_amplitude = np.sum(x_tmp[:, frequency:frequency+25], axis=1)\n",
    "        max_index = np.argmax(x_tmp[:, frequency:frequency+25], axis=1)\n",
    "        max_frequency = (max_index + frequency) * 0.2\n",
    "        result_tmp = np.concatenate([max_amplitude.reshape([-1, 1]), max_frequency.reshape([-1, 1])], axis=1)\n",
    "        try:\n",
    "            result = np.concatenate([result, result_tmp], axis=1)\n",
    "        except:\n",
    "            result = result_tmp.copy()\n",
    "    return result"
   ]
  },
  {
   "cell_type": "code",
   "execution_count": 14,
   "metadata": {},
   "outputs": [],
   "source": [
    "def load_numpy(hold_position):\n",
    "    x = np.load(\"../Data/センサ別npyファイル/train/train_\" + hold_position + \"/train_\" + hold_position + \"_Mag.npy\")\n",
    "    x = np.sqrt(np.square(x[:, :, 0]) + np.square(x[:, :, 1]) + np.square(x[:, :, 2])).reshape([-1, 500])\n",
    "    return x"
   ]
  },
  {
   "cell_type": "code",
   "execution_count": 26,
   "metadata": {},
   "outputs": [],
   "source": [
    "def load_numpy(hold_position):\n",
    "    x = np.load(\"../Data/センサ別npyファイル/validation/validation_\" + hold_position + \"/validation_\" + hold_position + \"_Mag.npy\")\n",
    "    x = np.sqrt(np.square(x[:, :, 0]) + np.square(x[:, :, 1]) + np.square(x[:, :, 2])).reshape([-1, 500])\n",
    "    return x"
   ]
  },
  {
   "cell_type": "code",
   "execution_count": 4,
   "metadata": {},
   "outputs": [],
   "source": [
    "test = np.load(\"../Data/センサ別npyファイル/test/test_Mag.npy\")\n",
    "test = np.sqrt(np.square(test[:, :, 0]) + np.square(test[:, :, 1]) + np.square(test[:, :, 2])).reshape([-1, 500])\n",
    "test = fft(test)\n",
    "np.save(\"test_mag_norm_sum_frequency_range5Hz\", test)"
   ]
  },
  {
   "cell_type": "code",
   "execution_count": 27,
   "metadata": {},
   "outputs": [
    {
     "data": {
      "text/plain": [
       "(28685, 500)"
      ]
     },
     "execution_count": 27,
     "metadata": {},
     "output_type": "execute_result"
    }
   ],
   "source": [
    "Bag = load_numpy('Bag')\n",
    "Hips = load_numpy(\"Hips\")\n",
    "Torso = load_numpy(\"Torso\")\n",
    "Hand = load_numpy(\"Hand\")\n",
    "\n",
    "Hand.shape"
   ]
  },
  {
   "cell_type": "code",
   "execution_count": 28,
   "metadata": {},
   "outputs": [
    {
     "data": {
      "text/plain": [
       "(28685, 22)"
      ]
     },
     "execution_count": 28,
     "metadata": {},
     "output_type": "execute_result"
    }
   ],
   "source": [
    "Bag_FFT = fft(Bag)\n",
    "Hips_FFT = fft(Hips)\n",
    "Torso_FFT = fft(Torso)\n",
    "Hand_FFT = fft(Hand)\n",
    "\n",
    "Hand_FFT.shape"
   ]
  },
  {
   "cell_type": "code",
   "execution_count": 24,
   "metadata": {},
   "outputs": [
    {
     "data": {
      "text/plain": [
       "(28685, 22)"
      ]
     },
     "execution_count": 24,
     "metadata": {},
     "output_type": "execute_result"
    }
   ],
   "source": [
    "Bag_FFT = fft(Bag[:, :, 2])\n",
    "Hips_FFT = fft(Hips[:, :, 2])\n",
    "Torso_FFT = fft(Torso[:, :, 2])\n",
    "Hand_FFT = fft(Hand[:, :, 2])\n",
    "\n",
    "Hand_FFT.shape"
   ]
  },
  {
   "cell_type": "code",
   "execution_count": 17,
   "metadata": {},
   "outputs": [],
   "source": [
    "np.save(\"train_Bag_mag_norm_sum_frequency_range5Hz\", Bag_FFT)\n",
    "np.save(\"train_Hips_mag_norm_sum_frequency_range5Hz\", Hips_FFT)\n",
    "np.save(\"train_Torso_mag_norm_sum_frequency_range5Hz\", Torso_FFT)\n",
    "np.save(\"train_Hand_mag_norm_sum_frequency_range5Hz\", Hand_FFT)"
   ]
  },
  {
   "cell_type": "code",
   "execution_count": 29,
   "metadata": {},
   "outputs": [],
   "source": [
    "np.save(\"validation_Bag_mag_norm_sum_frequency_range5Hz\", Bag_FFT)\n",
    "np.save(\"validation_Hips_mag_norm_sum_frequency_range5Hz\", Hips_FFT)\n",
    "np.save(\"validation_Torso_mag_norm_sum_frequency_range5Hz\", Torso_FFT)\n",
    "np.save(\"validation_Hand_mag_norm_sum_frequency_range5Hz\", Hand_FFT)"
   ]
  },
  {
   "cell_type": "markdown",
   "metadata": {},
   "source": [
    "# ラベルの変わり目を検出\n",
    "# 少しでも学習を最適化！"
   ]
  },
  {
   "cell_type": "code",
   "execution_count": 4,
   "metadata": {},
   "outputs": [
    {
     "data": {
      "text/html": [
       "<style>.container { width:90% !important; }</style>"
      ],
      "text/plain": [
       "<IPython.core.display.HTML object>"
      ]
     },
     "metadata": {},
     "output_type": "display_data"
    }
   ],
   "source": [
    "import numpy as np\n",
    "from scipy import stats\n",
    "import scipy.signal as signal\n",
    "\n",
    "import seaborn as sns\n",
    "sns.set(font='Yu Gothic')\n",
    "import matplotlib.pyplot as plt\n",
    "%matplotlib inline\n",
    "\n",
    "import pickle\n",
    "from tqdm import tqdm\n",
    "\n",
    "from IPython.core.display import display, HTML\n",
    "display(HTML(\"<style>.container { width:90% !important; }</style>\"))"
   ]
  },
  {
   "cell_type": "code",
   "execution_count": 20,
   "metadata": {},
   "outputs": [
    {
     "name": "stderr",
     "output_type": "stream",
     "text": [
      "100%|█████████████████████████████████████████████████████████████████████| 195490/195490 [00:00<00:00, 1696704.84it/s]"
     ]
    },
    {
     "name": "stdout",
     "output_type": "stream",
     "text": [
      "これはNaN\n"
     ]
    },
    {
     "name": "stderr",
     "output_type": "stream",
     "text": [
      "\n"
     ]
    }
   ],
   "source": [
    "Label = np.load(\"../Data/センサ別npyファイル/train/train_Bag/train_Bag_Label.npy\")[:, 0].reshape([-1])\n",
    "change_index = []\n",
    "for i in tqdm(range(len(Label)-1)):\n",
    "    if Label[i] != Label[i+1]:\n",
    "        if i == 120844 or i == 120845:\n",
    "            print(\"これはNaN\")\n",
    "        change_index.append(i+1)"
   ]
  },
  {
   "cell_type": "code",
   "execution_count": 13,
   "metadata": {},
   "outputs": [
    {
     "data": {
      "text/plain": [
       "625"
      ]
     },
     "execution_count": 13,
     "metadata": {},
     "output_type": "execute_result"
    }
   ],
   "source": [
    "len(change_index)"
   ]
  },
  {
   "cell_type": "code",
   "execution_count": 15,
   "metadata": {},
   "outputs": [],
   "source": [
    "change_before_index = []\n",
    "for i in range(len(change_index)):\n",
    "    change_before_index.append(change_index[i] - 1)"
   ]
  },
  {
   "cell_type": "code",
   "execution_count": 16,
   "metadata": {},
   "outputs": [
    {
     "data": {
      "text/plain": [
       "1250"
      ]
     },
     "execution_count": 16,
     "metadata": {},
     "output_type": "execute_result"
    }
   ],
   "source": [
    "for i in range(len(change_before_index)):\n",
    "    change_index.append(change_before_index[i])\n",
    "len(change_index)"
   ]
  },
  {
   "cell_type": "code",
   "execution_count": 14,
   "metadata": {},
   "outputs": [
    {
     "data": {
      "text/plain": [
       "(195491, 500)"
      ]
     },
     "execution_count": 14,
     "metadata": {},
     "output_type": "execute_result"
    }
   ],
   "source": [
    "train_Bag = np.load(\"../Data/センサ別npyファイル/train/train_Bag/train_Bag_Acc.npy\")[:, :, 0]\n",
    "train_Bag.shape"
   ]
  },
  {
   "cell_type": "code",
   "execution_count": 17,
   "metadata": {},
   "outputs": [
    {
     "data": {
      "text/plain": [
       "1251"
      ]
     },
     "execution_count": 17,
     "metadata": {},
     "output_type": "execute_result"
    }
   ],
   "source": [
    "change_index.append(120845)\n",
    "len(change_index)"
   ]
  },
  {
   "cell_type": "code",
   "execution_count": 18,
   "metadata": {},
   "outputs": [
    {
     "data": {
      "text/plain": [
       "(194241, 500)"
      ]
     },
     "execution_count": 18,
     "metadata": {},
     "output_type": "execute_result"
    }
   ],
   "source": [
    "train_Bag = np.delete(train_Bag, change_index, axis=0)\n",
    "train_Bag.shape"
   ]
  },
  {
   "cell_type": "code",
   "execution_count": 19,
   "metadata": {},
   "outputs": [
    {
     "data": {
      "text/plain": [
       "195492"
      ]
     },
     "execution_count": 19,
     "metadata": {},
     "output_type": "execute_result"
    }
   ],
   "source": [
    "194241 + 1251"
   ]
  },
  {
   "cell_type": "code",
   "execution_count": null,
   "metadata": {},
   "outputs": [],
   "source": []
  }
 ],
 "metadata": {
  "file_extension": ".py",
  "kernelspec": {
   "display_name": "Python 3",
   "language": "python",
   "name": "python3"
  },
  "language_info": {
   "codemirror_mode": {
    "name": "ipython",
    "version": 3
   },
   "file_extension": ".py",
   "mimetype": "text/x-python",
   "name": "python",
   "nbconvert_exporter": "python",
   "pygments_lexer": "ipython3",
   "version": "3.7.6"
  },
  "mimetype": "text/x-python",
  "name": "python",
  "npconvert_exporter": "python",
  "pygments_lexer": "ipython3",
  "version": 3
 },
 "nbformat": 4,
 "nbformat_minor": 4
}

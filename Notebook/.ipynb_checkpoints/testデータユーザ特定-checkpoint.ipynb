{
 "cells": [
  {
   "cell_type": "code",
   "execution_count": 44,
   "metadata": {},
   "outputs": [
    {
     "data": {
      "text/html": [
       "<style>.container { width:90% !important; }</style>"
      ],
      "text/plain": [
       "<IPython.core.display.HTML object>"
      ]
     },
     "metadata": {},
     "output_type": "display_data"
    }
   ],
   "source": [
    "import xgboost as xgb\n",
    "import numpy as np\n",
    "\n",
    "from sklearn.model_selection import train_test_split\n",
    "from sklearn.metrics import confusion_matrix\n",
    "from sklearn.metrics import f1_score\n",
    "from sklearn.model_selection import GridSearchCV\n",
    "\n",
    "import seaborn as sns\n",
    "sns.set(font='Yu Gothic')\n",
    "import matplotlib.pyplot as plt\n",
    "%matplotlib inline\n",
    "\n",
    "from IPython.core.display import display, HTML\n",
    "display(HTML(\"<style>.container { width:90% !important; }</style>\"))"
   ]
  },
  {
   "cell_type": "code",
   "execution_count": 2,
   "metadata": {},
   "outputs": [],
   "source": [
    "def load_npy(hold_position):\n",
    "    file_path = \"../Output/validation/validation_\" + hold_position + \"/validation_\" + hold_position\n",
    "    xy_mean = np.load(file_path + \"_glo_laccel_xy_mean.npy\")\n",
    "    xy_var = np.load(file_path + \"_glo_laccel_xy_var.npy\")\n",
    "    z_mean = np.load(file_path + \"_glo_laccel_z_mean.npy\")\n",
    "    z_var = np.load(file_path + \"_glo_laccel_z_var.npy\")\n",
    "    z_skew = np.load(file_path + \"_glo_laccel_z_skew.npy\")\n",
    "    z_kurtosis = np.load(file_path + \"_glo_laccel_z_kurtosis.npy\")\n",
    "    z_lacc_FFT = np.load(file_path + \"_glo_laccel_z_amplitude_frequency_range5Hz.npy\")[:, 0:-1:2]\n",
    "    z_gyro_FFT = np.load(file_path + \"_glo_gyro_z_amplitude_frequency_range5Hz.npy\")[:, 0:-1:2]\n",
    "    result = np.concatenate([xy_mean.reshape([-1, 1]), xy_var.reshape([-1, 1]), z_mean.reshape([-1, 1]), z_var.reshape([-1, 1]), z_skew.reshape([-1, 1]), z_kurtosis.reshape([-1, 1]), z_lacc_FFT, z_gyro_FFT], axis=1)\n",
    "    del xy_mean, xy_var, z_mean, z_var, z_skew, z_kurtosis, z_gyro_FFT\n",
    "    return result"
   ]
  },
  {
   "cell_type": "code",
   "execution_count": 3,
   "metadata": {},
   "outputs": [
    {
     "data": {
      "text/plain": [
       "(28685, 28)"
      ]
     },
     "execution_count": 3,
     "metadata": {},
     "output_type": "execute_result"
    }
   ],
   "source": [
    "Bag = load_npy(\"Bag\")\n",
    "Hips = load_npy(\"Hips\")\n",
    "Torso = load_npy(\"Torso\")\n",
    "Hand = load_npy(\"Hand\")\n",
    "\n",
    "Hand.shape"
   ]
  },
  {
   "cell_type": "code",
   "execution_count": 4,
   "metadata": {},
   "outputs": [
    {
     "data": {
      "text/plain": [
       "(28685, 1)"
      ]
     },
     "execution_count": 4,
     "metadata": {},
     "output_type": "execute_result"
    }
   ],
   "source": [
    "user_label = np.load(\"../Data/センサ別npyファイル/validation/validation_UserLabel.npy\")\n",
    "user_label.shape"
   ]
  },
  {
   "cell_type": "code",
   "execution_count": 13,
   "metadata": {},
   "outputs": [
    {
     "data": {
      "text/plain": [
       "((14813, 28), (13872, 28))"
      ]
     },
     "execution_count": 13,
     "metadata": {},
     "output_type": "execute_result"
    }
   ],
   "source": [
    "user2_Bag = Bag[:14813].copy()\n",
    "user2_Hips = Hips[:14813].copy()\n",
    "user2_Torso = Torso[:14813].copy()\n",
    "user2_Hand = Hand[:14813].copy()\n",
    "\n",
    "user3_Bag = Bag[14813:].copy()\n",
    "user3_Hips = Hips[14813:]\n",
    "user3_Torso = Torso[14813:]\n",
    "user3_Hand = Hand[14813:]\n",
    "\n",
    "user2_Hand.shape, user3_Hand.shape"
   ]
  },
  {
   "cell_type": "code",
   "execution_count": 11,
   "metadata": {},
   "outputs": [],
   "source": [
    "X = np.concatenate([Bag, Hips, Torso, Hand], axis=0)\n",
    "x_mean = X.mean()\n",
    "x_std = X.std()"
   ]
  },
  {
   "cell_type": "code",
   "execution_count": 12,
   "metadata": {},
   "outputs": [],
   "source": [
    "def spliter(x):\n",
    "    x_train, x_val = train_test_split(x, test_size=0.3, shuffle=False)\n",
    "    return x_train, x_val"
   ]
  },
  {
   "cell_type": "code",
   "execution_count": 15,
   "metadata": {},
   "outputs": [
    {
     "data": {
      "text/plain": [
       "((10369, 28), (4444, 28), (9710, 28), (4162, 28))"
      ]
     },
     "execution_count": 15,
     "metadata": {},
     "output_type": "execute_result"
    }
   ],
   "source": [
    "user2_Bag_train, user2_Bag_val = spliter(user2_Bag)\n",
    "user2_Hips_train, user2_Hips_val = spliter(user2_Hips)\n",
    "user2_Torso_train, user2_Torso_val = spliter(user2_Torso)\n",
    "user2_Hand_train, user2_Hand_val = spliter(user2_Hand)\n",
    "\n",
    "user3_Bag_train, user3_Bag_val = spliter(user3_Bag)\n",
    "user3_Hips_train, user3_Hips_val = spliter(user3_Hips)\n",
    "user3_Torso_train, user3_Torso_val = spliter(user3_Torso)\n",
    "user3_Hand_train, user3_Hand_val = spliter(user3_Hand)\n",
    "\n",
    "user2_Bag_train.shape, user2_Bag_val.shape, user3_Bag_train.shape, user3_Bag_val.shape"
   ]
  },
  {
   "cell_type": "code",
   "execution_count": 16,
   "metadata": {},
   "outputs": [
    {
     "data": {
      "text/plain": [
       "((80316, 28), (34424, 28))"
      ]
     },
     "execution_count": 16,
     "metadata": {},
     "output_type": "execute_result"
    }
   ],
   "source": [
    "X_train = np.concatenate([user2_Bag_train, user2_Hips_train, user2_Torso_train, user2_Hand_train, user3_Bag_train, user3_Hips_train, user3_Torso_train, user3_Hand_train])\n",
    "X_val = np.concatenate([user2_Bag_val, user2_Hips_val, user2_Torso_val, user2_Hand_val, user3_Bag_val, user3_Hips_val, user3_Torso_val, user3_Hand_val])\n",
    "\n",
    "X_train.shape, X_val.shape"
   ]
  },
  {
   "cell_type": "code",
   "execution_count": 17,
   "metadata": {},
   "outputs": [],
   "source": [
    "X_train = (X_train - x_mean) / x_std\n",
    "X_val = (X_val - x_mean) / x_std"
   ]
  },
  {
   "cell_type": "code",
   "execution_count": 20,
   "metadata": {},
   "outputs": [
    {
     "data": {
      "text/plain": [
       "((80316, 1), (34424, 1))"
      ]
     },
     "execution_count": 20,
     "metadata": {},
     "output_type": "execute_result"
    }
   ],
   "source": [
    "Y_train = [0] * 10369 * 4 + [1] * 9710 * 4\n",
    "Y_val = [0] * 4444 * 4 + [1] * 4162 * 4\n",
    "\n",
    "Y_train = np.array(Y_train).reshape([-1, 1])\n",
    "Y_val = np.array(Y_val).reshape([-1, 1])\n",
    "\n",
    "Y_train.shape, Y_val.shape"
   ]
  },
  {
   "cell_type": "code",
   "execution_count": 21,
   "metadata": {},
   "outputs": [
    {
     "name": "stderr",
     "output_type": "stream",
     "text": [
      "C:\\Users\\Owner\\Anaconda3\\envs\\GPU\\lib\\site-packages\\sklearn\\preprocessing\\_label.py:235: DataConversionWarning: A column-vector y was passed when a 1d array was expected. Please change the shape of y to (n_samples, ), for example using ravel().\n",
      "  y = column_or_1d(y, warn=True)\n",
      "C:\\Users\\Owner\\Anaconda3\\envs\\GPU\\lib\\site-packages\\sklearn\\preprocessing\\_label.py:268: DataConversionWarning: A column-vector y was passed when a 1d array was expected. Please change the shape of y to (n_samples, ), for example using ravel().\n",
      "  y = column_or_1d(y, warn=True)\n"
     ]
    },
    {
     "data": {
      "text/plain": [
       "XGBClassifier(base_score=0.5, booster=None, colsample_bylevel=1,\n",
       "              colsample_bynode=1, colsample_bytree=1.0, gamma=0.1, gpu_id=0,\n",
       "              importance_type='gain', interaction_constraints=None,\n",
       "              learning_rate=0.1, max_delta_step=0, max_depth=18,\n",
       "              min_child_weight=7, missing=nan, monotone_constraints=None,\n",
       "              n_estimators=100, n_jobs=-1, num_parallel_tree=1,\n",
       "              objective='binary:logistic', random_state=0, reg_alpha=0,\n",
       "              reg_lambda=1, scale_pos_weight=1, sub_sample=1.0, subsample=1,\n",
       "              tree_method='gpu_hist', validate_parameters=False,\n",
       "              verbosity=None)"
      ]
     },
     "execution_count": 21,
     "metadata": {},
     "output_type": "execute_result"
    }
   ],
   "source": [
    "model = xgb.XGBClassifier(max_depth=18, min_child_weight=7, learning_rate=0.1, \n",
    "                          n_jobs=-1, tree_method='gpu_hist', gpu_id=0,\n",
    "                         gamma=0.1, sub_sample=1.0, colsample_bytree=1.0)\n",
    "model.fit(X_train, Y_train)"
   ]
  },
  {
   "cell_type": "code",
   "execution_count": 24,
   "metadata": {},
   "outputs": [],
   "source": [
    "def plot_confusion_matrix(test_y,pred_y,class_names,normalize=False, figsize=(16, 8)):\n",
    "    cm = confusion_matrix(test_y,pred_y)\n",
    "    # classes = class_names[unique_labels(test_y,pred_y)]\n",
    "    if normalize:\n",
    "        cm = cm.astype('float') / cm.sum(axis=1)[:, np.newaxis]\n",
    "    fig, ax = plt.subplots(figsize=figsize)\n",
    "    im = ax.imshow(cm, interpolation='nearest', cmap=plt.cm.Blues)\n",
    "    ax.figure.colorbar(im, ax=ax)\n",
    "    ax.set(xticks=np.arange(cm.shape[1]),\n",
    "           yticks=np.arange(cm.shape[0]),\n",
    "           xticklabels=class_names,\n",
    "           yticklabels=class_names,\n",
    "           ylabel='True label\\n',\n",
    "           xlabel='\\nPredicted label')\n",
    "    fmt = '.2f' if normalize else 'd'\n",
    "    for i in range(cm.shape[0]):\n",
    "        for j in range(cm.shape[1]):\n",
    "            ax.text(j,\n",
    "                    i,\n",
    "                    format(cm[i, j], fmt),\n",
    "                    ha=\"center\",\n",
    "                    va=\"center\",\n",
    "                    color=\"red\", fontsize=16)\n",
    "    fig.tight_layout()\n",
    "    return ax"
   ]
  },
  {
   "cell_type": "code",
   "execution_count": 28,
   "metadata": {},
   "outputs": [
    {
     "data": {
      "image/png": "[encoded data removed]",
      "text/plain": [
       "<Figure size 432x432 with 2 Axes>"
      ]
     },
     "metadata": {
      "needs_background": "light"
     },
     "output_type": "display_data"
    }
   ],
   "source": [
    "class_names = ['User2', 'User3']\n",
    "\n",
    "predict = model.predict(X_val)\n",
    "plot_confusion_matrix(Y_val, predict, class_names, True, figsize=(6, 6))\n",
    "plt.grid(False)"
   ]
  },
  {
   "cell_type": "code",
   "execution_count": 40,
   "metadata": {},
   "outputs": [
    {
     "data": {
      "text/plain": [
       "((114740, 28), (114740, 1))"
      ]
     },
     "execution_count": 40,
     "metadata": {},
     "output_type": "execute_result"
    }
   ],
   "source": [
    "X = np.concatenate([X_train, X_val], axis=0)\n",
    "Y = np.concatenate([Y_train, Y_val], axis=0)\n",
    "\n",
    "X.shape, Y.shape"
   ]
  },
  {
   "cell_type": "code",
   "execution_count": 41,
   "metadata": {},
   "outputs": [
    {
     "name": "stderr",
     "output_type": "stream",
     "text": [
      "C:\\Users\\Owner\\Anaconda3\\envs\\GPU\\lib\\site-packages\\sklearn\\preprocessing\\_label.py:235: DataConversionWarning: A column-vector y was passed when a 1d array was expected. Please change the shape of y to (n_samples, ), for example using ravel().\n",
      "  y = column_or_1d(y, warn=True)\n",
      "C:\\Users\\Owner\\Anaconda3\\envs\\GPU\\lib\\site-packages\\sklearn\\preprocessing\\_label.py:268: DataConversionWarning: A column-vector y was passed when a 1d array was expected. Please change the shape of y to (n_samples, ), for example using ravel().\n",
      "  y = column_or_1d(y, warn=True)\n"
     ]
    },
    {
     "data": {
      "text/plain": [
       "XGBClassifier(base_score=0.5, booster=None, colsample_bylevel=1,\n",
       "              colsample_bynode=1, colsample_bytree=1.0, gamma=0.1, gpu_id=0,\n",
       "              importance_type='gain', interaction_constraints=None,\n",
       "              learning_rate=0.1, max_delta_step=0, max_depth=18,\n",
       "              min_child_weight=7, missing=nan, monotone_constraints=None,\n",
       "              n_estimators=100, n_jobs=-1, num_parallel_tree=1,\n",
       "              objective='binary:logistic', random_state=0, reg_alpha=0,\n",
       "              reg_lambda=1, scale_pos_weight=1, sub_sample=1.0, subsample=1,\n",
       "              tree_method='gpu_hist', validate_parameters=False,\n",
       "              verbosity=None)"
      ]
     },
     "execution_count": 41,
     "metadata": {},
     "output_type": "execute_result"
    }
   ],
   "source": [
    "model2 = xgb.XGBClassifier(max_depth=18, min_child_weight=7, learning_rate=0.1, \n",
    "                          n_jobs=-1, tree_method='gpu_hist', gpu_id=0,\n",
    "                         gamma=0.1, sub_sample=1.0, colsample_bytree=1.0)\n",
    "model2.fit(X, Y)"
   ]
  },
  {
   "cell_type": "code",
   "execution_count": 29,
   "metadata": {},
   "outputs": [],
   "source": [
    "def load_npy():\n",
    "    file_path = \"../Output/test/test\"\n",
    "    xy_mean = np.load(file_path + \"_glo_laccel_xy_mean.npy\")\n",
    "    xy_var = np.load(file_path + \"_glo_laccel_xy_var.npy\")\n",
    "    z_mean = np.load(file_path + \"_glo_laccel_z_mean.npy\")\n",
    "    z_var = np.load(file_path + \"_glo_laccel_z_var.npy\")\n",
    "    z_skew = np.load(file_path + \"_glo_laccel_z_skew.npy\")\n",
    "    z_kurtosis = np.load(file_path + \"_glo_laccel_z_kurtosis.npy\")\n",
    "    z_lacc_FFT = np.load(file_path + \"_glo_laccel_z_amplitude_frequency_range5Hz.npy\")[:, 0:-1:2]\n",
    "    z_gyro_FFT = np.load(file_path + \"_glo_gyro_z_amplitude_frequency_range5Hz.npy\")[:, 0:-1:2]\n",
    "    result = np.concatenate([xy_mean.reshape([-1, 1]), xy_var.reshape([-1, 1]), z_mean.reshape([-1, 1]), z_var.reshape([-1, 1]), z_skew.reshape([-1, 1]), z_kurtosis.reshape([-1, 1]), z_lacc_FFT, z_gyro_FFT], axis=1)\n",
    "    del xy_mean, xy_var, z_mean, z_var, z_skew, z_kurtosis, z_gyro_FFT\n",
    "    return result"
   ]
  },
  {
   "cell_type": "code",
   "execution_count": 36,
   "metadata": {},
   "outputs": [],
   "source": [
    "test = load_npy()\n",
    "test = (test - x_mean) / x_std"
   ]
  },
  {
   "cell_type": "code",
   "execution_count": 37,
   "metadata": {},
   "outputs": [
    {
     "name": "stdout",
     "output_type": "stream",
     "text": [
      "User2：41816\n",
      "User3：15757\n"
     ]
    }
   ],
   "source": [
    "predict = model.predict(test)\n",
    "\n",
    "for i in range(len(class_names)):\n",
    "    print(\"{}：{}\".format(class_names[i], np.sum(predict==i)))"
   ]
  },
  {
   "cell_type": "code",
   "execution_count": 42,
   "metadata": {},
   "outputs": [
    {
     "name": "stdout",
     "output_type": "stream",
     "text": [
      "User2：39308\n",
      "User3：18265\n"
     ]
    }
   ],
   "source": [
    "predict = model2.predict(test)\n",
    "\n",
    "for i in range(len(class_names)):\n",
    "    print(\"{}：{}\".format(class_names[i], np.sum(predict==i)))"
   ]
  },
  {
   "cell_type": "code",
   "execution_count": null,
   "metadata": {},
   "outputs": [],
   "source": [
    "best_f1_score = 0\n",
    "best_param = {}\n",
    "\n",
    "max_depth = [16, 18, 20, 22]\n",
    "min_child_weight = [4,7,10,13]\n",
    "count = 1\n",
    "for i in max_depth:\n",
    "    for j in min_child_weight:\n",
    "        model = xgb.XGBClassifier(max_depth=i, min_child_weight=j, learning_rate=0.1,\n",
    "                                  n_jobs=-1, tree_method='gpu_hist', gpu_id=0)\n",
    "        model.fit(X_train, Y_train)\n",
    "        print(\"{}回終わった\".format(count))\n",
    "        count += 1\n",
    "        predict = model.predict(X_val)\n",
    "        f1_macro = f1_score(Y_val, predict, average='macro')\n",
    "        print({'max_depth': i, 'min_child_weight': j}, f1_macro)\n",
    "        if f1_macro > best_f1_score:\n",
    "            best_f1_score = f1_macro\n",
    "            best_param = {'max_depth': i, 'min_child_weight': j}\n",
    "\n",
    "print(round(best_f1_score, 3))\n",
    "print(best_param)\n",
    "\n",
    "# param = {\n",
    "#     \"max_depth\":[i for i in range(3, 16, 3)], \"min_child_weight\":[i for i in range(6, 13, 2)]\n",
    "#     # \"gamma\":[0.01, 0.05, 0.075, 0.1]\n",
    "#     # \"subsample\":[0.70, 0.75, 0.80, 0.85, 0.90, 0.95, 1.00], \"colsample_bytree\":[0.70, 0.75, 0.80, 0.85, 0.90, 0.95, 1.00]\n",
    "#     # \"n_estimators\":[250, 500, 750], \"learning_rate\":[0.05, 0.1]\n",
    "#     # \"reg_alpha\":[0.1, 0.25, 0.5, 0.75]\n",
    "# }"
   ]
  },
  {
   "cell_type": "code",
   "execution_count": null,
   "metadata": {},
   "outputs": [],
   "source": []
  }
 ],
 "metadata": {
  "kernelspec": {
   "display_name": "Python 3",
   "language": "python",
   "name": "python3"
  },
  "language_info": {
   "codemirror_mode": {
    "name": "ipython",
    "version": 3
   },
   "file_extension": ".py",
   "mimetype": "text/x-python",
   "name": "python",
   "nbconvert_exporter": "python",
   "pygments_lexer": "ipython3",
   "version": "3.7.6"
  }
 },
 "nbformat": 4,
 "nbformat_minor": 4
}

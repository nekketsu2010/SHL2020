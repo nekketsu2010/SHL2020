{
 "cells": [
  {
   "cell_type": "code",
   "execution_count": 1,
   "metadata": {},
   "outputs": [
    {
     "data": {
      "text/html": [
       "<style>.container { width:90% !important; }</style>"
      ],
      "text/plain": [
       "<IPython.core.display.HTML object>"
      ]
     },
     "metadata": {},
     "output_type": "display_data"
    }
   ],
   "source": [
    "import numpy as np\n",
    "import os\n",
    "import random\n",
    "import scipy\n",
    "from scipy import signal\n",
    "from numpy.fft import fft\n",
    "from sklearn.metrics import confusion_matrix\n",
    "from sklearn.metrics import f1_score\n",
    "\n",
    "import tensorflow as tf\n",
    "from tensorflow.keras import layers, models\n",
    "from tensorflow.keras.initializers import he_normal\n",
    "from tensorflow.python.keras.utils.vis_utils import plot_model\n",
    "\n",
    "from sklearn.model_selection import train_test_split\n",
    "\n",
    "import pandas as pd\n",
    "import pickle\n",
    "from tqdm import tqdm\n",
    "\n",
    "import seaborn as sns\n",
    "sns.set(font='Yu Gothic')\n",
    "import matplotlib.pyplot as plt\n",
    "%matplotlib inline\n",
    "\n",
    "from IPython.core.display import display, HTML\n",
    "display(HTML(\"<style>.container { width:90% !important; }</style>\"))"
   ]
  },
  {
   "cell_type": "markdown",
   "metadata": {},
   "source": [
    "## validation用のpattern2データ読み込み"
   ]
  },
  {
   "cell_type": "code",
   "execution_count": 2,
   "metadata": {},
   "outputs": [
    {
     "data": {
      "text/plain": [
       "(28685,)"
      ]
     },
     "execution_count": 2,
     "metadata": {},
     "output_type": "execute_result"
    }
   ],
   "source": [
    "pattern_file = np.load(\"validation_pattern2.npy\")\n",
    "pattern_file.shape"
   ]
  },
  {
   "cell_type": "code",
   "execution_count": 3,
   "metadata": {},
   "outputs": [],
   "source": [
    "def plot_confusion_matrix(test_y,pred_y,class_names,normalize=False, figsize=(16, 8)):\n",
    "    cm = confusion_matrix(test_y,pred_y)\n",
    "    # classes = class_names[unique_labels(test_y,pred_y)]\n",
    "    if normalize:\n",
    "        cm = cm.astype('float') / cm.sum(axis=1)[:, np.newaxis]\n",
    "    fig, ax = plt.subplots(figsize=figsize)\n",
    "    im = ax.imshow(cm, interpolation='nearest', cmap=plt.cm.Blues)\n",
    "    ax.figure.colorbar(im, ax=ax)\n",
    "    ax.set(xticks=np.arange(cm.shape[1]),\n",
    "           yticks=np.arange(cm.shape[0]),\n",
    "           xticklabels=class_names,\n",
    "           yticklabels=class_names,\n",
    "           ylabel='True label\\n',\n",
    "           xlabel='\\nPredicted label')\n",
    "    fmt = '.2f' if normalize else 'd'\n",
    "    for i in range(cm.shape[0]):\n",
    "        for j in range(cm.shape[1]):\n",
    "            ax.text(j,\n",
    "                    i,\n",
    "                    format(cm[i, j], fmt),\n",
    "                    ha=\"center\",\n",
    "                    va=\"center\",\n",
    "                    color=\"red\", fontsize=16)\n",
    "    fig.tight_layout()\n",
    "    return ax"
   ]
  },
  {
   "cell_type": "code",
   "execution_count": null,
   "metadata": {},
   "outputs": [],
   "source": [
    "train_Label = np.load(\"../Data/センサ別npyファイル/train/train_Bag/train_Bag_LAbel.npy\")[:, 0]\n",
    "Y_train = train_Label.reshape([-1])\n",
    "del train_Label\n",
    "Y_train.shape"
   ]
  },
  {
   "cell_type": "code",
   "execution_count": null,
   "metadata": {},
   "outputs": [],
   "source": [
    "val_label = np.load(\"../Data/センサ別npyファイル/validation/validation_Bag/validation_Bag_Label.npy\")[:, 0]\n",
    "Y_val = val_label[pattern_file == 1].reshape([-1])\n",
    "del val_label\n",
    "Y_val.shape"
   ]
  },
  {
   "cell_type": "code",
   "execution_count": 4,
   "metadata": {},
   "outputs": [
    {
     "data": {
      "text/plain": [
       "(14338,)"
      ]
     },
     "execution_count": 4,
     "metadata": {},
     "output_type": "execute_result"
    }
   ],
   "source": [
    "val_label = np.load(\"../Data/センサ別npyファイル/validation/validation_Bag/validation_Bag_Label.npy\")[:, 0]\n",
    "Y_train = val_label[pattern_file == 1].reshape([-1])\n",
    "del val_label\n",
    "Y_train.shape"
   ]
  },
  {
   "cell_type": "code",
   "execution_count": 5,
   "metadata": {},
   "outputs": [
    {
     "data": {
      "text/plain": [
       "(5696,)"
      ]
     },
     "execution_count": 5,
     "metadata": {},
     "output_type": "execute_result"
    }
   ],
   "source": [
    "val_label = np.load(\"../Data/センサ別npyファイル/validation/validation_Bag/validation_Bag_Label.npy\")[:, 0]\n",
    "Y_val = val_label[pattern_file == 0].reshape([-1])\n",
    "del val_label\n",
    "Y_val.shape"
   ]
  },
  {
   "cell_type": "markdown",
   "metadata": {},
   "source": [
    "## 削除するインデックスの処理"
   ]
  },
  {
   "cell_type": "code",
   "execution_count": 6,
   "metadata": {},
   "outputs": [
    {
     "name": "stderr",
     "output_type": "stream",
     "text": [
      "100%|████████████████████████████████████████████████████████████████████████| 14337/14337 [00:00<00:00, 939721.78it/s]\n"
     ]
    },
    {
     "data": {
      "text/plain": [
       "106"
      ]
     },
     "execution_count": 6,
     "metadata": {},
     "output_type": "execute_result"
    }
   ],
   "source": [
    "train_change_index = []\n",
    "for i in tqdm(range(len(Y_train)-1)):\n",
    "    if Y_train[i] != Y_train[i+1]:\n",
    "        train_change_index.append(i+1)\n",
    "        \n",
    "change_before_index = []\n",
    "for i in range(len(train_change_index)):\n",
    "    change_before_index.append(train_change_index[i] - 1)\n",
    "    \n",
    "for i in range(len(change_before_index)):\n",
    "    train_change_index.append(change_before_index[i])\n",
    "len(train_change_index)"
   ]
  },
  {
   "cell_type": "code",
   "execution_count": 7,
   "metadata": {},
   "outputs": [
    {
     "data": {
      "text/plain": [
       "((14232,), (10207,))"
      ]
     },
     "execution_count": 7,
     "metadata": {},
     "output_type": "execute_result"
    }
   ],
   "source": [
    "Y_train = np.delete(Y_train, train_change_index, axis=0)\n",
    "Y_train.shape, Y_train[(Y_train == 1) | (Y_train == 5) | (Y_train == 6) | (Y_train == 7) | (Y_train == 8)].shape"
   ]
  },
  {
   "cell_type": "code",
   "execution_count": 8,
   "metadata": {},
   "outputs": [
    {
     "name": "stderr",
     "output_type": "stream",
     "text": [
      "100%|██████████████████████████████████████████████████████████████████████████████████████| 5695/5695 [00:00<?, ?it/s]\n"
     ]
    },
    {
     "data": {
      "text/plain": [
       "62"
      ]
     },
     "execution_count": 8,
     "metadata": {},
     "output_type": "execute_result"
    }
   ],
   "source": [
    "val_change_index = []\n",
    "for i in tqdm(range(len(Y_val)-1)):\n",
    "    if Y_val[i] != Y_val[i+1]:\n",
    "        val_change_index.append(i+1)\n",
    "        \n",
    "change_before_index = []\n",
    "for i in range(len(val_change_index)):\n",
    "    change_before_index.append(val_change_index[i] - 1)\n",
    "    \n",
    "for i in range(len(change_before_index)):\n",
    "    val_change_index.append(change_before_index[i])\n",
    "len(val_change_index)"
   ]
  },
  {
   "cell_type": "code",
   "execution_count": 9,
   "metadata": {},
   "outputs": [
    {
     "data": {
      "text/plain": [
       "((5634,), (4037,))"
      ]
     },
     "execution_count": 9,
     "metadata": {},
     "output_type": "execute_result"
    }
   ],
   "source": [
    "Y_val = np.delete(Y_val, val_change_index, axis=0)\n",
    "Y_val.shape, Y_val[(Y_val == 1) | (Y_val == 5) | (Y_val == 6) | (Y_val == 7) | (Y_val == 8)].shape"
   ]
  },
  {
   "cell_type": "code",
   "execution_count": null,
   "metadata": {},
   "outputs": [],
   "source": [
    "def load_npy(hold_position):\n",
    "    mag = np.delete(np.load(\"../Output/train/train_\" + hold_position + \"/train_\" + hold_position + \"_glo_mag_norm_spectram_axis1_2.npy\"), train_change_index, 0)#[:, :40, :]\n",
    "#     mag = mag[(Y_train.reshape([-1]) == 1) | (Y_train.reshape([-1]) >= 4)]\n",
    "    return mag"
   ]
  },
  {
   "cell_type": "code",
   "execution_count": null,
   "metadata": {},
   "outputs": [],
   "source": [
    "train_Hips = load_npy(\"Hips\")\n",
    "# train_Hips, X_val1 = train_test_split(train_Hips, test_size=0.2, shuffle=False)\n",
    "X_train1 = train_Hips[(Y_train == 1) | (Y_train == 5) | (Y_train == 6) | (Y_train == 7) | (Y_train == 8)]\n",
    "X_train1 = X_train1.reshape([-1, X_train1.shape[1], X_train1.shape[2], 1])\n",
    "\n",
    "X_train1.shape"
   ]
  },
  {
   "cell_type": "code",
   "execution_count": null,
   "metadata": {},
   "outputs": [],
   "source": [
    "def load_npy(hold_position):\n",
    "    mag = np.load(\"../Output/validation/validation_\" + hold_position + \"/validation_\" + hold_position + \"_glo_mag_norm_spectram_axis1_2.npy\")#[:, :40, :]\n",
    "    return mag\n",
    "\n",
    "train_Hips = np.delete(load_npy(\"Hips\")[pattern_file == 1], val_change_index, axis=0)\n",
    "\n",
    "X_val1 = train_Hips[(Y_val == 1) | (Y_val == 5) | (Y_val == 6) | (Y_val == 7) | (Y_val == 8)]\n",
    "X_val1 = X_val1.reshape([-1, X_val1.shape[1], X_val1.shape[2], 1])\n",
    "\n",
    "X_val1.shape"
   ]
  },
  {
   "cell_type": "code",
   "execution_count": 10,
   "metadata": {},
   "outputs": [
    {
     "data": {
      "text/plain": [
       "((10207, 41, 43, 1), (4037, 41, 43, 1))"
      ]
     },
     "execution_count": 10,
     "metadata": {},
     "output_type": "execute_result"
    }
   ],
   "source": [
    "def load_npy(hold_position):\n",
    "    mag = np.load(\"../Output/validation/validation_\" + hold_position + \"/validation_\" + hold_position + \"_glo_mag_norm_spectram_axis1_2.npy\")#[:, :40, :]\n",
    "    return mag\n",
    "\n",
    "train_Hips = np.delete(load_npy(\"Hips\")[pattern_file == 1], train_change_index, axis=0)\n",
    "X_train1 = train_Hips[(Y_train == 1) | (Y_train == 5) | (Y_train == 6) | (Y_train == 7) | (Y_train == 8)]\n",
    "X_train1 = X_train1.reshape([-1, X_train1.shape[1], X_train1.shape[2], 1])\n",
    "\n",
    "train_Hips = np.delete(load_npy(\"Hips\")[pattern_file == 0], val_change_index, axis=0)\n",
    "X_val1 = train_Hips[(Y_val == 1) | (Y_val == 5) | (Y_val == 6) | (Y_val == 7) | (Y_val == 8)]\n",
    "X_val1 = X_val1.reshape([-1, X_val1.shape[1], X_val1.shape[2], 1])\n",
    "\n",
    "X_train1.shape, X_val1.shape"
   ]
  },
  {
   "cell_type": "code",
   "execution_count": 11,
   "metadata": {},
   "outputs": [],
   "source": [
    "del train_Hips"
   ]
  },
  {
   "cell_type": "code",
   "execution_count": null,
   "metadata": {},
   "outputs": [],
   "source": [
    "train_Bag = load_npy(\"Bag\")\n",
    "train_Hips = load_npy(\"Hips\")\n",
    "train_Torso = load_npy(\"Torso\")\n",
    "train_Hand = load_npy(\"Hand\")\n",
    "\n",
    "train_Hand.shape"
   ]
  },
  {
   "cell_type": "code",
   "execution_count": null,
   "metadata": {},
   "outputs": [],
   "source": [
    "# train_Hips, X_val1 = train_test_split(train_Hips, test_size=0.2, shuffle=False)\n",
    "X_val1 = train_Hips[(Y_train == 1) | (Y_train == 5) | (Y_train == 6) | (Y_train == 7) | (Y_train == 8)]\n",
    "X_val1 = X_val1.reshape([-1, X_val1.shape[1], X_val1.shape[2], 1])\n",
    "\n",
    "X_val1.shape"
   ]
  },
  {
   "cell_type": "code",
   "execution_count": null,
   "metadata": {},
   "outputs": [],
   "source": [
    "X_train1 = train_Hips[(Y_train == 1) | (Y_train == 5) | (Y_train == 6) | (Y_train == 7) | (Y_train == 8)]\n",
    "X_train1.shape"
   ]
  },
  {
   "cell_type": "code",
   "execution_count": null,
   "metadata": {},
   "outputs": [],
   "source": [
    "# X_train1 = np.concatenate([train_Bag[(Y_train == 1) | (Y_train == 5) | (Y_train == 6) | (Y_train == 7) | (Y_train == 8)],\\\n",
    "#                           train_Hips, \\\n",
    "#                           train_Torso[(Y_train == 1) | (Y_train == 5) | (Y_train == 6) | (Y_train == 7) | (Y_train == 8)],\\\n",
    "#                           train_Hand[(Y_train == 1) | (Y_train == 6) | (Y_train == 7) | (Y_train == 8)]], axis=0)\n",
    "\n",
    "X_train1 = np.concatenate([train_Bag[(Y_train == 1) | (Y_train == 5) | (Y_train == 6) | (Y_train == 7) | (Y_train == 8)],\\\n",
    "                          train_Torso[(Y_train == 1) | (Y_train == 5) | (Y_train == 6) | (Y_train == 7) | (Y_train == 8)],\\\n",
    "                          train_Hand[(Y_train == 1) | (Y_train == 6) | (Y_train == 7) | (Y_train == 8)]], axis=0)\n",
    "X_train1.shape"
   ]
  },
  {
   "cell_type": "code",
   "execution_count": null,
   "metadata": {},
   "outputs": [],
   "source": [
    "del train_Bag, train_Hips, train_Torso, train_Hand"
   ]
  },
  {
   "cell_type": "code",
   "execution_count": null,
   "metadata": {},
   "outputs": [],
   "source": [
    "X_train1 = X_train1.reshape([-1, X_train1.shape[1], X_train1.shape[2], 1])\n",
    "\n",
    "X_train1.shape"
   ]
  },
  {
   "cell_type": "code",
   "execution_count": null,
   "metadata": {},
   "outputs": [],
   "source": [
    "def load_npy(hold_position):\n",
    "    lacc = np.delete(np.load(\"../Output/train/train_\" + hold_position + \"/train_\" + hold_position + \"_glo_lacc_norm_spectram_axis1_2.npy\"), train_change_index, 0)#[:, :64, :]\n",
    "#     lacc = lacc[(Y_train.reshape([-1]) == 1) | (Y_train.reshape([-1]) >= 4)]\n",
    "    return lacc"
   ]
  },
  {
   "cell_type": "code",
   "execution_count": null,
   "metadata": {},
   "outputs": [],
   "source": [
    "train_Hips = load_npy(\"Hips\")\n",
    "# train_Hips, X_val1 = train_test_split(train_Hips, test_size=0.2, shuffle=False)\n",
    "X_train2 = train_Hips[(Y_train == 1) | (Y_train == 5) | (Y_train == 6) | (Y_train == 7) | (Y_train == 8)]\n",
    "X_train2 = X_train2.reshape([-1, X_train2.shape[1], X_train2.shape[2], 1])\n",
    "\n",
    "X_train2.shape"
   ]
  },
  {
   "cell_type": "code",
   "execution_count": 13,
   "metadata": {},
   "outputs": [
    {
     "data": {
      "text/plain": [
       "((10207, 41, 43, 1), (4037, 41, 43, 1))"
      ]
     },
     "execution_count": 13,
     "metadata": {},
     "output_type": "execute_result"
    }
   ],
   "source": [
    "def load_npy(hold_position):\n",
    "    lacc = np.load(\"../Output/validation/validation_\" + hold_position + \"/validation_\" + hold_position + \"_glo_lacc_norm_spectram_axis1_2.npy\")#[:, :64, :]\n",
    "#     lacc = lacc[(Y_train.reshape([-1]) == 1) | (Y_train.reshape([-1]) >= 4)]\n",
    "    return lacc\n",
    "\n",
    "train_Hips = np.delete(load_npy(\"Hips\")[pattern_file == 1], train_change_index, axis=0)\n",
    "X_train2 = train_Hips[(Y_train == 1) | (Y_train == 5) | (Y_train == 6) | (Y_train == 7) | (Y_train == 8)]\n",
    "X_train2 = X_train2.reshape([-1, X_train2.shape[1], X_train2.shape[2], 1])\n",
    "\n",
    "train_Hips = np.delete(load_npy(\"Hips\")[pattern_file == 0], val_change_index, axis=0)\n",
    "X_val2 = train_Hips[(Y_val == 1) | (Y_val == 5) | (Y_val == 6) | (Y_val == 7) | (Y_val == 8)]\n",
    "X_val2 = X_val2.reshape([-1, X_val2.shape[1], X_val2.shape[2], 1])\n",
    "\n",
    "X_train2.shape, X_val2.shape"
   ]
  },
  {
   "cell_type": "code",
   "execution_count": 14,
   "metadata": {},
   "outputs": [],
   "source": [
    "del train_Hips"
   ]
  },
  {
   "cell_type": "code",
   "execution_count": null,
   "metadata": {},
   "outputs": [],
   "source": [
    "train_Bag = load_npy(\"Bag\")\n",
    "train_Hips = load_npy(\"Hips\")\n",
    "train_Torso = load_npy(\"Torso\")\n",
    "train_Hand = load_npy(\"Hand\")\n",
    "\n",
    "train_Hand.shape"
   ]
  },
  {
   "cell_type": "code",
   "execution_count": null,
   "metadata": {},
   "outputs": [],
   "source": [
    "# train_Hips, X_val2 = train_test_split(train_Hips, test_size=0.2, shuffle=False)\n",
    "X_val2 = train_Hips[(Y_train == 1) | (Y_train == 5) | (Y_train == 6) | (Y_train == 7) | (Y_train == 8)]\n",
    "X_val2 = X_val2.reshape([-1, X_val2.shape[1], X_val2.shape[2], 1])\n",
    "\n",
    "X_val2.shape"
   ]
  },
  {
   "cell_type": "code",
   "execution_count": null,
   "metadata": {},
   "outputs": [],
   "source": [
    "# X_train2 = np.concatenate([train_Bag[(Y_train == 1) | (Y_train == 5) | (Y_train == 6) | (Y_train == 7) | (Y_train == 8)],\\\n",
    "#                           train_Hips, \\\n",
    "#                           train_Torso[(Y_train == 1) | (Y_train == 5) | (Y_train == 6) | (Y_train == 7) | (Y_train == 8)],\\\n",
    "#                           train_Hand[(Y_train == 1) | (Y_train == 6) | (Y_train == 7) | (Y_train == 8)]], axis=0)\n",
    "\n",
    "X_train2 = np.concatenate([train_Bag[(Y_train == 1) | (Y_train == 5) | (Y_train == 6) | (Y_train == 7) | (Y_train == 8)],\\\n",
    "                          train_Torso[(Y_train == 1) | (Y_train == 5) | (Y_train == 6) | (Y_train == 7) | (Y_train == 8)],\\\n",
    "                          train_Hand[(Y_train == 1) | (Y_train == 6) | (Y_train == 7) | (Y_train == 8)]], axis=0)\n",
    "X_train2.shape"
   ]
  },
  {
   "cell_type": "code",
   "execution_count": null,
   "metadata": {},
   "outputs": [],
   "source": [
    "del train_Bag, train_Hips, train_Torso, train_Hand"
   ]
  },
  {
   "cell_type": "code",
   "execution_count": null,
   "metadata": {},
   "outputs": [],
   "source": [
    "X_train2 = X_train2.reshape([-1, X_train2.shape[1], X_train2.shape[2], 1])\n",
    "\n",
    "X_train2.shape"
   ]
  },
  {
   "cell_type": "code",
   "execution_count": null,
   "metadata": {},
   "outputs": [],
   "source": [
    "def load_npy(hold_position):\n",
    "    gyr = np.delete(np.load(\"../Output/train/train_\" + hold_position + \"/train_\" + hold_position + \"_glo_gyr_norm_spectram_axis1_2.npy\"), train_change_index, 0)#[:, :64, :]\n",
    "#     gyr = gyr[(Y_train.reshape([-1]) == 1) | (Y_train.reshape([-1]) >= 4)]\n",
    "    return gyr"
   ]
  },
  {
   "cell_type": "code",
   "execution_count": null,
   "metadata": {},
   "outputs": [],
   "source": [
    "train_Hips = load_npy(\"Hips\")\n",
    "# train_Hips, X_val1 = train_test_split(train_Hips, test_size=0.2, shuffle=False)\n",
    "X_train3 = train_Hips[(Y_train == 1) | (Y_train == 5) | (Y_train == 6) | (Y_train == 7) | (Y_train == 8)]\n",
    "X_train3 = X_train3.reshape([-1, X_train3.shape[1], X_train3.shape[2], 1])\n",
    "\n",
    "X_train3.shape"
   ]
  },
  {
   "cell_type": "code",
   "execution_count": 16,
   "metadata": {},
   "outputs": [
    {
     "data": {
      "text/plain": [
       "((10207, 41, 43, 1), (4037, 41, 43, 1))"
      ]
     },
     "execution_count": 16,
     "metadata": {},
     "output_type": "execute_result"
    }
   ],
   "source": [
    "def load_npy(hold_position):\n",
    "    gyr = np.load(\"../Output/validation/validation_\" + hold_position + \"/validation_\" + hold_position + \"_glo_gyr_norm_spectram_axis1_2.npy\")#[:, :64, :]\n",
    "#     gyr = gyr[(Y_train.reshape([-1]) == 1) | (Y_train.reshape([-1]) >= 4)]\n",
    "    return gyr\n",
    "\n",
    "train_Hips = np.delete(load_npy(\"Hips\")[pattern_file == 1], train_change_index, axis=0)\n",
    "X_train3 = train_Hips[(Y_train == 1) | (Y_train == 5) | (Y_train == 6) | (Y_train == 7) | (Y_train == 8)]\n",
    "X_train3 = X_train3.reshape([-1, X_train3.shape[1], X_train3.shape[2], 1])\n",
    "\n",
    "train_Hips = np.delete(load_npy(\"Hips\")[pattern_file == 0], val_change_index, axis=0)\n",
    "X_val3 = train_Hips[(Y_val == 1) | (Y_val == 5) | (Y_val == 6) | (Y_val == 7) | (Y_val == 8)]\n",
    "X_val3 = X_val3.reshape([-1, X_val3.shape[1], X_val3.shape[2], 1])\n",
    "\n",
    "X_train3.shape, X_val3.shape"
   ]
  },
  {
   "cell_type": "code",
   "execution_count": 17,
   "metadata": {},
   "outputs": [],
   "source": [
    "del train_Hips"
   ]
  },
  {
   "cell_type": "code",
   "execution_count": null,
   "metadata": {},
   "outputs": [],
   "source": [
    "train_Bag = load_npy(\"Bag\")\n",
    "train_Hips = load_npy(\"Hips\")\n",
    "train_Torso = load_npy(\"Torso\")\n",
    "train_Hand = load_npy(\"Hand\")\n",
    "\n",
    "train_Hand.shape"
   ]
  },
  {
   "cell_type": "code",
   "execution_count": null,
   "metadata": {},
   "outputs": [],
   "source": [
    "# train_Hips, X_val3 = train_test_split(train_Hips, test_size=0.2, shuffle=False)\n",
    "X_val3 = train_Hips[(Y_train == 1) | (Y_train == 5) | (Y_train == 6) | (Y_train == 7) | (Y_train == 8)]\n",
    "X_val3 = X_val3.reshape([-1, X_val3.shape[1], X_val3.shape[2], 1])\n",
    "\n",
    "X_val3.shape"
   ]
  },
  {
   "cell_type": "code",
   "execution_count": null,
   "metadata": {},
   "outputs": [],
   "source": [
    "# X_train3 = np.concatenate([train_Bag[(Y_train == 1) | (Y_train == 5) | (Y_train == 6) | (Y_train == 7) | (Y_train == 8)],\\\n",
    "#                           train_Hips, \\\n",
    "#                           train_Torso[(Y_train == 1) | (Y_train == 5) | (Y_train == 6) | (Y_train == 7) | (Y_train == 8)],\\\n",
    "#                           train_Hand[(Y_train == 1) | (Y_train == 6) | (Y_train == 7) | (Y_train == 8)]], axis=0)\n",
    "\n",
    "X_train3 = np.concatenate([train_Bag[(Y_train == 1) | (Y_train == 5) | (Y_train == 6) | (Y_train == 7) | (Y_train == 8)],\\\n",
    "                          train_Torso[(Y_train == 1) | (Y_train == 5) | (Y_train == 6) | (Y_train == 7) | (Y_train == 8)],\\\n",
    "                          train_Hand[(Y_train == 1) | (Y_train == 6) | (Y_train == 7) | (Y_train == 8)]], axis=0)\n",
    "X_train3.shape"
   ]
  },
  {
   "cell_type": "code",
   "execution_count": null,
   "metadata": {},
   "outputs": [],
   "source": [
    "del train_Bag, train_Hips, train_Torso, train_Hand"
   ]
  },
  {
   "cell_type": "code",
   "execution_count": null,
   "metadata": {},
   "outputs": [],
   "source": [
    "X_train3 = X_train3.reshape([-1, X_train3.shape[1], X_train3.shape[2], 1])\n",
    "\n",
    "X_train3.shape"
   ]
  },
  {
   "cell_type": "code",
   "execution_count": null,
   "metadata": {},
   "outputs": [],
   "source": [
    "# Y_train = np.concatenate([Y_train, Y_train, Y_train, Y_train], axis=0).reshape([-1, 1])\n",
    "# Y_train.shape"
   ]
  },
  {
   "cell_type": "code",
   "execution_count": null,
   "metadata": {},
   "outputs": [],
   "source": [
    "# Y_train = Y_train[(Y_train.reshape([-1]) == 1) | (Y_train.reshape([-1]) >= 4)]\n",
    "# Y_train.shape"
   ]
  },
  {
   "cell_type": "code",
   "execution_count": null,
   "metadata": {},
   "outputs": [],
   "source": [
    "Y_train[Y_train == 1].shape, Y_train[Y_train == 5].shape, Y_train[Y_train == 6].shape, Y_train[Y_train == 7].shape, Y_train[Y_train == 8].shape"
   ]
  },
  {
   "cell_type": "code",
   "execution_count": null,
   "metadata": {},
   "outputs": [],
   "source": [
    "# y_train, Y_val = train_test_split(Y_train, test_size=0.2, shuffle=False)\n",
    "# print(Y_train.shape, y_train.shape, Y_val.shape)\n",
    "\n",
    "Y_val = Y_train[(Y_train == 1) | (Y_train == 5) | (Y_train == 6) | (Y_train == 7) | (Y_train == 8)]\n",
    "\n",
    "# Y_train = np.concatenate([Y_train[(Y_train == 1) | (Y_train == 5) | (Y_train == 6) | (Y_train == 7) | (Y_train == 8)],\\\n",
    "#                           y_train, \\\n",
    "#                           Y_train[(Y_train == 1) | (Y_train == 5) | (Y_train == 6) | (Y_train == 7) | (Y_train == 8)], \\\n",
    "#                           Y_train[(Y_train == 1) | (Y_train == 6) | (Y_train == 7) | (Y_train == 8)]], axis=0)\n",
    "\n",
    "Y_train = np.concatenate([Y_train[(Y_train == 1) | (Y_train == 5) | (Y_train == 6) | (Y_train == 7) | (Y_train == 8)],\\\n",
    "                          Y_train[(Y_train == 1) | (Y_train == 5) | (Y_train == 6) | (Y_train == 7) | (Y_train == 8)], \\\n",
    "                          Y_train[(Y_train == 1) | (Y_train == 6) | (Y_train == 7) | (Y_train == 8)]], axis=0)\n",
    "\n",
    "Y_train.shape, Y_val.shape"
   ]
  },
  {
   "cell_type": "code",
   "execution_count": 18,
   "metadata": {},
   "outputs": [
    {
     "data": {
      "text/plain": [
       "(10207,)"
      ]
     },
     "execution_count": 18,
     "metadata": {},
     "output_type": "execute_result"
    }
   ],
   "source": [
    "Y_train = Y_train[(Y_train == 1) | (Y_train == 5) | (Y_train == 6) | (Y_train == 7) | (Y_train == 8)]\n",
    "Y_train.shape"
   ]
  },
  {
   "cell_type": "code",
   "execution_count": 19,
   "metadata": {},
   "outputs": [
    {
     "data": {
      "text/plain": [
       "(4037,)"
      ]
     },
     "execution_count": 19,
     "metadata": {},
     "output_type": "execute_result"
    }
   ],
   "source": [
    "Y_val = Y_val[(Y_val == 1) | (Y_val == 5) | (Y_val == 6) | (Y_val == 7) | (Y_val == 8)]\n",
    "Y_val.shape"
   ]
  },
  {
   "cell_type": "code",
   "execution_count": 20,
   "metadata": {},
   "outputs": [
    {
     "data": {
      "text/plain": [
       "array([0., 1., 2., 3., 4.])"
      ]
     },
     "execution_count": 20,
     "metadata": {},
     "output_type": "execute_result"
    }
   ],
   "source": [
    "# Y_train[Y_train.reshape([-1]) == 1] = 0\n",
    "# Y_train[Y_train.reshape([-1]) >= 4] = Y_train[Y_train.reshape([-1]) >= 4] - 3\n",
    "\n",
    "Y_train = Y_train - 1\n",
    "Y_train[Y_train >= 4] -= 3\n",
    "np.unique(Y_train)"
   ]
  },
  {
   "cell_type": "code",
   "execution_count": 21,
   "metadata": {},
   "outputs": [
    {
     "data": {
      "text/plain": [
       "array([0., 1., 2., 3., 4.])"
      ]
     },
     "execution_count": 21,
     "metadata": {},
     "output_type": "execute_result"
    }
   ],
   "source": [
    "Y_val = Y_val - 1\n",
    "Y_val[Y_val >= 4] -= 3\n",
    "np.unique(Y_val)"
   ]
  },
  {
   "cell_type": "code",
   "execution_count": null,
   "metadata": {},
   "outputs": [],
   "source": [
    "# x_train1, x_test1, y_train, y_test = train_test_split(X_train1, Y_train, test_size=0.3, shuffle=False)\n",
    "# del X_train1, Y_train\n",
    "\n",
    "# x_train2, x_test2 = train_test_split(X_train2, test_size=0.3, shuffle=False)\n",
    "# del X_train2\n",
    "\n",
    "# x_train3, x_test3 = train_test_split(X_train3, test_size=0.3, shuffle=False)\n",
    "# del X_train3\n",
    "\n",
    "# x_train1.shape, x_test1.shape"
   ]
  },
  {
   "cell_type": "code",
   "execution_count": null,
   "metadata": {},
   "outputs": [],
   "source": [
    "def BuildModel(input_shape):\n",
    "    input1 = layers.Input(shape=input_shape)\n",
    "    x = layers.Conv2D(64, (3, 3), padding='valid', activation='relu', kernel_initializer=he_normal())(input1)\n",
    "    x = layers.Conv2D(32, (3, 3), padding='same', activation='relu')(x)\n",
    "    x = layers.MaxPooling2D((2, 2))(x)\n",
    "    x = layers.BatchNormalization()(x)\n",
    "    x = layers.Conv2D(64, (3, 3), padding='same', activation='relu')(x)\n",
    "    x = layers.Conv2D(32, (3, 3), padding='same', activation='relu')(x)\n",
    "    x = layers.MaxPooling2D((2, 2))(x)\n",
    "    x = layers.Dropout(0.2)(x)\n",
    "    x = layers.Conv2D(64, (3, 3), padding='same', activation='relu')(x)\n",
    "    x = layers.Conv2D(32, (3, 3), padding='same', activation='relu')(x)\n",
    "    x = layers.MaxPooling2D((2, 2))(x)\n",
    "    x = layers.BatchNormalization()(x)\n",
    "    x = layers.Flatten()(x)\n",
    "    x = layers.Dense(128, activation='relu')(x)\n",
    "    x = layers.BatchNormalization()(x)\n",
    "    x = layers.Dense(32, activation='relu')(x)\n",
    "    x = models.Model(inputs=input1, outputs=x)\n",
    "    return x"
   ]
  },
  {
   "cell_type": "code",
   "execution_count": null,
   "metadata": {},
   "outputs": [],
   "source": [
    "def BuildModel2(input_shape):\n",
    "    input1 = layers.Input(shape=input_shape)\n",
    "    x = layers.Conv2D(64, (3, 3), padding='valid', activation='relu', kernel_initializer=he_normal())(input1)\n",
    "    x = layers.Conv2D(32, (3, 3), padding='same', activation='relu')(x)\n",
    "    x = layers.MaxPooling2D((2, 2))(x)\n",
    "    x = layers.BatchNormalization()(x)\n",
    "    x = layers.Conv2D(64, (3, 3), padding='same', activation='relu')(x)\n",
    "    x = layers.Conv2D(32, (3, 3), padding='same', activation='relu')(x)\n",
    "    x = layers.MaxPooling2D((2, 2))(x)\n",
    "    x = layers.Dropout(0.2)(x)\n",
    "    x = layers.Conv2D(64, (3, 3), padding='same', activation='relu')(x)\n",
    "    x = layers.Conv2D(32, (3, 3), padding='same', activation='relu')(x)\n",
    "    x = layers.MaxPooling2D((2, 2))(x)\n",
    "    x = layers.BatchNormalization()(x)\n",
    "    x = layers.Conv2D(64, (3, 3), padding='same', activation='relu')(x)\n",
    "    x = layers.Conv2D(32, (3, 3), padding='same', activation='relu')(x)\n",
    "    x = layers.MaxPooling2D((2, 1))(x)\n",
    "    x = layers.Dropout(0.2)(x)\n",
    "    x = layers.Flatten()(x)\n",
    "    x = layers.Dense(128, activation='relu')(x)\n",
    "    x = layers.BatchNormalization()(x)\n",
    "    x = layers.Dense(32, activation='relu')(x)\n",
    "    x = models.Model(inputs=input1, outputs=x)\n",
    "    return x"
   ]
  },
  {
   "cell_type": "code",
   "execution_count": null,
   "metadata": {
    "scrolled": true
   },
   "outputs": [],
   "source": [
    "x1 = BuildModel2(X_train1[0].shape)\n",
    "x2 = BuildModel2(X_train2[0].shape)\n",
    "x3 = BuildModel2(X_train3[0].shape)\n",
    "\n",
    "combined = layers.concatenate([x1.output, x2.output, x3.output])\n",
    "\n",
    "z = layers.Dense(64, activation='relu')(combined)\n",
    "z = layers.Dense(16, activation='relu')(z)\n",
    "z = layers.Dense(5, activation='softmax')(z)\n",
    "\n",
    "model = models.Model(inputs=[x1.input, x2.input, x3.input], outputs=z)\n",
    "model.compile(optimizer=tf.keras.optimizers.Adam(0.01),\n",
    "              loss='sparse_categorical_crossentropy',\n",
    "              metrics=['accuracy'])\n",
    "model.summary()"
   ]
  },
  {
   "cell_type": "code",
   "execution_count": null,
   "metadata": {},
   "outputs": [],
   "source": [
    "plot_model(model, show_shapes=True, show_layer_names=False)"
   ]
  },
  {
   "cell_type": "code",
   "execution_count": null,
   "metadata": {},
   "outputs": [],
   "source": [
    "class_weights = [1.304315629242605,\n",
    " 1.299237767396115,\n",
    " 3.763086053412463,\n",
    " 1.3542930371636053,\n",
    " 1.0,\n",
    " 1.1219080646873563,\n",
    " 1.0162841389921784,\n",
    " 1.3327728266352783]"
   ]
  },
  {
   "cell_type": "code",
   "execution_count": null,
   "metadata": {},
   "outputs": [],
   "source": [
    "X_train1, X_val1 = train_test_split(X_val1, test_size=0.3, shuffle=False)\n",
    "X_train2, X_val2 = train_test_split(X_val2, test_size=0.3, shuffle=False)\n",
    "X_train3, X_val3 = train_test_split(X_val3, test_size=0.3, shuffle=False)\n",
    "Y_train, Y_val = train_test_split(Y_val, test_size=0.3, shuffle=False)\n",
    "\n",
    "X_train1.shape, X_train2.shape, X_train3.shape, X_val1.shape, X_val2.shape, X_val3.shape, Y_train.shape, Y_val.shape"
   ]
  },
  {
   "cell_type": "code",
   "execution_count": null,
   "metadata": {
    "scrolled": true
   },
   "outputs": [],
   "source": [
    "# model = tf.keras.models.load_model(\"../Output/CheckPoint/mag_norm/model0603_19-0.84-0.66-1.05-0.58.hdf5\")\n",
    "# model.summary()"
   ]
  },
  {
   "cell_type": "code",
   "execution_count": null,
   "metadata": {
    "scrolled": true
   },
   "outputs": [],
   "source": [
    "model = tf.keras.Sequential()\n",
    "# model.add(layers.Flatten())\n",
    "model.add(layers.Conv2D(64, (3, 3), padding='valid', activation='relu', input_shape=(X_train1.shape[1], X_train1.shape[2], 1), kernel_initializer=he_normal()))\n",
    "model.add(layers.Conv2D(32, (3, 3), padding='same', activation='relu'))\n",
    "model.add(layers.MaxPooling2D((2, 2)))\n",
    "model.add(layers.BatchNormalization())\n",
    "model.add(layers.Conv2D(64, (3, 3), padding='same', activation='relu'))\n",
    "model.add(layers.Conv2D(32, (3, 3), padding='same', activation='relu'))\n",
    "model.add(layers.MaxPooling2D((2, 2)))\n",
    "model.add(layers.Dropout(0.2))\n",
    "model.add(layers.Conv2D(64, (3, 3), padding='same', activation='relu'))\n",
    "model.add(layers.Conv2D(32, (3, 3), padding='same', activation='relu'))\n",
    "model.add(layers.MaxPooling2D((2, 2)))\n",
    "model.add(layers.BatchNormalization())\n",
    "model.add(layers.Flatten())\n",
    "model.add(layers.Dense(256, activation='relu'))\n",
    "model.add(layers.Dense(64, activation='relu'))\n",
    "model.add(layers.BatchNormalization())\n",
    "model.add(layers.Dense(16, activation='relu'))\n",
    "model.add(layers.Dense(5, activation='softmax'))\n",
    "model.compile(optimizer=tf.keras.optimizers.Adam(0.01),\n",
    "              loss='sparse_categorical_crossentropy',\n",
    "              metrics=['accuracy'])\n",
    "model.summary()"
   ]
  },
  {
   "cell_type": "code",
   "execution_count": null,
   "metadata": {
    "scrolled": true
   },
   "outputs": [],
   "source": [
    "cp_cb = tf.keras.callbacks.ModelCheckpoint(filepath=\"../Output/CheckPoint/mag_norm/model0605_{epoch:02d}-{loss:.2f}-{accuracy:.2f}-{val_loss:.2f}-{val_accuracy:.2f}.hdf5\", \n",
    "                                           monitor='val_loss', verbose=0, save_best_only=True, mode='auto')\n",
    "es_cb = tf.keras.callbacks.EarlyStopping(monitor='val_loss', patience=30, verbose=0, mode='auto')\n",
    "history = model.fit(X_train1, Y_train, epochs=256, batch_size=512, validation_data=(X_val1, Y_val), callbacks=[cp_cb, es_cb])"
   ]
  },
  {
   "cell_type": "code",
   "execution_count": 22,
   "metadata": {},
   "outputs": [],
   "source": [
    "model = tf.keras.models.load_model(\"../Output/CheckPoint/axis1/model06082_02-1.16-0.51-1.30-0.47.hdf5\")"
   ]
  },
  {
   "cell_type": "code",
   "execution_count": 23,
   "metadata": {
    "scrolled": true
   },
   "outputs": [
    {
     "name": "stdout",
     "output_type": "stream",
     "text": [
      "Train on 10207 samples, validate on 4037 samples\n",
      "Epoch 1/256\n",
      "10207/10207 [==============================] - 9s 912us/sample - loss: 1.1268 - accuracy: 0.5547 - val_loss: 1.3685 - val_accuracy: 0.4516ss: 1.2189 - ac - ETA: 3s\n",
      "Epoch 2/256\n",
      "10207/10207 [==============================] - 4s 422us/sample - loss: 0.9635 - accuracy: 0.6371 - val_loss: 1.9188 - val_accuracy: 0.3515\n",
      "Epoch 3/256\n",
      "10207/10207 [==============================] - 4s 425us/sample - loss: 0.8927 - accuracy: 0.6611 - val_loss: 1.4309 - val_accuracy: 0.4667\n",
      "Epoch 4/256\n",
      "10207/10207 [==============================] - 4s 424us/sample - loss: 0.8206 - accuracy: 0.6919 - val_loss: 1.3929 - val_accuracy: 0.4736\n",
      "Epoch 5/256\n",
      "10207/10207 [==============================] - 4s 425us/sample - loss: 0.7827 - accuracy: 0.7051 - val_loss: 1.4853 - val_accuracy: 0.5043\n",
      "Epoch 6/256\n",
      "10207/10207 [==============================] - 4s 425us/sample - loss: 0.7224 - accuracy: 0.7327 - val_loss: 1.5420 - val_accuracy: 0.4607 ETA: 1s\n",
      "Epoch 7/256\n",
      "10207/10207 [==============================] - 4s 425us/sample - loss: 0.6817 - accuracy: 0.7517 - val_loss: 1.4646 - val_accuracy: 0.4751\n",
      "Epoch 8/256\n",
      "10207/10207 [==============================] - 4s 425us/sample - loss: 0.6362 - accuracy: 0.7631 - val_loss: 1.5091 - val_accuracy: 0.4724- accuracy\n",
      "Epoch 9/256\n",
      "10207/10207 [==============================] - 4s 425us/sample - loss: 0.5960 - accuracy: 0.7827 - val_loss: 1.6831 - val_accuracy: 0.4692 ETA: 0s - loss: 0.5910 - accu\n",
      "Epoch 10/256\n",
      "10207/10207 [==============================] - 4s 427us/sample - loss: 0.5666 - accuracy: 0.7951 - val_loss: 1.5810 - val_accuracy: 0.4967\n",
      "Epoch 11/256\n",
      "10207/10207 [==============================] - 4s 427us/sample - loss: 0.5261 - accuracy: 0.8076 - val_loss: 2.3588 - val_accuracy: 0.4162\n",
      "Epoch 12/256\n",
      "10207/10207 [==============================] - 4s 427us/sample - loss: 0.4885 - accuracy: 0.8220 - val_loss: 1.8586 - val_accuracy: 0.4875 0.4796 - accuracy:  - ETA: 0s - loss: 0.4829 - accu\n",
      "Epoch 13/256\n",
      "10207/10207 [==============================] - 4s 429us/sample - loss: 0.4601 - accuracy: 0.8319 - val_loss: 1.8809 - val_accuracy: 0.4895: 0s - loss: 0.4551 - ac\n",
      "Epoch 14/256\n",
      "10207/10207 [==============================] - 4s 427us/sample - loss: 0.4320 - accuracy: 0.8423 - val_loss: 1.9168 - val_accuracy: 0.4734\n",
      "Epoch 15/256\n",
      "10207/10207 [==============================] - 4s 427us/sample - loss: 0.4123 - accuracy: 0.8523 - val_loss: 1.8884 - val_accuracy: 0.4848\n",
      "Epoch 16/256\n",
      "10207/10207 [==============================] - 4s 429us/sample - loss: 0.3835 - accuracy: 0.8604 - val_loss: 1.9382 - val_accuracy: 0.4548\n",
      "Epoch 17/256\n",
      "10207/10207 [==============================] - 4s 429us/sample - loss: 0.3513 - accuracy: 0.8745 - val_loss: 2.2134 - val_accuracy: 0.4672racy: \n",
      "Epoch 18/256\n",
      "10207/10207 [==============================] - 4s 429us/sample - loss: 0.3501 - accuracy: 0.8753 - val_loss: 2.2610 - val_accuracy: 0.4729\n",
      "Epoch 19/256\n",
      "10207/10207 [==============================] - 4s 429us/sample - loss: 0.3280 - accuracy: 0.8815 - val_loss: 2.1433 - val_accuracy: 0.4806\n",
      "Epoch 20/256\n",
      "10207/10207 [==============================] - 4s 429us/sample - loss: 0.3126 - accuracy: 0.8857 - val_loss: 2.7420 - val_accuracy: 0.4417\n",
      "Epoch 21/256\n",
      "10207/10207 [==============================] - 4s 436us/sample - loss: 0.3072 - accuracy: 0.8873 - val_loss: 2.1530 - val_accuracy: 0.4704\n",
      "Epoch 22/256\n",
      "10207/10207 [==============================] - 4s 435us/sample - loss: 0.2715 - accuracy: 0.9023 - val_loss: 2.4684 - val_accuracy: 0.4885oss: 0.2671 - \n",
      "Epoch 23/256\n",
      "10207/10207 [==============================] - 5s 442us/sample - loss: 0.2730 - accuracy: 0.9008 - val_loss: 2.2376 - val_accuracy: 0.4617\n",
      "Epoch 24/256\n",
      "10207/10207 [==============================] - 5s 442us/sample - loss: 0.2542 - accuracy: 0.9101 - val_loss: 2.4619 - val_accuracy: 0.4729\n",
      "Epoch 25/256\n",
      "10207/10207 [==============================] - 4s 439us/sample - loss: 0.2461 - accuracy: 0.9125 - val_loss: 2.6431 - val_accuracy: 0.4783\n",
      "Epoch 26/256\n",
      "10207/10207 [==============================] - 4s 441us/sample - loss: 0.2132 - accuracy: 0.9232 - val_loss: 2.7105 - val_accuracy: 0.4801oss: 0.2156 - ac\n",
      "Epoch 27/256\n",
      "10207/10207 [==============================] - 5s 447us/sample - loss: 0.2168 - accuracy: 0.9227 - val_loss: 2.7158 - val_accuracy: 0.4853\n",
      "Epoch 28/256\n",
      "10207/10207 [==============================] - 5s 448us/sample - loss: 0.2054 - accuracy: 0.9247 - val_loss: 2.6005 - val_accuracy: 0.4833\n",
      "Epoch 29/256\n",
      "10207/10207 [==============================] - 5s 447us/sample - loss: 0.1987 - accuracy: 0.9280 - val_loss: 2.9145 - val_accuracy: 0.4181\n",
      "Epoch 30/256\n",
      "10207/10207 [==============================] - 5s 445us/sample - loss: 0.1900 - accuracy: 0.9337 - val_loss: 2.9662 - val_accuracy: 0.3921\n",
      "Epoch 31/256\n",
      "10207/10207 [==============================] - 5s 445us/sample - loss: 0.2014 - accuracy: 0.9267 - val_loss: 2.6289 - val_accuracy: 0.4481\n"
     ]
    }
   ],
   "source": [
    "import os\n",
    "if not os.path.exists(\"../Output/CheckPoint/axis1/\"):\n",
    "    os.makedirs(\"../Output/CheckPoint/axis1/\")\n",
    "    \n",
    "cp_cb = tf.keras.callbacks.ModelCheckpoint(filepath=\"../Output/CheckPoint/axis1/model06083_{epoch:02d}-{loss:.2f}-{accuracy:.2f}-{val_loss:.2f}-{val_accuracy:.2f}.hdf5\", \n",
    "                                           monitor='val_loss', verbose=0, save_best_only=True, mode='auto')\n",
    "es_cb = tf.keras.callbacks.EarlyStopping(monitor='val_loss', patience=30, verbose=0, mode='auto')\n",
    "history = model.fit([X_train1, X_train2, X_train3], Y_train, epochs=256, batch_size=256, validation_data=([X_val1, X_val2, X_val3], Y_val), callbacks=[cp_cb, es_cb])"
   ]
  },
  {
   "cell_type": "code",
   "execution_count": 24,
   "metadata": {},
   "outputs": [
    {
     "data": {
      "image/png": "[encoded data removed]",
      "text/plain": [
       "<Figure size 432x288 with 1 Axes>"
      ]
     },
     "metadata": {
      "needs_background": "light"
     },
     "output_type": "display_data"
    },
    {
     "data": {
      "image/png": "[encoded data removed]",
      "text/plain": [
       "<Figure size 432x288 with 1 Axes>"
      ]
     },
     "metadata": {
      "needs_background": "light"
     },
     "output_type": "display_data"
    }
   ],
   "source": [
    "# Plot training & validation accuracy values\n",
    "plt.plot(history.history['accuracy'])\n",
    "plt.plot(history.history['val_accuracy'])\n",
    "plt.title('Model accuracy')\n",
    "plt.ylabel('Accuracy')\n",
    "plt.xlabel('Epoch')\n",
    "plt.legend(['Train', 'Test'], loc='upper left')\n",
    "plt.show()\n",
    "\n",
    "# Plot training & validation loss values\n",
    "plt.plot(history.history['loss'])\n",
    "plt.plot(history.history['val_loss'])\n",
    "plt.title('Model loss')\n",
    "plt.ylabel('Loss')\n",
    "plt.xlabel('Epoch')\n",
    "plt.legend(['Train', 'Test'], loc='upper left')\n",
    "# plt.ylim((0, 3.5))\n",
    "plt.show()"
   ]
  },
  {
   "cell_type": "code",
   "execution_count": 25,
   "metadata": {},
   "outputs": [],
   "source": [
    "model = tf.keras.models.load_model(\"../Output/CheckPoint/axis1/model06083_01-1.13-0.55-1.37-0.45.hdf5\")"
   ]
  },
  {
   "cell_type": "code",
   "execution_count": 29,
   "metadata": {},
   "outputs": [
    {
     "name": "stdout",
     "output_type": "stream",
     "text": [
      "(10207,)\n"
     ]
    },
    {
     "data": {
      "text/plain": [
       "0.543"
      ]
     },
     "execution_count": 29,
     "metadata": {},
     "output_type": "execute_result"
    },
    {
     "data": {
      "image/png": "[encoded data removed]",
      "text/plain": [
       "<Figure size 1152x576 with 2 Axes>"
      ]
     },
     "metadata": {
      "needs_background": "light"
     },
     "output_type": "display_data"
    }
   ],
   "source": [
    "# class_names = ['Still', 'Walking', 'Run', 'Bike', 'Car', 'Bus', 'Train', 'Subway']\n",
    "class_names = [\"Still\", \"Car\", \"Bus\", \"Train\", \"Subway\"]\n",
    "predict = np.argmax(model.predict([X_train1, X_train2, X_train3]), axis=1)\n",
    "print(predict.shape)\n",
    "plot_confusion_matrix(Y_train, predict, class_names, False, (16, 8))\n",
    "plt.grid(False)\n",
    "f1_macro = f1_score(Y_train, predict, average='macro')\n",
    "round(f1_macro, 3)"
   ]
  },
  {
   "cell_type": "code",
   "execution_count": 26,
   "metadata": {},
   "outputs": [
    {
     "name": "stdout",
     "output_type": "stream",
     "text": [
      "(4037,)\n"
     ]
    },
    {
     "data": {
      "text/plain": [
       "0.421"
      ]
     },
     "execution_count": 26,
     "metadata": {},
     "output_type": "execute_result"
    },
    {
     "data": {
      "image/png": "[encoded data removed]",
      "text/plain": [
       "<Figure size 1152x576 with 2 Axes>"
      ]
     },
     "metadata": {
      "needs_background": "light"
     },
     "output_type": "display_data"
    }
   ],
   "source": [
    "# class_names = ['Still', 'Walking', 'Run', 'Bike', 'Car', 'Bus', 'Train', 'Subway']\n",
    "class_names = [\"Still\", \"Car\", \"Bus\", \"Train\", \"Subway\"]\n",
    "predict = np.argmax(model.predict([X_val1, X_val2, X_val3]), axis=1)\n",
    "print(predict.shape)\n",
    "plot_confusion_matrix(Y_val, predict, class_names, False, (16, 8))\n",
    "plt.grid(False)\n",
    "f1_macro = f1_score(Y_val, predict, average='macro')\n",
    "round(f1_macro, 3)"
   ]
  },
  {
   "cell_type": "code",
   "execution_count": null,
   "metadata": {},
   "outputs": [],
   "source": [
    "model = tf.keras.models.load_model(\"../Output/CheckPoint/mag_norm/model0528_07-0.87-0.67-1.54-0.45.hdf5\")"
   ]
  },
  {
   "cell_type": "code",
   "execution_count": null,
   "metadata": {},
   "outputs": [],
   "source": [
    "class_names = ['Still', 'Walking', 'Run', 'Bike', 'Car', 'Bus', 'Train', 'Subway']\n",
    "# class_names = [\"Still\", \"Car\", \"Bus\", \"Train\", \"Subway\"]\n",
    "predict = np.argmax(model.predict([x_test1, x_test2, x_test3]), axis=1)\n",
    "print(predict.shape)\n",
    "plot_confusion_matrix(y_test, predict, class_names, False, (16, 8))\n",
    "plt.grid(False)\n",
    "f1_macro = f1_score(y_test, predict, average='macro')\n",
    "round(f1_macro, 3)"
   ]
  },
  {
   "cell_type": "code",
   "execution_count": 30,
   "metadata": {},
   "outputs": [
    {
     "name": "stdin",
     "output_type": "stream",
     "text": [
      "Once deleted, variables cannot be recovered. Proceed (y/[n])?  y\n"
     ]
    }
   ],
   "source": [
    "%reset"
   ]
  },
  {
   "cell_type": "code",
   "execution_count": 31,
   "metadata": {},
   "outputs": [
    {
     "data": {
      "text/html": [
       "<style>.container { width:90% !important; }</style>"
      ],
      "text/plain": [
       "<IPython.core.display.HTML object>"
      ]
     },
     "metadata": {},
     "output_type": "display_data"
    }
   ],
   "source": [
    "import numpy as np\n",
    "import os\n",
    "import random\n",
    "import scipy\n",
    "from scipy import signal\n",
    "from numpy.fft import fft\n",
    "from sklearn.metrics import confusion_matrix\n",
    "from sklearn.metrics import f1_score\n",
    "\n",
    "import tensorflow as tf\n",
    "from tensorflow.keras import layers, models\n",
    "from tensorflow.keras.initializers import he_normal\n",
    "from tensorflow.python.keras.utils.vis_utils import plot_model\n",
    "\n",
    "from sklearn.model_selection import train_test_split\n",
    "\n",
    "import pandas as pd\n",
    "import pickle\n",
    "\n",
    "import seaborn as sns\n",
    "sns.set(font='Yu Gothic')\n",
    "import matplotlib.pyplot as plt\n",
    "%matplotlib inline\n",
    "\n",
    "from tqdm import tqdm\n",
    "\n",
    "from IPython.core.display import display, HTML\n",
    "display(HTML(\"<style>.container { width:90% !important; }</style>\"))"
   ]
  },
  {
   "cell_type": "code",
   "execution_count": 32,
   "metadata": {},
   "outputs": [],
   "source": [
    "def plot_confusion_matrix(test_y,pred_y,class_names,normalize=False, figsize=(16, 8)):\n",
    "    cm = confusion_matrix(test_y,pred_y)\n",
    "    # classes = class_names[unique_labels(test_y,pred_y)]\n",
    "    if normalize:\n",
    "        cm = cm.astype('float') / cm.sum(axis=1)[:, np.newaxis]\n",
    "    fig, ax = plt.subplots(figsize=figsize)\n",
    "    im = ax.imshow(cm, interpolation='nearest', cmap=plt.cm.Blues)\n",
    "    ax.figure.colorbar(im, ax=ax)\n",
    "    ax.set(xticks=np.arange(cm.shape[1]),\n",
    "           yticks=np.arange(cm.shape[0]),\n",
    "           xticklabels=class_names,\n",
    "           yticklabels=class_names,\n",
    "           ylabel='True label\\n',\n",
    "           xlabel='\\nPredicted label')\n",
    "    fmt = '.2f' if normalize else 'd'\n",
    "    for i in range(cm.shape[0]):\n",
    "        for j in range(cm.shape[1]):\n",
    "            ax.text(j,\n",
    "                    i,\n",
    "                    format(cm[i, j], fmt),\n",
    "                    ha=\"center\",\n",
    "                    va=\"center\",\n",
    "                    color=\"red\", fontsize=16)\n",
    "    fig.tight_layout()\n",
    "    return ax"
   ]
  },
  {
   "cell_type": "code",
   "execution_count": 33,
   "metadata": {},
   "outputs": [],
   "source": [
    "def load_npy(kind, hold_position):\n",
    "    file_path = \"../Output/\" + kind + \"/\" + kind + \"_\" + hold_position + \"/\" + kind + \"_\" + hold_position + \"_\"\n",
    "    mag = np.load(file_path + \"glo_mag_norm_spectram_axis1_2.npy\")#[:, :40]\n",
    "    lacc = np.load(file_path + \"glo_lacc_norm_spectram_axis1_2.npy\")#[:, :64]\n",
    "    gyr = np.load(file_path + \"glo_gyr_norm_spectram_axis1_2.npy\")#[:, :64]\n",
    "    mag = mag.reshape([-1, mag.shape[1], mag.shape[2], 1])\n",
    "    lacc = lacc.reshape([-1, lacc.shape[1], lacc.shape[2], 1])\n",
    "    gyr = gyr.reshape([-1, gyr.shape[1], gyr.shape[2], 1])\n",
    "    return mag, lacc, gyr"
   ]
  },
  {
   "cell_type": "code",
   "execution_count": 34,
   "metadata": {},
   "outputs": [],
   "source": [
    "def predict_func(x1, x2, x3):\n",
    "    model = tf.keras.models.load_model(\"../Output/CheckPoint/axis1/model06083_01-1.13-0.55-1.37-0.45.hdf5\")\n",
    "    predict = np.argmax(model.predict([x1, x2, x3]), axis=1)\n",
    "    return predict"
   ]
  },
  {
   "cell_type": "code",
   "execution_count": 35,
   "metadata": {},
   "outputs": [],
   "source": [
    "def save_npy(kind, hold_position, x):\n",
    "    np.save(kind + \"_\" + hold_position + \"_spectram_predict_0608\", x)"
   ]
  },
  {
   "cell_type": "code",
   "execution_count": 36,
   "metadata": {},
   "outputs": [],
   "source": [
    "def flow(kind, hold_position):\n",
    "    label = np.load(\"../Data/センサ別npyファイル/\" + kind + \"/\" + kind + \"_Bag/\" + kind + \"_Bag_Label.npy\")[:, 0].reshape([-1])\n",
    "    x1, x2, x3 = load_npy(kind, hold_position)\n",
    "    predict = predict_func(x1, x2, x3)\n",
    "    save_npy(kind, hold_position, predict.reshape([-1, 1]))"
   ]
  },
  {
   "cell_type": "code",
   "execution_count": 37,
   "metadata": {},
   "outputs": [
    {
     "name": "stderr",
     "output_type": "stream",
     "text": [
      "100%|███████████████████████████████████████████████████████████████████████████████████| 4/4 [07:00<00:00, 105.01s/it]\n",
      "100%|████████████████████████████████████████████████████████████████████████████████████| 4/4 [01:12<00:00, 18.08s/it]\n"
     ]
    }
   ],
   "source": [
    "kinds = [\"train\", \"validation\"]\n",
    "hold_positions = [\"Bag\", \"Hips\", \"Torso\", \"Hand\"]\n",
    "\n",
    "i = 0\n",
    "for kind in kinds:\n",
    "    for hold_position in tqdm(hold_positions):\n",
    "#         i += 1\n",
    "#         if i == 1:\n",
    "#             continue\n",
    "        flow(kind, hold_position)"
   ]
  },
  {
   "cell_type": "code",
   "execution_count": null,
   "metadata": {},
   "outputs": [],
   "source": []
  }
 ],
 "metadata": {
  "kernelspec": {
   "display_name": "Python 3",
   "language": "python",
   "name": "python3"
  },
  "language_info": {
   "codemirror_mode": {
    "name": "ipython",
    "version": 3
   },
   "file_extension": ".py",
   "mimetype": "text/x-python",
   "name": "python",
   "nbconvert_exporter": "python",
   "pygments_lexer": "ipython3",
   "version": "3.7.6"
  }
 },
 "nbformat": 4,
 "nbformat_minor": 4
}

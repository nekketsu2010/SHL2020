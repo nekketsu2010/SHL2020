{
 "cells": [
  {
   "cell_type": "code",
   "execution_count": 1,
   "metadata": {},
   "outputs": [
    {
     "data": {
      "text/html": [
       "<style>.container { width:90% !important; }</style>"
      ],
      "text/plain": [
       "<IPython.core.display.HTML object>"
      ]
     },
     "metadata": {},
     "output_type": "display_data"
    }
   ],
   "source": [
    "import numpy as np\n",
    "import os\n",
    "import random\n",
    "import scipy\n",
    "from scipy import signal\n",
    "from numpy.fft import fft\n",
    "from sklearn.metrics import confusion_matrix\n",
    "from sklearn.metrics import f1_score\n",
    "\n",
    "import tensorflow as tf\n",
    "from tensorflow.keras import layers\n",
    "from tensorflow.keras.initializers import he_normal\n",
    "\n",
    "from sklearn.model_selection import train_test_split\n",
    "\n",
    "import pandas as pd\n",
    "import pickle\n",
    "\n",
    "import seaborn as sns\n",
    "sns.set(font='Yu Gothic')\n",
    "import matplotlib.pyplot as plt\n",
    "%matplotlib inline\n",
    "\n",
    "from IPython.core.display import display, HTML\n",
    "display(HTML(\"<style>.container { width:90% !important; }</style>\"))"
   ]
  },
  {
   "cell_type": "code",
   "execution_count": 35,
   "metadata": {},
   "outputs": [],
   "source": [
    "def plot_confusion_matrix(test_y,pred_y,class_names,normalize=False, figsize=(16, 8)):\n",
    "    cm = confusion_matrix(test_y,pred_y)\n",
    "    # classes = class_names[unique_labels(test_y,pred_y)]\n",
    "    if normalize:\n",
    "        cm = cm.astype('float') / cm.sum(axis=1)[:, np.newaxis]\n",
    "    fig, ax = plt.subplots(figsize=figsize)\n",
    "    im = ax.imshow(cm, interpolation='nearest', cmap=plt.cm.Blues)\n",
    "    ax.figure.colorbar(im, ax=ax)\n",
    "    ax.set(xticks=np.arange(cm.shape[1]),\n",
    "           yticks=np.arange(cm.shape[0]),\n",
    "           xticklabels=class_names,\n",
    "           yticklabels=class_names,\n",
    "           ylabel='True label\\n',\n",
    "           xlabel='\\nPredicted label')\n",
    "    fmt = '.2f' if normalize else 'd'\n",
    "    for i in range(cm.shape[0]):\n",
    "        for j in range(cm.shape[1]):\n",
    "            ax.text(j,\n",
    "                    i,\n",
    "                    format(cm[i, j], fmt),\n",
    "                    ha=\"center\",\n",
    "                    va=\"center\",\n",
    "                    color=\"red\", fontsize=16)\n",
    "    fig.tight_layout()\n",
    "    return ax"
   ]
  },
  {
   "cell_type": "code",
   "execution_count": 4,
   "metadata": {},
   "outputs": [],
   "source": [
    "def load_npy(hold_position):\n",
    "    mag = np.delete(np.load(\"../Output/train/train_\" + hold_position + \"/train_\" + hold_position + \"_glo_mag_norm_spectram.npy\"), 120845, 0)[:, :40, :]\n",
    "    return mag"
   ]
  },
  {
   "cell_type": "code",
   "execution_count": 9,
   "metadata": {},
   "outputs": [
    {
     "data": {
      "text/plain": [
       "(195490, 1)"
      ]
     },
     "execution_count": 9,
     "metadata": {},
     "output_type": "execute_result"
    }
   ],
   "source": [
    "train_Label = np.delete(np.load(\"../Data/センサ別npyファイル/train/train_Bag/train_Bag_LAbel.npy\")[:, 0], 120845, 0).reshape([-1, 1])\n",
    "train_Label.shape"
   ]
  },
  {
   "cell_type": "code",
   "execution_count": 5,
   "metadata": {},
   "outputs": [
    {
     "data": {
      "text/plain": [
       "(195491, 40, 25)"
      ]
     },
     "execution_count": 5,
     "metadata": {},
     "output_type": "execute_result"
    }
   ],
   "source": [
    "train_Bag = load_npy(\"Bag\")\n",
    "train_Hips = load_npy(\"Hips\")\n",
    "train_Torso = load_npy(\"Torso\")\n",
    "train_Hand = load_npy(\"Hand\")\n",
    "\n",
    "train_Hand.shape"
   ]
  },
  {
   "cell_type": "code",
   "execution_count": 6,
   "metadata": {},
   "outputs": [],
   "source": [
    "def load_npy(hold_position):\n",
    "    mag = np.load(\"../Output/validation/validation_\" + hold_position + \"/validation_\" + hold_position + \"_glo_mag_norm_spectram.npy\")[:, :40, :]\n",
    "    return mag"
   ]
  },
  {
   "cell_type": "code",
   "execution_count": 11,
   "metadata": {},
   "outputs": [
    {
     "data": {
      "text/plain": [
       "(28685, 1)"
      ]
     },
     "execution_count": 11,
     "metadata": {},
     "output_type": "execute_result"
    }
   ],
   "source": [
    "val_Label = np.load(\"../Data/センサ別npyファイル/validation/validation_Bag/validation_Bag_Label.npy\")[:, 0].reshape([-1, 1])\n",
    "val_Label.shape"
   ]
  },
  {
   "cell_type": "code",
   "execution_count": 7,
   "metadata": {},
   "outputs": [
    {
     "data": {
      "text/plain": [
       "(28685, 40, 25)"
      ]
     },
     "execution_count": 7,
     "metadata": {},
     "output_type": "execute_result"
    }
   ],
   "source": [
    "val_Bag = load_npy(\"Bag\")\n",
    "val_Hips = load_npy(\"Hips\")\n",
    "val_Torso = load_npy(\"Torso\")\n",
    "val_Hand = load_npy(\"Hand\")\n",
    "\n",
    "val_Hand.shape"
   ]
  },
  {
   "cell_type": "code",
   "execution_count": 24,
   "metadata": {},
   "outputs": [
    {
     "data": {
      "text/plain": [
       "((781960, 40, 25), (781960, 1))"
      ]
     },
     "execution_count": 24,
     "metadata": {},
     "output_type": "execute_result"
    }
   ],
   "source": [
    "X_train = np.concatenate([train_Bag, train_Hips, train_Torso, train_Hand], axis=0)\n",
    "Y_train = np.concatenate([train_Label, train_Label, train_Label, train_Label], axis=0)\n",
    "\n",
    "X_train.shape, Y_train.shape"
   ]
  },
  {
   "cell_type": "code",
   "execution_count": 25,
   "metadata": {},
   "outputs": [
    {
     "data": {
      "text/plain": [
       "((114740, 40, 25), (114740, 1))"
      ]
     },
     "execution_count": 25,
     "metadata": {},
     "output_type": "execute_result"
    }
   ],
   "source": [
    "X_test = np.concatenate([val_Bag, val_Hips, val_Torso, val_Hand], axis=0)\n",
    "Y_test = np.concatenate([val_Label, val_Label, val_Label, val_Label], axis=0)\n",
    "\n",
    "X_test.shape, Y_test.shape"
   ]
  },
  {
   "cell_type": "code",
   "execution_count": 26,
   "metadata": {},
   "outputs": [
    {
     "data": {
      "text/plain": [
       "((557016, 40, 25, 1), (82176, 40, 25, 1))"
      ]
     },
     "execution_count": 26,
     "metadata": {},
     "output_type": "execute_result"
    }
   ],
   "source": [
    "X_train = X_train.reshape([-1, 40, 25, 1])\n",
    "X_test = X_test.reshape([-1, 40, 25, 1])\n",
    "\n",
    "X_train = X_train[(Y_train.reshape([-1]) == 1) | (Y_train.reshape([-1]) >= 5)]\n",
    "Y_train = Y_train[(Y_train.reshape([-1]) == 1) | (Y_train.reshape([-1]) >= 5)]\n",
    "\n",
    "X_test = X_test[(Y_test.reshape([-1]) == 1) | (Y_test.reshape([-1]) >= 5)]\n",
    "Y_test = Y_test[(Y_test.reshape([-1]) == 1) | (Y_test.reshape([-1]) >= 5)]\n",
    "\n",
    "X_train.shape, X_test.shape"
   ]
  },
  {
   "cell_type": "code",
   "execution_count": 27,
   "metadata": {},
   "outputs": [
    {
     "data": {
      "text/plain": [
       "(array([0., 1., 2., 3., 4.]), array([0., 1., 2., 3., 4.]))"
      ]
     },
     "execution_count": 27,
     "metadata": {},
     "output_type": "execute_result"
    }
   ],
   "source": [
    "Y_train[Y_train.reshape([-1]) == 1] = 0\n",
    "Y_test[Y_test.reshape([-1]) == 1] = 0\n",
    "\n",
    "Y_train[Y_train.reshape([-1]) >= 5] = Y_train[Y_train.reshape([-1]) >= 5] - 4\n",
    "Y_test[Y_test.reshape([-1]) >= 5] = Y_test[Y_test.reshape([-1]) >= 5] - 4\n",
    "\n",
    "np.unique(Y_train), np.unique(Y_test)"
   ]
  },
  {
   "cell_type": "code",
   "execution_count": 28,
   "metadata": {},
   "outputs": [
    {
     "data": {
      "text/plain": [
       "((389911, 40, 25, 1), (167105, 40, 25, 1))"
      ]
     },
     "execution_count": 28,
     "metadata": {},
     "output_type": "execute_result"
    }
   ],
   "source": [
    "x_train, x_test, y_train, y_test = train_test_split(X_train, Y_train, test_size=0.3, shuffle=False)\n",
    "\n",
    "x_train.shape, x_test.shape"
   ]
  },
  {
   "cell_type": "code",
   "execution_count": 29,
   "metadata": {},
   "outputs": [],
   "source": [
    "model = tf.keras.Sequential()\n",
    "# model.add(layers.Flatten())\n",
    "model.add(layers.Conv2D(64, (3, 3), padding='valid', activation='relu', input_shape=(x_train.shape[1], x_train.shape[2], 1), kernel_initializer=he_normal()))\n",
    "model.add(layers.Conv2D(32, (3, 3), padding='same', activation='relu'))\n",
    "model.add(layers.MaxPooling2D((2, 2)))\n",
    "model.add(layers.BatchNormalization())\n",
    "model.add(layers.Conv2D(64, (3, 3), padding='same', activation='relu'))\n",
    "model.add(layers.Conv2D(32, (3, 3), padding='same', activation='relu'))\n",
    "model.add(layers.MaxPooling2D((2, 2)))\n",
    "model.add(layers.Dropout(0.2))\n",
    "model.add(layers.Conv2D(64, (3, 3), padding='same', activation='relu'))\n",
    "model.add(layers.Conv2D(32, (3, 3), padding='same', activation='relu'))\n",
    "model.add(layers.MaxPooling2D((2, 2)))\n",
    "model.add(layers.BatchNormalization())\n",
    "model.add(layers.Flatten())\n",
    "model.add(layers.Dense(128, activation='relu'))\n",
    "model.add(layers.Dense(64, activation='relu'))\n",
    "model.add(layers.BatchNormalization())\n",
    "model.add(layers.Dense(16, activation='relu'))\n",
    "model.add(layers.Dense(5, activation='softmax'))\n",
    "model.compile(optimizer=tf.keras.optimizers.Adam(0.01),\n",
    "              loss='sparse_categorical_crossentropy',\n",
    "              metrics=['accuracy'])"
   ]
  },
  {
   "cell_type": "code",
   "execution_count": 30,
   "metadata": {
    "scrolled": true
   },
   "outputs": [
    {
     "name": "stdout",
     "output_type": "stream",
     "text": [
      "Train on 389911 samples, validate on 167105 samples\n",
      "Epoch 1/256\n",
      "389911/389911 [==============================] - 46s 117us/sample - loss: 1.2696 - accuracy: 0.4384 - val_loss: 1.5006 - val_accuracy: 0.3970\n",
      "Epoch 2/256\n",
      "389911/389911 [==============================] - 25s 63us/sample - loss: 1.1988 - accuracy: 0.4766 - val_loss: 1.3731 - val_accuracy: 0.3919\n",
      "Epoch 3/256\n",
      "389911/389911 [==============================] - 25s 63us/sample - loss: 1.1803 - accuracy: 0.4867 - val_loss: 1.3815 - val_accuracy: 0.3787\n",
      "Epoch 4/256\n",
      "389911/389911 [==============================] - 25s 65us/sample - loss: 1.1692 - accuracy: 0.4938 - val_loss: 1.3547 - val_accuracy: 0.4174\n",
      "Epoch 5/256\n",
      "389911/389911 [==============================] - 25s 63us/sample - loss: 1.1611 - accuracy: 0.4983 - val_loss: 1.4348 - val_accuracy: 0.4289\n",
      "Epoch 6/256\n",
      "389911/389911 [==============================] - 25s 63us/sample - loss: 1.1552 - accuracy: 0.5014 - val_loss: 1.3724 - val_accuracy: 0.4240\n",
      "Epoch 7/256\n",
      "389911/389911 [==============================] - 25s 63us/sample - loss: 1.1519 - accuracy: 0.5030 - val_loss: 1.4133 - val_accuracy: 0.4323\n",
      "Epoch 8/256\n",
      "389911/389911 [==============================] - 25s 63us/sample - loss: 1.1485 - accuracy: 0.5051 - val_loss: 1.3577 - val_accuracy: 0.4134\n",
      "Epoch 9/256\n",
      "389911/389911 [==============================] - 25s 63us/sample - loss: 1.1444 - accuracy: 0.5081 - val_loss: 1.3726 - val_accuracy: 0.4385\n",
      "Epoch 10/256\n",
      "389911/389911 [==============================] - 25s 63us/sample - loss: 1.1405 - accuracy: 0.5101 - val_loss: 1.3607 - val_accuracy: 0.4401\n",
      "Epoch 11/256\n",
      "389911/389911 [==============================] - 25s 63us/sample - loss: 1.1379 - accuracy: 0.5110 - val_loss: 1.4300 - val_accuracy: 0.4252\n",
      "Epoch 12/256\n",
      "389911/389911 [==============================] - 25s 63us/sample - loss: 1.1345 - accuracy: 0.5130 - val_loss: 1.4104 - val_accuracy: 0.4310\n",
      "Epoch 13/256\n",
      "389911/389911 [==============================] - 25s 63us/sample - loss: 1.1326 - accuracy: 0.5139 - val_loss: 1.3322 - val_accuracy: 0.4359\n",
      "Epoch 14/256\n",
      "389911/389911 [==============================] - 25s 63us/sample - loss: 1.1321 - accuracy: 0.5149 - val_loss: 1.3362 - val_accuracy: 0.4409\n",
      "Epoch 15/256\n",
      "389911/389911 [==============================] - 25s 63us/sample - loss: 1.1289 - accuracy: 0.5167 - val_loss: 1.3329 - val_accuracy: 0.4349\n",
      "Epoch 16/256\n",
      "389911/389911 [==============================] - 25s 63us/sample - loss: 1.1265 - accuracy: 0.5175 - val_loss: 1.3552 - val_accuracy: 0.4327\n",
      "Epoch 17/256\n",
      "389911/389911 [==============================] - 25s 63us/sample - loss: 1.1236 - accuracy: 0.5192 - val_loss: 1.4238 - val_accuracy: 0.4369\n",
      "Epoch 18/256\n",
      "389911/389911 [==============================] - 25s 63us/sample - loss: 1.1212 - accuracy: 0.5199 - val_loss: 1.3586 - val_accuracy: 0.44270.51\n",
      "Epoch 19/256\n",
      "389911/389911 [==============================] - 25s 63us/sample - loss: 1.1197 - accuracy: 0.5214 - val_loss: 1.3457 - val_accuracy: 0.4369\n",
      "Epoch 20/256\n",
      "389911/389911 [==============================] - 25s 63us/sample - loss: 1.1174 - accuracy: 0.5220 - val_loss: 1.3353 - val_accuracy: 0.4456\n",
      "Epoch 21/256\n",
      "389911/389911 [==============================] - 25s 63us/sample - loss: 1.1158 - accuracy: 0.5232 - val_loss: 1.4228 - val_accuracy: 0.4447\n",
      "Epoch 22/256\n",
      "389911/389911 [==============================] - 25s 63us/sample - loss: 1.1131 - accuracy: 0.5239 - val_loss: 1.3365 - val_accuracy: 0.4483\n",
      "Epoch 23/256\n",
      "389911/389911 [==============================] - 25s 63us/sample - loss: 1.1109 - accuracy: 0.5259 - val_loss: 1.3465 - val_accuracy: 0.4438\n",
      "Epoch 24/256\n",
      "389911/389911 [==============================] - 25s 63us/sample - loss: 1.1077 - accuracy: 0.5282 - val_loss: 1.3519 - val_accuracy: 0.4422\n",
      "Epoch 25/256\n",
      "389911/389911 [==============================] - 25s 63us/sample - loss: 1.1076 - accuracy: 0.5272 - val_loss: 1.3804 - val_accuracy: 0.4451\n",
      "Epoch 26/256\n",
      "389911/389911 [==============================] - 25s 64us/sample - loss: 1.1042 - accuracy: 0.5290 - val_loss: 1.4168 - val_accuracy: 0.4366\n",
      "Epoch 27/256\n",
      "389911/389911 [==============================] - 26s 68us/sample - loss: 1.1022 - accuracy: 0.5297 - val_loss: 1.3444 - val_accuracy: 0.4477\n",
      "Epoch 28/256\n",
      "389911/389911 [==============================] - 25s 65us/sample - loss: 1.1012 - accuracy: 0.5300 - val_loss: 1.3362 - val_accuracy: 0.4455\n",
      "Epoch 29/256\n",
      "389911/389911 [==============================] - 25s 65us/sample - loss: 1.0993 - accuracy: 0.5323 - val_loss: 1.3454 - val_accuracy: 0.4475\n",
      "Epoch 30/256\n",
      "389911/389911 [==============================] - 25s 65us/sample - loss: 1.0969 - accuracy: 0.5330 - val_loss: 1.3369 - val_accuracy: 0.4469\n",
      "Epoch 31/256\n",
      "389911/389911 [==============================] - 25s 65us/sample - loss: 1.0960 - accuracy: 0.5342 - val_loss: 1.3640 - val_accuracy: 0.4440\n",
      "Epoch 32/256\n",
      "389911/389911 [==============================] - 27s 68us/sample - loss: 1.0933 - accuracy: 0.5350 - val_loss: 1.3666 - val_accuracy: 0.4464\n",
      "Epoch 33/256\n",
      "389911/389911 [==============================] - 25s 64us/sample - loss: 1.0912 - accuracy: 0.5363 - val_loss: 1.3763 - val_accuracy: 0.4402\n",
      "Epoch 34/256\n",
      "389911/389911 [==============================] - 25s 64us/sample - loss: 1.0905 - accuracy: 0.5367 - val_loss: 1.3502 - val_accuracy: 0.4463\n",
      "Epoch 35/256\n",
      "389911/389911 [==============================] - 25s 63us/sample - loss: 1.0881 - accuracy: 0.5372 - val_loss: 1.3402 - val_accuracy: 0.4433\n",
      "Epoch 36/256\n",
      "389911/389911 [==============================] - 25s 63us/sample - loss: 1.0856 - accuracy: 0.5389 - val_loss: 1.3937 - val_accuracy: 0.4416\n",
      "Epoch 37/256\n",
      "389911/389911 [==============================] - 26s 66us/sample - loss: 1.0848 - accuracy: 0.5399 - val_loss: 1.3834 - val_accuracy: 0.4426\n",
      "Epoch 38/256\n",
      "389911/389911 [==============================] - 26s 66us/sample - loss: 1.0828 - accuracy: 0.5411 - val_loss: 1.3833 - val_accuracy: 0.4430\n",
      "Epoch 39/256\n",
      "389911/389911 [==============================] - 25s 63us/sample - loss: 1.0807 - accuracy: 0.5412 - val_loss: 1.4276 - val_accuracy: 0.4400\n",
      "Epoch 40/256\n",
      "389911/389911 [==============================] - 25s 63us/sample - loss: 1.0788 - accuracy: 0.5433 - val_loss: 1.3869 - val_accuracy: 0.4440\n",
      "Epoch 41/256\n",
      "389911/389911 [==============================] - 25s 63us/sample - loss: 1.0765 - accuracy: 0.5436 - val_loss: 1.3775 - val_accuracy: 0.4469\n",
      "Epoch 42/256\n",
      "389911/389911 [==============================] - 25s 63us/sample - loss: 1.0759 - accuracy: 0.5437 - val_loss: 1.3768 - val_accuracy: 0.4444\n",
      "Epoch 43/256\n",
      "389911/389911 [==============================] - 25s 63us/sample - loss: 1.0731 - accuracy: 0.5454 - val_loss: 1.3872 - val_accuracy: 0.4434\n"
     ]
    }
   ],
   "source": [
    "cp_cb = tf.keras.callbacks.ModelCheckpoint(filepath=\"../Output/CheckPoint/mag_norm/model_{epoch:02d}-{loss:.2f}-{accuracy:.2f}-{val_loss:.2f}-{val_accuracy:.2f}.hdf5\", \n",
    "                                           monitor='val_loss', verbose=0, save_best_only=True, mode='auto')\n",
    "es_cb = tf.keras.callbacks.EarlyStopping(monitor='val_loss', patience=30, verbose=0, mode='auto')\n",
    "history = model.fit(x_train, y_train, epochs=256, batch_size=3072, validation_data=(x_test, y_test), callbacks=[cp_cb, es_cb])"
   ]
  },
  {
   "cell_type": "code",
   "execution_count": 31,
   "metadata": {},
   "outputs": [
    {
     "name": "stdout",
     "output_type": "stream",
     "text": [
      "Model: \"sequential_1\"\n",
      "_________________________________________________________________\n",
      "Layer (type)                 Output Shape              Param #   \n",
      "=================================================================\n",
      "conv2d_6 (Conv2D)            (None, 38, 23, 64)        640       \n",
      "_________________________________________________________________\n",
      "conv2d_7 (Conv2D)            (None, 38, 23, 32)        18464     \n",
      "_________________________________________________________________\n",
      "max_pooling2d_3 (MaxPooling2 (None, 19, 11, 32)        0         \n",
      "_________________________________________________________________\n",
      "batch_normalization_3 (Batch (None, 19, 11, 32)        128       \n",
      "_________________________________________________________________\n",
      "conv2d_8 (Conv2D)            (None, 19, 11, 64)        18496     \n",
      "_________________________________________________________________\n",
      "conv2d_9 (Conv2D)            (None, 19, 11, 32)        18464     \n",
      "_________________________________________________________________\n",
      "max_pooling2d_4 (MaxPooling2 (None, 9, 5, 32)          0         \n",
      "_________________________________________________________________\n",
      "dropout_1 (Dropout)          (None, 9, 5, 32)          0         \n",
      "_________________________________________________________________\n",
      "conv2d_10 (Conv2D)           (None, 9, 5, 64)          18496     \n",
      "_________________________________________________________________\n",
      "conv2d_11 (Conv2D)           (None, 9, 5, 32)          18464     \n",
      "_________________________________________________________________\n",
      "max_pooling2d_5 (MaxPooling2 (None, 4, 2, 32)          0         \n",
      "_________________________________________________________________\n",
      "batch_normalization_4 (Batch (None, 4, 2, 32)          128       \n",
      "_________________________________________________________________\n",
      "flatten_1 (Flatten)          (None, 256)               0         \n",
      "_________________________________________________________________\n",
      "dense_4 (Dense)              (None, 128)               32896     \n",
      "_________________________________________________________________\n",
      "dense_5 (Dense)              (None, 64)                8256      \n",
      "_________________________________________________________________\n",
      "batch_normalization_5 (Batch (None, 64)                256       \n",
      "_________________________________________________________________\n",
      "dense_6 (Dense)              (None, 16)                1040      \n",
      "_________________________________________________________________\n",
      "dense_7 (Dense)              (None, 5)                 85        \n",
      "=================================================================\n",
      "Total params: 135,813\n",
      "Trainable params: 135,557\n",
      "Non-trainable params: 256\n",
      "_________________________________________________________________\n"
     ]
    }
   ],
   "source": [
    "model.summary()"
   ]
  },
  {
   "cell_type": "code",
   "execution_count": 33,
   "metadata": {},
   "outputs": [
    {
     "data": {
      "image/png": "[encoded data removed]",
      "text/plain": [
       "<Figure size 432x288 with 1 Axes>"
      ]
     },
     "metadata": {
      "needs_background": "light"
     },
     "output_type": "display_data"
    },
    {
     "data": {
      "image/png": "[encoded data removed]",
      "text/plain": [
       "<Figure size 432x288 with 1 Axes>"
      ]
     },
     "metadata": {
      "needs_background": "light"
     },
     "output_type": "display_data"
    }
   ],
   "source": [
    "# Plot training & validation accuracy values\n",
    "plt.plot(history.history['accuracy'])\n",
    "plt.plot(history.history['val_accuracy'])\n",
    "plt.title('Model accuracy')\n",
    "plt.ylabel('Accuracy')\n",
    "plt.xlabel('Epoch')\n",
    "plt.legend(['Train', 'Test'], loc='upper left')\n",
    "plt.show()\n",
    "\n",
    "# Plot training & validation loss values\n",
    "plt.plot(history.history['loss'])\n",
    "plt.plot(history.history['val_loss'])\n",
    "plt.title('Model loss')\n",
    "plt.ylabel('Loss')\n",
    "plt.xlabel('Epoch')\n",
    "plt.legend(['Train', 'Test'], loc='upper left')\n",
    "# plt.ylim((0, 3.5))\n",
    "plt.show()"
   ]
  },
  {
   "cell_type": "code",
   "execution_count": 34,
   "metadata": {},
   "outputs": [],
   "source": [
    "model = tf.keras.models.load_model(\"../Output/CheckPoint/mag_norm/model_13-1.13-0.51-1.33-0.44.hdf5\")"
   ]
  },
  {
   "cell_type": "code",
   "execution_count": 37,
   "metadata": {},
   "outputs": [
    {
     "data": {
      "text/plain": [
       "0.481"
      ]
     },
     "execution_count": 37,
     "metadata": {},
     "output_type": "execute_result"
    },
    {
     "data": {
      "image/png": "[encoded data removed]",
      "text/plain": [
       "<Figure size 1152x576 with 2 Axes>"
      ]
     },
     "metadata": {
      "needs_background": "light"
     },
     "output_type": "display_data"
    }
   ],
   "source": [
    "# class_names = ['Still', 'Walking', 'Run', 'Bike', 'Car', 'Bus', 'Train', 'Subway']\n",
    "class_names = [\"Still\", \"Car\", \"Bus\", \"Train\", \"Subway\"]\n",
    "predict = model.predict_classes(X_test)\n",
    "plot_confusion_matrix(Y_test, predict, class_names, False, (16, 8))\n",
    "plt.grid(False)\n",
    "f1_macro = f1_score(Y_test, predict, average='macro')\n",
    "round(f1_macro, 3)"
   ]
  },
  {
   "cell_type": "code",
   "execution_count": null,
   "metadata": {},
   "outputs": [],
   "source": []
  }
 ],
 "metadata": {
  "kernelspec": {
   "display_name": "Python 3",
   "language": "python",
   "name": "python3"
  },
  "language_info": {
   "codemirror_mode": {
    "name": "ipython",
    "version": 3
   },
   "file_extension": ".py",
   "mimetype": "text/x-python",
   "name": "python",
   "nbconvert_exporter": "python",
   "pygments_lexer": "ipython3",
   "version": "3.7.6"
  }
 },
 "nbformat": 4,
 "nbformat_minor": 4
}

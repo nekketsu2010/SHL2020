{
 "nbformat": 4,
 "nbformat_minor": 2,
 "metadata": {
  "language_info": {
   "name": "python",
   "codemirror_mode": {
    "name": "ipython",
    "version": 3
   },
   "version": "3.7.6-final"
  },
  "orig_nbformat": 2,
  "file_extension": ".py",
  "mimetype": "text/x-python",
  "name": "python",
  "npconvert_exporter": "python",
  "pygments_lexer": "ipython3",
  "version": 3,
  "kernelspec": {
   "name": "python3",
   "display_name": "Python 3"
  }
 },
 "cells": [
  {
   "cell_type": "code",
   "execution_count": 1,
   "metadata": {},
   "outputs": [
    {
     "output_type": "display_data",
     "data": {
      "text/plain": "<IPython.core.display.HTML object>",
      "text/html": "<style>.container { width:90% !important; }</style>"
     },
     "metadata": {}
    }
   ],
   "source": [
    "import xgboost as xgb\n",
    "import numpy as np\n",
    "\n",
    "from sklearn.model_selection import train_test_split\n",
    "from sklearn.metrics import confusion_matrix\n",
    "from sklearn.model_selection import GridSearchCV\n",
    "\n",
    "import seaborn as sns\n",
    "sns.set(font='Yu Gothic')\n",
    "import matplotlib.pyplot as plt\n",
    "%matplotlib inline\n",
    "\n",
    "from IPython.core.display import display, HTML\n",
    "display(HTML(\"<style>.container { width:90% !important; }</style>\"))"
   ]
  },
  {
   "cell_type": "code",
   "execution_count": 7,
   "metadata": {},
   "outputs": [],
   "source": [
    "def load_npy(hold_position):\n",
    "    xy_mean = np.load(\"train_\" + hold_position + \"_glo_accel_xy_mean.npy\")\n",
    "    xy_var = np.load(\"train_\" + hold_position + \"_glo_accel_xy_var.npy\")\n",
    "    z_mean = np.load(\"train_\" + hold_position + \"_glo_accel_z_mean.npy\")\n",
    "    z_var = np.load(\"train_\" + hold_position + \"_glo_accel_z_var.npy\")\n",
    "    z_skew_kurtosis = np.load(\"train_\" + hold_position + \"_glo_accel_z_skew_kurtosis.npy\")\n",
    "    z_FFT = np.load(\"train_\" + hold_position + \"_glo_accel_z_amplitude_frequency.npy\")\n",
    "    result = np.concatenate([xy_mean.reshape([-1, 1]), xy_var.reshape([-1, 1]), z_mean.reshape([-1, 1]), z_var.reshape([-1, 1]), z_skew_kurtosis, z_FFT], axis=1)\n",
    "    del xy_mean, xy_var, z_mean, z_var, z_skew_kurtosis, z_FFT\n",
    "    return result"
   ]
  },
  {
   "cell_type": "code",
   "execution_count": 8,
   "metadata": {},
   "outputs": [
    {
     "output_type": "execute_result",
     "data": {
      "text/plain": "(195491, 8)"
     },
     "metadata": {},
     "execution_count": 8
    }
   ],
   "source": [
    "train_Bag = load_npy(\"Bag\")\n",
    "train_Hips = load_npy(\"Hips\")\n",
    "train_Torso = load_npy(\"Torso\")\n",
    "train_Hand = load_npy(\"Hand\")\n",
    "\n",
    "train_Bag.shape"
   ]
  },
  {
   "cell_type": "code",
   "execution_count": 15,
   "metadata": {},
   "outputs": [
    {
     "output_type": "execute_result",
     "data": {
      "text/plain": "(781964, 8)"
     },
     "metadata": {},
     "execution_count": 15
    }
   ],
   "source": [
    "X_train = np.concatenate([train_Bag, train_Hips, train_Torso, train_Hand], axis=0)\n",
    "X_train.shape"
   ]
  },
  {
   "cell_type": "code",
   "execution_count": 14,
   "metadata": {},
   "outputs": [
    {
     "output_type": "execute_result",
     "data": {
      "text/plain": "(781964, 1)"
     },
     "metadata": {},
     "execution_count": 14
    }
   ],
   "source": [
    "Y_train = np.load(\"../Data/センサ別npyファイル/train/train_Bag/train_Bag_Label.npy\")[:, 0]\n",
    "Y_train = np.concatenate([Y_train, Y_train, Y_train, Y_train], axis=0)\n",
    "Y_train.shape"
   ]
  },
  {
   "cell_type": "code",
   "execution_count": 12,
   "metadata": {},
   "outputs": [],
   "source": [
    "def load_npy(hold_position):\n",
    "    xy_mean = np.load(\"validation_\" + hold_position + \"_glo_accel_xy_mean.npy\")\n",
    "    xy_var = np.load(\"validation_\" + hold_position + \"_glo_accel_xy_var.npy\")\n",
    "    z_mean = np.load(\"validation_\" + hold_position + \"_glo_accel_z_mean.npy\")\n",
    "    z_var = np.load(\"validation_\" + hold_position + \"_glo_accel_z_var.npy\")\n",
    "    z_skew_kurtosis = np.load(\"validation_\" + hold_position + \"_glo_accel_z_skew_kurtosis.npy\")\n",
    "    z_FFT = np.load(\"validation_\" + hold_position + \"_glo_accel_z_amplitude_frequency.npy\")\n",
    "    result = np.concatenate([xy_mean.reshape([-1, 1]), xy_var.reshape([-1, 1]), z_mean.reshape([-1, 1]), z_var.reshape([-1, 1]), z_skew_kurtosis, z_FFT], axis=1)\n",
    "    del xy_mean, xy_var, z_mean, z_var, z_skew_kurtosis, z_FFT\n",
    "    return result"
   ]
  },
  {
   "cell_type": "code",
   "execution_count": 13,
   "metadata": {},
   "outputs": [
    {
     "output_type": "execute_result",
     "data": {
      "text/plain": "(28685, 8)"
     },
     "metadata": {},
     "execution_count": 13
    }
   ],
   "source": [
    "validation_Bag = load_npy(\"Bag\")\n",
    "validation_Hips = load_npy(\"Hips\")\n",
    "validation_Torso = load_npy(\"Torso\")\n",
    "validation_Hand = load_npy(\"Hand\")\n",
    "\n",
    "validation_Bag.shape"
   ]
  },
  {
   "cell_type": "code",
   "execution_count": 16,
   "metadata": {},
   "outputs": [
    {
     "output_type": "execute_result",
     "data": {
      "text/plain": "(114740, 8)"
     },
     "metadata": {},
     "execution_count": 16
    }
   ],
   "source": [
    "X_test = np.concatenate([validation_Bag, validation_Hips, validation_Torso, validation_Hand], axis=0)\n",
    "X_test.shape"
   ]
  },
  {
   "cell_type": "code",
   "execution_count": 17,
   "metadata": {},
   "outputs": [
    {
     "output_type": "execute_result",
     "data": {
      "text/plain": "(28685,)"
     },
     "metadata": {},
     "execution_count": 17
    }
   ],
   "source": [
    "import pickle\n",
    "Y_test = pickle.load(open(\"validation_Bag.binaryfile\", 'rb'))[:, 0, 0]\n",
    "Y_test.shape"
   ]
  },
  {
   "cell_type": "code",
   "execution_count": 18,
   "metadata": {},
   "outputs": [
    {
     "output_type": "execute_result",
     "data": {
      "text/plain": "(114740, 1)"
     },
     "metadata": {},
     "execution_count": 18
    }
   ],
   "source": [
    "Y_test = Y_test.reshape([-1, 1])\n",
    "Y_test = np.concatenate([Y_test, Y_test, Y_test, Y_test], axis=0)\n",
    "Y_test.shape"
   ]
  },
  {
   "cell_type": "code",
   "execution_count": null,
   "metadata": {},
   "outputs": [],
   "source": [
    "model = xgb.XGBClassifier(learning_rate=0.05)\n",
    "param = {\n",
    "    \"max_depth\":[], \"min_child_weight\":[7,8,9]\n",
    "    # \"gamma\":[0.01, 0.05, 0.075, 0.1]\n",
    "    # \"subsample\":[0.70, 0.75, 0.80, 0.85, 0.90, 0.95, 1.00], \"colsample_bytree\":[0.70, 0.75, 0.80, 0.85, 0.90, 0.95, 1.00]\n",
    "    # \"n_estimators\":[250, 500, 750], \"learning_rate\":[0.05, 0.1]\n",
    "    # \"reg_alpha\":[0.1, 0.25, 0.5, 0.75]\n",
    "}\n",
    "grid = GridSearchCV(model, param_grid=param, cv=5, n_jobs=-1, scoring='f1_macro')\n",
    "grid.fit(X_train[random_index], Y_train[random_index])\n",
    "\n",
    "test_F1_Macro = grid.score(X_test, Y_test)\n",
    "print(\"Best parameters: %s\" % grid.best_params_)\n",
    "print(\"Best Train F1_macro: %s\" % grid.best_score_)\n",
    "print(\"Test F1_macro: %s\" % test_F1_Macro)"
   ]
  }
 ]
}
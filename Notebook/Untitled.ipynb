{
 "cells": [
  {
   "cell_type": "code",
   "execution_count": null,
   "metadata": {},
   "outputs": [],
   "source": [
    "import numpy as np\n",
    "import os\n",
    "import random\n",
    "import scipy\n",
    "from scipy import signal\n",
    "from numpy.fft import fft\n",
    "from sklearn.metrics import confusion_matrix\n",
    "\n",
    "import tensorflow as tf\n",
    "from tensorflow.keras import layers\n",
    "from tensorflow.keras.initializers import he_normal\n",
    "\n",
    "from sklearn.model_selection import train_test_split\n",
    "\n",
    "import pandas as pd\n",
    "import dask.dataframe as ddf\n",
    "import dask.multiprocessing\n",
    "from multiprocessing import Pool\n",
    "import multiprocessing as multi\n",
    "\n",
    "import seaborn as sns\n",
    "sns.set(font='Yu Gothic')\n",
    "import matplotlib.pyplot as plt\n",
    "%matplotlib inline\n",
    "\n",
    "from IPython.core.display import display, HTML\n",
    "display(HTML(\"<style>.container { width:90% !important; }</style>\"))\n",
    "\n",
    "from read_csv import wrapper"
   ]
  },
  {
   "cell_type": "code",
   "execution_count": null,
   "metadata": {
    "scrolled": true
   },
   "outputs": [],
   "source": [
    "columns = ['Label', 'Acc_x', 'Acc_y', 'Acc_z', 'Glo_Acc_x', 'Glo_Acc_y',\n",
    "       'Glo_Acc_z', 'Gra_x', 'Gra_y', 'Gra_z', 'Gyr_x', 'Gyr_y', 'Gyr_z',\n",
    "       'LAcc_x', 'LAcc_y', 'LAcc_z', 'Mag_x', 'Mag_y', 'Mag_z', 'Ori_w',\n",
    "       'Ori_x', 'Ori_y', 'Ori_z', 'Pressure']\n",
    "\n",
    "columns = dict(zip(columns, [tmp for tmp in range(len(columns))]))\n",
    "\n",
    "columns"
   ]
  },
  {
   "cell_type": "code",
   "execution_count": null,
   "metadata": {},
   "outputs": [],
   "source": [
    "def load_train_data(hold_position, rates=0.1):\n",
    "    file_path = \"../Data/test/\"\n",
    "    csv_files = os.listdir(file_path)\n",
    "    csv_files = [tmp for tmp in csv_files if \".csv\" in tmp]\n",
    "    p = Pool(multi.cpu_count())\n",
    "    args = [[hold_position, csv_file] for csv_file in csv_files[:int(len(csv_files) * rates)]]\n",
    "    arr = p.map(wrapper, args)\n",
    "    return np.array(arr)"
   ]
  },
  {
   "cell_type": "code",
   "execution_count": null,
   "metadata": {
    "scrolled": true
   },
   "outputs": [],
   "source": [
    "%%time\n",
    "# Bag = load_train_data(\"Bag\", rates=1.0)\n",
    "# Hips = load_train_data(\"Hips\", rates=1.0)\n",
    "# Torso = load_train_data(\"Torso\", rates=1.0)\n",
    "# Hand = load_train_data(\"Hand\", rates=1.0)\n",
    "Test = load_train_data(\"\", rates=1.0)"
   ]
  },
  {
   "cell_type": "code",
   "execution_count": null,
   "metadata": {},
   "outputs": [],
   "source": [
    "import sys\n",
    "str(sys.getsizeof(Test) / 1000000000) + \"GB\""
   ]
  },
  {
   "cell_type": "code",
   "execution_count": null,
   "metadata": {},
   "outputs": [],
   "source": [
    "%%time\n",
    "import pickle\n",
    "# pickle.dump(Bag, open(\"validation_Bag.binaryfile\", 'wb'), protocol=pickle.HIGHEST_PROTOCOL)\n",
    "# pickle.dump(Hips, open(\"validation_Hips.binaryfile\", 'wb'), protocol=pickle.HIGHEST_PROTOCOL)\n",
    "# pickle.dump(Torso, open(\"validation_Torso.binaryfile\", 'wb'), protocol=pickle.HIGHEST_PROTOCOL)\n",
    "# pickle.dump(Hand, open(\"validation_Hand.binaryfile\", 'wb'), protocol=pickle.HIGHEST_PROTOCOL)\n",
    "pickle.dump(Test, open(\"Test.binaryfile\", 'wb'), protocol=pickle.HIGHEST_PROTOCOL)"
   ]
  },
  {
   "cell_type": "code",
   "execution_count": null,
   "metadata": {},
   "outputs": [],
   "source": [
    "def Acc_plot(index, count=10):\n",
    "#     count = 300\n",
    "    tt = np.linspace(0, count * 5, count * 500)\n",
    "    plt.figure(figsize=(24, 8))\n",
    "    bag = Bag[0]\n",
    "    hips = Hips[0]\n",
    "    torso = Torso[0]\n",
    "\n",
    "    for i in range(1, count):\n",
    "        bag = np.vstack((bag, Bag[i]))\n",
    "        hips = np.vstack((hips, Hips[i]))\n",
    "        torso = np.vstack((torso, Torso[i]))\n",
    "    print(bag.shape)\n",
    "    plt.plot(tt, bag[:, index], color='blue')\n",
    "    plt.plot(tt, hips[:, index], color='red')\n",
    "    plt.plot(tt, torso[:, index], color='green')\n",
    "    plt.xlabel(\"second\", fontsize=18)\n",
    "    plt.ylabel(\"m/s^2\", fontsize=18)\n",
    "    plt.show()"
   ]
  },
  {
   "cell_type": "markdown",
   "metadata": {},
   "source": [
    "## Acc_x"
   ]
  },
  {
   "cell_type": "code",
   "execution_count": null,
   "metadata": {},
   "outputs": [],
   "source": [
    "Acc_plot(1, 300)\n",
    "\n",
    "# tt = np.linspace(0, 5000, 500)\n",
    "# plt.figure(figsize=(24, 32))\n",
    "# plt.subplots_adjust(wspace=0.4, hspace=0.6)\n",
    "# count = 10\n",
    "# for i in range(count):\n",
    "#     plt.subplot(count, 1, i+1)\n",
    "#     plt.plot(tt, Bag[i, :, 1], color='blue')\n",
    "#     plt.plot(tt,Hips[i, :, 1], color='red')\n",
    "#     plt.plot(tt, Torso[i, :, 1], color='green')\n",
    "#     plt.xlabel(\"ms\", fontsize=18)\n",
    "#     plt.ylabel(\"m/s^2\", fontsize=18)\n",
    "# plt.show()"
   ]
  },
  {
   "cell_type": "markdown",
   "metadata": {},
   "source": [
    "## Acc_y"
   ]
  },
  {
   "cell_type": "code",
   "execution_count": null,
   "metadata": {},
   "outputs": [],
   "source": [
    "Acc_plot(2, 300)\n",
    "\n",
    "# tt = np.linspace(0, 5000, 500)\n",
    "# plt.figure(figsize=(24, 32))\n",
    "# plt.subplots_adjust(wspace=0.4, hspace=0.6)\n",
    "# count = 10\n",
    "# for i in range(count):\n",
    "#     plt.subplot(count, 1, i+1)\n",
    "#     plt.plot(tt, Bag[i, :, 2], color='blue')\n",
    "#     plt.plot(tt,Hips[i, :, 2], color='red')\n",
    "#     plt.plot(tt, Torso[i, :, 2], color='green')\n",
    "#     plt.xlabel(\"ms\", fontsize=18)\n",
    "#     plt.ylabel(\"m/s^2\", fontsize=18)\n",
    "# plt.show()"
   ]
  },
  {
   "cell_type": "markdown",
   "metadata": {},
   "source": [
    "## Acc_z"
   ]
  },
  {
   "cell_type": "code",
   "execution_count": null,
   "metadata": {},
   "outputs": [],
   "source": [
    "Acc_plot(3, 300)\n",
    "\n",
    "# tt = np.linspace(0, 5000, 500)\n",
    "# plt.figure(figsize=(24, 32))\n",
    "# plt.subplots_adjust(wspace=0.4, hspace=0.6)\n",
    "# count = 10\n",
    "# for i in range(count):\n",
    "#     plt.subplot(count, 1, i+1)\n",
    "#     plt.plot(tt, Bag[i, :, 3], color='blue')\n",
    "#     plt.plot(tt,Hips[i, :, 3], color='red')\n",
    "#     plt.plot(tt, Torso[i, :, 3], color='green')\n",
    "#     plt.xlabel(\"ms\", fontsize=18)\n",
    "#     plt.ylabel(\"m/s^2\", fontsize=18)\n",
    "# plt.show()"
   ]
  },
  {
   "cell_type": "markdown",
   "metadata": {},
   "source": [
    "## Glo_Acc_x"
   ]
  },
  {
   "cell_type": "code",
   "execution_count": null,
   "metadata": {},
   "outputs": [],
   "source": [
    "Acc_plot(4, 300)\n",
    "\n",
    "# tt = np.linspace(0, 5000, 500)\n",
    "# plt.figure(figsize=(24, 32))\n",
    "# plt.subplots_adjust(wspace=0.4, hspace=0.6)\n",
    "# count = 10\n",
    "# for i in range(count):\n",
    "#     plt.subplot(count, 1, i+1)\n",
    "#     plt.plot(tt, Bag[i, :, 4], color='blue')\n",
    "#     plt.plot(tt,Hips[i, :, 4], color='red')\n",
    "#     plt.plot(tt, Torso[i, :, 4], color='green')\n",
    "#     plt.xlabel(\"ms\", fontsize=18)\n",
    "#     plt.ylabel(\"m/s^2\", fontsize=18)\n",
    "# plt.show()"
   ]
  },
  {
   "cell_type": "markdown",
   "metadata": {},
   "source": [
    "## Glo_Acc_y"
   ]
  },
  {
   "cell_type": "code",
   "execution_count": null,
   "metadata": {},
   "outputs": [],
   "source": [
    "Acc_plot(5, 300)\n",
    "\n",
    "# tt = np.linspace(0, 5000, 500)\n",
    "# plt.figure(figsize=(24, 32))\n",
    "# plt.subplots_adjust(wspace=0.4, hspace=0.6)\n",
    "# count = 10\n",
    "# for i in range(count):\n",
    "#     plt.subplot(count, 1, i+1)\n",
    "#     plt.plot(tt, Bag[i, :, 5], color='blue')\n",
    "#     plt.plot(tt,Hips[i, :, 5], color='red')\n",
    "#     plt.plot(tt, Torso[i, :, 5], color='green')\n",
    "#     plt.xlabel(\"ms\", fontsize=18)\n",
    "#     plt.ylabel(\"m/s^2\", fontsize=18)\n",
    "# plt.show()"
   ]
  },
  {
   "cell_type": "markdown",
   "metadata": {},
   "source": [
    "## Glo_Acc_z"
   ]
  },
  {
   "cell_type": "code",
   "execution_count": null,
   "metadata": {},
   "outputs": [],
   "source": [
    "Acc_plot(6, 300)\n",
    "\n",
    "# tt = np.linspace(0, 5000, 500)\n",
    "# plt.figure(figsize=(24, 32))\n",
    "# plt.subplots_adjust(wspace=0.4, hspace=0.6)\n",
    "# count = 10\n",
    "# for i in range(count):\n",
    "#     plt.subplot(count, 1, i+1)\n",
    "#     plt.plot(tt, Bag[i, :, 6], color='blue')\n",
    "#     plt.plot(tt,Hips[i, :, 6], color='red')\n",
    "#     plt.plot(tt, Torso[i, :, 6], color='green')\n",
    "#     plt.xlabel(\"ms\", fontsize=18)\n",
    "#     plt.ylabel(\"m/s^2\", fontsize=18)\n",
    "# plt.show()"
   ]
  },
  {
   "cell_type": "code",
   "execution_count": 1,
   "metadata": {},
   "outputs": [
    {
     "data": {
      "text/html": [
       "<style>.container { width:90% !important; }</style>"
      ],
      "text/plain": [
       "<IPython.core.display.HTML object>"
      ]
     },
     "metadata": {},
     "output_type": "display_data"
    }
   ],
   "source": [
    "import numpy as np\n",
    "\n",
    "import seaborn as sns\n",
    "sns.set(font='Yu Gothic')\n",
    "import matplotlib.pyplot as plt\n",
    "%matplotlib inline\n",
    "\n",
    "from IPython.core.display import display, HTML\n",
    "display(HTML(\"<style>.container { width:90% !important; }</style>\"))"
   ]
  },
  {
   "cell_type": "code",
   "execution_count": 2,
   "metadata": {},
   "outputs": [
    {
     "data": {
      "text/plain": [
       "(195491, 1)"
      ]
     },
     "execution_count": 2,
     "metadata": {},
     "output_type": "execute_result"
    }
   ],
   "source": [
    "train_Label = np.load(\"../Data/センサ別npyファイル/train/train_Bag/train_Bag_Label.npy\")[:, 0].reshape([-1, 1])\n",
    "train_Label.shape"
   ]
  },
  {
   "cell_type": "code",
   "execution_count": 5,
   "metadata": {},
   "outputs": [],
   "source": [
    "labels = []\n",
    "for i in range(8):\n",
    "    labels.append(np.sum(train_Label[:, 0] == (i+1)))"
   ]
  },
  {
   "cell_type": "code",
   "execution_count": 19,
   "metadata": {},
   "outputs": [
    {
     "data": {
      "image/png": "[encoded data removed]",
      "text/plain": [
       "<Figure size 1152x576 with 1 Axes>"
      ]
     },
     "metadata": {
      "needs_background": "light"
     },
     "output_type": "display_data"
    }
   ],
   "source": [
    "class_names = [\"Still\", \"Walking\", \"Run\", \"Bike\", \"Car\", \"Bus\", \"Train\", \"Subway\"]\n",
    "\n",
    "fig, ax = plt.subplots(figsize=(16, 8))\n",
    "rect = plt.bar(class_names, np.array(labels))\n",
    "def autolabel(rects):\n",
    "    for rect in rects:\n",
    "        height = rect.get_height()\n",
    "        ax.annotate('{}'.format(height),\n",
    "                   xy=(rect.get_x() + rect.get_width() / 2, height),\n",
    "                   xytext=(0, 3),\n",
    "                   textcoords=\"offset points\",\n",
    "                   ha='center', va='bottom', fontsize=16)\n",
    "autolabel(rect)\n",
    "plt.grid(False)\n",
    "plt.title(\"train data\", fontsize=24)\n",
    "plt.show()"
   ]
  },
  {
   "cell_type": "code",
   "execution_count": 23,
   "metadata": {},
   "outputs": [
    {
     "data": {
      "text/plain": [
       "[1.304315629242605,\n",
       " 1.299237767396115,\n",
       " 3.763086053412463,\n",
       " 1.3542930371636053,\n",
       " 1.0,\n",
       " 1.1219080646873563,\n",
       " 1.0162841389921784,\n",
       " 1.3327728266352783]"
      ]
     },
     "execution_count": 23,
     "metadata": {},
     "output_type": "execute_result"
    }
   ],
   "source": [
    "rates = []\n",
    "\n",
    "for i in range(8):\n",
    "    rates.append(1 / (labels[i] / labels[4]))\n",
    "\n",
    "rates"
   ]
  },
  {
   "cell_type": "code",
   "execution_count": 24,
   "metadata": {},
   "outputs": [
    {
     "data": {
      "text/plain": [
       "(28685, 1)"
      ]
     },
     "execution_count": 24,
     "metadata": {},
     "output_type": "execute_result"
    }
   ],
   "source": [
    "validation_Label = np.load(\"../Data/センサ別npyファイル/validation/validation_Bag/validation_Bag_Label.npy\")[:, 0].reshape([-1, 1])\n",
    "validation_Label.shape"
   ]
  },
  {
   "cell_type": "code",
   "execution_count": 25,
   "metadata": {},
   "outputs": [],
   "source": [
    "labels = []\n",
    "for i in range(8):\n",
    "    labels.append(np.sum(validation_Label[:, 0] == (i+1)))"
   ]
  },
  {
   "cell_type": "code",
   "execution_count": 27,
   "metadata": {},
   "outputs": [
    {
     "data": {
      "image/png": "[encoded data removed]",
      "text/plain": [
       "<Figure size 1152x576 with 1 Axes>"
      ]
     },
     "metadata": {
      "needs_background": "light"
     },
     "output_type": "display_data"
    }
   ],
   "source": [
    "class_names = [\"Still\", \"Walking\", \"Run\", \"Bike\", \"Car\", \"Bus\", \"Train\", \"Subway\"]\n",
    "\n",
    "fig, ax = plt.subplots(figsize=(16, 8))\n",
    "rect = plt.bar(class_names, np.array(labels))\n",
    "def autolabel(rects):\n",
    "    for rect in rects:\n",
    "        height = rect.get_height()\n",
    "        ax.annotate('{}'.format(height),\n",
    "                   xy=(rect.get_x() + rect.get_width() / 2, height),\n",
    "                   xytext=(0, 3),\n",
    "                   textcoords=\"offset points\",\n",
    "                   ha='center', va='bottom', fontsize=16)\n",
    "autolabel(rect)\n",
    "plt.grid(False)\n",
    "plt.title(\"validation data\", fontsize=24)\n",
    "plt.show()"
   ]
  }
 ],
 "metadata": {
  "kernelspec": {
   "display_name": "Python 3",
   "language": "python",
   "name": "python3"
  },
  "language_info": {
   "codemirror_mode": {
    "name": "ipython",
    "version": 3
   },
   "file_extension": ".py",
   "mimetype": "text/x-python",
   "name": "python",
   "nbconvert_exporter": "python",
   "pygments_lexer": "ipython3",
   "version": "3.7.6"
  }
 },
 "nbformat": 4,
 "nbformat_minor": 4
}

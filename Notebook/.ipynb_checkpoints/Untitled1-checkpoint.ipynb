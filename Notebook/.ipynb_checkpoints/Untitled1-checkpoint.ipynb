{
 "cells": [
  {
   "cell_type": "code",
   "execution_count": 1,
   "metadata": {},
   "outputs": [
    {
     "data": {
      "text/html": [
       "<style>.container { width:90% !important; }</style>"
      ],
      "text/plain": [
       "<IPython.core.display.HTML object>"
      ]
     },
     "metadata": {},
     "output_type": "display_data"
    }
   ],
   "source": [
    "import numpy as np\n",
    "import os\n",
    "import random\n",
    "import scipy\n",
    "from scipy import signal\n",
    "from numpy.fft import fft\n",
    "from sklearn.metrics import confusion_matrix\n",
    "\n",
    "import tensorflow as tf\n",
    "from tensorflow.keras import layers\n",
    "from tensorflow.keras.initializers import he_normal\n",
    "\n",
    "from sklearn.model_selection import train_test_split\n",
    "\n",
    "import pandas as pd\n",
    "import pickle\n",
    "\n",
    "import seaborn as sns\n",
    "sns.set(font='Yu Gothic')\n",
    "import matplotlib.pyplot as plt\n",
    "%matplotlib inline\n",
    "\n",
    "from IPython.core.display import display, HTML\n",
    "display(HTML(\"<style>.container { width:90% !important; }</style>\"))"
   ]
  },
  {
   "cell_type": "code",
   "execution_count": 2,
   "metadata": {},
   "outputs": [
    {
     "name": "stdout",
     "output_type": "stream",
     "text": [
      "Wall time: 4h 27min 15s\n"
     ]
    }
   ],
   "source": [
    "%%time\n",
    "train_Bag = np.load(\"train_Bag.npy\")\n",
    "train_Hips = np.load(\"train_Hips.npy\")\n",
    "train_Torso = np.load(\"train_Torso.npy\")\n",
    "train_Hand = np.load(\"train_Hand.npy\")"
   ]
  },
  {
   "cell_type": "code",
   "execution_count": 3,
   "metadata": {
    "scrolled": true
   },
   "outputs": [
    {
     "data": {
      "text/plain": [
       "{'Label': 0,\n",
       " 'Acc_x': 1,\n",
       " 'Acc_y': 2,\n",
       " 'Acc_z': 3,\n",
       " 'Glo_Acc_x': 4,\n",
       " 'Glo_Acc_y': 5,\n",
       " 'Glo_Acc_z': 6,\n",
       " 'Gra_x': 7,\n",
       " 'Gra_y': 8,\n",
       " 'Gra_z': 9,\n",
       " 'Gyr_x': 10,\n",
       " 'Gyr_y': 11,\n",
       " 'Gyr_z': 12,\n",
       " 'LAcc_x': 13,\n",
       " 'LAcc_y': 14,\n",
       " 'LAcc_z': 15,\n",
       " 'Mag_x': 16,\n",
       " 'Mag_y': 17,\n",
       " 'Mag_z': 18,\n",
       " 'Ori_w': 19,\n",
       " 'Ori_x': 20,\n",
       " 'Ori_y': 21,\n",
       " 'Ori_z': 22,\n",
       " 'Pressure': 23}"
      ]
     },
     "execution_count": 3,
     "metadata": {},
     "output_type": "execute_result"
    }
   ],
   "source": [
    "columns = ['Label', 'Acc_x', 'Acc_y', 'Acc_z', 'Glo_Acc_x', 'Glo_Acc_y',\n",
    "       'Glo_Acc_z', 'Gra_x', 'Gra_y', 'Gra_z', 'Gyr_x', 'Gyr_y', 'Gyr_z',\n",
    "       'LAcc_x', 'LAcc_y', 'LAcc_z', 'Mag_x', 'Mag_y', 'Mag_z', 'Ori_w',\n",
    "       'Ori_x', 'Ori_y', 'Ori_z', 'Pressure']\n",
    "columns = dict(zip(columns, [tmp for tmp in range(len(columns))]))\n",
    "columns"
   ]
  },
  {
   "cell_type": "code",
   "execution_count": 4,
   "metadata": {},
   "outputs": [],
   "source": [
    "def Acc_plot(index, start_index, count=10):\n",
    "#     count = 300\n",
    "    tt = np.linspace(0, 100, count * 500)\n",
    "    plt.figure(figsize=(24, 4))\n",
    "    bag = train_Bag[start_index].copy()\n",
    "    hips = train_Hips[start_index].copy()\n",
    "    torso = train_Torso[start_index].copy()\n",
    "    hand = train_Hand[start_index].copy()\n",
    "\n",
    "    for i in range(start_index+1, start_index + count):\n",
    "        bag = np.vstack((bag, train_Bag[i].copy()))\n",
    "        hips = np.vstack((hips, train_Hips[i].copy()))\n",
    "        torso = np.vstack((torso, train_Torso[i].copy()))\n",
    "        hand = np.vstack((hand, train_Hand[i].copy()))\n",
    "    print(bag.shape)\n",
    "    \n",
    "    bag[:, index] = np.abs(np.fft.fft(bag[:, index]))\n",
    "    hips[:, index] = np.abs(np.fft.fft(hips[:, index]))\n",
    "    torso[:, index] = np.abs(np.fft.fft(torso[:, index]))\n",
    "    hand[:, index] = np.abs(np.fft.fft(hand[:, index]))\n",
    "    \n",
    "    plt.plot(tt, bag[:, index], color='blue')\n",
    "    plt.plot(tt, hips[:, index], color='red')\n",
    "    plt.plot(tt, torso[:, index], color='green')\n",
    "    plt.plot(tt, torso[:, index], color='yellow')\n",
    "    plt.xlabel(\"Frequency[Hz]\", fontsize=18)\n",
    "    plt.ylabel(\"Amplitude\", fontsize=18)\n",
    "    plt.xlim(0.1, 50)\n",
    "#     plt.ylim(0, 30 ** 8)\n",
    "    plt.show()\n",
    "    print(bag[0, 0])"
   ]
  },
  {
   "cell_type": "code",
   "execution_count": 5,
   "metadata": {},
   "outputs": [
    {
     "name": "stdout",
     "output_type": "stream",
     "text": [
      "(500, 24)\n"
     ]
    },
    {
     "data": {
      "image/png": "[encoded data removed]",
      "text/plain": [
       "<Figure size 1728x288 with 1 Axes>"
      ]
     },
     "metadata": {
      "needs_background": "light"
     },
     "output_type": "display_data"
    },
    {
     "name": "stdout",
     "output_type": "stream",
     "text": [
      "1.0\n"
     ]
    }
   ],
   "source": [
    "Acc_plot(1, 18000, 1)"
   ]
  },
  {
   "cell_type": "code",
   "execution_count": 6,
   "metadata": {},
   "outputs": [
    {
     "data": {
      "text/plain": [
       "(195491, 500, 24)"
      ]
     },
     "execution_count": 6,
     "metadata": {},
     "output_type": "execute_result"
    }
   ],
   "source": [
    "train_Bag.shape"
   ]
  },
  {
   "cell_type": "code",
   "execution_count": 19,
   "metadata": {},
   "outputs": [
    {
     "name": "stdout",
     "output_type": "stream",
     "text": [
      "Wall time: 8min 33s\n"
     ]
    }
   ],
   "source": [
    "%%time\n",
    "train_Bag_glo_accel_xy = np.sqrt(np.square(train_Bag[:, :, 4].copy()) + np.square(train_Bag[:, :, 5].copy()))\n",
    "np.save(\"train_Bag_glo_accel_xy\", train_Bag_glo_accel_xy)"
   ]
  },
  {
   "cell_type": "code",
   "execution_count": 20,
   "metadata": {},
   "outputs": [
    {
     "data": {
      "text/plain": [
       "(195491, 500)"
      ]
     },
     "execution_count": 20,
     "metadata": {},
     "output_type": "execute_result"
    }
   ],
   "source": [
    "train_Bag_glo_accel_xy.shape"
   ]
  },
  {
   "cell_type": "code",
   "execution_count": 26,
   "metadata": {},
   "outputs": [
    {
     "name": "stdout",
     "output_type": "stream",
     "text": [
      "Wall time: 3min 20s\n"
     ]
    }
   ],
   "source": [
    "%%time\n",
    "\n",
    "np.save(\"train_Bag_glo_z_mean\", np.mean(train_Bag[:, :, 6].copy(), axis=1))\n",
    "\n",
    "from mutagen.mp3 import MP3 as mp3\n",
    "import pygame\n",
    "import time\n",
    "\n"
   ]
  },
  {
   "cell_type": "code",
   "execution_count": 23,
   "metadata": {},
   "outputs": [
    {
     "data": {
      "text/plain": [
       "(195491,)"
      ]
     },
     "execution_count": 23,
     "metadata": {},
     "output_type": "execute_result"
    }
   ],
   "source": [
    " np.mean(train_Bag_glo_accel_xy.copy(), axis=1).shape"
   ]
  },
  {
   "cell_type": "code",
   "execution_count": 32,
   "metadata": {},
   "outputs": [],
   "source": [
    "np.save(\"train_Bag_pressure_change\", train_Bag[:, -1, -1] - train_Bag[:, 0, -1])\n",
    "\n",
    "filename = '../mac_poteto.mp3' #再生したいmp3ファイル\n",
    "pygame.mixer.init()\n",
    "pygame.mixer.music.load(filename) #音源を読み込み\n",
    "mp3_length = mp3(filename).info.length #音源の長さ取得\n",
    "pygame.mixer.music.play(1) #再生開始。1の部分を変えるとn回再生(その場合は次の行の秒数も×nすること)\n",
    "time.sleep(mp3_length + 0.25) #再生開始後、音源の長さだけ待つ(0.25待つのは誤差解消)\n",
    "pygame.mixer.music.stop() #音源の長さ待ったら再生停止"
   ]
  },
  {
   "cell_type": "code",
   "execution_count": 33,
   "metadata": {},
   "outputs": [],
   "source": [
    "def save_npy(x, hold_position):\n",
    "    x_glo_accel_xy = np.sqrt(np.square(x[:, :, 4]) + np.square(x[:, :, 5]))\n",
    "    np.save(\"train_\" + hold_position + \"_glo_accel_xy\", x_glo_accel_xy)\n",
    "    np.save(\"train_\" + hold_position + \"_glo_accel_xy_mean\", np.mean(x_glo_accel_xy.copy(), axis=1))\n",
    "    np.save(\"train_\" + hold_position + \"_glo_accel_xy_var\", np.var(x_glo_accel_xy.copy(), axis=1))\n",
    "    np.save(\"train_\" + hold_position + \"_glo_accel_z_mean\", np.mean(x[:, :, 6].copy(), axis=1))\n",
    "    np.save(\"train_\" + hold_position + \"_glo_accel_z_var\", np.var(x[:, :, 6].copy(), axis=1))\n",
    "    np.save(\"train_\" + hold_position + \"_pressure_change\", x[:, -1, -1] - x[:, 0, -1])"
   ]
  },
  {
   "cell_type": "code",
   "execution_count": 34,
   "metadata": {},
   "outputs": [
    {
     "name": "stdout",
     "output_type": "stream",
     "text": [
      "Wall time: 3h 2min 58s\n"
     ]
    }
   ],
   "source": [
    "%%time\n",
    "save_npy(train_Hips.copy(), \"Hips\")\n",
    "save_npy(train_Torso.copy(), \"Torso\")\n",
    "save_npy(train_Hand.copy(), \"Hand\")\n",
    "\n",
    "filename = '../mac_poteto.mp3' #再生したいmp3ファイル\n",
    "pygame.mixer.init()\n",
    "pygame.mixer.music.load(filename) #音源を読み込み\n",
    "mp3_length = mp3(filename).info.length #音源の長さ取得\n",
    "pygame.mixer.music.play(1) #再生開始。1の部分を変えるとn回再生(その場合は次の行の秒数も×nすること)\n",
    "time.sleep(mp3_length + 0.25) #再生開始後、音源の長さだけ待つ(0.25待つのは誤差解消)\n",
    "pygame.mixer.music.stop() #音源の長さ待ったら再生停止"
   ]
  },
  {
   "cell_type": "code",
   "execution_count": 35,
   "metadata": {},
   "outputs": [],
   "source": [
    "def save_columns(x, start_index, end_index, file_name):\n",
    "    np.save(file_name, x[:, :, start_index:end_index])"
   ]
  },
  {
   "cell_type": "code",
   "execution_count": 36,
   "metadata": {},
   "outputs": [
    {
     "name": "stdout",
     "output_type": "stream",
     "text": [
      "Wall time: 54min 9s\n"
     ]
    }
   ],
   "source": [
    "%%time\n",
    "save_columns(train_Bag, 0, 1, \"train_Bag/train_Bag_Label\")\n",
    "save_columns(train_Bag, 1, 4, \"train_Bag/train_Bag_Acc\")\n",
    "save_columns(train_Bag, 4, 7, \"train_Bag/train_Bag_Glo_Acc\")\n",
    "save_columns(train_Bag, 7, 10, \"train_Bag/train_Bag_Gra\")\n",
    "save_columns(train_Bag, 10, 13, \"train_Bag/train_Bag_Gyr\")\n",
    "save_columns(train_Bag, 13, 16, \"train_Bag/train_Bag_LAcc\")\n",
    "save_columns(train_Bag, 16, 19, \"train_Bag/train_Bag_Mag\")\n",
    "save_columns(train_Bag, 19, 23, \"train_Bag/train_Bag_Ori\")\n",
    "save_columns(train_Bag, 23, 24, \"train_Bag/train_Bag_Pressure\")"
   ]
  },
  {
   "cell_type": "code",
   "execution_count": 37,
   "metadata": {},
   "outputs": [
    {
     "name": "stdout",
     "output_type": "stream",
     "text": [
      "Wall time: 24min 2s\n"
     ]
    }
   ],
   "source": [
    "%%time\n",
    "save_columns(train_Hips, 0, 1, \"train_Hips/train_Hips_Label\")\n",
    "save_columns(train_Hips, 1, 4, \"train_Hips/train_Hips_Acc\")\n",
    "save_columns(train_Hips, 4, 7, \"train_Hips/train_Hips_Glo_Acc\")\n",
    "save_columns(train_Hips, 7, 10, \"train_Hips/train_Hips_Gra\")\n",
    "save_columns(train_Hips, 10, 13, \"train_Hips/train_Hips_Gyr\")\n",
    "save_columns(train_Hips, 13, 16, \"train_Hips/train_Hips_LAcc\")\n",
    "save_columns(train_Hips, 16, 19, \"train_Hips/train_Hips_Mag\")\n",
    "save_columns(train_Hips, 19, 23, \"train_Hips/train_Hips_Ori\")\n",
    "save_columns(train_Hips, 23, 24, \"train_Hips/train_Hips_Pressure\")"
   ]
  },
  {
   "cell_type": "code",
   "execution_count": 38,
   "metadata": {},
   "outputs": [
    {
     "name": "stdout",
     "output_type": "stream",
     "text": [
      "Wall time: 19min 6s\n"
     ]
    }
   ],
   "source": [
    "%%time\n",
    "save_columns(train_Torso, 0, 1, \"train_Torso/train_Torso_Label\")\n",
    "save_columns(train_Torso, 1, 4, \"train_Torso/train_Torso_Acc\")\n",
    "save_columns(train_Torso, 4, 7, \"train_Torso/train_Torso_Glo_Acc\")\n",
    "save_columns(train_Torso, 7, 10, \"train_Torso/train_Torso_Gra\")\n",
    "save_columns(train_Torso, 10, 13, \"train_Torso/train_Torso_Gyr\")\n",
    "save_columns(train_Torso, 13, 16, \"train_Torso/train_Torso_LAcc\")\n",
    "save_columns(train_Torso, 16, 19, \"train_Torso/train_Torso_Mag\")\n",
    "save_columns(train_Torso, 19, 23, \"train_Torso/train_Torso_Ori\")\n",
    "save_columns(train_Torso, 23, 24, \"train_Torso/train_Torso_Pressure\")"
   ]
  },
  {
   "cell_type": "code",
   "execution_count": 39,
   "metadata": {},
   "outputs": [
    {
     "name": "stdout",
     "output_type": "stream",
     "text": [
      "Wall time: 23min 28s\n"
     ]
    }
   ],
   "source": [
    "%%time\n",
    "save_columns(train_Hand, 0, 1, \"train_Hand/train_Hand_Label\")\n",
    "save_columns(train_Hand, 1, 4, \"train_Hand/train_Hand_Acc\")\n",
    "save_columns(train_Hand, 4, 7, \"train_Hand/train_Hand_Glo_Acc\")\n",
    "save_columns(train_Hand, 7, 10, \"train_Hand/train_Hand_Gra\")\n",
    "save_columns(train_Hand, 10, 13, \"train_Hand/train_Hand_Gyr\")\n",
    "save_columns(train_Hand, 13, 16, \"train_Hand/train_Hand_LAcc\")\n",
    "save_columns(train_Hand, 16, 19, \"train_Hand/train_Hand_Mag\")\n",
    "save_columns(train_Hand, 19, 23, \"train_Hand/train_Hand_Ori\")\n",
    "save_columns(train_Hand, 23, 24, \"train_Hand/train_Hand_Pressure\")"
   ]
  },
  {
   "cell_type": "code",
   "execution_count": null,
   "metadata": {},
   "outputs": [],
   "source": []
  }
 ],
 "metadata": {
  "kernelspec": {
   "display_name": "Python 3",
   "language": "python",
   "name": "python3"
  },
  "language_info": {
   "codemirror_mode": {
    "name": "ipython",
    "version": 3
   },
   "file_extension": ".py",
   "mimetype": "text/x-python",
   "name": "python",
   "nbconvert_exporter": "python",
   "pygments_lexer": "ipython3",
   "version": "3.7.6"
  }
 },
 "nbformat": 4,
 "nbformat_minor": 4
}

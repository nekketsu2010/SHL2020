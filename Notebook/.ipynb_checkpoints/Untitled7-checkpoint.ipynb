{
 "cells": [
  {
   "cell_type": "code",
   "execution_count": 68,
   "metadata": {},
   "outputs": [
    {
     "data": {
      "text/html": [
       "<style>.container { width:90% !important; }</style>"
      ],
      "text/plain": [
       "<IPython.core.display.HTML object>"
      ]
     },
     "metadata": {},
     "output_type": "display_data"
    }
   ],
   "source": [
    "import numpy as np\n",
    "import os\n",
    "import random\n",
    "import scipy\n",
    "from scipy import signal\n",
    "from numpy.fft import fft\n",
    "from sklearn.metrics import confusion_matrix\n",
    "\n",
    "import tensorflow as tf\n",
    "from tensorflow.keras import layers\n",
    "from tensorflow.keras.initializers import he_normal\n",
    "\n",
    "from sklearn.model_selection import train_test_split\n",
    "\n",
    "import pandas as pd\n",
    "import pickle\n",
    "\n",
    "import seaborn as sns\n",
    "sns.set(font='Yu Gothic')\n",
    "import matplotlib.pyplot as plt\n",
    "%matplotlib inline\n",
    "\n",
    "from IPython.core.display import display, HTML\n",
    "display(HTML(\"<style>.container { width:90% !important; }</style>\"))"
   ]
  },
  {
   "cell_type": "code",
   "execution_count": 69,
   "metadata": {},
   "outputs": [
    {
     "name": "stdout",
     "output_type": "stream",
     "text": [
      "Wall time: 1h 48min 26s\n"
     ]
    }
   ],
   "source": [
    "%%time\n",
    "with open(\"train_Bag.binaryfile\", 'rb') as f:\n",
    "    Bag = pickle.load(f)\n",
    "with open(\"train_Hips.binaryfile\", 'rb') as f:\n",
    "    Hips = pickle.load(f)\n",
    "with open(\"train_Torso.binaryfile\", 'rb') as f:\n",
    "    Torso = pickle.load(f)"
   ]
  },
  {
   "cell_type": "code",
   "execution_count": 70,
   "metadata": {
    "scrolled": true
   },
   "outputs": [
    {
     "data": {
      "text/plain": [
       "{'Label': 0,\n",
       " 'Acc_x': 1,\n",
       " 'Acc_y': 2,\n",
       " 'Acc_z': 3,\n",
       " 'Glo_Acc_x': 4,\n",
       " 'Glo_Acc_y': 5,\n",
       " 'Glo_Acc_z': 6,\n",
       " 'Gra_x': 7,\n",
       " 'Gra_y': 8,\n",
       " 'Gra_z': 9,\n",
       " 'Gyr_x': 10,\n",
       " 'Gyr_y': 11,\n",
       " 'Gyr_z': 12,\n",
       " 'LAcc_x': 13,\n",
       " 'LAcc_y': 14,\n",
       " 'LAcc_z': 15,\n",
       " 'Mag_x': 16,\n",
       " 'Mag_y': 17,\n",
       " 'Mag_z': 18,\n",
       " 'Ori_w': 19,\n",
       " 'Ori_x': 20,\n",
       " 'Ori_y': 21,\n",
       " 'Ori_z': 22,\n",
       " 'Pressure': 23}"
      ]
     },
     "execution_count": 70,
     "metadata": {},
     "output_type": "execute_result"
    }
   ],
   "source": [
    "columns = ['Label', 'Acc_x', 'Acc_y', 'Acc_z', 'Glo_Acc_x', 'Glo_Acc_y',\n",
    "       'Glo_Acc_z', 'Gra_x', 'Gra_y', 'Gra_z', 'Gyr_x', 'Gyr_y', 'Gyr_z',\n",
    "       'LAcc_x', 'LAcc_y', 'LAcc_z', 'Mag_x', 'Mag_y', 'Mag_z', 'Ori_w',\n",
    "       'Ori_x', 'Ori_y', 'Ori_z', 'Pressure']\n",
    "columns = dict(zip(columns, [tmp for tmp in range(len(columns))]))\n",
    "columns"
   ]
  },
  {
   "cell_type": "code",
   "execution_count": 71,
   "metadata": {},
   "outputs": [],
   "source": [
    "def Acc_plot(index, start_index, count=10):\n",
    "#     count = 300\n",
    "    tt = np.linspace(0, 100, count * 500)\n",
    "    plt.figure(figsize=(24, 4))\n",
    "    bag = Bag[start_index].copy()\n",
    "    hips = Hips[start_index].copy()\n",
    "    torso = Torso[start_index].copy()\n",
    "\n",
    "    for i in range(start_index+1, start_index + count):\n",
    "        bag = np.vstack((bag, Bag[i].copy()))\n",
    "        hips = np.vstack((hips, Hips[i].copy()))\n",
    "        torso = np.vstack((torso, Torso[i].copy()))\n",
    "    print(bag.shape)\n",
    "    \n",
    "    bag[:, index] = np.abs(np.fft.fft(bag[:, index]))\n",
    "    hips[:, index] = np.abs(np.fft.fft(hips[:, index]))\n",
    "    torso[:, index] = np.abs(np.fft.fft(torso[:, index]))\n",
    "    \n",
    "    plt.plot(tt, bag[:, index], color='blue')\n",
    "    plt.plot(tt, hips[:, index], color='red')\n",
    "    plt.plot(tt, torso[:, index], color='green')\n",
    "    plt.xlabel(\"Frequency[Hz]\", fontsize=18)\n",
    "    plt.ylabel(\"Amplitude\", fontsize=18)\n",
    "    plt.xlim(0.1, 50)\n",
    "#     plt.ylim(0, 30 ** 8)\n",
    "    plt.show()\n",
    "    print(bag[0, 0])"
   ]
  },
  {
   "cell_type": "code",
   "execution_count": 72,
   "metadata": {},
   "outputs": [
    {
     "name": "stdout",
     "output_type": "stream",
     "text": [
      "(500, 24)\n"
     ]
    },
    {
     "data": {
      "image/png": "[encoded data removed]",
      "text/plain": [
       "<Figure size 1728x288 with 1 Axes>"
      ]
     },
     "metadata": {
      "needs_background": "light"
     },
     "output_type": "display_data"
    },
    {
     "name": "stdout",
     "output_type": "stream",
     "text": [
      "1.0\n"
     ]
    }
   ],
   "source": [
    "Acc_plot(1, 18000, 1)"
   ]
  },
  {
   "cell_type": "code",
   "execution_count": null,
   "metadata": {},
   "outputs": [],
   "source": []
  }
 ],
 "metadata": {
  "kernelspec": {
   "display_name": "Python 3",
   "language": "python",
   "name": "python3"
  },
  "language_info": {
   "codemirror_mode": {
    "name": "ipython",
    "version": 3
   },
   "file_extension": ".py",
   "mimetype": "text/x-python",
   "name": "python",
   "nbconvert_exporter": "python",
   "pygments_lexer": "ipython3",
   "version": "3.7.6"
  }
 },
 "nbformat": 4,
 "nbformat_minor": 4
}

{
 "cells": [
  {
   "cell_type": "code",
   "execution_count": null,
   "metadata": {},
   "outputs": [],
   "source": [
    "import numpy as np\n",
    "import os\n",
    "import random\n",
    "import scipy\n",
    "from scipy import signal\n",
    "from numpy.fft import fft\n",
    "from sklearn.metrics import confusion_matrix\n",
    "from sklearn.metrics import f1_score\n",
    "\n",
    "import tensorflow as tf\n",
    "from tensorflow.keras import layers, models\n",
    "from tensorflow.keras.initializers import he_normal\n",
    "from tensorflow.python.keras.utils.vis_utils import plot_model\n",
    "\n",
    "from sklearn.model_selection import train_test_split\n",
    "\n",
    "import pandas as pd\n",
    "import pickle\n",
    "\n",
    "import seaborn as sns\n",
    "sns.set(font='Yu Gothic')\n",
    "import matplotlib.pyplot as plt\n",
    "%matplotlib inline\n",
    "\n",
    "from IPython.core.display import display, HTML\n",
    "display(HTML(\"<style>.container { width:90% !important; }</style>\"))"
   ]
  },
  {
   "cell_type": "code",
   "execution_count": null,
   "metadata": {},
   "outputs": [],
   "source": [
    "nfft = \"64\"\n",
    "overlap = \"8\""
   ]
  },
  {
   "cell_type": "code",
   "execution_count": null,
   "metadata": {},
   "outputs": [],
   "source": [
    "train_label = np.load(\"../Data/センサ別npyファイル/train/train_Bag/train_Bag_Label.npy\")[:, 0].reshape([-1])\n",
    "train_label.shape"
   ]
  },
  {
   "cell_type": "code",
   "execution_count": null,
   "metadata": {},
   "outputs": [],
   "source": [
    "def load(kind, label, hold_position, sensor, axis, nfft, overlap):\n",
    "    x = np.load(\"save/\" + kind + \"_\" + hold_position + \"_\" + sensor + \"_\" + axis + \"_\" + str(nfft) + \"_\" + str(overlap) + \".npy\")[(label == 2) | (label == 3) | (label == 5)]\n",
    "    return x.reshape([-1, 1, x.shape[1], x.shape[2], 1])"
   ]
  },
  {
   "cell_type": "code",
   "execution_count": null,
   "metadata": {},
   "outputs": [],
   "source": [
    "kind = \"train\"\n",
    "\n",
    "hold_position = \"Bag\"\n",
    "Bag_train = np.concatenate([load(kind, train_label, hold_position, \"Acc\", \"xy\", nfft, overlap), load(kind, train_label, hold_position, \"Acc\", \"z\", nfft, overlap),\\\n",
    "    load(kind, train_label, hold_position, \"Gyr\", \"xy\", nfft, overlap), load(kind, train_label, hold_position, \"Gyr\", \"z\", nfft, overlap),\\\n",
    "        load(kind, train_label, hold_position, \"Mag\", \"xy\", nfft, overlap), load(kind, train_label, hold_position, \"Mag\", \"z\", nfft, overlap)], axis=1)\n",
    "\n",
    "print(\"load complete\", hold_position)\n",
    "\n",
    "hold_position = \"Hips\"\n",
    "Hips_train = np.concatenate([load(kind, train_label, hold_position, \"Acc\", \"xy\", nfft, overlap), load(kind, train_label, hold_position, \"Acc\", \"z\", nfft, overlap),\\\n",
    "    load(kind, train_label, hold_position, \"Gyr\", \"xy\", nfft, overlap), load(kind, train_label, hold_position, \"Gyr\", \"z\", nfft, overlap),\\\n",
    "        load(kind, train_label, hold_position, \"Mag\", \"xy\", nfft, overlap), load(kind, train_label, hold_position, \"Mag\", \"z\", nfft, overlap)], axis=1)\n",
    "\n",
    "print(\"load complete\", hold_position)\n",
    "\n",
    "hold_position = \"Torso\"\n",
    "Torso_train = np.concatenate([load(kind, train_label, hold_position, \"Acc\", \"xy\", nfft, overlap), load(kind, train_label, hold_position, \"Acc\", \"z\", nfft, overlap),\\\n",
    "    load(kind, train_label, hold_position, \"Gyr\", \"xy\", nfft, overlap), load(kind, train_label, hold_position, \"Gyr\", \"z\", nfft, overlap),\\\n",
    "        load(kind, train_label, hold_position, \"Mag\", \"xy\", nfft, overlap), load(kind, train_label, hold_position, \"Mag\", \"z\", nfft, overlap)], axis=1)\n",
    "\n",
    "print(\"load complete\", hold_position)\n",
    "\n",
    "hold_position = \"Hand\"\n",
    "Hand_train = np.concatenate([load(kind, train_label, hold_position, \"Acc\", \"xy\", nfft, overlap), load(kind, train_label, hold_position, \"Acc\", \"z\", nfft, overlap),\\\n",
    "    load(kind, train_label, hold_position, \"Gyr\", \"xy\", nfft, overlap), load(kind, train_label, hold_position, \"Gyr\", \"z\", nfft, overlap),\\\n",
    "        load(kind, train_label, hold_position, \"Mag\", \"xy\", nfft, overlap), load(kind, train_label, hold_position, \"Mag\", \"z\", nfft, overlap)], axis=1)\n",
    "\n",
    "print(\"load complete\", hold_position)\n",
    "\n",
    "Hand_train.shape"
   ]
  },
  {
   "cell_type": "code",
   "execution_count": null,
   "metadata": {},
   "outputs": [],
   "source": [
    "del train_label"
   ]
  },
  {
   "cell_type": "code",
   "execution_count": null,
   "metadata": {},
   "outputs": [],
   "source": [
    "val_label = np.load(\"../Data/センサ別npyファイル/validation/validation_Bag/validation_Bag_Label.npy\")[:, 0].reshape([-1])\n",
    "val_label.shape"
   ]
  },
  {
   "cell_type": "code",
   "execution_count": null,
   "metadata": {},
   "outputs": [],
   "source": [
    "kind = \"validation\"\n",
    "\n",
    "hold_position = \"Bag\"\n",
    "Bag_val = np.concatenate([load(kind, val_label, hold_position, \"Acc\", \"xy\", nfft, overlap), load(kind, val_label, hold_position, \"Acc\", \"z\", nfft, overlap),\\\n",
    "    load(kind, val_label, hold_position, \"Gyr\", \"xy\", nfft, overlap), load(kind, val_label, hold_position, \"Gyr\", \"z\", nfft, overlap),\\\n",
    "        load(kind, val_label, hold_position, \"Mag\", \"xy\", nfft, overlap), load(kind, val_label, hold_position, \"Mag\", \"z\", nfft, overlap)], axis=1)\n",
    "\n",
    "print(\"load complete\", hold_position)\n",
    "\n",
    "hold_position = \"Hips\"\n",
    "Hips_val = np.concatenate([load(kind, val_label, hold_position, \"Acc\", \"xy\", nfft, overlap), load(kind, val_label, hold_position, \"Acc\", \"z\", nfft, overlap),\\\n",
    "    load(kind, val_label, hold_position, \"Gyr\", \"xy\", nfft, overlap), load(kind, val_label, hold_position, \"Gyr\", \"z\", nfft, overlap),\\\n",
    "        load(kind, val_label, hold_position, \"Mag\", \"xy\", nfft, overlap), load(kind, val_label, hold_position, \"Mag\", \"z\", nfft, overlap)], axis=1)\n",
    "\n",
    "print(\"load complete\", hold_position)\n",
    "\n",
    "hold_position = \"Torso\"\n",
    "Torso_val = np.concatenate([load(kind, val_label, hold_position, \"Acc\", \"xy\", nfft, overlap), load(kind, val_label, hold_position, \"Acc\", \"z\", nfft, overlap),\\\n",
    "    load(kind, val_label, hold_position, \"Gyr\", \"xy\", nfft, overlap), load(kind, val_label, hold_position, \"Gyr\", \"z\", nfft, overlap),\\\n",
    "        load(kind, val_label, hold_position, \"Mag\", \"xy\", nfft, overlap), load(kind, val_label, hold_position, \"Mag\", \"z\", nfft, overlap)], axis=1)\n",
    "\n",
    "print(\"load complete\", hold_position)\n",
    "\n",
    "hold_position = \"Hand\"\n",
    "Hand_val = np.concatenate([load(kind, val_label, hold_position, \"Acc\", \"xy\", nfft, overlap), load(kind, val_label, hold_position, \"Acc\", \"z\", nfft, overlap),\\\n",
    "    load(kind, val_label, hold_position, \"Gyr\", \"xy\", nfft, overlap), load(kind, val_label, hold_position, \"Gyr\", \"z\", nfft, overlap),\\\n",
    "        load(kind, val_label, hold_position, \"Mag\", \"xy\", nfft, overlap), load(kind, val_label, hold_position, \"Mag\", \"z\", nfft, overlap)], axis=1)\n",
    "\n",
    "print(\"load complete\", hold_position)\n",
    "\n",
    "Hand_val.shape"
   ]
  },
  {
   "cell_type": "code",
   "execution_count": null,
   "metadata": {},
   "outputs": [],
   "source": [
    "del val_label"
   ]
  },
  {
   "cell_type": "code",
   "execution_count": null,
   "metadata": {},
   "outputs": [],
   "source": [
    "y_train = [0] * Bag_train.shape[0] + [1] * Hips_train.shape[0] + [2] * Torso_train.shape[0] + [3] * Hand_train.shape[0]\n",
    "y_val = [0] * Bag_val.shape[0] + [1] * Hips_val.shape[0] + [2] * Torso_val.shape[0] + [3] * Hand_val.shape[0]\n",
    "\n",
    "y_train = np.array(y_train).reshape([-1])\n",
    "y_val = np.array(y_val).reshape([-1])\n",
    "\n",
    "y_train.shape, y_val.shape"
   ]
  },
  {
   "cell_type": "code",
   "execution_count": null,
   "metadata": {},
   "outputs": [],
   "source": [
    "x_train = np.concatenate([Bag_train, Hips_train, Torso_train, Hand_train], axis=0)\n",
    "del Bag_train, Hips_train, Torso_train, Hand_train\n",
    "x_train.shape"
   ]
  },
  {
   "cell_type": "code",
   "execution_count": null,
   "metadata": {},
   "outputs": [],
   "source": [
    "x_val = np.concatenate([Bag_val, Hips_val, Torso_val, Hand_val], axis=0)\n",
    "del Bag_val, Hips_val, Torso_val, Hand_val\n",
    "x_val.shape"
   ]
  },
  {
   "cell_type": "code",
   "execution_count": null,
   "metadata": {},
   "outputs": [],
   "source": [
    "x_train = np.load(\"保持位置分類x_train.npy\")\n",
    "x_val = np.load(\"保持位置分類x_val.npy\")\n",
    "y_train = np.load(\"保持位置分類y_train.npy\")\n",
    "y_val = np.load(\"保持位置分類y_val.npy\")\n",
    "\n",
    "x_train.shape, x_val.shape, y_train.shape, y_val.shape"
   ]
  },
  {
   "cell_type": "code",
   "execution_count": null,
   "metadata": {},
   "outputs": [],
   "source": [
    "x_train = np.round(x_train, 5)\n",
    "x_val = np.round(x_val, 5)"
   ]
  },
  {
   "cell_type": "code",
   "execution_count": null,
   "metadata": {},
   "outputs": [],
   "source": [
    "def BuildModel(input_shape):\n",
    "    input1 = layers.Input(shape=input_shape)\n",
    "    x = layers.Conv2D(64, (3, 3), strides=(1,1), padding='valid', activation='relu', kernel_initializer=he_normal())(input1)\n",
    "    x = layers.Conv2D(32, (3, 3), padding='same', activation='relu')(x)\n",
    "    x = layers.MaxPooling2D((2, 2))(x)\n",
    "    x = layers.BatchNormalization()(x)\n",
    "    try:\n",
    "        x = layers.Conv2D(64, (3, 3), padding='same', activation='relu')(x)\n",
    "        x = layers.Conv2D(32, (3, 3), padding='same', activation='relu')(x)\n",
    "        x = layers.MaxPooling2D((2, 2))(x)\n",
    "        x = layers.Dropout(0.2)(x)\n",
    "        x = layers.Conv2D(64, (3, 3), padding='same', activation='relu')(x)\n",
    "        x = layers.Conv2D(32, (3, 3), padding='same', activation='relu')(x)\n",
    "        x = layers.MaxPooling2D((2, 2))(x)\n",
    "        x = layers.BatchNormalization()(x)\n",
    "        x = layers.Conv2D(64, (3, 3), padding='same', activation='relu')(x)\n",
    "        x = layers.Conv2D(32, (3, 3), padding='same', activation='relu')(x)\n",
    "        x = layers.MaxPooling2D((2, 2))(x)\n",
    "        x = layers.Dropout(0.2)(x)\n",
    "    except:\n",
    "        pass\n",
    "    x = layers.Flatten()(x)\n",
    "    x = layers.Dense(128, activation='relu')(x)\n",
    "    x = layers.Dense(64, activation='relu')(x)\n",
    "    x = layers.BatchNormalization()(x)\n",
    "    x = layers.Dense(16, activation='relu')(x)\n",
    "    x = models.Model(inputs=input1, outputs=x)    \n",
    "    return x"
   ]
  },
  {
   "cell_type": "code",
   "execution_count": null,
   "metadata": {
    "scrolled": true
   },
   "outputs": [],
   "source": [
    "save_folder = \"/CheckPoint_\" + str(nfft) + \"_\" + str(overlap) + \"/\" #保存ディレクトリを指定(後ろにスラッシュ入れてね)\n",
    "\n",
    "def getModel():\n",
    "    x1 = BuildModel(x_train[0, 0].shape)\n",
    "    x2 = BuildModel(x_train[0, 1].shape)\n",
    "    x3 = BuildModel(x_train[0, 2].shape)\n",
    "    x4 = BuildModel(x_train[0, 3].shape)\n",
    "    x5 = BuildModel(x_train[0, 4].shape)\n",
    "    x6 = BuildModel(x_train[0, 5].shape)\n",
    "\n",
    "    combined = layers.concatenate([x1.output, x2.output, x3.output, x4.output, x5.output, x6.output])\n",
    "\n",
    "    z = layers.Dense(64, activation='relu')(combined)\n",
    "    z = layers.Dense(16, activation='relu')(z)\n",
    "    z = layers.Dense(4, activation='softmax')(z)\n",
    "\n",
    "    model = models.Model(inputs=[x1.input, x2.input, x3.input, x4.input, x5.input, x6.input], outputs=z)\n",
    "    model.compile(optimizer=tf.keras.optimizers.Adam(0.01),\n",
    "                loss='sparse_categorical_crossentropy',\n",
    "                metrics=['accuracy'])\n",
    "    return model\n",
    "\n",
    "model = getModel()\n",
    "model.summary()"
   ]
  },
  {
   "cell_type": "code",
   "execution_count": null,
   "metadata": {
    "scrolled": true
   },
   "outputs": [],
   "source": [
    "import os\n",
    "if not os.path.exists(save_folder):\n",
    "    os.makedirs(save_folder)\n",
    "\n",
    "cp_cb = tf.keras.callbacks.ModelCheckpoint(filepath=save_folder + \"model保持位置分類_\" + nfft + \"_\" + overlap + \".hdf5\", \n",
    "                                           monitor='val_loss', verbose=0, save_best_only=True, mode='auto')\n",
    "es_cb = tf.keras.callbacks.EarlyStopping(monitor='val_loss', patience=50, verbose=0, mode='auto')\n",
    "history = model.fit([x_train[:, 0], x_train[:, 1], x_train[:, 2], x_train[:, 3], x_train[:, 4], x_train[:, 5]], y_train, epochs=512, batch_size=256, \\\n",
    "    validation_data=([x_val[:, 0], x_val[:, 1], x_val[:, 2], x_val[:, 3], x_val[:, 4], x_val[:, 5]], y_val), callbacks=[cp_cb, es_cb])"
   ]
  },
  {
   "cell_type": "code",
   "execution_count": null,
   "metadata": {},
   "outputs": [],
   "source": [
    "np.save(\"保持位置分類x_train\", x_train)\n",
    "np.save(\"保持位置分類x_val\", x_val)\n",
    "np.save(\"保持位置分類y_train\", y_train)\n",
    "np.save(\"保持位置分類y_val\", y_val)"
   ]
  },
  {
   "cell_type": "code",
   "execution_count": null,
   "metadata": {},
   "outputs": [],
   "source": []
  }
 ],
 "metadata": {
  "kernelspec": {
   "display_name": "Python 3",
   "language": "python",
   "name": "python3"
  },
  "language_info": {
   "codemirror_mode": {
    "name": "ipython",
    "version": 3
   },
   "file_extension": ".py",
   "mimetype": "text/x-python",
   "name": "python",
   "nbconvert_exporter": "python",
   "pygments_lexer": "ipython3",
   "version": "3.7.6"
  }
 },
 "nbformat": 4,
 "nbformat_minor": 4
}

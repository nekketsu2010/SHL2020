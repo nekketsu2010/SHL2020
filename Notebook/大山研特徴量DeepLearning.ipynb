{
 "cells": [
  {
   "cell_type": "code",
   "execution_count": 1,
   "metadata": {},
   "outputs": [
    {
     "data": {
      "text/html": [
       "<style>.container { width:90% !important; }</style>"
      ],
      "text/plain": [
       "<IPython.core.display.HTML object>"
      ]
     },
     "metadata": {},
     "output_type": "display_data"
    }
   ],
   "source": [
    "import numpy as np\n",
    "\n",
    "import tensorflow as tf\n",
    "from tensorflow.keras import layers\n",
    "from tensorflow.keras.initializers import he_normal\n",
    "\n",
    "from sklearn.model_selection import train_test_split\n",
    "from sklearn.metrics import confusion_matrix\n",
    "from sklearn.metrics import f1_score\n",
    "from sklearn.model_selection import GridSearchCV\n",
    "from sklearn.preprocessing import StandardScaler\n",
    "\n",
    "import seaborn as sns\n",
    "sns.set(font='Yu Gothic')\n",
    "import matplotlib.pyplot as plt\n",
    "%matplotlib inline\n",
    "\n",
    "from IPython.core.display import display, HTML\n",
    "display(HTML(\"<style>.container { width:90% !important; }</style>\"))"
   ]
  },
  {
   "cell_type": "code",
   "execution_count": 2,
   "metadata": {},
   "outputs": [],
   "source": [
    "def load_npy(hold_position):\n",
    "    file_path = \"../Output/train/train_\" + hold_position + \"/train_\" + hold_position\n",
    "    xy_mean = np.load(file_path + \"_glo_laccel_xy_mean.npy\")\n",
    "    xy_var = np.load(file_path + \"_glo_laccel_xy_var.npy\")\n",
    "    z_mean = np.load(file_path + \"_glo_laccel_z_mean.npy\")\n",
    "    z_var = np.load(file_path + \"_glo_laccel_z_var.npy\")\n",
    "    z_skew = np.load(file_path + \"_glo_laccel_z_skew.npy\")\n",
    "    z_kurtosis = np.load(file_path + \"_glo_laccel_z_kurtosis.npy\")\n",
    "    z_lacc_FFT = np.load(file_path + \"_glo_laccel_z_amplitude_frequency_range5Hz.npy\")\n",
    "    z_gyro_FFT = np.load(file_path + \"_glo_gyro_z_ver2_amplitude_frequency_range5Hz.npy\")\n",
    "    result = np.concatenate([xy_mean.reshape([-1, 1]), xy_var.reshape([-1, 1]), z_mean.reshape([-1, 1]), z_var.reshape([-1, 1]), z_skew.reshape([-1, 1]), z_kurtosis.reshape([-1, 1]), z_lacc_FFT, z_gyro_FFT], axis=1)\n",
    "    del xy_mean, xy_var, z_mean, z_var, z_skew, z_kurtosis, z_gyro_FFT\n",
    "    return result"
   ]
  },
  {
   "cell_type": "code",
   "execution_count": 3,
   "metadata": {},
   "outputs": [
    {
     "data": {
      "text/plain": [
       "((195491, 50), (195490, 50))"
      ]
     },
     "execution_count": 3,
     "metadata": {},
     "output_type": "execute_result"
    }
   ],
   "source": [
    "train_Bag = load_npy(\"Bag\")\n",
    "train_Hips = load_npy(\"Hips\")\n",
    "train_Hips = np.delete(train_Hips, 120845, 0)\n",
    "train_Torso = load_npy(\"Torso\")\n",
    "train_Hand = load_npy(\"Hand\")\n",
    "\n",
    "train_Bag.shape, train_Hips.shape"
   ]
  },
  {
   "cell_type": "code",
   "execution_count": 4,
   "metadata": {},
   "outputs": [
    {
     "data": {
      "text/plain": [
       "(781963, 50)"
      ]
     },
     "execution_count": 4,
     "metadata": {},
     "output_type": "execute_result"
    }
   ],
   "source": [
    "X_train = np.concatenate([train_Bag, train_Hips, train_Torso, train_Hand], axis=0)\n",
    "X_train.shape"
   ]
  },
  {
   "cell_type": "code",
   "execution_count": 5,
   "metadata": {},
   "outputs": [
    {
     "data": {
      "text/plain": [
       "array([[3.38048607e-01, 9.46694894e-01, 2.50814669e-01, ...,\n",
       "        5.04000000e+01, 1.31335701e+00, 5.04000000e+01],\n",
       "       [2.30354991e+00, 4.14904319e+00, 7.78116556e-02, ...,\n",
       "        5.24000000e+01, 1.95531726e+00, 5.70000000e+01],\n",
       "       [1.05029750e+00, 8.91610622e-01, 3.24773186e-02, ...,\n",
       "        5.08000000e+01, 2.93655188e-01, 5.58000000e+01],\n",
       "       ...,\n",
       "       [6.87660885e-01, 1.62077566e-01, 8.38939090e-02, ...,\n",
       "        4.58000000e+01, 1.29144298e-01, 5.78000000e+01],\n",
       "       [6.85845427e-01, 1.53754305e-01, 1.62290390e-02, ...,\n",
       "        5.18000000e+01, 2.00128138e-01, 5.18000000e+01],\n",
       "       [6.70370715e-01, 1.83664801e-01, 3.97830372e-02, ...,\n",
       "        5.38000000e+01, 2.10448935e-01, 5.68000000e+01]])"
      ]
     },
     "execution_count": 5,
     "metadata": {},
     "output_type": "execute_result"
    }
   ],
   "source": [
    "X_train"
   ]
  },
  {
   "cell_type": "code",
   "execution_count": 5,
   "metadata": {},
   "outputs": [
    {
     "data": {
      "text/plain": [
       "(781963, 1)"
      ]
     },
     "execution_count": 5,
     "metadata": {},
     "output_type": "execute_result"
    }
   ],
   "source": [
    "Y_train = np.load(\"../Data/センサ別npyファイル/train/train_Bag/train_Bag_Label.npy\")[:, 0]\n",
    "Y_train = np.concatenate([Y_train, np.delete(Y_train, 120845, 0), Y_train, Y_train], axis=0)\n",
    "Y_train.shape"
   ]
  },
  {
   "cell_type": "code",
   "execution_count": 6,
   "metadata": {},
   "outputs": [],
   "source": [
    "def load_npy(hold_position):\n",
    "    file_path = \"../Output/validation/validation_\" + hold_position + \"/validation_\" + hold_position\n",
    "    xy_mean = np.load(file_path + \"_glo_laccel_xy_mean.npy\")\n",
    "    xy_var = np.load(file_path + \"_glo_laccel_xy_var.npy\")\n",
    "    z_mean = np.load(file_path + \"_glo_laccel_z_mean.npy\")\n",
    "    z_var = np.load(file_path + \"_glo_laccel_z_var.npy\")\n",
    "    z_skew = np.load(file_path + \"_glo_laccel_z_skew.npy\")\n",
    "    z_kurtosis = np.load(file_path + \"_glo_laccel_z_kurtosis.npy\")\n",
    "    z_lacc_FFT = np.load(file_path + \"_glo_laccel_z_amplitude_frequency_range5Hz.npy\")\n",
    "    z_gyro_FFT = np.load(file_path + \"_glo_gyro_z_ver2_amplitude_frequency_range5Hz.npy\")\n",
    "    result = np.concatenate([xy_mean.reshape([-1, 1]), xy_var.reshape([-1, 1]), z_mean.reshape([-1, 1]), z_var.reshape([-1, 1]), z_skew.reshape([-1, 1]), z_kurtosis.reshape([-1, 1]), z_lacc_FFT, z_gyro_FFT], axis=1)\n",
    "    del xy_mean, xy_var, z_mean, z_var, z_skew, z_kurtosis, z_gyro_FFT\n",
    "    return result"
   ]
  },
  {
   "cell_type": "code",
   "execution_count": 7,
   "metadata": {},
   "outputs": [
    {
     "data": {
      "text/plain": [
       "(28685, 50)"
      ]
     },
     "execution_count": 7,
     "metadata": {},
     "output_type": "execute_result"
    }
   ],
   "source": [
    "validation_Bag = load_npy(\"Bag\")\n",
    "validation_Hips = load_npy(\"Hips\")\n",
    "validation_Torso = load_npy(\"Torso\")\n",
    "validation_Hand = load_npy(\"Hand\")\n",
    "\n",
    "validation_Bag.shape"
   ]
  },
  {
   "cell_type": "code",
   "execution_count": 8,
   "metadata": {},
   "outputs": [
    {
     "data": {
      "text/plain": [
       "(114740, 50)"
      ]
     },
     "execution_count": 8,
     "metadata": {},
     "output_type": "execute_result"
    }
   ],
   "source": [
    "X_val = np.concatenate([validation_Bag, validation_Hips, validation_Torso, validation_Hand], axis=0)\n",
    "X_val.shape"
   ]
  },
  {
   "cell_type": "code",
   "execution_count": 9,
   "metadata": {},
   "outputs": [
    {
     "data": {
      "text/plain": [
       "(114740, 1)"
      ]
     },
     "execution_count": 9,
     "metadata": {},
     "output_type": "execute_result"
    }
   ],
   "source": [
    "Y_val = np.load(\"../Data/センサ別npyファイル/validation/validation_Bag/validation_Bag_Label.npy\")[:, 0].reshape([-1, 1])\n",
    "Y_val = np.concatenate([Y_val, Y_val, Y_val, Y_val], axis=0)\n",
    "Y_val.shape"
   ]
  },
  {
   "cell_type": "code",
   "execution_count": 10,
   "metadata": {},
   "outputs": [
    {
     "data": {
      "text/plain": [
       "(114740, 1)"
      ]
     },
     "execution_count": 10,
     "metadata": {},
     "output_type": "execute_result"
    }
   ],
   "source": [
    "Y_val_hold_position = np.zeros((28685*4, 1))\n",
    "for i in range(4):\n",
    "    Y_val_hold_position[28685*i:28685*(i+1)] = i\n",
    "Y_val_hold_position.shape"
   ]
  },
  {
   "cell_type": "code",
   "execution_count": 11,
   "metadata": {},
   "outputs": [
    {
     "data": {
      "text/plain": [
       "(114740, 2)"
      ]
     },
     "execution_count": 11,
     "metadata": {},
     "output_type": "execute_result"
    }
   ],
   "source": [
    "Y_val = np.concatenate([Y_val, Y_val_hold_position], axis=1)\n",
    "Y_val.shape"
   ]
  },
  {
   "cell_type": "code",
   "execution_count": 12,
   "metadata": {},
   "outputs": [],
   "source": [
    "Y_train[Y_train >= 5] = 1\n",
    "Y_val[Y_val >= 5] = 1"
   ]
  },
  {
   "cell_type": "markdown",
   "metadata": {},
   "source": [
    "## 標準化"
   ]
  },
  {
   "cell_type": "code",
   "execution_count": 13,
   "metadata": {},
   "outputs": [
    {
     "data": {
      "text/plain": [
       "((781963, 50), (114740, 50))"
      ]
     },
     "execution_count": 13,
     "metadata": {},
     "output_type": "execute_result"
    }
   ],
   "source": [
    "std = StandardScaler()\n",
    "hz_std = StandardScaler()\n",
    "\n",
    "X_train[:, [0,1,2,3,4,5,6,8,10,12,14,16,18,20,22,24,26,28,30,32,34,36,38,40,42,44,46,48]] = std.fit_transform(X_train[:, [0,1,2,3,4,5,6,8,10,12,14,16,18,20,22,24,26,28,30,32,34,36,38,40,42,44,46,48]])\n",
    "X_val[:, [0,1,2,3,4,5,6,8,10,12,14,16,18,20,22,24,26,28,30,32,34,36,38,40,42,44,46,48]] = std.fit_transform(X_val[:, [0,1,2,3,4,5,6,8,10,12,14,16,18,20,22,24,26,28,30,32,34,36,38,40,42,44,46,48]])\n",
    "\n",
    "X_train[:, [i for i in range(11, 50)]] = hz_std.fit_transform(X_train[:, [i for i in range(11, 50)]])\n",
    "X_val[:, [i for i in range(11, 50)]] = hz_std.transform(X_val[:, [i for i in range(11, 50)]])\n",
    "\n",
    "X_train.shape, X_val.shape"
   ]
  },
  {
   "cell_type": "markdown",
   "metadata": {},
   "source": [
    "## 丸める3より5の方が精度高かった"
   ]
  },
  {
   "cell_type": "code",
   "execution_count": 7,
   "metadata": {},
   "outputs": [
    {
     "data": {
      "text/plain": [
       "array([[3.3804861e-01, 9.4669491e-01, 2.5081468e-01, ..., 5.0400002e+01,\n",
       "        1.3133570e+00, 5.0400002e+01],\n",
       "       [2.3035500e+00, 4.1490431e+00, 7.7811658e-02, ..., 5.2400002e+01,\n",
       "        1.9553173e+00, 5.7000000e+01],\n",
       "       [1.0502975e+00, 8.9161062e-01, 3.2477319e-02, ..., 5.0799999e+01,\n",
       "        2.9365519e-01, 5.5799999e+01],\n",
       "       ...,\n",
       "       [6.8766087e-01, 1.6207756e-01, 8.3893910e-02, ..., 4.5799999e+01,\n",
       "        1.2914430e-01, 5.7799999e+01],\n",
       "       [6.8584543e-01, 1.5375431e-01, 1.6229039e-02, ..., 5.1799999e+01,\n",
       "        2.0012814e-01, 5.1799999e+01],\n",
       "       [6.7037070e-01, 1.8366480e-01, 3.9783038e-02, ..., 5.3799999e+01,\n",
       "        2.1044894e-01, 5.6799999e+01]], dtype=float32)"
      ]
     },
     "execution_count": 7,
     "metadata": {},
     "output_type": "execute_result"
    }
   ],
   "source": [
    "X_train = X_train.astype(np.float32)\n",
    "X_train"
   ]
  },
  {
   "cell_type": "code",
   "execution_count": 14,
   "metadata": {},
   "outputs": [
    {
     "data": {
      "text/plain": [
       "array([[-0.48098, -0.20679,  0.47418, ...,  0.27292,  0.02477, -1.81045],\n",
       "       [ 0.25378, -0.01536,  0.19819, ...,  0.93347,  0.19536,  0.37646],\n",
       "       [-0.21472, -0.21009,  0.12586, ...,  0.40503, -0.24621, -0.02116],\n",
       "       ...,\n",
       "       [-0.35028, -0.2537 ,  0.20789, ..., -1.24637, -0.28993,  0.64154],\n",
       "       [-0.35096, -0.2542 ,  0.09994, ...,  0.73531, -0.27106, -1.34656],\n",
       "       [-0.35675, -0.25241,  0.13752, ...,  1.39587, -0.26832,  0.31019]])"
      ]
     },
     "execution_count": 14,
     "metadata": {},
     "output_type": "execute_result"
    }
   ],
   "source": [
    "X_train = np.round(X_train, 5)\n",
    "X_val = np.round(X_val, 5)\n",
    "X_train"
   ]
  },
  {
   "cell_type": "code",
   "execution_count": 15,
   "metadata": {},
   "outputs": [
    {
     "data": {
      "text/plain": [
       "(0, 0, array([1., 2., 3., 4.]), array([1., 2., 3., 4.]))"
      ]
     },
     "execution_count": 15,
     "metadata": {},
     "output_type": "execute_result"
    }
   ],
   "source": [
    "np.sum(np.isnan(X_train)), np.sum(np.isnan(Y_train)), np.unique(Y_train), np.unique(Y_val[:, 0])"
   ]
  },
  {
   "cell_type": "code",
   "execution_count": 16,
   "metadata": {},
   "outputs": [],
   "source": [
    "Y_train = Y_train - 1\n",
    "Y_train = Y_train.astype(np.int32)\n",
    "Y_val[:, 0] = Y_val[:, 0] - 1\n",
    "Y_val = Y_val.astype(np.int32)"
   ]
  },
  {
   "cell_type": "code",
   "execution_count": 17,
   "metadata": {},
   "outputs": [
    {
     "data": {
      "text/plain": [
       "((781963, 1), (114740, 2))"
      ]
     },
     "execution_count": 17,
     "metadata": {},
     "output_type": "execute_result"
    }
   ],
   "source": [
    "Y_train.shape, Y_val.shape"
   ]
  },
  {
   "cell_type": "code",
   "execution_count": 18,
   "metadata": {},
   "outputs": [],
   "source": [
    "from tensorflow.keras import backend as K\n",
    "def f1(y_true, y_pred):\n",
    "    def recall(y_true, y_pred):\n",
    "        \"\"\"Recall metric.\n",
    "        Only computes a batch-wise average of recall.\n",
    "        Computes the recall, a metric for multi-label classification of\n",
    "        how many relevant items are selected.\n",
    "        \"\"\"\n",
    "        true_positives = K.sum(K.round(K.clip(y_true * y_pred, 0, 1)))\n",
    "        possible_positives = K.sum(K.round(K.clip(y_true, 0, 1)))\n",
    "        recall = true_positives / (possible_positives + K.epsilon())\n",
    "        return recall\n",
    "\n",
    "    def precision(y_true, y_pred):\n",
    "        \"\"\"Precision metric.\n",
    "        Only computes a batch-wise average of precision.\n",
    "        Computes the precision, a metric for multi-label classification of\n",
    "        how many selected items are relevant.\n",
    "        \"\"\"\n",
    "        true_positives = K.sum(K.round(K.clip(y_true * y_pred, 0, 1)))\n",
    "        predicted_positives = K.sum(K.round(K.clip(y_pred, 0, 1)))\n",
    "        precision = true_positives / (predicted_positives + K.epsilon())\n",
    "        return precision\n",
    "    precision = precision(y_true, y_pred)\n",
    "    recall = recall(y_true, y_pred)\n",
    "    return 2*((precision*recall)/(precision+recall+K.epsilon()))"
   ]
  },
  {
   "cell_type": "code",
   "execution_count": 19,
   "metadata": {},
   "outputs": [
    {
     "data": {
      "text/plain": [
       "((781963, 50, 1), (114740, 50, 1))"
      ]
     },
     "execution_count": 19,
     "metadata": {},
     "output_type": "execute_result"
    }
   ],
   "source": [
    "X_train = X_train.reshape([-1, 50, 1])\n",
    "X_val = X_val.reshape([-1, 50, 1])\n",
    "\n",
    "X_train.shape, X_val.shape"
   ]
  },
  {
   "cell_type": "code",
   "execution_count": 20,
   "metadata": {},
   "outputs": [],
   "source": [
    "model = tf.keras.Sequential()\n",
    "# model.add(layers.Flatten())\n",
    "model.add(layers.Conv1D(64, 3, padding='valid', activation='relu', input_shape=(X_train.shape[1], 1), kernel_initializer=he_normal()))\n",
    "model.add(layers.Conv1D(32, 3, padding='same', activation='relu', input_shape=(X_train.shape[1], 1), kernel_initializer=he_normal()))\n",
    "model.add(layers.MaxPooling1D(2))\n",
    "model.add(layers.BatchNormalization())\n",
    "model.add(layers.Conv1D(64, 3, padding='valid', activation='relu', input_shape=(X_train.shape[1], 1), kernel_initializer=he_normal()))\n",
    "model.add(layers.Conv1D(32, 3, padding='same', activation='relu', input_shape=(X_train.shape[1], 1), kernel_initializer=he_normal()))\n",
    "model.add(layers.MaxPooling1D(2))\n",
    "model.add(layers.Dropout(0.2))\n",
    "model.add(layers.Flatten())\n",
    "# model.add(layers.Dense(64, activation='relu', input_shape=(X_train.shape[1], 1), kernel_initializer=he_normal()))\n",
    "model.add(layers.Dense(64, activation='relu'))\n",
    "model.add(layers.Dense(32, activation='relu'))\n",
    "model.add(layers.BatchNormalization())\n",
    "model.add(layers.Dense(16, activation='relu'))\n",
    "# model.add(layers.BatchNormalization())\n",
    "model.add(layers.Dense(4, activation='softmax'))\n",
    "model.compile(optimizer=tf.keras.optimizers.Adam(0.01),\n",
    "              loss='sparse_categorical_crossentropy',\n",
    "              metrics=['accuracy', f1])"
   ]
  },
  {
   "cell_type": "code",
   "execution_count": 22,
   "metadata": {
    "scrolled": true
   },
   "outputs": [
    {
     "name": "stdout",
     "output_type": "stream",
     "text": [
      "WARNING:tensorflow:sample_weight modes were coerced from\n",
      "  ...\n",
      "    to  \n",
      "  ['...']\n",
      "WARNING:tensorflow:sample_weight modes were coerced from\n",
      "  ...\n",
      "    to  \n",
      "  ['...']\n",
      "Train on 781963 samples, validate on 114740 samples\n",
      "Epoch 1/128\n",
      "781963/781963 [==============================] - 5s 6us/sample - loss: 0.7741 - accuracy: 0.9360 - f1: 0.5029 - val_loss: 1.7358 - val_accuracy: 0.8659 - val_f1: 0.4449\n",
      "Epoch 2/128\n",
      "781963/781963 [==============================] - 5s 6us/sample - loss: 0.7019 - accuracy: 0.9411 - f1: 0.4983 - val_loss: 1.7368 - val_accuracy: 0.8693 - val_f1: 0.4406\n",
      "Epoch 3/128\n",
      "781963/781963 [==============================] - 5s 6us/sample - loss: 0.6607 - accuracy: 0.9438 - f1: 0.4953 - val_loss: 1.7341 - val_accuracy: 0.8635 - val_f1: 0.4406\n",
      "Epoch 4/128\n",
      "781963/781963 [==============================] - 5s 6us/sample - loss: 0.6410 - accuracy: 0.9450 - f1: 0.4944 - val_loss: 1.6978 - val_accuracy: 0.8648 - val_f1: 0.4393\n",
      "Epoch 5/128\n",
      "781963/781963 [==============================] - 5s 6us/sample - loss: 0.6121 - accuracy: 0.9469 - f1: 0.4920 - val_loss: 1.9168 - val_accuracy: 0.8657 - val_f1: 0.4399\n",
      "Epoch 6/128\n",
      "781963/781963 [==============================] - 5s 6us/sample - loss: 0.5912 - accuracy: 0.9479 - f1: 0.4903 - val_loss: 1.5514 - val_accuracy: 0.8821 - val_f1: 0.4415loss: 0.5932 - accu - ETA: 0s - loss: 0.5911 - accuracy: 0.\n",
      "Epoch 7/128\n",
      "781963/781963 [==============================] - 5s 6us/sample - loss: 0.5745 - accuracy: 0.9489 - f1: 0.4894 - val_loss: 1.6404 - val_accuracy: 0.8885 - val_f1: 0.4475\n",
      "Epoch 8/128\n",
      "781963/781963 [==============================] - 5s 6us/sample - loss: 0.5644 - accuracy: 0.9499 - f1: 0.4883 - val_loss: 1.7956 - val_accuracy: 0.8863 - val_f1: 0.4518\n",
      "Epoch 9/128\n",
      "781963/781963 [==============================] - 5s 6us/sample - loss: 0.5511 - accuracy: 0.9506 - f1: 0.4873 - val_loss: 1.5684 - val_accuracy: 0.8754 - val_f1: 0.4486\n",
      "Epoch 10/128\n",
      "781963/781963 [==============================] - 5s 6us/sample - loss: 0.5406 - accuracy: 0.9511 - f1: 0.4865 - val_loss: 1.6046 - val_accuracy: 0.8915 - val_f1: 0.4513\n",
      "Epoch 11/128\n",
      "781963/781963 [==============================] - 5s 6us/sample - loss: 0.5339 - accuracy: 0.9519 - f1: 0.4860 - val_loss: 1.7611 - val_accuracy: 0.8539 - val_f1: 0.4441\n",
      "Epoch 12/128\n",
      "781963/781963 [==============================] - 5s 6us/sample - loss: 0.5280 - accuracy: 0.9523 - f1: 0.4855 - val_loss: 1.6661 - val_accuracy: 0.8761 - val_f1: 0.4438\n",
      "Epoch 13/128\n",
      "781963/781963 [==============================] - 5s 6us/sample - loss: 0.5197 - accuracy: 0.9528 - f1: 0.4850 - val_loss: 1.7667 - val_accuracy: 0.8737 - val_f1: 0.4371\n",
      "Epoch 14/128\n",
      "781963/781963 [==============================] - 5s 6us/sample - loss: 0.5105 - accuracy: 0.9534 - f1: 0.4839 - val_loss: 1.7066 - val_accuracy: 0.8717 - val_f1: 0.4406\n",
      "Epoch 15/128\n",
      "781963/781963 [==============================] - 5s 6us/sample - loss: 0.5091 - accuracy: 0.9532 - f1: 0.4834 - val_loss: 1.7776 - val_accuracy: 0.8784 - val_f1: 0.4449\n",
      "Epoch 16/128\n",
      "781963/781963 [==============================] - 5s 6us/sample - loss: 0.5046 - accuracy: 0.9537 - f1: 0.4833 - val_loss: 1.7724 - val_accuracy: 0.8938 - val_f1: 0.4455\n",
      "Epoch 17/128\n",
      "781963/781963 [==============================] - 5s 6us/sample - loss: 0.4991 - accuracy: 0.9542 - f1: 0.4826 - val_loss: 1.7578 - val_accuracy: 0.8875 - val_f1: 0.4467\n",
      "Epoch 18/128\n",
      "781963/781963 [==============================] - 5s 6us/sample - loss: 0.4939 - accuracy: 0.9544 - f1: 0.4821 - val_loss: 1.7073 - val_accuracy: 0.8791 - val_f1: 0.4470\n",
      "Epoch 19/128\n",
      "781963/781963 [==============================] - 5s 6us/sample - loss: 0.4903 - accuracy: 0.9548 - f1: 0.4818 - val_loss: 1.7509 - val_accuracy: 0.8888 - val_f1: 0.4413\n",
      "Epoch 20/128\n",
      "781963/781963 [==============================] - 5s 6us/sample - loss: 0.4837 - accuracy: 0.9551 - f1: 0.4813 - val_loss: 1.5867 - val_accuracy: 0.8761 - val_f1: 0.4430\n",
      "Epoch 21/128\n",
      "781963/781963 [==============================] - 5s 6us/sample - loss: 0.4820 - accuracy: 0.9553 - f1: 0.4807 - val_loss: 1.6291 - val_accuracy: 0.8741 - val_f1: 0.4408\n",
      "Epoch 22/128\n",
      "781963/781963 [==============================] - 5s 6us/sample - loss: 0.4782 - accuracy: 0.9556 - f1: 0.4804 - val_loss: 1.7021 - val_accuracy: 0.8781 - val_f1: 0.4383\n",
      "Epoch 23/128\n",
      "781963/781963 [==============================] - 5s 6us/sample - loss: 0.4732 - accuracy: 0.9557 - f1: 0.4803 - val_loss: 1.8859 - val_accuracy: 0.8832 - val_f1: 0.4436\n",
      "Epoch 24/128\n",
      "781963/781963 [==============================] - 5s 6us/sample - loss: 0.4716 - accuracy: 0.9558 - f1: 0.4801 - val_loss: 1.5997 - val_accuracy: 0.8874 - val_f1: 0.4514\n",
      "Epoch 25/128\n",
      "781963/781963 [==============================] - 5s 6us/sample - loss: 0.4666 - accuracy: 0.9560 - f1: 0.4800 - val_loss: 1.6832 - val_accuracy: 0.8756 - val_f1: 0.4372\n",
      "Epoch 26/128\n",
      "781963/781963 [==============================] - 5s 6us/sample - loss: 0.4662 - accuracy: 0.9563 - f1: 0.4798 - val_loss: 1.5944 - val_accuracy: 0.8815 - val_f1: 0.4432\n",
      "Epoch 27/128\n",
      "781963/781963 [==============================] - 5s 6us/sample - loss: 0.4604 - accuracy: 0.9568 - f1: 0.4792 - val_loss: 1.6548 - val_accuracy: 0.8807 - val_f1: 0.4479\n",
      "Epoch 28/128\n",
      "781963/781963 [==============================] - 5s 6us/sample - loss: 0.4582 - accuracy: 0.9569 - f1: 0.4792 - val_loss: 1.6699 - val_accuracy: 0.8826 - val_f1: 0.4429\n",
      "Epoch 29/128\n",
      "781963/781963 [==============================] - 5s 6us/sample - loss: 0.4549 - accuracy: 0.9569 - f1: 0.4790 - val_loss: 1.6296 - val_accuracy: 0.8910 - val_f1: 0.4463\n",
      "Epoch 30/128\n",
      "781963/781963 [==============================] - 5s 6us/sample - loss: 0.4533 - accuracy: 0.9570 - f1: 0.4788 - val_loss: 1.7390 - val_accuracy: 0.8853 - val_f1: 0.4476\n",
      "Epoch 31/128\n",
      "781963/781963 [==============================] - 5s 6us/sample - loss: 0.4499 - accuracy: 0.9573 - f1: 0.4788 - val_loss: 1.6317 - val_accuracy: 0.8914 - val_f1: 0.4471\n",
      "Epoch 32/128\n",
      "781963/781963 [==============================] - 5s 6us/sample - loss: 0.4488 - accuracy: 0.9573 - f1: 0.4785 - val_loss: 1.7617 - val_accuracy: 0.8890 - val_f1: 0.4498\n",
      "Epoch 33/128\n",
      "781963/781963 [==============================] - 5s 6us/sample - loss: 0.4486 - accuracy: 0.9572 - f1: 0.4784 - val_loss: 1.7252 - val_accuracy: 0.8835 - val_f1: 0.4432\n",
      "Epoch 34/128\n",
      "781963/781963 [==============================] - 5s 6us/sample - loss: 0.4429 - accuracy: 0.9575 - f1: 0.4777 - val_loss: 1.7920 - val_accuracy: 0.8904 - val_f1: 0.4404\n",
      "Epoch 35/128\n",
      "781963/781963 [==============================] - 5s 6us/sample - loss: 0.4436 - accuracy: 0.9574 - f1: 0.4782 - val_loss: 1.7067 - val_accuracy: 0.8906 - val_f1: 0.4441\n",
      "Epoch 36/128\n",
      "781963/781963 [==============================] - 5s 6us/sample - loss: 0.4386 - accuracy: 0.9579 - f1: 0.4776 - val_loss: 1.7950 - val_accuracy: 0.8789 - val_f1: 0.4459\n"
     ]
    }
   ],
   "source": [
    "cp_cb = tf.keras.callbacks.ModelCheckpoint(filepath=\"../Output/CheckPoint/model{epoch:02d}-{loss:.2f}-{accuracy:.2f}-{val_loss:.2f}-{val_accuracy:.2f}.hdf5\", \n",
    "                                           monitor='val_loss', verbose=0, save_best_only=True, mode='auto')\n",
    "es_cb = tf.keras.callbacks.EarlyStopping(monitor='val_loss', patience=30, verbose=0, mode='auto')\n",
    "history = model.fit(X_train, Y_train, epochs=128, batch_size=2048, validation_data=(X_val, Y_val[:, 0]), class_weight={0:1, 1:5.69, 2:16.48, 3:5.93}, callbacks=[cp_cb, es_cb])"
   ]
  },
  {
   "cell_type": "code",
   "execution_count": 23,
   "metadata": {},
   "outputs": [
    {
     "name": "stdout",
     "output_type": "stream",
     "text": [
      "Model: \"sequential\"\n",
      "_________________________________________________________________\n",
      "Layer (type)                 Output Shape              Param #   \n",
      "=================================================================\n",
      "conv1d (Conv1D)              (None, 48, 64)            256       \n",
      "_________________________________________________________________\n",
      "conv1d_1 (Conv1D)            (None, 48, 32)            6176      \n",
      "_________________________________________________________________\n",
      "max_pooling1d (MaxPooling1D) (None, 24, 32)            0         \n",
      "_________________________________________________________________\n",
      "batch_normalization (BatchNo (None, 24, 32)            128       \n",
      "_________________________________________________________________\n",
      "conv1d_2 (Conv1D)            (None, 22, 64)            6208      \n",
      "_________________________________________________________________\n",
      "conv1d_3 (Conv1D)            (None, 22, 32)            6176      \n",
      "_________________________________________________________________\n",
      "max_pooling1d_1 (MaxPooling1 (None, 11, 32)            0         \n",
      "_________________________________________________________________\n",
      "dropout (Dropout)            (None, 11, 32)            0         \n",
      "_________________________________________________________________\n",
      "flatten (Flatten)            (None, 352)               0         \n",
      "_________________________________________________________________\n",
      "dense (Dense)                (None, 64)                22592     \n",
      "_________________________________________________________________\n",
      "dense_1 (Dense)              (None, 32)                2080      \n",
      "_________________________________________________________________\n",
      "batch_normalization_1 (Batch (None, 32)                128       \n",
      "_________________________________________________________________\n",
      "dense_2 (Dense)              (None, 16)                528       \n",
      "_________________________________________________________________\n",
      "dense_3 (Dense)              (None, 4)                 68        \n",
      "=================================================================\n",
      "Total params: 44,340\n",
      "Trainable params: 44,212\n",
      "Non-trainable params: 128\n",
      "_________________________________________________________________\n"
     ]
    }
   ],
   "source": [
    "model.summary()"
   ]
  },
  {
   "cell_type": "code",
   "execution_count": 24,
   "metadata": {},
   "outputs": [
    {
     "data": {
      "image/png": "[encoded data removed]",
      "text/plain": [
       "<Figure size 432x288 with 1 Axes>"
      ]
     },
     "metadata": {
      "needs_background": "light"
     },
     "output_type": "display_data"
    },
    {
     "data": {
      "image/png": "[encoded data removed]",
      "text/plain": [
       "<Figure size 432x288 with 1 Axes>"
      ]
     },
     "metadata": {
      "needs_background": "light"
     },
     "output_type": "display_data"
    }
   ],
   "source": [
    "# Plot training & validation accuracy values\n",
    "plt.plot(history.history['accuracy'])\n",
    "plt.plot(history.history['val_accuracy'])\n",
    "plt.title('Model accuracy')\n",
    "plt.ylabel('Accuracy')\n",
    "plt.xlabel('Epoch')\n",
    "plt.legend(['Train', 'Test'], loc='upper left')\n",
    "plt.show()\n",
    "\n",
    "# Plot training & validation loss values\n",
    "plt.plot(history.history['loss'])\n",
    "plt.plot(history.history['val_loss'])\n",
    "plt.title('Model loss')\n",
    "plt.ylabel('Loss')\n",
    "plt.xlabel('Epoch')\n",
    "plt.legend(['Train', 'Test'], loc='upper left')\n",
    "# plt.ylim((0, 3.5))\n",
    "plt.show()"
   ]
  },
  {
   "cell_type": "code",
   "execution_count": 25,
   "metadata": {},
   "outputs": [],
   "source": [
    "def plot_confusion_matrix(test_y,pred_y,class_names,normalize=False):\n",
    "    cm = confusion_matrix(test_y,pred_y)\n",
    "    # classes = class_names[unique_labels(test_y,pred_y)]\n",
    "    if normalize:\n",
    "        cm = cm.astype('float') / cm.sum(axis=1)[:, np.newaxis]\n",
    "    fig, ax = plt.subplots()\n",
    "    im = ax.imshow(cm, interpolation='nearest', cmap=plt.cm.Blues)\n",
    "    ax.figure.colorbar(im, ax=ax)\n",
    "    ax.set(xticks=np.arange(cm.shape[1]),\n",
    "           yticks=np.arange(cm.shape[0]),\n",
    "           xticklabels=class_names,\n",
    "           yticklabels=class_names,\n",
    "           ylabel='True label\\n',\n",
    "           xlabel='\\nPredicted label')\n",
    "    fmt = '.2f' if normalize else 'd'\n",
    "    for i in range(cm.shape[0]):\n",
    "        for j in range(cm.shape[1]):\n",
    "            ax.text(j,\n",
    "                    i,\n",
    "                    format(cm[i, j], fmt),\n",
    "                    ha=\"center\",\n",
    "                    va=\"center\",\n",
    "                    color=\"red\", fontsize=16)\n",
    "    fig.tight_layout()\n",
    "    return ax"
   ]
  },
  {
   "cell_type": "code",
   "execution_count": 30,
   "metadata": {},
   "outputs": [
    {
     "data": {
      "text/plain": [
       "0.756"
      ]
     },
     "execution_count": 30,
     "metadata": {},
     "output_type": "execute_result"
    },
    {
     "data": {
      "image/png": "[encoded data removed]",
      "text/plain": [
       "<Figure size 432x288 with 2 Axes>"
      ]
     },
     "metadata": {
      "needs_background": "light"
     },
     "output_type": "display_data"
    }
   ],
   "source": [
    "class_names = ['Still', 'Walking', 'Run', 'Bike', 'Car', 'Bus', 'Train', 'Subway']\n",
    "predict = model.predict_classes(X_val)\n",
    "plot_confusion_matrix(Y_val[:, 0], predict, class_names, True)\n",
    "plt.grid(False)\n",
    "f1_macro = f1_score(Y_val[:, 0], predict, average='macro')\n",
    "round(f1_macro, 3)"
   ]
  },
  {
   "cell_type": "code",
   "execution_count": 31,
   "metadata": {},
   "outputs": [
    {
     "name": "stdout",
     "output_type": "stream",
     "text": [
      "0.808\n",
      "0.708\n",
      "0.792\n",
      "0.719\n"
     ]
    },
    {
     "data": {
      "image/png": "[encoded data removed]",
      "text/plain": [
       "<Figure size 432x288 with 2 Axes>"
      ]
     },
     "metadata": {
      "needs_background": "light"
     },
     "output_type": "display_data"
    },
    {
     "data": {
      "image/png": "[encoded data removed]",
      "text/plain": [
       "<Figure size 432x288 with 2 Axes>"
      ]
     },
     "metadata": {
      "needs_background": "light"
     },
     "output_type": "display_data"
    },
    {
     "data": {
      "image/png": "[encoded data removed]",
      "text/plain": [
       "<Figure size 432x288 with 2 Axes>"
      ]
     },
     "metadata": {
      "needs_background": "light"
     },
     "output_type": "display_data"
    },
    {
     "data": {
      "image/png": "[encoded data removed]",
      "text/plain": [
       "<Figure size 432x288 with 2 Axes>"
      ]
     },
     "metadata": {
      "needs_background": "light"
     },
     "output_type": "display_data"
    }
   ],
   "source": [
    "hold_positions = [\"Bag\", \"Hips\", \"Torso\", \"Hand\"]\n",
    "for i in range(4):\n",
    "    plot_confusion_matrix(Y_val[Y_val[:, 1]==i][:, 0], predict[Y_val[:, 1]==i], class_names, True)\n",
    "    print(round(f1_score(Y_val[Y_val[:, 1]==i][:, 0], predict[Y_val[:, 1]==i], average='macro'), 3))\n",
    "    plt.title(hold_positions[i], fontsize=24)\n",
    "    plt.grid(False)"
   ]
  },
  {
   "cell_type": "code",
   "execution_count": 29,
   "metadata": {},
   "outputs": [],
   "source": [
    "model = tf.keras.models.load_model('../Output/CheckPoint/model06-0.59-0.95-1.55-0.88.hdf5', custom_objects={'f1':f1})"
   ]
  },
  {
   "cell_type": "markdown",
   "metadata": {},
   "source": [
    "# データ数をRunのサンプル数に合わせる"
   ]
  },
  {
   "cell_type": "code",
   "execution_count": null,
   "metadata": {},
   "outputs": [],
   "source": [
    "train_Still = X_train[(Y_train==0)[:, 0]]\n",
    "train_Walking = X_train[(Y_train==1)[:, 0]]\n",
    "train_Run = X_train[(Y_train==2)[:, 0]]\n",
    "train_Bike = X_train[(Y_train==3)[:, 0]]\n",
    "\n",
    "train_Still.shape, train_Walking.shape, train_Run.shape, train_Bike.shape"
   ]
  },
  {
   "cell_type": "code",
   "execution_count": null,
   "metadata": {},
   "outputs": [],
   "source": [
    "train_Still = train_Still[np.random.choice(train_Still.shape[0], 33699, replace=False)]\n",
    "train_Walking = train_Walking[np.random.choice(train_Walking.shape[0], 33699, replace=False)]\n",
    "train_Bike = train_Bike[np.random.choice(train_Bike.shape[0], 33699, replace=False)]\n",
    "\n",
    "train_Still.shape, train_Walking.shape, train_Bike.shape"
   ]
  },
  {
   "cell_type": "code",
   "execution_count": null,
   "metadata": {},
   "outputs": [],
   "source": [
    "X_train = np.concatenate([train_Still, train_Walking, train_Run, train_Bike], axis=0)\n",
    "Y_train = [0] * 33699 + [1] * 33699 + [2] * 33699 + [3] * 33699\n",
    "Y_train = np.array(Y_train).reshape([-1, 1])\n",
    "X_train.shape, Y_train.shape"
   ]
  },
  {
   "cell_type": "code",
   "execution_count": null,
   "metadata": {},
   "outputs": [],
   "source": [
    "model = tf.keras.Sequential()\n",
    "model.add(layers.Flatten())\n",
    "model.add(layers.Dense(64, activation='relu', input_shape=(X_train.shape[1], 1), kernel_initializer=he_normal()))\n",
    "model.add(layers.Dense(32, activation='relu'))\n",
    "model.add(layers.Dropout(0.2))\n",
    "model.add(layers.Dense(16, activation='relu'))\n",
    "model.add(layers.BatchNormalization())\n",
    "model.add(layers.Dense(4, activation='softmax'))\n",
    "model.compile(optimizer=tf.keras.optimizers.Adam(0.01),\n",
    "              loss='sparse_categorical_crossentropy',\n",
    "              metrics=['accuracy', f1])"
   ]
  },
  {
   "cell_type": "code",
   "execution_count": null,
   "metadata": {
    "scrolled": true
   },
   "outputs": [],
   "source": [
    "history = model.fit(X_train, Y_train, epochs=64, batch_size=512, validation_data=(X_val, Y_val[:, 0]))"
   ]
  },
  {
   "cell_type": "code",
   "execution_count": null,
   "metadata": {},
   "outputs": [],
   "source": [
    "# Plot training & validation accuracy values\n",
    "plt.plot(history.history['accuracy'])\n",
    "plt.plot(history.history['val_accuracy'])\n",
    "plt.title('Model accuracy')\n",
    "plt.ylabel('Accuracy')\n",
    "plt.xlabel('Epoch')\n",
    "plt.legend(['Train', 'Test'], loc='upper left')\n",
    "plt.show()\n",
    "\n",
    "# Plot training & validation loss values\n",
    "plt.plot(history.history['loss'])\n",
    "plt.plot(history.history['val_loss'])\n",
    "plt.title('Model loss')\n",
    "plt.ylabel('Loss')\n",
    "plt.xlabel('Epoch')\n",
    "plt.legend(['Train', 'Test'], loc='upper left')\n",
    "plt.ylim((0, 3.5))\n",
    "plt.show()"
   ]
  },
  {
   "cell_type": "code",
   "execution_count": null,
   "metadata": {},
   "outputs": [],
   "source": [
    "class_names = ['Still', 'Walking', 'Run', 'Bike', 'Car', 'Bus', 'Train', 'Subway']\n",
    "predict = model.predict_classes(X_val)\n",
    "plot_confusion_matrix(Y_val[:, 0], predict, class_names, True)\n",
    "plt.grid(False)\n",
    "f1_macro = f1_score(Y_val[:, 0], predict, average='macro')\n",
    "round(f1_macro, 3)"
   ]
  },
  {
   "cell_type": "code",
   "execution_count": null,
   "metadata": {},
   "outputs": [],
   "source": [
    "hold_positions = [\"Bag\", \"Hips\", \"Torso\", \"Hand\"]\n",
    "for i in range(4):\n",
    "    plot_confusion_matrix(Y_val[Y_val[:, 1]==i][:, 0], predict[Y_val[:, 1]==i], class_names, True)\n",
    "    print(round(f1_score(Y_val[Y_val[:, 1]==i][:, 0], predict[Y_val[:, 1]==i], average='macro'), 3))\n",
    "    plt.title(hold_positions[i], fontsize=24)\n",
    "    plt.grid(False)"
   ]
  },
  {
   "cell_type": "code",
   "execution_count": null,
   "metadata": {},
   "outputs": [],
   "source": []
  }
 ],
 "metadata": {
  "kernelspec": {
   "display_name": "Python 3",
   "language": "python",
   "name": "python3"
  },
  "language_info": {
   "codemirror_mode": {
    "name": "ipython",
    "version": 3
   },
   "file_extension": ".py",
   "mimetype": "text/x-python",
   "name": "python",
   "nbconvert_exporter": "python",
   "pygments_lexer": "ipython3",
   "version": "3.7.6"
  }
 },
 "nbformat": 4,
 "nbformat_minor": 4
}

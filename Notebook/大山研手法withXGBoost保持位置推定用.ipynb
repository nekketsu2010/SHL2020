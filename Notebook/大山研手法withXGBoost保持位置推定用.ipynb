{
 "cells": [
  {
   "cell_type": "code",
   "execution_count": 1,
   "metadata": {},
   "outputs": [
    {
     "data": {
      "text/html": [
       "<style>.container { width:90% !important; }</style>"
      ],
      "text/plain": [
       "<IPython.core.display.HTML object>"
      ]
     },
     "metadata": {},
     "output_type": "display_data"
    }
   ],
   "source": [
    "import xgboost as xgb\n",
    "import numpy as np\n",
    "\n",
    "from sklearn.model_selection import train_test_split\n",
    "from sklearn.metrics import confusion_matrix\n",
    "from sklearn.metrics import f1_score\n",
    "from sklearn.model_selection import GridSearchCV\n",
    "from sklearn.preprocessing import StandardScaler\n",
    "from scipy.stats import zscore\n",
    "\n",
    "import seaborn as sns\n",
    "sns.set(font='Yu Gothic')\n",
    "import matplotlib.pyplot as plt\n",
    "%matplotlib inline\n",
    "\n",
    "from IPython.core.display import display, HTML\n",
    "display(HTML(\"<style>.container { width:90% !important; }</style>\"))\n"
   ]
  },
  {
   "cell_type": "code",
   "execution_count": 2,
   "metadata": {},
   "outputs": [],
   "source": [
    "def load_npy(kind, hold_position):\n",
    "    file_path = \"../Output/\" + kind + \"/\" + kind + \"_\" + hold_position + \"/\" + kind + \"_\" + hold_position\n",
    "    xy_mean = np.load(file_path + \"_glo_laccel_xy_mean.npy\")\n",
    "    xy_var = np.load(file_path + \"_glo_laccel_xy_var.npy\")\n",
    "    z_mean = np.load(file_path + \"_glo_laccel_z_mean.npy\")\n",
    "    z_var = np.load(file_path + \"_glo_laccel_z_var.npy\")\n",
    "    z_skew = np.load(file_path + \"_glo_laccel_z_skew.npy\")\n",
    "    z_kurtosis = np.load(file_path + \"_glo_laccel_z_kurtosis.npy\")\n",
    "    z_lacc_FFT_sum = np.load(file_path + \"_glo_laccel_z_sum_frequency_range5Hz.npy\")[:, 0:-1:2]\n",
    "    z_gyro_FFT_sum = np.load(file_path + \"_glo_gyro_z_sum_frequency_range5Hz.npy\")[:, 0:-1:2]\n",
    "    norm_mag_FFT_sum = np.load(file_path + \"_glo_mag_norm_sum_frequency_range5Hz.npy\")[:, 0:-1:2]\n",
    "    lacc_sekibun = np.load(file_path + \"_glo_laccel_xyz_ver2_sekibun.npy\")\n",
    "    z_lacc_FFT = np.load(file_path + \"_glo_laccel_z_amplitude_frequency_range5Hz.npy\")\n",
    "    z_gyro_FFT = np.load(file_path + \"_glo_gyro_z_amplitude_frequency_range5Hz.npy\")\n",
    "    norm_mag_FFT = np.load(file_path + \"_glo_mag_norm_amplitude_frequency_range5Hz.npy\")\n",
    "    result = np.concatenate([xy_mean.reshape([-1, 1]), xy_var.reshape([-1, 1]), z_mean.reshape([-1, 1]), z_var.reshape([-1, 1]), z_skew.reshape([-1, 1]), z_kurtosis.reshape([-1, 1]), \\\n",
    "                             z_lacc_FFT_sum, z_gyro_FFT_sum, norm_mag_FFT_sum, lacc_sekibun, z_lacc_FFT, z_gyro_FFT, norm_mag_FFT], axis=1)\n",
    "    del xy_mean, xy_var, z_mean, z_var, z_skew, z_kurtosis, z_lacc_FFT_sum, z_gyro_FFT_sum, norm_mag_FFT_sum, z_gyro_FFT, norm_mag_FFT\n",
    "    return result"
   ]
  },
  {
   "cell_type": "code",
   "execution_count": 3,
   "metadata": {},
   "outputs": [
    {
     "data": {
      "text/plain": [
       "(195490,)"
      ]
     },
     "execution_count": 3,
     "metadata": {},
     "output_type": "execute_result"
    }
   ],
   "source": [
    "Y_train = np.delete(np.load(\"../Data/センサ別npyファイル/train/train_Bag/train_Bag_Label.npy\")[:, 0], 120845, 0).reshape([-1])\n",
    "\n",
    "Y_train.shape"
   ]
  },
  {
   "cell_type": "code",
   "execution_count": 4,
   "metadata": {},
   "outputs": [
    {
     "data": {
      "text/plain": [
       "(195490, 108)"
      ]
     },
     "execution_count": 4,
     "metadata": {},
     "output_type": "execute_result"
    }
   ],
   "source": [
    "train_Bag = np.delete(load_npy(\"train\", \"Bag\"), 120845, 0)\n",
    "train_Hips = np.delete(load_npy(\"train\", \"Hips\"), 120845, 0)\n",
    "train_Torso = np.delete(load_npy(\"train\", \"Torso\"), 120845, 0)\n",
    "train_Hand = np.delete(load_npy(\"train\", \"Hand\"), 120845, 0)\n",
    "\n",
    "train_Hips.shape"
   ]
  },
  {
   "cell_type": "code",
   "execution_count": 5,
   "metadata": {},
   "outputs": [
    {
     "data": {
      "text/plain": [
       "(781960, 108)"
      ]
     },
     "execution_count": 5,
     "metadata": {},
     "output_type": "execute_result"
    }
   ],
   "source": [
    "# X_train = np.concatenate([train_Bag[(Y_train == 1) | (Y_train == 5) | (Y_train == 6) | (Y_train == 7) | (Y_train == 8)],\\\n",
    "#                           train_Hips, \\\n",
    "#                           train_Torso[(Y_train == 1) | (Y_train == 5) | (Y_train == 6) | (Y_train == 7) | (Y_train == 8)],\\\n",
    "#                           train_Hand[(Y_train == 1) | (Y_train == 6) | (Y_train == 7) | (Y_train == 8)]], axis=0)\n",
    "X_train = np.concatenate([train_Bag, train_Hips, train_Torso, train_Hand], axis=0)\n",
    "# X_train = train_Hips\n",
    "X_train.shape"
   ]
  },
  {
   "cell_type": "code",
   "execution_count": 6,
   "metadata": {},
   "outputs": [
    {
     "data": {
      "text/plain": [
       "(781960,)"
      ]
     },
     "execution_count": 6,
     "metadata": {},
     "output_type": "execute_result"
    }
   ],
   "source": [
    "# Y_train = np.concatenate([Y_train[(Y_train == 1) | (Y_train == 5) | (Y_train == 6) | (Y_train == 7) | (Y_train == 8)],\\\n",
    "#                           Y_train, \\\n",
    "#                           Y_train[(Y_train == 1) | (Y_train == 5) | (Y_train == 6) | (Y_train == 7) | (Y_train == 8)], \\\n",
    "#                           Y_train[(Y_train == 1) | (Y_train == 6) | (Y_train == 7) | (Y_train == 8)]], axis=0)\n",
    "# Y_train = Y_train.reshape([-1, 1])\n",
    "Y_train = np.concatenate([Y_train, Y_train, Y_train, Y_train], axis=0)\n",
    "Y_train.shape"
   ]
  },
  {
   "cell_type": "code",
   "execution_count": 7,
   "metadata": {},
   "outputs": [
    {
     "data": {
      "text/plain": [
       "(14813, 108)"
      ]
     },
     "execution_count": 7,
     "metadata": {},
     "output_type": "execute_result"
    }
   ],
   "source": [
    "user2_Bag = load_npy(\"validation\", \"Bag\")[:14813]\n",
    "user2_Hips = load_npy(\"validation\", \"Hips\")[:14813]\n",
    "user2_Torso = load_npy(\"validation\", \"Torso\")[:14813]\n",
    "user2_Hand = load_npy(\"validation\", \"Hand\")[:14813]\n",
    "\n",
    "user2_Hips.shape"
   ]
  },
  {
   "cell_type": "code",
   "execution_count": 8,
   "metadata": {},
   "outputs": [
    {
     "data": {
      "text/plain": [
       "(14813,)"
      ]
     },
     "execution_count": 8,
     "metadata": {},
     "output_type": "execute_result"
    }
   ],
   "source": [
    "user2_label = np.load(\"../Data/センサ別npyファイル/validation/validation_Bag/validation_Bag_Label.npy\")[:14813, 0].reshape([-1])\n",
    "user2_label.shape"
   ]
  },
  {
   "cell_type": "code",
   "execution_count": 9,
   "metadata": {},
   "outputs": [
    {
     "data": {
      "text/plain": [
       "((41412, 108), (17840, 108))"
      ]
     },
     "execution_count": 9,
     "metadata": {},
     "output_type": "execute_result"
    }
   ],
   "source": [
    "# user2とのデータを学習させるものと評価に使うものに分ける\n",
    "user2_pattern = np.zeros(user2_Bag.shape[0])\n",
    "\n",
    "for i in range(8):\n",
    "    tmp = np.where(user2_label == (i+1))[0]\n",
    "    user2_pattern[tmp[:tmp.shape[0]//10*7]] = 1\n",
    "\n",
    "user2_train = np.concatenate([user2_Bag[user2_pattern == 1], user2_Hips[user2_pattern == 1], user2_Torso[user2_pattern == 1], user2_Hand[user2_pattern == 1]], axis=0)\n",
    "user2_val = np.concatenate([user2_Bag[user2_pattern == 0], user2_Hips[user2_pattern == 0], user2_Torso[user2_pattern == 0], user2_Hand[user2_pattern == 0]], axis=0)\n",
    "\n",
    "user2_tlabel = np.concatenate([user2_label[user2_pattern == 1], user2_label[user2_pattern == 1], user2_label[user2_pattern == 1], user2_label[user2_pattern == 1]], axis=0)\n",
    "user2_vlabel = np.concatenate([user2_label[user2_pattern == 0], user2_label[user2_pattern == 0], user2_label[user2_pattern == 0], user2_label[user2_pattern == 0]], axis=0)\n",
    "\n",
    "\n",
    "user2_train.shape, user2_val.shape"
   ]
  },
  {
   "cell_type": "code",
   "execution_count": 10,
   "metadata": {},
   "outputs": [
    {
     "data": {
      "text/plain": [
       "(13872, 108)"
      ]
     },
     "execution_count": 10,
     "metadata": {},
     "output_type": "execute_result"
    }
   ],
   "source": [
    "user3_Bag = load_npy(\"validation\", \"Bag\")[14813:]\n",
    "user3_Hips = load_npy(\"validation\", \"Hips\")[14813:]\n",
    "user3_Torso = load_npy(\"validation\", \"Torso\")[14813:]\n",
    "user3_Hand = load_npy(\"validation\", \"Hand\")[14813:]\n",
    "\n",
    "user3_Hips.shape"
   ]
  },
  {
   "cell_type": "code",
   "execution_count": 11,
   "metadata": {},
   "outputs": [
    {
     "data": {
      "text/plain": [
       "(13872,)"
      ]
     },
     "execution_count": 11,
     "metadata": {},
     "output_type": "execute_result"
    }
   ],
   "source": [
    "user3_label = np.load(\"../Data/センサ別npyファイル/validation/validation_Bag/validation_Bag_Label.npy\")[14813:, 0].reshape([-1])\n",
    "\n",
    "user3_label.shape"
   ]
  },
  {
   "cell_type": "code",
   "execution_count": 12,
   "metadata": {},
   "outputs": [
    {
     "data": {
      "text/plain": [
       "((38724, 108), (16764, 108))"
      ]
     },
     "execution_count": 12,
     "metadata": {},
     "output_type": "execute_result"
    }
   ],
   "source": [
    "# user3とのデータを学習させるものと評価に使うものに分ける\n",
    "user3_pattern = np.zeros(user3_Bag.shape[0])\n",
    "\n",
    "for i in range(8):\n",
    "    tmp = np.where(user3_label == (i+1))[0]\n",
    "    user3_pattern[tmp[:tmp.shape[0]//10*7]] = 1\n",
    "\n",
    "user3_train = np.concatenate([user3_Bag[user3_pattern == 1], user3_Hips[user3_pattern == 1], user3_Torso[user3_pattern == 1], user3_Hand[user3_pattern == 1]], axis=0)\n",
    "user3_val = np.concatenate([user3_Bag[user3_pattern == 0], user3_Hips[user3_pattern == 0], user3_Torso[user3_pattern == 0], user3_Hand[user3_pattern == 0]], axis=0)\n",
    "\n",
    "user3_tlabel = np.concatenate([user3_label[user3_pattern == 1], user3_label[user3_pattern == 1], user3_label[user3_pattern == 1], user3_label[user3_pattern == 1]], axis=0)\n",
    "user3_vlabel = np.concatenate([user3_label[user3_pattern == 0], user3_label[user3_pattern == 0], user3_label[user3_pattern == 0], user3_label[user3_pattern == 0]], axis=0)\n",
    "\n",
    "user3_train.shape, user3_val.shape"
   ]
  },
  {
   "cell_type": "code",
   "execution_count": 17,
   "metadata": {},
   "outputs": [],
   "source": [
    "def load_npy():\n",
    "    file_path = \"../Output/test/test\"\n",
    "    xy_mean = np.load(file_path + \"_glo_laccel_xy_mean.npy\")\n",
    "    xy_var = np.load(file_path + \"_glo_laccel_xy_var.npy\")\n",
    "    z_mean = np.load(file_path + \"_glo_laccel_z_mean.npy\")\n",
    "    z_var = np.load(file_path + \"_glo_laccel_z_var.npy\")\n",
    "    z_skew = np.load(file_path + \"_glo_laccel_z_skew.npy\")\n",
    "    z_kurtosis = np.load(file_path + \"_glo_laccel_z_kurtosis.npy\")\n",
    "    z_lacc_FFT_sum = np.load(file_path + \"_glo_laccel_z_sum_frequency_range5Hz.npy\")[:, 0:-1:2]\n",
    "    z_gyro_FFT_sum = np.load(file_path + \"_glo_gyro_z_sum_frequency_range5Hz.npy\")[:, 0:-1:2]\n",
    "    norm_mag_FFT_sum = np.load(file_path + \"_glo_mag_norm_sum_frequency_range5Hz.npy\")[:, 0:-1:2]\n",
    "    lacc_sekibun = np.load(file_path + \"_glo_laccel_xyz_ver2_sekibun.npy\")\n",
    "    z_lacc_FFT = np.load(file_path + \"_glo_laccel_z_amplitude_frequency_range5Hz.npy\")\n",
    "    z_gyro_FFT = np.load(file_path + \"_glo_gyro_z_amplitude_frequency_range5Hz.npy\")\n",
    "    norm_mag_FFT = np.load(file_path + \"_glo_mag_norm_amplitude_frequency_range5Hz.npy\")\n",
    "    result = np.concatenate([xy_mean.reshape([-1, 1]), xy_var.reshape([-1, 1]), z_mean.reshape([-1, 1]), z_var.reshape([-1, 1]), z_skew.reshape([-1, 1]), z_kurtosis.reshape([-1, 1]), \\\n",
    "                             z_lacc_FFT_sum, z_gyro_FFT_sum, norm_mag_FFT_sum, lacc_sekibun, z_lacc_FFT, z_gyro_FFT, norm_mag_FFT], axis=1)\n",
    "    del xy_mean, xy_var, z_mean, z_var, z_skew, z_kurtosis, z_lacc_FFT_sum, z_gyro_FFT_sum, norm_mag_FFT_sum, z_gyro_FFT, norm_mag_FFT\n",
    "    return result"
   ]
  },
  {
   "cell_type": "code",
   "execution_count": 18,
   "metadata": {},
   "outputs": [
    {
     "data": {
      "text/plain": [
       "(57573, 108)"
      ]
     },
     "execution_count": 18,
     "metadata": {},
     "output_type": "execute_result"
    }
   ],
   "source": [
    "test = load_npy()\n",
    "test.shape"
   ]
  },
  {
   "cell_type": "markdown",
   "metadata": {},
   "source": [
    "## 標準化(sklearn)"
   ]
  },
  {
   "cell_type": "code",
   "execution_count": 19,
   "metadata": {},
   "outputs": [
    {
     "data": {
      "text/plain": [
       "(781960, 108)"
      ]
     },
     "execution_count": 19,
     "metadata": {},
     "output_type": "execute_result"
    }
   ],
   "source": [
    "train_std = StandardScaler()\n",
    "\n",
    "X_train[:, :42] = train_std.fit_transform(X_train[:, :42])\n",
    "X_train[:, 42:X_train.shape[1]:2] = train_std.fit_transform(X_train[:, 42:X_train.shape[1]:2])\n",
    "\n",
    "X_train.shape"
   ]
  },
  {
   "cell_type": "code",
   "execution_count": 20,
   "metadata": {},
   "outputs": [
    {
     "data": {
      "text/plain": [
       "((41412, 108), (38724, 108), (17840, 108), (16764, 108), (57573, 108))"
      ]
     },
     "execution_count": 20,
     "metadata": {},
     "output_type": "execute_result"
    }
   ],
   "source": [
    "user23_std = StandardScaler()\n",
    "\n",
    "user23 = np.concatenate([user2_train, user2_val, user3_train, user3_val, test], axis=0)\n",
    "\n",
    "user23_std.fit(user23[:, :42])\n",
    "user2_train[:, :42] = user23_std.transform(user2_train[:, :42])\n",
    "user3_train[:, :42] = user23_std.transform(user3_train[:, :42])\n",
    "user2_val[:, :42] = user23_std.transform(user2_val[:, :42])\n",
    "user3_val[:, :42] = user23_std.transform(user3_val[:, :42])\n",
    "test[:, :42] = user23_std.transform(test[:, :42])\n",
    "\n",
    "user23_std.fit(user23[:, 42:user23.shape[1]:2])\n",
    "user2_train[:, 42:user2_train.shape[1]:2] = user23_std.fit_transform(user2_train[:, 42:user2_train.shape[1]:2])\n",
    "user3_train[:, 42:user3_train.shape[1]:2] = user23_std.fit_transform(user3_train[:, 42:user3_train.shape[1]:2])\n",
    "user2_val[:, 42:user2_val.shape[1]:2] = user23_std.fit_transform(user2_val[:, 42:user2_val.shape[1]:2])\n",
    "user3_val[:, 42:user3_val.shape[1]:2] = user23_std.fit_transform(user3_val[:, 42:user3_val.shape[1]:2])\n",
    "test[:, 42:test.shape[1]:2] = user23_std.fit_transform(test[:, 42:test.shape[1]:2])\n",
    "\n",
    "user2_train.shape, user3_train.shape, user2_val.shape, user3_val.shape, test.shape"
   ]
  },
  {
   "cell_type": "code",
   "execution_count": 21,
   "metadata": {},
   "outputs": [
    {
     "data": {
      "text/plain": [
       "((862096, 108), (862096,), (34604, 108), (34604,))"
      ]
     },
     "execution_count": 21,
     "metadata": {},
     "output_type": "execute_result"
    }
   ],
   "source": [
    "x_train = np.concatenate([X_train, user2_train, user3_train], axis=0)\n",
    "y_train = np.concatenate([Y_train, user2_tlabel, user3_tlabel], axis=0)\n",
    "\n",
    "x_val = np.concatenate([user2_val, user3_val], axis=0)\n",
    "y_val = np.concatenate([user2_vlabel, user3_vlabel], axis=0)\n",
    "\n",
    "x_train.shape, y_train.shape, x_val.shape, y_val.shape"
   ]
  },
  {
   "cell_type": "code",
   "execution_count": 22,
   "metadata": {},
   "outputs": [
    {
     "name": "stdout",
     "output_type": "stream",
     "text": [
      "Wall time: 12min 50s\n"
     ]
    },
    {
     "data": {
      "text/plain": [
       "XGBClassifier(base_score=0.5, booster=None, colsample_bylevel=1,\n",
       "              colsample_bynode=1, colsample_bytree=0.8, gamma=0.005, gpu_id=0,\n",
       "              importance_type='gain', interaction_constraints=None,\n",
       "              learning_rate=0.1, max_delta_step=0, max_depth=18,\n",
       "              min_child_weight=7, missing=nan, monotone_constraints=None,\n",
       "              n_estimators=10000, n_jobs=-1, num_parallel_tree=1,\n",
       "              objective='multi:softprob', random_state=0, reg_alpha=0,\n",
       "              reg_lambda=1, scale_pos_weight=None, sub_sample=0.9, subsample=1,\n",
       "              tree_method='gpu_hist', validate_parameters=False,\n",
       "              verbosity=None)"
      ]
     },
     "execution_count": 22,
     "metadata": {},
     "output_type": "execute_result"
    }
   ],
   "source": [
    "%%time\n",
    "evals_result = {}\n",
    "model = xgb.XGBClassifier(max_depth=18, min_child_weight=7, learning_rate=0.1, gamma=0.005, sub_sample=0.9, colsample_bytree=0.8, n_estimators=10000,\n",
    "                        n_jobs=-1, tree_method='gpu_hist', gpu_id=0)\n",
    "\n",
    "model.fit(x_train, y_train, early_stopping_rounds=30, eval_set=[(x_train, y_train), (x_val, y_val)], eval_metric='merror', verbose=False, callbacks=[xgb.callback.record_evaluation(evals_result)])"
   ]
  },
  {
   "cell_type": "markdown",
   "metadata": {},
   "source": [
    "### roundして、汎化するか調査"
   ]
  },
  {
   "cell_type": "code",
   "execution_count": null,
   "metadata": {},
   "outputs": [],
   "source": [
    "X_train = np.round(X_train, 5)\n",
    "X_val = np.round(X_val, 5)\n",
    "X_test = np.round(X_test, 5)\n",
    "test = np.round(test, 5)"
   ]
  },
  {
   "cell_type": "code",
   "execution_count": null,
   "metadata": {},
   "outputs": [],
   "source": [
    "%%time\n",
    "evals_result = {}\n",
    "model = xgb.XGBClassifier(max_depth=18, min_child_weight=7, learning_rate=0.01, gamma=0.005, sub_sample=0.9, colsample_bytree=0.8, n_estimators=10000,\n",
    "                        n_jobs=-1, tree_method='gpu_hist', gpu_id=0)\n",
    "\n",
    "model.fit(X_train, Y_train, early_stopping_rounds=30, eval_set=[(X_train, Y_train), (X_val, Y_val)], eval_metric='merror', verbose=False, callbacks=[xgb.callback.record_evaluation(evals_result)])"
   ]
  },
  {
   "cell_type": "code",
   "execution_count": 26,
   "metadata": {},
   "outputs": [
    {
     "data": {
      "image/png": "[encoded data removed]",
      "text/plain": [
       "<Figure size 1728x288 with 1 Axes>"
      ]
     },
     "metadata": {
      "needs_background": "light"
     },
     "output_type": "display_data"
    }
   ],
   "source": [
    "# 学習過程の名前は 'validation_{n}' になる\n",
    "plt.figure(figsize=(24, 4))\n",
    "train_metric = evals_result['validation_0']['merror']\n",
    "plt.plot(train_metric, label='train merror')\n",
    "eval_metric = evals_result['validation_1']['merror']\n",
    "plt.plot(eval_metric, label='eval merror')\n",
    "plt.grid(True)\n",
    "plt.legend()\n",
    "plt.xlabel('rounds(epochs)')\n",
    "plt.ylabel('merror')\n",
    "plt.xticks(np.arange(0, 175+1, 10))\n",
    "# plt.ylim(-0.01, 0.25)\n",
    "plt.show()"
   ]
  },
  {
   "cell_type": "code",
   "execution_count": 27,
   "metadata": {},
   "outputs": [],
   "source": [
    "def plot_confusion_matrix(test_y,pred_y,class_names,normalize=False, fontsize=32):\n",
    "    cm = (confusion_matrix(test_y,pred_y))\n",
    "    # classes = class_names[unique_labels(test_y,pred_y)]\n",
    "    if normalize:\n",
    "        cm = cm.astype('float') / cm.sum(axis=1, keepdims=True)\n",
    "    \n",
    "    if len(class_names) <= 3:\n",
    "        fig, ax = plt.subplots(figsize=(8, 4))\n",
    "    else:\n",
    "        fig, ax = plt.subplots(figsize=(16, 8))\n",
    "\n",
    "    im = ax.imshow(cm, interpolation='nearest', cmap=plt.cm.Blues)\n",
    "    ax.figure.colorbar(im, ax=ax)\n",
    "    ax.set(xticks=np.arange(cm.shape[1]),\n",
    "           yticks=np.arange(cm.shape[0]),\n",
    "           xticklabels=class_names,\n",
    "           yticklabels=class_names,\n",
    "           ylabel='True label\\n',\n",
    "           xlabel='\\nPredicted label')\n",
    "    fmt = '.2f' if normalize else 'd'\n",
    "    for i in range(cm.shape[0]):\n",
    "        for j in range(cm.shape[1]):\n",
    "            ax.text(j,\n",
    "                    i,\n",
    "                    format(cm[i, j] * 100, fmt),\n",
    "                    ha=\"center\",\n",
    "                    va=\"center\",\n",
    "                    color=\"red\", fontsize=fontsize)\n",
    "    fig.tight_layout()\n",
    "    return ax"
   ]
  },
  {
   "cell_type": "code",
   "execution_count": 28,
   "metadata": {},
   "outputs": [
    {
     "data": {
      "text/plain": [
       "0.747"
      ]
     },
     "execution_count": 28,
     "metadata": {},
     "output_type": "execute_result"
    },
    {
     "data": {
      "image/png": "[encoded data removed]",
      "text/plain": [
       "<Figure size 1152x576 with 2 Axes>"
      ]
     },
     "metadata": {
      "needs_background": "light"
     },
     "output_type": "display_data"
    }
   ],
   "source": [
    "# class_names = ['Other', 'Walking', 'Run', 'Bike']\n",
    "class_names = ['Still', 'Walking', 'Run', 'Bike', 'Car', 'Bus', 'Train', 'Subway']\n",
    "predict = model.predict(x_val)\n",
    "f1_macro = f1_score(y_val, predict, average='macro')\n",
    "plot_confusion_matrix(y_val, predict, class_names, True, fontsize=24)\n",
    "plt.grid(False)\n",
    "round(f1_macro, 3)"
   ]
  },
  {
   "cell_type": "code",
   "execution_count": null,
   "metadata": {},
   "outputs": [],
   "source": [
    "# class_names = ['Other', 'Walking', 'Run', 'Bike']\n",
    "class_names = ['Still', 'Walking', 'Run', 'Bike', 'Car', 'Bus', 'Train', 'Subway']\n",
    "predict = model.predict(X_val)\n",
    "\n",
    "for i in range(2, 4):\n",
    "    f1_macro = f1_score(Y_val[X_val[:,user_index+1] == i], predict[X_val[:,user_index+1] == i], average='macro')\n",
    "    plot_confusion_matrix(Y_val[X_val[:,user_index+1] == i], predict[X_val[:,user_index+1] == i], class_names, False)\n",
    "    plt.grid(False)\n",
    "    plt.title(\"ユーザ\" + str(i))\n",
    "    print(\"ユーザ\" + str(i), round(f1_macro, 3))"
   ]
  },
  {
   "cell_type": "code",
   "execution_count": null,
   "metadata": {},
   "outputs": [],
   "source": [
    "# class_names = ['Other', 'Walking', 'Run', 'Bike']\n",
    "class_names = ['Still', 'Walking', 'Run', 'Bike', 'Car', 'Bus', 'Train', 'Subway']\n",
    "predict = model.predict(X_test)\n",
    "f1_macro = f1_score(Y_test, predict, average='macro')\n",
    "plot_confusion_matrix(Y_test, predict, class_names, True, fontsize=24)\n",
    "plt.grid(False)\n",
    "plt.title(\"関口 F値：\" + str(round(f1_macro, 3)), fontsize=24)\n",
    "round(f1_macro, 3)"
   ]
  },
  {
   "cell_type": "code",
   "execution_count": null,
   "metadata": {},
   "outputs": [],
   "source": [
    "# class_names = ['Other', 'Walking', 'Run', 'Bike']\n",
    "class_names = ['Still', 'Walking', 'Run', 'Bike', 'Car', 'Bus', 'Train', 'Subway']\n",
    "predict = model.predict(X_test)\n",
    "\n",
    "for i in range(2, 4):\n",
    "    f1_macro = f1_score(Y_test[X_test[:,42] == i], predict[X_test[:,42] == i], average='macro')\n",
    "    plot_confusion_matrix(Y_test[X_test[:,42] == i], predict[X_test[:,42] == i], class_names, True, fontsize=24)\n",
    "    plt.grid(False)\n",
    "    plt.title(\"ユーザ\" + str(i) + \"  F値：\" + str(round(f1_macro, 3)), fontsize=24)\n",
    "    print(\"ユーザ\" + str(i), round(f1_macro, 3))"
   ]
  },
  {
   "cell_type": "code",
   "execution_count": null,
   "metadata": {},
   "outputs": [],
   "source": [
    "_, ax = plt.subplots(figsize=(12, 24))\n",
    "xgb.plot_importance(model,\n",
    "                    ax=ax,\n",
    "                    importance_type='gain',\n",
    "                    show_values=False)\n",
    "plt.grid(False)"
   ]
  },
  {
   "cell_type": "code",
   "execution_count": null,
   "metadata": {},
   "outputs": [],
   "source": [
    "import pickle\n",
    "\n",
    "pickle.dump(model, open(\"model_0614sekibun110.binaryfile\", 'wb'))"
   ]
  },
  {
   "cell_type": "code",
   "execution_count": null,
   "metadata": {},
   "outputs": [],
   "source": [
    "def predict(x, file_name):\n",
    "    x_predict = model.predict_proba(x).reshape([-1, 8])\n",
    "    np.save(file_name, x_predict)\n",
    "    return x_predict"
   ]
  },
  {
   "cell_type": "code",
   "execution_count": null,
   "metadata": {},
   "outputs": [],
   "source": [
    "train_Bag_predict = predict(X_train[X_train.shape[0]//4*0:X_train.shape[0]//4], \"train_Bag_関口分類\")\n",
    "train_Hips_predict = predict(X_train[X_train.shape[0]//4:X_train.shape[0]//4*2], \"train_Hips_関口分類\")\n",
    "train_Torso_predict = predict(X_train[X_train.shape[0]//4*2:X_train.shape[0]//4*3], \"train_Torso_関口分類\")\n",
    "train_Hand_predict = predict(X_train[X_train.shape[0]//4*3:], \"train_Hand_関口分類\")\n",
    "\n",
    "validation_Bag_predict = predict(X_val[X_val.shape[0]//4*0:X_val.shape[0]//4], \"validation_Bag_関口分類\")\n",
    "validation_Hips_predict = predict(X_val[X_val.shape[0]//4:X_val.shape[0]//4*2], \"validation_Hips_関口分類\")\n",
    "validation_Torso_predict = predict(X_val[X_val.shape[0]//4*2:X_val.shape[0]//4*3], \"validation_Torso_関口分類\")\n",
    "validation_Hand_predict = predict(X_val[X_val.shape[0]//4*3:], \"validation_Hand_関口分類\")"
   ]
  },
  {
   "cell_type": "code",
   "execution_count": null,
   "metadata": {},
   "outputs": [],
   "source": [
    "train_Hips_predict = predict(X_train, \"train_Hips_関口分類\")\n",
    "validation_Hips_predict = predict(X_val, \"validation_Hips_関口分類\")"
   ]
  },
  {
   "cell_type": "markdown",
   "metadata": {},
   "source": [
    "## パターン2のときこっち"
   ]
  },
  {
   "cell_type": "code",
   "execution_count": null,
   "metadata": {},
   "outputs": [],
   "source": [
    "# train_Bag_predict = predict(X_train[X_train.shape[0]//4*0:X_train.shape[0]//4], \"train_Bag_関口分類\")\n",
    "# train_Hips_predict = predict(X_train[X_train.shape[0]//4:X_train.shape[0]//4*2], \"train_Hips_関口分類\")\n",
    "# train_Torso_predict = predict(X_train[X_train.shape[0]//4*2:X_train.shape[0]//4*3], \"train_Torso_関口分類\")\n",
    "# train_Hand_predict = predict(X_train[X_train.shape[0]//4*3:], \"train_Hand_関口分類\")\n",
    "\n",
    "train_Hips_predict = predict(X_train[X_train[:, 42] == 1], \"train_Hips_関口分類_pattern2\")\n",
    "# train_Hips_predict = predict(X_train, \"train_Hips_関口分類_pattern2\")\n",
    "\n",
    "# validation_Bag_predict = predict(validation_Bag, \"validation_Bag_関口分類\")\n",
    "val = np.round(val, 5)\n",
    "validation_Hips_predict = predict(val, \"validation_Hips_関口分類_pattern2\")\n",
    "# validation_Torso_predict = predict(validation_Torso, \"validation_Torso_関口分類\")\n",
    "# validation_Hand_predict = predict(validation_Hand, \"validation_Hand_関口分類\")"
   ]
  },
  {
   "cell_type": "code",
   "execution_count": null,
   "metadata": {
    "scrolled": true
   },
   "outputs": [],
   "source": [
    "best_f1_score = 0\n",
    "best_param = {}\n",
    "\n",
    "max_depth = [11, 12, 13]\n",
    "min_child_weight = [3, 4, 5]\n",
    "count = 1\n",
    "for i in max_depth:\n",
    "    for j in min_child_weight:\n",
    "        evals_result = {}\n",
    "        model = xgb.XGBClassifier(max_depth=i, min_child_weight=j, learning_rate=0.1,\n",
    "                                  n_jobs=-1, tree_method='gpu_hist', gpu_id=0)\n",
    "        model.fit(X_train, Y_train)\n",
    "#         model.fit(x_train, y_train, early_stopping_rounds=100, eval_set=[[(x_train, y_train), (x_test, y_test)]], eval_metric='merror', verbose_eval=False, callbacks=[xgb.callback.record_evaluation(evals_result)])\n",
    "        print(\"{}回終わった\".format(count))\n",
    "        count += 1\n",
    "        predict = model.predict(X_val)\n",
    "        f1_macro = f1_score(Y_val, predict, average='macro')\n",
    "        print({'max_depth': i, 'min_child_weight': j}, f1_macro)\n",
    "        if f1_macro > best_f1_score:\n",
    "            best_f1_score = f1_macro\n",
    "            best_param = {'max_depth': i, 'min_child_weight': j}\n",
    "\n",
    "print(round(best_f1_score, 3))\n",
    "print(best_param)\n",
    "\n",
    "# param = {\n",
    "#     \"max_depth\":[i for i in range(3, 16, 3)], \"min_child_weight\":[i for i in range(6, 13, 2)]\n",
    "#     # \"gamma\":[0.01, 0.05, 0.075, 0.1]\n",
    "#     # \"subsample\":[0.70, 0.75, 0.80, 0.85, 0.90, 0.95, 1.00], \"colsample_bytree\":[0.70, 0.75, 0.80, 0.85, 0.90, 0.95, 1.00]\n",
    "#     # \"n_estimators\":[250, 500, 750], \"learning_rate\":[0.05, 0.1]\n",
    "#     # \"reg_alpha\":[0.1, 0.25, 0.5, 0.75]\n",
    "# }"
   ]
  },
  {
   "cell_type": "code",
   "execution_count": null,
   "metadata": {},
   "outputs": [],
   "source": [
    "# 学習過程の名前は 'validation_{n}' になる\n",
    "train_metric = evals_result['validation_0']['merror']\n",
    "plt.plot(train_metric, label='train merror')\n",
    "eval_metric = evals_result['validation_1']['merror']\n",
    "plt.plot(eval_metric, label='eval merror')\n",
    "plt.grid()\n",
    "plt.legend()\n",
    "plt.xlabel('rounds(epochs)')\n",
    "plt.ylabel('merror')\n",
    "plt.show()"
   ]
  },
  {
   "cell_type": "markdown",
   "metadata": {},
   "source": [
    "# testData推定"
   ]
  },
  {
   "cell_type": "code",
   "execution_count": 29,
   "metadata": {},
   "outputs": [
    {
     "data": {
      "text/plain": [
       "(57573, 8)"
      ]
     },
     "execution_count": 29,
     "metadata": {},
     "output_type": "execute_result"
    }
   ],
   "source": [
    "test_predict = model.predict_proba(test)\n",
    "\n",
    "test_predict.shape"
   ]
  },
  {
   "cell_type": "code",
   "execution_count": 37,
   "metadata": {},
   "outputs": [
    {
     "data": {
      "text/plain": [
       "((11809,), (11809,))"
      ]
     },
     "execution_count": 37,
     "metadata": {},
     "output_type": "execute_result"
    }
   ],
   "source": [
    "a = np.where((test_predict[:, 1] >= 0.75) | (test_predict[:, 2] >= 0.75) | (test_predict[:, 4] >= 0.75))[0]\n",
    "# np.save(\"test_walking_run_car_index\", a)\n",
    "a.shape, np.unique(a).shape"
   ]
  },
  {
   "cell_type": "code",
   "execution_count": null,
   "metadata": {},
   "outputs": [],
   "source": [
    "np.where(test_predict[:, 1] >= 0.75)[0].shape, np.where(test_predict[:, 2] >= 0.75)[0].shape, np.where(test_predict[:, 4] >= 0.75)[0].shape"
   ]
  },
  {
   "cell_type": "code",
   "execution_count": null,
   "metadata": {},
   "outputs": [],
   "source": [
    "np.where((test_predict[:, 2] >= 0.75))[0].shape\n"
   ]
  },
  {
   "cell_type": "code",
   "execution_count": null,
   "metadata": {},
   "outputs": [],
   "source": [
    "np.save(\"test_関口分類_pattern2\", test_predict)"
   ]
  },
  {
   "cell_type": "code",
   "execution_count": null,
   "metadata": {},
   "outputs": [],
   "source": [
    "np.unique(np.where(test_predict >= 0.75)[0]).shape"
   ]
  },
  {
   "cell_type": "code",
   "execution_count": null,
   "metadata": {},
   "outputs": [],
   "source": [
    "predict = model.predict_proba(X_test)\n",
    "predict.shape, np.unique(predict)"
   ]
  },
  {
   "cell_type": "code",
   "execution_count": null,
   "metadata": {},
   "outputs": [],
   "source": [
    "np.unique(np.where(predict >= 0.50)[0]).shape"
   ]
  },
  {
   "cell_type": "code",
   "execution_count": null,
   "metadata": {},
   "outputs": [],
   "source": [
    "np.unique(Y_test), np.unique(np.argmax(predict, axis=1))"
   ]
  },
  {
   "cell_type": "code",
   "execution_count": null,
   "metadata": {},
   "outputs": [],
   "source": [
    "# cm = confusion_matrix(y_test, pre)\n",
    "plt.subplots(8, 8, figsize=(24, 16))\n",
    "plt.subplots_adjust(wspace=0.4, hspace=0.4)\n",
    "k = 0\n",
    "for i in range(8):\n",
    "    for j in range(8):\n",
    "        predict[(Y_test[:, 0] == i) & (np.argmax(predict, axis=1) == j)]\n",
    "        plt.subplot(8, 8, k+1)\n",
    "        plt.hist(predict[(Y_test[:, 0] == (i+1)) & (np.argmax(predict, axis=1) == j)][:, j])\n",
    "        plt.xlim(0, 1.0)\n",
    "        k += 1"
   ]
  },
  {
   "cell_type": "code",
   "execution_count": null,
   "metadata": {},
   "outputs": [],
   "source": [
    "test_predict = model.predict_proba(test)\n",
    "\n",
    "test_predict.shape"
   ]
  },
  {
   "cell_type": "code",
   "execution_count": null,
   "metadata": {},
   "outputs": [],
   "source": [
    "test_index = np.where(test_predict >= 0.90)[0]\n",
    "np.unique(test_index).shape, test_index.shape"
   ]
  },
  {
   "cell_type": "code",
   "execution_count": null,
   "metadata": {},
   "outputs": [],
   "source": [
    "test_label = np.argmax(test_predict, axis=1) + 1\n",
    "np.unique(test_label), test_label.shape"
   ]
  },
  {
   "cell_type": "code",
   "execution_count": null,
   "metadata": {},
   "outputs": [],
   "source": [
    "test_x = test\n",
    "test_x.shape"
   ]
  },
  {
   "cell_type": "code",
   "execution_count": null,
   "metadata": {},
   "outputs": [],
   "source": [
    "%%time\n",
    "evals_result = {}\n",
    "model = xgb.XGBClassifier(max_depth=18, min_child_weight=7, learning_rate=0.01, gamma=0.005, sub_sample=0.9, colsample_bytree=0.8, n_estimators=10000,\n",
    "                        n_jobs=-1, tree_method='gpu_hist', gpu_id=0)\n",
    "\n",
    "model.fit(test_x, test_label, early_stopping_rounds=30, eval_set=[(test_x, test_label), (X_val, Y_val)], \\\n",
    "          eval_metric='merror', verbose=False, callbacks=[xgb.callback.record_evaluation(evals_result)])"
   ]
  },
  {
   "cell_type": "code",
   "execution_count": null,
   "metadata": {},
   "outputs": [],
   "source": [
    "# 学習過程の名前は 'validation_{n}' になる\n",
    "plt.figure(figsize=(24, 4))\n",
    "train_metric = evals_result['validation_0']['merror']\n",
    "plt.plot(train_metric, label='train merror')\n",
    "eval_metric = evals_result['validation_1']['merror']\n",
    "plt.plot(eval_metric, label='eval merror')\n",
    "plt.grid()\n",
    "plt.legend()\n",
    "plt.xlabel('rounds(epochs)')\n",
    "plt.ylabel('merror')\n",
    "plt.xticks(np.arange(0, 100+1, 2))\n",
    "plt.show()"
   ]
  },
  {
   "cell_type": "code",
   "execution_count": null,
   "metadata": {},
   "outputs": [],
   "source": [
    "predict = model.predict(X_test)\n",
    "for i in range(2, 4):\n",
    "    f1_macro = f1_score(Y_test[X_test[:, user_index+1] == i], predict[X_test[:, user_index+1] == i], average='macro')\n",
    "    plot_confusion_matrix(Y_test[X_test[:, user_index+1] == i], predict[X_test[:, user_index+1] == i], class_names, True, fontsize=24)\n",
    "    plt.grid(False)\n",
    "    plt.title(\"testデータの疑似ラベル学習  F値：\" + str(round(f1_macro, 3)), fontsize=24)\n",
    "    print(\"ユーザ\" + str(i), round(f1_macro, 3))\n"
   ]
  },
  {
   "cell_type": "code",
   "execution_count": null,
   "metadata": {},
   "outputs": [],
   "source": [
    "predict = model.predict(X_test)\n",
    "f1_macro = f1_score(Y_test, predict, average='macro')\n",
    "plot_confusion_matrix(Y_test, predict, class_names, True, fontsize=24)\n",
    "plt.grid(False)\n",
    "plt.title(\"testデータの疑似ラベル学習  F値：\" + str(round(f1_macro, 3)), fontsize=24)\n",
    "print(\"ユーザ\" + str(i), round(f1_macro, 3))"
   ]
  },
  {
   "cell_type": "code",
   "execution_count": null,
   "metadata": {},
   "outputs": [],
   "source": []
  }
 ],
 "metadata": {
  "file_extension": ".py",
  "kernelspec": {
   "display_name": "Python 3",
   "language": "python",
   "name": "python3"
  },
  "language_info": {
   "codemirror_mode": {
    "name": "ipython",
    "version": 3
   },
   "file_extension": ".py",
   "mimetype": "text/x-python",
   "name": "python",
   "nbconvert_exporter": "python",
   "pygments_lexer": "ipython3",
   "version": "3.7.6"
  },
  "mimetype": "text/x-python",
  "name": "python",
  "npconvert_exporter": "python",
  "pygments_lexer": "ipython3",
  "version": 3
 },
 "nbformat": 4,
 "nbformat_minor": 4
}

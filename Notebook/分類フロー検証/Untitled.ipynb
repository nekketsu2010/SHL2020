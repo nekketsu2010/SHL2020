{
 "cells": [
  {
   "cell_type": "code",
   "execution_count": 109,
   "metadata": {},
   "outputs": [
    {
     "data": {
      "text/html": [
       "<style>.container { width:90% !important; }</style>"
      ],
      "text/plain": [
       "<IPython.core.display.HTML object>"
      ]
     },
     "metadata": {},
     "output_type": "display_data"
    }
   ],
   "source": [
    "import numpy as np\n",
    "import pandas as pd\n",
    "#最大表示行数の指定（ここでは50行を指定）\n",
    "pd.set_option('display.max_rows', 50)\n",
    "\n",
    "from sklearn.model_selection import train_test_split\n",
    "from sklearn.metrics import confusion_matrix\n",
    "from sklearn.metrics import f1_score\n",
    "from sklearn.model_selection import GridSearchCV\n",
    "from sklearn.preprocessing import StandardScaler\n",
    "\n",
    "import seaborn as sns\n",
    "sns.set(font='Yu Gothic')\n",
    "import matplotlib.pyplot as plt\n",
    "%matplotlib inline\n",
    "\n",
    "from IPython.core.display import display, HTML\n",
    "display(HTML(\"<style>.container { width:90% !important; }</style>\"))"
   ]
  },
  {
   "cell_type": "code",
   "execution_count": 85,
   "metadata": {},
   "outputs": [
    {
     "data": {
      "text/plain": [
       "array([[0.25      , 0.33333333],\n",
       "       [0.75      , 0.66666667]])"
      ]
     },
     "execution_count": 85,
     "metadata": {},
     "output_type": "execute_result"
    }
   ],
   "source": [
    "a = np.array([[1, 2],[3,4]])\n",
    "b = a/a.sum(axis=0)\n",
    "b"
   ]
  },
  {
   "cell_type": "code",
   "execution_count": 110,
   "metadata": {},
   "outputs": [],
   "source": [
    "def plot_confusion_matrix(test_y,pred_y,class_names,normalize=False, fontsize=32):\n",
    "    cm = confusion_matrix(test_y,pred_y)\n",
    "    # classes = class_names[unique_labels(test_y,pred_y)]\n",
    "    if normalize:\n",
    "        cm = cm.astype('float') / cm.sum(axis=0)\n",
    "    \n",
    "    if len(class_names) <= 3:\n",
    "        fig, ax = plt.subplots(figsize=(8, 4))\n",
    "    else:\n",
    "        fig, ax = plt.subplots(figsize=(16, 8))\n",
    "\n",
    "    im = ax.imshow(cm, interpolation='nearest', cmap=plt.cm.Blues)\n",
    "    ax.figure.colorbar(im, ax=ax)\n",
    "    ax.set(xticks=np.arange(cm.shape[1]),\n",
    "           yticks=np.arange(cm.shape[0]),\n",
    "           xticklabels=class_names,\n",
    "           yticklabels=class_names,\n",
    "           ylabel='←True label（列）\\n',\n",
    "           xlabel='\\n→Predicted label（行）')\n",
    "    fmt = '.2f' if normalize else 'd'\n",
    "    for i in range(cm.shape[0]):\n",
    "        for j in range(cm.shape[1]):\n",
    "            ax.text(j,\n",
    "                    i,\n",
    "                    format(cm[i, j], fmt),\n",
    "                    ha=\"center\",\n",
    "                    va=\"center\",\n",
    "                    color=\"red\", fontsize=fontsize)\n",
    "    fig.tight_layout()\n",
    "    return ax"
   ]
  },
  {
   "cell_type": "code",
   "execution_count": 253,
   "metadata": {},
   "outputs": [],
   "source": [
    "def patternConcat(pattern, kind, hold_position):\n",
    "    pattern = str(pattern)\n",
    "    pattern_data = np.load(\"pattern\" + pattern + \"/\" + kind + \"_pattern\" + pattern + \".npy\").reshape([-1, 1])\n",
    "    if kind == \"train\":\n",
    "        label = np.load(\"../../Data/センサ別npyファイル/train/train_Bag/train_Bag_Label.npy\")[:, 0].reshape([-1, 1])\n",
    "        label = np.delete(label, 120845, 0)\n",
    "    else:\n",
    "        label = np.load(\"../../Data/センサ別npyファイル/validation/validation_Bag/validation_Bag_Label.npy\")[:, 0].reshape([-1, 1])\n",
    "    \n",
    "    file_path = \"pattern\" + pattern + \"/\" + kind + \"_\" + hold_position + \"_\"\n",
    "    kumano1 = np.load(file_path + \"熊野分類1.npy\")\n",
    "    \n",
    "    sekiguchi = np.load(file_path + \"関口分類.npy\")\n",
    "    \n",
    "    abe = np.load(file_path + \"安部分類.npy\")\n",
    "    \n",
    "    kumano2 = np.load(file_path + \"熊野分類2.npy\")\n",
    "    print(kumano2.shape)\n",
    "    \n",
    "    if kind == \"train\":\n",
    "        abe = np.delete(abe, 120845, 0)\n",
    "        kumano1 = np.delete(kumano1, 120845, 0)\n",
    "        kumano2 = np.delete(kumano2, 120845, 0)\n",
    "    \n",
    "#     yokoyama = np.load(file_path + \"横山分類.npy\")\n",
    "#     kumano2 = np.load(file_path + \"熊野分類2.npy\")\n",
    "    print(pattern_data.shape, label.shape, sekiguchi.shape, abe.shape)\n",
    "#     result = np.concatenate([pattern_data, label, kumano1, sekiguchi, abe, yokoyama, kumano2], axis=1)\n",
    "    result = np.concatenate([pattern_data, label, kumano1, sekiguchi, abe, kumano2], axis=1).astype(np.int32)\n",
    "#     result = pd.DataFrame(result, columns=[\"pattern\", \"label\", \"kumano1\", \"sekiguchi\", \"abe\", \"yokoyama\", \"kumano2\"])\n",
    "    result = pd.DataFrame(result, columns=[\"pattern\", \"label\", \"kumano1\", \"sekiguchi\", \"abe\", \"kumano2\"])\n",
    "    return result"
   ]
  },
  {
   "cell_type": "code",
   "execution_count": 259,
   "metadata": {},
   "outputs": [
    {
     "data": {
      "text/plain": [
       "array([0, 1], dtype=int64)"
      ]
     },
     "execution_count": 259,
     "metadata": {},
     "output_type": "execute_result"
    }
   ],
   "source": [
    "file_path = \"pattern4/train_Bag_\"\n",
    "a = np.load(file_path + \"熊野分類2.npy\")\n",
    "np.unique(a)"
   ]
  },
  {
   "cell_type": "code",
   "execution_count": 284,
   "metadata": {},
   "outputs": [
    {
     "ename": "FileNotFoundError",
     "evalue": "[Errno 2] No such file or directory: 'pattern2/validation_Bag_熊野分類2.npy'",
     "output_type": "error",
     "traceback": [
      "\u001b[1;31m---------------------------------------------------------------------------\u001b[0m",
      "\u001b[1;31mFileNotFoundError\u001b[0m                         Traceback (most recent call last)",
      "\u001b[1;32m<ipython-input-284-83a2d0c68a99>\u001b[0m in \u001b[0;36m<module>\u001b[1;34m\u001b[0m\n\u001b[1;32m----> 1\u001b[1;33m \u001b[0mpattern2\u001b[0m \u001b[1;33m=\u001b[0m \u001b[0mpatternConcat\u001b[0m\u001b[1;33m(\u001b[0m\u001b[1;36m2\u001b[0m\u001b[1;33m,\u001b[0m \u001b[1;34m\"validation\"\u001b[0m\u001b[1;33m,\u001b[0m \u001b[1;34m\"Bag\"\u001b[0m\u001b[1;33m)\u001b[0m\u001b[1;33m\u001b[0m\u001b[1;33m\u001b[0m\u001b[0m\n\u001b[0m\u001b[0;32m      2\u001b[0m \u001b[0mpattern2\u001b[0m\u001b[1;33m.\u001b[0m\u001b[0mshape\u001b[0m\u001b[1;33m\u001b[0m\u001b[1;33m\u001b[0m\u001b[0m\n",
      "\u001b[1;32m<ipython-input-253-cd4d2fed03d0>\u001b[0m in \u001b[0;36mpatternConcat\u001b[1;34m(pattern, kind, hold_position)\u001b[0m\n\u001b[0;32m     15\u001b[0m     \u001b[0mabe\u001b[0m \u001b[1;33m=\u001b[0m \u001b[0mnp\u001b[0m\u001b[1;33m.\u001b[0m\u001b[0mload\u001b[0m\u001b[1;33m(\u001b[0m\u001b[0mfile_path\u001b[0m \u001b[1;33m+\u001b[0m \u001b[1;34m\"安部分類.npy\"\u001b[0m\u001b[1;33m)\u001b[0m\u001b[1;33m\u001b[0m\u001b[1;33m\u001b[0m\u001b[0m\n\u001b[0;32m     16\u001b[0m \u001b[1;33m\u001b[0m\u001b[0m\n\u001b[1;32m---> 17\u001b[1;33m     \u001b[0mkumano2\u001b[0m \u001b[1;33m=\u001b[0m \u001b[0mnp\u001b[0m\u001b[1;33m.\u001b[0m\u001b[0mload\u001b[0m\u001b[1;33m(\u001b[0m\u001b[0mfile_path\u001b[0m \u001b[1;33m+\u001b[0m \u001b[1;34m\"熊野分類2.npy\"\u001b[0m\u001b[1;33m)\u001b[0m\u001b[1;33m\u001b[0m\u001b[1;33m\u001b[0m\u001b[0m\n\u001b[0m\u001b[0;32m     18\u001b[0m     \u001b[0mprint\u001b[0m\u001b[1;33m(\u001b[0m\u001b[0mkumano2\u001b[0m\u001b[1;33m.\u001b[0m\u001b[0mshape\u001b[0m\u001b[1;33m)\u001b[0m\u001b[1;33m\u001b[0m\u001b[1;33m\u001b[0m\u001b[0m\n\u001b[0;32m     19\u001b[0m \u001b[1;33m\u001b[0m\u001b[0m\n",
      "\u001b[1;32m~\\Anaconda3\\envs\\GPU\\lib\\site-packages\\numpy\\lib\\npyio.py\u001b[0m in \u001b[0;36mload\u001b[1;34m(file, mmap_mode, allow_pickle, fix_imports, encoding)\u001b[0m\n\u001b[0;32m    426\u001b[0m         \u001b[0mown_fid\u001b[0m \u001b[1;33m=\u001b[0m \u001b[1;32mFalse\u001b[0m\u001b[1;33m\u001b[0m\u001b[1;33m\u001b[0m\u001b[0m\n\u001b[0;32m    427\u001b[0m     \u001b[1;32melse\u001b[0m\u001b[1;33m:\u001b[0m\u001b[1;33m\u001b[0m\u001b[1;33m\u001b[0m\u001b[0m\n\u001b[1;32m--> 428\u001b[1;33m         \u001b[0mfid\u001b[0m \u001b[1;33m=\u001b[0m \u001b[0mopen\u001b[0m\u001b[1;33m(\u001b[0m\u001b[0mos_fspath\u001b[0m\u001b[1;33m(\u001b[0m\u001b[0mfile\u001b[0m\u001b[1;33m)\u001b[0m\u001b[1;33m,\u001b[0m \u001b[1;34m\"rb\"\u001b[0m\u001b[1;33m)\u001b[0m\u001b[1;33m\u001b[0m\u001b[1;33m\u001b[0m\u001b[0m\n\u001b[0m\u001b[0;32m    429\u001b[0m         \u001b[0mown_fid\u001b[0m \u001b[1;33m=\u001b[0m \u001b[1;32mTrue\u001b[0m\u001b[1;33m\u001b[0m\u001b[1;33m\u001b[0m\u001b[0m\n\u001b[0;32m    430\u001b[0m \u001b[1;33m\u001b[0m\u001b[0m\n",
      "\u001b[1;31mFileNotFoundError\u001b[0m: [Errno 2] No such file or directory: 'pattern2/validation_Bag_熊野分類2.npy'"
     ]
    }
   ],
   "source": [
    "pattern2 = patternConcat(2, \"validation\", \"Bag\")\n",
    "pattern2.shape"
   ]
  },
  {
   "cell_type": "markdown",
   "metadata": {},
   "source": [
    "## 個人ごとの成績をチェック"
   ]
  },
  {
   "cell_type": "code",
   "execution_count": 238,
   "metadata": {},
   "outputs": [],
   "source": [
    "def kumano1Test(x):\n",
    "    x = x.copy()\n",
    "    class_names = ['Other', 'Run']\n",
    "    x.loc[x['label'] != 3, 'label'] = 0\n",
    "    x.loc[x['label'] == 3, 'label'] = 1\n",
    "    print(round(f1_score(x[(x['pattern'] == 2)]['kumano1'], x[(x['pattern'] == 2)]['label'], average='macro'), 3))\n",
    "    plot_confusion_matrix(x[(x['pattern'] == 2)]['kumano1'], x[(x['pattern'] == 2)]['label'], class_names, False, 16)"
   ]
  },
  {
   "cell_type": "code",
   "execution_count": 239,
   "metadata": {},
   "outputs": [],
   "source": [
    "def sekiguchiTest(x):\n",
    "    x = x.copy()\n",
    "    class_names = ['Other', 'Walking', 'Run', 'Bike']\n",
    "    x.loc[x['label'] == 1, 'label'] = 0\n",
    "    x.loc[x['label'] >= 5, 'label'] = 0\n",
    "    x.loc[x['label'] >= 2, 'label'] += -1\n",
    "    print(round(f1_score(x[(x['pattern'] == 2)]['sekiguchi'], x[(x['pattern'] == 2)]['label'], average='macro'), 3))\n",
    "    plot_confusion_matrix(x[(x['pattern'] == 2)]['sekiguchi'], x[(x['pattern'] == 2)]['label'], class_names, False, 24)"
   ]
  },
  {
   "cell_type": "code",
   "execution_count": 240,
   "metadata": {},
   "outputs": [],
   "source": [
    "def abeTest(x):\n",
    "    x = x.copy()\n",
    "    class_names = ['Still', 'Car or Bus', 'Train or Subway']\n",
    "    x.loc[(x['label'] >= 2) & (x['label'] <= 4), 'label'] = 3 \n",
    "    x.loc[x['label'] == 1, 'label'] = 0\n",
    "    x.loc[x['label'] == 5, 'label'] = 1\n",
    "    x.loc[x['label'] == 6, 'label'] = 1\n",
    "    x.loc[x['label'] == 7, 'label'] = 2\n",
    "    x.loc[x['label'] == 8, 'label'] = 2\n",
    "    print(round(f1_score(x[(x['pattern'] == 2) & (x['label'] <= 2)]['abe'], x[(x['pattern'] == 2) & (x['label'] <= 2)]['label'], average='macro'), 3))\n",
    "    plot_confusion_matrix(x[(x['pattern'] == 2) & (x['label'] <= 2)]['abe'], x[(x['pattern'] == 2) & (x['label'] <= 2)]['label'], class_names, True, 24)"
   ]
  },
  {
   "cell_type": "code",
   "execution_count": 241,
   "metadata": {},
   "outputs": [],
   "source": [
    "def yokoyamaTest(x):\n",
    "    x = x.copy()\n",
    "    class_names = ['Car', 'Bus']\n",
    "    x.loc[(x['label'] >= 1) & (x['label'] <= 4), 'label'] = 2\n",
    "    x.loc[(x['label'] >= 7) & (x['label'] <= 8), 'label'] = 2\n",
    "    x.loc[x['label'] == 5, 'label'] = 0\n",
    "    x.loc[x['label'] == 6, 'label'] = 1\n",
    "    print(round(f1_score(x[(x['pattern'] == 2) & (x['label'] <= 1)]['yokoyama'], x[(x['pattern'] == 2) & (x['label'] <= 1)]['label'], average='macro'), 3))\n",
    "    plot_confusion_matrix(x[(x['pattern'] == 2) & (x['label'] <= 1)]['yokoyama'], x[(x['pattern'] == 2) & (x['label'] <= 1)]['label'], class_names, True, 24)"
   ]
  },
  {
   "cell_type": "code",
   "execution_count": 242,
   "metadata": {},
   "outputs": [],
   "source": [
    "def kumano2Test(x):\n",
    "    x = x.copy()\n",
    "    class_names = ['Train', 'Subway']\n",
    "    x.loc[(x['label'] >= 1) & (x['label'] <= 4), 'label'] = 2\n",
    "    x.loc[(x['label'] >= 5) & (x['label'] <= 6), 'label'] = 2\n",
    "    x.loc[x['label'] == 7, 'label'] = 0\n",
    "    x.loc[x['label'] == 8, 'label'] = 1\n",
    "    print(round(f1_score(x[(x['pattern'] == 2) & (x['label'] <= 1)]['kumano2'], x[(x['pattern'] == 2) & (x['label'] <= 1)]['label'], average='macro'), 3))\n",
    "    plot_confusion_matrix(x[(x['pattern'] == 2) & (x['label'] <= 1)]['kumano2'], x[(x['pattern'] == 2) & (x['label'] <= 1)]['label'], class_names, True, 24)"
   ]
  },
  {
   "cell_type": "code",
   "execution_count": 227,
   "metadata": {},
   "outputs": [],
   "source": [
    "def kumano1Test(x):\n",
    "    x = x.copy()\n",
    "    class_names = ['Other', 'Run']\n",
    "    x['label2'] = 0\n",
    "    x.loc[x['label'] != 3, 'label2'] = 0\n",
    "    x.loc[x['label'] == 3, 'label2'] = 1\n",
    "    print(round(f1_score(x[(x['pattern'] == 2)]['kumano1'], x[(x['pattern'] == 2)]['label'], average='macro'), 3))\n",
    "    plot_confusion_matrix(x[(x['pattern'] == 2)]['kumano1'], x[(x['pattern'] == 2)]['label'], class_names, False, 16)\n",
    "    print(x[(x['kumano1'] == 1) & (x['label2'] == 0)])"
   ]
  },
  {
   "cell_type": "code",
   "execution_count": 262,
   "metadata": {},
   "outputs": [
    {
     "data": {
      "text/plain": [
       "array([0, 1])"
      ]
     },
     "execution_count": 262,
     "metadata": {},
     "output_type": "execute_result"
    }
   ],
   "source": [
    "pattern2['kumano2'].unique()"
   ]
  },
  {
   "cell_type": "code",
   "execution_count": 205,
   "metadata": {},
   "outputs": [
    {
     "data": {
      "text/html": [
       "<div>\n",
       "<style scoped>\n",
       "    .dataframe tbody tr th:only-of-type {\n",
       "        vertical-align: middle;\n",
       "    }\n",
       "\n",
       "    .dataframe tbody tr th {\n",
       "        vertical-align: top;\n",
       "    }\n",
       "\n",
       "    .dataframe thead th {\n",
       "        text-align: right;\n",
       "    }\n",
       "</style>\n",
       "<table border=\"1\" class=\"dataframe\">\n",
       "  <thead>\n",
       "    <tr style=\"text-align: right;\">\n",
       "      <th></th>\n",
       "      <th>pattern</th>\n",
       "      <th>label</th>\n",
       "      <th>kumano1</th>\n",
       "      <th>sekiguchi</th>\n",
       "      <th>abe</th>\n",
       "    </tr>\n",
       "  </thead>\n",
       "  <tbody>\n",
       "    <tr>\n",
       "      <th>0</th>\n",
       "      <td>2</td>\n",
       "      <td>3</td>\n",
       "      <td>0</td>\n",
       "      <td>0</td>\n",
       "      <td>2</td>\n",
       "    </tr>\n",
       "    <tr>\n",
       "      <th>1</th>\n",
       "      <td>2</td>\n",
       "      <td>3</td>\n",
       "      <td>0</td>\n",
       "      <td>0</td>\n",
       "      <td>2</td>\n",
       "    </tr>\n",
       "    <tr>\n",
       "      <th>2</th>\n",
       "      <td>2</td>\n",
       "      <td>3</td>\n",
       "      <td>1</td>\n",
       "      <td>0</td>\n",
       "      <td>2</td>\n",
       "    </tr>\n",
       "    <tr>\n",
       "      <th>3</th>\n",
       "      <td>2</td>\n",
       "      <td>3</td>\n",
       "      <td>1</td>\n",
       "      <td>0</td>\n",
       "      <td>2</td>\n",
       "    </tr>\n",
       "    <tr>\n",
       "      <th>4</th>\n",
       "      <td>2</td>\n",
       "      <td>3</td>\n",
       "      <td>1</td>\n",
       "      <td>0</td>\n",
       "      <td>2</td>\n",
       "    </tr>\n",
       "    <tr>\n",
       "      <th>...</th>\n",
       "      <td>...</td>\n",
       "      <td>...</td>\n",
       "      <td>...</td>\n",
       "      <td>...</td>\n",
       "      <td>...</td>\n",
       "    </tr>\n",
       "    <tr>\n",
       "      <th>28680</th>\n",
       "      <td>1</td>\n",
       "      <td>2</td>\n",
       "      <td>0</td>\n",
       "      <td>0</td>\n",
       "      <td>1</td>\n",
       "    </tr>\n",
       "    <tr>\n",
       "      <th>28681</th>\n",
       "      <td>1</td>\n",
       "      <td>2</td>\n",
       "      <td>0</td>\n",
       "      <td>0</td>\n",
       "      <td>1</td>\n",
       "    </tr>\n",
       "    <tr>\n",
       "      <th>28682</th>\n",
       "      <td>1</td>\n",
       "      <td>2</td>\n",
       "      <td>0</td>\n",
       "      <td>0</td>\n",
       "      <td>1</td>\n",
       "    </tr>\n",
       "    <tr>\n",
       "      <th>28683</th>\n",
       "      <td>1</td>\n",
       "      <td>2</td>\n",
       "      <td>0</td>\n",
       "      <td>0</td>\n",
       "      <td>1</td>\n",
       "    </tr>\n",
       "    <tr>\n",
       "      <th>28684</th>\n",
       "      <td>1</td>\n",
       "      <td>2</td>\n",
       "      <td>0</td>\n",
       "      <td>0</td>\n",
       "      <td>0</td>\n",
       "    </tr>\n",
       "  </tbody>\n",
       "</table>\n",
       "<p>28685 rows × 5 columns</p>\n",
       "</div>"
      ],
      "text/plain": [
       "       pattern  label  kumano1  sekiguchi  abe\n",
       "0            2      3        0          0    2\n",
       "1            2      3        0          0    2\n",
       "2            2      3        1          0    2\n",
       "3            2      3        1          0    2\n",
       "4            2      3        1          0    2\n",
       "...        ...    ...      ...        ...  ...\n",
       "28680        1      2        0          0    1\n",
       "28681        1      2        0          0    1\n",
       "28682        1      2        0          0    1\n",
       "28683        1      2        0          0    1\n",
       "28684        1      2        0          0    0\n",
       "\n",
       "[28685 rows x 5 columns]"
      ]
     },
     "execution_count": 205,
     "metadata": {},
     "output_type": "execute_result"
    }
   ],
   "source": [
    "pattern2"
   ]
  },
  {
   "cell_type": "code",
   "execution_count": 264,
   "metadata": {},
   "outputs": [
    {
     "name": "stdout",
     "output_type": "stream",
     "text": [
      "0.986\n"
     ]
    },
    {
     "data": {
      "image/png": "[encoded data removed]",
      "text/plain": [
       "<Figure size 576x288 with 2 Axes>"
      ]
     },
     "metadata": {
      "needs_background": "light"
     },
     "output_type": "display_data"
    }
   ],
   "source": [
    "kumano1Test(pattern2)\n",
    "plt.grid(False)"
   ]
  },
  {
   "cell_type": "code",
   "execution_count": 265,
   "metadata": {},
   "outputs": [
    {
     "name": "stdout",
     "output_type": "stream",
     "text": [
      "0.783\n"
     ]
    },
    {
     "data": {
      "image/png": "[encoded data removed]",
      "text/plain": [
       "<Figure size 1152x576 with 2 Axes>"
      ]
     },
     "metadata": {
      "needs_background": "light"
     },
     "output_type": "display_data"
    }
   ],
   "source": [
    "sekiguchiTest(pattern2)\n",
    "plt.grid(False)"
   ]
  },
  {
   "cell_type": "code",
   "execution_count": 266,
   "metadata": {},
   "outputs": [
    {
     "name": "stdout",
     "output_type": "stream",
     "text": [
      "0.793\n"
     ]
    },
    {
     "data": {
      "image/png": "[encoded data removed]",
      "text/plain": [
       "<Figure size 576x288 with 2 Axes>"
      ]
     },
     "metadata": {
      "needs_background": "light"
     },
     "output_type": "display_data"
    }
   ],
   "source": [
    "abeTest(pattern2)\n",
    "plt.grid(False)"
   ]
  },
  {
   "cell_type": "code",
   "execution_count": 275,
   "metadata": {},
   "outputs": [
    {
     "name": "stdout",
     "output_type": "stream",
     "text": [
      "0.642\n"
     ]
    },
    {
     "data": {
      "image/png": "[encoded data removed]",
      "text/plain": [
       "<Figure size 576x288 with 2 Axes>"
      ]
     },
     "metadata": {
      "needs_background": "light"
     },
     "output_type": "display_data"
    }
   ],
   "source": [
    "kumano2Test(pattern2)\n",
    "plt.grid(False)"
   ]
  },
  {
   "cell_type": "markdown",
   "metadata": {},
   "source": [
    "## 総合結果を出力する"
   ]
  },
  {
   "cell_type": "code",
   "execution_count": 195,
   "metadata": {},
   "outputs": [],
   "source": [
    "def cal_result(x):\n",
    "    x = x.copy()\n",
    "    x['result'] = 0\n",
    "    x.loc[x['sekiguchi'] == 2, 'result'] = 2 # 熊野くんの分類で1が出力されればRunで確定\n",
    "    x.loc[(x['kumano1'] == 1) & (x['sekiguchi'] == 0), 'result'] = 1\n",
    "    x.loc[(x['kumano1'] == 0) & (x['sekiguchi'] == 0), 'result'] = 0\n",
    "#     x.loc[(x['kumano1'] == 0) & (x['sekiguchi'] == 1), 'result'] = 1 # 熊野くんの分類で0で関口分類で1ならWalkingで確定\n",
    "#     x.loc[(x['kumano1'] == 0) & (x['sekiguchi'] == 2), 'result'] = 2 # 熊野くんの分類で0で関口分類で2ならRunで確定\n",
    "#     x.loc[(x['kumano1'] == 0) & (x['sekiguchi'] == 3), 'result'] = 3 # 熊野くんの分類で0で関口分類で3ならBikeで確定\n",
    "    \n",
    "    x['label'] = x['label'] - 1\n",
    "    x.loc[(x['label'] >= 4), 'label'] = 0\n",
    "    \n",
    "    \n",
    "    return x"
   ]
  },
  {
   "cell_type": "code",
   "execution_count": 277,
   "metadata": {},
   "outputs": [],
   "source": [
    "def cal_result(x):\n",
    "    x = x.copy()\n",
    "    x['result'] = 0\n",
    "    x.loc[x['kumano1'] == 1, 'result'] = 2 # 熊野くんの分類で1が出力されればRunで確定\n",
    "    x.loc[(x['kumano1'] == 0) & (x['sekiguchi'] == 0), 'result'] = 0\n",
    "    x.loc[(x['kumano1'] == 0) & (x['sekiguchi'] == 1), 'result'] = 1 # 熊野くんの分類で0で関口分類で1ならWalkingで確定\n",
    "    x.loc[(x['kumano1'] == 0) & (x['sekiguchi'] == 2), 'result'] = 2 # 熊野くんの分類で0で関口分類で2ならRunで確定\n",
    "    x.loc[(x['kumano1'] == 0) & (x['sekiguchi'] == 3), 'result'] = 3 # 熊野くんの分類で0で関口分類で3ならBikeで確定\n",
    "    x.loc[(x['kumano1'] == 0) & (x['sekiguchi'] == 0) & (x['abe'] == 0), 'result'] = 0 # 熊野くんの分類で0で関口分類で0→安部くん分類0→Still\n",
    "    x.loc[(x['kumano1'] == 0) & (x['sekiguchi'] == 0) & (x['abe'] == 1), 'result'] = 4 # 熊野くんの分類で0で関口分類で0→安部くん分類0→Still\n",
    "    x.loc[(x['kumano1'] == 0) & (x['sekiguchi'] == 0) & (x['abe'] == 2), 'result'] = 5 # 熊野くんの分類で0で関口分類で0→安部くん分類0→Still\n",
    "    \n",
    "    x['label'] = x['label'] - 1\n",
    "    x.loc[(x['label'] == 5), 'label'] = 4\n",
    "    x.loc[(x['label'] == 6), 'label'] = 5\n",
    "    x.loc[(x['label'] == 7), 'label'] = 5\n",
    "    \n",
    "    \n",
    "    return x"
   ]
  },
  {
   "cell_type": "code",
   "execution_count": 281,
   "metadata": {},
   "outputs": [],
   "source": [
    "def cal_result(x):\n",
    "    x = x.copy()\n",
    "    x['result'] = 0\n",
    "    \n",
    "    x.loc[x['sekiguchi'] == 2, 'result'] = 3\n",
    "    x.loc[(x['sekiguchi'] == 0) & (x['kumano1'] == 1), 'result'] = 3\n",
    "    \n",
    "#     x.loc[x['kumano1'] == 1, 'result'] = 3 # 熊野くんの分類で1が出力されればRunで確定\n",
    "#     x.loc[(x['kumano1'] == 0) & (x['sekiguchi'] == 1), 'result'] = 2 # 熊野くんの分類で0で関口分類で1ならWalkingで確定\n",
    "    x.loc[(x['sekiguchi'] == 1), 'result'] = 2 # 関口分類で1ならWalkingで確定\n",
    "#     x.loc[(x['kumano1'] == 0) & (x['sekiguchi'] == 2), 'result'] = 3 # 熊野くんの分類で0で関口分類で2ならRunで確定\n",
    "    x.loc[(x['sekiguchi'] == 3), 'result'] = 4 # 関口分類で3ならBikeで確定\n",
    "#     x.loc[(x['kumano1'] == 0) & (x['sekiguchi'] == 3), 'result'] = 4 # 熊野くんの分類で0で関口分類で3ならBikeで確定\n",
    "    x.loc[(x['kumano1'] == 0) & (x['sekiguchi'] == 0) & (x['abe'] == 0), 'result'] = 1 # 熊野くんの分類で0で関口分類で0で安部くんの分類で0ならStillで確定\n",
    "    x.loc[(x['kumano1'] == 0) & (x['sekiguchi'] == 0) & (x['abe'] == 1), 'result'] = 5 # 熊野くんの分類で0で関口分類で0で安部くんの分類で1で横山くん分類で0ならCarで確定\n",
    "    x.loc[(x['kumano1'] == 0) & (x['sekiguchi'] == 0) & (x['abe'] == 2) & (x['kumano2'] == 0), 'result'] = 7 # 熊野くんの分類で0で関口分類で0で安部くんの分類で1で熊野くん分類で0ならTrainで確定\n",
    "    x.loc[(x['kumano1'] == 0) & (x['sekiguchi'] == 0) & (x['abe'] == 2) & (x['kumano2'] == 1), 'result'] = 8 # 熊野くんの分類で0で関口分類で0で安部くんの分類で1で熊野くん分類で1ならSubwayで確定\n",
    "    \n",
    "    x.loc[x['label'] == 6, 'label'] = 5\n",
    "    \n",
    "    \n",
    "    return x"
   ]
  },
  {
   "cell_type": "code",
   "execution_count": 282,
   "metadata": {},
   "outputs": [],
   "source": [
    "def result_plot(x):\n",
    "    class_names = ['Still', 'Walking', 'Run', 'Bike', 'Car or Bus', 'Train or Subway']\n",
    "    print(round(f1_score(x[(x['pattern'] == 2)]['result'], x[(x['pattern'] == 2)]['label'], average='macro'), 3))\n",
    "    plot_confusion_matrix(x[(x['pattern'] == 2)]['result'], x[(x['pattern'] == 2)]['label'], class_names, False, 24)"
   ]
  },
  {
   "cell_type": "markdown",
   "metadata": {},
   "source": [
    "# ユーザ1データ5割　＋　ユーザ2データ5割 + ユーザ3データ5割　：　学習させたデータ\n",
    "# ユーザ1データ後\n",
    "3割"
   ]
  },
  {
   "cell_type": "code",
   "execution_count": 283,
   "metadata": {},
   "outputs": [
    {
     "name": "stdout",
     "output_type": "stream",
     "text": [
      "0.673\n"
     ]
    },
    {
     "data": {
      "image/png": "[encoded data removed]",
      "text/plain": [
       "<Figure size 1152x576 with 2 Axes>"
      ]
     },
     "metadata": {
      "needs_background": "light"
     },
     "output_type": "display_data"
    }
   ],
   "source": [
    "pattern2_result = cal_result(pattern2)\n",
    "result_plot(pattern2_result)\n",
    "plt.grid(False)"
   ]
  },
  {
   "cell_type": "code",
   "execution_count": null,
   "metadata": {},
   "outputs": [],
   "source": [
    "def cal_result(x):\n",
    "    x = x.copy()\n",
    "    x['result'] = 0\n",
    "    x.loc[x['kumano1'] == 1, 'result'] = 3 # 熊野くんの分類で1が出力されればRunで確定\n",
    "    x.loc[(x['kumano1'] == 0) & (x['sekiguchi'] == 1), 'result'] = 2 # 熊野くんの分類で0で関口分類で1ならWalkingで確定\n",
    "    x.loc[(x['kumano1'] == 0) & (x['sekiguchi'] == 2), 'result'] = 3 # 熊野くんの分類で0で関口分類で2ならRunで確定\n",
    "    x.loc[(x['kumano1'] == 0) & (x['sekiguchi'] == 3), 'result'] = 4 # 熊野くんの分類で0で関口分類で3ならBikeで確定\n",
    "    x.loc[(x['kumano1'] == 0) & (x['sekiguchi'] == 0) & (x['abe'] == 0), 'result'] = 1 # 熊野くんの分類で0で関口分類で0で安部くんの分類で0ならStillで確定\n",
    "    x.loc[(x['kumano1'] == 0) & (x['sekiguchi'] == 0) & (x['abe'] == 1) & (x['yokoyama'] == 0), 'result'] = 5 # 熊野くんの分類で0で関口分類で0で安部くんの分類で1で横山くん分類で0ならCarで確定\n",
    "    x.loc[(x['kumano1'] == 0) & (x['sekiguchi'] == 0) & (x['abe'] == 1) & (x['yokoyama'] == 1), 'result'] = 6 # 熊野くんの分類で0で関口分類で0で安部くんの分類で1で横山くん分類で1ならBusで確定\n",
    "    x.loc[(x['kumano1'] == 0) & (x['sekiguchi'] == 0) & (x['abe'] == 2) & (x['kumano2'] == 0), 'result'] = 7 # 熊野くんの分類で0で関口分類で0で安部くんの分類で1で熊野くん分類で0ならTrainで確定\n",
    "    x.loc[(x['kumano1'] == 0) & (x['sekiguchi'] == 0) & (x['abe'] == 2) & (x['kumano2'] == 1), 'result'] = 8 # 熊野くんの分類で0で関口分類で0で安部くんの分類で1で熊野くん分類で1ならSubwayで確定\n",
    "    \n",
    "    return x"
   ]
  },
  {
   "cell_type": "code",
   "execution_count": 29,
   "metadata": {},
   "outputs": [],
   "source": [
    "def result_plot(x):\n",
    "    class_names = ['Still', 'Walking', 'Run', 'Bike', 'Car', 'Bus', 'Train', 'Subway']\n",
    "    print(round(f1_score(x['result'], x['label'], average='macro'), 3))\n",
    "    plot_confusion_matrix(x['result'], x['label'], class_names, True, 32)"
   ]
  },
  {
   "cell_type": "code",
   "execution_count": null,
   "metadata": {},
   "outputs": [],
   "source": [
    "pattern2_result = cal_result(pattern2)\n",
    "result_plot(pattern2_result)\n",
    "plt.grid(False)"
   ]
  },
  {
   "cell_type": "code",
   "execution_count": null,
   "metadata": {},
   "outputs": [],
   "source": [
    "pattern2[(pattern2['label'] == 7) & (pattern2['sekiguchi'] == 0) & (pattern2['abe'] == 1)]"
   ]
  },
  {
   "cell_type": "code",
   "execution_count": 78,
   "metadata": {},
   "outputs": [
    {
     "data": {
      "text/html": [
       "<div>\n",
       "<style scoped>\n",
       "    .dataframe tbody tr th:only-of-type {\n",
       "        vertical-align: middle;\n",
       "    }\n",
       "\n",
       "    .dataframe tbody tr th {\n",
       "        vertical-align: top;\n",
       "    }\n",
       "\n",
       "    .dataframe thead th {\n",
       "        text-align: right;\n",
       "    }\n",
       "</style>\n",
       "<table border=\"1\" class=\"dataframe\">\n",
       "  <thead>\n",
       "    <tr style=\"text-align: right;\">\n",
       "      <th></th>\n",
       "      <th>pattern</th>\n",
       "      <th>label</th>\n",
       "      <th>kumano1</th>\n",
       "      <th>sekiguchi</th>\n",
       "      <th>abe</th>\n",
       "    </tr>\n",
       "  </thead>\n",
       "  <tbody>\n",
       "    <tr>\n",
       "      <th>137020</th>\n",
       "      <td>2</td>\n",
       "      <td>1</td>\n",
       "      <td>0</td>\n",
       "      <td>0</td>\n",
       "      <td>2</td>\n",
       "    </tr>\n",
       "    <tr>\n",
       "      <th>137021</th>\n",
       "      <td>2</td>\n",
       "      <td>1</td>\n",
       "      <td>0</td>\n",
       "      <td>0</td>\n",
       "      <td>0</td>\n",
       "    </tr>\n",
       "    <tr>\n",
       "      <th>137022</th>\n",
       "      <td>2</td>\n",
       "      <td>1</td>\n",
       "      <td>0</td>\n",
       "      <td>0</td>\n",
       "      <td>2</td>\n",
       "    </tr>\n",
       "    <tr>\n",
       "      <th>137023</th>\n",
       "      <td>2</td>\n",
       "      <td>1</td>\n",
       "      <td>0</td>\n",
       "      <td>0</td>\n",
       "      <td>2</td>\n",
       "    </tr>\n",
       "    <tr>\n",
       "      <th>137024</th>\n",
       "      <td>2</td>\n",
       "      <td>1</td>\n",
       "      <td>0</td>\n",
       "      <td>0</td>\n",
       "      <td>2</td>\n",
       "    </tr>\n",
       "    <tr>\n",
       "      <th>...</th>\n",
       "      <td>...</td>\n",
       "      <td>...</td>\n",
       "      <td>...</td>\n",
       "      <td>...</td>\n",
       "      <td>...</td>\n",
       "    </tr>\n",
       "    <tr>\n",
       "      <th>194152</th>\n",
       "      <td>2</td>\n",
       "      <td>1</td>\n",
       "      <td>0</td>\n",
       "      <td>0</td>\n",
       "      <td>1</td>\n",
       "    </tr>\n",
       "    <tr>\n",
       "      <th>194153</th>\n",
       "      <td>2</td>\n",
       "      <td>1</td>\n",
       "      <td>0</td>\n",
       "      <td>0</td>\n",
       "      <td>1</td>\n",
       "    </tr>\n",
       "    <tr>\n",
       "      <th>194154</th>\n",
       "      <td>2</td>\n",
       "      <td>1</td>\n",
       "      <td>0</td>\n",
       "      <td>3</td>\n",
       "      <td>2</td>\n",
       "    </tr>\n",
       "    <tr>\n",
       "      <th>194155</th>\n",
       "      <td>2</td>\n",
       "      <td>1</td>\n",
       "      <td>0</td>\n",
       "      <td>3</td>\n",
       "      <td>1</td>\n",
       "    </tr>\n",
       "    <tr>\n",
       "      <th>194156</th>\n",
       "      <td>2</td>\n",
       "      <td>1</td>\n",
       "      <td>0</td>\n",
       "      <td>1</td>\n",
       "      <td>0</td>\n",
       "    </tr>\n",
       "  </tbody>\n",
       "</table>\n",
       "<p>7962 rows × 5 columns</p>\n",
       "</div>"
      ],
      "text/plain": [
       "        pattern  label  kumano1  sekiguchi  abe\n",
       "137020        2      1        0          0    2\n",
       "137021        2      1        0          0    0\n",
       "137022        2      1        0          0    2\n",
       "137023        2      1        0          0    2\n",
       "137024        2      1        0          0    2\n",
       "...         ...    ...      ...        ...  ...\n",
       "194152        2      1        0          0    1\n",
       "194153        2      1        0          0    1\n",
       "194154        2      1        0          3    2\n",
       "194155        2      1        0          3    1\n",
       "194156        2      1        0          1    0\n",
       "\n",
       "[7962 rows x 5 columns]"
      ]
     },
     "execution_count": 78,
     "metadata": {},
     "output_type": "execute_result"
    }
   ],
   "source": [
    "pattern2[(pattern2['label'] == 1) & (pattern2['pattern']==2)]"
   ]
  },
  {
   "cell_type": "code",
   "execution_count": 105,
   "metadata": {},
   "outputs": [
    {
     "data": {
      "text/plain": [
       "(28685, 1)"
      ]
     },
     "execution_count": 105,
     "metadata": {},
     "output_type": "execute_result"
    }
   ],
   "source": [
    "pattern_data = np.load(\"pattern3/validation_pattern3.npy\").reshape([-1, 1])\n",
    "pattern_data.shape"
   ]
  },
  {
   "cell_type": "code",
   "execution_count": 106,
   "metadata": {},
   "outputs": [
    {
     "data": {
      "text/plain": [
       "(28685, 1)"
      ]
     },
     "execution_count": 106,
     "metadata": {},
     "output_type": "execute_result"
    }
   ],
   "source": [
    "label = np.load(\"../../Data/センサ別npyファイル/validation/validation_Bag/validation_Bag_Label.npy\")[:, 0].reshape([-1, 1])\n",
    "label.shape"
   ]
  },
  {
   "cell_type": "code",
   "execution_count": 96,
   "metadata": {},
   "outputs": [
    {
     "data": {
      "text/plain": [
       "(195490, 1)"
      ]
     },
     "execution_count": 96,
     "metadata": {},
     "output_type": "execute_result"
    }
   ],
   "source": [
    "label = np.delete(label, 120845, 0)\n",
    "label.shape"
   ]
  },
  {
   "cell_type": "code",
   "execution_count": 107,
   "metadata": {},
   "outputs": [
    {
     "data": {
      "text/html": [
       "<div>\n",
       "<style scoped>\n",
       "    .dataframe tbody tr th:only-of-type {\n",
       "        vertical-align: middle;\n",
       "    }\n",
       "\n",
       "    .dataframe tbody tr th {\n",
       "        vertical-align: top;\n",
       "    }\n",
       "\n",
       "    .dataframe thead th {\n",
       "        text-align: right;\n",
       "    }\n",
       "</style>\n",
       "<table border=\"1\" class=\"dataframe\">\n",
       "  <thead>\n",
       "    <tr style=\"text-align: right;\">\n",
       "      <th></th>\n",
       "      <th>pattern</th>\n",
       "      <th>label</th>\n",
       "    </tr>\n",
       "  </thead>\n",
       "  <tbody>\n",
       "    <tr>\n",
       "      <th>0</th>\n",
       "      <td>1.0</td>\n",
       "      <td>3.0</td>\n",
       "    </tr>\n",
       "    <tr>\n",
       "      <th>1</th>\n",
       "      <td>1.0</td>\n",
       "      <td>3.0</td>\n",
       "    </tr>\n",
       "    <tr>\n",
       "      <th>2</th>\n",
       "      <td>1.0</td>\n",
       "      <td>3.0</td>\n",
       "    </tr>\n",
       "    <tr>\n",
       "      <th>3</th>\n",
       "      <td>1.0</td>\n",
       "      <td>3.0</td>\n",
       "    </tr>\n",
       "    <tr>\n",
       "      <th>4</th>\n",
       "      <td>1.0</td>\n",
       "      <td>3.0</td>\n",
       "    </tr>\n",
       "    <tr>\n",
       "      <th>...</th>\n",
       "      <td>...</td>\n",
       "      <td>...</td>\n",
       "    </tr>\n",
       "    <tr>\n",
       "      <th>28680</th>\n",
       "      <td>2.0</td>\n",
       "      <td>2.0</td>\n",
       "    </tr>\n",
       "    <tr>\n",
       "      <th>28681</th>\n",
       "      <td>2.0</td>\n",
       "      <td>2.0</td>\n",
       "    </tr>\n",
       "    <tr>\n",
       "      <th>28682</th>\n",
       "      <td>2.0</td>\n",
       "      <td>2.0</td>\n",
       "    </tr>\n",
       "    <tr>\n",
       "      <th>28683</th>\n",
       "      <td>2.0</td>\n",
       "      <td>2.0</td>\n",
       "    </tr>\n",
       "    <tr>\n",
       "      <th>28684</th>\n",
       "      <td>2.0</td>\n",
       "      <td>2.0</td>\n",
       "    </tr>\n",
       "  </tbody>\n",
       "</table>\n",
       "<p>28685 rows × 2 columns</p>\n",
       "</div>"
      ],
      "text/plain": [
       "       pattern  label\n",
       "0          1.0    3.0\n",
       "1          1.0    3.0\n",
       "2          1.0    3.0\n",
       "3          1.0    3.0\n",
       "4          1.0    3.0\n",
       "...        ...    ...\n",
       "28680      2.0    2.0\n",
       "28681      2.0    2.0\n",
       "28682      2.0    2.0\n",
       "28683      2.0    2.0\n",
       "28684      2.0    2.0\n",
       "\n",
       "[28685 rows x 2 columns]"
      ]
     },
     "execution_count": 107,
     "metadata": {},
     "output_type": "execute_result"
    }
   ],
   "source": [
    "a = np.concatenate([pattern_data, label], axis=1)\n",
    "a = pd.DataFrame(a, columns=['pattern', 'label'])\n",
    "a"
   ]
  },
  {
   "cell_type": "code",
   "execution_count": 108,
   "metadata": {},
   "outputs": [
    {
     "data": {
      "text/html": [
       "<div>\n",
       "<style scoped>\n",
       "    .dataframe tbody tr th:only-of-type {\n",
       "        vertical-align: middle;\n",
       "    }\n",
       "\n",
       "    .dataframe tbody tr th {\n",
       "        vertical-align: top;\n",
       "    }\n",
       "\n",
       "    .dataframe thead th {\n",
       "        text-align: right;\n",
       "    }\n",
       "</style>\n",
       "<table border=\"1\" class=\"dataframe\">\n",
       "  <thead>\n",
       "    <tr style=\"text-align: right;\">\n",
       "      <th></th>\n",
       "      <th>pattern</th>\n",
       "      <th>label</th>\n",
       "    </tr>\n",
       "  </thead>\n",
       "  <tbody>\n",
       "    <tr>\n",
       "      <th>0</th>\n",
       "      <td>1.0</td>\n",
       "      <td>3.0</td>\n",
       "    </tr>\n",
       "    <tr>\n",
       "      <th>1</th>\n",
       "      <td>1.0</td>\n",
       "      <td>3.0</td>\n",
       "    </tr>\n",
       "    <tr>\n",
       "      <th>2</th>\n",
       "      <td>1.0</td>\n",
       "      <td>3.0</td>\n",
       "    </tr>\n",
       "    <tr>\n",
       "      <th>3</th>\n",
       "      <td>1.0</td>\n",
       "      <td>3.0</td>\n",
       "    </tr>\n",
       "    <tr>\n",
       "      <th>4</th>\n",
       "      <td>1.0</td>\n",
       "      <td>3.0</td>\n",
       "    </tr>\n",
       "    <tr>\n",
       "      <th>...</th>\n",
       "      <td>...</td>\n",
       "      <td>...</td>\n",
       "    </tr>\n",
       "    <tr>\n",
       "      <th>251</th>\n",
       "      <td>1.0</td>\n",
       "      <td>3.0</td>\n",
       "    </tr>\n",
       "    <tr>\n",
       "      <th>252</th>\n",
       "      <td>1.0</td>\n",
       "      <td>3.0</td>\n",
       "    </tr>\n",
       "    <tr>\n",
       "      <th>253</th>\n",
       "      <td>1.0</td>\n",
       "      <td>3.0</td>\n",
       "    </tr>\n",
       "    <tr>\n",
       "      <th>254</th>\n",
       "      <td>1.0</td>\n",
       "      <td>3.0</td>\n",
       "    </tr>\n",
       "    <tr>\n",
       "      <th>255</th>\n",
       "      <td>1.0</td>\n",
       "      <td>3.0</td>\n",
       "    </tr>\n",
       "  </tbody>\n",
       "</table>\n",
       "<p>180 rows × 2 columns</p>\n",
       "</div>"
      ],
      "text/plain": [
       "     pattern  label\n",
       "0        1.0    3.0\n",
       "1        1.0    3.0\n",
       "2        1.0    3.0\n",
       "3        1.0    3.0\n",
       "4        1.0    3.0\n",
       "..       ...    ...\n",
       "251      1.0    3.0\n",
       "252      1.0    3.0\n",
       "253      1.0    3.0\n",
       "254      1.0    3.0\n",
       "255      1.0    3.0\n",
       "\n",
       "[180 rows x 2 columns]"
      ]
     },
     "execution_count": 108,
     "metadata": {},
     "output_type": "execute_result"
    }
   ],
   "source": [
    "a[(a['pattern'] == 1) & (a['label'] == 3)]"
   ]
  },
  {
   "cell_type": "code",
   "execution_count": 163,
   "metadata": {},
   "outputs": [
    {
     "data": {
      "text/plain": [
       "array([2, 1, 0, 3])"
      ]
     },
     "execution_count": 163,
     "metadata": {},
     "output_type": "execute_result"
    }
   ],
   "source": [
    "pattern2['sekiguchi'].unique()"
   ]
  },
  {
   "cell_type": "code",
   "execution_count": 171,
   "metadata": {},
   "outputs": [
    {
     "data": {
      "text/html": [
       "<div>\n",
       "<style scoped>\n",
       "    .dataframe tbody tr th:only-of-type {\n",
       "        vertical-align: middle;\n",
       "    }\n",
       "\n",
       "    .dataframe tbody tr th {\n",
       "        vertical-align: top;\n",
       "    }\n",
       "\n",
       "    .dataframe thead th {\n",
       "        text-align: right;\n",
       "    }\n",
       "</style>\n",
       "<table border=\"1\" class=\"dataframe\">\n",
       "  <thead>\n",
       "    <tr style=\"text-align: right;\">\n",
       "      <th></th>\n",
       "      <th>pattern</th>\n",
       "      <th>label</th>\n",
       "      <th>kumano1</th>\n",
       "      <th>sekiguchi</th>\n",
       "      <th>abe</th>\n",
       "    </tr>\n",
       "  </thead>\n",
       "  <tbody>\n",
       "    <tr>\n",
       "      <th>26163</th>\n",
       "      <td>2</td>\n",
       "      <td>4</td>\n",
       "      <td>0</td>\n",
       "      <td>0</td>\n",
       "      <td>2</td>\n",
       "    </tr>\n",
       "    <tr>\n",
       "      <th>26164</th>\n",
       "      <td>2</td>\n",
       "      <td>4</td>\n",
       "      <td>0</td>\n",
       "      <td>1</td>\n",
       "      <td>1</td>\n",
       "    </tr>\n",
       "    <tr>\n",
       "      <th>26165</th>\n",
       "      <td>2</td>\n",
       "      <td>4</td>\n",
       "      <td>0</td>\n",
       "      <td>3</td>\n",
       "      <td>1</td>\n",
       "    </tr>\n",
       "    <tr>\n",
       "      <th>26166</th>\n",
       "      <td>2</td>\n",
       "      <td>4</td>\n",
       "      <td>0</td>\n",
       "      <td>3</td>\n",
       "      <td>1</td>\n",
       "    </tr>\n",
       "    <tr>\n",
       "      <th>26167</th>\n",
       "      <td>2</td>\n",
       "      <td>4</td>\n",
       "      <td>0</td>\n",
       "      <td>3</td>\n",
       "      <td>1</td>\n",
       "    </tr>\n",
       "    <tr>\n",
       "      <th>...</th>\n",
       "      <td>...</td>\n",
       "      <td>...</td>\n",
       "      <td>...</td>\n",
       "      <td>...</td>\n",
       "      <td>...</td>\n",
       "    </tr>\n",
       "    <tr>\n",
       "      <th>27655</th>\n",
       "      <td>2</td>\n",
       "      <td>4</td>\n",
       "      <td>0</td>\n",
       "      <td>1</td>\n",
       "      <td>1</td>\n",
       "    </tr>\n",
       "    <tr>\n",
       "      <th>27656</th>\n",
       "      <td>2</td>\n",
       "      <td>4</td>\n",
       "      <td>0</td>\n",
       "      <td>0</td>\n",
       "      <td>1</td>\n",
       "    </tr>\n",
       "    <tr>\n",
       "      <th>27657</th>\n",
       "      <td>2</td>\n",
       "      <td>4</td>\n",
       "      <td>0</td>\n",
       "      <td>0</td>\n",
       "      <td>2</td>\n",
       "    </tr>\n",
       "    <tr>\n",
       "      <th>27658</th>\n",
       "      <td>2</td>\n",
       "      <td>4</td>\n",
       "      <td>0</td>\n",
       "      <td>0</td>\n",
       "      <td>2</td>\n",
       "    </tr>\n",
       "    <tr>\n",
       "      <th>27659</th>\n",
       "      <td>2</td>\n",
       "      <td>4</td>\n",
       "      <td>0</td>\n",
       "      <td>0</td>\n",
       "      <td>1</td>\n",
       "    </tr>\n",
       "  </tbody>\n",
       "</table>\n",
       "<p>766 rows × 5 columns</p>\n",
       "</div>"
      ],
      "text/plain": [
       "       pattern  label  kumano1  sekiguchi  abe\n",
       "26163        2      4        0          0    2\n",
       "26164        2      4        0          1    1\n",
       "26165        2      4        0          3    1\n",
       "26166        2      4        0          3    1\n",
       "26167        2      4        0          3    1\n",
       "...        ...    ...      ...        ...  ...\n",
       "27655        2      4        0          1    1\n",
       "27656        2      4        0          0    1\n",
       "27657        2      4        0          0    2\n",
       "27658        2      4        0          0    2\n",
       "27659        2      4        0          0    1\n",
       "\n",
       "[766 rows x 5 columns]"
      ]
     },
     "execution_count": 171,
     "metadata": {},
     "output_type": "execute_result"
    }
   ],
   "source": [
    "pattern2[(pattern2['pattern'] == 2) & (pattern2['label'] == 4)]"
   ]
  },
  {
   "cell_type": "code",
   "execution_count": null,
   "metadata": {},
   "outputs": [],
   "source": []
  }
 ],
 "metadata": {
  "kernelspec": {
   "display_name": "Python 3",
   "language": "python",
   "name": "python3"
  },
  "language_info": {
   "codemirror_mode": {
    "name": "ipython",
    "version": 3
   },
   "file_extension": ".py",
   "mimetype": "text/x-python",
   "name": "python",
   "nbconvert_exporter": "python",
   "pygments_lexer": "ipython3",
   "version": "3.7.6"
  }
 },
 "nbformat": 4,
 "nbformat_minor": 4
}

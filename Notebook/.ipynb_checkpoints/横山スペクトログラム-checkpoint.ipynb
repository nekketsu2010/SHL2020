{
 "cells": [
  {
   "cell_type": "code",
   "execution_count": 1,
   "metadata": {},
   "outputs": [
    {
     "data": {
      "text/html": [
       "<style>.container { width:90% !important; }</style>"
      ],
      "text/plain": [
       "<IPython.core.display.HTML object>"
      ]
     },
     "metadata": {},
     "output_type": "display_data"
    }
   ],
   "source": [
    "import numpy as np\n",
    "import os\n",
    "import random\n",
    "import scipy\n",
    "from scipy import signal\n",
    "from numpy.fft import fft\n",
    "from sklearn.metrics import confusion_matrix\n",
    "from sklearn.metrics import f1_score\n",
    "\n",
    "import tensorflow as tf\n",
    "from tensorflow.keras import layers, models\n",
    "from tensorflow.keras.initializers import he_normal\n",
    "from tensorflow.python.keras.utils.vis_utils import plot_model\n",
    "\n",
    "from sklearn.model_selection import train_test_split\n",
    "\n",
    "import pandas as pd\n",
    "import pickle\n",
    "from tqdm import tqdm\n",
    "\n",
    "import seaborn as sns\n",
    "sns.set(font='Yu Gothic')\n",
    "import matplotlib.pyplot as plt\n",
    "%matplotlib inline\n",
    "import gc\n",
    "\n",
    "\n",
    "from IPython.core.display import display, HTML\n",
    "display(HTML(\"<style>.container { width:90% !important; }</style>\"))"
   ]
  },
  {
   "cell_type": "code",
   "execution_count": 2,
   "metadata": {},
   "outputs": [],
   "source": [
    "file_path = \"../Data/センサ別npyファイル\""
   ]
  },
  {
   "cell_type": "code",
   "execution_count": 3,
   "metadata": {},
   "outputs": [],
   "source": [
    "def norm(x):\n",
    "    x = np.sqrt(np.square(x[:, :, 0]) + np.square(x[:, :, 1]) + np.square(x[:, :, 2]))\n",
    "    return x.reshape([-1, 500])\n",
    "def spectrogtam(x):\n",
    "    nfft = 64\n",
    "    overlap = nfft - 1\n",
    "    \n",
    "    x = scipy.signal.spectrogram(x, fs=100, nfft=nfft, noverlap=overlap, nperseg=nfft)[2]\n",
    "    x = (x - x.mean(axis=1, keepdims=True)) / x.std(axis=1, keepdims=True)\n",
    "    return x"
   ]
  },
  {
   "cell_type": "code",
   "execution_count": 5,
   "metadata": {
    "scrolled": true
   },
   "outputs": [
    {
     "data": {
      "text/plain": [
       "(195491,)"
      ]
     },
     "execution_count": 5,
     "metadata": {},
     "output_type": "execute_result"
    }
   ],
   "source": [
    "train_label = np.load(file_path + \"/train/train_Hips/train_Hips_Label.npy\")[:, 0].reshape([-1])\n",
    "train_label.shape"
   ]
  },
  {
   "cell_type": "code",
   "execution_count": 4,
   "metadata": {},
   "outputs": [
    {
     "data": {
      "text/plain": [
       "8"
      ]
     },
     "execution_count": 4,
     "metadata": {},
     "output_type": "execute_result"
    }
   ],
   "source": [
    "def load_npy(sensor=\"Acc\", kind=\"train\"):\n",
    "    x = np.load(file_path + \"/\" + kind + \"/\" + kind + \"_Hips/\" + kind + \"_Hips_Glo_\" + sensor + \"_ver3.npy\")\n",
    "    x = norm(x)\n",
    "    x = np.apply_along_axis(spectrogtam, 1, x)\n",
    "    return x\n",
    "\n",
    "train_Hips_Acc = load_npy(\"Acc\", \"train\")\n",
    "train_Hips_Acc = train_Hips_Acc.reshape([-1, 1, train_Hips_Acc.shape[1], train_Hips_Acc.shape[2], 1])\n",
    "np.save(\"save/train_Hips_Acc\",train_Hips_Acc)\n",
    "del train_Hips_Acc\n",
    "gc.collect()\n",
    "\n",
    "train_Hips_Mag = load_npy(\"Mag\", \"train\")\n",
    "train_Hips_Mag = train_Hips_Mag.reshape([-1, 1, train_Hips_Mag.shape[1], train_Hips_Mag.shape[2], 1])\n",
    "np.save(\"save/train_Hips_Mag\",train_Hips_Mag)\n",
    "del train_Hips_Mag\n",
    "gc.collect()\n",
    "\n",
    "train_Hips_Gyr = load_npy(\"Gyr\", \"train\")\n",
    "train_Hips_Gyr = train_Hips_Gyr.reshape([-1, 1, train_Hips_Gyr.shape[1], train_Hips_Gyr.shape[2], 1])\n",
    "np.save(\"save/train_Hips_Gyr\",train_Hips_Gyr)\n",
    "del train_Hips_Gyr\n",
    "gc.collect()"
   ]
  },
  {
   "cell_type": "code",
   "execution_count": 6,
   "metadata": {},
   "outputs": [
    {
     "data": {
      "text/plain": [
       "(195491, 3, 41, 43, 1)"
      ]
     },
     "execution_count": 6,
     "metadata": {},
     "output_type": "execute_result"
    }
   ],
   "source": [
    "X_train = np.concatenate([train_Hips_Acc, train_Hips_Mag, train_Hips_Gyr], axis=1)\n",
    "X_train.shape"
   ]
  },
  {
   "cell_type": "code",
   "execution_count": 7,
   "metadata": {},
   "outputs": [
    {
     "data": {
      "text/plain": [
       "(28685,)"
      ]
     },
     "execution_count": 7,
     "metadata": {},
     "output_type": "execute_result"
    }
   ],
   "source": [
    "pattern_file = np.load(\"bunseki/validation_pattern2.npy\").reshape([-1]) #パターンファイルのパス入れてくれ\n",
    "pattern_file.shape"
   ]
  },
  {
   "cell_type": "code",
   "execution_count": 8,
   "metadata": {},
   "outputs": [
    {
     "data": {
      "text/plain": [
       "(28685,)"
      ]
     },
     "execution_count": 8,
     "metadata": {},
     "output_type": "execute_result"
    }
   ],
   "source": [
    "val_label = np.load(file_path + \"/validation/validation_Hips/validation_Hips_Label.npy\")[:, 0].reshape([-1])\n",
    "val_label.shape"
   ]
  },
  {
   "cell_type": "code",
   "execution_count": 9,
   "metadata": {},
   "outputs": [
    {
     "name": "stderr",
     "output_type": "stream",
     "text": [
      "C:\\Users\\BSA\\anaconda3\\envs\\PBS\\lib\\site-packages\\ipykernel_launcher.py:9: RuntimeWarning: invalid value encountered in true_divide\n",
      "  if __name__ == '__main__':\n"
     ]
    },
    {
     "data": {
      "text/plain": [
       "((28685, 1, 41, 43, 1), (28685, 1, 41, 43, 1), (28685, 1, 41, 43, 1))"
      ]
     },
     "execution_count": 9,
     "metadata": {},
     "output_type": "execute_result"
    }
   ],
   "source": [
    "vaildation_Hips_Acc = load_npy(\"Acc\", \"validation\")\n",
    "vaildation_Hips_Acc = vaildation_Hips_Acc.reshape([-1, 1, vaildation_Hips_Acc.shape[1], vaildation_Hips_Acc.shape[2], 1])\n",
    "vaildation_Hips_Mag = load_npy(\"Mag\", \"validation\")\n",
    "vaildation_Hips_Mag = vaildation_Hips_Mag.reshape([-1, 1, vaildation_Hips_Mag.shape[1], vaildation_Hips_Mag.shape[2], 1])\n",
    "vaildation_Hips_Gyr = load_npy(\"Gyr\", \"validation\")\n",
    "vaildation_Hips_Gyr = vaildation_Hips_Gyr.reshape([-1, 1, vaildation_Hips_Gyr.shape[1], vaildation_Hips_Gyr.shape[2], 1])\n",
    "vaildation_Hips_Acc.shape,vaildation_Hips_Acc.shape,vaildation_Hips_Gyr.shape"
   ]
  },
  {
   "cell_type": "code",
   "execution_count": 10,
   "metadata": {},
   "outputs": [
    {
     "data": {
      "text/plain": [
       "(28685, 3, 41, 43, 1)"
      ]
     },
     "execution_count": 10,
     "metadata": {},
     "output_type": "execute_result"
    }
   ],
   "source": [
    "X_val = np.concatenate([vaildation_Hips_Acc ,vaildation_Hips_Mag ,vaildation_Hips_Gyr], axis=1)\n",
    "X_val.shape"
   ]
  },
  {
   "cell_type": "markdown",
   "metadata": {},
   "source": [
    "# 前処理"
   ]
  },
  {
   "cell_type": "code",
   "execution_count": 11,
   "metadata": {},
   "outputs": [
    {
     "data": {
      "text/plain": [
       "((195491, 3, 41, 43, 1), (28685, 3, 41, 43, 1))"
      ]
     },
     "execution_count": 11,
     "metadata": {},
     "output_type": "execute_result"
    }
   ],
   "source": [
    "X_train = np.round(X_train, 5)\n",
    "X_val = np.round(X_val, 5)\n",
    "\n",
    "X_train.shape, X_val.shape"
   ]
  },
  {
   "cell_type": "markdown",
   "metadata": {},
   "source": [
    "# validationデータをパターンで分ける処理"
   ]
  },
  {
   "cell_type": "code",
   "execution_count": 12,
   "metadata": {},
   "outputs": [
    {
     "data": {
      "text/plain": [
       "((5696, 3, 41, 43, 1), (14338, 3, 41, 43, 1), (8651, 3, 41, 43, 1))"
      ]
     },
     "execution_count": 12,
     "metadata": {},
     "output_type": "execute_result"
    }
   ],
   "source": [
    "X_val_pattern0 = X_val[pattern_file == 0]\n",
    "X_val_pattern1 = X_val[pattern_file == 1]\n",
    "X_val_pattern2 = X_val[pattern_file == 2]\n",
    "\n",
    "X_val_pattern0.shape, X_val_pattern1.shape, X_val_pattern2.shape"
   ]
  },
  {
   "cell_type": "code",
   "execution_count": 13,
   "metadata": {},
   "outputs": [
    {
     "data": {
      "text/plain": [
       "(195490, 3, 41, 43, 1)"
      ]
     },
     "execution_count": 13,
     "metadata": {},
     "output_type": "execute_result"
    }
   ],
   "source": [
    "X_train = np.delete(X_train, 120845, axis=0)\n",
    "train_label = np.delete(train_label, 120845, axis=0)\n",
    "train_label -= 1\n",
    "X_train.shape"
   ]
  },
  {
   "cell_type": "code",
   "execution_count": 14,
   "metadata": {},
   "outputs": [
    {
     "data": {
      "text/plain": [
       "(array([0., 1., 2., 3., 4., 5., 6., 7.]), (195490, 3, 41, 43, 1), (195490,))"
      ]
     },
     "execution_count": 14,
     "metadata": {},
     "output_type": "execute_result"
    }
   ],
   "source": [
    "np.unique(train_label), X_train.shape, train_label.shape"
   ]
  },
  {
   "cell_type": "markdown",
   "metadata": {},
   "source": [
    "# データを7:3にするパターン"
   ]
  },
  {
   "cell_type": "code",
   "execution_count": 15,
   "metadata": {},
   "outputs": [],
   "source": [
    "def separateData(x, y):\n",
    "    pattern = np.zeros(x.shape[0])\n",
    "    for i in range(8):\n",
    "        tmp = np.where(y == i)[0]\n",
    "        pattern[tmp[tmp.shape[0]//10*7:]] = 1\n",
    "        print(tmp)\n",
    "        \n",
    "    x_train = x[pattern == 0]\n",
    "    x_test = x[pattern == 1]\n",
    "    y_train = y[pattern == 0]\n",
    "    y_test = y[pattern == 1]\n",
    "    return x_train, x_test, y_train, y_test\n"
   ]
  },
  {
   "cell_type": "code",
   "execution_count": 16,
   "metadata": {},
   "outputs": [
    {
     "name": "stdout",
     "output_type": "stream",
     "text": [
      "[  1579   1580   1581 ... 194154 194155 194156]\n",
      "[  1529   1530   1531 ... 194654 194655 194656]\n",
      "[  9374   9375   9376 ... 192718 192719 192720]\n",
      "[     0      1      2 ... 191309 191310 191311]\n",
      "[ 30446  30447  30448 ... 195487 195488 195489]\n",
      "[  9998   9999  10000 ... 187693 187694 187695]\n",
      "[    96     97     98 ... 184260 184261 184262]\n",
      "[  1797   1798   1799 ... 183044 183045 183046]\n"
     ]
    },
    {
     "data": {
      "text/plain": [
       "((136815, 3, 41, 43, 1), (58675, 3, 41, 43, 1))"
      ]
     },
     "execution_count": 16,
     "metadata": {},
     "output_type": "execute_result"
    }
   ],
   "source": [
    "x_train, x_val, y_train, y_val = separateData(X_train, train_label)\n",
    "x_train.shape, x_val.shape"
   ]
  },
  {
   "cell_type": "code",
   "execution_count": 17,
   "metadata": {},
   "outputs": [
    {
     "data": {
      "text/plain": [
       "(array([0., 1., 2., 3., 4., 5., 6., 7.]),\n",
       " array([0., 1., 2., 3., 4., 5., 6., 7.]))"
      ]
     },
     "execution_count": 17,
     "metadata": {},
     "output_type": "execute_result"
    }
   ],
   "source": [
    "np.unique(y_train), np.unique(y_val)"
   ]
  },
  {
   "cell_type": "markdown",
   "metadata": {},
   "source": [
    "# 学習"
   ]
  },
  {
   "cell_type": "code",
   "execution_count": 18,
   "metadata": {},
   "outputs": [],
   "source": [
    "def BuildModel(input_shape):\n",
    "    input1 = layers.Input(shape=input_shape)\n",
    "    x = layers.Conv2D(64, (3, 3), padding='valid', activation='relu', kernel_initializer=he_normal())(input1)\n",
    "    x = layers.Conv2D(32, (3, 3), padding='same', activation='relu')(x)\n",
    "    x = layers.MaxPooling2D((2, 2))(x)\n",
    "    x = layers.BatchNormalization()(x)\n",
    "    x = layers.Conv2D(64, (3, 3), padding='same', activation='relu')(x)\n",
    "    x = layers.Conv2D(32, (3, 3), padding='same', activation='relu')(x)\n",
    "    x = layers.MaxPooling2D((2, 2))(x)\n",
    "    x = layers.Dropout(0.2)(x)\n",
    "    x = layers.Conv2D(64, (3, 3), padding='same', activation='relu')(x)\n",
    "    x = layers.Conv2D(32, (3, 3), padding='same', activation='relu')(x)\n",
    "    x = layers.MaxPooling2D((2, 2))(x)\n",
    "    x = layers.BatchNormalization()(x)\n",
    "    x = layers.Flatten()(x)\n",
    "    x = layers.Dense(128, activation='relu')(x)\n",
    "    x = layers.Dense(64, activation='relu')(x)\n",
    "    x = layers.BatchNormalization()(x)\n",
    "    x = layers.Dense(16, activation='relu')(x)\n",
    "    x = models.Model(inputs=input1, outputs=x)\n",
    "    return x"
   ]
  },
  {
   "cell_type": "code",
   "execution_count": 19,
   "metadata": {},
   "outputs": [
    {
     "name": "stdout",
     "output_type": "stream",
     "text": [
      "Model: \"model_3\"\n",
      "__________________________________________________________________________________________________\n",
      "Layer (type)                    Output Shape         Param #     Connected to                     \n",
      "==================================================================================================\n",
      "input_1 (InputLayer)            [(None, 41, 43, 1)]  0                                            \n",
      "__________________________________________________________________________________________________\n",
      "input_2 (InputLayer)            [(None, 41, 43, 1)]  0                                            \n",
      "__________________________________________________________________________________________________\n",
      "input_3 (InputLayer)            [(None, 41, 43, 1)]  0                                            \n",
      "__________________________________________________________________________________________________\n",
      "conv2d (Conv2D)                 (None, 39, 41, 64)   640         input_1[0][0]                    \n",
      "__________________________________________________________________________________________________\n",
      "conv2d_6 (Conv2D)               (None, 39, 41, 64)   640         input_2[0][0]                    \n",
      "__________________________________________________________________________________________________\n",
      "conv2d_12 (Conv2D)              (None, 39, 41, 64)   640         input_3[0][0]                    \n",
      "__________________________________________________________________________________________________\n",
      "conv2d_1 (Conv2D)               (None, 39, 41, 32)   18464       conv2d[0][0]                     \n",
      "__________________________________________________________________________________________________\n",
      "conv2d_7 (Conv2D)               (None, 39, 41, 32)   18464       conv2d_6[0][0]                   \n",
      "__________________________________________________________________________________________________\n",
      "conv2d_13 (Conv2D)              (None, 39, 41, 32)   18464       conv2d_12[0][0]                  \n",
      "__________________________________________________________________________________________________\n",
      "max_pooling2d (MaxPooling2D)    (None, 19, 20, 32)   0           conv2d_1[0][0]                   \n",
      "__________________________________________________________________________________________________\n",
      "max_pooling2d_3 (MaxPooling2D)  (None, 19, 20, 32)   0           conv2d_7[0][0]                   \n",
      "__________________________________________________________________________________________________\n",
      "max_pooling2d_6 (MaxPooling2D)  (None, 19, 20, 32)   0           conv2d_13[0][0]                  \n",
      "__________________________________________________________________________________________________\n",
      "batch_normalization (BatchNorma (None, 19, 20, 32)   128         max_pooling2d[0][0]              \n",
      "__________________________________________________________________________________________________\n",
      "batch_normalization_3 (BatchNor (None, 19, 20, 32)   128         max_pooling2d_3[0][0]            \n",
      "__________________________________________________________________________________________________\n",
      "batch_normalization_6 (BatchNor (None, 19, 20, 32)   128         max_pooling2d_6[0][0]            \n",
      "__________________________________________________________________________________________________\n",
      "conv2d_2 (Conv2D)               (None, 19, 20, 64)   18496       batch_normalization[0][0]        \n",
      "__________________________________________________________________________________________________\n",
      "conv2d_8 (Conv2D)               (None, 19, 20, 64)   18496       batch_normalization_3[0][0]      \n",
      "__________________________________________________________________________________________________\n",
      "conv2d_14 (Conv2D)              (None, 19, 20, 64)   18496       batch_normalization_6[0][0]      \n",
      "__________________________________________________________________________________________________\n",
      "conv2d_3 (Conv2D)               (None, 19, 20, 32)   18464       conv2d_2[0][0]                   \n",
      "__________________________________________________________________________________________________\n",
      "conv2d_9 (Conv2D)               (None, 19, 20, 32)   18464       conv2d_8[0][0]                   \n",
      "__________________________________________________________________________________________________\n",
      "conv2d_15 (Conv2D)              (None, 19, 20, 32)   18464       conv2d_14[0][0]                  \n",
      "__________________________________________________________________________________________________\n",
      "max_pooling2d_1 (MaxPooling2D)  (None, 9, 10, 32)    0           conv2d_3[0][0]                   \n",
      "__________________________________________________________________________________________________\n",
      "max_pooling2d_4 (MaxPooling2D)  (None, 9, 10, 32)    0           conv2d_9[0][0]                   \n",
      "__________________________________________________________________________________________________\n",
      "max_pooling2d_7 (MaxPooling2D)  (None, 9, 10, 32)    0           conv2d_15[0][0]                  \n",
      "__________________________________________________________________________________________________\n",
      "dropout (Dropout)               (None, 9, 10, 32)    0           max_pooling2d_1[0][0]            \n",
      "__________________________________________________________________________________________________\n",
      "dropout_1 (Dropout)             (None, 9, 10, 32)    0           max_pooling2d_4[0][0]            \n",
      "__________________________________________________________________________________________________\n",
      "dropout_2 (Dropout)             (None, 9, 10, 32)    0           max_pooling2d_7[0][0]            \n",
      "__________________________________________________________________________________________________\n",
      "conv2d_4 (Conv2D)               (None, 9, 10, 64)    18496       dropout[0][0]                    \n",
      "__________________________________________________________________________________________________\n",
      "conv2d_10 (Conv2D)              (None, 9, 10, 64)    18496       dropout_1[0][0]                  \n",
      "__________________________________________________________________________________________________\n",
      "conv2d_16 (Conv2D)              (None, 9, 10, 64)    18496       dropout_2[0][0]                  \n",
      "__________________________________________________________________________________________________\n",
      "conv2d_5 (Conv2D)               (None, 9, 10, 32)    18464       conv2d_4[0][0]                   \n",
      "__________________________________________________________________________________________________\n",
      "conv2d_11 (Conv2D)              (None, 9, 10, 32)    18464       conv2d_10[0][0]                  \n",
      "__________________________________________________________________________________________________\n",
      "conv2d_17 (Conv2D)              (None, 9, 10, 32)    18464       conv2d_16[0][0]                  \n",
      "__________________________________________________________________________________________________\n",
      "max_pooling2d_2 (MaxPooling2D)  (None, 4, 5, 32)     0           conv2d_5[0][0]                   \n",
      "__________________________________________________________________________________________________\n",
      "max_pooling2d_5 (MaxPooling2D)  (None, 4, 5, 32)     0           conv2d_11[0][0]                  \n",
      "__________________________________________________________________________________________________\n",
      "max_pooling2d_8 (MaxPooling2D)  (None, 4, 5, 32)     0           conv2d_17[0][0]                  \n",
      "__________________________________________________________________________________________________\n",
      "batch_normalization_1 (BatchNor (None, 4, 5, 32)     128         max_pooling2d_2[0][0]            \n",
      "__________________________________________________________________________________________________\n",
      "batch_normalization_4 (BatchNor (None, 4, 5, 32)     128         max_pooling2d_5[0][0]            \n",
      "__________________________________________________________________________________________________\n",
      "batch_normalization_7 (BatchNor (None, 4, 5, 32)     128         max_pooling2d_8[0][0]            \n",
      "__________________________________________________________________________________________________\n",
      "flatten (Flatten)               (None, 640)          0           batch_normalization_1[0][0]      \n",
      "__________________________________________________________________________________________________\n",
      "flatten_1 (Flatten)             (None, 640)          0           batch_normalization_4[0][0]      \n",
      "__________________________________________________________________________________________________\n",
      "flatten_2 (Flatten)             (None, 640)          0           batch_normalization_7[0][0]      \n",
      "__________________________________________________________________________________________________\n",
      "dense (Dense)                   (None, 128)          82048       flatten[0][0]                    \n",
      "__________________________________________________________________________________________________\n",
      "dense_3 (Dense)                 (None, 128)          82048       flatten_1[0][0]                  \n",
      "__________________________________________________________________________________________________\n",
      "dense_6 (Dense)                 (None, 128)          82048       flatten_2[0][0]                  \n",
      "__________________________________________________________________________________________________\n",
      "dense_1 (Dense)                 (None, 64)           8256        dense[0][0]                      \n",
      "__________________________________________________________________________________________________\n",
      "dense_4 (Dense)                 (None, 64)           8256        dense_3[0][0]                    \n",
      "__________________________________________________________________________________________________\n",
      "dense_7 (Dense)                 (None, 64)           8256        dense_6[0][0]                    \n",
      "__________________________________________________________________________________________________\n",
      "batch_normalization_2 (BatchNor (None, 64)           256         dense_1[0][0]                    \n",
      "__________________________________________________________________________________________________\n",
      "batch_normalization_5 (BatchNor (None, 64)           256         dense_4[0][0]                    \n",
      "__________________________________________________________________________________________________\n",
      "batch_normalization_8 (BatchNor (None, 64)           256         dense_7[0][0]                    \n",
      "__________________________________________________________________________________________________\n",
      "dense_2 (Dense)                 (None, 16)           1040        batch_normalization_2[0][0]      \n",
      "__________________________________________________________________________________________________\n",
      "dense_5 (Dense)                 (None, 16)           1040        batch_normalization_5[0][0]      \n",
      "__________________________________________________________________________________________________\n",
      "dense_8 (Dense)                 (None, 16)           1040        batch_normalization_8[0][0]      \n",
      "__________________________________________________________________________________________________\n",
      "concatenate (Concatenate)       (None, 48)           0           dense_2[0][0]                    \n",
      "                                                                 dense_5[0][0]                    \n",
      "                                                                 dense_8[0][0]                    \n",
      "__________________________________________________________________________________________________\n",
      "dense_9 (Dense)                 (None, 64)           3136        concatenate[0][0]                \n",
      "__________________________________________________________________________________________________\n",
      "dense_10 (Dense)                (None, 16)           1040        dense_9[0][0]                    \n",
      "__________________________________________________________________________________________________\n",
      "dense_11 (Dense)                (None, 8)            136         dense_10[0][0]                   \n",
      "==================================================================================================\n",
      "Total params: 558,952\n",
      "Trainable params: 558,184\n",
      "Non-trainable params: 768\n",
      "__________________________________________________________________________________________________\n"
     ]
    }
   ],
   "source": [
    "x1 = BuildModel(x_train[0, 0].shape)\n",
    "x2 = BuildModel(x_train[0, 1].shape)\n",
    "x3 = BuildModel(x_train[0, 2].shape)\n",
    "\n",
    "combined = layers.concatenate([x1.output, x2.output, x3.output])\n",
    "\n",
    "z = layers.Dense(64, activation='relu')(combined)\n",
    "z = layers.Dense(16, activation='relu')(z)\n",
    "z = layers.Dense(8, activation='softmax')(z)\n",
    "\n",
    "model = models.Model(inputs=[x1.input, x2.input, x3.input], outputs=z)\n",
    "model.compile(optimizer=tf.keras.optimizers.Adam(0.01),\n",
    "              loss='sparse_categorical_crossentropy',\n",
    "              metrics=['accuracy'])\n",
    "model.summary()"
   ]
  },
  {
   "cell_type": "code",
   "execution_count": 20,
   "metadata": {},
   "outputs": [
    {
     "name": "stdout",
     "output_type": "stream",
     "text": [
      "Train on 136815 samples, validate on 58675 samples\n",
      "Epoch 1/256\n",
      "136815/136815 [==============================] - 71s 518us/sample - loss: 1.0064 - accuracy: 0.6162 - val_loss: 2.1917 - val_accuracy: 0.4066\n",
      "Epoch 2/256\n",
      "136815/136815 [==============================] - 46s 334us/sample - loss: 0.7048 - accuracy: 0.7408 - val_loss: 1.2652 - val_accuracy: 0.5953\n",
      "Epoch 3/256\n",
      "136815/136815 [==============================] - 49s 357us/sample - loss: 0.6096 - accuracy: 0.7775 - val_loss: 0.9553 - val_accuracy: 0.6696\n",
      "Epoch 4/256\n",
      "136815/136815 [==============================] - 48s 348us/sample - loss: 0.5531 - accuracy: 0.8000 - val_loss: 0.9766 - val_accuracy: 0.6726\n",
      "Epoch 5/256\n",
      "136815/136815 [==============================] - 48s 347us/sample - loss: 0.5110 - accuracy: 0.8153 - val_loss: 0.9022 - val_accuracy: 0.6897\n",
      "Epoch 6/256\n",
      "136815/136815 [==============================] - 48s 353us/sample - loss: 0.4838 - accuracy: 0.8259 - val_loss: 0.9198 - val_accuracy: 0.6834\n",
      "Epoch 7/256\n",
      "136815/136815 [==============================] - 48s 349us/sample - loss: 0.4599 - accuracy: 0.8357 - val_loss: 0.9633 - val_accuracy: 0.6884\n",
      "Epoch 8/256\n",
      "136815/136815 [==============================] - 48s 354us/sample - loss: 0.4400 - accuracy: 0.8423 - val_loss: 0.9670 - val_accuracy: 0.6905\n",
      "Epoch 9/256\n",
      "136815/136815 [==============================] - 48s 351us/sample - loss: 0.4198 - accuracy: 0.8498 - val_loss: 1.1172 - val_accuracy: 0.6775\n",
      "Epoch 10/256\n",
      "136815/136815 [==============================] - 48s 352us/sample - loss: 0.4053 - accuracy: 0.8553 - val_loss: 0.7996 - val_accuracy: 0.7354\n",
      "Epoch 11/256\n",
      "136815/136815 [==============================] - 48s 350us/sample - loss: 0.3869 - accuracy: 0.8621 - val_loss: 1.0938 - val_accuracy: 0.6921\n",
      "Epoch 12/256\n",
      "136815/136815 [==============================] - 48s 351us/sample - loss: 0.3742 - accuracy: 0.8651 - val_loss: 0.8363 - val_accuracy: 0.7319\n",
      "Epoch 13/256\n",
      "136815/136815 [==============================] - 48s 351us/sample - loss: 0.3614 - accuracy: 0.8699 - val_loss: 1.0607 - val_accuracy: 0.6823\n",
      "Epoch 14/256\n",
      "136815/136815 [==============================] - 48s 351us/sample - loss: 0.3479 - accuracy: 0.8759 - val_loss: 0.9300 - val_accuracy: 0.7265\n",
      "Epoch 15/256\n",
      "136815/136815 [==============================] - 48s 349us/sample - loss: 0.3365 - accuracy: 0.8798 - val_loss: 1.1840 - val_accuracy: 0.6728\n",
      "Epoch 16/256\n",
      "136815/136815 [==============================] - 48s 348us/sample - loss: 0.3267 - accuracy: 0.8835 - val_loss: 1.0219 - val_accuracy: 0.7054\n",
      "Epoch 17/256\n",
      "136815/136815 [==============================] - 48s 348us/sample - loss: 0.3166 - accuracy: 0.8867 - val_loss: 0.9555 - val_accuracy: 0.7239\n",
      "Epoch 18/256\n",
      "136815/136815 [==============================] - 48s 349us/sample - loss: 0.3057 - accuracy: 0.8907 - val_loss: 1.0352 - val_accuracy: 0.7164\n",
      "Epoch 19/256\n",
      "136815/136815 [==============================] - 48s 348us/sample - loss: 0.2922 - accuracy: 0.8953 - val_loss: 1.0484 - val_accuracy: 0.7204\n",
      "Epoch 20/256\n",
      "136815/136815 [==============================] - 48s 348us/sample - loss: 0.2857 - accuracy: 0.8977 - val_loss: 1.1612 - val_accuracy: 0.6977\n",
      "Epoch 21/256\n",
      "136815/136815 [==============================] - 49s 355us/sample - loss: 0.2751 - accuracy: 0.9024 - val_loss: 1.0220 - val_accuracy: 0.7263\n",
      "Epoch 22/256\n",
      "136815/136815 [==============================] - 48s 348us/sample - loss: 0.2686 - accuracy: 0.9045 - val_loss: 1.1786 - val_accuracy: 0.7074\n",
      "Epoch 23/256\n",
      "136815/136815 [==============================] - 48s 349us/sample - loss: 0.2619 - accuracy: 0.9069 - val_loss: 1.1842 - val_accuracy: 0.7193\n",
      "Epoch 24/256\n",
      "136815/136815 [==============================] - 48s 349us/sample - loss: 0.2481 - accuracy: 0.9107 - val_loss: 1.2584 - val_accuracy: 0.6857\n",
      "Epoch 25/256\n",
      "136815/136815 [==============================] - 48s 349us/sample - loss: 0.2466 - accuracy: 0.9124 - val_loss: 1.0648 - val_accuracy: 0.7257\n",
      "Epoch 26/256\n",
      "136815/136815 [==============================] - 48s 351us/sample - loss: 0.2349 - accuracy: 0.9162 - val_loss: 1.1193 - val_accuracy: 0.7267\n",
      "Epoch 27/256\n",
      "136815/136815 [==============================] - 48s 350us/sample - loss: 0.2279 - accuracy: 0.9195 - val_loss: 1.2471 - val_accuracy: 0.7020\n",
      "Epoch 28/256\n",
      "136815/136815 [==============================] - 48s 349us/sample - loss: 0.2188 - accuracy: 0.9229 - val_loss: 1.1359 - val_accuracy: 0.7271\n",
      "Epoch 29/256\n",
      "136815/136815 [==============================] - 48s 349us/sample - loss: 0.2169 - accuracy: 0.9232 - val_loss: 1.1750 - val_accuracy: 0.7001\n",
      "Epoch 30/256\n",
      "136815/136815 [==============================] - 48s 350us/sample - loss: 0.2144 - accuracy: 0.9240 - val_loss: 1.0515 - val_accuracy: 0.7263\n",
      "Epoch 31/256\n",
      "136815/136815 [==============================] - 48s 349us/sample - loss: 0.2034 - accuracy: 0.9277 - val_loss: 1.0535 - val_accuracy: 0.7406\n",
      "Epoch 32/256\n",
      "136815/136815 [==============================] - 48s 349us/sample - loss: 0.1974 - accuracy: 0.9301 - val_loss: 1.1440 - val_accuracy: 0.7288\n",
      "Epoch 33/256\n",
      "136815/136815 [==============================] - 48s 350us/sample - loss: 0.1951 - accuracy: 0.9308 - val_loss: 1.0897 - val_accuracy: 0.7264\n",
      "Epoch 34/256\n",
      "136815/136815 [==============================] - 48s 349us/sample - loss: 0.1895 - accuracy: 0.9329 - val_loss: 1.2413 - val_accuracy: 0.7300\n",
      "Epoch 35/256\n",
      "136815/136815 [==============================] - 48s 349us/sample - loss: 0.1841 - accuracy: 0.9348 - val_loss: 1.2094 - val_accuracy: 0.7302\n",
      "Epoch 36/256\n",
      "136815/136815 [==============================] - 48s 350us/sample - loss: 0.1777 - accuracy: 0.9375 - val_loss: 1.1817 - val_accuracy: 0.7185\n",
      "Epoch 37/256\n",
      "136815/136815 [==============================] - 48s 350us/sample - loss: 0.1700 - accuracy: 0.9404 - val_loss: 1.3198 - val_accuracy: 0.7120\n",
      "Epoch 38/256\n",
      "136815/136815 [==============================] - 48s 350us/sample - loss: 0.1656 - accuracy: 0.9414 - val_loss: 1.3274 - val_accuracy: 0.7272\n",
      "Epoch 39/256\n",
      "136815/136815 [==============================] - 48s 350us/sample - loss: 0.1657 - accuracy: 0.9417 - val_loss: 1.4413 - val_accuracy: 0.7007\n",
      "Epoch 40/256\n",
      "136815/136815 [==============================] - 48s 350us/sample - loss: 0.1605 - accuracy: 0.9433 - val_loss: 1.5040 - val_accuracy: 0.7003\n"
     ]
    }
   ],
   "source": [
    "save_folder = \"/\" #保存ディレクトリを指定(後ろにスラッシュ入れてね)\n",
    "\n",
    "import os\n",
    "if not os.path.exists(save_folder):\n",
    "    os.makedirs(save_folder)\n",
    "\n",
    "cp_cb = tf.keras.callbacks.ModelCheckpoint(filepath=save_folder + \"model_{epoch:02d}-{loss:.2f}-{accuracy:.2f}-{val_loss:.2f}-{val_accuracy:.2f}.hdf5\", \n",
    "                                           monitor='val_loss', verbose=0, save_best_only=True, mode='auto')\n",
    "es_cb = tf.keras.callbacks.EarlyStopping(monitor='val_loss', patience=30, verbose=0, mode='auto')\n",
    "history = model.fit([x_train[:, 0], x_train[:, 1], x_train[:, 2]], y_train, epochs=256, batch_size=512, \\\n",
    "                    validation_data=([x_val[:, 0], x_val[:, 1], x_val[:, 2]], y_val), callbacks=[cp_cb, es_cb])"
   ]
  },
  {
   "cell_type": "code",
   "execution_count": 21,
   "metadata": {},
   "outputs": [
    {
     "data": {
      "image/png": "[encoded data removed]",
      "text/plain": [
       "<Figure size 432x288 with 1 Axes>"
      ]
     },
     "metadata": {
      "needs_background": "light"
     },
     "output_type": "display_data"
    },
    {
     "data": {
      "image/png": "[encoded data removed]",
      "text/plain": [
       "<Figure size 432x288 with 1 Axes>"
      ]
     },
     "metadata": {
      "needs_background": "light"
     },
     "output_type": "display_data"
    }
   ],
   "source": [
    "# Plot training & validation accuracy values\n",
    "plt.plot(history.history['accuracy'])\n",
    "plt.plot(history.history['val_accuracy'])\n",
    "plt.title('Model accuracy')\n",
    "plt.ylabel('Accuracy')\n",
    "plt.xlabel('Epoch')\n",
    "plt.legend(['Train', 'Test'], loc='upper left')\n",
    "plt.show()\n",
    "\n",
    "# Plot training & validation loss values\n",
    "plt.plot(history.history['loss'])\n",
    "plt.plot(history.history['val_loss'])\n",
    "plt.title('Model loss')\n",
    "plt.ylabel('Loss')\n",
    "plt.xlabel('Epoch')\n",
    "plt.legend(['Train', 'Test'], loc='upper left')\n",
    "# plt.ylim((0, 3.5))\n",
    "plt.show()"
   ]
  },
  {
   "cell_type": "markdown",
   "metadata": {},
   "source": [
    "# 推定"
   ]
  },
  {
   "cell_type": "code",
   "execution_count": 42,
   "metadata": {},
   "outputs": [],
   "source": [
    "def predict_func(x1, x2, x3):\n",
    "    model = tf.keras.models.load_model(\"../model_03-0.61-0.78-0.96-0.67.hdf5\") #ベストモデルのパス入れて！\n",
    "    predict = model.predict([x1, x2, x3])\n",
    "    return predict"
   ]
  },
  {
   "cell_type": "code",
   "execution_count": 43,
   "metadata": {},
   "outputs": [],
   "source": [
    "def save_npy(kind, hold_position, x):\n",
    "    np.save(kind + \"_\" + hold_position + \"_横山分類_pattern2\", x)"
   ]
  },
  {
   "cell_type": "code",
   "execution_count": 44,
   "metadata": {},
   "outputs": [],
   "source": [
    "def flow(kind, hold_position):\n",
    "    label = np.load(file_path + \"/\" + kind  + \"/\" + kind + \"_Hips/\" + kind + \"_Hips_Label.npy\")[:, 0].reshape([-1])\n",
    "    x1, x2, x3 = load_npy(\"Acc\", kind), load_npy(\"Mag\", kind), load_npy(\"Gyr\", kind)\n",
    "    x1 = x1.reshape([-1, x1.shape[1], x1.shape[2], 1])\n",
    "    x2 = x2.reshape([-1, x2.shape[1], x2.shape[2], 1])\n",
    "    x3 = x3.reshape([-1, x3.shape[1], x3.shape[2], 1])\n",
    "    predict = predict_func(x1, x2, x3)\n",
    "    save_npy(kind, hold_position, predict)"
   ]
  },
  {
   "cell_type": "code",
   "execution_count": 45,
   "metadata": {},
   "outputs": [
    {
     "name": "stderr",
     "output_type": "stream",
     "text": [
      "100%|███████████████████████████████████████████████████████████████████████████████████| 1/1 [03:28<00:00, 208.74s/it]\n",
      "  0%|                                                                                            | 0/1 [00:00<?, ?it/s]C:\\Users\\BSA\\anaconda3\\envs\\PBS\\lib\\site-packages\\ipykernel_launcher.py:9: RuntimeWarning: invalid value encountered in true_divide\n",
      "  if __name__ == '__main__':\n",
      "100%|████████████████████████████████████████████████████████████████████████████████████| 1/1 [00:31<00:00, 31.62s/it]\n"
     ]
    }
   ],
   "source": [
    "kinds = [\"train\", \"validation\"]\n",
    "hold_positions = [\"Hips\"]\n",
    "\n",
    "i = 0\n",
    "for kind in kinds:\n",
    "    for hold_position in tqdm(hold_positions):\n",
    "        flow(kind, hold_position)"
   ]
  },
  {
   "cell_type": "markdown",
   "metadata": {},
   "source": [
    "# testデータの推定"
   ]
  },
  {
   "cell_type": "code",
   "execution_count": 46,
   "metadata": {},
   "outputs": [],
   "source": [
    "def test_load(sensor=\"Acc\"):\n",
    "    x = np.load(file_path + \"/test/test_Glo_\"+ sensor + \"_ver3.npy\")\n",
    "    x = norm(x)\n",
    "    x = spectrogtam(x)\n",
    "    return x "
   ]
  },
  {
   "cell_type": "code",
   "execution_count": 49,
   "metadata": {},
   "outputs": [],
   "source": [
    "test1, test2, test3 = test_load(\"Acc\"), test_load(\"Mag\"), test_load(\"Gyr\")\n",
    "test1 = np.round(test1, 5).reshape([-1, test1.shape[1], test1.shape[2], 1])\n",
    "test2 = np.round(test2, 5).reshape([-1, test2.shape[1], test2.shape[2], 1])\n",
    "test3 = np.round(test3, 5).reshape([-1, test3.shape[1], test3.shape[2], 1])\n"
   ]
  },
  {
   "cell_type": "code",
   "execution_count": 48,
   "metadata": {},
   "outputs": [],
   "source": [
    "predict = model.predict([test1, test2, test3])\n",
    "np.save(\"test_横山分類_pattern2.npy\", predict)"
   ]
  },
  {
   "cell_type": "markdown",
   "metadata": {},
   "source": [
    "val追加"
   ]
  },
  {
   "cell_type": "code",
   "execution_count": 61,
   "metadata": {},
   "outputs": [],
   "source": [
    "model = tf.keras.models.load_model(\"../model_03-0.61-0.78-0.96-0.67.hdf5\") \n"
   ]
  },
  {
   "cell_type": "code",
   "execution_count": 62,
   "metadata": {},
   "outputs": [
    {
     "name": "stdout",
     "output_type": "stream",
     "text": [
      "Train on 14338 samples, validate on 5696 samples\n",
      "Epoch 1/256\n",
      "14338/14338 [==============================] - 7s 482us/sample - loss: 0.9173 - accuracy: 0.6640 - val_loss: 10.8669 - val_accuracy: 0.2310\n",
      "Epoch 2/256\n",
      "14338/14338 [==============================] - 5s 336us/sample - loss: 0.7016 - accuracy: 0.7500 - val_loss: 1.7018 - val_accuracy: 0.4793\n",
      "Epoch 3/256\n",
      "14338/14338 [==============================] - 5s 337us/sample - loss: 0.6537 - accuracy: 0.7707 - val_loss: 1.4850 - val_accuracy: 0.5966\n",
      "Epoch 4/256\n",
      "14338/14338 [==============================] - 5s 330us/sample - loss: 0.4901 - accuracy: 0.8361 - val_loss: 3.5204 - val_accuracy: 0.3611\n",
      "Epoch 5/256\n",
      "14338/14338 [==============================] - 5s 334us/sample - loss: 0.4663 - accuracy: 0.8411 - val_loss: 2.1048 - val_accuracy: 0.5151\n",
      "Epoch 6/256\n",
      "14338/14338 [==============================] - 5s 337us/sample - loss: 0.3929 - accuracy: 0.8626 - val_loss: 1.9730 - val_accuracy: 0.5576\n",
      "Epoch 7/256\n",
      "14338/14338 [==============================] - 5s 338us/sample - loss: 0.5104 - accuracy: 0.8305 - val_loss: 7.8308 - val_accuracy: 0.2739\n",
      "Epoch 8/256\n",
      "14338/14338 [==============================] - 5s 341us/sample - loss: 0.4495 - accuracy: 0.8466 - val_loss: 3.4148 - val_accuracy: 0.4472\n",
      "Epoch 9/256\n",
      "14338/14338 [==============================] - 5s 343us/sample - loss: 0.4953 - accuracy: 0.8341 - val_loss: 2.5229 - val_accuracy: 0.5502\n",
      "Epoch 10/256\n",
      "14338/14338 [==============================] - 5s 344us/sample - loss: 0.3909 - accuracy: 0.8707 - val_loss: 1.8576 - val_accuracy: 0.5760\n",
      "Epoch 11/256\n",
      "14338/14338 [==============================] - 5s 342us/sample - loss: 0.3496 - accuracy: 0.8850 - val_loss: 1.7777 - val_accuracy: 0.6399\n",
      "Epoch 12/256\n",
      "14338/14338 [==============================] - 5s 343us/sample - loss: 0.3680 - accuracy: 0.8779 - val_loss: 2.5213 - val_accuracy: 0.3948\n",
      "Epoch 13/256\n",
      "14338/14338 [==============================] - 5s 344us/sample - loss: 0.9598 - accuracy: 0.6811 - val_loss: 4.8125 - val_accuracy: 0.3861\n",
      "Epoch 14/256\n",
      "14338/14338 [==============================] - 5s 344us/sample - loss: 0.6799 - accuracy: 0.7551 - val_loss: 3.3760 - val_accuracy: 0.2923\n",
      "Epoch 15/256\n",
      "14338/14338 [==============================] - 5s 344us/sample - loss: 0.7757 - accuracy: 0.7302 - val_loss: 3.9767 - val_accuracy: 0.3976\n",
      "Epoch 16/256\n",
      "14338/14338 [==============================] - 5s 344us/sample - loss: 0.5569 - accuracy: 0.8044 - val_loss: 1.5752 - val_accuracy: 0.5314\n",
      "Epoch 17/256\n",
      "14338/14338 [==============================] - 5s 349us/sample - loss: 0.7419 - accuracy: 0.7424 - val_loss: 1.6393 - val_accuracy: 0.5209\n",
      "Epoch 18/256\n",
      "14338/14338 [==============================] - 5s 345us/sample - loss: 0.5222 - accuracy: 0.8228 - val_loss: 2.3591 - val_accuracy: 0.4821\n",
      "Epoch 19/256\n",
      "14338/14338 [==============================] - 5s 344us/sample - loss: 0.5356 - accuracy: 0.8164 - val_loss: 2.2285 - val_accuracy: 0.5163\n",
      "Epoch 20/256\n",
      "14338/14338 [==============================] - 5s 344us/sample - loss: 0.5451 - accuracy: 0.8115 - val_loss: 2.1567 - val_accuracy: 0.5327\n",
      "Epoch 21/256\n",
      "14338/14338 [==============================] - 5s 344us/sample - loss: 0.9515 - accuracy: 0.6783 - val_loss: 1.6452 - val_accuracy: 0.5065\n",
      "Epoch 22/256\n",
      "14338/14338 [==============================] - 5s 344us/sample - loss: 0.7245 - accuracy: 0.7485 - val_loss: 1.8664 - val_accuracy: 0.5367\n",
      "Epoch 23/256\n",
      "14338/14338 [==============================] - 5s 345us/sample - loss: 0.5542 - accuracy: 0.8102 - val_loss: 1.6467 - val_accuracy: 0.5741\n",
      "Epoch 24/256\n",
      "14338/14338 [==============================] - 5s 347us/sample - loss: 0.5140 - accuracy: 0.8252 - val_loss: 2.1320 - val_accuracy: 0.5067\n",
      "Epoch 25/256\n",
      "14338/14338 [==============================] - 5s 344us/sample - loss: 0.5066 - accuracy: 0.8294 - val_loss: 1.8285 - val_accuracy: 0.5478\n",
      "Epoch 26/256\n",
      "14338/14338 [==============================] - 5s 353us/sample - loss: 0.4293 - accuracy: 0.8534 - val_loss: 1.4137 - val_accuracy: 0.6111\n",
      "Epoch 27/256\n",
      "14338/14338 [==============================] - 5s 344us/sample - loss: 0.3870 - accuracy: 0.8697 - val_loss: 1.4568 - val_accuracy: 0.6139\n",
      "Epoch 28/256\n",
      "14338/14338 [==============================] - 5s 352us/sample - loss: 0.3822 - accuracy: 0.8727 - val_loss: 1.3551 - val_accuracy: 0.6601\n",
      "Epoch 29/256\n",
      "14338/14338 [==============================] - 5s 347us/sample - loss: 0.3491 - accuracy: 0.8827 - val_loss: 1.4738 - val_accuracy: 0.6522\n",
      "Epoch 30/256\n",
      "14338/14338 [==============================] - 5s 344us/sample - loss: 0.3605 - accuracy: 0.8812 - val_loss: 1.3646 - val_accuracy: 0.6545\n",
      "Epoch 31/256\n",
      "14338/14338 [==============================] - 5s 355us/sample - loss: 0.3643 - accuracy: 0.8861 - val_loss: 1.3579 - val_accuracy: 0.6594\n",
      "Epoch 32/256\n",
      "14338/14338 [==============================] - 5s 363us/sample - loss: 0.3094 - accuracy: 0.8982 - val_loss: 1.5599 - val_accuracy: 0.6503\n",
      "Epoch 33/256\n",
      "14338/14338 [==============================] - 5s 355us/sample - loss: 0.2907 - accuracy: 0.9027 - val_loss: 1.5701 - val_accuracy: 0.6626\n",
      "Epoch 34/256\n",
      "14338/14338 [==============================] - 5s 352us/sample - loss: 0.3025 - accuracy: 0.9045 - val_loss: 1.4915 - val_accuracy: 0.6550\n",
      "Epoch 35/256\n",
      "14338/14338 [==============================] - 5s 345us/sample - loss: 0.2704 - accuracy: 0.9158 - val_loss: 1.7676 - val_accuracy: 0.6712\n",
      "Epoch 36/256\n",
      "14338/14338 [==============================] - 5s 344us/sample - loss: 0.2461 - accuracy: 0.9185 - val_loss: 1.7251 - val_accuracy: 0.6345\n",
      "Epoch 37/256\n",
      "14338/14338 [==============================] - 5s 344us/sample - loss: 0.2312 - accuracy: 0.9252 - val_loss: 1.7940 - val_accuracy: 0.6696\n",
      "Epoch 38/256\n",
      "14338/14338 [==============================] - 5s 344us/sample - loss: 0.2543 - accuracy: 0.9150 - val_loss: 1.6969 - val_accuracy: 0.6624\n",
      "Epoch 39/256\n",
      "14338/14338 [==============================] - 5s 344us/sample - loss: 0.2748 - accuracy: 0.9147 - val_loss: 1.6937 - val_accuracy: 0.6677\n",
      "Epoch 40/256\n",
      "14338/14338 [==============================] - 5s 344us/sample - loss: 0.2058 - accuracy: 0.9331 - val_loss: 1.9464 - val_accuracy: 0.6505\n",
      "Epoch 41/256\n",
      "14338/14338 [==============================] - 5s 348us/sample - loss: 0.2487 - accuracy: 0.9178 - val_loss: 1.5838 - val_accuracy: 0.6633\n",
      "Epoch 42/256\n",
      "14338/14338 [==============================] - 5s 344us/sample - loss: 0.2412 - accuracy: 0.9219 - val_loss: 3.2846 - val_accuracy: 0.5669\n",
      "Epoch 43/256\n",
      "14338/14338 [==============================] - 5s 344us/sample - loss: 0.2249 - accuracy: 0.9307 - val_loss: 2.5057 - val_accuracy: 0.6250\n",
      "Epoch 44/256\n",
      "14338/14338 [==============================] - 5s 344us/sample - loss: 0.1737 - accuracy: 0.9450 - val_loss: 1.8500 - val_accuracy: 0.6657\n",
      "Epoch 45/256\n",
      "14338/14338 [==============================] - 5s 345us/sample - loss: 0.1850 - accuracy: 0.9403 - val_loss: 2.0863 - val_accuracy: 0.6510\n",
      "Epoch 46/256\n",
      "14338/14338 [==============================] - 5s 345us/sample - loss: 0.1616 - accuracy: 0.9487 - val_loss: 1.9288 - val_accuracy: 0.6517\n",
      "Epoch 47/256\n",
      "14338/14338 [==============================] - 5s 347us/sample - loss: 0.1487 - accuracy: 0.9523 - val_loss: 2.0804 - val_accuracy: 0.6503\n",
      "Epoch 48/256\n",
      "14338/14338 [==============================] - 5s 348us/sample - loss: 0.2050 - accuracy: 0.9367 - val_loss: 3.4533 - val_accuracy: 0.4881\n",
      "Epoch 49/256\n",
      "14338/14338 [==============================] - 5s 344us/sample - loss: 0.2287 - accuracy: 0.9312 - val_loss: 2.5140 - val_accuracy: 0.4837\n",
      "Epoch 50/256\n",
      "14338/14338 [==============================] - 5s 359us/sample - loss: 1.5770 - accuracy: 0.4977 - val_loss: 15.4855 - val_accuracy: 0.1608\n",
      "Epoch 51/256\n",
      "14338/14338 [==============================] - 5s 350us/sample - loss: 1.2423 - accuracy: 0.5452 - val_loss: 6.7336 - val_accuracy: 0.2024\n",
      "Epoch 52/256\n",
      "14338/14338 [==============================] - 5s 354us/sample - loss: 1.1201 - accuracy: 0.5819 - val_loss: 4.2324 - val_accuracy: 0.2226\n",
      "Epoch 53/256\n",
      "14338/14338 [==============================] - 5s 347us/sample - loss: 1.1015 - accuracy: 0.5877 - val_loss: 2.7276 - val_accuracy: 0.2633\n",
      "Epoch 54/256\n",
      "14338/14338 [==============================] - 5s 346us/sample - loss: 0.9905 - accuracy: 0.6252 - val_loss: 2.2851 - val_accuracy: 0.3653\n",
      "Epoch 55/256\n",
      "14338/14338 [==============================] - 5s 348us/sample - loss: 0.9258 - accuracy: 0.6585 - val_loss: 1.5373 - val_accuracy: 0.4949\n",
      "Epoch 56/256\n",
      "14338/14338 [==============================] - 5s 351us/sample - loss: 0.9021 - accuracy: 0.6722 - val_loss: 1.4034 - val_accuracy: 0.5249\n",
      "Epoch 57/256\n",
      "14338/14338 [==============================] - 5s 360us/sample - loss: 0.8446 - accuracy: 0.6919 - val_loss: 1.2577 - val_accuracy: 0.5644\n",
      "Epoch 58/256\n",
      "14338/14338 [==============================] - 5s 352us/sample - loss: 0.8169 - accuracy: 0.7044 - val_loss: 1.2888 - val_accuracy: 0.5802\n",
      "Epoch 59/256\n",
      "14338/14338 [==============================] - 5s 363us/sample - loss: 0.8226 - accuracy: 0.7062 - val_loss: 1.2923 - val_accuracy: 0.5857\n",
      "Epoch 60/256\n",
      "14338/14338 [==============================] - 5s 347us/sample - loss: 0.7800 - accuracy: 0.7253 - val_loss: 1.3403 - val_accuracy: 0.5688\n",
      "Epoch 61/256\n",
      "14338/14338 [==============================] - 5s 361us/sample - loss: 0.7618 - accuracy: 0.7321 - val_loss: 1.2208 - val_accuracy: 0.6025\n",
      "Epoch 62/256\n",
      "14338/14338 [==============================] - 5s 357us/sample - loss: 0.7208 - accuracy: 0.7470 - val_loss: 1.2124 - val_accuracy: 0.6073\n",
      "Epoch 63/256\n",
      "14338/14338 [==============================] - 5s 348us/sample - loss: 0.6880 - accuracy: 0.7596 - val_loss: 1.2567 - val_accuracy: 0.6117\n",
      "Epoch 64/256\n",
      "14338/14338 [==============================] - 5s 348us/sample - loss: 0.6456 - accuracy: 0.7747 - val_loss: 1.2327 - val_accuracy: 0.6129\n",
      "Epoch 65/256\n",
      "14338/14338 [==============================] - 5s 357us/sample - loss: 0.6108 - accuracy: 0.7869 - val_loss: 1.2118 - val_accuracy: 0.6173\n",
      "Epoch 66/256\n",
      "14338/14338 [==============================] - 5s 344us/sample - loss: 0.5944 - accuracy: 0.7915 - val_loss: 1.2837 - val_accuracy: 0.5980\n",
      "Epoch 67/256\n",
      "14338/14338 [==============================] - 5s 361us/sample - loss: 0.5940 - accuracy: 0.7933 - val_loss: 1.1740 - val_accuracy: 0.6092\n",
      "Epoch 68/256\n",
      "14338/14338 [==============================] - 5s 352us/sample - loss: 0.6157 - accuracy: 0.7878 - val_loss: 1.4447 - val_accuracy: 0.5664\n",
      "Epoch 69/256\n",
      "14338/14338 [==============================] - 5s 347us/sample - loss: 0.7839 - accuracy: 0.7279 - val_loss: 1.3819 - val_accuracy: 0.5560\n",
      "Epoch 70/256\n",
      "14338/14338 [==============================] - 5s 346us/sample - loss: 0.6907 - accuracy: 0.7583 - val_loss: 1.3037 - val_accuracy: 0.5987\n",
      "Epoch 71/256\n",
      "14338/14338 [==============================] - 5s 351us/sample - loss: 0.5780 - accuracy: 0.8006 - val_loss: 1.2278 - val_accuracy: 0.6145\n",
      "Epoch 72/256\n",
      "14338/14338 [==============================] - 5s 349us/sample - loss: 0.5438 - accuracy: 0.8108 - val_loss: 1.2228 - val_accuracy: 0.6124\n",
      "Epoch 73/256\n",
      "14338/14338 [==============================] - 5s 354us/sample - loss: 0.5208 - accuracy: 0.8222 - val_loss: 1.2100 - val_accuracy: 0.6227\n",
      "Epoch 74/256\n",
      "14338/14338 [==============================] - 5s 358us/sample - loss: 0.5457 - accuracy: 0.8097 - val_loss: 1.2066 - val_accuracy: 0.6299\n",
      "Epoch 75/256\n",
      "14338/14338 [==============================] - 5s 361us/sample - loss: 0.5083 - accuracy: 0.8258 - val_loss: 1.2278 - val_accuracy: 0.6257\n",
      "Epoch 76/256\n",
      "14338/14338 [==============================] - 5s 355us/sample - loss: 0.4873 - accuracy: 0.8309 - val_loss: 1.3127 - val_accuracy: 0.6340\n",
      "Epoch 77/256\n",
      "14338/14338 [==============================] - 5s 346us/sample - loss: 0.4522 - accuracy: 0.8427 - val_loss: 1.2695 - val_accuracy: 0.6343\n",
      "Epoch 78/256\n",
      "14338/14338 [==============================] - 5s 347us/sample - loss: 0.5166 - accuracy: 0.8251 - val_loss: 1.2324 - val_accuracy: 0.6452\n",
      "Epoch 79/256\n",
      "14338/14338 [==============================] - 5s 347us/sample - loss: 0.4639 - accuracy: 0.8441 - val_loss: 1.5032 - val_accuracy: 0.6148\n",
      "Epoch 80/256\n",
      "14338/14338 [==============================] - 5s 346us/sample - loss: 0.4844 - accuracy: 0.8353 - val_loss: 1.2082 - val_accuracy: 0.6526\n",
      "Epoch 81/256\n",
      "14338/14338 [==============================] - 5s 346us/sample - loss: 0.4165 - accuracy: 0.8614 - val_loss: 1.2763 - val_accuracy: 0.6543\n",
      "Epoch 82/256\n",
      "14338/14338 [==============================] - 5s 346us/sample - loss: 0.3941 - accuracy: 0.8672 - val_loss: 1.4343 - val_accuracy: 0.6243\n",
      "Epoch 83/256\n",
      "14338/14338 [==============================] - 5s 346us/sample - loss: 0.4175 - accuracy: 0.8597 - val_loss: 1.3669 - val_accuracy: 0.6522\n",
      "Epoch 84/256\n",
      "14338/14338 [==============================] - 5s 347us/sample - loss: 0.3774 - accuracy: 0.8735 - val_loss: 1.3644 - val_accuracy: 0.6438\n",
      "Epoch 85/256\n",
      "14338/14338 [==============================] - 5s 346us/sample - loss: 0.4130 - accuracy: 0.8609 - val_loss: 1.4860 - val_accuracy: 0.6364\n",
      "Epoch 86/256\n",
      "14338/14338 [==============================] - 5s 346us/sample - loss: 0.4496 - accuracy: 0.8553 - val_loss: 1.3282 - val_accuracy: 0.6468\n",
      "Epoch 87/256\n",
      "14338/14338 [==============================] - 5s 345us/sample - loss: 0.4299 - accuracy: 0.8601 - val_loss: 1.3147 - val_accuracy: 0.6638\n",
      "Epoch 88/256\n",
      "14338/14338 [==============================] - 5s 345us/sample - loss: 0.3676 - accuracy: 0.8788 - val_loss: 1.4692 - val_accuracy: 0.6197\n",
      "Epoch 89/256\n",
      "14338/14338 [==============================] - 5s 345us/sample - loss: 0.3380 - accuracy: 0.8874 - val_loss: 1.7048 - val_accuracy: 0.6264\n",
      "Epoch 90/256\n",
      "14338/14338 [==============================] - 5s 346us/sample - loss: 0.8472 - accuracy: 0.7182 - val_loss: 12.2888 - val_accuracy: 0.1385\n",
      "Epoch 91/256\n",
      "14338/14338 [==============================] - 5s 345us/sample - loss: 0.7409 - accuracy: 0.7431 - val_loss: 2.6550 - val_accuracy: 0.4621\n",
      "Epoch 92/256\n",
      "14338/14338 [==============================] - 5s 346us/sample - loss: 0.6634 - accuracy: 0.7716 - val_loss: 1.8224 - val_accuracy: 0.5384\n",
      "Epoch 93/256\n",
      "14338/14338 [==============================] - 5s 345us/sample - loss: 0.8171 - accuracy: 0.7186 - val_loss: 2.2525 - val_accuracy: 0.4050\n",
      "Epoch 94/256\n",
      "14338/14338 [==============================] - 5s 346us/sample - loss: 0.7091 - accuracy: 0.7503 - val_loss: 1.4286 - val_accuracy: 0.5651\n",
      "Epoch 95/256\n",
      "14338/14338 [==============================] - 5s 347us/sample - loss: 0.6000 - accuracy: 0.7917 - val_loss: 1.3933 - val_accuracy: 0.5902\n",
      "Epoch 96/256\n",
      "14338/14338 [==============================] - 5s 347us/sample - loss: 0.5757 - accuracy: 0.8009 - val_loss: 1.2072 - val_accuracy: 0.6306\n",
      "Epoch 97/256\n",
      "14338/14338 [==============================] - 5s 347us/sample - loss: 0.5536 - accuracy: 0.8062 - val_loss: 1.2066 - val_accuracy: 0.6259\n"
     ]
    }
   ],
   "source": [
    "save_folder = \"/data\" #保存ディレクトリを指定(後ろにスラッシュ入れてね)\n",
    "\n",
    "import os\n",
    "if not os.path.exists(save_folder):\n",
    "    os.makedirs(save_folder)\n",
    "\n",
    "cp_cb = tf.keras.callbacks.ModelCheckpoint(filepath=save_folder + \"model_{epoch:02d}-{loss:.2f}-{accuracy:.2f}-{val_loss:.2f}-{val_accuracy:.2f}.hdf5\", \n",
    "                                           monitor='val_loss', verbose=0, save_best_only=True, mode='auto')\n",
    "es_cb = tf.keras.callbacks.EarlyStopping(monitor='val_loss', patience=30, verbose=0, mode='auto')\n",
    "history = model.fit([X_val_pattern1[:, 0], X_val_pattern1[:, 1], X_val_pattern1[:, 2]], val_label[pattern_file == 1]-1, epochs=256, batch_size=512, \\\n",
    "                    validation_data=([X_val_pattern0[:, 0], X_val_pattern0[:, 1], X_val_pattern0[:, 2]],val_label[pattern_file == 0]-1), callbacks=[cp_cb, es_cb])"
   ]
  },
  {
   "cell_type": "code",
   "execution_count": 63,
   "metadata": {},
   "outputs": [
    {
     "data": {
      "image/png": "[encoded data removed]",
      "text/plain": [
       "<Figure size 432x288 with 1 Axes>"
      ]
     },
     "metadata": {
      "needs_background": "light"
     },
     "output_type": "display_data"
    },
    {
     "data": {
      "image/png": "[encoded data removed]",
      "text/plain": [
       "<Figure size 432x288 with 1 Axes>"
      ]
     },
     "metadata": {
      "needs_background": "light"
     },
     "output_type": "display_data"
    },
    {
     "data": {
      "image/png": "[encoded data removed]",
      "text/plain": [
       "<Figure size 432x288 with 1 Axes>"
      ]
     },
     "metadata": {
      "needs_background": "light"
     },
     "output_type": "display_data"
    },
    {
     "data": {
      "image/png": "[encoded data removed]",
      "text/plain": [
       "<Figure size 432x288 with 1 Axes>"
      ]
     },
     "metadata": {
      "needs_background": "light"
     },
     "output_type": "display_data"
    }
   ],
   "source": [
    "# Plot training & validation accuracy values\n",
    "plt.plot(history.history['accuracy'])\n",
    "plt.plot(history.history['val_accuracy'])\n",
    "plt.title('Model accuracy')\n",
    "plt.ylabel('Accuracy')\n",
    "plt.xlabel('Epoch')\n",
    "plt.legend(['Train', 'Test'], loc='upper left')\n",
    "plt.show()\n",
    "\n",
    "# Plot training & validation loss values\n",
    "plt.plot(history.history['loss'])\n",
    "plt.plot(history.history['val_loss'])\n",
    "plt.title('Model loss')\n",
    "plt.ylabel('Loss')\n",
    "plt.xlabel('Epoch')\n",
    "plt.legend(['Train', 'Test'], loc='upper left')\n",
    "# plt.ylim((0, 3.5))\n",
    "plt.show()# Plot training & validation accuracy values\n",
    "plt.plot(history.history['accuracy'])\n",
    "plt.plot(history.history['val_accuracy'])\n",
    "plt.title('Model accuracy')\n",
    "plt.ylabel('Accuracy')\n",
    "plt.xlabel('Epoch')\n",
    "plt.legend(['Train', 'Test'], loc='upper left')\n",
    "plt.show()\n",
    "\n",
    "# Plot training & validation loss values\n",
    "plt.plot(history.history['loss'])\n",
    "plt.plot(history.history['val_loss'])\n",
    "plt.title('Model loss')\n",
    "plt.ylabel('Loss')\n",
    "plt.xlabel('Epoch')\n",
    "plt.legend(['Train', 'Test'], loc='upper left')\n",
    "# plt.ylim((0, 3.5))\n",
    "plt.show()"
   ]
  },
  {
   "cell_type": "code",
   "execution_count": null,
   "metadata": {},
   "outputs": [],
   "source": []
  },
  {
   "cell_type": "code",
   "execution_count": null,
   "metadata": {},
   "outputs": [],
   "source": []
  }
 ],
 "metadata": {
  "kernelspec": {
   "display_name": "Python 3",
   "language": "python",
   "name": "python3"
  },
  "language_info": {
   "codemirror_mode": {
    "name": "ipython",
    "version": 3
   },
   "file_extension": ".py",
   "mimetype": "text/x-python",
   "name": "python",
   "nbconvert_exporter": "python",
   "pygments_lexer": "ipython3",
   "version": "3.7.6"
  }
 },
 "nbformat": 4,
 "nbformat_minor": 4
}

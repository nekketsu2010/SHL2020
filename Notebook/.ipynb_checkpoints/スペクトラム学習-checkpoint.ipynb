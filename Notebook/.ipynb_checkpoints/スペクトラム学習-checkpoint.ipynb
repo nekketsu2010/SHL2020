{
 "cells": [
  {
   "cell_type": "code",
   "execution_count": 1,
   "metadata": {},
   "outputs": [
    {
     "data": {
      "text/html": [
       "<style>.container { width:90% !important; }</style>"
      ],
      "text/plain": [
       "<IPython.core.display.HTML object>"
      ]
     },
     "metadata": {},
     "output_type": "display_data"
    }
   ],
   "source": [
    "import numpy as np\n",
    "import os\n",
    "import random\n",
    "import scipy\n",
    "from scipy import signal\n",
    "from numpy.fft import fft\n",
    "from sklearn.metrics import confusion_matrix\n",
    "from sklearn.metrics import f1_score\n",
    "\n",
    "import tensorflow as tf\n",
    "from tensorflow.keras import layers, models\n",
    "from tensorflow.keras.initializers import he_normal\n",
    "from tensorflow.python.keras.utils.vis_utils import plot_model\n",
    "\n",
    "from sklearn.model_selection import train_test_split\n",
    "\n",
    "import pandas as pd\n",
    "import pickle\n",
    "from tqdm import tqdm\n",
    "\n",
    "import seaborn as sns\n",
    "sns.set(font='Yu Gothic')\n",
    "import matplotlib.pyplot as plt\n",
    "%matplotlib inline\n",
    "\n",
    "from IPython.core.display import display, HTML\n",
    "display(HTML(\"<style>.container { width:90% !important; }</style>\"))"
   ]
  },
  {
   "cell_type": "markdown",
   "metadata": {},
   "source": [
    "## validation用のpattern2データ読み込み"
   ]
  },
  {
   "cell_type": "code",
   "execution_count": 2,
   "metadata": {},
   "outputs": [
    {
     "data": {
      "text/plain": [
       "(28685,)"
      ]
     },
     "execution_count": 2,
     "metadata": {},
     "output_type": "execute_result"
    }
   ],
   "source": [
    "pattern_file = np.load(\"validation_pattern2.npy\")\n",
    "pattern_file.shape"
   ]
  },
  {
   "cell_type": "code",
   "execution_count": 3,
   "metadata": {},
   "outputs": [],
   "source": [
    "def plot_confusion_matrix(test_y,pred_y,class_names,normalize=False, figsize=(16, 8)):\n",
    "    cm = confusion_matrix(test_y,pred_y)\n",
    "    # classes = class_names[unique_labels(test_y,pred_y)]\n",
    "    if normalize:\n",
    "        cm = cm.astype('float') / cm.sum(axis=1)[:, np.newaxis]\n",
    "    fig, ax = plt.subplots(figsize=figsize)\n",
    "    im = ax.imshow(cm, interpolation='nearest', cmap=plt.cm.Blues)\n",
    "    ax.figure.colorbar(im, ax=ax)\n",
    "    ax.set(xticks=np.arange(cm.shape[1]),\n",
    "           yticks=np.arange(cm.shape[0]),\n",
    "           xticklabels=class_names,\n",
    "           yticklabels=class_names,\n",
    "           ylabel='True label\\n',\n",
    "           xlabel='\\nPredicted label')\n",
    "    fmt = '.2f' if normalize else 'd'\n",
    "    for i in range(cm.shape[0]):\n",
    "        for j in range(cm.shape[1]):\n",
    "            ax.text(j,\n",
    "                    i,\n",
    "                    format(cm[i, j], fmt),\n",
    "                    ha=\"center\",\n",
    "                    va=\"center\",\n",
    "                    color=\"red\", fontsize=16)\n",
    "    fig.tight_layout()\n",
    "    return ax"
   ]
  },
  {
   "cell_type": "code",
   "execution_count": 4,
   "metadata": {},
   "outputs": [
    {
     "data": {
      "text/plain": [
       "(195491,)"
      ]
     },
     "execution_count": 4,
     "metadata": {},
     "output_type": "execute_result"
    }
   ],
   "source": [
    "train_Label = np.load(\"../Data/センサ別npyファイル/train/train_Bag/train_Bag_LAbel.npy\")[:, 0]\n",
    "Y_train = train_Label.reshape([-1])\n",
    "del train_Label\n",
    "Y_train.shape"
   ]
  },
  {
   "cell_type": "code",
   "execution_count": 5,
   "metadata": {},
   "outputs": [
    {
     "data": {
      "text/plain": [
       "(14338,)"
      ]
     },
     "execution_count": 5,
     "metadata": {},
     "output_type": "execute_result"
    }
   ],
   "source": [
    "val_label = np.load(\"../Data/センサ別npyファイル/validation/validation_Bag/validation_Bag_Label.npy\")[:, 0]\n",
    "Y_val = val_label[pattern_file == 1].reshape([-1])\n",
    "del val_label\n",
    "Y_val.shape"
   ]
  },
  {
   "cell_type": "markdown",
   "metadata": {},
   "source": [
    "## 削除するインデックスの処理"
   ]
  },
  {
   "cell_type": "code",
   "execution_count": 6,
   "metadata": {},
   "outputs": [
    {
     "name": "stderr",
     "output_type": "stream",
     "text": [
      "100%|█████████████████████████████████████████████████████████████████████| 195490/195490 [00:00<00:00, 1792349.84it/s]\n"
     ]
    },
    {
     "data": {
      "text/plain": [
       "1250"
      ]
     },
     "execution_count": 6,
     "metadata": {},
     "output_type": "execute_result"
    }
   ],
   "source": [
    "train_change_index = []\n",
    "for i in tqdm(range(len(Y_train)-1)):\n",
    "    if Y_train[i] != Y_train[i+1]:\n",
    "        train_change_index.append(i+1)\n",
    "        \n",
    "change_before_index = []\n",
    "for i in range(len(train_change_index)):\n",
    "    change_before_index.append(train_change_index[i] - 1)\n",
    "    \n",
    "for i in range(len(change_before_index)):\n",
    "    train_change_index.append(change_before_index[i])\n",
    "len(train_change_index)"
   ]
  },
  {
   "cell_type": "code",
   "execution_count": 7,
   "metadata": {},
   "outputs": [
    {
     "data": {
      "text/plain": [
       "((194241,), (138533,))"
      ]
     },
     "execution_count": 7,
     "metadata": {},
     "output_type": "execute_result"
    }
   ],
   "source": [
    "Y_train = np.delete(Y_train, train_change_index, axis=0)\n",
    "Y_train.shape, Y_train[(Y_train == 1) | (Y_train == 5) | (Y_train == 6) | (Y_train == 7) | (Y_train == 8)].shape"
   ]
  },
  {
   "cell_type": "code",
   "execution_count": 8,
   "metadata": {},
   "outputs": [
    {
     "name": "stderr",
     "output_type": "stream",
     "text": [
      "100%|████████████████████████████████████████████████████████████████████████████████████| 14337/14337 [00:00<?, ?it/s]\n"
     ]
    },
    {
     "data": {
      "text/plain": [
       "106"
      ]
     },
     "execution_count": 8,
     "metadata": {},
     "output_type": "execute_result"
    }
   ],
   "source": [
    "val_change_index = []\n",
    "for i in tqdm(range(len(Y_val)-1)):\n",
    "    if Y_val[i] != Y_val[i+1]:\n",
    "        val_change_index.append(i+1)\n",
    "        \n",
    "change_before_index = []\n",
    "for i in range(len(val_change_index)):\n",
    "    change_before_index.append(val_change_index[i] - 1)\n",
    "    \n",
    "for i in range(len(change_before_index)):\n",
    "    val_change_index.append(change_before_index[i])\n",
    "len(val_change_index)"
   ]
  },
  {
   "cell_type": "code",
   "execution_count": 9,
   "metadata": {},
   "outputs": [
    {
     "data": {
      "text/plain": [
       "((14232,), (10207,))"
      ]
     },
     "execution_count": 9,
     "metadata": {},
     "output_type": "execute_result"
    }
   ],
   "source": [
    "Y_val = np.delete(Y_val, val_change_index, axis=0)\n",
    "Y_val.shape, Y_val[(Y_val == 1) | (Y_val == 5) | (Y_val == 6) | (Y_val == 7) | (Y_val == 8)].shape"
   ]
  },
  {
   "cell_type": "code",
   "execution_count": 10,
   "metadata": {},
   "outputs": [],
   "source": [
    "def load_npy(hold_position):\n",
    "    mag = np.delete(np.load(\"../Output/train/train_\" + hold_position + \"/train_\" + hold_position + \"_glo_mag_norm_spectram_axis1_2.npy\"), train_change_index, 0)#[:, :40, :]\n",
    "#     mag = mag[(Y_train.reshape([-1]) == 1) | (Y_train.reshape([-1]) >= 4)]\n",
    "    return mag"
   ]
  },
  {
   "cell_type": "code",
   "execution_count": 11,
   "metadata": {},
   "outputs": [
    {
     "data": {
      "text/plain": [
       "(138533, 41, 43, 1)"
      ]
     },
     "execution_count": 11,
     "metadata": {},
     "output_type": "execute_result"
    }
   ],
   "source": [
    "train_Hips = load_npy(\"Hips\")\n",
    "# train_Hips, X_val1 = train_test_split(train_Hips, test_size=0.2, shuffle=False)\n",
    "X_train1 = train_Hips[(Y_train == 1) | (Y_train == 5) | (Y_train == 6) | (Y_train == 7) | (Y_train == 8)]\n",
    "X_train1 = X_train1.reshape([-1, X_train1.shape[1], X_train1.shape[2], 1])\n",
    "\n",
    "X_train1.shape"
   ]
  },
  {
   "cell_type": "code",
   "execution_count": 12,
   "metadata": {},
   "outputs": [
    {
     "data": {
      "text/plain": [
       "(10207, 41, 43, 1)"
      ]
     },
     "execution_count": 12,
     "metadata": {},
     "output_type": "execute_result"
    }
   ],
   "source": [
    "def load_npy(hold_position):\n",
    "    mag = np.load(\"../Output/validation/validation_\" + hold_position + \"/validation_\" + hold_position + \"_glo_mag_norm_spectram_axis1_2.npy\")#[:, :40, :]\n",
    "    return mag\n",
    "\n",
    "train_Hips = np.delete(load_npy(\"Hips\")[pattern_file == 1], val_change_index, axis=0)\n",
    "\n",
    "X_val1 = train_Hips[(Y_val == 1) | (Y_val == 5) | (Y_val == 6) | (Y_val == 7) | (Y_val == 8)]\n",
    "X_val1 = X_val1.reshape([-1, X_val1.shape[1], X_val1.shape[2], 1])\n",
    "\n",
    "X_val1.shape"
   ]
  },
  {
   "cell_type": "code",
   "execution_count": 13,
   "metadata": {},
   "outputs": [],
   "source": [
    "del train_Hips"
   ]
  },
  {
   "cell_type": "code",
   "execution_count": null,
   "metadata": {},
   "outputs": [],
   "source": [
    "train_Bag = load_npy(\"Bag\")\n",
    "train_Hips = load_npy(\"Hips\")\n",
    "train_Torso = load_npy(\"Torso\")\n",
    "train_Hand = load_npy(\"Hand\")\n",
    "\n",
    "train_Hand.shape"
   ]
  },
  {
   "cell_type": "code",
   "execution_count": null,
   "metadata": {},
   "outputs": [],
   "source": [
    "# train_Hips, X_val1 = train_test_split(train_Hips, test_size=0.2, shuffle=False)\n",
    "X_val1 = train_Hips[(Y_train == 1) | (Y_train == 5) | (Y_train == 6) | (Y_train == 7) | (Y_train == 8)]\n",
    "X_val1 = X_val1.reshape([-1, X_val1.shape[1], X_val1.shape[2], 1])\n",
    "\n",
    "X_val1.shape"
   ]
  },
  {
   "cell_type": "code",
   "execution_count": null,
   "metadata": {},
   "outputs": [],
   "source": [
    "X_train1 = train_Hips[(Y_train == 1) | (Y_train == 5) | (Y_train == 6) | (Y_train == 7) | (Y_train == 8)]\n",
    "X_train1.shape"
   ]
  },
  {
   "cell_type": "code",
   "execution_count": null,
   "metadata": {},
   "outputs": [],
   "source": [
    "# X_train1 = np.concatenate([train_Bag[(Y_train == 1) | (Y_train == 5) | (Y_train == 6) | (Y_train == 7) | (Y_train == 8)],\\\n",
    "#                           train_Hips, \\\n",
    "#                           train_Torso[(Y_train == 1) | (Y_train == 5) | (Y_train == 6) | (Y_train == 7) | (Y_train == 8)],\\\n",
    "#                           train_Hand[(Y_train == 1) | (Y_train == 6) | (Y_train == 7) | (Y_train == 8)]], axis=0)\n",
    "\n",
    "X_train1 = np.concatenate([train_Bag[(Y_train == 1) | (Y_train == 5) | (Y_train == 6) | (Y_train == 7) | (Y_train == 8)],\\\n",
    "                          train_Torso[(Y_train == 1) | (Y_train == 5) | (Y_train == 6) | (Y_train == 7) | (Y_train == 8)],\\\n",
    "                          train_Hand[(Y_train == 1) | (Y_train == 6) | (Y_train == 7) | (Y_train == 8)]], axis=0)\n",
    "X_train1.shape"
   ]
  },
  {
   "cell_type": "code",
   "execution_count": null,
   "metadata": {},
   "outputs": [],
   "source": [
    "del train_Bag, train_Hips, train_Torso, train_Hand"
   ]
  },
  {
   "cell_type": "code",
   "execution_count": null,
   "metadata": {},
   "outputs": [],
   "source": [
    "X_train1 = X_train1.reshape([-1, X_train1.shape[1], X_train1.shape[2], 1])\n",
    "\n",
    "X_train1.shape"
   ]
  },
  {
   "cell_type": "code",
   "execution_count": 14,
   "metadata": {},
   "outputs": [],
   "source": [
    "def load_npy(hold_position):\n",
    "    lacc = np.delete(np.load(\"../Output/train/train_\" + hold_position + \"/train_\" + hold_position + \"_glo_lacc_norm_spectram_axis1_2.npy\"), train_change_index, 0)#[:, :64, :]\n",
    "#     lacc = lacc[(Y_train.reshape([-1]) == 1) | (Y_train.reshape([-1]) >= 4)]\n",
    "    return lacc"
   ]
  },
  {
   "cell_type": "code",
   "execution_count": 15,
   "metadata": {},
   "outputs": [
    {
     "data": {
      "text/plain": [
       "(138533, 41, 43, 1)"
      ]
     },
     "execution_count": 15,
     "metadata": {},
     "output_type": "execute_result"
    }
   ],
   "source": [
    "train_Hips = load_npy(\"Hips\")\n",
    "# train_Hips, X_val1 = train_test_split(train_Hips, test_size=0.2, shuffle=False)\n",
    "X_train2 = train_Hips[(Y_train == 1) | (Y_train == 5) | (Y_train == 6) | (Y_train == 7) | (Y_train == 8)]\n",
    "X_train2 = X_train2.reshape([-1, X_train2.shape[1], X_train2.shape[2], 1])\n",
    "\n",
    "X_train2.shape"
   ]
  },
  {
   "cell_type": "code",
   "execution_count": 16,
   "metadata": {},
   "outputs": [
    {
     "data": {
      "text/plain": [
       "(10207, 41, 43, 1)"
      ]
     },
     "execution_count": 16,
     "metadata": {},
     "output_type": "execute_result"
    }
   ],
   "source": [
    "def load_npy(hold_position):\n",
    "    lacc = np.load(\"../Output/validation/validation_\" + hold_position + \"/validation_\" + hold_position + \"_glo_lacc_norm_spectram_axis1_2.npy\")#[:, :64, :]\n",
    "#     lacc = lacc[(Y_train.reshape([-1]) == 1) | (Y_train.reshape([-1]) >= 4)]\n",
    "    return lacc\n",
    "\n",
    "train_Hips = np.delete(load_npy(\"Hips\")[pattern_file == 1], val_change_index, axis=0)\n",
    "X_val2 = train_Hips[(Y_val == 1) | (Y_val == 5) | (Y_val == 6) | (Y_val == 7) | (Y_val == 8)]\n",
    "X_val2 = X_val2.reshape([-1, X_val2.shape[1], X_val2.shape[2], 1])\n",
    "\n",
    "X_val2.shape"
   ]
  },
  {
   "cell_type": "code",
   "execution_count": 17,
   "metadata": {},
   "outputs": [],
   "source": [
    "del train_Hips"
   ]
  },
  {
   "cell_type": "code",
   "execution_count": null,
   "metadata": {},
   "outputs": [],
   "source": [
    "train_Bag = load_npy(\"Bag\")\n",
    "train_Hips = load_npy(\"Hips\")\n",
    "train_Torso = load_npy(\"Torso\")\n",
    "train_Hand = load_npy(\"Hand\")\n",
    "\n",
    "train_Hand.shape"
   ]
  },
  {
   "cell_type": "code",
   "execution_count": null,
   "metadata": {},
   "outputs": [],
   "source": [
    "# train_Hips, X_val2 = train_test_split(train_Hips, test_size=0.2, shuffle=False)\n",
    "X_val2 = train_Hips[(Y_train == 1) | (Y_train == 5) | (Y_train == 6) | (Y_train == 7) | (Y_train == 8)]\n",
    "X_val2 = X_val2.reshape([-1, X_val2.shape[1], X_val2.shape[2], 1])\n",
    "\n",
    "X_val2.shape"
   ]
  },
  {
   "cell_type": "code",
   "execution_count": null,
   "metadata": {},
   "outputs": [],
   "source": [
    "# X_train2 = np.concatenate([train_Bag[(Y_train == 1) | (Y_train == 5) | (Y_train == 6) | (Y_train == 7) | (Y_train == 8)],\\\n",
    "#                           train_Hips, \\\n",
    "#                           train_Torso[(Y_train == 1) | (Y_train == 5) | (Y_train == 6) | (Y_train == 7) | (Y_train == 8)],\\\n",
    "#                           train_Hand[(Y_train == 1) | (Y_train == 6) | (Y_train == 7) | (Y_train == 8)]], axis=0)\n",
    "\n",
    "X_train2 = np.concatenate([train_Bag[(Y_train == 1) | (Y_train == 5) | (Y_train == 6) | (Y_train == 7) | (Y_train == 8)],\\\n",
    "                          train_Torso[(Y_train == 1) | (Y_train == 5) | (Y_train == 6) | (Y_train == 7) | (Y_train == 8)],\\\n",
    "                          train_Hand[(Y_train == 1) | (Y_train == 6) | (Y_train == 7) | (Y_train == 8)]], axis=0)\n",
    "X_train2.shape"
   ]
  },
  {
   "cell_type": "code",
   "execution_count": null,
   "metadata": {},
   "outputs": [],
   "source": [
    "del train_Bag, train_Hips, train_Torso, train_Hand"
   ]
  },
  {
   "cell_type": "code",
   "execution_count": null,
   "metadata": {},
   "outputs": [],
   "source": [
    "X_train2 = X_train2.reshape([-1, X_train2.shape[1], X_train2.shape[2], 1])\n",
    "\n",
    "X_train2.shape"
   ]
  },
  {
   "cell_type": "code",
   "execution_count": 18,
   "metadata": {},
   "outputs": [],
   "source": [
    "def load_npy(hold_position):\n",
    "    gyr = np.delete(np.load(\"../Output/train/train_\" + hold_position + \"/train_\" + hold_position + \"_glo_gyr_norm_spectram_axis1_2.npy\"), train_change_index, 0)#[:, :64, :]\n",
    "#     gyr = gyr[(Y_train.reshape([-1]) == 1) | (Y_train.reshape([-1]) >= 4)]\n",
    "    return gyr"
   ]
  },
  {
   "cell_type": "code",
   "execution_count": 19,
   "metadata": {},
   "outputs": [
    {
     "data": {
      "text/plain": [
       "(138533, 41, 43, 1)"
      ]
     },
     "execution_count": 19,
     "metadata": {},
     "output_type": "execute_result"
    }
   ],
   "source": [
    "train_Hips = load_npy(\"Hips\")\n",
    "# train_Hips, X_val1 = train_test_split(train_Hips, test_size=0.2, shuffle=False)\n",
    "X_train3 = train_Hips[(Y_train == 1) | (Y_train == 5) | (Y_train == 6) | (Y_train == 7) | (Y_train == 8)]\n",
    "X_train3 = X_train3.reshape([-1, X_train3.shape[1], X_train3.shape[2], 1])\n",
    "\n",
    "X_train3.shape"
   ]
  },
  {
   "cell_type": "code",
   "execution_count": 20,
   "metadata": {},
   "outputs": [
    {
     "data": {
      "text/plain": [
       "(10207, 41, 43, 1)"
      ]
     },
     "execution_count": 20,
     "metadata": {},
     "output_type": "execute_result"
    }
   ],
   "source": [
    "def load_npy(hold_position):\n",
    "    gyr = np.load(\"../Output/validation/validation_\" + hold_position + \"/validation_\" + hold_position + \"_glo_gyr_norm_spectram_axis1_2.npy\")#[:, :64, :]\n",
    "#     gyr = gyr[(Y_train.reshape([-1]) == 1) | (Y_train.reshape([-1]) >= 4)]\n",
    "    return gyr\n",
    "\n",
    "train_Hips = np.delete(load_npy(\"Hips\")[pattern_file == 1], val_change_index, axis=0)\n",
    "X_val3 = train_Hips[(Y_val == 1) | (Y_val == 5) | (Y_val == 6) | (Y_val == 7) | (Y_val == 8)]\n",
    "X_val3 = X_val3.reshape([-1, X_val3.shape[1], X_val3.shape[2], 1])\n",
    "\n",
    "X_val3.shape"
   ]
  },
  {
   "cell_type": "code",
   "execution_count": 21,
   "metadata": {},
   "outputs": [],
   "source": [
    "del train_Hips"
   ]
  },
  {
   "cell_type": "code",
   "execution_count": null,
   "metadata": {},
   "outputs": [],
   "source": [
    "train_Bag = load_npy(\"Bag\")\n",
    "train_Hips = load_npy(\"Hips\")\n",
    "train_Torso = load_npy(\"Torso\")\n",
    "train_Hand = load_npy(\"Hand\")\n",
    "\n",
    "train_Hand.shape"
   ]
  },
  {
   "cell_type": "code",
   "execution_count": null,
   "metadata": {},
   "outputs": [],
   "source": [
    "# train_Hips, X_val3 = train_test_split(train_Hips, test_size=0.2, shuffle=False)\n",
    "X_val3 = train_Hips[(Y_train == 1) | (Y_train == 5) | (Y_train == 6) | (Y_train == 7) | (Y_train == 8)]\n",
    "X_val3 = X_val3.reshape([-1, X_val3.shape[1], X_val3.shape[2], 1])\n",
    "\n",
    "X_val3.shape"
   ]
  },
  {
   "cell_type": "code",
   "execution_count": null,
   "metadata": {},
   "outputs": [],
   "source": [
    "# X_train3 = np.concatenate([train_Bag[(Y_train == 1) | (Y_train == 5) | (Y_train == 6) | (Y_train == 7) | (Y_train == 8)],\\\n",
    "#                           train_Hips, \\\n",
    "#                           train_Torso[(Y_train == 1) | (Y_train == 5) | (Y_train == 6) | (Y_train == 7) | (Y_train == 8)],\\\n",
    "#                           train_Hand[(Y_train == 1) | (Y_train == 6) | (Y_train == 7) | (Y_train == 8)]], axis=0)\n",
    "\n",
    "X_train3 = np.concatenate([train_Bag[(Y_train == 1) | (Y_train == 5) | (Y_train == 6) | (Y_train == 7) | (Y_train == 8)],\\\n",
    "                          train_Torso[(Y_train == 1) | (Y_train == 5) | (Y_train == 6) | (Y_train == 7) | (Y_train == 8)],\\\n",
    "                          train_Hand[(Y_train == 1) | (Y_train == 6) | (Y_train == 7) | (Y_train == 8)]], axis=0)\n",
    "X_train3.shape"
   ]
  },
  {
   "cell_type": "code",
   "execution_count": null,
   "metadata": {},
   "outputs": [],
   "source": [
    "del train_Bag, train_Hips, train_Torso, train_Hand"
   ]
  },
  {
   "cell_type": "code",
   "execution_count": null,
   "metadata": {},
   "outputs": [],
   "source": [
    "X_train3 = X_train3.reshape([-1, X_train3.shape[1], X_train3.shape[2], 1])\n",
    "\n",
    "X_train3.shape"
   ]
  },
  {
   "cell_type": "code",
   "execution_count": null,
   "metadata": {},
   "outputs": [],
   "source": [
    "# Y_train = np.concatenate([Y_train, Y_train, Y_train, Y_train], axis=0).reshape([-1, 1])\n",
    "# Y_train.shape"
   ]
  },
  {
   "cell_type": "code",
   "execution_count": null,
   "metadata": {},
   "outputs": [],
   "source": [
    "# Y_train = Y_train[(Y_train.reshape([-1]) == 1) | (Y_train.reshape([-1]) >= 4)]\n",
    "# Y_train.shape"
   ]
  },
  {
   "cell_type": "code",
   "execution_count": null,
   "metadata": {},
   "outputs": [],
   "source": [
    "Y_train[Y_train == 1].shape, Y_train[Y_train == 5].shape, Y_train[Y_train == 6].shape, Y_train[Y_train == 7].shape, Y_train[Y_train == 8].shape"
   ]
  },
  {
   "cell_type": "code",
   "execution_count": null,
   "metadata": {},
   "outputs": [],
   "source": [
    "# y_train, Y_val = train_test_split(Y_train, test_size=0.2, shuffle=False)\n",
    "# print(Y_train.shape, y_train.shape, Y_val.shape)\n",
    "\n",
    "Y_val = Y_train[(Y_train == 1) | (Y_train == 5) | (Y_train == 6) | (Y_train == 7) | (Y_train == 8)]\n",
    "\n",
    "# Y_train = np.concatenate([Y_train[(Y_train == 1) | (Y_train == 5) | (Y_train == 6) | (Y_train == 7) | (Y_train == 8)],\\\n",
    "#                           y_train, \\\n",
    "#                           Y_train[(Y_train == 1) | (Y_train == 5) | (Y_train == 6) | (Y_train == 7) | (Y_train == 8)], \\\n",
    "#                           Y_train[(Y_train == 1) | (Y_train == 6) | (Y_train == 7) | (Y_train == 8)]], axis=0)\n",
    "\n",
    "Y_train = np.concatenate([Y_train[(Y_train == 1) | (Y_train == 5) | (Y_train == 6) | (Y_train == 7) | (Y_train == 8)],\\\n",
    "                          Y_train[(Y_train == 1) | (Y_train == 5) | (Y_train == 6) | (Y_train == 7) | (Y_train == 8)], \\\n",
    "                          Y_train[(Y_train == 1) | (Y_train == 6) | (Y_train == 7) | (Y_train == 8)]], axis=0)\n",
    "\n",
    "Y_train.shape, Y_val.shape"
   ]
  },
  {
   "cell_type": "code",
   "execution_count": 22,
   "metadata": {},
   "outputs": [
    {
     "data": {
      "text/plain": [
       "(138533,)"
      ]
     },
     "execution_count": 22,
     "metadata": {},
     "output_type": "execute_result"
    }
   ],
   "source": [
    "Y_train = Y_train[(Y_train == 1) | (Y_train == 5) | (Y_train == 6) | (Y_train == 7) | (Y_train == 8)]\n",
    "Y_train.shape"
   ]
  },
  {
   "cell_type": "code",
   "execution_count": 23,
   "metadata": {},
   "outputs": [
    {
     "data": {
      "text/plain": [
       "(10207,)"
      ]
     },
     "execution_count": 23,
     "metadata": {},
     "output_type": "execute_result"
    }
   ],
   "source": [
    "Y_val = Y_val[(Y_val == 1) | (Y_val == 5) | (Y_val == 6) | (Y_val == 7) | (Y_val == 8)]\n",
    "Y_val.shape"
   ]
  },
  {
   "cell_type": "code",
   "execution_count": 24,
   "metadata": {},
   "outputs": [
    {
     "data": {
      "text/plain": [
       "array([0., 1., 2., 3., 4.])"
      ]
     },
     "execution_count": 24,
     "metadata": {},
     "output_type": "execute_result"
    }
   ],
   "source": [
    "# Y_train[Y_train.reshape([-1]) == 1] = 0\n",
    "# Y_train[Y_train.reshape([-1]) >= 4] = Y_train[Y_train.reshape([-1]) >= 4] - 3\n",
    "\n",
    "Y_train = Y_train - 1\n",
    "Y_train[Y_train >= 4] -= 3\n",
    "np.unique(Y_train)"
   ]
  },
  {
   "cell_type": "code",
   "execution_count": 25,
   "metadata": {},
   "outputs": [
    {
     "data": {
      "text/plain": [
       "array([0., 1., 2., 3., 4.])"
      ]
     },
     "execution_count": 25,
     "metadata": {},
     "output_type": "execute_result"
    }
   ],
   "source": [
    "Y_val = Y_val - 1\n",
    "Y_val[Y_val >= 4] -= 3\n",
    "np.unique(Y_val)"
   ]
  },
  {
   "cell_type": "code",
   "execution_count": null,
   "metadata": {},
   "outputs": [],
   "source": [
    "# x_train1, x_test1, y_train, y_test = train_test_split(X_train1, Y_train, test_size=0.3, shuffle=False)\n",
    "# del X_train1, Y_train\n",
    "\n",
    "# x_train2, x_test2 = train_test_split(X_train2, test_size=0.3, shuffle=False)\n",
    "# del X_train2\n",
    "\n",
    "# x_train3, x_test3 = train_test_split(X_train3, test_size=0.3, shuffle=False)\n",
    "# del X_train3\n",
    "\n",
    "# x_train1.shape, x_test1.shape"
   ]
  },
  {
   "cell_type": "code",
   "execution_count": null,
   "metadata": {},
   "outputs": [],
   "source": [
    "def BuildModel(input_shape):\n",
    "    input1 = layers.Input(shape=input_shape)\n",
    "    x = layers.Conv2D(64, (3, 3), padding='valid', activation='relu', kernel_initializer=he_normal())(input1)\n",
    "    x = layers.Conv2D(32, (3, 3), padding='same', activation='relu')(x)\n",
    "    x = layers.MaxPooling2D((2, 2))(x)\n",
    "    x = layers.BatchNormalization()(x)\n",
    "    x = layers.Conv2D(64, (3, 3), padding='same', activation='relu')(x)\n",
    "    x = layers.Conv2D(32, (3, 3), padding='same', activation='relu')(x)\n",
    "    x = layers.MaxPooling2D((2, 2))(x)\n",
    "    x = layers.Dropout(0.2)(x)\n",
    "    x = layers.Conv2D(64, (3, 3), padding='same', activation='relu')(x)\n",
    "    x = layers.Conv2D(32, (3, 3), padding='same', activation='relu')(x)\n",
    "    x = layers.MaxPooling2D((2, 2))(x)\n",
    "    x = layers.BatchNormalization()(x)\n",
    "    x = layers.Flatten()(x)\n",
    "    x = layers.Dense(128, activation='relu')(x)\n",
    "    x = layers.BatchNormalization()(x)\n",
    "    x = layers.Dense(32, activation='relu')(x)\n",
    "    x = models.Model(inputs=input1, outputs=x)\n",
    "    return x"
   ]
  },
  {
   "cell_type": "code",
   "execution_count": null,
   "metadata": {},
   "outputs": [],
   "source": [
    "def BuildModel2(input_shape):\n",
    "    input1 = layers.Input(shape=input_shape)\n",
    "    x = layers.Conv2D(64, (3, 3), padding='valid', activation='relu', kernel_initializer=he_normal())(input1)\n",
    "    x = layers.Conv2D(32, (3, 3), padding='same', activation='relu')(x)\n",
    "    x = layers.MaxPooling2D((2, 2))(x)\n",
    "    x = layers.BatchNormalization()(x)\n",
    "    x = layers.Conv2D(64, (3, 3), padding='same', activation='relu')(x)\n",
    "    x = layers.Conv2D(32, (3, 3), padding='same', activation='relu')(x)\n",
    "    x = layers.MaxPooling2D((2, 2))(x)\n",
    "    x = layers.Dropout(0.2)(x)\n",
    "    x = layers.Conv2D(64, (3, 3), padding='same', activation='relu')(x)\n",
    "    x = layers.Conv2D(32, (3, 3), padding='same', activation='relu')(x)\n",
    "    x = layers.MaxPooling2D((2, 2))(x)\n",
    "    x = layers.BatchNormalization()(x)\n",
    "    x = layers.Conv2D(64, (3, 3), padding='same', activation='relu')(x)\n",
    "    x = layers.Conv2D(32, (3, 3), padding='same', activation='relu')(x)\n",
    "    x = layers.MaxPooling2D((2, 1))(x)\n",
    "    x = layers.Dropout(0.2)(x)\n",
    "    x = layers.Flatten()(x)\n",
    "    x = layers.Dense(128, activation='relu')(x)\n",
    "    x = layers.BatchNormalization()(x)\n",
    "    x = layers.Dense(32, activation='relu')(x)\n",
    "    x = models.Model(inputs=input1, outputs=x)\n",
    "    return x"
   ]
  },
  {
   "cell_type": "code",
   "execution_count": null,
   "metadata": {
    "scrolled": true
   },
   "outputs": [],
   "source": [
    "x1 = BuildModel2(X_train1[0].shape)\n",
    "x2 = BuildModel2(X_train2[0].shape)\n",
    "x3 = BuildModel2(X_train3[0].shape)\n",
    "\n",
    "combined = layers.concatenate([x1.output, x2.output, x3.output])\n",
    "\n",
    "z = layers.Dense(64, activation='relu')(combined)\n",
    "z = layers.Dense(16, activation='relu')(z)\n",
    "z = layers.Dense(5, activation='softmax')(z)\n",
    "\n",
    "model = models.Model(inputs=[x1.input, x2.input, x3.input], outputs=z)\n",
    "model.compile(optimizer=tf.keras.optimizers.Adam(0.01),\n",
    "              loss='sparse_categorical_crossentropy',\n",
    "              metrics=['accuracy'])\n",
    "model.summary()"
   ]
  },
  {
   "cell_type": "code",
   "execution_count": null,
   "metadata": {},
   "outputs": [],
   "source": [
    "plot_model(model, show_shapes=True, show_layer_names=False)"
   ]
  },
  {
   "cell_type": "code",
   "execution_count": null,
   "metadata": {},
   "outputs": [],
   "source": [
    "class_weights = [1.304315629242605,\n",
    " 1.299237767396115,\n",
    " 3.763086053412463,\n",
    " 1.3542930371636053,\n",
    " 1.0,\n",
    " 1.1219080646873563,\n",
    " 1.0162841389921784,\n",
    " 1.3327728266352783]"
   ]
  },
  {
   "cell_type": "code",
   "execution_count": null,
   "metadata": {},
   "outputs": [],
   "source": [
    "X_train1, X_val1 = train_test_split(X_val1, test_size=0.3, shuffle=False)\n",
    "X_train2, X_val2 = train_test_split(X_val2, test_size=0.3, shuffle=False)\n",
    "X_train3, X_val3 = train_test_split(X_val3, test_size=0.3, shuffle=False)\n",
    "Y_train, Y_val = train_test_split(Y_val, test_size=0.3, shuffle=False)\n",
    "\n",
    "X_train1.shape, X_train2.shape, X_train3.shape, X_val1.shape, X_val2.shape, X_val3.shape, Y_train.shape, Y_val.shape"
   ]
  },
  {
   "cell_type": "code",
   "execution_count": null,
   "metadata": {
    "scrolled": true
   },
   "outputs": [],
   "source": [
    "# model = tf.keras.models.load_model(\"../Output/CheckPoint/mag_norm/model0603_19-0.84-0.66-1.05-0.58.hdf5\")\n",
    "# model.summary()"
   ]
  },
  {
   "cell_type": "code",
   "execution_count": null,
   "metadata": {
    "scrolled": true
   },
   "outputs": [],
   "source": [
    "model = tf.keras.Sequential()\n",
    "# model.add(layers.Flatten())\n",
    "model.add(layers.Conv2D(64, (3, 3), padding='valid', activation='relu', input_shape=(X_train1.shape[1], X_train1.shape[2], 1), kernel_initializer=he_normal()))\n",
    "model.add(layers.Conv2D(32, (3, 3), padding='same', activation='relu'))\n",
    "model.add(layers.MaxPooling2D((2, 2)))\n",
    "model.add(layers.BatchNormalization())\n",
    "model.add(layers.Conv2D(64, (3, 3), padding='same', activation='relu'))\n",
    "model.add(layers.Conv2D(32, (3, 3), padding='same', activation='relu'))\n",
    "model.add(layers.MaxPooling2D((2, 2)))\n",
    "model.add(layers.Dropout(0.2))\n",
    "model.add(layers.Conv2D(64, (3, 3), padding='same', activation='relu'))\n",
    "model.add(layers.Conv2D(32, (3, 3), padding='same', activation='relu'))\n",
    "model.add(layers.MaxPooling2D((2, 2)))\n",
    "model.add(layers.BatchNormalization())\n",
    "model.add(layers.Flatten())\n",
    "model.add(layers.Dense(256, activation='relu'))\n",
    "model.add(layers.Dense(64, activation='relu'))\n",
    "model.add(layers.BatchNormalization())\n",
    "model.add(layers.Dense(16, activation='relu'))\n",
    "model.add(layers.Dense(5, activation='softmax'))\n",
    "model.compile(optimizer=tf.keras.optimizers.Adam(0.01),\n",
    "              loss='sparse_categorical_crossentropy',\n",
    "              metrics=['accuracy'])\n",
    "model.summary()"
   ]
  },
  {
   "cell_type": "code",
   "execution_count": null,
   "metadata": {
    "scrolled": true
   },
   "outputs": [],
   "source": [
    "cp_cb = tf.keras.callbacks.ModelCheckpoint(filepath=\"../Output/CheckPoint/mag_norm/model0605_{epoch:02d}-{loss:.2f}-{accuracy:.2f}-{val_loss:.2f}-{val_accuracy:.2f}.hdf5\", \n",
    "                                           monitor='val_loss', verbose=0, save_best_only=True, mode='auto')\n",
    "es_cb = tf.keras.callbacks.EarlyStopping(monitor='val_loss', patience=30, verbose=0, mode='auto')\n",
    "history = model.fit(X_train1, Y_train, epochs=256, batch_size=512, validation_data=(X_val1, Y_val), callbacks=[cp_cb, es_cb])"
   ]
  },
  {
   "cell_type": "code",
   "execution_count": null,
   "metadata": {},
   "outputs": [],
   "source": [
    "model = tf.keras.models.load_model(\"../Output/CheckPoint/mag_norm/model0608_15-1.20-0.49-1.44-0.37.hdf5\")"
   ]
  },
  {
   "cell_type": "code",
   "execution_count": 27,
   "metadata": {
    "scrolled": true
   },
   "outputs": [
    {
     "name": "stdout",
     "output_type": "stream",
     "text": [
      "Train on 138533 samples, validate on 10207 samples\n",
      "Epoch 1/256\n",
      "138533/138533 [==============================] - 57s 412us/sample - loss: 1.2000 - accuracy: 0.4929 - val_loss: 1.3171 - val_accuracy: 0.4767 1:16 - loss: 1.2610 - accuracy: 0.46 - ETA: 1:14 - loss: 1.2595 - accuracy:  - ETA: 1:11  - ETA: 55s - loss: 1.2448 - accuracy: 0 - - ETA: 37s - l - ETA: 29s - loss: 1.2155 - accuracy: 0 - ETA: 28s - loss: 1.2152 - a - ETA: 25s - loss: 1.2141 - accura - ETA: 22s - loss: 1.21 - ETA: 18s - loss: 1.2111 - accuracy: - ETA: 16s - loss: 1.2102 - accuracy:  - ETA: 15 - ETA: 9s - loss: 1.2054 - accuracy:  - ETA: 8s - l - ETA: 5s - loss: 1.2035 - ac - ETA: 4s - loss: - ETA: 1s - loss: 1.2008 - accura - ETA: 0s - loss: 1.2003 - accuracy: 0. - ETA: 0s - loss: 1.2000 - accuracy: 0.49\n",
      "Epoch 2/256\n",
      "138533/138533 [==============================] - 53s 379us/sample - loss: 1.1599 - accuracy: 0.5124 - val_loss: 1.2982 - val_accuracy: 0.4740- loss: 1.1669 - accuracy: 0 - ETA: 45s - loss: 1.1660 - accuracy: 0.5 - ETA: 44s - loss: 1.1657 - accuracy: 0.5 - ETA: 44s - loss: 1.1649 - accuracy: 0 - ETA: 43s - loss: 1.1610 - accur - ETA: 41s - loss: 1.1592 - accuracy: 0 - ETA: 40s - loss: 1.1587 - accuracy: 0.5 - ETA: 39s - loss: 1.1591 - accura - ETA: 38s - loss: 1.1618 - accuracy: 0. - ETA: 37s - loss: 1.1618 - accuracy: 0. - ETA: 36s - loss: 1.1621  - ETA: 33s - loss: 1.1617 - accuracy: 0.5 - ETA: 24s - loss: 1.1571 - accuracy - ETA: 22s - loss: 1.1572 - accuracy: 0.511 - ETA: 22s - loss: 1.1578 - accuracy: 0.51 - ETA: 22s - loss: 1.1582 - accuracy - ETA: 20s - loss: 1.1 - ETA: 16s - loss: 1.1592 - accuracy: 0. - ETA: 15s  - ETA: 9s - loss: 1.1606 - accuracy: 0 - ETA: 9s - los - - ETA: 2s - loss: 1.1608 - accuracy - ETA: 1s - loss: 1.1\n",
      "Epoch 3/256\n",
      "138533/138533 [==============================] - 54s 388us/sample - loss: 1.1420 - accuracy: 0.5202 - val_loss: 1.5118 - val_accuracy: 0.4144- accurac - ETA: 41s - loss: 1.1348  - ETA: 38s - loss: 1.1343 - accur - ETA: 35s - loss: 1.1347 - accuracy: 0.5 - ETA: 35s - loss: 1.1346 - accuracy: - ETA: 34s - loss: 1.1350 - accuracy: 0. - ETA: 33s - loss: 1.1360 - accurac - ETA: 31s - loss: 1.1360 - accuracy: 0.523 - ETA: 31s\n",
      "Epoch 4/256\n",
      "138533/138533 [==============================] - 54s 389us/sample - loss: 1.1283 - accuracy: 0.5278 - val_loss: 1.3627 - val_accuracy: 0.4681\n",
      "Epoch 5/256\n",
      "138533/138533 [==============================] - 54s 389us/sample - loss: 1.1152 - accuracy: 0.5345 - val_loss: 1.4336 - val_accuracy: 0.4385 loss: 1.1117 - accuracy:  - ET - ETA: 32s - loss: 1.1098  - ETA: 29s - loss: 1.10\n",
      "Epoch 6/256\n",
      "138533/138533 [==============================] - 54s 389us/sample - loss: 1.1044 - accuracy: 0.5389 - val_loss: 1.4688 - val_accuracy: 0.3857oss: 1.0900 - accuracy: 0.54 - ETA: 44s - loss: 1.0910 - accuracy: 0 - ETA: 43s - loss: 1.0920 - accuracy:  - ETA: 42s - loss: 1.0919 - accurac - ETA: 40s - loss: 1.0916 - accura - ETA: 38s - loss: 1.0921 - accuracy - ETA: 36s - loss: 1.0928 - accu - ETA: 25s - loss: 1.0988 - accuracy: 0.54 - ETA: 25s -  - ETA: 19s  - ETA: 12s - loss: 1.100 - ETA: 9s - l - ETA: 6s - loss: 1\n",
      "Epoch 7/256\n",
      "138533/138533 [==============================] - 54s 388us/sample - loss: 1.0931 - accuracy: 0.5445 - val_loss: 1.4905 - val_accuracy: 0.4484- accuracy:  - ETA: 16 - ETA: 5s - loss: 1.0 - ETA: 3s - loss: 1.0927 - accura - ETA: 2s - loss:\n",
      "Epoch 8/256\n",
      "138533/138533 [==============================] - 54s 389us/sample - loss: 1.0834 - accuracy: 0.5485 - val_loss: 1.5300 - val_accuracy: 0.4052 45s - loss: 1.0707 - accuracy: 0.55 - ETA: 44s - loss: 1.0732 - - ETA:  - ETA: 17s - loss: 1.0812 - accurac - ETA: 15s - loss: 1.0816  - ETA: 11s - loss: - ETA: 8s - loss: 1.0819 - accuracy - ETA: 7s - loss: 1.0819  - ETA: 5s - loss: 1.0817  -\n",
      "Epoch 9/256\n",
      "138533/138533 [==============================] - 54s 388us/sample - loss: 1.0735 - accuracy: 0.5536 - val_loss: 1.3822 - val_accuracy: 0.4594 - ETA: 9s - los - ETA: 6s - loss: 1.0725 - accu - ETA: 1s - loss: 1.0734 - ac\n",
      "Epoch 10/256\n",
      "138533/138533 [==============================] - 54s 389us/sample - loss: 1.0655 - accuracy: 0.5565 - val_loss: 1.4647 - val_accuracy: 0.414532s - l - ETA: 27s - loss: 1.0624 - accuracy: 0. - ETA: 26s - loss: 1.0631 - accura - ETA: 24s - loss: 1.0643 - acc - ETA: 21s - loss:  - ETA: 17s - loss: 1.0639 - - ETA: 13s - loss: 1.0637 - accuracy: 0.5 - ETA: 7s - l\n",
      "Epoch 11/256\n",
      "138533/138533 [==============================] - 54s 389us/sample - loss: 1.0558 - accuracy: 0.5611 - val_loss: 1.4616 - val_accuracy: 0.4479s - loss: - ETA: 10s - loss: 1.0536  - ETA: 8s - loss: 1.0537  - ETA: 6s - loss: 1.0543 - accuracy: 0. - ETA:  - ETA: 2s - los\n",
      "Epoch 12/256\n",
      "138533/138533 [==============================] - 54s 389us/sample - loss: 1.0652 - accuracy: 0.5575 - val_loss: 1.5420 - val_accuracy: 0.3653s: 1.0650 - accuracy: 0.\n",
      "Epoch 13/256\n",
      "138533/138533 [==============================] - 54s 389us/sample - loss: 1.0430 - accuracy: 0.5668 - val_loss: 1.4047 - val_accuracy: 0.4611ETA: 41s - loss: 1.0336 - accuracy: - ETA: 40s - loss: 1.0332 - a - ETA: 37s - loss: 1.0356 - accuracy: 0.57 - ETA: 37s - loss: 1.03 - ETA: 32s - loss: 1.0373 -  - ETA: 29s - loss: 1.0383 -  - ETA: 26s - loss: 1.0400 - accur - ETA: 24s - loss: 1.0398 - accurac - ETA: 22s - loss: 1. - ETA: 18s - loss: 1.0405 - accuracy: 0.56 - ETA: 17s - loss: 1.0406 - accuracy: - ETA: 16s - loss: 1.0408 - accur - ETA: 14s - los - ETA: 9s - l - ETA - ETA: 2s - l\n",
      "Epoch 14/256\n",
      "138533/138533 [==============================] - 54s 389us/sample - loss: 1.0345 - accuracy: 0.5714 - val_loss: 1.4398 - val_accuracy: 0.45125s - loss: 1.0221 - accuracy: 0. - ETA: 44s - loss:  - ETA: 2s - l\n",
      "Epoch 15/256\n",
      "138533/138533 [==============================] - 54s 388us/sample - loss: 1.0270 - accuracy: 0.5752 - val_loss: 1.5421 - val_accuracy: 0.4232y: 0 - ETA: 43s - loss: 1.0218 - accuracy: 0.57 - ETA: 43s - loss: 1.0196 - accuracy: 0.579 - ETA: 43s - loss: 1.0195 - accur - ETA: 41s - loss: 1.0198 -  - ETA: 37s - loss: 1.0228 - accuracy:  - ETA: 28s - loss: 1.0253 - accuracy: - ETA: 26s - loss: 1.0255 - accur - ETA: 24s - loss: 1.0254 - accu - ETA: 22s - loss: 1.0255  - ETA: 18s - loss: 1.0257 - accuracy: 0.574 - ETA: 18s - loss: 1 - ETA: 13s - loss: 1.0265 - accuracy: - ETA: 12s - loss: 1.0261 - accurac - ETA: 10s - loss: 1.0269 - accurac - ETA: 9s - ETA: 6s - loss: 1.0265 -  - ETA: 4s - loss: 1.0270 - accuracy: 0.57 - ETA: 4s - loss: 1.0271 - accura - ETA: \n",
      "Epoch 16/256\n",
      "138533/138533 [==============================] - 54s 388us/sample - loss: 1.0218 - accuracy: 0.5780 - val_loss: 1.4621 - val_accuracy: 0.4239\n",
      "Epoch 17/256\n",
      "138533/138533 [==============================] - 54s 389us/sample - loss: 1.0124 - accuracy: 0.5812 - val_loss: 1.5027 - val_accuracy: 0.4505s: 1.0127 - accuracy: 0 - ETA: 43s - loss: 1.0149 - accuracy - ETA: 15s - E - ETA: 5s - loss: 1.0121 - accu\n",
      "Epoch 18/256\n",
      "138533/138533 [==============================] - 54s 389us/sample - loss: 1.0043 - accuracy: 0.5855 - val_loss: 1.4923 - val_accuracy: 0.4623: 1.0006 - accurac - ETA: 25s - loss: 0.9995 - acc - ETA: 22s - l - ETA: 16s - lo - E - ETA: 2s - loss: 1.003 - ETA: 0s - loss: 1.0042 - accuracy: 0.\n",
      "Epoch 19/256\n",
      "138533/138533 [==============================] - 54s 388us/sample - loss: 1.0008 - accuracy: 0.5859 - val_loss: 1.5068 - val_accuracy: 0.4521\n",
      "Epoch 20/256\n",
      "138533/138533 [==============================] - 54s 389us/sample - loss: 0.9966 - accuracy: 0.5888 - val_loss: 1.4479 - val_accuracy: 0.46506 - ETA: 29s - loss: 0.987 - ETA: 25s - loss: 0.9888 - ETA: 7s - loss: 0.9932 - ac - - ETA: 1s - loss: 0.995\n",
      "Epoch 21/256\n",
      "138533/138533 [==============================] - 54s 389us/sample - loss: 0.9890 - accuracy: 0.5909 - val_loss: 1.4504 - val_accuracy: 0.45210.9835 - ETA - ETA: 4s - loss: 0.9874 - accuracy: 0.59 - - ETA: 0s - loss: 0.9888 - accuracy: \n",
      "Epoch 22/256\n",
      "138533/138533 [==============================] - 54s 389us/sample - loss: 0.9846 - accuracy: 0.5942 - val_loss: 1.5045 - val_accuracy: 0.4694 loss: 0.9641 - - ETA: 45s - los - ETA: 39s - loss: 0.9684 - accuracy: 0  - ETA: 30s - l - ETA: 3s - loss: 0.9840 - accura - ETA: 3s -\n",
      "Epoch 23/256\n",
      "138533/138533 [==============================] - 54s 389us/sample - loss: 0.9771 - accuracy: 0.5976 - val_loss: 1.5350 - val_accuracy: 0.4138- loss: 0.950 - ETA: 44s - lo - ETA: 39s  - ETA: 8s - loss: 0.9761 -  - ETA: 2s - loss:\n",
      "Epoch 24/256\n",
      "138533/138533 [==============================] - 54s 389us/sample - loss: 0.9749 - accuracy: 0.5982 - val_loss: 1.5098 - val_accuracy: 0.4476s - loss: 0.9534 -  - ETA: 34s - loss: 0.9689  - ETA: 31s - loss: 0.9688 - ac - ETA: 28s - loss: 0.9707 - ac - ETA: 25s - loss: 0.9709 - accur - ETA: 23s - loss: 0.9712 - accuracy: 0. - ETA: 22s - loss: 0.9710 - accuracy: - ET - ETA: 13s - loss: 0.9735 - accuracy: 0.5 - ETA: 13s - \n",
      "Epoch 25/256\n",
      "138533/138533 [==============================] - 54s 388us/sample - loss: 0.9700 - accuracy: 0.6001 - val_loss: 1.5337 - val_accuracy: 0.4382s: 0.95 - ETA: 43s - loss: 0.9601 - ac - ETA: 40s - loss: 0.9603 - accurac - ETA: 38s - loss: 0 - ETA: 34s - loss: 0.962 - ETA: 21s - loss: 0.9647 - accuracy: - ETA: 6s - loss: 0.9680 - accu - ETA: 5s - loss: 0.9683 - accu -\n",
      "Epoch 26/256\n",
      "138533/138533 [==============================] - 54s 389us/sample - loss: 0.9632 - accuracy: 0.6050 - val_loss: 1.5232 - val_accuracy: 0.4342uracy:  - ETA: 0s - loss: 0.9632 - accuracy\n",
      "Epoch 27/256\n",
      "138533/138533 [==============================] - 54s 388us/sample - loss: 0.9600 - accuracy: 0.6053 - val_loss: 1.4437 - val_accuracy: 0.472644s - loss: 0.9320 - accuracy:  - ETA: 43s - loss: 0 - ETA: 21s - loss: 0.9 - ETA: 0s - loss: 0.9602 - accuracy: 0.\n",
      "Epoch 28/256\n",
      "138533/138533 [==============================] - 54s 389us/sample - loss: 0.9537 - accuracy: 0.6073 - val_loss: 1.5427 - val_accuracy: 0.4413\n",
      "Epoch 29/256\n",
      "138533/138533 [==============================] - 54s 389us/sample - loss: 0.9517 - accuracy: 0.6073 - val_loss: 1.4716 - val_accuracy: 0.4667- ETA: 29s -  - ETA: 14s - loss: 0.9482 - acc - ETA: 12s - loss: 0.9497 - accu - - ETA: 1s - loss: 0.9510 - \n",
      "Epoch 30/256\n",
      "138533/138533 [==============================] - 54s 388us/sample - loss: 0.9454 - accuracy: 0.6125 - val_loss: 1.6153 - val_accuracy: 0.42141s - loss: 0.9293 - accuracy: 0.61 - ETA: 50 - ETA: 44s - loss: 0.9333 - accura - ETA: 42s - loss: 0.9380 - accuracy - ETA: 40s - lo - ETA: 34s - los - ETA: 20s - loss:  - ETA: 1 - ETA: 4s - loss: 0.9452 - accura -\n",
      "Epoch 31/256\n",
      "138533/138533 [==============================] - 54s 389us/sample - loss: 0.9428 - accuracy: 0.6127 - val_loss: 1.5565 - val_accuracy: 0.4452 0.9391  - ETA: 7s - loss: 0.9408 - accuracy: 0.61 - ETA: 7s -\n",
      "Epoch 32/256\n",
      "138533/138533 [==============================] - 54s 389us/sample - loss: 0.9364 - accuracy: 0.6164 - val_loss: 1.5526 - val_accuracy: 0.4283c - ETA: 4 - ETA: 16s - loss: 0.9315  - ETA: 6s - loss: 0.9335 - accuracy - ETA: 6s - loss: 0.933\n"
     ]
    }
   ],
   "source": [
    "import os\n",
    "if not os.path.exists(\"../Output/CheckPoint/axis1/\"):\n",
    "    os.makedirs(\"../Output/CheckPoint/axis1/\")\n",
    "    \n",
    "cp_cb = tf.keras.callbacks.ModelCheckpoint(filepath=\"../Output/CheckPoint/axis1/model06083_{epoch:02d}-{loss:.2f}-{accuracy:.2f}-{val_loss:.2f}-{val_accuracy:.2f}.hdf5\", \n",
    "                                           monitor='val_loss', verbose=0, save_best_only=True, mode='auto')\n",
    "es_cb = tf.keras.callbacks.EarlyStopping(monitor='val_loss', patience=30, verbose=0, mode='auto')\n",
    "history = model.fit([X_train1, X_train2, X_train3], Y_train, epochs=256, batch_size=512, validation_data=([X_val1, X_val2, X_val3], Y_val), callbacks=[cp_cb, es_cb])"
   ]
  },
  {
   "cell_type": "code",
   "execution_count": 28,
   "metadata": {},
   "outputs": [
    {
     "data": {
      "image/png": "[encoded data removed]",
      "text/plain": [
       "<Figure size 432x288 with 1 Axes>"
      ]
     },
     "metadata": {
      "needs_background": "light"
     },
     "output_type": "display_data"
    },
    {
     "data": {
      "image/png": "[encoded data removed]",
      "text/plain": [
       "<Figure size 432x288 with 1 Axes>"
      ]
     },
     "metadata": {
      "needs_background": "light"
     },
     "output_type": "display_data"
    }
   ],
   "source": [
    "# Plot training & validation accuracy values\n",
    "plt.plot(history.history['accuracy'])\n",
    "plt.plot(history.history['val_accuracy'])\n",
    "plt.title('Model accuracy')\n",
    "plt.ylabel('Accuracy')\n",
    "plt.xlabel('Epoch')\n",
    "plt.legend(['Train', 'Test'], loc='upper left')\n",
    "plt.show()\n",
    "\n",
    "# Plot training & validation loss values\n",
    "plt.plot(history.history['loss'])\n",
    "plt.plot(history.history['val_loss'])\n",
    "plt.title('Model loss')\n",
    "plt.ylabel('Loss')\n",
    "plt.xlabel('Epoch')\n",
    "plt.legend(['Train', 'Test'], loc='upper left')\n",
    "# plt.ylim((0, 3.5))\n",
    "plt.show()"
   ]
  },
  {
   "cell_type": "code",
   "execution_count": 29,
   "metadata": {},
   "outputs": [],
   "source": [
    "model = tf.keras.models.load_model(\"../Output/CheckPoint/axis1/model06082_02-1.16-0.51-1.30-0.47.hdf5\")"
   ]
  },
  {
   "cell_type": "code",
   "execution_count": 30,
   "metadata": {},
   "outputs": [
    {
     "name": "stdout",
     "output_type": "stream",
     "text": [
      "(10207,)\n"
     ]
    },
    {
     "data": {
      "text/plain": [
       "0.439"
      ]
     },
     "execution_count": 30,
     "metadata": {},
     "output_type": "execute_result"
    },
    {
     "data": {
      "image/png": "[encoded data removed]",
      "text/plain": [
       "<Figure size 1152x576 with 2 Axes>"
      ]
     },
     "metadata": {
      "needs_background": "light"
     },
     "output_type": "display_data"
    }
   ],
   "source": [
    "# class_names = ['Still', 'Walking', 'Run', 'Bike', 'Car', 'Bus', 'Train', 'Subway']\n",
    "class_names = [\"Still\", \"Car\", \"Bus\", \"Train\", \"Subway\"]\n",
    "predict = np.argmax(model.predict([X_val1, X_val2, X_val3]), axis=1)\n",
    "print(predict.shape)\n",
    "plot_confusion_matrix(Y_val, predict, class_names, False, (16, 8))\n",
    "plt.grid(False)\n",
    "f1_macro = f1_score(Y_val, predict, average='macro')\n",
    "round(f1_macro, 3)"
   ]
  },
  {
   "cell_type": "code",
   "execution_count": null,
   "metadata": {},
   "outputs": [],
   "source": [
    "model = tf.keras.models.load_model(\"../Output/CheckPoint/mag_norm/model0528_07-0.87-0.67-1.54-0.45.hdf5\")"
   ]
  },
  {
   "cell_type": "code",
   "execution_count": null,
   "metadata": {},
   "outputs": [],
   "source": [
    "class_names = ['Still', 'Walking', 'Run', 'Bike', 'Car', 'Bus', 'Train', 'Subway']\n",
    "# class_names = [\"Still\", \"Car\", \"Bus\", \"Train\", \"Subway\"]\n",
    "predict = np.argmax(model.predict([x_test1, x_test2, x_test3]), axis=1)\n",
    "print(predict.shape)\n",
    "plot_confusion_matrix(y_test, predict, class_names, False, (16, 8))\n",
    "plt.grid(False)\n",
    "f1_macro = f1_score(y_test, predict, average='macro')\n",
    "round(f1_macro, 3)"
   ]
  },
  {
   "cell_type": "code",
   "execution_count": null,
   "metadata": {},
   "outputs": [],
   "source": [
    "%reset"
   ]
  },
  {
   "cell_type": "code",
   "execution_count": null,
   "metadata": {},
   "outputs": [],
   "source": [
    "import numpy as np\n",
    "import os\n",
    "import random\n",
    "import scipy\n",
    "from scipy import signal\n",
    "from numpy.fft import fft\n",
    "from sklearn.metrics import confusion_matrix\n",
    "from sklearn.metrics import f1_score\n",
    "\n",
    "import tensorflow as tf\n",
    "from tensorflow.keras import layers, models\n",
    "from tensorflow.keras.initializers import he_normal\n",
    "from tensorflow.python.keras.utils.vis_utils import plot_model\n",
    "\n",
    "from sklearn.model_selection import train_test_split\n",
    "\n",
    "import pandas as pd\n",
    "import pickle\n",
    "\n",
    "import seaborn as sns\n",
    "sns.set(font='Yu Gothic')\n",
    "import matplotlib.pyplot as plt\n",
    "%matplotlib inline\n",
    "\n",
    "from tqdm import tqdm\n",
    "\n",
    "from IPython.core.display import display, HTML\n",
    "display(HTML(\"<style>.container { width:90% !important; }</style>\"))"
   ]
  },
  {
   "cell_type": "code",
   "execution_count": null,
   "metadata": {},
   "outputs": [],
   "source": [
    "def plot_confusion_matrix(test_y,pred_y,class_names,normalize=False, figsize=(16, 8)):\n",
    "    cm = confusion_matrix(test_y,pred_y)\n",
    "    # classes = class_names[unique_labels(test_y,pred_y)]\n",
    "    if normalize:\n",
    "        cm = cm.astype('float') / cm.sum(axis=1)[:, np.newaxis]\n",
    "    fig, ax = plt.subplots(figsize=figsize)\n",
    "    im = ax.imshow(cm, interpolation='nearest', cmap=plt.cm.Blues)\n",
    "    ax.figure.colorbar(im, ax=ax)\n",
    "    ax.set(xticks=np.arange(cm.shape[1]),\n",
    "           yticks=np.arange(cm.shape[0]),\n",
    "           xticklabels=class_names,\n",
    "           yticklabels=class_names,\n",
    "           ylabel='True label\\n',\n",
    "           xlabel='\\nPredicted label')\n",
    "    fmt = '.2f' if normalize else 'd'\n",
    "    for i in range(cm.shape[0]):\n",
    "        for j in range(cm.shape[1]):\n",
    "            ax.text(j,\n",
    "                    i,\n",
    "                    format(cm[i, j], fmt),\n",
    "                    ha=\"center\",\n",
    "                    va=\"center\",\n",
    "                    color=\"red\", fontsize=16)\n",
    "    fig.tight_layout()\n",
    "    return ax"
   ]
  },
  {
   "cell_type": "code",
   "execution_count": null,
   "metadata": {},
   "outputs": [],
   "source": [
    "def load_npy(kind, hold_position):\n",
    "    file_path = \"../Output/\" + kind + \"/\" + kind + \"_\" + hold_position + \"/\" + kind + \"_\" + hold_position + \"_\"\n",
    "    mag = np.load(file_path + \"glo_mag_norm_spectram.npy\")[:, :40]\n",
    "    lacc = np.load(file_path + \"glo_lacc_norm_spectram.npy\")[:, :64]\n",
    "    gyr = np.load(file_path + \"glo_gyr_norm_spectram.npy\")[:, :64]\n",
    "    mag = mag.reshape([-1, mag.shape[1], mag.shape[2], 1])\n",
    "    lacc = lacc.reshape([-1, lacc.shape[1], lacc.shape[2], 1])\n",
    "    gyr = gyr.reshape([-1, gyr.shape[1], gyr.shape[2], 1])\n",
    "    return mag, lacc, gyr"
   ]
  },
  {
   "cell_type": "code",
   "execution_count": null,
   "metadata": {},
   "outputs": [],
   "source": [
    "def predict_func(x1, x2, x3):\n",
    "    model = tf.keras.models.load_model(\"../Output/CheckPoint/mag_norm/model0604_02-0.82-0.67-1.03-0.57.hdf5\")\n",
    "    predict = np.argmax(model.predict([x1, x2, x3]), axis=1)\n",
    "    return predict"
   ]
  },
  {
   "cell_type": "code",
   "execution_count": null,
   "metadata": {},
   "outputs": [],
   "source": [
    "def save_npy(kind, hold_position, x):\n",
    "    np.save(kind + \"_\" + hold_position + \"_spectram_predict_0604\", x)"
   ]
  },
  {
   "cell_type": "code",
   "execution_count": null,
   "metadata": {},
   "outputs": [],
   "source": [
    "def flow(kind, hold_position):\n",
    "    label = np.load(\"../Data/センサ別npyファイル/\" + kind + \"/\" + kind + \"_Bag/\" + kind + \"_Bag_Label.npy\")[:, 0].reshape([-1])\n",
    "    x1, x2, x3 = load_npy(kind, hold_position)\n",
    "    predict = predict_func(x1, x2, x3)\n",
    "    save_npy(kind, hold_position, predict.reshape([-1, 1]))"
   ]
  },
  {
   "cell_type": "code",
   "execution_count": null,
   "metadata": {},
   "outputs": [],
   "source": [
    "kinds = [\"train\", \"validation\"]\n",
    "hold_positions = [\"Bag\", \"Hips\", \"Torso\", \"Hand\"]\n",
    "\n",
    "i = 0\n",
    "for kind in kinds:\n",
    "    for hold_position in tqdm(hold_positions):\n",
    "#         i += 1\n",
    "#         if i == 1:\n",
    "#             continue\n",
    "        flow(kind, hold_position)"
   ]
  },
  {
   "cell_type": "code",
   "execution_count": null,
   "metadata": {},
   "outputs": [],
   "source": []
  }
 ],
 "metadata": {
  "kernelspec": {
   "display_name": "Python 3",
   "language": "python",
   "name": "python3"
  },
  "language_info": {
   "codemirror_mode": {
    "name": "ipython",
    "version": 3
   },
   "file_extension": ".py",
   "mimetype": "text/x-python",
   "name": "python",
   "nbconvert_exporter": "python",
   "pygments_lexer": "ipython3",
   "version": "3.7.6"
  }
 },
 "nbformat": 4,
 "nbformat_minor": 4
}
